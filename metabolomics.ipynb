{
 "cells": [
  {
   "cell_type": "code",
   "execution_count": null,
   "id": "8c471a00",
   "metadata": {},
   "outputs": [],
   "source": [
    "%load_ext autoreload\n",
    "%autoreload 2\n"
   ]
  },
  {
   "cell_type": "code",
   "execution_count": null,
   "id": "e39a3b30",
   "metadata": {},
   "outputs": [],
   "source": [
    "#pip install spectrum_utils"
   ]
  },
  {
   "cell_type": "code",
   "execution_count": null,
   "id": "37b02382",
   "metadata": {},
   "outputs": [],
   "source": [
    "#pip install pyteomics"
   ]
  },
  {
   "cell_type": "code",
   "execution_count": 4,
   "id": "bb6b10ea",
   "metadata": {},
   "outputs": [],
   "source": [
    "#!pip install rdkit"
   ]
  },
  {
   "cell_type": "code",
   "execution_count": 5,
   "id": "31369bde",
   "metadata": {},
   "outputs": [],
   "source": [
    "from rdkit import Chem\n",
    "from rdkit.Chem import AllChem\n",
    "from rdkit.Chem import DataStructs"
   ]
  },
  {
   "cell_type": "code",
   "execution_count": 6,
   "id": "09cd9760",
   "metadata": {},
   "outputs": [],
   "source": [
    "import logging\n",
    "from typing import Dict, IO, Iterator, Sequence, Union\n",
    "from pyteomics import mgf\n",
    "import pyteomics\n",
    "from spectrum_utils.spectrum import MsmsSpectrum\n",
    "import matplotlib.pyplot as plt\n",
    "import spectrum_utils.plot as sup\n",
    "import spectrum_utils as su\n",
    "import numpy as np\n",
    "from src.load_data import LoadData\n",
    "from spectrum_utils import plot\n",
    "from src.preprocessor import Preprocessor\n",
    "from src.ml_model import MlModel\n",
    "from src.tanimoto import Tanimoto\n",
    "from sklearn.model_selection import train_test_split\n",
    "from src.plotting import Plotting\n",
    "import pickle\n",
    "from src.cosine_distance import CosineDistance"
   ]
  },
  {
   "cell_type": "code",
   "execution_count": 7,
   "id": "c897234a",
   "metadata": {},
   "outputs": [],
   "source": [
    "from tqdm import tqdm"
   ]
  },
  {
   "cell_type": "code",
   "execution_count": 8,
   "id": "36b914a0",
   "metadata": {},
   "outputs": [],
   "source": [
    "from src.spectrum_ext import SpectrumExt"
   ]
  },
  {
   "cell_type": "code",
   "execution_count": 9,
   "id": "7a822249",
   "metadata": {},
   "outputs": [],
   "source": [
    "from src.train_utils import TrainUtils\n",
    "from sklearn.metrics import r2_score"
   ]
  },
  {
   "cell_type": "code",
   "execution_count": 10,
   "id": "f28856af",
   "metadata": {},
   "outputs": [],
   "source": [
    "pp =Preprocessor()"
   ]
  },
  {
   "cell_type": "code",
   "execution_count": 11,
   "id": "662c3819",
   "metadata": {},
   "outputs": [],
   "source": [
    "## THINGS TO DO:\n",
    "# ADD ADITIONAL VARIABLES TO VECTOR\n",
    "# TRAIN FOR MORE TIME"
   ]
  },
  {
   "cell_type": "code",
   "execution_count": null,
   "id": "65e6b659",
   "metadata": {},
   "outputs": [],
   "source": []
  },
  {
   "cell_type": "markdown",
   "id": "1eabd906",
   "metadata": {},
   "source": [
    "## Parameters"
   ]
  },
  {
   "cell_type": "code",
   "execution_count": 12,
   "id": "34ca1064",
   "metadata": {},
   "outputs": [],
   "source": [
    "mgf_path = r\"C:\\Users\\ramir\\Downloads\\ALL_GNPS_NO_PROPOGATED.mgf\""
   ]
  },
  {
   "cell_type": "markdown",
   "id": "1e2fa89a",
   "metadata": {},
   "source": [
    "## Load data + preprocessing"
   ]
  },
  {
   "cell_type": "code",
   "execution_count": 13,
   "id": "c0868304",
   "metadata": {},
   "outputs": [
    {
     "name": "stderr",
     "output_type": "stream",
     "text": [
      " 50%|█████     | 503801/1000000 [03:53<03:49, 2160.76it/s] \n"
     ]
    },
    {
     "name": "stdout",
     "output_type": "stream",
     "text": [
      "We reached the end of the array at index 503801\n"
     ]
    }
   ],
   "source": [
    "all_spectrums_original = LoadData.get_all_spectrums(mgf_path,1000000)"
   ]
  },
  {
   "cell_type": "code",
   "execution_count": 14,
   "id": "5da3d0c7",
   "metadata": {},
   "outputs": [
    {
     "data": {
      "text/plain": [
       "503801"
      ]
     },
     "execution_count": 14,
     "metadata": {},
     "output_type": "execute_result"
    }
   ],
   "source": [
    "len(all_spectrums_original)"
   ]
  },
  {
   "cell_type": "code",
   "execution_count": 15,
   "id": "0e13b5f8",
   "metadata": {},
   "outputs": [
    {
     "name": "stderr",
     "output_type": "stream",
     "text": [
      "503801it [00:26, 19319.50it/s]\n",
      "100020it [00:06, 16617.28it/s]\n"
     ]
    }
   ],
   "source": [
    "#preprocess \n",
    "all_spectrums = pp.preprocess_all_spectrums(all_spectrums_original)"
   ]
  },
  {
   "cell_type": "code",
   "execution_count": 16,
   "id": "9ed57bb6",
   "metadata": {},
   "outputs": [
    {
     "data": {
      "text/plain": [
       "100020"
      ]
     },
     "execution_count": 16,
     "metadata": {},
     "output_type": "execute_result"
    }
   ],
   "source": [
    "len(all_spectrums)"
   ]
  },
  {
   "cell_type": "markdown",
   "id": "a6a42e4e",
   "metadata": {},
   "source": [
    "## Divide data into training/test  + computing similarity score"
   ]
  },
  {
   "cell_type": "code",
   "execution_count": 17,
   "id": "8a55ca6a",
   "metadata": {},
   "outputs": [],
   "source": [
    "# divide train and test\n",
    "all_spectrums_train, all_spectrums_test = train_test_split(all_spectrums)"
   ]
  },
  {
   "cell_type": "code",
   "execution_count": null,
   "id": "2a84a163",
   "metadata": {},
   "outputs": [
    {
     "name": "stderr",
     "output_type": "stream",
     "text": [
      " 92%|█████████▏| 9249227/10000000 [1:24:58<06:44, 1856.41it/s]"
     ]
    }
   ],
   "source": [
    "molecule_pairs_train= TrainUtils.compute_all_tanimoto_results(all_spectrums_train, max_combinations=10**7)"
   ]
  },
  {
   "cell_type": "code",
   "execution_count": null,
   "id": "9aeb1a9d",
   "metadata": {},
   "outputs": [],
   "source": [
    "molecule_pairs_test = TrainUtils.compute_all_tanimoto_results(all_spectrums_test, max_combinations=10**5)"
   ]
  },
  {
   "cell_type": "markdown",
   "id": "ac9cbd80",
   "metadata": {},
   "source": [
    "## Save data"
   ]
  },
  {
   "cell_type": "code",
   "execution_count": null,
   "id": "c1438081",
   "metadata": {},
   "outputs": [],
   "source": [
    "import pickle\n",
    "# Dump the dictionary to a file using pickle\n",
    "\n",
    "dataset ={'all_spectrums_train':all_spectrums_train,\n",
    "          'all_spectrums_test': all_spectrums_test,\n",
    "          'molecule_pairs_train':molecule_pairs_train,\n",
    "          'molecule_pairs_test': molecule_pairs_test,\n",
    "         }\n",
    "with open('./dataset_processed.pkl', 'wb') as file:\n",
    "    pickle.dump(dataset, file)"
   ]
  },
  {
   "cell_type": "markdown",
   "id": "76683a50",
   "metadata": {},
   "source": [
    "## Load data"
   ]
  },
  {
   "cell_type": "code",
   "execution_count": null,
   "id": "9a2201e1",
   "metadata": {},
   "outputs": [],
   "source": [
    "#import pickle\n",
    "\n",
    "# Load the dataset from the pickle file\n",
    "#with open('./dataset_processed.pkl', 'rb') as file:\n",
    "#    dataset = pickle.load(file)\n",
    "\n",
    "# Now you can access the original variables from the dataset dictionary\n",
    "#all_spectrums_train = dataset['all_spectrums_train']\n",
    "#all_spectrums_test = dataset['all_spectrums_test']\n",
    "#molecule_pairs_train = dataset['molecule_pairs_train']\n",
    "#molecule_pairs_test = dataset['molecule_pairs_test']\n"
   ]
  },
  {
   "cell_type": "markdown",
   "id": "27afc543",
   "metadata": {},
   "source": [
    "## Balance the data"
   ]
  },
  {
   "cell_type": "code",
   "execution_count": null,
   "id": "c5e4e09d",
   "metadata": {},
   "outputs": [],
   "source": [
    "plt.hist([m.similarity for m in molecule_pairs_train], bins=3)"
   ]
  },
  {
   "cell_type": "code",
   "execution_count": null,
   "id": "5868f937",
   "metadata": {},
   "outputs": [],
   "source": [
    "# get a uniform distribution of taminoto scores\n",
    "uniformed_molecule_pairs_train =TrainUtils.uniformise(molecule_pairs_train)"
   ]
  },
  {
   "cell_type": "code",
   "execution_count": null,
   "id": "9b1f4558",
   "metadata": {},
   "outputs": [],
   "source": [
    "_=plt.hist([m.similarity for m in uniformed_molecule_pairs_train], bins=3)"
   ]
  },
  {
   "cell_type": "markdown",
   "id": "cb53aee0",
   "metadata": {},
   "source": [
    "## Train Siamese model"
   ]
  },
  {
   "cell_type": "code",
   "execution_count": null,
   "id": "5d127ee2",
   "metadata": {},
   "outputs": [],
   "source": []
  },
  {
   "cell_type": "code",
   "execution_count": null,
   "id": "895aa932",
   "metadata": {},
   "outputs": [],
   "source": [
    "model = MlModel(input_dim=all_spectrums_train[0].spectrum_vector.shape[0])"
   ]
  },
  {
   "cell_type": "code",
   "execution_count": null,
   "id": "032151d6",
   "metadata": {},
   "outputs": [],
   "source": [
    "model.compile()"
   ]
  },
  {
   "cell_type": "code",
   "execution_count": null,
   "id": "5893fb0d",
   "metadata": {},
   "outputs": [],
   "source": [
    "model.fit(uniformed_molecule_pairs_train, epochs=100)"
   ]
  },
  {
   "cell_type": "code",
   "execution_count": null,
   "id": "fac30cc0",
   "metadata": {},
   "outputs": [],
   "source": [
    "model.load_best_model()\n",
    "\n"
   ]
  },
  {
   "cell_type": "markdown",
   "id": "63de4468",
   "metadata": {},
   "source": [
    "## Evaluate performance"
   ]
  },
  {
   "cell_type": "code",
   "execution_count": null,
   "id": "ad95eeca",
   "metadata": {
    "scrolled": true
   },
   "outputs": [],
   "source": [
    "prediction_results_train = model.predict(uniformed_molecule_pairs_train)"
   ]
  },
  {
   "cell_type": "code",
   "execution_count": null,
   "id": "fdc6b618",
   "metadata": {},
   "outputs": [],
   "source": [
    "plt.hist(prediction_results_train, bins=10)"
   ]
  },
  {
   "cell_type": "code",
   "execution_count": null,
   "id": "90813146",
   "metadata": {},
   "outputs": [],
   "source": [
    "# get a uniform distribution of taminoto scores\n",
    "uniformed_molecule_pairs_test =TrainUtils.uniformise(molecule_pairs_test)"
   ]
  },
  {
   "cell_type": "code",
   "execution_count": null,
   "id": "6f10526f",
   "metadata": {},
   "outputs": [],
   "source": [
    "prediction_results_test = model.predict(uniformed_molecule_pairs_test)"
   ]
  },
  {
   "cell_type": "code",
   "execution_count": null,
   "id": "151718ba",
   "metadata": {},
   "outputs": [],
   "source": [
    "\n",
    "plt.scatter([m.similarity for m in uniformed_molecule_pairs_train], prediction_results_train, alpha=0.01)\n",
    "plt.title('Prediction of Taminoto score (TRAIN)')\n",
    "plt.xlabel('true')\n",
    "plt.ylabel('pred')\n",
    "plt.grid()"
   ]
  },
  {
   "cell_type": "code",
   "execution_count": null,
   "id": "47ad2b7d",
   "metadata": {},
   "outputs": [],
   "source": [
    "plt.plot([m.similarity for m in uniformed_molecule_pairs_test])"
   ]
  },
  {
   "cell_type": "code",
   "execution_count": null,
   "id": "2296ebeb",
   "metadata": {},
   "outputs": [],
   "source": [
    "plt.plot(prediction_results_test)"
   ]
  },
  {
   "cell_type": "code",
   "execution_count": null,
   "id": "22a8fe82",
   "metadata": {},
   "outputs": [],
   "source": [
    "plt.scatter([m.similarity for m in uniformed_molecule_pairs_test], prediction_results_test, alpha=1)\n",
    "plt.title('Prediction of Taminoto score (test)')\n",
    "plt.xlabel('true')\n",
    "plt.ylabel('pred')\n",
    "plt.grid()"
   ]
  },
  {
   "cell_type": "code",
   "execution_count": null,
   "id": "d51b0ed1",
   "metadata": {},
   "outputs": [],
   "source": [
    "r2_score([m.similarity for m in uniformed_molecule_pairs_test], prediction_results_test)"
   ]
  },
  {
   "cell_type": "code",
   "execution_count": null,
   "id": "42692bd7",
   "metadata": {},
   "outputs": [],
   "source": [
    "from sklearn.metrics import mean_absolute_error, mean_squared_error"
   ]
  },
  {
   "cell_type": "code",
   "execution_count": null,
   "id": "c3d5b25e",
   "metadata": {},
   "outputs": [],
   "source": [
    "mean_squared_error(new_labels, prediction_results_train)"
   ]
  },
  {
   "cell_type": "code",
   "execution_count": null,
   "id": "9f3c0b44",
   "metadata": {},
   "outputs": [],
   "source": [
    "mean_squared_error(labels_test_uniform, y_pred)"
   ]
  },
  {
   "cell_type": "code",
   "execution_count": null,
   "id": "c6babb83",
   "metadata": {},
   "outputs": [],
   "source": [
    "plt.hist(labels_test_uniform)"
   ]
  },
  {
   "cell_type": "code",
   "execution_count": null,
   "id": "f8c2f162",
   "metadata": {},
   "outputs": [],
   "source": [
    "plt.hist(y_pred)\n",
    "plt.grid()\n",
    "plt.title('Histogram predictions')\n",
    "plt.xlabel('prediction')"
   ]
  },
  {
   "cell_type": "markdown",
   "id": "aaab27d9",
   "metadata": {},
   "source": [
    "# equal molecules"
   ]
  },
  {
   "cell_type": "code",
   "execution_count": null,
   "id": "bc712163",
   "metadata": {},
   "outputs": [],
   "source": [
    "high_molecules= [m for m in uniformed_molecule_pairs_train if m.similarity==1]"
   ]
  },
  {
   "cell_type": "code",
   "execution_count": null,
   "id": "fddd1af0",
   "metadata": {},
   "outputs": [],
   "source": [
    "index=11"
   ]
  },
  {
   "cell_type": "code",
   "execution_count": null,
   "id": "63c3f84d",
   "metadata": {},
   "outputs": [],
   "source": [
    "for s in [high_molecules[index].spectrum_object_0, high_molecules[index].spectrum_object_1]:\n",
    "    Plotting.plot_spectrum(s)"
   ]
  },
  {
   "cell_type": "code",
   "execution_count": null,
   "id": "9d724dfc",
   "metadata": {},
   "outputs": [],
   "source": [
    "high_molecules[index].params_0"
   ]
  },
  {
   "cell_type": "code",
   "execution_count": null,
   "id": "5462eca1",
   "metadata": {},
   "outputs": [],
   "source": [
    "high_molecules[index].params_1"
   ]
  },
  {
   "cell_type": "code",
   "execution_count": null,
   "id": "95cea434",
   "metadata": {},
   "outputs": [],
   "source": [
    "Plotting.plot_molecule_pair_spectrum(high_molecules[index])"
   ]
  },
  {
   "cell_type": "code",
   "execution_count": null,
   "id": "dfe22558",
   "metadata": {},
   "outputs": [],
   "source": [
    "CosineDistance.compute_cosine_distance(high_molecules[index].vector_0, high_molecules[index].vector_1)"
   ]
  },
  {
   "cell_type": "code",
   "execution_count": null,
   "id": "b316addc",
   "metadata": {},
   "outputs": [],
   "source": [
    "plt.hist([CosineDistance.compute_cosine_distance(p.vector_0, p.vector_1) for p in high_molecules])"
   ]
  },
  {
   "cell_type": "markdown",
   "id": "2025a0e0",
   "metadata": {},
   "source": [
    "## Low molecules"
   ]
  },
  {
   "cell_type": "code",
   "execution_count": null,
   "id": "0577b1f6",
   "metadata": {},
   "outputs": [],
   "source": [
    "low_molecules= [m for m in uniformed_molecule_pairs_train if m.similarity<0.1]"
   ]
  },
  {
   "cell_type": "code",
   "execution_count": null,
   "id": "4821c0c9",
   "metadata": {},
   "outputs": [],
   "source": [
    "index_low=2"
   ]
  },
  {
   "cell_type": "code",
   "execution_count": null,
   "id": "1f7d2017",
   "metadata": {},
   "outputs": [],
   "source": [
    "Plotting.plot_molecule_pair_spectrum(low_molecules[index_low])\n"
   ]
  },
  {
   "cell_type": "code",
   "execution_count": null,
   "id": "efc84ba5",
   "metadata": {},
   "outputs": [],
   "source": [
    "CosineDistance.compute_cosine_distance(low_molecules[index_low].vector_0, low_molecules[index_low].vector_1)"
   ]
  },
  {
   "cell_type": "code",
   "execution_count": null,
   "id": "090c4134",
   "metadata": {},
   "outputs": [],
   "source": [
    "plt.hist([CosineDistance.compute_cosine_distance(p.vector_0, p.vector_1) for p in low_molecules])"
   ]
  },
  {
   "cell_type": "code",
   "execution_count": null,
   "id": "aa4e796a",
   "metadata": {},
   "outputs": [],
   "source": []
  },
  {
   "cell_type": "code",
   "execution_count": null,
   "id": "ecd30c46",
   "metadata": {},
   "outputs": [],
   "source": []
  },
  {
   "cell_type": "code",
   "execution_count": null,
   "id": "b2b5f816",
   "metadata": {},
   "outputs": [],
   "source": []
  },
  {
   "cell_type": "code",
   "execution_count": null,
   "id": "dc507024",
   "metadata": {},
   "outputs": [],
   "source": [
    "-"
   ]
  }
 ],
 "metadata": {
  "kernelspec": {
   "display_name": "Python 3 (ipykernel)",
   "language": "python",
   "name": "python3"
  },
  "language_info": {
   "codemirror_mode": {
    "name": "ipython",
    "version": 3
   },
   "file_extension": ".py",
   "mimetype": "text/x-python",
   "name": "python",
   "nbconvert_exporter": "python",
   "pygments_lexer": "ipython3",
   "version": "3.11.3"
  }
 },
 "nbformat": 4,
 "nbformat_minor": 5
}
