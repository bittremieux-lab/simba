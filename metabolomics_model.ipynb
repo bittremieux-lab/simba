{
 "cells": [
  {
   "cell_type": "code",
   "execution_count": 1,
   "id": "8c471a00",
   "metadata": {},
   "outputs": [],
   "source": [
    "%load_ext autoreload\n",
    "%autoreload 2\n"
   ]
  },
  {
   "cell_type": "code",
   "execution_count": 2,
   "id": "e39a3b30",
   "metadata": {},
   "outputs": [],
   "source": [
    "#pip install spectrum_utils"
   ]
  },
  {
   "cell_type": "code",
   "execution_count": 3,
   "id": "37b02382",
   "metadata": {},
   "outputs": [],
   "source": [
    "#pip install pyteomics"
   ]
  },
  {
   "cell_type": "code",
   "execution_count": 4,
   "id": "bb6b10ea",
   "metadata": {},
   "outputs": [],
   "source": [
    "#!pip install rdkit"
   ]
  },
  {
   "cell_type": "code",
   "execution_count": 5,
   "id": "31369bde",
   "metadata": {},
   "outputs": [],
   "source": [
    "from rdkit import Chem\n",
    "from rdkit.Chem import AllChem\n",
    "from rdkit.Chem import DataStructs"
   ]
  },
  {
   "cell_type": "code",
   "execution_count": 6,
   "id": "09cd9760",
   "metadata": {},
   "outputs": [],
   "source": [
    "import logging\n",
    "from typing import Dict, IO, Iterator, Sequence, Union\n",
    "from pyteomics import mgf\n",
    "import pyteomics\n",
    "from spectrum_utils.spectrum import MsmsSpectrum\n",
    "import matplotlib.pyplot as plt\n",
    "import spectrum_utils.plot as sup\n",
    "import spectrum_utils as su\n",
    "import numpy as np\n",
    "from src.load_data import LoadData\n",
    "from spectrum_utils import plot\n",
    "from src.preprocessor import Preprocessor\n",
    "from src.ml_model import MlModel\n",
    "from src.tanimoto import Tanimoto\n",
    "from sklearn.model_selection import train_test_split\n",
    "from src.plotting import Plotting\n",
    "import pickle\n",
    "from src.cosine_distance import CosineDistance"
   ]
  },
  {
   "cell_type": "code",
   "execution_count": 7,
   "id": "c897234a",
   "metadata": {},
   "outputs": [],
   "source": [
    "from tqdm import tqdm"
   ]
  },
  {
   "cell_type": "code",
   "execution_count": 8,
   "id": "36b914a0",
   "metadata": {},
   "outputs": [],
   "source": [
    "from src.spectrum_ext import SpectrumExt"
   ]
  },
  {
   "cell_type": "code",
   "execution_count": 9,
   "id": "7a822249",
   "metadata": {},
   "outputs": [],
   "source": [
    "from src.train_utils import TrainUtils\n",
    "from sklearn.metrics import r2_score"
   ]
  },
  {
   "cell_type": "code",
   "execution_count": 10,
   "id": "f28856af",
   "metadata": {},
   "outputs": [],
   "source": [
    "pp =Preprocessor()"
   ]
  },
  {
   "cell_type": "markdown",
   "id": "1eabd906",
   "metadata": {},
   "source": [
    "## Parameters"
   ]
  },
  {
   "cell_type": "code",
   "execution_count": 12,
   "id": "34ca1064",
   "metadata": {},
   "outputs": [],
   "source": [
    "mgf_path = r\"C:\\Users\\ramir\\Downloads\\ALL_GNPS_NO_PROPOGATED_wb.mgf\""
   ]
  },
  {
   "cell_type": "markdown",
   "id": "1e2fa89a",
   "metadata": {},
   "source": [
    "## Load data + preprocessing"
   ]
  },
  {
   "cell_type": "code",
   "execution_count": 13,
   "id": "c0868304",
   "metadata": {},
   "outputs": [
    {
     "name": "stderr",
     "output_type": "stream",
     "text": [
      " 21%|██        | 208/1000 [00:08<00:18, 41.70it/s]"
     ]
    },
    {
     "name": "stdout",
     "output_type": "stream",
     "text": [
      "Raise AtomValenceException, return basic Murcko Scaffold\n",
      "Raise AtomValenceException, return basic Murcko Scaffold\n",
      "Raise AtomValenceException, return basic Murcko Scaffold\n",
      "Raise AtomValenceException, return basic Murcko Scaffold\n",
      "Raise AtomValenceException, return basic Murcko Scaffold\n",
      "Raise AtomValenceException, return basic Murcko Scaffold\n",
      "Raise AtomValenceException, return basic Murcko Scaffold\n",
      "Raise AtomValenceException, return basic Murcko Scaffold\n",
      "Raise AtomValenceException, return basic Murcko Scaffold\n",
      "Raise AtomValenceException, return basic Murcko Scaffold\n",
      "Raise AtomValenceException, return basic Murcko Scaffold\n",
      "Raise AtomValenceException, return basic Murcko Scaffold\n",
      "Raise AtomValenceException, return basic Murcko Scaffold\n",
      "Raise AtomValenceException, return basic Murcko Scaffold\n",
      "Raise AtomValenceException, return basic Murcko Scaffold\n",
      "Raise AtomValenceException, return basic Murcko Scaffold\n",
      "Raise AtomValenceException, return basic Murcko Scaffold\n",
      "Raise AtomValenceException, return basic Murcko Scaffold\n",
      "Raise AtomValenceException, return basic Murcko Scaffold\n",
      "Raise AtomValenceException, return basic Murcko Scaffold\n",
      "Raise AtomValenceException, return basic Murcko Scaffold\n",
      "Raise AtomValenceException, return basic Murcko Scaffold\n",
      "Raise AtomValenceException, return basic Murcko Scaffold\n",
      "Raise AtomValenceException, return basic Murcko Scaffold\n",
      "Raise AtomValenceException, return basic Murcko Scaffold\n",
      "Raise AtomValenceException, return basic Murcko Scaffold\n",
      "Raise AtomValenceException, return basic Murcko Scaffold\n",
      "Raise AtomValenceException, return basic Murcko Scaffold\n",
      "Raise AtomValenceException, return basic Murcko Scaffold\n",
      "Raise AtomValenceException, return basic Murcko Scaffold\n",
      "Raise AtomValenceException, return basic Murcko Scaffold\n",
      "Raise AtomValenceException, return basic Murcko Scaffold\n",
      "Raise AtomValenceException, return basic Murcko Scaffold\n",
      "Raise AtomValenceException, return basic Murcko Scaffold\n",
      "Raise AtomValenceException, return basic Murcko Scaffold\n",
      "Raise AtomValenceException, return basic Murcko Scaffold\n",
      "Raise AtomValenceException, return basic Murcko Scaffold\n",
      "Raise AtomValenceException, return basic Murcko Scaffold\n",
      "Raise AtomValenceException, return basic Murcko Scaffold\n",
      "Raise AtomValenceException, return basic Murcko Scaffold\n",
      "Raise AtomValenceException, return basic Murcko Scaffold\n",
      "Raise AtomValenceException, return basic Murcko Scaffold\n",
      "Raise AtomValenceException, return basic Murcko Scaffold\n",
      "Raise AtomValenceException, return basic Murcko Scaffold\n",
      "Raise AtomValenceException, return basic Murcko Scaffold\n",
      "Raise AtomValenceException, return basic Murcko Scaffold\n",
      "Raise AtomValenceException, return basic Murcko Scaffold\n",
      "Raise AtomValenceException, return basic Murcko Scaffold\n",
      "Raise AtomValenceException, return basic Murcko Scaffold\n",
      "Raise AtomValenceException, return basic Murcko Scaffold\n",
      "Raise AtomValenceException, return basic Murcko Scaffold\n",
      "Raise AtomValenceException, return basic Murcko Scaffold\n",
      "Raise AtomValenceException, return basic Murcko Scaffold\n",
      "Raise AtomValenceException, return basic Murcko Scaffold\n",
      "Raise AtomValenceException, return basic Murcko Scaffold\n",
      "Raise AtomValenceException, return basic Murcko Scaffold\n",
      "Raise AtomValenceException, return basic Murcko Scaffold\n",
      "Raise AtomValenceException, return basic Murcko Scaffold\n",
      "Raise AtomValenceException, return basic Murcko Scaffold\n",
      "Raise AtomValenceException, return basic Murcko Scaffold\n",
      "Raise AtomValenceException, return basic Murcko Scaffold\n",
      "Raise AtomValenceException, return basic Murcko Scaffold\n",
      "Raise AtomValenceException, return basic Murcko Scaffold\n",
      "Raise AtomValenceException, return basic Murcko Scaffold\n",
      "Raise AtomValenceException, return basic Murcko Scaffold\n",
      "Raise AtomValenceException, return basic Murcko Scaffold\n",
      "Raise AtomValenceException, return basic Murcko Scaffold\n",
      "Raise AtomValenceException, return basic Murcko Scaffold\n",
      "Raise AtomValenceException, return basic Murcko Scaffold\n",
      "Raise AtomValenceException, return basic Murcko Scaffold\n",
      "Raise AtomValenceException, return basic Murcko Scaffold\n",
      "Raise AtomValenceException, return basic Murcko Scaffold\n",
      "Raise AtomValenceException, return basic Murcko Scaffold\n",
      "Raise AtomValenceException, return basic Murcko Scaffold\n",
      "Raise AtomValenceException, return basic Murcko Scaffold\n",
      "Raise AtomValenceException, return basic Murcko Scaffold\n",
      "Raise AtomValenceException, return basic Murcko Scaffold\n",
      "Raise AtomValenceException, return basic Murcko Scaffold\n",
      "Raise AtomValenceException, return basic Murcko Scaffold\n",
      "Raise AtomValenceException, return basic Murcko Scaffold\n",
      "Raise AtomValenceException, return basic Murcko Scaffold\n",
      "Raise AtomValenceException, return basic Murcko Scaffold\n",
      "Raise AtomValenceException, return basic Murcko Scaffold\n",
      "Raise AtomValenceException, return basic Murcko Scaffold\n",
      "Raise AtomValenceException, return basic Murcko Scaffold\n",
      "Raise AtomValenceException, return basic Murcko Scaffold\n",
      "Raise AtomValenceException, return basic Murcko Scaffold\n",
      "Raise AtomValenceException, return basic Murcko Scaffold\n",
      "Raise AtomValenceException, return basic Murcko Scaffold\n",
      "Raise AtomValenceException, return basic Murcko Scaffold\n",
      "Raise AtomValenceException, return basic Murcko Scaffold\n",
      "Raise AtomValenceException, return basic Murcko Scaffold\n",
      "Raise AtomValenceException, return basic Murcko Scaffold\n",
      "Raise AtomValenceException, return basic Murcko Scaffold\n",
      "Raise AtomValenceException, return basic Murcko Scaffold\n",
      "Raise AtomValenceException, return basic Murcko Scaffold\n",
      "Raise AtomValenceException, return basic Murcko Scaffold\n",
      "Raise AtomValenceException, return basic Murcko Scaffold\n",
      "Raise AtomValenceException, return basic Murcko Scaffold\n",
      "Raise AtomValenceException, return basic Murcko Scaffold\n",
      "Raise AtomValenceException, return basic Murcko Scaffold\n",
      "Raise AtomValenceException, return basic Murcko Scaffold\n",
      "Raise AtomValenceException, return basic Murcko Scaffold\n",
      "Raise AtomValenceException, return basic Murcko Scaffold\n",
      "Raise AtomValenceException, return basic Murcko Scaffold\n",
      "Raise AtomValenceException, return basic Murcko Scaffold\n",
      "Raise AtomValenceException, return basic Murcko Scaffold\n",
      "Raise AtomValenceException, return basic Murcko Scaffold\n",
      "Raise AtomValenceException, return basic Murcko Scaffold\n",
      "Raise AtomValenceException, return basic Murcko Scaffold\n",
      "Raise AtomValenceException, return basic Murcko Scaffold\n",
      "Raise AtomValenceException, return basic Murcko Scaffold\n",
      "Raise AtomValenceException, return basic Murcko Scaffold\n",
      "Raise AtomValenceException, return basic Murcko Scaffold\n",
      "Raise AtomValenceException, return basic Murcko Scaffold\n",
      "Raise AtomValenceException, return basic Murcko Scaffold\n",
      "Raise AtomValenceException, return basic Murcko Scaffold\n",
      "Raise AtomValenceException, return basic Murcko Scaffold\n",
      "Raise AtomValenceException, return basic Murcko Scaffold\n",
      "Raise AtomValenceException, return basic Murcko Scaffold\n",
      "Raise AtomValenceException, return basic Murcko Scaffold\n",
      "Raise AtomValenceException, return basic Murcko Scaffold\n",
      "Raise AtomValenceException, return basic Murcko Scaffold\n",
      "Raise AtomValenceException, return basic Murcko Scaffold\n",
      "Raise AtomValenceException, return basic Murcko Scaffold\n",
      "Raise AtomValenceException, return basic Murcko Scaffold\n",
      "Raise AtomValenceException, return basic Murcko Scaffold\n",
      "Raise AtomValenceException, return basic Murcko Scaffold\n",
      "Raise AtomValenceException, return basic Murcko Scaffold\n",
      "Raise AtomValenceException, return basic Murcko Scaffold\n",
      "Raise AtomValenceException, return basic Murcko Scaffold\n",
      "Raise AtomValenceException, return basic Murcko Scaffold\n",
      "Raise AtomValenceException, return basic Murcko Scaffold\n",
      "Raise AtomValenceException, return basic Murcko Scaffold\n",
      "Raise AtomValenceException, return basic Murcko Scaffold\n",
      "Raise AtomValenceException, return basic Murcko Scaffold\n",
      "Raise AtomValenceException, return basic Murcko Scaffold\n",
      "Raise AtomValenceException, return basic Murcko Scaffold\n",
      "Raise AtomValenceException, return basic Murcko Scaffold\n",
      "Raise AtomValenceException, return basic Murcko Scaffold\n",
      "Raise AtomValenceException, return basic Murcko Scaffold\n",
      "Raise AtomValenceException, return basic Murcko Scaffold\n",
      "Raise AtomValenceException, return basic Murcko Scaffold\n",
      "Raise AtomValenceException, return basic Murcko Scaffold\n",
      "Raise AtomValenceException, return basic Murcko Scaffold\n",
      "Raise AtomValenceException, return basic Murcko Scaffold\n",
      "Raise AtomValenceException, return basic Murcko Scaffold\n",
      "Raise AtomValenceException, return basic Murcko Scaffold\n",
      "Raise AtomValenceException, return basic Murcko Scaffold\n",
      "Raise AtomValenceException, return basic Murcko Scaffold\n",
      "Raise AtomValenceException, return basic Murcko Scaffold\n",
      "Raise AtomValenceException, return basic Murcko Scaffold\n",
      "Raise AtomValenceException, return basic Murcko Scaffold\n",
      "Raise AtomValenceException, return basic Murcko Scaffold\n",
      "Raise AtomValenceException, return basic Murcko Scaffold\n",
      "Raise AtomValenceException, return basic Murcko Scaffold\n",
      "Raise AtomValenceException, return basic Murcko Scaffold\n",
      "Raise AtomValenceException, return basic Murcko Scaffold\n",
      "Raise AtomValenceException, return basic Murcko Scaffold\n",
      "Raise AtomValenceException, return basic Murcko Scaffold\n",
      "Raise AtomValenceException, return basic Murcko Scaffold\n",
      "Raise AtomValenceException, return basic Murcko Scaffold\n",
      "Raise AtomValenceException, return basic Murcko Scaffold\n",
      "Raise AtomValenceException, return basic Murcko Scaffold\n",
      "Raise AtomValenceException, return basic Murcko Scaffold\n",
      "Raise AtomValenceException, return basic Murcko Scaffold\n",
      "Raise AtomValenceException, return basic Murcko Scaffold\n",
      "Raise AtomValenceException, return basic Murcko Scaffold\n",
      "Raise AtomValenceException, return basic Murcko Scaffold\n",
      "Raise AtomValenceException, return basic Murcko Scaffold\n",
      "Raise AtomValenceException, return basic Murcko Scaffold\n",
      "Raise AtomValenceException, return basic Murcko Scaffold\n",
      "Raise AtomValenceException, return basic Murcko Scaffold\n",
      "Raise AtomValenceException, return basic Murcko Scaffold\n",
      "Raise AtomValenceException, return basic Murcko Scaffold\n",
      "Raise AtomValenceException, return basic Murcko Scaffold\n",
      "Raise AtomValenceException, return basic Murcko Scaffold\n",
      "Raise AtomValenceException, return basic Murcko Scaffold\n",
      "Raise AtomValenceException, return basic Murcko Scaffold\n",
      "Raise AtomValenceException, return basic Murcko Scaffold\n",
      "Raise AtomValenceException, return basic Murcko Scaffold\n",
      "Raise AtomValenceException, return basic Murcko Scaffold\n",
      "Raise AtomValenceException, return basic Murcko Scaffold\n",
      "Raise AtomValenceException, return basic Murcko Scaffold\n",
      "Raise AtomValenceException, return basic Murcko Scaffold\n",
      "Raise AtomValenceException, return basic Murcko Scaffold\n",
      "Raise AtomValenceException, return basic Murcko Scaffold\n",
      "Raise AtomValenceException, return basic Murcko Scaffold\n",
      "Raise AtomValenceException, return basic Murcko Scaffold\n",
      "Raise AtomValenceException, return basic Murcko Scaffold\n",
      "Raise AtomValenceException, return basic Murcko Scaffold\n",
      "Raise AtomValenceException, return basic Murcko Scaffold\n",
      "Raise AtomValenceException, return basic Murcko Scaffold\n",
      "Raise AtomValenceException, return basic Murcko Scaffold\n",
      "Raise AtomValenceException, return basic Murcko Scaffold\n",
      "Raise AtomValenceException, return basic Murcko Scaffold\n",
      "Raise AtomValenceException, return basic Murcko Scaffold\n",
      "Raise AtomValenceException, return basic Murcko Scaffold\n",
      "Raise AtomValenceException, return basic Murcko Scaffold\n",
      "Raise AtomValenceException, return basic Murcko Scaffold\n",
      "Raise AtomValenceException, return basic Murcko Scaffold\n",
      "Raise AtomValenceException, return basic Murcko Scaffold\n",
      "Raise AtomValenceException, return basic Murcko Scaffold\n",
      "Raise AtomValenceException, return basic Murcko Scaffold\n",
      "Raise AtomValenceException, return basic Murcko Scaffold\n",
      "Raise AtomValenceException, return basic Murcko Scaffold\n",
      "Raise AtomValenceException, return basic Murcko Scaffold\n",
      "Raise AtomValenceException, return basic Murcko Scaffold\n"
     ]
    },
    {
     "name": "stdout",
     "output_type": "stream",
     "text": [
      "Raise AtomValenceException, return basic Murcko Scaffold\n",
      "Raise AtomValenceException, return basic Murcko Scaffold\n",
      "Raise AtomValenceException, return basic Murcko Scaffold\n",
      "Raise AtomValenceException, return basic Murcko Scaffold\n",
      "Raise AtomValenceException, return basic Murcko Scaffold\n",
      "Raise AtomValenceException, return basic Murcko Scaffold\n",
      "Raise AtomValenceException, return basic Murcko Scaffold\n",
      "Raise AtomValenceException, return basic Murcko Scaffold\n",
      "Raise AtomValenceException, return basic Murcko Scaffold\n",
      "Raise AtomValenceException, return basic Murcko Scaffold\n",
      "Raise AtomValenceException, return basic Murcko Scaffold\n",
      "Raise AtomValenceException, return basic Murcko Scaffold\n",
      "Raise AtomValenceException, return basic Murcko Scaffold\n",
      "Raise AtomValenceException, return basic Murcko Scaffold\n",
      "Raise AtomValenceException, return basic Murcko Scaffold\n",
      "Raise AtomValenceException, return basic Murcko Scaffold\n",
      "Raise AtomValenceException, return basic Murcko Scaffold\n",
      "Raise AtomValenceException, return basic Murcko Scaffold\n",
      "Raise AtomValenceException, return basic Murcko Scaffold\n",
      "Raise AtomValenceException, return basic Murcko Scaffold\n",
      "Raise AtomValenceException, return basic Murcko Scaffold\n",
      "Raise AtomValenceException, return basic Murcko Scaffold\n",
      "Raise AtomValenceException, return basic Murcko Scaffold\n",
      "Raise AtomValenceException, return basic Murcko Scaffold\n",
      "Raise AtomValenceException, return basic Murcko Scaffold\n",
      "Raise AtomValenceException, return basic Murcko Scaffold\n",
      "Raise AtomValenceException, return basic Murcko Scaffold\n",
      "Raise AtomValenceException, return basic Murcko Scaffold\n",
      "Raise AtomValenceException, return basic Murcko Scaffold\n",
      "Raise AtomValenceException, return basic Murcko Scaffold\n",
      "Raise AtomValenceException, return basic Murcko Scaffold\n",
      "Raise AtomValenceException, return basic Murcko Scaffold\n",
      "Raise AtomValenceException, return basic Murcko Scaffold\n",
      "Raise AtomValenceException, return basic Murcko Scaffold\n",
      "Raise AtomValenceException, return basic Murcko Scaffold\n",
      "Raise AtomValenceException, return basic Murcko Scaffold\n",
      "Raise AtomValenceException, return basic Murcko Scaffold\n",
      "Raise AtomValenceException, return basic Murcko Scaffold\n",
      "Raise AtomValenceException, return basic Murcko Scaffold\n",
      "Raise AtomValenceException, return basic Murcko Scaffold\n",
      "Raise AtomValenceException, return basic Murcko Scaffold\n",
      "Raise AtomValenceException, return basic Murcko Scaffold\n",
      "Raise AtomValenceException, return basic Murcko Scaffold\n",
      "Raise AtomValenceException, return basic Murcko Scaffold\n",
      "Raise AtomValenceException, return basic Murcko Scaffold\n",
      "Raise AtomValenceException, return basic Murcko Scaffold\n",
      "Raise AtomValenceException, return basic Murcko Scaffold\n",
      "Raise AtomValenceException, return basic Murcko Scaffold\n",
      "Raise AtomValenceException, return basic Murcko Scaffold\n",
      "Raise AtomValenceException, return basic Murcko Scaffold\n",
      "Raise AtomValenceException, return basic Murcko Scaffold\n",
      "Raise AtomValenceException, return basic Murcko Scaffold\n",
      "Raise AtomValenceException, return basic Murcko Scaffold\n",
      "Raise AtomValenceException, return basic Murcko Scaffold\n",
      "Raise AtomValenceException, return basic Murcko Scaffold\n",
      "Raise AtomValenceException, return basic Murcko Scaffold\n",
      "Raise AtomValenceException, return basic Murcko Scaffold\n"
     ]
    },
    {
     "name": "stderr",
     "output_type": "stream",
     "text": [
      "\r",
      " 28%|██▊       | 284/1000 [00:08<00:11, 61.01it/s]"
     ]
    },
    {
     "name": "stdout",
     "output_type": "stream",
     "text": [
      "Raise AtomValenceException, return basic Murcko Scaffold\n",
      "Raise AtomValenceException, return basic Murcko Scaffold\n",
      "Raise AtomValenceException, return basic Murcko Scaffold\n",
      "Raise AtomValenceException, return basic Murcko Scaffold\n",
      "Raise AtomValenceException, return basic Murcko Scaffold\n",
      "Raise AtomValenceException, return basic Murcko Scaffold\n",
      "Raise AtomValenceException, return basic Murcko Scaffold\n",
      "Raise AtomValenceException, return basic Murcko Scaffold\n",
      "Raise AtomValenceException, return basic Murcko Scaffold\n",
      "Raise AtomValenceException, return basic Murcko Scaffold\n",
      "Raise AtomValenceException, return basic Murcko Scaffold\n",
      "Raise AtomValenceException, return basic Murcko Scaffold\n",
      "Raise AtomValenceException, return basic Murcko Scaffold\n",
      "Raise AtomValenceException, return basic Murcko Scaffold\n",
      "Raise AtomValenceException, return basic Murcko Scaffold\n",
      "Raise AtomValenceException, return basic Murcko Scaffold\n",
      "Raise AtomValenceException, return basic Murcko Scaffold\n",
      "Raise AtomValenceException, return basic Murcko Scaffold\n",
      "Raise AtomValenceException, return basic Murcko Scaffold\n",
      "Raise AtomValenceException, return basic Murcko Scaffold\n",
      "Raise AtomValenceException, return basic Murcko Scaffold\n",
      "Raise AtomValenceException, return basic Murcko Scaffold\n",
      "Raise AtomValenceException, return basic Murcko Scaffold\n",
      "Raise AtomValenceException, return basic Murcko Scaffold\n",
      "Raise AtomValenceException, return basic Murcko Scaffold\n",
      "Raise AtomValenceException, return basic Murcko Scaffold\n",
      "Raise AtomValenceException, return basic Murcko Scaffold\n",
      "Raise AtomValenceException, return basic Murcko Scaffold\n",
      "Raise AtomValenceException, return basic Murcko Scaffold\n",
      "Raise AtomValenceException, return basic Murcko Scaffold\n",
      "Raise AtomValenceException, return basic Murcko Scaffold\n",
      "Raise AtomValenceException, return basic Murcko Scaffold\n",
      "Raise AtomValenceException, return basic Murcko Scaffold\n",
      "Raise AtomValenceException, return basic Murcko Scaffold\n",
      "Raise AtomValenceException, return basic Murcko Scaffold\n",
      "Raise AtomValenceException, return basic Murcko Scaffold\n",
      "Raise AtomValenceException, return basic Murcko Scaffold\n",
      "Raise AtomValenceException, return basic Murcko Scaffold\n",
      "Raise AtomValenceException, return basic Murcko Scaffold\n",
      "Raise AtomValenceException, return basic Murcko Scaffold\n",
      "Raise AtomValenceException, return basic Murcko Scaffold\n",
      "Raise AtomValenceException, return basic Murcko Scaffold\n",
      "Raise AtomValenceException, return basic Murcko Scaffold\n",
      "Raise AtomValenceException, return basic Murcko Scaffold\n"
     ]
    },
    {
     "name": "stderr",
     "output_type": "stream",
     "text": [
      "\r",
      " 34%|███▍      | 339/1000 [00:08<00:08, 78.71it/s]"
     ]
    },
    {
     "name": "stdout",
     "output_type": "stream",
     "text": [
      "Raise AtomValenceException, return basic Murcko Scaffold\n",
      "Raise AtomValenceException, return basic Murcko Scaffold\n",
      "Raise AtomValenceException, return basic Murcko Scaffold\n",
      "Raise AtomValenceException, return basic Murcko Scaffold\n",
      "Raise AtomValenceException, return basic Murcko Scaffold\n",
      "Raise AtomValenceException, return basic Murcko Scaffold\n",
      "Raise AtomValenceException, return basic Murcko Scaffold\n",
      "Raise AtomValenceException, return basic Murcko Scaffold\n",
      "Raise AtomValenceException, return basic Murcko Scaffold\n",
      "Raise AtomValenceException, return basic Murcko Scaffold\n",
      "Raise AtomValenceException, return basic Murcko Scaffold\n",
      "Raise AtomValenceException, return basic Murcko Scaffold\n",
      "Raise AtomValenceException, return basic Murcko Scaffold\n",
      "Raise AtomValenceException, return basic Murcko Scaffold\n",
      "Raise AtomValenceException, return basic Murcko Scaffold\n",
      "Raise AtomValenceException, return basic Murcko Scaffold\n",
      "Raise AtomValenceException, return basic Murcko Scaffold\n",
      "Raise AtomValenceException, return basic Murcko Scaffold\n",
      "Raise AtomValenceException, return basic Murcko Scaffold\n",
      "Raise AtomValenceException, return basic Murcko Scaffold\n",
      "Raise AtomValenceException, return basic Murcko Scaffold\n",
      "Raise AtomValenceException, return basic Murcko Scaffold\n",
      "Raise AtomValenceException, return basic Murcko Scaffold\n",
      "Raise AtomValenceException, return basic Murcko Scaffold\n",
      "Raise AtomValenceException, return basic Murcko Scaffold\n",
      "Raise AtomValenceException, return basic Murcko Scaffold\n",
      "Raise AtomValenceException, return basic Murcko Scaffold\n",
      "Raise AtomValenceException, return basic Murcko Scaffold\n",
      "Raise AtomValenceException, return basic Murcko Scaffold\n",
      "Raise AtomValenceException, return basic Murcko Scaffold\n",
      "Raise AtomValenceException, return basic Murcko Scaffold\n",
      "Raise AtomValenceException, return basic Murcko Scaffold\n",
      "Raise AtomValenceException, return basic Murcko Scaffold\n",
      "Raise AtomValenceException, return basic Murcko Scaffold\n",
      "Raise AtomValenceException, return basic Murcko Scaffold\n",
      "Raise AtomValenceException, return basic Murcko Scaffold\n",
      "Raise AtomValenceException, return basic Murcko Scaffold\n",
      "Raise AtomValenceException, return basic Murcko Scaffold\n",
      "Raise AtomValenceException, return basic Murcko Scaffold\n",
      "Raise AtomValenceException, return basic Murcko Scaffold\n",
      "Raise AtomValenceException, return basic Murcko Scaffold\n",
      "Raise AtomValenceException, return basic Murcko Scaffold\n",
      "Raise AtomValenceException, return basic Murcko Scaffold\n",
      "Raise AtomValenceException, return basic Murcko Scaffold\n",
      "Raise AtomValenceException, return basic Murcko Scaffold\n",
      "Raise AtomValenceException, return basic Murcko Scaffold\n",
      "Raise AtomValenceException, return basic Murcko Scaffold\n",
      "Raise AtomValenceException, return basic Murcko Scaffold\n",
      "Raise AtomValenceException, return basic Murcko Scaffold\n",
      "Raise AtomValenceException, return basic Murcko Scaffold\n",
      "Raise AtomValenceException, return basic Murcko Scaffold\n",
      "Raise AtomValenceException, return basic Murcko Scaffold\n",
      "Raise AtomValenceException, return basic Murcko Scaffold\n",
      "Raise AtomValenceException, return basic Murcko Scaffold\n",
      "Raise AtomValenceException, return basic Murcko Scaffold\n",
      "Raise AtomValenceException, return basic Murcko Scaffold\n",
      "Raise AtomValenceException, return basic Murcko Scaffold\n",
      "Raise AtomValenceException, return basic Murcko Scaffold\n",
      "Raise AtomValenceException, return basic Murcko Scaffold\n",
      "Raise AtomValenceException, return basic Murcko Scaffold\n",
      "Raise AtomValenceException, return basic Murcko Scaffold\n",
      "Raise AtomValenceException, return basic Murcko Scaffold\n",
      "Raise AtomValenceException, return basic Murcko Scaffold\n"
     ]
    },
    {
     "name": "stderr",
     "output_type": "stream",
     "text": [
      " 44%|████▍     | 441/1000 [00:09<00:04, 127.57it/s]"
     ]
    },
    {
     "name": "stdout",
     "output_type": "stream",
     "text": [
      "Raise AtomValenceException, return basic Murcko Scaffold\n",
      "Raise AtomValenceException, return basic Murcko Scaffold\n",
      "Raise AtomValenceException, return basic Murcko Scaffold\n",
      "Raise AtomValenceException, return basic Murcko Scaffold\n",
      "Raise AtomValenceException, return basic Murcko Scaffold\n",
      "Raise AtomValenceException, return basic Murcko Scaffold\n",
      "Raise AtomValenceException, return basic Murcko Scaffold\n",
      "Raise AtomValenceException, return basic Murcko Scaffold\n",
      "Raise AtomValenceException, return basic Murcko Scaffold\n",
      "Raise AtomValenceException, return basic Murcko Scaffold\n",
      "Raise AtomValenceException, return basic Murcko Scaffold\n",
      "Raise AtomValenceException, return basic Murcko Scaffold\n",
      "Raise AtomValenceException, return basic Murcko Scaffold\n",
      "Raise AtomValenceException, return basic Murcko Scaffold\n",
      "Raise AtomValenceException, return basic Murcko Scaffold\n",
      "Raise AtomValenceException, return basic Murcko Scaffold\n",
      "Raise AtomValenceException, return basic Murcko Scaffold\n",
      "Raise AtomValenceException, return basic Murcko Scaffold\n",
      "Raise AtomValenceException, return basic Murcko Scaffold\n",
      "Raise AtomValenceException, return basic Murcko Scaffold\n",
      "Raise AtomValenceException, return basic Murcko Scaffold\n",
      "Raise AtomValenceException, return basic Murcko Scaffold\n",
      "Raise AtomValenceException, return basic Murcko Scaffold\n",
      "Raise AtomValenceException, return basic Murcko Scaffold\n",
      "Raise AtomValenceException, return basic Murcko Scaffold\n",
      "Raise AtomValenceException, return basic Murcko Scaffold\n",
      "Raise AtomValenceException, return basic Murcko Scaffold\n",
      "Raise AtomValenceException, return basic Murcko Scaffold\n",
      "Raise AtomValenceException, return basic Murcko Scaffold\n",
      "Raise AtomValenceException, return basic Murcko Scaffold\n",
      "Raise AtomValenceException, return basic Murcko Scaffold\n",
      "Raise AtomValenceException, return basic Murcko Scaffold\n",
      "Raise AtomValenceException, return basic Murcko Scaffold\n",
      "Raise AtomValenceException, return basic Murcko Scaffold\n",
      "Raise AtomValenceException, return basic Murcko Scaffold\n",
      "Raise AtomValenceException, return basic Murcko Scaffold\n",
      "Raise AtomValenceException, return basic Murcko Scaffold\n",
      "Raise AtomValenceException, return basic Murcko Scaffold\n",
      "Raise AtomValenceException, return basic Murcko Scaffold\n",
      "Raise AtomValenceException, return basic Murcko Scaffold\n",
      "Raise AtomValenceException, return basic Murcko Scaffold\n",
      "Raise AtomValenceException, return basic Murcko Scaffold\n",
      "Raise AtomValenceException, return basic Murcko Scaffold\n",
      "Raise AtomValenceException, return basic Murcko Scaffold\n",
      "Raise AtomValenceException, return basic Murcko Scaffold\n",
      "Raise AtomValenceException, return basic Murcko Scaffold\n",
      "Raise AtomValenceException, return basic Murcko Scaffold\n",
      "Raise AtomValenceException, return basic Murcko Scaffold\n",
      "Raise AtomValenceException, return basic Murcko Scaffold\n",
      "Raise AtomValenceException, return basic Murcko Scaffold\n",
      "Raise AtomValenceException, return basic Murcko Scaffold\n",
      "Raise AtomValenceException, return basic Murcko Scaffold\n",
      "Raise AtomValenceException, return basic Murcko Scaffold\n",
      "Raise AtomValenceException, return basic Murcko Scaffold\n",
      "Raise AtomValenceException, return basic Murcko Scaffold\n",
      "Raise AtomValenceException, return basic Murcko Scaffold\n",
      "Raise AtomValenceException, return basic Murcko Scaffold\n",
      "Raise AtomValenceException, return basic Murcko Scaffold\n",
      "Raise AtomValenceException, return basic Murcko Scaffold\n",
      "Raise AtomValenceException, return basic Murcko Scaffold\n",
      "Raise AtomValenceException, return basic Murcko Scaffold\n",
      "Raise AtomValenceException, return basic Murcko Scaffold\n",
      "Raise AtomValenceException, return basic Murcko Scaffold\n",
      "Raise AtomValenceException, return basic Murcko Scaffold\n",
      "Raise AtomValenceException, return basic Murcko Scaffold\n",
      "Raise AtomValenceException, return basic Murcko Scaffold\n",
      "Raise AtomValenceException, return basic Murcko Scaffold\n",
      "Raise AtomValenceException, return basic Murcko Scaffold\n",
      "Raise AtomValenceException, return basic Murcko Scaffold\n",
      "Raise AtomValenceException, return basic Murcko Scaffold\n",
      "Raise AtomValenceException, return basic Murcko Scaffold\n",
      "Raise AtomValenceException, return basic Murcko Scaffold\n",
      "Raise AtomValenceException, return basic Murcko Scaffold\n",
      "Raise AtomValenceException, return basic Murcko Scaffold\n",
      "Raise AtomValenceException, return basic Murcko Scaffold\n",
      "Raise AtomValenceException, return basic Murcko Scaffold\n",
      "Raise AtomValenceException, return basic Murcko Scaffold\n",
      "Raise AtomValenceException, return basic Murcko Scaffold\n",
      "Raise AtomValenceException, return basic Murcko Scaffold\n",
      "Raise AtomValenceException, return basic Murcko Scaffold\n",
      "Raise AtomValenceException, return basic Murcko Scaffold\n",
      "Raise AtomValenceException, return basic Murcko Scaffold\n",
      "Raise AtomValenceException, return basic Murcko Scaffold\n",
      "Raise AtomValenceException, return basic Murcko Scaffold\n",
      "Raise AtomValenceException, return basic Murcko Scaffold\n",
      "Raise AtomValenceException, return basic Murcko Scaffold\n",
      "Raise AtomValenceException, return basic Murcko Scaffold\n",
      "Raise AtomValenceException, return basic Murcko Scaffold\n",
      "Raise AtomValenceException, return basic Murcko Scaffold\n",
      "Raise AtomValenceException, return basic Murcko Scaffold\n",
      "Raise AtomValenceException, return basic Murcko Scaffold\n",
      "Raise AtomValenceException, return basic Murcko Scaffold\n",
      "Raise AtomValenceException, return basic Murcko Scaffold\n",
      "Raise AtomValenceException, return basic Murcko Scaffold\n",
      "Raise AtomValenceException, return basic Murcko Scaffold\n",
      "Raise AtomValenceException, return basic Murcko Scaffold\n",
      "Raise AtomValenceException, return basic Murcko Scaffold\n",
      "Raise AtomValenceException, return basic Murcko Scaffold\n",
      "Raise AtomValenceException, return basic Murcko Scaffold\n",
      "Raise AtomValenceException, return basic Murcko Scaffold\n",
      "Raise AtomValenceException, return basic Murcko Scaffold\n",
      "Raise AtomValenceException, return basic Murcko Scaffold\n",
      "Raise AtomValenceException, return basic Murcko Scaffold\n",
      "Raise AtomValenceException, return basic Murcko Scaffold\n",
      "Raise AtomValenceException, return basic Murcko Scaffold\n",
      "Raise AtomValenceException, return basic Murcko Scaffold\n",
      "Raise AtomValenceException, return basic Murcko Scaffold\n",
      "Raise AtomValenceException, return basic Murcko Scaffold\n",
      "Raise AtomValenceException, return basic Murcko Scaffold\n",
      "Raise AtomValenceException, return basic Murcko Scaffold\n",
      "Raise AtomValenceException, return basic Murcko Scaffold\n",
      "Raise AtomValenceException, return basic Murcko Scaffold\n",
      "Raise AtomValenceException, return basic Murcko Scaffold\n",
      "Raise AtomValenceException, return basic Murcko Scaffold\n",
      "Raise AtomValenceException, return basic Murcko Scaffold\n",
      "Raise AtomValenceException, return basic Murcko Scaffold\n",
      "Raise AtomValenceException, return basic Murcko Scaffold\n",
      "Raise AtomValenceException, return basic Murcko Scaffold\n",
      "Raise AtomValenceException, return basic Murcko Scaffold\n",
      "Raise AtomValenceException, return basic Murcko Scaffold\n",
      "Raise AtomValenceException, return basic Murcko Scaffold\n",
      "Raise AtomValenceException, return basic Murcko Scaffold\n",
      "Raise AtomValenceException, return basic Murcko Scaffold\n",
      "Raise AtomValenceException, return basic Murcko Scaffold\n",
      "Raise AtomValenceException, return basic Murcko Scaffold\n",
      "Raise AtomValenceException, return basic Murcko Scaffold\n",
      "Raise AtomValenceException, return basic Murcko Scaffold\n",
      "Raise AtomValenceException, return basic Murcko Scaffold\n",
      "Raise AtomValenceException, return basic Murcko Scaffold\n",
      "Raise AtomValenceException, return basic Murcko Scaffold\n",
      "Raise AtomValenceException, return basic Murcko Scaffold\n",
      "Raise AtomValenceException, return basic Murcko Scaffold\n",
      "Raise AtomValenceException, return basic Murcko Scaffold\n",
      "Raise AtomValenceException, return basic Murcko Scaffold\n",
      "Raise AtomValenceException, return basic Murcko Scaffold\n",
      "Raise AtomValenceException, return basic Murcko Scaffold\n",
      "Raise AtomValenceException, return basic Murcko Scaffold\n",
      "Raise AtomValenceException, return basic Murcko Scaffold\n",
      "Raise AtomValenceException, return basic Murcko Scaffold\n",
      "Raise AtomValenceException, return basic Murcko Scaffold\n",
      "Raise AtomValenceException, return basic Murcko Scaffold\n",
      "Raise AtomValenceException, return basic Murcko Scaffold\n",
      "Raise AtomValenceException, return basic Murcko Scaffold\n",
      "Raise AtomValenceException, return basic Murcko Scaffold\n"
     ]
    },
    {
     "name": "stderr",
     "output_type": "stream",
     "text": [
      " 67%|██████▋   | 666/1000 [00:09<00:01, 305.86it/s]"
     ]
    },
    {
     "name": "stdout",
     "output_type": "stream",
     "text": [
      "Raise AtomValenceException, return basic Murcko Scaffold\n",
      "Raise AtomValenceException, return basic Murcko Scaffold\n",
      "Raise AtomValenceException, return basic Murcko Scaffold\n",
      "Raise AtomValenceException, return basic Murcko Scaffold\n",
      "Raise AtomValenceException, return basic Murcko Scaffold\n",
      "Raise AtomValenceException, return basic Murcko Scaffold\n",
      "Raise AtomValenceException, return basic Murcko Scaffold\n",
      "Raise AtomValenceException, return basic Murcko Scaffold\n",
      "Raise AtomValenceException, return basic Murcko Scaffold\n",
      "Raise AtomValenceException, return basic Murcko Scaffold\n",
      "Raise AtomValenceException, return basic Murcko Scaffold\n",
      "Raise AtomValenceException, return basic Murcko Scaffold\n",
      "Raise AtomValenceException, return basic Murcko Scaffold\n",
      "Raise AtomValenceException, return basic Murcko Scaffold\n",
      "Raise AtomValenceException, return basic Murcko Scaffold\n",
      "Raise AtomValenceException, return basic Murcko Scaffold\n",
      "Raise AtomValenceException, return basic Murcko Scaffold\n",
      "Raise AtomValenceException, return basic Murcko Scaffold\n",
      "Raise AtomValenceException, return basic Murcko Scaffold\n",
      "Raise AtomValenceException, return basic Murcko Scaffold\n",
      "Raise AtomValenceException, return basic Murcko Scaffold\n",
      "Raise AtomValenceException, return basic Murcko Scaffold\n",
      "Raise AtomValenceException, return basic Murcko Scaffold\n",
      "Raise AtomValenceException, return basic Murcko Scaffold\n",
      "Raise AtomValenceException, return basic Murcko Scaffold\n",
      "Raise AtomValenceException, return basic Murcko Scaffold\n",
      "Raise AtomValenceException, return basic Murcko Scaffold\n",
      "Raise AtomValenceException, return basic Murcko Scaffold\n",
      "Raise AtomValenceException, return basic Murcko Scaffold\n",
      "Raise AtomValenceException, return basic Murcko Scaffold\n",
      "Raise AtomValenceException, return basic Murcko Scaffold\n",
      "Raise AtomValenceException, return basic Murcko Scaffold\n",
      "Raise AtomValenceException, return basic Murcko Scaffold\n",
      "Raise AtomValenceException, return basic Murcko Scaffold\n",
      "Raise AtomValenceException, return basic Murcko Scaffold\n",
      "Raise AtomValenceException, return basic Murcko Scaffold\n",
      "Raise AtomValenceException, return basic Murcko Scaffold\n",
      "Raise AtomValenceException, return basic Murcko Scaffold\n",
      "Raise AtomValenceException, return basic Murcko Scaffold\n",
      "Raise AtomValenceException, return basic Murcko Scaffold\n",
      "Raise AtomValenceException, return basic Murcko Scaffold\n",
      "Raise AtomValenceException, return basic Murcko Scaffold\n",
      "Raise AtomValenceException, return basic Murcko Scaffold\n",
      "Raise AtomValenceException, return basic Murcko Scaffold\n",
      "Raise AtomValenceException, return basic Murcko Scaffold\n",
      "Raise AtomValenceException, return basic Murcko Scaffold\n",
      "Raise AtomValenceException, return basic Murcko Scaffold\n",
      "Raise AtomValenceException, return basic Murcko Scaffold\n",
      "Raise AtomValenceException, return basic Murcko Scaffold\n",
      "Raise AtomValenceException, return basic Murcko Scaffold\n",
      "Raise AtomValenceException, return basic Murcko Scaffold\n",
      "Raise AtomValenceException, return basic Murcko Scaffold\n",
      "Raise AtomValenceException, return basic Murcko Scaffold\n",
      "Raise AtomValenceException, return basic Murcko Scaffold\n",
      "Raise AtomValenceException, return basic Murcko Scaffold\n",
      "Raise AtomValenceException, return basic Murcko Scaffold\n",
      "Raise AtomValenceException, return basic Murcko Scaffold\n",
      "Raise AtomValenceException, return basic Murcko Scaffold\n",
      "Raise AtomValenceException, return basic Murcko Scaffold\n",
      "Raise AtomValenceException, return basic Murcko Scaffold\n",
      "Raise AtomValenceException, return basic Murcko Scaffold\n",
      "Raise AtomValenceException, return basic Murcko Scaffold\n",
      "Raise AtomValenceException, return basic Murcko Scaffold\n",
      "Raise AtomValenceException, return basic Murcko Scaffold\n",
      "Raise AtomValenceException, return basic Murcko Scaffold\n",
      "Raise AtomValenceException, return basic Murcko Scaffold\n",
      "Raise AtomValenceException, return basic Murcko Scaffold\n",
      "Raise AtomValenceException, return basic Murcko Scaffold\n",
      "Raise AtomValenceException, return basic Murcko Scaffold\n",
      "Raise AtomValenceException, return basic Murcko Scaffold\n",
      "Raise AtomValenceException, return basic Murcko Scaffold\n",
      "Raise AtomValenceException, return basic Murcko Scaffold\n",
      "Raise AtomValenceException, return basic Murcko Scaffold\n",
      "Raise AtomValenceException, return basic Murcko Scaffold\n",
      "Raise AtomValenceException, return basic Murcko Scaffold\n",
      "Raise AtomValenceException, return basic Murcko Scaffold\n",
      "Raise AtomValenceException, return basic Murcko Scaffold\n",
      "Raise AtomValenceException, return basic Murcko Scaffold\n",
      "Raise AtomValenceException, return basic Murcko Scaffold\n",
      "Raise AtomValenceException, return basic Murcko Scaffold\n",
      "Raise AtomValenceException, return basic Murcko Scaffold\n",
      "Raise AtomValenceException, return basic Murcko Scaffold\n",
      "Raise AtomValenceException, return basic Murcko Scaffold\n",
      "Raise AtomValenceException, return basic Murcko Scaffold\n",
      "Raise AtomValenceException, return basic Murcko Scaffold\n",
      "Raise AtomValenceException, return basic Murcko Scaffold\n",
      "Raise AtomValenceException, return basic Murcko Scaffold\n",
      "Raise AtomValenceException, return basic Murcko Scaffold\n",
      "Raise AtomValenceException, return basic Murcko Scaffold\n",
      "Raise AtomValenceException, return basic Murcko Scaffold\n",
      "Raise AtomValenceException, return basic Murcko Scaffold\n",
      "Raise AtomValenceException, return basic Murcko Scaffold\n",
      "Raise AtomValenceException, return basic Murcko Scaffold\n",
      "Raise AtomValenceException, return basic Murcko Scaffold\n",
      "Raise AtomValenceException, return basic Murcko Scaffold\n",
      "Raise AtomValenceException, return basic Murcko Scaffold\n",
      "Raise AtomValenceException, return basic Murcko Scaffold\n",
      "Raise AtomValenceException, return basic Murcko Scaffold\n",
      "Raise AtomValenceException, return basic Murcko Scaffold\n",
      "Raise AtomValenceException, return basic Murcko Scaffold\n",
      "Raise AtomValenceException, return basic Murcko Scaffold\n",
      "Raise AtomValenceException, return basic Murcko Scaffold\n",
      "Raise AtomValenceException, return basic Murcko Scaffold\n",
      "Raise AtomValenceException, return basic Murcko Scaffold\n",
      "Raise AtomValenceException, return basic Murcko Scaffold\n",
      "Raise AtomValenceException, return basic Murcko Scaffold\n",
      "Raise AtomValenceException, return basic Murcko Scaffold\n",
      "Raise AtomValenceException, return basic Murcko Scaffold\n",
      "Raise AtomValenceException, return basic Murcko Scaffold\n",
      "Raise AtomValenceException, return basic Murcko Scaffold\n",
      "Raise AtomValenceException, return basic Murcko Scaffold\n",
      "Raise AtomValenceException, return basic Murcko Scaffold\n",
      "Raise AtomValenceException, return basic Murcko Scaffold\n",
      "Raise AtomValenceException, return basic Murcko Scaffold\n",
      "Raise AtomValenceException, return basic Murcko Scaffold\n",
      "Raise AtomValenceException, return basic Murcko Scaffold\n",
      "Raise AtomValenceException, return basic Murcko Scaffold\n",
      "Raise AtomValenceException, return basic Murcko Scaffold\n",
      "Raise AtomValenceException, return basic Murcko Scaffold\n",
      "Raise AtomValenceException, return basic Murcko Scaffold\n",
      "Raise AtomValenceException, return basic Murcko Scaffold\n",
      "Raise AtomValenceException, return basic Murcko Scaffold\n",
      "Raise AtomValenceException, return basic Murcko Scaffold\n",
      "Raise AtomValenceException, return basic Murcko Scaffold\n",
      "Raise AtomValenceException, return basic Murcko Scaffold\n",
      "Raise AtomValenceException, return basic Murcko Scaffold\n",
      "Raise AtomValenceException, return basic Murcko Scaffold\n",
      "Raise AtomValenceException, return basic Murcko Scaffold\n",
      "Raise AtomValenceException, return basic Murcko Scaffold\n",
      "Raise AtomValenceException, return basic Murcko Scaffold\n",
      "Raise AtomValenceException, return basic Murcko Scaffold\n",
      "Raise AtomValenceException, return basic Murcko Scaffold\n",
      "Raise AtomValenceException, return basic Murcko Scaffold\n",
      "Raise AtomValenceException, return basic Murcko Scaffold\n",
      "Raise AtomValenceException, return basic Murcko Scaffold\n",
      "Raise AtomValenceException, return basic Murcko Scaffold\n",
      "Raise AtomValenceException, return basic Murcko Scaffold\n",
      "Raise AtomValenceException, return basic Murcko Scaffold\n",
      "Raise AtomValenceException, return basic Murcko Scaffold\n",
      "Raise AtomValenceException, return basic Murcko Scaffold\n",
      "Raise AtomValenceException, return basic Murcko Scaffold\n",
      "Raise AtomValenceException, return basic Murcko Scaffold\n",
      "Raise AtomValenceException, return basic Murcko Scaffold\n",
      "Raise AtomValenceException, return basic Murcko Scaffold\n",
      "Raise AtomValenceException, return basic Murcko Scaffold\n",
      "Raise AtomValenceException, return basic Murcko Scaffold\n",
      "Raise AtomValenceException, return basic Murcko Scaffold\n",
      "Raise AtomValenceException, return basic Murcko Scaffold\n",
      "Raise AtomValenceException, return basic Murcko Scaffold\n",
      "Raise AtomValenceException, return basic Murcko Scaffold\n",
      "Raise AtomValenceException, return basic Murcko Scaffold\n",
      "Raise AtomValenceException, return basic Murcko Scaffold\n",
      "Raise AtomValenceException, return basic Murcko Scaffold\n",
      "Raise AtomValenceException, return basic Murcko Scaffold\n",
      "Raise AtomValenceException, return basic Murcko Scaffold\n",
      "Raise AtomValenceException, return basic Murcko Scaffold\n",
      "Raise AtomValenceException, return basic Murcko Scaffold\n",
      "Raise AtomValenceException, return basic Murcko Scaffold\n",
      "Raise AtomValenceException, return basic Murcko Scaffold\n",
      "Raise AtomValenceException, return basic Murcko Scaffold\n",
      "Raise AtomValenceException, return basic Murcko Scaffold\n",
      "Raise AtomValenceException, return basic Murcko Scaffold\n",
      "Raise AtomValenceException, return basic Murcko Scaffold\n",
      "Raise AtomValenceException, return basic Murcko Scaffold\n",
      "Raise AtomValenceException, return basic Murcko Scaffold\n",
      "Raise AtomValenceException, return basic Murcko Scaffold\n",
      "Raise AtomValenceException, return basic Murcko Scaffold\n",
      "Raise AtomValenceException, return basic Murcko Scaffold\n",
      "Raise AtomValenceException, return basic Murcko Scaffold\n",
      "Raise AtomValenceException, return basic Murcko Scaffold\n",
      "Raise AtomValenceException, return basic Murcko Scaffold\n",
      "Raise AtomValenceException, return basic Murcko Scaffold\n",
      "Raise AtomValenceException, return basic Murcko Scaffold\n",
      "Raise AtomValenceException, return basic Murcko Scaffold\n",
      "Raise AtomValenceException, return basic Murcko Scaffold\n",
      "Raise AtomValenceException, return basic Murcko Scaffold\n",
      "Raise AtomValenceException, return basic Murcko Scaffold\n",
      "Raise AtomValenceException, return basic Murcko Scaffold\n",
      "Raise AtomValenceException, return basic Murcko Scaffold\n",
      "Raise AtomValenceException, return basic Murcko Scaffold\n",
      "Raise AtomValenceException, return basic Murcko Scaffold\n",
      "Raise AtomValenceException, return basic Murcko Scaffold\n",
      "Raise AtomValenceException, return basic Murcko Scaffold\n",
      "Raise AtomValenceException, return basic Murcko Scaffold\n",
      "Raise AtomValenceException, return basic Murcko Scaffold\n",
      "Raise AtomValenceException, return basic Murcko Scaffold\n",
      "Raise AtomValenceException, return basic Murcko Scaffold\n",
      "Raise AtomValenceException, return basic Murcko Scaffold\n",
      "Raise AtomValenceException, return basic Murcko Scaffold\n",
      "Raise AtomValenceException, return basic Murcko Scaffold\n",
      "Raise AtomValenceException, return basic Murcko Scaffold\n",
      "Raise AtomValenceException, return basic Murcko Scaffold\n",
      "Raise AtomValenceException, return basic Murcko Scaffold\n",
      "Raise AtomValenceException, return basic Murcko Scaffold\n",
      "Raise AtomValenceException, return basic Murcko Scaffold\n",
      "Raise AtomValenceException, return basic Murcko Scaffold\n",
      "Raise AtomValenceException, return basic Murcko Scaffold\n",
      "Raise AtomValenceException, return basic Murcko Scaffold\n",
      "Raise AtomValenceException, return basic Murcko Scaffold\n",
      "Raise AtomValenceException, return basic Murcko Scaffold\n",
      "Raise AtomValenceException, return basic Murcko Scaffold\n",
      "Raise AtomValenceException, return basic Murcko Scaffold\n",
      "Raise AtomValenceException, return basic Murcko Scaffold\n",
      "Raise AtomValenceException, return basic Murcko Scaffold\n",
      "Raise AtomValenceException, return basic Murcko Scaffold\n"
     ]
    },
    {
     "name": "stderr",
     "output_type": "stream",
     "text": [
      "\r",
      " 74%|███████▍  | 741/1000 [00:09<00:00, 314.04it/s]"
     ]
    },
    {
     "name": "stdout",
     "output_type": "stream",
     "text": [
      "Raise AtomValenceException, return basic Murcko Scaffold\n",
      "Raise AtomValenceException, return basic Murcko Scaffold\n",
      "Raise AtomValenceException, return basic Murcko Scaffold\n",
      "Raise AtomValenceException, return basic Murcko Scaffold\n",
      "Raise AtomValenceException, return basic Murcko Scaffold\n",
      "Raise AtomValenceException, return basic Murcko Scaffold\n",
      "Raise AtomValenceException, return basic Murcko Scaffold\n",
      "Raise AtomValenceException, return basic Murcko Scaffold\n",
      "Raise AtomValenceException, return basic Murcko Scaffold\n",
      "Raise AtomValenceException, return basic Murcko Scaffold\n",
      "Raise AtomValenceException, return basic Murcko Scaffold\n",
      "Raise AtomValenceException, return basic Murcko Scaffold\n",
      "Raise AtomValenceException, return basic Murcko Scaffold\n",
      "Raise AtomValenceException, return basic Murcko Scaffold\n",
      "Raise AtomValenceException, return basic Murcko Scaffold\n",
      "Raise AtomValenceException, return basic Murcko Scaffold\n",
      "Raise AtomValenceException, return basic Murcko Scaffold\n",
      "Raise AtomValenceException, return basic Murcko Scaffold\n",
      "Raise AtomValenceException, return basic Murcko Scaffold\n",
      "Raise AtomValenceException, return basic Murcko Scaffold\n",
      "Raise AtomValenceException, return basic Murcko Scaffold\n",
      "Raise AtomValenceException, return basic Murcko Scaffold\n",
      "Raise AtomValenceException, return basic Murcko Scaffold\n",
      "Raise AtomValenceException, return basic Murcko Scaffold\n",
      "Raise AtomValenceException, return basic Murcko Scaffold\n",
      "Raise AtomValenceException, return basic Murcko Scaffold\n",
      "Raise AtomValenceException, return basic Murcko Scaffold\n",
      "Raise AtomValenceException, return basic Murcko Scaffold\n",
      "Raise AtomValenceException, return basic Murcko Scaffold\n",
      "Raise AtomValenceException, return basic Murcko Scaffold\n",
      "Raise AtomValenceException, return basic Murcko Scaffold\n",
      "Raise AtomValenceException, return basic Murcko Scaffold\n",
      "Raise AtomValenceException, return basic Murcko Scaffold\n",
      "Raise AtomValenceException, return basic Murcko Scaffold\n",
      "Raise AtomValenceException, return basic Murcko Scaffold\n",
      "Raise AtomValenceException, return basic Murcko Scaffold\n",
      "Raise AtomValenceException, return basic Murcko Scaffold\n",
      "Raise AtomValenceException, return basic Murcko Scaffold\n",
      "Raise AtomValenceException, return basic Murcko Scaffold\n",
      "Raise AtomValenceException, return basic Murcko Scaffold\n",
      "Raise AtomValenceException, return basic Murcko Scaffold\n",
      "Raise AtomValenceException, return basic Murcko Scaffold\n",
      "Raise AtomValenceException, return basic Murcko Scaffold\n",
      "Raise AtomValenceException, return basic Murcko Scaffold\n",
      "Raise AtomValenceException, return basic Murcko Scaffold\n"
     ]
    },
    {
     "name": "stderr",
     "output_type": "stream",
     "text": [
      " 85%|████████▍ | 849/1000 [00:10<00:00, 225.79it/s]"
     ]
    },
    {
     "name": "stdout",
     "output_type": "stream",
     "text": [
      "Raise AtomValenceException, return basic Murcko Scaffold\n",
      "Raise AtomValenceException, return basic Murcko Scaffold\n",
      "Raise AtomValenceException, return basic Murcko Scaffold\n",
      "Raise AtomValenceException, return basic Murcko Scaffold\n",
      "Raise AtomValenceException, return basic Murcko Scaffold\n",
      "Raise AtomValenceException, return basic Murcko Scaffold\n",
      "Raise AtomValenceException, return basic Murcko Scaffold\n",
      "Raise AtomValenceException, return basic Murcko Scaffold\n",
      "Raise AtomValenceException, return basic Murcko Scaffold\n",
      "Raise AtomValenceException, return basic Murcko Scaffold\n",
      "Raise AtomValenceException, return basic Murcko Scaffold\n",
      "Raise AtomValenceException, return basic Murcko Scaffold\n",
      "Raise AtomValenceException, return basic Murcko Scaffold\n",
      "Raise AtomValenceException, return basic Murcko Scaffold\n",
      "Raise AtomValenceException, return basic Murcko Scaffold\n",
      "Raise AtomValenceException, return basic Murcko Scaffold\n",
      "Raise AtomValenceException, return basic Murcko Scaffold\n",
      "Raise AtomValenceException, return basic Murcko Scaffold\n",
      "Raise AtomValenceException, return basic Murcko Scaffold\n",
      "Raise AtomValenceException, return basic Murcko Scaffold\n",
      "Raise AtomValenceException, return basic Murcko Scaffold\n",
      "Raise AtomValenceException, return basic Murcko Scaffold\n",
      "Raise AtomValenceException, return basic Murcko Scaffold\n",
      "Raise AtomValenceException, return basic Murcko Scaffold\n",
      "Raise AtomValenceException, return basic Murcko Scaffold\n",
      "Raise AtomValenceException, return basic Murcko Scaffold\n",
      "Raise AtomValenceException, return basic Murcko Scaffold\n",
      "Raise AtomValenceException, return basic Murcko Scaffold\n",
      "Raise AtomValenceException, return basic Murcko Scaffold\n",
      "Raise AtomValenceException, return basic Murcko Scaffold\n",
      "Raise AtomValenceException, return basic Murcko Scaffold\n",
      "Raise AtomValenceException, return basic Murcko Scaffold\n",
      "Raise AtomValenceException, return basic Murcko Scaffold\n",
      "Raise AtomValenceException, return basic Murcko Scaffold\n",
      "Raise AtomValenceException, return basic Murcko Scaffold\n",
      "Raise AtomValenceException, return basic Murcko Scaffold\n",
      "Raise AtomValenceException, return basic Murcko Scaffold\n",
      "Raise AtomValenceException, return basic Murcko Scaffold\n",
      "Raise AtomValenceException, return basic Murcko Scaffold\n",
      "Raise AtomValenceException, return basic Murcko Scaffold\n",
      "Raise AtomValenceException, return basic Murcko Scaffold\n",
      "Raise AtomValenceException, return basic Murcko Scaffold\n",
      "Raise AtomValenceException, return basic Murcko Scaffold\n",
      "Raise AtomValenceException, return basic Murcko Scaffold\n",
      "Raise AtomValenceException, return basic Murcko Scaffold\n",
      "Raise AtomValenceException, return basic Murcko Scaffold\n",
      "Raise AtomValenceException, return basic Murcko Scaffold\n",
      "Raise AtomValenceException, return basic Murcko Scaffold\n",
      "Raise AtomValenceException, return basic Murcko Scaffold\n",
      "Raise AtomValenceException, return basic Murcko Scaffold\n",
      "Raise AtomValenceException, return basic Murcko Scaffold\n",
      "Raise AtomValenceException, return basic Murcko Scaffold\n",
      "Raise AtomValenceException, return basic Murcko Scaffold\n",
      "Raise AtomValenceException, return basic Murcko Scaffold\n",
      "Raise AtomValenceException, return basic Murcko Scaffold\n",
      "Raise AtomValenceException, return basic Murcko Scaffold\n",
      "Raise AtomValenceException, return basic Murcko Scaffold\n",
      "Raise AtomValenceException, return basic Murcko Scaffold\n",
      "Raise AtomValenceException, return basic Murcko Scaffold\n",
      "Raise AtomValenceException, return basic Murcko Scaffold\n",
      "Raise AtomValenceException, return basic Murcko Scaffold\n",
      "Raise AtomValenceException, return basic Murcko Scaffold\n",
      "Raise AtomValenceException, return basic Murcko Scaffold\n",
      "Raise AtomValenceException, return basic Murcko Scaffold\n",
      "Raise AtomValenceException, return basic Murcko Scaffold\n",
      "Raise AtomValenceException, return basic Murcko Scaffold\n",
      "Raise AtomValenceException, return basic Murcko Scaffold\n",
      "Raise AtomValenceException, return basic Murcko Scaffold\n",
      "Raise AtomValenceException, return basic Murcko Scaffold\n",
      "Raise AtomValenceException, return basic Murcko Scaffold\n",
      "Raise AtomValenceException, return basic Murcko Scaffold\n",
      "Raise AtomValenceException, return basic Murcko Scaffold\n",
      "Raise AtomValenceException, return basic Murcko Scaffold\n",
      "Raise AtomValenceException, return basic Murcko Scaffold\n",
      "Raise AtomValenceException, return basic Murcko Scaffold\n",
      "Raise AtomValenceException, return basic Murcko Scaffold\n",
      "Raise AtomValenceException, return basic Murcko Scaffold\n",
      "Raise AtomValenceException, return basic Murcko Scaffold\n",
      "Raise AtomValenceException, return basic Murcko Scaffold\n",
      "Raise AtomValenceException, return basic Murcko Scaffold\n",
      "Raise AtomValenceException, return basic Murcko Scaffold\n",
      "Raise AtomValenceException, return basic Murcko Scaffold\n",
      "Raise AtomValenceException, return basic Murcko Scaffold\n",
      "Raise AtomValenceException, return basic Murcko Scaffold\n",
      "Raise AtomValenceException, return basic Murcko Scaffold\n",
      "Raise AtomValenceException, return basic Murcko Scaffold\n",
      "Raise AtomValenceException, return basic Murcko Scaffold\n",
      "Raise AtomValenceException, return basic Murcko Scaffold\n",
      "Raise AtomValenceException, return basic Murcko Scaffold\n",
      "Raise AtomValenceException, return basic Murcko Scaffold\n",
      "Raise AtomValenceException, return basic Murcko Scaffold\n",
      "Raise AtomValenceException, return basic Murcko Scaffold\n",
      "Raise AtomValenceException, return basic Murcko Scaffold\n",
      "Raise AtomValenceException, return basic Murcko Scaffold\n",
      "Raise AtomValenceException, return basic Murcko Scaffold\n",
      "Raise AtomValenceException, return basic Murcko Scaffold\n",
      "Raise AtomValenceException, return basic Murcko Scaffold\n",
      "Raise AtomValenceException, return basic Murcko Scaffold\n",
      "Raise AtomValenceException, return basic Murcko Scaffold\n",
      "Raise AtomValenceException, return basic Murcko Scaffold\n",
      "Raise AtomValenceException, return basic Murcko Scaffold\n"
     ]
    },
    {
     "name": "stderr",
     "output_type": "stream",
     "text": [
      " 94%|█████████▍| 938/1000 [00:10<00:00, 266.88it/s]"
     ]
    },
    {
     "name": "stdout",
     "output_type": "stream",
     "text": [
      "Raise AtomValenceException, return basic Murcko Scaffold\n",
      "Raise AtomValenceException, return basic Murcko Scaffold\n",
      "Raise AtomValenceException, return basic Murcko Scaffold\n",
      "Raise AtomValenceException, return basic Murcko Scaffold\n",
      "Raise AtomValenceException, return basic Murcko Scaffold\n",
      "Raise AtomValenceException, return basic Murcko Scaffold\n",
      "Raise AtomValenceException, return basic Murcko Scaffold\n",
      "Raise AtomValenceException, return basic Murcko Scaffold\n",
      "Raise AtomValenceException, return basic Murcko Scaffold\n",
      "Raise AtomValenceException, return basic Murcko Scaffold\n",
      "Raise AtomValenceException, return basic Murcko Scaffold\n",
      "Raise AtomValenceException, return basic Murcko Scaffold\n",
      "Raise AtomValenceException, return basic Murcko Scaffold\n",
      "Raise AtomValenceException, return basic Murcko Scaffold\n",
      "Raise AtomValenceException, return basic Murcko Scaffold\n",
      "Raise AtomValenceException, return basic Murcko Scaffold\n",
      "Raise AtomValenceException, return basic Murcko Scaffold\n",
      "Raise AtomValenceException, return basic Murcko Scaffold\n",
      "Raise AtomValenceException, return basic Murcko Scaffold\n",
      "Raise AtomValenceException, return basic Murcko Scaffold\n",
      "Raise AtomValenceException, return basic Murcko Scaffold\n",
      "Raise AtomValenceException, return basic Murcko Scaffold\n",
      "Raise AtomValenceException, return basic Murcko Scaffold\n",
      "Raise AtomValenceException, return basic Murcko Scaffold\n",
      "Raise AtomValenceException, return basic Murcko Scaffold\n",
      "Raise AtomValenceException, return basic Murcko Scaffold\n",
      "Raise AtomValenceException, return basic Murcko Scaffold\n",
      "Raise AtomValenceException, return basic Murcko Scaffold\n",
      "Raise AtomValenceException, return basic Murcko Scaffold\n",
      "Raise AtomValenceException, return basic Murcko Scaffold\n",
      "Raise AtomValenceException, return basic Murcko Scaffold\n",
      "Raise AtomValenceException, return basic Murcko Scaffold\n",
      "Raise AtomValenceException, return basic Murcko Scaffold\n",
      "Raise AtomValenceException, return basic Murcko Scaffold\n",
      "Raise AtomValenceException, return basic Murcko Scaffold\n",
      "Raise AtomValenceException, return basic Murcko Scaffold\n",
      "Raise AtomValenceException, return basic Murcko Scaffold\n",
      "Raise AtomValenceException, return basic Murcko Scaffold\n",
      "Raise AtomValenceException, return basic Murcko Scaffold\n",
      "Raise AtomValenceException, return basic Murcko Scaffold\n",
      "Raise AtomValenceException, return basic Murcko Scaffold\n",
      "Raise AtomValenceException, return basic Murcko Scaffold\n",
      "Raise AtomValenceException, return basic Murcko Scaffold\n",
      "Raise AtomValenceException, return basic Murcko Scaffold\n",
      "Raise AtomValenceException, return basic Murcko Scaffold\n",
      "Raise AtomValenceException, return basic Murcko Scaffold\n",
      "Raise AtomValenceException, return basic Murcko Scaffold\n",
      "Raise AtomValenceException, return basic Murcko Scaffold\n",
      "Raise AtomValenceException, return basic Murcko Scaffold\n",
      "Raise AtomValenceException, return basic Murcko Scaffold\n",
      "Raise AtomValenceException, return basic Murcko Scaffold\n",
      "Raise AtomValenceException, return basic Murcko Scaffold\n",
      "Raise AtomValenceException, return basic Murcko Scaffold\n",
      "Raise AtomValenceException, return basic Murcko Scaffold\n",
      "Raise AtomValenceException, return basic Murcko Scaffold\n",
      "Raise AtomValenceException, return basic Murcko Scaffold\n",
      "Raise AtomValenceException, return basic Murcko Scaffold\n",
      "Raise AtomValenceException, return basic Murcko Scaffold\n",
      "Raise AtomValenceException, return basic Murcko Scaffold\n",
      "Raise AtomValenceException, return basic Murcko Scaffold\n",
      "Raise AtomValenceException, return basic Murcko Scaffold\n",
      "Raise AtomValenceException, return basic Murcko Scaffold\n",
      "Raise AtomValenceException, return basic Murcko Scaffold\n",
      "Raise AtomValenceException, return basic Murcko Scaffold\n",
      "Raise AtomValenceException, return basic Murcko Scaffold\n",
      "Raise AtomValenceException, return basic Murcko Scaffold\n",
      "Raise AtomValenceException, return basic Murcko Scaffold\n",
      "Raise AtomValenceException, return basic Murcko Scaffold\n",
      "Raise AtomValenceException, return basic Murcko Scaffold\n",
      "Raise AtomValenceException, return basic Murcko Scaffold\n",
      "Raise AtomValenceException, return basic Murcko Scaffold\n",
      "Raise AtomValenceException, return basic Murcko Scaffold\n",
      "Raise AtomValenceException, return basic Murcko Scaffold\n",
      "Raise AtomValenceException, return basic Murcko Scaffold\n",
      "Raise AtomValenceException, return basic Murcko Scaffold\n",
      "Raise AtomValenceException, return basic Murcko Scaffold\n",
      "Raise AtomValenceException, return basic Murcko Scaffold\n",
      "Raise AtomValenceException, return basic Murcko Scaffold\n",
      "Raise AtomValenceException, return basic Murcko Scaffold\n",
      "Raise AtomValenceException, return basic Murcko Scaffold\n",
      "Raise AtomValenceException, return basic Murcko Scaffold\n",
      "Raise AtomValenceException, return basic Murcko Scaffold\n",
      "Raise AtomValenceException, return basic Murcko Scaffold\n",
      "Raise AtomValenceException, return basic Murcko Scaffold\n",
      "Raise AtomValenceException, return basic Murcko Scaffold\n",
      "Raise AtomValenceException, return basic Murcko Scaffold\n",
      "Raise AtomValenceException, return basic Murcko Scaffold\n",
      "Raise AtomValenceException, return basic Murcko Scaffold\n",
      "Raise AtomValenceException, return basic Murcko Scaffold\n",
      "Raise AtomValenceException, return basic Murcko Scaffold\n",
      "Raise AtomValenceException, return basic Murcko Scaffold\n",
      "Raise AtomValenceException, return basic Murcko Scaffold\n",
      "Raise AtomValenceException, return basic Murcko Scaffold\n",
      "Raise AtomValenceException, return basic Murcko Scaffold\n",
      "Raise AtomValenceException, return basic Murcko Scaffold\n",
      "Raise AtomValenceException, return basic Murcko Scaffold\n",
      "Raise AtomValenceException, return basic Murcko Scaffold\n",
      "Raise AtomValenceException, return basic Murcko Scaffold\n",
      "Raise AtomValenceException, return basic Murcko Scaffold\n",
      "Raise AtomValenceException, return basic Murcko Scaffold\n",
      "Raise AtomValenceException, return basic Murcko Scaffold\n",
      "Raise AtomValenceException, return basic Murcko Scaffold\n",
      "Raise AtomValenceException, return basic Murcko Scaffold\n",
      "Raise AtomValenceException, return basic Murcko Scaffold\n",
      "Raise AtomValenceException, return basic Murcko Scaffold\n"
     ]
    },
    {
     "name": "stderr",
     "output_type": "stream",
     "text": [
      "\r",
      "100%|██████████| 1000/1000 [00:10<00:00, 93.99it/s]"
     ]
    },
    {
     "name": "stdout",
     "output_type": "stream",
     "text": [
      "Raise AtomValenceException, return basic Murcko Scaffold\n",
      "Raise AtomValenceException, return basic Murcko Scaffold\n",
      "Raise AtomValenceException, return basic Murcko Scaffold\n",
      "Raise AtomValenceException, return basic Murcko Scaffold\n",
      "Raise AtomValenceException, return basic Murcko Scaffold\n",
      "Raise AtomValenceException, return basic Murcko Scaffold\n",
      "Raise AtomValenceException, return basic Murcko Scaffold\n",
      "Raise AtomValenceException, return basic Murcko Scaffold\n",
      "Raise AtomValenceException, return basic Murcko Scaffold\n",
      "Raise AtomValenceException, return basic Murcko Scaffold\n",
      "Raise AtomValenceException, return basic Murcko Scaffold\n",
      "Raise AtomValenceException, return basic Murcko Scaffold\n",
      "Raise AtomValenceException, return basic Murcko Scaffold\n",
      "Raise AtomValenceException, return basic Murcko Scaffold\n",
      "Raise AtomValenceException, return basic Murcko Scaffold\n",
      "Raise AtomValenceException, return basic Murcko Scaffold\n",
      "Raise AtomValenceException, return basic Murcko Scaffold\n",
      "Raise AtomValenceException, return basic Murcko Scaffold\n",
      "Raise AtomValenceException, return basic Murcko Scaffold\n",
      "Raise AtomValenceException, return basic Murcko Scaffold\n",
      "Raise AtomValenceException, return basic Murcko Scaffold\n",
      "Raise AtomValenceException, return basic Murcko Scaffold\n",
      "Raise AtomValenceException, return basic Murcko Scaffold\n",
      "Raise AtomValenceException, return basic Murcko Scaffold\n",
      "Raise AtomValenceException, return basic Murcko Scaffold\n",
      "Raise AtomValenceException, return basic Murcko Scaffold\n",
      "Raise AtomValenceException, return basic Murcko Scaffold\n",
      "Raise AtomValenceException, return basic Murcko Scaffold\n"
     ]
    },
    {
     "name": "stderr",
     "output_type": "stream",
     "text": [
      "\n"
     ]
    }
   ],
   "source": [
    "all_spectrums_original = LoadData.get_all_spectrums(mgf_path,1000)"
   ]
  },
  {
   "cell_type": "code",
   "execution_count": 18,
   "id": "5da3d0c7",
   "metadata": {},
   "outputs": [
    {
     "data": {
      "text/plain": [
       "1000"
      ]
     },
     "execution_count": 18,
     "metadata": {},
     "output_type": "execute_result"
    }
   ],
   "source": [
    "len(all_spectrums_original)"
   ]
  },
  {
   "cell_type": "code",
   "execution_count": 19,
   "id": "6633b75e",
   "metadata": {},
   "outputs": [
    {
     "name": "stderr",
     "output_type": "stream",
     "text": [
      "1000it [00:00, 7561.13it/s]\n"
     ]
    }
   ],
   "source": [
    "### preprocess \n",
    "all_spectrums = pp.preprocess_all_spectrums(all_spectrums_original)"
   ]
  },
  {
   "cell_type": "code",
   "execution_count": 20,
   "id": "9ed57bb6",
   "metadata": {},
   "outputs": [
    {
     "data": {
      "text/plain": [
       "1000"
      ]
     },
     "execution_count": 20,
     "metadata": {},
     "output_type": "execute_result"
    }
   ],
   "source": [
    "len(all_spectrums)"
   ]
  },
  {
   "cell_type": "markdown",
   "id": "a6a42e4e",
   "metadata": {},
   "source": [
    "## Divide data into training/test  + computing similarity score"
   ]
  },
  {
   "cell_type": "code",
   "execution_count": 39,
   "id": "8a55ca6a",
   "metadata": {},
   "outputs": [
    {
     "name": "stdout",
     "output_type": "stream",
     "text": [
      "False\n"
     ]
    }
   ],
   "source": [
    "# divide train and test\n",
    "all_spectrums_train, all_spectrums_val, all_spectrums_test = TrainUtils.train_val_test_split_bms(all_spectrums)\n",
    "#all_spectrums_train, all_spectrums_test = train_test_split(all_spectrums)"
   ]
  },
  {
   "cell_type": "code",
   "execution_count": 40,
   "id": "39be1123",
   "metadata": {},
   "outputs": [
    {
     "data": {
      "text/plain": [
       "477"
      ]
     },
     "execution_count": 40,
     "metadata": {},
     "output_type": "execute_result"
    }
   ],
   "source": [
    "len(all_spectrums_train)"
   ]
  },
  {
   "cell_type": "code",
   "execution_count": 41,
   "id": "68fff940",
   "metadata": {},
   "outputs": [
    {
     "data": {
      "text/plain": [
       "(144, 150)"
      ]
     },
     "execution_count": 41,
     "metadata": {},
     "output_type": "execute_result"
    }
   ],
   "source": [
    "len(all_spectrums_val), len(all_spectrums_test)"
   ]
  },
  {
   "cell_type": "code",
   "execution_count": 30,
   "id": "2a84a163",
   "metadata": {},
   "outputs": [
    {
     "name": "stdout",
     "output_type": "stream",
     "text": [
      "Getting indexes ... \n"
     ]
    },
    {
     "name": "stderr",
     "output_type": "stream",
     "text": [
      "100%|██████████| 679/679 [00:00<00:00, 3934.23it/s]\n"
     ]
    },
    {
     "name": "stdout",
     "output_type": "stream",
     "text": [
      "Computing all the tanimoto results\n"
     ]
    },
    {
     "name": "stderr",
     "output_type": "stream",
     "text": [
      " 19%|█▊        | 1852/10000 [00:05<00:23, 352.38it/s]\n",
      "\n",
      "KeyboardInterrupt\n",
      "\n"
     ]
    }
   ],
   "source": [
    "molecule_pairs_train= TrainUtils.compute_all_tanimoto_results(all_spectrums_train[0:10000], max_combinations=10**4)"
   ]
  },
  {
   "cell_type": "code",
   "execution_count": 28,
   "id": "a1d1aea1",
   "metadata": {},
   "outputs": [
    {
     "name": "stdout",
     "output_type": "stream",
     "text": [
      "Getting indexes ... \n"
     ]
    },
    {
     "name": "stderr",
     "output_type": "stream",
     "text": [
      "100%|██████████| 183/183 [00:00<00:00, 11714.32it/s]\n"
     ]
    },
    {
     "name": "stdout",
     "output_type": "stream",
     "text": [
      "Computing all the tanimoto results\n"
     ]
    },
    {
     "name": "stderr",
     "output_type": "stream",
     "text": [
      "100%|██████████| 6814/6814 [00:43<00:00, 157.99it/s]\n"
     ]
    }
   ],
   "source": [
    "molecule_pairs_val = TrainUtils.compute_all_tanimoto_results(all_spectrums_test[0:10000], max_combinations=10**4)"
   ]
  },
  {
   "cell_type": "code",
   "execution_count": 29,
   "id": "9aeb1a9d",
   "metadata": {},
   "outputs": [
    {
     "name": "stdout",
     "output_type": "stream",
     "text": [
      "Getting indexes ... \n"
     ]
    },
    {
     "name": "stderr",
     "output_type": "stream",
     "text": [
      "100%|██████████| 183/183 [00:00<00:00, 11845.57it/s]\n"
     ]
    },
    {
     "name": "stdout",
     "output_type": "stream",
     "text": [
      "Computing all the tanimoto results\n"
     ]
    },
    {
     "name": "stderr",
     "output_type": "stream",
     "text": [
      "100%|██████████| 6814/6814 [00:43<00:00, 154.98it/s]\n"
     ]
    }
   ],
   "source": [
    "molecule_pairs_test = TrainUtils.compute_all_tanimoto_results(all_spectrums_test[0:10000], max_combinations=10**4)"
   ]
  },
  {
   "cell_type": "markdown",
   "id": "ac9cbd80",
   "metadata": {},
   "source": [
    "## Save data"
   ]
  },
  {
   "cell_type": "code",
   "execution_count": null,
   "id": "c1438081",
   "metadata": {},
   "outputs": [],
   "source": [
    "#import pickle\n",
    "# Dump the dictionary to a file using pickle\n",
    "\n",
    "#dataset ={'all_spectrums_train':all_spectrums_train,\n",
    "#          'all_spectrums_test': all_spectrums_test,\n",
    "#          'molecule_pairs_train':molecule_pairs_train,\n",
    "#          'molecule_pairs_test': molecule_pairs_test,\n",
    "#         }\n",
    "#with open('./dataset_processed.pkl', 'wb') as file:\n",
    "#    pickle.dump(dataset, file)"
   ]
  },
  {
   "cell_type": "markdown",
   "id": "76683a50",
   "metadata": {},
   "source": [
    "## Load data"
   ]
  },
  {
   "cell_type": "code",
   "execution_count": null,
   "id": "9a2201e1",
   "metadata": {},
   "outputs": [],
   "source": [
    "#import pickle\n",
    "\n",
    "# Load the dataset from the pickle file\n",
    "#with open('./dataset_processed.pkl', 'rb') as file:\n",
    "#    dataset = pickle.load(file)\n",
    "\n",
    "# Now you can access the original variables from the dataset dictionary\n",
    "#all_spectrums_train = dataset['all_spectrums_train']\n",
    "#all_spectrums_test = dataset['all_spectrums_test']\n",
    "#molecule_pairs_train = dataset['molecule_pairs_train']\n",
    "#molecule_pairs_test = dataset['molecule_pairs_test']\n"
   ]
  },
  {
   "cell_type": "markdown",
   "id": "27afc543",
   "metadata": {},
   "source": [
    "## Balance the data"
   ]
  },
  {
   "cell_type": "code",
   "execution_count": 42,
   "id": "c5e4e09d",
   "metadata": {},
   "outputs": [
    {
     "data": {
      "text/plain": [
       "(array([4019., 1003.,   76.]),\n",
       " array([0.02459016, 0.34972678, 0.67486339, 1.        ]),\n",
       " <BarContainer object of 3 artists>)"
      ]
     },
     "execution_count": 42,
     "metadata": {},
     "output_type": "execute_result"
    },
    {
     "data": {
      "image/png": "[encoded data removed]",
      "text/plain": [
       "<Figure size 640x480 with 1 Axes>"
      ]
     },
     "metadata": {},
     "output_type": "display_data"
    }
   ],
   "source": [
    "plt.hist([m.similarity for m in molecule_pairs_train], bins=3)"
   ]
  },
  {
   "cell_type": "code",
   "execution_count": 45,
   "id": "5868f937",
   "metadata": {},
   "outputs": [],
   "source": [
    "# get a uniform distribution of taminoto scores\n",
    "uniformed_molecule_pairs_train =TrainUtils.uniformise(molecule_pairs_train, number_bins=3)\n",
    "uniformed_molecule_pairs_val =TrainUtils.uniformise(molecule_pairs_val, number_bins=3)\n",
    "uniformed_molecule_pairs_test =TrainUtils.uniformise(molecule_pairs_test, number_bins=3)"
   ]
  },
  {
   "cell_type": "code",
   "execution_count": 47,
   "id": "9b1f4558",
   "metadata": {},
   "outputs": [
    {
     "data": {
      "image/png": "[encoded data removed]",
      "text/plain": [
       "<Figure size 640x480 with 1 Axes>"
      ]
     },
     "metadata": {},
     "output_type": "display_data"
    }
   ],
   "source": [
    "_=plt.hist([m.similarity for m in uniformed_molecule_pairs_val], bins=1)"
   ]
  },
  {
   "cell_type": "markdown",
   "id": "cb53aee0",
   "metadata": {},
   "source": [
    "## Train Siamese model"
   ]
  },
  {
   "cell_type": "code",
   "execution_count": 48,
   "id": "895aa932",
   "metadata": {},
   "outputs": [],
   "source": [
    "model = MlModel(input_dim=all_spectrums_train[0].spectrum_vector.shape[0])"
   ]
  },
  {
   "cell_type": "code",
   "execution_count": 49,
   "id": "032151d6",
   "metadata": {},
   "outputs": [
    {
     "name": "stdout",
     "output_type": "stream",
     "text": [
      "Model: \"model_1\"\n",
      "__________________________________________________________________________________________________\n",
      " Layer (type)                Output Shape                 Param #   Connected to                  \n",
      "==================================================================================================\n",
      " input_1 (InputLayer)        [(None, 991)]                0         []                            \n",
      "                                                                                                  \n",
      " input_2 (InputLayer)        [(None, 2)]                  0         []                            \n",
      "                                                                                                  \n",
      " input_3 (InputLayer)        [(None, 991)]                0         []                            \n",
      "                                                                                                  \n",
      " input_4 (InputLayer)        [(None, 2)]                  0         []                            \n",
      "                                                                                                  \n",
      " model (Functional)          (None, 32)                   147776    ['input_1[0][0]',             \n",
      "                                                                     'input_2[0][0]',             \n",
      "                                                                     'input_3[0][0]',             \n",
      "                                                                     'input_4[0][0]']             \n",
      "                                                                                                  \n",
      " concatenate_1 (Concatenate  (None, 64)                   0         ['model[0][0]',               \n",
      " )                                                                   'model[1][0]']               \n",
      "                                                                                                  \n",
      " reshape (Reshape)           (None, 32, 2)                0         ['concatenate_1[0][0]']       \n",
      "                                                                                                  \n",
      " conv1d (Conv1D)             (None, 32, 16)               336       ['reshape[0][0]']             \n",
      "                                                                                                  \n",
      " batch_normalization (Batch  (None, 32, 16)               64        ['conv1d[0][0]']              \n",
      " Normalization)                                                                                   \n",
      "                                                                                                  \n",
      " max_pooling1d (MaxPooling1  (None, 8, 16)                0         ['batch_normalization[0][0]'] \n",
      " D)                                                                                               \n",
      "                                                                                                  \n",
      " conv1d_1 (Conv1D)           (None, 8, 16)                2576      ['max_pooling1d[0][0]']       \n",
      "                                                                                                  \n",
      " batch_normalization_1 (Bat  (None, 8, 16)                64        ['conv1d_1[0][0]']            \n",
      " chNormalization)                                                                                 \n",
      "                                                                                                  \n",
      " max_pooling1d_1 (MaxPoolin  (None, 2, 16)                0         ['batch_normalization_1[0][0]'\n",
      " g1D)                                                               ]                             \n",
      "                                                                                                  \n",
      " flatten (Flatten)           (None, 32)                   0         ['max_pooling1d_1[0][0]']     \n",
      "                                                                                                  \n",
      " dense_5 (Dense)             (None, 32)                   1056      ['flatten[0][0]']             \n",
      "                                                                                                  \n",
      " dropout_5 (Dropout)         (None, 32)                   0         ['dense_5[0][0]']             \n",
      "                                                                                                  \n",
      " dense_6 (Dense)             (None, 1)                    33        ['dropout_5[0][0]']           \n",
      "                                                                                                  \n",
      "==================================================================================================\n",
      "Total params: 151905 (593.38 KB)\n",
      "Trainable params: 151841 (593.13 KB)\n",
      "Non-trainable params: 64 (256.00 Byte)\n",
      "__________________________________________________________________________________________________\n"
     ]
    }
   ],
   "source": [
    "model.compile()"
   ]
  },
  {
   "cell_type": "code",
   "execution_count": 50,
   "id": "5893fb0d",
   "metadata": {},
   "outputs": [
    {
     "data": {
      "image/png": "[encoded data removed]",
      "text/plain": [
       "<Figure size 640x480 with 1 Axes>"
      ]
     },
     "metadata": {},
     "output_type": "display_data"
    },
    {
     "name": "stdout",
     "output_type": "stream",
     "text": [
      "\b\b\b\b\b\b\b\b\b\b\b\b\b\b\b\b\b\b\b\b\b\b\b\b\b\b\b\b\b\b\b\b\b\b\b\b\b\b\b\b\b\b\b\b\b\b\b\b\b\b\b\b\b\b\b\b\b\b\b\b\b\b\b\b\b\b\b\b\b\b\b\b\b\b\b\r",
      "8/8 [==============================] - 0s 48ms/step - loss: 0.0845 - mse: 0.0845 - val_loss: 0.0701 - val_mse: 0.0701\n"
     ]
    }
   ],
   "source": [
    "model.fit(uniformed_molecule_pairs_train,uniformed_molecule_pairs_val, epochs=10)"
   ]
  },
  {
   "cell_type": "code",
   "execution_count": 51,
   "id": "fac30cc0",
   "metadata": {},
   "outputs": [],
   "source": [
    "model.load_best_model()\n",
    "\n"
   ]
  },
  {
   "cell_type": "markdown",
   "id": "63de4468",
   "metadata": {},
   "source": [
    "## Evaluate performance"
   ]
  },
  {
   "cell_type": "code",
   "execution_count": 52,
   "id": "ad95eeca",
   "metadata": {
    "scrolled": true
   },
   "outputs": [
    {
     "name": "stdout",
     "output_type": "stream",
     "text": [
      "8/8 [==============================] - 0s 3ms/step\n"
     ]
    }
   ],
   "source": [
    "prediction_results_train = model.predict(uniformed_molecule_pairs_train)"
   ]
  },
  {
   "cell_type": "code",
   "execution_count": 53,
   "id": "fdc6b618",
   "metadata": {},
   "outputs": [
    {
     "data": {
      "text/plain": [
       "(array([92., 64., 29., 11.,  6.,  4.,  6.,  1.,  6.,  9.]),\n",
       " array([0.49218646, 0.5141831 , 0.53617978, 0.55817646, 0.58017313,\n",
       "        0.60216975, 0.62416643, 0.64616311, 0.66815972, 0.6901564 ,\n",
       "        0.71215308]),\n",
       " <BarContainer object of 10 artists>)"
      ]
     },
     "execution_count": 53,
     "metadata": {},
     "output_type": "execute_result"
    },
    {
     "data": {
      "image/png": "[encoded data removed]",
      "text/plain": [
       "<Figure size 640x480 with 1 Axes>"
      ]
     },
     "metadata": {},
     "output_type": "display_data"
    }
   ],
   "source": [
    "plt.hist(prediction_results_train, bins=10)"
   ]
  },
  {
   "cell_type": "code",
   "execution_count": 54,
   "id": "6f10526f",
   "metadata": {},
   "outputs": [
    {
     "name": "stdout",
     "output_type": "stream",
     "text": [
      "23/23 [==============================] - 0s 3ms/step\n"
     ]
    }
   ],
   "source": [
    "prediction_results_test = model.predict(uniformed_molecule_pairs_test)"
   ]
  },
  {
   "cell_type": "code",
   "execution_count": 55,
   "id": "151718ba",
   "metadata": {},
   "outputs": [
    {
     "data": {
      "image/png": "[encoded data removed]",
      "text/plain": [
       "<Figure size 640x480 with 1 Axes>"
      ]
     },
     "metadata": {},
     "output_type": "display_data"
    }
   ],
   "source": [
    "\n",
    "plt.scatter([m.similarity for m in uniformed_molecule_pairs_train], prediction_results_train, alpha=0.01)\n",
    "plt.title('Prediction of Taminoto score (TRAIN)')\n",
    "plt.xlabel('true')\n",
    "plt.ylabel('pred')\n",
    "plt.grid()"
   ]
  },
  {
   "cell_type": "code",
   "execution_count": 56,
   "id": "22a8fe82",
   "metadata": {},
   "outputs": [
    {
     "data": {
      "image/png": "[encoded data removed]",
      "text/plain": [
       "<Figure size 640x480 with 1 Axes>"
      ]
     },
     "metadata": {},
     "output_type": "display_data"
    }
   ],
   "source": [
    "plt.scatter([m.similarity for m in uniformed_molecule_pairs_test], prediction_results_test, alpha=0.3)\n",
    "plt.title('Prediction of Taminoto score (test)')\n",
    "plt.xlabel('true')\n",
    "plt.ylabel('pred')\n",
    "plt.grid()"
   ]
  },
  {
   "cell_type": "code",
   "execution_count": 57,
   "id": "d51b0ed1",
   "metadata": {},
   "outputs": [
    {
     "data": {
      "text/plain": [
       "0.1062647747088118"
      ]
     },
     "execution_count": 57,
     "metadata": {},
     "output_type": "execute_result"
    }
   ],
   "source": [
    "r2_score([m.similarity for m in uniformed_molecule_pairs_test], prediction_results_test)"
   ]
  },
  {
   "cell_type": "code",
   "execution_count": null,
   "id": "aa4e796a",
   "metadata": {},
   "outputs": [],
   "source": []
  },
  {
   "cell_type": "code",
   "execution_count": null,
   "id": "ecd30c46",
   "metadata": {},
   "outputs": [],
   "source": []
  },
  {
   "cell_type": "code",
   "execution_count": null,
   "id": "b2b5f816",
   "metadata": {},
   "outputs": [],
   "source": []
  },
  {
   "cell_type": "code",
   "execution_count": null,
   "id": "dc507024",
   "metadata": {},
   "outputs": [],
   "source": [
    "-"
   ]
  }
 ],
 "metadata": {
  "kernelspec": {
   "display_name": "Python 3 (ipykernel)",
   "language": "python",
   "name": "python3"
  },
  "language_info": {
   "codemirror_mode": {
    "name": "ipython",
    "version": 3
   },
   "file_extension": ".py",
   "mimetype": "text/x-python",
   "name": "python",
   "nbconvert_exporter": "python",
   "pygments_lexer": "ipython3",
   "version": "3.11.3"
  }
 },
 "nbformat": 4,
 "nbformat_minor": 5
}
