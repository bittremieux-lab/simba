{
 "cells": [
  {
   "cell_type": "code",
   "execution_count": 25,
   "id": "50360883-ed2c-41f8-becc-bec985aa0ce5",
   "metadata": {},
   "outputs": [
    {
     "name": "stdout",
     "output_type": "stream",
     "text": [
      "The autoreload extension is already loaded. To reload it, use:\n",
      "  %reload_ext autoreload\n"
     ]
    }
   ],
   "source": [
    "%load_ext autoreload\n",
    "%autoreload 2"
   ]
  },
  {
   "cell_type": "code",
   "execution_count": 26,
   "id": "de3f5b42-5255-45de-ae10-86d024fb5632",
   "metadata": {},
   "outputs": [],
   "source": [
    "import os\n",
    "os.chdir('/Users/sebas/projects/metabolomics')\n",
    "os.environ[\"PYTORCH_ENABLE_MPS_FALLBACK\"] = \"1\""
   ]
  },
  {
   "cell_type": "code",
   "execution_count": 27,
   "id": "f3e98ba8-7bd9-4e48-90c9-72a24b94172c",
   "metadata": {},
   "outputs": [],
   "source": [
    "from src.transformers.sklearn_model import SklearnModel\n",
    "import gensim\n",
    "from src.load_data import LoadData\n",
    "from src.config import Config\n",
    "from tqdm import tqdm\n",
    "from src.loader_saver import LoaderSaver\n",
    "import itertools\n",
    "import numpy as np\n",
    "from scipy.stats import spearmanr\n",
    "from matchms.filtering import add_fingerprint\n",
    "import dill\n",
    "from src.plotting import Plotting\n",
    "from src.load_data import LoadData\n",
    "from src.molecule_pairs_opt import MoleculePairsOpt\n",
    "from sklearn.model_selection import train_test_split\n",
    "from src.train_utils import TrainUtils\n",
    "from src.preprocessor import Preprocessor\n",
    "import pickle\n",
    "import sys\n",
    "from src.tanimoto import Tanimoto\n",
    "from src.config import Config\n",
    "from src.parser import Parser\n",
    "from datetime import datetime\n",
    "from ms2deepscore import MS2DeepScore\n",
    "from src.loader_saver import LoaderSaver\n",
    "from src.molecular_pairs_set import MolecularPairsSet\n",
    "from scipy.stats import spearmanr\n",
    "from src.transformers.embedder import Embedder\n",
    "from src.transformers.encoder import Encoder\n",
    "import matplotlib.pyplot as plt\n",
    "from src.transformers.CustomDatasetEncoder import CustomDatasetEncoder\n",
    "from src.transformers.load_data_encoder import LoadDataEncoder\n",
    "from torch.utils.data import DataLoader\n",
    "from src.analog_discovery.cosine_similarity import CosineSimilarity\n",
    "from rdkit import Chem\n",
    "from matchms.importing import load_from_mgf,load_from_msp\n",
    "from matchms.similarity import ModifiedCosine\n",
    "from src.spec2vec_comparison import Spec2VecComparison\n",
    "from spec2vec import Spec2Vec\n",
    "import tensorflow as tf\n",
    "from ms2deepscore.models import load_model\n",
    "from matchms.similarity import FingerprintSimilarity\n",
    "from matchms.similarity import ModifiedCosine"
   ]
  },
  {
   "cell_type": "markdown",
   "id": "a52a9280-cfe5-41c0-bcea-d7bf7f951bb8",
   "metadata": {},
   "source": [
    "## params"
   ]
  },
  {
   "cell_type": "code",
   "execution_count": 28,
   "id": "3ee60012-a0bf-41e9-9ae4-f275116eba59",
   "metadata": {},
   "outputs": [
    {
     "name": "stdout",
     "output_type": "stream",
     "text": [
      "ALL_GNPS_NO_PROPOGATED_wb.mgf\n",
      "GNPS-NIH-NATURALPRODUCTSLIBRARY.mgf\n",
      "all_spectrums_gnps.pkl\n",
      "all_spectrums_gnps_nist_20240130_gnps_nist_janssen.pkl\n",
      "all_spectrums_janssen.pkl\n",
      "all_spectrums_nist.pkl\n",
      "best_model.ckpt\n",
      "best_model_100_millions_more_epochs.ckpt\n",
      "best_model_100_millions_more_epochs_day3.ckpt\n",
      "best_model_1024n_10layers.ckpt\n",
      "best_model_128n_10_layers_20240209.ckpt\n",
      "best_model_128n_5_layers_20240219_elementwise.ckpt\n",
      "best_model_128n_5_layers_20240229.ckpt\n",
      "best_model_128n_5_layers_20240303.ckpt\n",
      "best_model_150_millions.ckpt\n",
      "best_model_20240301.ckpt\n",
      "best_model_20240318_lib_cos_sim.ckpt\n",
      "best_model_20240319_v2_512u_5_layers.ckpt\n",
      "best_model_20240409_10_million_not_bining_sim_1.ckpt\n",
      "best_model_20240409_1_million_not_bining_sim_1.ckpt\n",
      "best_model_20240411_no_identity.ckpt\n",
      "best_model_20240411_no_sim1.ckpt\n",
      "best_model_20240507_100_millions_no_identity.ckpt\n",
      "best_model_exhaustive_128n_20240522.ckpt\n",
      "best_model_exhaustive_sampled_128n_20240523.ckpt\n",
      "best_model_exhaustive_sampled_128n_20240523_with_pretrained.ckpt\n",
      "best_model_new_preprocessing_20240516.ckpt\n",
      "best_model_pretrain_low_range.ckpt\n",
      "best_model_rebalance_100_millions.ckpt\n",
      "drug_plus.mgf\n",
      "drug_plus.pkl\n",
      "\u001b[31mhr_msms_nist_all.MSP\u001b[m\u001b[m*\n",
      "hr_msms_nist_sample.MSP\n",
      "indexes_tani_train_exhaustive.npy\n",
      "merged_gnps_nist_20240118_gnps_nist_janssen.pkl\n",
      "merged_gnps_nist_20240207_gnps_nist_janssen_15_millions.pkl\n",
      "merged_gnps_nist_20240227_gnps_nist_janssen_20_millions_OUTSIDE_MAX_DIFF_NO_JANSSEN.pkl\n",
      "merged_gnps_nist_20240311_unique_smiles_1_million.pkl\n",
      "merged_gnps_nist_20240319_unique_smiles_100_million_v2_no_identity.pkl\n",
      "merged_gnps_nist_20240319_unique_smiles_1_million_v2.pkl\n",
      "merged_gnps_nist_20240319_unique_smiles_1_million_v2_no_identity.pkl\n",
      "ms2deepscore_positive_10k_1000_1000_1000_500.hdf5\n",
      "\u001b[34mprocessed_massformer\u001b[m\u001b[m/\n",
      "scores_per_model.pkl\n",
      "spec2vec_AllPositive_ratio05_filtered_201101_iter_15.model\n",
      "spec2vec_AllPositive_ratio05_filtered_201101_iter_15.model.trainables.syn1neg.npy\n",
      "spec2vec_AllPositive_ratio05_filtered_201101_iter_15.model.wv.vectors.npy\n",
      "to_export_gnps_nist.pkl\n",
      "uniformed_molecule_pairs_test.pkl\n"
     ]
    }
   ],
   "source": [
    "ls /Users/sebas/projects/data/"
   ]
  },
  {
   "cell_type": "code",
   "execution_count": 29,
   "id": "510a6872-e306-4977-972d-73023876e21e",
   "metadata": {},
   "outputs": [],
   "source": [
    "data_folder= '/Users/sebas/projects/data/'\n",
    "gnps_path =  data_folder + 'ALL_GNPS_NO_PROPOGATED_wb.mgf'\n",
    "mergeion_path = data_folder + 'drug_plus.mgf'\n",
    "casmi_path = data_folder + 'processed_massformer/casmi2022.mgf'\n",
    "nist_path = data_folder + 'hr_msms_nist_all.MSP'\n",
    "output_janssen_file= data_folder + 'all_spectrums_janssen.pkl'\n",
    "dataset_path= data_folder +'merged_gnps_nist_20240311_unique_smiles_1_million.pkl'\n",
    "model_path = data_folder + 'best_model_20240319_v2_512u_5_layers.ckpt'\n",
    "model_spec2vec_file = data_folder + 'spec2vec_AllPositive_ratio05_filtered_201101_iter_15.model'\n",
    "model_ms2d_file = data_folder + 'ms2deepscore_positive_10k_1000_1000_1000_500.hdf5'"
   ]
  },
  {
   "cell_type": "code",
   "execution_count": 30,
   "id": "7d36a491-4178-416c-bb79-408dcbf6ac10",
   "metadata": {},
   "outputs": [],
   "source": [
    "config=Config()"
   ]
  },
  {
   "cell_type": "code",
   "execution_count": 31,
   "id": "f0123044-37f8-4d2b-965a-4c13aaee7995",
   "metadata": {},
   "outputs": [],
   "source": [
    "config.D_MODEL=512\n",
    "config.N_LAYERS=5"
   ]
  },
  {
   "cell_type": "code",
   "execution_count": 32,
   "id": "c15a2673-b6f1-4c58-9f5f-1e46f8ce586f",
   "metadata": {},
   "outputs": [],
   "source": [
    "#similarity_name= 'spec2vec'\n",
    "#similarity_name= 'spec2vec_casmi'\n",
    "#similarity_name='ms2deepscore'\n",
    "#similarity_name='ms2deepscore_casmi'\n",
    "#similarity_name='modified_cosine'\n",
    "#similarity_name='modified_cosine_casmi'\n",
    "#similarity_name='tanimoto_similarity'\n",
    "similarity_name='tanimoto_similarity_casmi'"
   ]
  },
  {
   "cell_type": "code",
   "execution_count": 33,
   "id": "25792be9-45da-4014-9c35-8dc76fb49fd1",
   "metadata": {},
   "outputs": [],
   "source": [
    "USE_CASMI=True"
   ]
  },
  {
   "cell_type": "code",
   "execution_count": 65,
   "id": "eef04702-f8aa-46cf-93ff-b0ed596fe31b",
   "metadata": {},
   "outputs": [],
   "source": [
    "OPEN_PREPROCESSED_DATA=False"
   ]
  },
  {
   "cell_type": "markdown",
   "id": "fad919ec-2fe6-42fa-9c99-d4669bc95e27",
   "metadata": {},
   "source": [
    "## open janssen data"
   ]
  },
  {
   "cell_type": "code",
   "execution_count": 35,
   "id": "84ab64e1-07fd-4e2b-a2de-2d1b86a31365",
   "metadata": {},
   "outputs": [],
   "source": [
    "janssen_path = casmi_path if USE_CASMI else mergeion_path"
   ]
  },
  {
   "cell_type": "code",
   "execution_count": 36,
   "id": "f2793615-5a14-4daa-98ea-eca6d290abc0",
   "metadata": {},
   "outputs": [],
   "source": [
    "all_spectrums_janssen_matchms = [s for s in load_from_mgf(janssen_path)]"
   ]
  },
  {
   "cell_type": "code",
   "execution_count": 37,
   "id": "e8c27d2e-2cbf-4ff6-bc32-a853c1bfe9c6",
   "metadata": {},
   "outputs": [
    {
     "data": {
      "text/plain": [
       "170"
      ]
     },
     "execution_count": 37,
     "metadata": {},
     "output_type": "execute_result"
    }
   ],
   "source": [
    "len(all_spectrums_janssen_matchms)"
   ]
  },
  {
   "cell_type": "code",
   "execution_count": 38,
   "id": "5e70c91b-db9c-4cac-a78b-6a7329c56703",
   "metadata": {},
   "outputs": [],
   "source": [
    "loader_saver = LoaderSaver(\n",
    "        block_size=100,\n",
    "        pickle_nist_path='',\n",
    "        pickle_gnps_path='',\n",
    "        pickle_janssen_path=output_janssen_file,\n",
    "    )"
   ]
  },
  {
   "cell_type": "code",
   "execution_count": 39,
   "id": "24f40386-b7af-42e7-9540-5b99d0e68576",
   "metadata": {},
   "outputs": [
    {
     "name": "stderr",
     "output_type": "stream",
     "text": [
      "  0%|                                                                                                                                                                   | 170/100000000 [00:00<8:17:05, 3352.79it/s]"
     ]
    },
    {
     "name": "stdout",
     "output_type": "stream",
     "text": [
      "We reached the end of the array at index 170\n"
     ]
    },
    {
     "name": "stderr",
     "output_type": "stream",
     "text": [
      "\n"
     ]
    }
   ],
   "source": [
    "all_spectrums_janssen_su = loader_saver.get_all_spectrums(\n",
    "            janssen_path,\n",
    "            100000000,\n",
    "            use_tqdm=True,\n",
    "            use_nist=False,\n",
    "            config=config,\n",
    "            use_janssen=True,\n",
    "        )"
   ]
  },
  {
   "cell_type": "code",
   "execution_count": 40,
   "id": "09d3f850-2268-43f2-836c-02ecd991beb9",
   "metadata": {},
   "outputs": [
    {
     "data": {
      "text/plain": [
       "170"
      ]
     },
     "execution_count": 40,
     "metadata": {},
     "output_type": "execute_result"
    }
   ],
   "source": [
    "len(all_spectrums_janssen_su)"
   ]
  },
  {
   "cell_type": "markdown",
   "id": "1fa5a533-cea8-4bcb-9c87-f47ec4ace92d",
   "metadata": {},
   "source": [
    "## open ref data"
   ]
  },
  {
   "cell_type": "code",
   "execution_count": 41,
   "id": "6d34c412-b4ef-4828-a872-c288f1195ce2",
   "metadata": {},
   "outputs": [],
   "source": [
    "with open(dataset_path, 'rb') as file:\n",
    "            dataset = dill.load(file)"
   ]
  },
  {
   "cell_type": "code",
   "execution_count": 42,
   "id": "d1504d75-c98c-4888-85a6-62f20f48b4ae",
   "metadata": {},
   "outputs": [],
   "source": [
    "all_spectrums_reference_su= dataset['molecule_pairs_train'].spectrums_original +\\\n",
    "                    dataset['molecule_pairs_val'].spectrums_original + \\\n",
    "                        dataset['molecule_pairs_test'].spectrums_original"
   ]
  },
  {
   "cell_type": "code",
   "execution_count": 43,
   "id": "bf01e52f-0a11-4b3a-9b90-3741dd59a273",
   "metadata": {},
   "outputs": [],
   "source": [
    "all_spectrums_gnps_matchms = [s for s in load_from_mgf(gnps_path)]"
   ]
  },
  {
   "cell_type": "code",
   "execution_count": 44,
   "id": "64379efd-bf07-4664-a38d-362ded97ec6c",
   "metadata": {},
   "outputs": [],
   "source": [
    "all_spectrums_nist_matchms=  [s for s in load_from_msp(nist_path)]"
   ]
  },
  {
   "cell_type": "code",
   "execution_count": 45,
   "id": "14e7f9d8-e863-473b-9056-c62ecfd814da",
   "metadata": {},
   "outputs": [],
   "source": [
    "all_spectrums_reference_matchms = all_spectrums_gnps_matchms + all_spectrums_nist_matchms"
   ]
  },
  {
   "cell_type": "code",
   "execution_count": 46,
   "id": "808a493a-5dfd-43c5-b329-4bdc5e85395e",
   "metadata": {},
   "outputs": [],
   "source": [
    "#compute all the hashes from the datasets\n",
    "target_hashes = [s.spectrum_hash for s in all_spectrums_reference_su]"
   ]
  },
  {
   "cell_type": "code",
   "execution_count": 47,
   "id": "abc88a20-f238-4658-80a3-6df96fc2b2cf",
   "metadata": {},
   "outputs": [
    {
     "name": "stderr",
     "output_type": "stream",
     "text": [
      "100%|██████████████████████████████████████████████████████████████████████████████████████████████████████████████████████████████████████████████████████████████████| 1531552/1531552 [01:00<00:00, 25211.95it/s]\n"
     ]
    }
   ],
   "source": [
    "matchms_hashes=[]\n",
    "for s in  tqdm(all_spectrums_reference_matchms):\n",
    "    matchms_hashes.append(s.spectrum_hash())"
   ]
  },
  {
   "cell_type": "code",
   "execution_count": 48,
   "id": "eb5fb6a8-7556-4b8e-a363-c14c1617cd41",
   "metadata": {},
   "outputs": [
    {
     "data": {
      "text/plain": [
       "326386"
      ]
     },
     "execution_count": 48,
     "metadata": {},
     "output_type": "execute_result"
    }
   ],
   "source": [
    "len(target_hashes)"
   ]
  },
  {
   "cell_type": "code",
   "execution_count": 49,
   "id": "0fc0a79d-b4c6-42b9-8a2e-993cc1587182",
   "metadata": {},
   "outputs": [
    {
     "data": {
      "text/plain": [
       "1531552"
      ]
     },
     "execution_count": 49,
     "metadata": {},
     "output_type": "execute_result"
    }
   ],
   "source": [
    "len(all_spectrums_reference_matchms)"
   ]
  },
  {
   "cell_type": "code",
   "execution_count": 50,
   "id": "7a8b7758-d4dc-438d-8b2c-6811abddee20",
   "metadata": {},
   "outputs": [
    {
     "data": {
      "text/plain": [
       "3"
      ]
     },
     "execution_count": 50,
     "metadata": {},
     "output_type": "execute_result"
    }
   ],
   "source": [
    "matchms_hashes.index(target_hashes[0])"
   ]
  },
  {
   "cell_type": "code",
   "execution_count": 51,
   "id": "8e97101e-8c6e-4e01-aab0-0e8048e0a7c2",
   "metadata": {},
   "outputs": [
    {
     "name": "stderr",
     "output_type": "stream",
     "text": [
      "100%|██████████████████████████████████████████████████████████████████████████████████████████████████████████████████████████████████████████████████████████████████████| 326386/326386 [26:50<00:00, 202.67it/s]\n"
     ]
    }
   ],
   "source": [
    "indexes_matched = [matchms_hashes.index(t) for t in tqdm(target_hashes)]"
   ]
  },
  {
   "cell_type": "code",
   "execution_count": 52,
   "id": "96eaf36f-2c36-42a4-bdfb-5a6dfeac3ec0",
   "metadata": {},
   "outputs": [],
   "source": [
    "all_spectrums_reference = [all_spectrums_reference_matchms[index] for index in indexes_matched]"
   ]
  },
  {
   "cell_type": "code",
   "execution_count": 53,
   "id": "40d8f239-f53e-4fad-ac00-fc0a87b95d49",
   "metadata": {},
   "outputs": [],
   "source": [
    "for i,(s_ref, s_su) in enumerate(zip(all_spectrums_reference, all_spectrums_reference_su)):\n",
    "    new_metadata=s_ref.metadata.copy()\n",
    "    new_metadata['smiles']=s_su.smiles\n",
    "    all_spectrums_reference[i].metadata=new_metadata"
   ]
  },
  {
   "cell_type": "markdown",
   "id": "10396d09-0837-4e65-8122-84378bfdf4c2",
   "metadata": {},
   "source": [
    "## Filter spectra from Janssen"
   ]
  },
  {
   "cell_type": "code",
   "execution_count": 54,
   "id": "d664f22d-5380-4288-9aa2-30cdc765a0c4",
   "metadata": {},
   "outputs": [],
   "source": [
    "su_hashes = [s.spectrum_hash for s in all_spectrums_janssen_su]"
   ]
  },
  {
   "cell_type": "code",
   "execution_count": 55,
   "id": "4f87cabf-f995-4929-8688-9b0a1536af03",
   "metadata": {},
   "outputs": [],
   "source": [
    "all_spectrums_janssen = [s for s in all_spectrums_janssen_matchms if s.spectrum_hash() in su_hashes]"
   ]
  },
  {
   "cell_type": "markdown",
   "id": "89c2d2b2-aeae-4826-8286-26322fb47610",
   "metadata": {},
   "source": [
    "## Find those instances that are not in reference"
   ]
  },
  {
   "cell_type": "code",
   "execution_count": 56,
   "id": "7de8a005-af76-4c82-bf45-38c6fe3843b5",
   "metadata": {},
   "outputs": [],
   "source": [
    "canon_smiles_reference = [Chem.CanonSmiles(s.metadata['smiles']) for s in all_spectrums_reference]\n",
    "canon_smiles_janssen =   [Chem.CanonSmiles(s.metadata['smiles']) for s in all_spectrums_janssen]\n",
    "janssen_indexes_in_ref= [i for i,s in enumerate(canon_smiles_janssen) if s in canon_smiles_reference]\n",
    "janssen_indexes_not_in_ref = [i for i,s in enumerate(canon_smiles_janssen) if s not in canon_smiles_reference]"
   ]
  },
  {
   "cell_type": "code",
   "execution_count": null,
   "id": "3d18b57d-2450-4dc1-9f2a-e038917ff873",
   "metadata": {},
   "outputs": [],
   "source": []
  },
  {
   "cell_type": "code",
   "execution_count": 57,
   "id": "53bd924c-a799-4957-a5fd-89468054eb13",
   "metadata": {},
   "outputs": [
    {
     "data": {
      "text/plain": [
       "(28, 142)"
      ]
     },
     "execution_count": 57,
     "metadata": {},
     "output_type": "execute_result"
    }
   ],
   "source": [
    "len(janssen_indexes_in_ref),len(janssen_indexes_not_in_ref)"
   ]
  },
  {
   "cell_type": "code",
   "execution_count": 58,
   "id": "d70eb35c-1693-4335-99f2-7440caaa4f2b",
   "metadata": {},
   "outputs": [],
   "source": [
    "all_spectrums_janssen = [all_spectrums_janssen[index] for index in janssen_indexes_not_in_ref]"
   ]
  },
  {
   "cell_type": "markdown",
   "id": "12a19c90-4a0f-4c3c-b7ab-ebff663145b6",
   "metadata": {},
   "source": [
    "## load model"
   ]
  },
  {
   "cell_type": "code",
   "execution_count": 59,
   "id": "771cc734-7935-43d0-8805-044c72d29302",
   "metadata": {},
   "outputs": [],
   "source": [
    "#encoder= Encoder(model_path, D_MODEL=int(config.D_MODEL),N_LAYERS=int(config.N_LAYERS))"
   ]
  },
  {
   "cell_type": "code",
   "execution_count": 60,
   "id": "844dbf2d-d501-4a28-bc83-b5d6eaa2b0a6",
   "metadata": {},
   "outputs": [],
   "source": [
    "#similarity_model =ModifiedCosine(tolerance=0.1)"
   ]
  },
  {
   "cell_type": "code",
   "execution_count": 61,
   "id": "0891fdcd-f442-4b80-b6d1-3a3661806505",
   "metadata": {},
   "outputs": [],
   "source": [
    "if similarity_name.startswith('spec2vec'):\n",
    "    model = gensim.models.Word2Vec.load(model_spec2vec_file)\n",
    "    similarity_model= Spec2Vec(\n",
    "                model=model, intensity_weighting_power=0.5, allowed_missing_percentage=100.0\n",
    "            )\n",
    "    PREPROCESS_SPECTRUMS=True\n",
    "elif similarity_name.startswith('modified_cosine'):\n",
    "    similarity_model =ModifiedCosine(tolerance=0.1)\n",
    "    PREPROCESS_SPECTRUMS=False\n",
    "elif similarity_name.startswith('ms2deepscore'):\n",
    "    model_ms2d = load_model(model_ms2d_file)\n",
    "    similarity_model= MS2DeepScore(model_ms2d)\n",
    "elif similarity_name.startswith('tanimoto_similarity'):\n",
    "    similarity_model=  FingerprintSimilarity(\n",
    "                        similarity_measure=\"jaccard\"\n",
    "                    )\n",
    "    PREPROCESS_SPECTRUMS=False"
   ]
  },
  {
   "cell_type": "markdown",
   "id": "426cf10c-0bc2-4c7a-8e2e-19d5ee1a0168",
   "metadata": {},
   "source": [
    "## Preprocessed spectrums"
   ]
  },
  {
   "cell_type": "code",
   "execution_count": 62,
   "id": "f3c0adaf-9d1b-485f-a416-98d60c3f6eec",
   "metadata": {},
   "outputs": [],
   "source": [
    "preprocessed_all_spectrums_janssen =all_spectrums_janssen.copy()\n",
    "if PREPROCESS_SPECTRUMS:\n",
    "    for i,s in tqdm(enumerate(preprocessed_all_spectrums_janssen)):\n",
    "        preprocessed_all_spectrums_janssen[i] = Spec2VecComparison.spectrum_processing(preprocessed_all_spectrums_janssen[i])\n",
    "preprocessed_all_spectrums_janssen = [s for s in preprocessed_all_spectrums_janssen if ((s is not None)and (s.metadata['precursor_mz']>0))]"
   ]
  },
  {
   "cell_type": "code",
   "execution_count": 63,
   "id": "8d37ea44-6bec-494f-800a-7a0d84b81c29",
   "metadata": {},
   "outputs": [
    {
     "data": {
      "text/plain": [
       "142"
      ]
     },
     "execution_count": 63,
     "metadata": {},
     "output_type": "execute_result"
    }
   ],
   "source": [
    "len(preprocessed_all_spectrums_janssen)"
   ]
  },
  {
   "cell_type": "code",
   "execution_count": 66,
   "id": "01e3e36b-86a6-4989-af7d-d1afa3cb6149",
   "metadata": {},
   "outputs": [],
   "source": [
    "if not(OPEN_PREPROCESSED_DATA):\n",
    "    preprocessed_all_spectrums_reference =all_spectrums_reference.copy()\n",
    "    if PREPROCESS_SPECTRUMS:\n",
    "        for i,s in tqdm(enumerate(preprocessed_all_spectrums_reference)):\n",
    "            preprocessed_all_spectrums_reference[i] = Spec2VecComparison.spectrum_processing(preprocessed_all_spectrums_reference[i])\n",
    "        with open('preprocessed_all_spectrums_reference.pkl', 'wb') as file:\n",
    "                dictionary={ 'all_spectrums_reference':all_spectrums_reference.copy(),\n",
    "                             'preprocessed_all_spectrums_reference_ms2deepscore':all_spectrums_reference.copy(),\n",
    "                            'preprocessed_all_spectrums_reference_spec2vec':preprocessed_all_spectrums_reference}\n",
    "                dill.dump(dictionary,file)\n",
    "else:\n",
    "        with open('preprocessed_all_spectrums_reference.pkl', 'rb') as file:\n",
    "            dictionary = dill.load(file)\n",
    "        if PREPROCESS_SPECTRUMS:\n",
    "            preprocessed_all_spectrums_reference = dictionary['preprocessed_all_spectrums_reference_ms2deepscore']\n",
    "        else:\n",
    "            preprocessed_all_spectrums_reference = dictionary['preprocessed_all_spectrums_reference_spec2vec']"
   ]
  },
  {
   "cell_type": "code",
   "execution_count": 67,
   "id": "b1397bc0-ce04-48c8-b83d-42a3083b5d92",
   "metadata": {},
   "outputs": [],
   "source": [
    "#with open('preprocessed_all_spectrums_reference.pkl', 'wb') as file:\n",
    "#                dictionary={ 'all_spectrums_reference':all_spectrums_reference.copy(),\n",
    "#                             'preprocessed_all_spectrums_reference_ms2deepscore':all_spectrums_reference.copy(),\n",
    "#                            'preprocessed_all_spectrums_reference_spec2vec':preprocessed_all_spectrums_reference}\n",
    "#                dill.dump(dictionary,file)"
   ]
  },
  {
   "cell_type": "code",
   "execution_count": 68,
   "id": "d342878d-a8c2-40d0-873f-e8c848b27c3f",
   "metadata": {},
   "outputs": [],
   "source": [
    "# check that the preprocessed spectra is not empty and precursor mass >0\n",
    "preprocessed_all_spectrums_janssen = [s for s in preprocessed_all_spectrums_janssen if ((s is not None)and (s.metadata['precursor_mz']>0))]\n",
    "preprocessed_all_spectrums_reference = [s for s in preprocessed_all_spectrums_reference if ((s is not None)and (s.metadata['precursor_mz']>0))]\n"
   ]
  },
  {
   "cell_type": "code",
   "execution_count": null,
   "id": "828d22a3-2b45-4cd2-811b-b90dd46169c1",
   "metadata": {},
   "outputs": [],
   "source": []
  },
  {
   "cell_type": "code",
   "execution_count": 69,
   "id": "343a188d-0834-49d0-8c51-e06c68473114",
   "metadata": {},
   "outputs": [],
   "source": [
    "if similarity_name.startswith('ms2deepscore'):\n",
    "    preprocessed_all_spectrums_janssen = [s for s in preprocessed_all_spectrums_janssen if s.mz[(s.mz >= 10) & (s.mz <= 1000)].shape[0]>0]\n",
    "    preprocessed_all_spectrums_reference = [s for s in preprocessed_all_spectrums_reference if s.mz[(s.mz >= 10) & (s.mz <= 1000)].shape[0]>0]"
   ]
  },
  {
   "cell_type": "code",
   "execution_count": 70,
   "id": "7eaf1d0d-8de6-433b-a4f1-909954996c8e",
   "metadata": {},
   "outputs": [
    {
     "data": {
      "text/plain": [
       "326383"
      ]
     },
     "execution_count": 70,
     "metadata": {},
     "output_type": "execute_result"
    }
   ],
   "source": [
    "len(preprocessed_all_spectrums_reference)"
   ]
  },
  {
   "cell_type": "code",
   "execution_count": 71,
   "id": "b6a780c5-960f-4add-bb45-ab34419c7d6b",
   "metadata": {},
   "outputs": [
    {
     "data": {
      "text/plain": [
       "142"
      ]
     },
     "execution_count": 71,
     "metadata": {},
     "output_type": "execute_result"
    }
   ],
   "source": [
    "len(preprocessed_all_spectrums_janssen)"
   ]
  },
  {
   "cell_type": "code",
   "execution_count": 72,
   "id": "55425945-ba60-4ad9-bf99-598c9bbc077f",
   "metadata": {},
   "outputs": [
    {
     "data": {
      "text/plain": [
       "'bbb47d997208ea8660b0'"
      ]
     },
     "execution_count": 72,
     "metadata": {},
     "output_type": "execute_result"
    }
   ],
   "source": [
    "preprocessed_all_spectrums_reference[0].spectrum_hash()"
   ]
  },
  {
   "cell_type": "code",
   "execution_count": 73,
   "id": "5edf97bb-6885-46b8-9d5e-40e9beddb09a",
   "metadata": {},
   "outputs": [
    {
     "data": {
      "text/plain": [
       "'bbb47d997208ea8660b0'"
      ]
     },
     "execution_count": 73,
     "metadata": {},
     "output_type": "execute_result"
    }
   ],
   "source": [
    "all_spectrums_reference[0].spectrum_hash()"
   ]
  },
  {
   "cell_type": "code",
   "execution_count": null,
   "id": "d10708c4-5dee-4f66-b9c2-8714e5ae93a9",
   "metadata": {},
   "outputs": [],
   "source": []
  },
  {
   "cell_type": "markdown",
   "id": "b4c13f39-662b-4314-b593-3f5adcddd328",
   "metadata": {},
   "source": [
    "## compute similarities"
   ]
  },
  {
   "cell_type": "code",
   "execution_count": 74,
   "id": "b662c628-40c7-4ff6-8708-d8ba3ec72458",
   "metadata": {},
   "outputs": [],
   "source": [
    "if similarity_name.startswith('tanimoto_similarity'):\n",
    "    preprocessed_all_spectrums_janssen = [add_fingerprint(s) for s in preprocessed_all_spectrums_janssen] \n",
    "    preprocessed_all_spectrums_reference = [add_fingerprint(s) for s in preprocessed_all_spectrums_reference]"
   ]
  },
  {
   "cell_type": "code",
   "execution_count": 75,
   "id": "c7fdae98-c510-4ab7-9f91-2acd2de77c5d",
   "metadata": {},
   "outputs": [
    {
     "data": {
      "text/plain": [
       "'tanimoto_similarity_casmi'"
      ]
     },
     "execution_count": 75,
     "metadata": {},
     "output_type": "execute_result"
    }
   ],
   "source": [
    "similarity_name"
   ]
  },
  {
   "cell_type": "code",
   "execution_count": 76,
   "id": "2df1c6ac-e275-4517-ab01-512df61b6d8e",
   "metadata": {},
   "outputs": [],
   "source": [
    "from matchms import calculate_scores\n",
    "\n",
    "\n",
    "if similarity_name.startswith('ms2deepscore'):\n",
    "    with tf.device('/device:CPU:0'): #execute on cpu\n",
    "        results_scores = calculate_scores(\n",
    "                        preprocessed_all_spectrums_reference, preprocessed_all_spectrums_janssen, similarity_model\n",
    "                    )\n",
    "else:\n",
    "    results_scores = calculate_scores(\n",
    "                        preprocessed_all_spectrums_reference, preprocessed_all_spectrums_janssen, similarity_model\n",
    "                    )"
   ]
  },
  {
   "cell_type": "code",
   "execution_count": 77,
   "id": "de2064a2-9af3-4bf7-be3c-6e3e9a48590c",
   "metadata": {},
   "outputs": [
    {
     "data": {
      "text/plain": [
       "<326383x142x1 stacked sparse array containing scores for ('FingerprintSimilarity',) with 46338421 stored elements in COOrdinate format>"
      ]
     },
     "execution_count": 77,
     "metadata": {},
     "output_type": "execute_result"
    }
   ],
   "source": [
    "results_scores"
   ]
  },
  {
   "cell_type": "code",
   "execution_count": 78,
   "id": "f43fc2ca-2506-49d2-b16a-3eb9b3a70134",
   "metadata": {},
   "outputs": [
    {
     "data": {
      "text/plain": [
       "['__class__',\n",
       " '__delattr__',\n",
       " '__dict__',\n",
       " '__dir__',\n",
       " '__doc__',\n",
       " '__eq__',\n",
       " '__format__',\n",
       " '__ge__',\n",
       " '__getattribute__',\n",
       " '__getstate__',\n",
       " '__gt__',\n",
       " '__hash__',\n",
       " '__init__',\n",
       " '__init_subclass__',\n",
       " '__iter__',\n",
       " '__le__',\n",
       " '__lt__',\n",
       " '__module__',\n",
       " '__ne__',\n",
       " '__new__',\n",
       " '__next__',\n",
       " '__reduce__',\n",
       " '__reduce_ex__',\n",
       " '__repr__',\n",
       " '__setattr__',\n",
       " '__sizeof__',\n",
       " '__str__',\n",
       " '__subclasshook__',\n",
       " '__weakref__',\n",
       " '_index',\n",
       " '_scores',\n",
       " '_validate_input_arguments',\n",
       " 'calculate',\n",
       " 'filter_by_range',\n",
       " 'is_symmetric',\n",
       " 'n_cols',\n",
       " 'n_rows',\n",
       " 'queries',\n",
       " 'references',\n",
       " 'score_names',\n",
       " 'scores',\n",
       " 'scores_by_query',\n",
       " 'scores_by_reference',\n",
       " 'shape',\n",
       " 'to_array',\n",
       " 'to_coo',\n",
       " 'to_dict',\n",
       " 'to_json',\n",
       " 'to_pickle']"
      ]
     },
     "execution_count": 78,
     "metadata": {},
     "output_type": "execute_result"
    }
   ],
   "source": [
    "dir(results_scores)"
   ]
  },
  {
   "cell_type": "code",
   "execution_count": null,
   "id": "f50a6d12-362f-43d7-a065-5332af4674a7",
   "metadata": {},
   "outputs": [],
   "source": []
  },
  {
   "cell_type": "code",
   "execution_count": 79,
   "id": "61a803fe-4ce1-42fe-b3e3-4d881f7feabe",
   "metadata": {},
   "outputs": [],
   "source": [
    "k=10\n",
    "#results_tuple = [results_scores.scores_by_query(s, name='Spec2Vec', sort=True)[0:k] for s in preprocessed_all_spectrums_janssen]\n",
    "results_tuple = [results_scores.scores_by_query(s, name='ModifiedCosine_score', sort=True)[0:k] for s in preprocessed_all_spectrums_janssen]\n",
    "\n",
    "spectrums_retrieved = [  [r[0] for r in r_group] for r_group in results_tuple]\n",
    "max_sim = [[r[1] for r in r_group] for r_group in results_tuple]"
   ]
  },
  {
   "cell_type": "code",
   "execution_count": 80,
   "id": "15314c4e-97fd-4620-85cc-997914f1c7ba",
   "metadata": {},
   "outputs": [
    {
     "data": {
      "text/plain": [
       "'ccc011f7d1775b8f48c5'"
      ]
     },
     "execution_count": 80,
     "metadata": {},
     "output_type": "execute_result"
    }
   ],
   "source": [
    "preprocessed_all_spectrums_janssen[0].spectrum_hash()"
   ]
  },
  {
   "cell_type": "code",
   "execution_count": 84,
   "id": "34b6974d-d69c-4b99-ac30-c0a4e9ad8c1a",
   "metadata": {},
   "outputs": [],
   "source": [
    "similarities_array= results_scores.to_array().transpose()"
   ]
  },
  {
   "cell_type": "code",
   "execution_count": 85,
   "id": "610d93ea-d6ec-446b-b1d0-62c0e2f08918",
   "metadata": {},
   "outputs": [
    {
     "data": {
      "text/plain": [
       "(142, 326383)"
      ]
     },
     "execution_count": 85,
     "metadata": {},
     "output_type": "execute_result"
    }
   ],
   "source": [
    "similarities_array.shape"
   ]
  },
  {
   "cell_type": "code",
   "execution_count": 87,
   "id": "7fe4e882-d7e1-494f-b0eb-736fb00556b9",
   "metadata": {},
   "outputs": [],
   "source": [
    "## compute all similarities\n",
    "similarities = np.zeros((len(preprocessed_all_spectrums_janssen),len(preprocessed_all_spectrums_reference)) )\n",
    "for i,(s,sim_row) in enumerate(zip(preprocessed_all_spectrums_janssen, similarities_array)):\n",
    "    #results_temp = results_scores.scores_by_query(s, name='ModifiedCosine_score', sort=False)\n",
    "    similarities[i]=sim_row"
   ]
  },
  {
   "cell_type": "code",
   "execution_count": 89,
   "id": "d122a763-2247-428b-871e-c52bb91604e4",
   "metadata": {},
   "outputs": [],
   "source": [
    "#spectrums_retrieved = [results_scores.scores_by_query(s, name='Spec2Vec', sort=True)[0][0] \\\n",
    "#                       for s in preprocessed_all_spectrums_janssen]"
   ]
  },
  {
   "cell_type": "code",
   "execution_count": 90,
   "id": "92c6725f-79ff-441e-ac5a-bd7f1a46f055",
   "metadata": {},
   "outputs": [],
   "source": [
    "#max_sim = [results_scores.scores_by_query(s, name='Spec2Vec', sort=True)[0][1] \\\n",
    "#                       for s in preprocessed_all_spectrums_janssen]"
   ]
  },
  {
   "cell_type": "markdown",
   "id": "10770b07-9fc0-4743-8a02-ec51acae62f0",
   "metadata": {},
   "source": [
    "## Based on the similarities compute the similarity score of the match spectrum"
   ]
  },
  {
   "cell_type": "code",
   "execution_count": 91,
   "id": "95ea77f5-a38d-41f4-a23b-75bbe83470ff",
   "metadata": {},
   "outputs": [],
   "source": [
    "smiles_retrieved = [[s.metadata['smiles'] for s in s_group] for s_group in spectrums_retrieved]"
   ]
  },
  {
   "cell_type": "code",
   "execution_count": 92,
   "id": "9f09ef40-eb6c-484b-8899-9f9e7b9e67c8",
   "metadata": {},
   "outputs": [],
   "source": [
    "smiles_janssen =   [ s.metadata['smiles'] for s in preprocessed_all_spectrums_janssen]"
   ]
  },
  {
   "cell_type": "code",
   "execution_count": 93,
   "id": "753f5d25-d9aa-4190-96e3-19a71cdf77d1",
   "metadata": {},
   "outputs": [],
   "source": [
    "from src.tanimoto import Tanimoto"
   ]
  },
  {
   "cell_type": "code",
   "execution_count": 94,
   "id": "40fdfac3-6972-432a-a807-e17aebdad96b",
   "metadata": {},
   "outputs": [],
   "source": [
    "tanimoto_retrieved = [[Tanimoto.compute_tanimoto_from_smiles(s0,s1) for s1 in s1_group] for s0, s1_group in zip(smiles_janssen, smiles_retrieved)]"
   ]
  },
  {
   "cell_type": "code",
   "execution_count": 95,
   "id": "6a330519-42ad-486a-9952-d18fecf14aaf",
   "metadata": {},
   "outputs": [],
   "source": [
    "best_index_retrieved = [np.argmax(t) for t in tanimoto_retrieved]\n",
    "smiles_retrieved = [s_group[ind].metadata['smiles'] for ind,s_group in zip(best_index_retrieved,spectrums_retrieved)]\n",
    "spectrums_retrieved = [s_group[ind] for ind,s_group in zip(best_index_retrieved,spectrums_retrieved)]\n",
    "tanimoto_retrieved = [max(t) for t in tanimoto_retrieved]"
   ]
  },
  {
   "cell_type": "code",
   "execution_count": 96,
   "id": "5a6afeec-b1e1-44ba-a06a-3e2aec612be3",
   "metadata": {},
   "outputs": [],
   "source": [
    "#_=plt.hist(max_sim, color='r',bins=10)\n",
    "#plt.xlabel('maximum predicted similarity found')\n",
    "#plt.ylabel('freq')\n",
    "#plt.grid()"
   ]
  },
  {
   "cell_type": "code",
   "execution_count": 97,
   "id": "13beae6c-e8d3-40ab-992e-7a2244673afc",
   "metadata": {},
   "outputs": [
    {
     "data": {
      "text/plain": [
       "Text(0, 0.5, 'frequency')"
      ]
     },
     "execution_count": 97,
     "metadata": {},
     "output_type": "execute_result"
    },
    {
     "data": {
      "image/png": "[encoded data removed]",
      "text/plain": [
       "<Figure size 640x480 with 1 Axes>"
      ]
     },
     "metadata": {},
     "output_type": "display_data"
    }
   ],
   "source": [
    "plt.hist(tanimoto_retrieved)\n",
    "plt.grid()\n",
    "plt.xlabel('tanimoto similarity with reference spectra')\n",
    "plt.ylabel('frequency')"
   ]
  },
  {
   "cell_type": "code",
   "execution_count": 98,
   "id": "a37bed76-4da0-49c4-b024-b8a9ac96f38b",
   "metadata": {},
   "outputs": [],
   "source": [
    "tanimoto_retrieved= np.array(tanimoto_retrieved)"
   ]
  },
  {
   "cell_type": "code",
   "execution_count": 99,
   "id": "3183bc8c-9459-46aa-a972-29ca176a9650",
   "metadata": {},
   "outputs": [],
   "source": [
    "#plt.scatter(tanimoto_retrieved, max_sim, alpha=0.5)\n",
    "#plt.xlim([0,1])\n",
    "#plt.ylim([0,1])\n",
    "#plt.grid()\n",
    "#plt.ylabel('prediction spec2vec')\n",
    "#plt.xlabel('tanimoto')"
   ]
  },
  {
   "cell_type": "markdown",
   "id": "f8aad601-14f9-4efc-adc8-7883c3b492f3",
   "metadata": {},
   "source": [
    "## Check which is the spectra that has wrong predictions"
   ]
  },
  {
   "cell_type": "code",
   "execution_count": 100,
   "id": "1470455f-571e-49d5-9485-f36796701be8",
   "metadata": {},
   "outputs": [],
   "source": [
    "from rdkit import Chem\n",
    "from rdkit.Chem import rdFMCS\n",
    "def calculate_mcs_similarity(smiles1, smiles2):\n",
    "    mol1 = Chem.MolFromSmiles(smiles1)\n",
    "    mol2 = Chem.MolFromSmiles(smiles2)\n",
    "    \n",
    "    # Perform MCS (Maximum Common Substructure) search\n",
    "    mcs = rdFMCS.FindMCS([mol1, mol2])\n",
    "\n",
    "    # Get SMARTS pattern from MCS result\n",
    "    mcs_smarts = Chem.MolToSmarts(mcs.queryMol)\n",
    "    \n",
    "    # Calculate Tanimoto-like similarity\n",
    "    mcs_mol = Chem.MolFromSmarts(mcs_smarts)\n",
    "    #mcs_count = len(Chem.GetMolFrags(mcs_mol))\n",
    "    mcs_count = mcs_mol.GetNumAtoms()\n",
    "    similarity = mcs_count / (mol1.GetNumAtoms() + mol2.GetNumAtoms() - mcs_count)\n",
    "\n",
    "    return similarity, mcs_mol\n",
    "from rdkit.Chem import rdRascalMCES\n",
    "def calculate_mces_sim(smiles1, smiles2, similarity_threshold=0.7):\n",
    "\n",
    "    ad1 = Chem.MolFromSmiles(smiles1)\n",
    "    ad2 = Chem.MolFromSmiles(smiles2)\n",
    "    opts = rdRascalMCES.RascalOptions()\n",
    "    opts.similarityThreshold = similarity_threshold\n",
    "    opts.returnEmptyMCES = True\n",
    "    results = rdRascalMCES.FindMCES(ad1, ad2, opts)\n",
    "    if len(results) != 0:\n",
    "        similarity_tier1= results[0].tier1Sim\n",
    "        similarity_tier2= results[0].tier2Sim\n",
    "    \n",
    "        if similarity_tier2 != -1:\n",
    "            return similarity_tier2 #if the lower threshold is not surpassed\n",
    "        else:\n",
    "            return similarity_tier1\n",
    "    else:\n",
    "        return None"
   ]
  },
  {
   "cell_type": "code",
   "execution_count": null,
   "id": "03870201-4941-418d-8b2e-e08f69c27e47",
   "metadata": {},
   "outputs": [],
   "source": []
  },
  {
   "cell_type": "code",
   "execution_count": 101,
   "id": "d405ffe4-f4cd-4df5-a49b-9439fbcf4f04",
   "metadata": {},
   "outputs": [
    {
     "data": {
      "text/plain": [
       "142"
      ]
     },
     "execution_count": 101,
     "metadata": {},
     "output_type": "execute_result"
    }
   ],
   "source": [
    "len(all_spectrums_janssen)"
   ]
  },
  {
   "cell_type": "code",
   "execution_count": 102,
   "id": "3ff6bd6c-9199-40ff-bc76-bb1296d4e98e",
   "metadata": {},
   "outputs": [
    {
     "data": {
      "text/plain": [
       "142"
      ]
     },
     "execution_count": 102,
     "metadata": {},
     "output_type": "execute_result"
    }
   ],
   "source": [
    "len(spectrums_retrieved)"
   ]
  },
  {
   "cell_type": "code",
   "execution_count": 103,
   "id": "a61f1d40-986b-4a17-b82a-0c847e9f3d4b",
   "metadata": {},
   "outputs": [],
   "source": [
    "#bad_predictions = np.argsort(abs(tanimoto_retrieved-max_sim))[::-1]"
   ]
  },
  {
   "cell_type": "code",
   "execution_count": 104,
   "id": "0b0bf307-da4f-42a7-ba11-311d75aa0865",
   "metadata": {},
   "outputs": [],
   "source": [
    "#target_spectra=bad_predictions[3]"
   ]
  },
  {
   "cell_type": "code",
   "execution_count": 105,
   "id": "13a98ce5-1a45-4a2c-a423-97b807d3e215",
   "metadata": {},
   "outputs": [],
   "source": [
    "#max_sim[target_spectra]"
   ]
  },
  {
   "cell_type": "code",
   "execution_count": 106,
   "id": "d1ce5570-c5a5-411a-b20e-7f0704358880",
   "metadata": {},
   "outputs": [],
   "source": [
    "#tanimoto_retrieved[target_spectra]"
   ]
  },
  {
   "cell_type": "code",
   "execution_count": 107,
   "id": "d5571ff0-567b-4f3a-8898-5d27180e3278",
   "metadata": {},
   "outputs": [],
   "source": [
    "## mcs\n",
    "#sim_mcs, mol_mcs=calculate_mcs_similarity(smiles1=all_spectrums_janssen[target_spectra].metadata['smiles'], \n",
    "#                         smiles2=spectrums_retrieved[target_spectra].metadata['smiles'])\n",
    "#sim_mcs"
   ]
  },
  {
   "cell_type": "code",
   "execution_count": 108,
   "id": "2fadce2b-ab36-4e5c-928b-136c61c66d66",
   "metadata": {},
   "outputs": [],
   "source": [
    "#spectrums_retrieved[target_spectra].plot_against(all_spectrums_janssen[target_spectra])\n",
    "#plt.xlim(0, 100)"
   ]
  },
  {
   "cell_type": "code",
   "execution_count": 109,
   "id": "99ff8444-6331-4d21-ae93-4f353c6751b4",
   "metadata": {},
   "outputs": [],
   "source": [
    "#sim_mces = calculate_mces_sim(smiles1=all_spectrums_janssen[target_spectra].metadata['smiles'], \n",
    " #smiles2=spectrums_retrieved[target_spectra].metadata['smiles'])\n",
    "#sim_mces"
   ]
  },
  {
   "cell_type": "code",
   "execution_count": 110,
   "id": "8d944cb2-8e18-454d-94c1-85534e1f9d78",
   "metadata": {},
   "outputs": [],
   "source": [
    "#mol_mcs"
   ]
  },
  {
   "cell_type": "code",
   "execution_count": 111,
   "id": "8607ab5f-5c67-4b06-b16b-37c675f2194c",
   "metadata": {},
   "outputs": [],
   "source": [
    "## plot the molecules"
   ]
  },
  {
   "cell_type": "code",
   "execution_count": 112,
   "id": "d0a4fd81-70cc-4cc7-ace5-a29a9318e440",
   "metadata": {},
   "outputs": [],
   "source": [
    "#Chem.CanonSmiles(all_spectrums_janssen[target_spectra].metadata['smiles'])"
   ]
  },
  {
   "cell_type": "code",
   "execution_count": 113,
   "id": "29e85b2b-5ebc-43cf-a8ba-ffe094f17a6c",
   "metadata": {},
   "outputs": [],
   "source": [
    "#from rdkit import Chem\n",
    "#mol_janssen = Chem.MolFromSmiles(all_spectrums_janssen[target_spectra].metadata['smiles'])\n",
    "#mol_janssen"
   ]
  },
  {
   "cell_type": "code",
   "execution_count": 114,
   "id": "42fba35b-c830-4df4-87db-1ab791a91b05",
   "metadata": {},
   "outputs": [],
   "source": [
    "#Chem.CanonSmiles(spectrums_retrieved[target_spectra].metadata['smiles'])"
   ]
  },
  {
   "cell_type": "code",
   "execution_count": 115,
   "id": "4a836bcf-eb65-425d-81ec-cf98e327672f",
   "metadata": {},
   "outputs": [],
   "source": [
    "#mol_ref = Chem.MolFromSmiles(spectrums_retrieved[target_spectra].metadata['smiles'])\n",
    "#mol_ref"
   ]
  },
  {
   "cell_type": "markdown",
   "id": "9c36064c-68e3-4e17-b2f0-cbb25ae827e1",
   "metadata": {},
   "source": [
    "## FIND SIMILARITY BASED ON MCS"
   ]
  },
  {
   "cell_type": "code",
   "execution_count": 116,
   "id": "a3fe5493-6322-44ef-8941-9205ed4e4785",
   "metadata": {},
   "outputs": [
    {
     "data": {
      "text/plain": [
       "142"
      ]
     },
     "execution_count": 116,
     "metadata": {},
     "output_type": "execute_result"
    }
   ],
   "source": [
    "len(smiles_retrieved)"
   ]
  },
  {
   "cell_type": "code",
   "execution_count": 117,
   "id": "0148a637-0fd2-432d-ab2c-38456f22f5d0",
   "metadata": {},
   "outputs": [
    {
     "data": {
      "text/plain": [
       "142"
      ]
     },
     "execution_count": 117,
     "metadata": {},
     "output_type": "execute_result"
    }
   ],
   "source": [
    "len(smiles_janssen)"
   ]
  },
  {
   "cell_type": "code",
   "execution_count": 118,
   "id": "05746be2-d9c8-40a3-b1da-4a9da89d2100",
   "metadata": {},
   "outputs": [
    {
     "name": "stderr",
     "output_type": "stream",
     "text": [
      "0it [00:00, ?it/s]Too many matching bond pairs (1114) so can't continue.\n",
      "48it [00:00, 171.37it/s]Too many matching bond pairs (1020) so can't continue.\n",
      "Too many matching bond pairs (1076) so can't continue.\n",
      "Too many matching bond pairs (1348) so can't continue.\n",
      "Too many matching bond pairs (1177) so can't continue.\n",
      "Too many matching bond pairs (1353) so can't continue.\n",
      "Too many matching bond pairs (2859) so can't continue.\n",
      "142it [00:00, 351.14it/s]\n"
     ]
    }
   ],
   "source": [
    "mces_sims=[]\n",
    "for s0,s1 in tqdm(zip(smiles_janssen, smiles_retrieved)):\n",
    "    similarity= calculate_mces_sim(s0, s1)\n",
    "    mces_sims.append(similarity)"
   ]
  },
  {
   "cell_type": "code",
   "execution_count": 119,
   "id": "9323bef9-643a-46e3-9cf1-8020585e8662",
   "metadata": {},
   "outputs": [],
   "source": [
    "# Specify the bin width\n",
    "bin_width = 0.1\n",
    "\n",
    "# Calculate the number of bins based on the data range and bin width\n",
    "bins = np.arange(0, 1 + bin_width, bin_width)"
   ]
  },
  {
   "cell_type": "code",
   "execution_count": 120,
   "id": "c8158067-a3fa-4a2e-a3f3-2ef201c88842",
   "metadata": {},
   "outputs": [
    {
     "data": {
      "image/png": "[encoded data removed]",
      "text/plain": [
       "<Figure size 640x480 with 1 Axes>"
      ]
     },
     "metadata": {},
     "output_type": "display_data"
    }
   ],
   "source": [
    "plt.hist(tanimoto_retrieved,alpha=0.5, label='tanimoto sim.', density=True, bins=bins)\n",
    "plt.hist([m for m in mces_sims if m is not None],alpha=0.5, label='mces sim.', density=True, bins=bins)\n",
    "plt.xlabel('similarity')\n",
    "plt.ylabel('density')\n",
    "plt.legend()\n",
    "plt.grid()"
   ]
  },
  {
   "cell_type": "code",
   "execution_count": null,
   "id": "23825ef3-9279-4bc3-a866-4e2b668457ac",
   "metadata": {},
   "outputs": [],
   "source": []
  },
  {
   "cell_type": "markdown",
   "id": "88c284bf-82b0-4be9-b744-b9df52762864",
   "metadata": {},
   "source": [
    "## Get the best candidate results"
   ]
  },
  {
   "cell_type": "code",
   "execution_count": 121,
   "id": "424b45e4-b7be-4ebd-b7ed-4e5238d98f22",
   "metadata": {},
   "outputs": [],
   "source": [
    "format_file_unknown = \"./notebooks/discovery_search/results/{}_results_analog_discovery_unknwon_compounds.pkl\"\n",
    "\n",
    "if USE_CASMI:\n",
    "    file= format_file_unknown.format('tanimoto_similarity_casmi')\n",
    "else:\n",
    "    file= format_file_unknown.format('tanimoto_similarity')\n",
    "with open(file, 'rb') as f:\n",
    "        results_tani = dill.load(f)"
   ]
  },
  {
   "cell_type": "code",
   "execution_count": 122,
   "id": "d3b59161-0bc8-4fea-a05b-0aef2ba31e48",
   "metadata": {},
   "outputs": [
    {
     "data": {
      "text/plain": [
       "dict_keys(['preprocessed_all_spectrums_janssen', 'original_all_spectrums_janssen', 'smiles_janssen', 'smiles_retrieved', 'spectrums_retrieved', 'original_spectrums_retrieved', 'tanimoto_retrieved', 'max_sim', 'mces_retrieved'])"
      ]
     },
     "execution_count": 122,
     "metadata": {},
     "output_type": "execute_result"
    }
   ],
   "source": [
    "results_tani.keys()"
   ]
  },
  {
   "cell_type": "code",
   "execution_count": 123,
   "id": "c6868616-1caa-42d3-89a0-e71d8d5d4bd3",
   "metadata": {},
   "outputs": [
    {
     "data": {
      "text/plain": [
       "(142, 326383)"
      ]
     },
     "execution_count": 123,
     "metadata": {},
     "output_type": "execute_result"
    }
   ],
   "source": [
    "similarities.shape"
   ]
  },
  {
   "cell_type": "code",
   "execution_count": 126,
   "id": "2578ea65-53b9-4594-bc2b-a4e7789eccda",
   "metadata": {},
   "outputs": [],
   "source": [
    "#len(smiles_reference)"
   ]
  },
  {
   "cell_type": "code",
   "execution_count": 127,
   "id": "5b9e30e9-7d6e-4f05-ab0b-4f99a15df455",
   "metadata": {},
   "outputs": [],
   "source": [
    "smiles_best_candidate=results_tani['smiles_retrieved']"
   ]
  },
  {
   "cell_type": "code",
   "execution_count": 128,
   "id": "5479136a-9cab-40a8-9519-cb2fb251b1cd",
   "metadata": {},
   "outputs": [
    {
     "data": {
      "text/plain": [
       "142"
      ]
     },
     "execution_count": 128,
     "metadata": {},
     "output_type": "execute_result"
    }
   ],
   "source": [
    "len(smiles_best_candidate)"
   ]
  },
  {
   "cell_type": "code",
   "execution_count": 129,
   "id": "098acd46-65d9-4617-9ee0-1b8fd0814273",
   "metadata": {},
   "outputs": [],
   "source": [
    "## get the indexes in the reference data\n",
    "smiles_best_candidate = [Chem.CanonSmiles(s) for s in smiles_best_candidate]\n",
    "smiles_reference = [Chem.CanonSmiles(spec.metadata['smiles']) for spec in preprocessed_all_spectrums_reference]"
   ]
  },
  {
   "cell_type": "code",
   "execution_count": 130,
   "id": "7d31c813-a0f6-4bd0-b230-7cc1d2c5ff2f",
   "metadata": {},
   "outputs": [],
   "source": [
    "list_indexes_best_candidate = [[i for i,s2 in enumerate(smiles_reference) if s==s2] for s in smiles_best_candidate]"
   ]
  },
  {
   "cell_type": "code",
   "execution_count": 131,
   "id": "d0f9b360-3ca1-4d34-ba31-7c07d9a06852",
   "metadata": {},
   "outputs": [],
   "source": [
    "def get_rankings(similarities, smiles_reference, smiles_best_candidate, ):\n",
    "    argsort_similarities = np.argsort(-similarities, axis=1)\n",
    "    list_indexes_best_candidate = [[i for i,s2 in enumerate(smiles_reference) if s==s2] for s in smiles_best_candidate]\n",
    "    \n",
    "    list_rankings=[]\n",
    "    for index_row,sim_row  in zip(list_indexes_best_candidate, argsort_similarities):\n",
    "        rank = min([(np.argwhere(sim_row==item)[0][0]) for item in index_row])\n",
    "        list_rankings.append(rank)\n",
    "\n",
    "    return list_rankings"
   ]
  },
  {
   "cell_type": "code",
   "execution_count": 132,
   "id": "5bf0ef1a-dde1-48a7-9b21-62e9696f076b",
   "metadata": {},
   "outputs": [],
   "source": [
    "list_rankings = get_rankings(similarities, smiles_reference, smiles_best_candidate,)"
   ]
  },
  {
   "cell_type": "markdown",
   "id": "eb8cc47c-a2c2-4e4d-8a43-fe8be1e2d413",
   "metadata": {},
   "source": [
    "## saving of results"
   ]
  },
  {
   "cell_type": "code",
   "execution_count": 133,
   "id": "477d4eb8-d4d8-48cd-b623-b4ad241b8b0f",
   "metadata": {},
   "outputs": [],
   "source": [
    "def get_identifier(s):\n",
    "    if 'nistno' in s.metadata:\n",
    "        return(s.metadata['nistno'])\n",
    "    elif 'spectrum_id' in s.metadata:\n",
    "        return (s.metadata['spectrum_id'])"
   ]
  },
  {
   "cell_type": "code",
   "execution_count": 134,
   "id": "98cfd929-338c-43d8-b68b-bb12b915aff2",
   "metadata": {},
   "outputs": [],
   "source": [
    "all_spectrums_ref_identifiers =[]\n",
    "for s in all_spectrums_reference:\n",
    "    ident = get_identifier(s)\n",
    "    all_spectrums_ref_identifiers.append(ident)"
   ]
  },
  {
   "cell_type": "code",
   "execution_count": 135,
   "id": "4e59da0b-483e-4fc3-ab3b-880b7c4418b3",
   "metadata": {},
   "outputs": [],
   "source": [
    "all_spectrums_retrieved_identifiers =[]\n",
    "for s in spectrums_retrieved:\n",
    "    ident = get_identifier(s)\n",
    "    all_spectrums_retrieved_identifiers.append(ident)"
   ]
  },
  {
   "cell_type": "code",
   "execution_count": 136,
   "id": "974a9880-ff94-43af-8e3e-30c83a686588",
   "metadata": {},
   "outputs": [],
   "source": [
    "original_spectrums_retrieved = [all_spectrums_reference[all_spectrums_ref_identifiers.index(ident)] for s,ident in zip(spectrums_retrieved, all_spectrums_retrieved_identifiers)]"
   ]
  },
  {
   "cell_type": "code",
   "execution_count": 137,
   "id": "23598394-0e9d-4ce1-8dd3-0da8eefb0be7",
   "metadata": {},
   "outputs": [
    {
     "data": {
      "text/plain": [
       "142"
      ]
     },
     "execution_count": 137,
     "metadata": {},
     "output_type": "execute_result"
    }
   ],
   "source": [
    "len(original_spectrums_retrieved)"
   ]
  },
  {
   "cell_type": "code",
   "execution_count": 138,
   "id": "51fdc94d-7d86-4546-9d58-014169b58de9",
   "metadata": {},
   "outputs": [],
   "source": [
    "results ={ 'preprocessed_all_spectrums_janssen':preprocessed_all_spectrums_janssen,\n",
    "          'original_all_spectrums_janssen':all_spectrums_janssen,\n",
    "            'smiles_janssen':smiles_janssen,\n",
    "          'smiles_retrieved':smiles_retrieved,\n",
    "          'spectrums_retrieved':spectrums_retrieved,\n",
    "          'original_spectrums_retrieved':original_spectrums_retrieved,\n",
    "            'tanimoto_retrieved':tanimoto_retrieved,\n",
    "          'max_sim':max_sim,\n",
    "          'mces_retrieved':mces_sims,\n",
    "         'similarities': similarities,\n",
    "         'list_rankings': list_rankings,\n",
    "          'preprocessed_all_spectrums_reference':preprocessed_all_spectrums_reference,\n",
    "          'smiles_reference':smiles_reference,\n",
    "         }"
   ]
  },
  {
   "cell_type": "code",
   "execution_count": 139,
   "id": "67a74478-1ebd-4954-a8d6-59207a488b9f",
   "metadata": {},
   "outputs": [],
   "source": [
    "with open('./notebooks/discovery_search/results/'+similarity_name + '_results_analog_discovery_unknwon_compounds.pkl', 'wb') as f:\n",
    "    dill.dump(results, f)"
   ]
  },
  {
   "cell_type": "markdown",
   "id": "2503600f-f5af-4f4e-ba46-16551170eb81",
   "metadata": {},
   "source": [
    "## check what are the characteristics of the spectrums retrieved"
   ]
  },
  {
   "cell_type": "code",
   "execution_count": 140,
   "id": "24f9340c-9dd4-4202-a628-59c645fb04f5",
   "metadata": {
    "scrolled": true
   },
   "outputs": [
    {
     "data": {
      "text/plain": [
       "[Spectrum(precursor m/z=515.19, 7 fragments between 85.0 and 515.2),\n",
       " Spectrum(precursor m/z=352.17, 13 fragments between 58.1 and 352.2),\n",
       " Spectrum(precursor m/z=435.22, 10194 fragments between 44.9 and 1504.9),\n",
       " Spectrum(precursor m/z=539.20, 19 fragments between 172.1 and 456.5),\n",
       " Spectrum(precursor m/z=503.34, 15 fragments between 221.2 and 504.3),\n",
       " Spectrum(precursor m/z=419.28, 60 fragments between 81.1 and 421.3),\n",
       " Spectrum(precursor m/z=375.09, 16 fragments between 149.0 and 375.1),\n",
       " Spectrum(precursor m/z=472.07, 10 fragments between 117.0 and 473.1),\n",
       " Spectrum(precursor m/z=475.21, 32 fragments between 56.0 and 476.2),\n",
       " Spectrum(precursor m/z=232.17, 15 fragments between 55.1 and 232.2),\n",
       " Spectrum(precursor m/z=475.21, 7 fragments between 58.1 and 476.2),\n",
       " Spectrum(precursor m/z=256.30, 6 fragments between 57.1 and 257.3),\n",
       " Spectrum(precursor m/z=251.16, 100 fragments between 55.0 and 251.2),\n",
       " Spectrum(precursor m/z=229.11, 71 fragments between 51.0 and 167.1),\n",
       " Spectrum(precursor m/z=401.20, 153 fragments between 55.1 and 401.2),\n",
       " Spectrum(precursor m/z=207.07, 64 fragments between 55.0 and 207.1),\n",
       " Spectrum(precursor m/z=319.23, 31 fragments between 67.1 and 319.2),\n",
       " Spectrum(precursor m/z=267.08, 2943 fragments between 95.0 and 1502.9),\n",
       " Spectrum(precursor m/z=339.25, 12 fragments between 151.1 and 339.3),\n",
       " Spectrum(precursor m/z=267.09, 27 fragments between 51.0 and 267.1),\n",
       " Spectrum(precursor m/z=365.19, 2920 fragments between 95.0 and 1504.3),\n",
       " Spectrum(precursor m/z=265.14, 56 fragments between 57.0 and 266.1),\n",
       " Spectrum(precursor m/z=299.14, 56 fragments between 50.0 and 161.1),\n",
       " Spectrum(precursor m/z=106.03, 8 fragments between 56.0 and 106.0),\n",
       " Spectrum(precursor m/z=485.39, 10143 fragments between 100.1 and 1698.8),\n",
       " Spectrum(precursor m/z=397.29, 13 fragments between 99.6 and 379.3),\n",
       " Spectrum(precursor m/z=128.05, 13 fragments between 53.0 and 128.1),\n",
       " Spectrum(precursor m/z=258.16, 8 fragments between 115.1 and 258.2),\n",
       " Spectrum(precursor m/z=480.25, 183 fragments between 52.0 and 394.2),\n",
       " Spectrum(precursor m/z=339.21, 202 fragments between 55.1 and 339.2),\n",
       " Spectrum(precursor m/z=333.02, 100 fragments between 105.1 and 332.5),\n",
       " Spectrum(precursor m/z=161.07, 21 fragments between 79.1 and 161.7),\n",
       " Spectrum(precursor m/z=397.24, 33 fragments between 137.1 and 397.2),\n",
       " Spectrum(precursor m/z=251.05, 6 fragments between 152.1 and 252.1),\n",
       " Spectrum(precursor m/z=609.14, 45 fragments between 53.0 and 315.0),\n",
       " Spectrum(precursor m/z=176.01, 29 fragments between 53.0 and 176.0),\n",
       " Spectrum(precursor m/z=242.09, 28 fragments between 119.1 and 243.1),\n",
       " Spectrum(precursor m/z=349.20, 49 fragments between 55.1 and 249.1),\n",
       " Spectrum(precursor m/z=251.16, 77 fragments between 51.0 and 172.1),\n",
       " Spectrum(precursor m/z=127.08, 38 fragments between 51.0 and 127.1),\n",
       " Spectrum(precursor m/z=284.30, 79 fragments between 55.1 and 285.3),\n",
       " Spectrum(precursor m/z=319.23, 30 fragments between 50.0 and 155.1),\n",
       " Spectrum(precursor m/z=427.21, 145 fragments between 53.0 and 357.1),\n",
       " Spectrum(precursor m/z=677.24, 23 fragments between 71.0 and 678.5),\n",
       " Spectrum(precursor m/z=317.21, 102 fragments between 55.1 and 317.2),\n",
       " Spectrum(precursor m/z=143.15, 17 fragments between 53.0 and 126.1),\n",
       " Spectrum(precursor m/z=212.09, 14 fragments between 41.0 and 194.1),\n",
       " Spectrum(precursor m/z=333.21, 26 fragments between 60.4 and 349.9),\n",
       " Spectrum(precursor m/z=155.14, 7 fragments between 81.1 and 156.1),\n",
       " Spectrum(precursor m/z=212.20, 59 fragments between 53.0 and 212.2),\n",
       " Spectrum(precursor m/z=272.11, 6 fragments between 127.1 and 272.1),\n",
       " Spectrum(precursor m/z=303.22, 300 fragments between 58.1 and 1849.4),\n",
       " Spectrum(precursor m/z=373.22, 77 fragments between 55.1 and 212.2),\n",
       " Spectrum(precursor m/z=117.10, 7 fragments between 53.0 and 117.1),\n",
       " Spectrum(precursor m/z=265.07, 79 fragments between 50.0 and 159.0),\n",
       " Spectrum(precursor m/z=825.41, 277 fragments between 107.1 and 826.4),\n",
       " Spectrum(precursor m/z=128.11, 37 fragments between 51.0 and 108.1),\n",
       " Spectrum(precursor m/z=253.14, 253 fragments between 95.1 and 1493.5),\n",
       " Spectrum(precursor m/z=441.37, 6388 fragments between 100.1 and 1698.2),\n",
       " Spectrum(precursor m/z=160.08, 8 fragments between 117.1 and 161.1),\n",
       " Spectrum(precursor m/z=340.00, 20 fragments between 204.1 and 341.0),\n",
       " Spectrum(precursor m/z=901.48, 20 fragments between 85.0 and 901.5),\n",
       " Spectrum(precursor m/z=437.26, 148 fragments between 53.0 and 437.3),\n",
       " Spectrum(precursor m/z=278.12, 6 fragments between 106.1 and 278.1),\n",
       " Spectrum(precursor m/z=391.28, 71 fragments between 71.1 and 391.5),\n",
       " Spectrum(precursor m/z=531.30, 1655 fragments between 45.0 and 1504.5),\n",
       " Spectrum(precursor m/z=485.39, 10143 fragments between 100.1 and 1698.8),\n",
       " Spectrum(precursor m/z=270.09, 40 fragments between 52.0 and 256.1),\n",
       " Spectrum(precursor m/z=455.15, 85 fragments between 50.0 and 268.1),\n",
       " Spectrum(precursor m/z=339.25, 80 fragments between 53.0 and 189.1),\n",
       " Spectrum(precursor m/z=237.08, 53 fragments between 55.0 and 237.1),\n",
       " Spectrum(precursor m/z=463.25, 31 fragments between 41.0 and 463.2),\n",
       " Spectrum(precursor m/z=575.12, 1037 fragments between 96.3 and 1485.0),\n",
       " Spectrum(precursor m/z=449.11, 3889 fragments between 50.2 and 998.7),\n",
       " Spectrum(precursor m/z=275.13, 99 fragments between 95.1 and 868.4),\n",
       " Spectrum(precursor m/z=434.29, 60 fragments between 51.9 and 398.3),\n",
       " Spectrum(precursor m/z=757.22, 26 fragments between 129.1 and 757.2),\n",
       " Spectrum(precursor m/z=785.47, 95 fragments between 55.1 and 587.4),\n",
       " Spectrum(precursor m/z=213.10, 142 fragments between 57.5 and 214.1),\n",
       " Spectrum(precursor m/z=381.17, 77 fragments between 115.1 and 382.2),\n",
       " Spectrum(precursor m/z=151.11, 183 fragments between 51.7 and 157.1),\n",
       " Spectrum(precursor m/z=295.15, 161 fragments between 51.0 and 207.1),\n",
       " Spectrum(precursor m/z=825.41, 277 fragments between 107.1 and 826.4),\n",
       " Spectrum(precursor m/z=301.07, 54 fragments between 50.0 and 185.1),\n",
       " Spectrum(precursor m/z=515.37, 127 fragments between 69.1 and 516.4),\n",
       " Spectrum(precursor m/z=252.09, 10 fragments between 55.0 and 234.1),\n",
       " Spectrum(precursor m/z=333.21, 211 fragments between 55.1 and 334.2),\n",
       " Spectrum(precursor m/z=823.42, 885 fragments between 100.1 and 1126.6),\n",
       " Spectrum(precursor m/z=303.23, 130 fragments between 48.1 and 303.2),\n",
       " Spectrum(precursor m/z=373.24, 122 fragments between 67.1 and 373.2),\n",
       " Spectrum(precursor m/z=231.16, 50 fragments between 67.1 and 240.1),\n",
       " Spectrum(precursor m/z=429.15, 56 fragments between 151.1 and 414.1),\n",
       " Spectrum(precursor m/z=385.16, 77 fragments between 63.0 and 211.0),\n",
       " Spectrum(precursor m/z=333.02, 100 fragments between 105.1 and 332.5),\n",
       " Spectrum(precursor m/z=317.21, 116 fragments between 53.0 and 302.0),\n",
       " Spectrum(precursor m/z=903.26, 38 fragments between 53.0 and 288.1),\n",
       " Spectrum(precursor m/z=533.44, 28 fragments between 172.6 and 518.7),\n",
       " Spectrum(precursor m/z=463.25, 10 fragments between 129.1 and 464.3),\n",
       " Spectrum(precursor m/z=513.39, 28 fragments between 55.1 and 189.2),\n",
       " Spectrum(precursor m/z=153.05, 8 fragments between 57.9 and 153.1),\n",
       " Spectrum(precursor m/z=467.26, 85 fragments between 55.1 and 467.3),\n",
       " Spectrum(precursor m/z=301.14, 143 fragments between 55.0 and 271.1),\n",
       " Spectrum(precursor m/z=795.34, 1240 fragments between 103.1 and 800.6),\n",
       " Spectrum(precursor m/z=303.23, 129 fragments between 55.1 and 303.2),\n",
       " Spectrum(precursor m/z=642.33, 3387 fragments between 95.0 and 1504.0),\n",
       " Spectrum(precursor m/z=428.37, 46 fragments between 93.1 and 430.4),\n",
       " Spectrum(precursor m/z=515.19, 20 fragments between 57.0 and 479.2),\n",
       " Spectrum(precursor m/z=487.34, 45 fragments between 173.1 and 487.4),\n",
       " Spectrum(precursor m/z=375.13, 35 fragments between 93.1 and 357.1),\n",
       " Spectrum(precursor m/z=267.15, 9 fragments between 121.1 and 267.1),\n",
       " Spectrum(precursor m/z=1027.53, 159 fragments between 122.1 and 1030.1),\n",
       " Spectrum(precursor m/z=209.15, 41 fragments between 50.0 and 128.1),\n",
       " Spectrum(precursor m/z=293.17, 105 fragments between 50.0 and 185.1),\n",
       " Spectrum(precursor m/z=361.09, 16 fragments between 151.0 and 362.1),\n",
       " Spectrum(precursor m/z=401.20, 115 fragments between 51.0 and 211.0),\n",
       " Spectrum(precursor m/z=183.10, 55 fragments between 55.0 and 184.1),\n",
       " Spectrum(precursor m/z=1229.58, 84 fragments between 108.1 and 1229.6),\n",
       " Spectrum(precursor m/z=487.34, 426 fragments between 67.1 and 487.3),\n",
       " Spectrum(precursor m/z=427.21, 145 fragments between 53.0 and 357.1),\n",
       " Spectrum(precursor m/z=515.19, 22 fragments between 57.0 and 405.1),\n",
       " Spectrum(precursor m/z=217.13, 29 fragments between 55.1 and 200.1),\n",
       " Spectrum(precursor m/z=352.04, 1009 fragments between 45.2 and 1503.9),\n",
       " Spectrum(precursor m/z=957.50, 196 fragments between 95.1 and 957.5),\n",
       " Spectrum(precursor m/z=221.12, 330 fragments between 95.1 and 1500.5),\n",
       " Spectrum(precursor m/z=301.14, 25 fragments between 209.1 and 302.1),\n",
       " Spectrum(precursor m/z=263.09, 125 fragments between 65.0 and 263.1),\n",
       " Spectrum(precursor m/z=213.11, 6 fragments between 121.1 and 195.1),\n",
       " Spectrum(precursor m/z=275.13, 99 fragments between 95.1 and 868.4),\n",
       " Spectrum(precursor m/z=208.10, 65 fragments between 51.0 and 191.1),\n",
       " Spectrum(precursor m/z=208.10, 9 fragments between 76.0 and 133.1),\n",
       " Spectrum(precursor m/z=417.23, 363 fragments between 55.0 and 341.1),\n",
       " Spectrum(precursor m/z=301.07, 73 fragments between 51.0 and 239.0),\n",
       " Spectrum(precursor m/z=251.16, 44 fragments between 50.0 and 165.1),\n",
       " Spectrum(precursor m/z=231.10, 21 fragments between 128.1 and 231.1),\n",
       " Spectrum(precursor m/z=159.08, 7 fragments between 54.0 and 99.1),\n",
       " Spectrum(precursor m/z=371.26, 448 fragments between 95.1 and 1985.7),\n",
       " Spectrum(precursor m/z=397.24, 121 fragments between 55.0 and 279.2),\n",
       " Spectrum(precursor m/z=463.25, 31 fragments between 41.0 and 463.2),\n",
       " Spectrum(precursor m/z=373.24, 209 fragments between 53.0 and 373.2),\n",
       " Spectrum(precursor m/z=361.09, 1271 fragments between 95.0 and 1495.8),\n",
       " Spectrum(precursor m/z=416.35, 55 fragments between 55.1 and 185.1),\n",
       " Spectrum(precursor m/z=235.17, 87 fragments between 55.0 and 235.2)]"
      ]
     },
     "execution_count": 140,
     "metadata": {},
     "output_type": "execute_result"
    }
   ],
   "source": [
    "spectrums_retrieved"
   ]
  },
  {
   "cell_type": "code",
   "execution_count": 141,
   "id": "e99949ff-1472-4005-8cfc-edf2935f26f4",
   "metadata": {},
   "outputs": [
    {
     "data": {
      "text/plain": [
       "{'charge': 1,\n",
       " 'ionmode': 'positive',\n",
       " 'smiles': 'CCC1=C(C)C(C(C)=C(C(C)C(O)C(C2=C(C)C(C(C)C(C(CC)C)O2)=O)C)O1)=O',\n",
       " 'scans': '3530',\n",
       " 'ms_level': '2',\n",
       " 'instrument_type': 'LC-ESI-qTof',\n",
       " 'file_name': 'f.negarg/160Gatech/Sponge_positive_5uL_P1-D-1_01_422.mzXML;',\n",
       " 'peptide_sequence': '*..*',\n",
       " 'organism_name': 'GNPS-LIBRARY',\n",
       " 'compound_name': 'Putative smenopyrone M+H',\n",
       " 'principal_investigator': 'Neha Garg',\n",
       " 'data_collector': 'Neha Garg',\n",
       " 'submit_user': 'negarg',\n",
       " 'confidence': '3',\n",
       " 'spectrum_id': 'CCMSLIB00004752863',\n",
       " 'precursor_mz': 419.279,\n",
       " 'fingerprint': array([0, 0, 1, ..., 1, 1, 0])}"
      ]
     },
     "execution_count": 141,
     "metadata": {},
     "output_type": "execute_result"
    }
   ],
   "source": [
    "spectrums_retrieved[5].metadata"
   ]
  },
  {
   "cell_type": "code",
   "execution_count": 142,
   "id": "f8291a47-5161-48b7-be44-d0b45a46ce97",
   "metadata": {},
   "outputs": [],
   "source": [
    "bad_indexes= np.argsort(tanimoto_retrieved)[0:20]\n",
    "good_indexes= [index for index in range(0, len(tanimoto_retrieved)) if index not in bad_indexes]"
   ]
  },
  {
   "cell_type": "code",
   "execution_count": 143,
   "id": "9a3d7254-95c9-4e54-9ed6-f70e9d785cb0",
   "metadata": {},
   "outputs": [],
   "source": [
    "bad_spectrums=[spectrums_retrieved[index] for index in bad_indexes ]\n",
    "good_spectrums=[spectrums_retrieved[index] for index in good_indexes ]"
   ]
  },
  {
   "cell_type": "code",
   "execution_count": 144,
   "id": "92e7fdd5-9526-4dbb-a6fa-98d68765d96c",
   "metadata": {},
   "outputs": [],
   "source": [
    "is_gnps_bad_spectrums = [s for s in bad_spectrums if 'spectrum_id' in s.metadata]\n",
    "is_gnps_good_spectrums = [s for s in good_spectrums if 'spectrum_id' in s.metadata]"
   ]
  },
  {
   "cell_type": "code",
   "execution_count": 145,
   "id": "c9ceec47-1c1c-4815-adaf-11bfef368aba",
   "metadata": {},
   "outputs": [
    {
     "data": {
      "text/plain": [
       "0.55"
      ]
     },
     "execution_count": 145,
     "metadata": {},
     "output_type": "execute_result"
    }
   ],
   "source": [
    "len(is_gnps_bad_spectrums)/len(bad_spectrums)"
   ]
  },
  {
   "cell_type": "code",
   "execution_count": 146,
   "id": "d9bf2048-7a05-474e-81fc-1d11d3835564",
   "metadata": {},
   "outputs": [
    {
     "data": {
      "text/plain": [
       "0.4016393442622951"
      ]
     },
     "execution_count": 146,
     "metadata": {},
     "output_type": "execute_result"
    }
   ],
   "source": [
    "len(is_gnps_good_spectrums)/len(good_spectrums)"
   ]
  },
  {
   "cell_type": "markdown",
   "id": "28f089b6-b9f8-4336-a298-6b4f54bb2977",
   "metadata": {},
   "source": [
    "## pass the same bad spectrum used in simba here"
   ]
  },
  {
   "cell_type": "code",
   "execution_count": 147,
   "id": "54010620-2e68-453a-a8a0-ad539777ca1a",
   "metadata": {},
   "outputs": [
    {
     "data": {
      "text/plain": [
       "142"
      ]
     },
     "execution_count": 147,
     "metadata": {},
     "output_type": "execute_result"
    }
   ],
   "source": [
    "len(preprocessed_all_spectrums_janssen)"
   ]
  },
  {
   "cell_type": "code",
   "execution_count": 148,
   "id": "c38d2d2b-cc87-4cad-9b74-76a3585ae4f1",
   "metadata": {},
   "outputs": [
    {
     "data": {
      "text/plain": [
       "326383"
      ]
     },
     "execution_count": 148,
     "metadata": {},
     "output_type": "execute_result"
    }
   ],
   "source": [
    "len(preprocessed_all_spectrums_reference)"
   ]
  },
  {
   "cell_type": "code",
   "execution_count": 149,
   "id": "729af0c5-5a87-45a0-89d1-d8cf61a5dcdd",
   "metadata": {},
   "outputs": [
    {
     "ename": "IndexError",
     "evalue": "list index out of range",
     "output_type": "error",
     "traceback": [
      "\u001b[0;31m---------------------------------------------------------------------------\u001b[0m",
      "\u001b[0;31mIndexError\u001b[0m                                Traceback (most recent call last)",
      "Cell \u001b[0;32mIn[149], line 1\u001b[0m\n\u001b[0;32m----> 1\u001b[0m target_spectrum_janssen \u001b[38;5;241m=\u001b[39m [s \u001b[38;5;28;01mfor\u001b[39;00m s \u001b[38;5;129;01min\u001b[39;00m preprocessed_all_spectrums_janssen \u001b[38;5;28;01mif\u001b[39;00m s\u001b[38;5;241m.\u001b[39mmetadata[\u001b[38;5;124m'\u001b[39m\u001b[38;5;124mid\u001b[39m\u001b[38;5;124m'\u001b[39m]\u001b[38;5;241m==\u001b[39m\u001b[38;5;124m'\u001b[39m\u001b[38;5;124mCUIHSIWYWATEQL\u001b[39m\u001b[38;5;124m'\u001b[39m][\u001b[38;5;241m0\u001b[39m]\n",
      "\u001b[0;31mIndexError\u001b[0m: list index out of range"
     ]
    }
   ],
   "source": [
    "target_spectrum_janssen = [s for s in preprocessed_all_spectrums_janssen if s.metadata['id']=='CUIHSIWYWATEQL'][0]"
   ]
  },
  {
   "cell_type": "code",
   "execution_count": null,
   "id": "a1ec8c49-7487-4d9c-a21a-84d7171bc9fc",
   "metadata": {},
   "outputs": [],
   "source": [
    "target_spectrum_janssen"
   ]
  },
  {
   "cell_type": "code",
   "execution_count": null,
   "id": "4e670cea-157d-40a1-8cab-74a068b3b0f6",
   "metadata": {},
   "outputs": [],
   "source": [
    "target_spectrum_ref = [s for s in preprocessed_all_spectrums_reference if 'spectrum_id' in s.metadata]\n",
    "target_spectrum_ref = [s for s in target_spectrum_ref if s.metadata['spectrum_id']=='CCMSLIB00003134614'][0]"
   ]
  },
  {
   "cell_type": "code",
   "execution_count": null,
   "id": "201d26f4-4e43-4d5b-b7ea-b73467dab72f",
   "metadata": {},
   "outputs": [],
   "source": [
    "target_spectrum_ref"
   ]
  },
  {
   "cell_type": "code",
   "execution_count": null,
   "id": "7953c0cb-daf2-49d8-a54a-f48fff851ae9",
   "metadata": {},
   "outputs": [],
   "source": [
    "target_results=calculate_scores( [target_spectrum_ref], [target_spectrum_janssen], similarity_model\n",
    "                    )"
   ]
  },
  {
   "cell_type": "code",
   "execution_count": null,
   "id": "07cb2213-b493-4f3d-8853-d8997416356f",
   "metadata": {},
   "outputs": [],
   "source": [
    "target_results.scores_by_query(target_spectrum_janssen, name='Spec2Vec', sort=True)"
   ]
  },
  {
   "cell_type": "markdown",
   "id": "818848b3-4d95-46b1-a5a6-15000d81af3b",
   "metadata": {},
   "source": [
    "## what I got when I run the model?"
   ]
  },
  {
   "cell_type": "code",
   "execution_count": null,
   "id": "88f253f6-abd4-4b02-919d-c3b6b1911718",
   "metadata": {
    "scrolled": true
   },
   "outputs": [],
   "source": [
    "results_scores.scores_by_query(target_spectrum_janssen, name='Spec2Vec', sort=True)"
   ]
  },
  {
   "cell_type": "code",
   "execution_count": null,
   "id": "8df9602f-95b7-448e-89d5-22d626ab4168",
   "metadata": {
    "scrolled": true
   },
   "outputs": [],
   "source": [
    "spectrums_retrieved"
   ]
  },
  {
   "cell_type": "code",
   "execution_count": null,
   "id": "b7583804-6049-48df-991c-543b38c1d018",
   "metadata": {},
   "outputs": [],
   "source": []
  },
  {
   "cell_type": "code",
   "execution_count": null,
   "id": "85d9faa2-6492-42b1-84da-7aa301ebabb5",
   "metadata": {},
   "outputs": [],
   "source": []
  },
  {
   "cell_type": "code",
   "execution_count": null,
   "id": "20580b49-7c0f-4e51-98e3-2436f3bc6cee",
   "metadata": {},
   "outputs": [],
   "source": []
  },
  {
   "cell_type": "code",
   "execution_count": null,
   "id": "783a124e-6ecc-40d7-8170-404302ab8e7d",
   "metadata": {},
   "outputs": [],
   "source": []
  }
 ],
 "metadata": {
  "kernelspec": {
   "display_name": "Python 3 (ipykernel)",
   "language": "python",
   "name": "python3"
  },
  "language_info": {
   "codemirror_mode": {
    "name": "ipython",
    "version": 3
   },
   "file_extension": ".py",
   "mimetype": "text/x-python",
   "name": "python",
   "nbconvert_exporter": "python",
   "pygments_lexer": "ipython3",
   "version": "3.11.7"
  }
 },
 "nbformat": 4,
 "nbformat_minor": 5
}
