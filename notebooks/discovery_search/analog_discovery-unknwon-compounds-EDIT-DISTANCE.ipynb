{
 "cells": [
  {
   "cell_type": "code",
   "execution_count": 1,
   "id": "50360883-ed2c-41f8-becc-bec985aa0ce5",
   "metadata": {},
   "outputs": [],
   "source": [
    "%load_ext autoreload\n",
    "%autoreload 2"
   ]
  },
  {
   "cell_type": "code",
   "execution_count": 2,
   "id": "de3f5b42-5255-45de-ae10-86d024fb5632",
   "metadata": {},
   "outputs": [],
   "source": [
    "import os\n",
    "os.chdir('/Users/sebas/projects/metabolomics')\n",
    "os.environ[\"PYTORCH_ENABLE_MPS_FALLBACK\"] = \"1\""
   ]
  },
  {
   "cell_type": "code",
   "execution_count": 3,
   "id": "f3e98ba8-7bd9-4e48-90c9-72a24b94172c",
   "metadata": {},
   "outputs": [],
   "source": [
    "from src.transformers.sklearn_model import SklearnModel\n",
    "import gensim\n",
    "from src.load_data import LoadData\n",
    "from src.config import Config\n",
    "from tqdm import tqdm\n",
    "from src.loader_saver import LoaderSaver\n",
    "import itertools\n",
    "import numpy as np\n",
    "from scipy.stats import spearmanr\n",
    "import dill\n",
    "from src.plotting import Plotting\n",
    "from src.load_data import LoadData\n",
    "from src.molecule_pairs_opt import MoleculePairsOpt\n",
    "from sklearn.model_selection import train_test_split\n",
    "from src.train_utils import TrainUtils\n",
    "from src.preprocessor import Preprocessor\n",
    "import pickle\n",
    "import sys\n",
    "from src.config import Config\n",
    "from src.parser import Parser\n",
    "from datetime import datetime\n",
    "from src.loader_saver import LoaderSaver\n",
    "from src.molecular_pairs_set import MolecularPairsSet\n",
    "from scipy.stats import spearmanr\n",
    "from src.transformers.embedder import Embedder\n",
    "from src.transformers.encoder import Encoder\n",
    "import matplotlib.pyplot as plt\n",
    "from src.transformers.CustomDatasetEncoder import CustomDatasetEncoder\n",
    "from src.transformers.load_data_encoder import LoadDataEncoder\n",
    "from src.transformers.load_data_unique import LoadDataUnique\n",
    "from torch.utils.data import DataLoader\n",
    "from src.analog_discovery.cosine_similarity import CosineSimilarity\n",
    "from rdkit import Chem\n",
    "from src.analog_discovery.analog_discovery import AnalogDiscovery\n",
    "from src.analog_discovery.mces import MCES\n",
    "from src.analog_discovery.ad_multitask import ADMultitask\n",
    "import copy"
   ]
  },
  {
   "cell_type": "markdown",
   "id": "a52a9280-cfe5-41c0-bcea-d7bf7f951bb8",
   "metadata": {},
   "source": [
    "## params"
   ]
  },
  {
   "cell_type": "code",
   "execution_count": 4,
   "id": "34d7a11c-6a14-4855-aa8d-3dd287910d73",
   "metadata": {},
   "outputs": [],
   "source": [
    "MULTITASKING=True"
   ]
  },
  {
   "cell_type": "code",
   "execution_count": 5,
   "id": "510a6872-e306-4977-972d-73023876e21e",
   "metadata": {},
   "outputs": [],
   "source": [
    "data_folder= '/Users/sebas/projects/data/'\n",
    "janssen_path = data_folder + 'drug_plus.mgf'\n",
    "output_janssen_file= data_folder + 'all_spectrums_janssen.pkl'\n",
    "dataset_path= data_folder +'merged_gnps_nist_20240311_unique_smiles_1_million.pkl'\n",
    "#model_path = data_folder + 'best_model_multitasking_min_peaks.ckpt'\n",
    "#model_path = data_folder + 'best_model_multitasking_pretraining_2.ckpt'\n",
    "model_path = data_folder + 'best_model_mces20_ed_20241118_precursor_randomized.ckpt'\n",
    "casmi_file= '/Users/sebas/projects/data/processed_massformer/spec_df.pkl' "
   ]
  },
  {
   "cell_type": "code",
   "execution_count": 6,
   "id": "7d36a491-4178-416c-bb79-408dcbf6ac10",
   "metadata": {},
   "outputs": [],
   "source": [
    "config=Config()"
   ]
  },
  {
   "cell_type": "code",
   "execution_count": 7,
   "id": "f0123044-37f8-4d2b-965a-4c13aaee7995",
   "metadata": {},
   "outputs": [],
   "source": [
    "config.D_MODEL=512\n",
    "config.N_LAYERS=5\n"
   ]
  },
  {
   "cell_type": "code",
   "execution_count": 8,
   "id": "8efbcdb9-e1a1-4dcc-9776-ffebde03dd97",
   "metadata": {},
   "outputs": [],
   "source": [
    "USE_CASMI=True"
   ]
  },
  {
   "cell_type": "code",
   "execution_count": 9,
   "id": "09e8929b-8e17-4694-8ac3-2b8ad3b23079",
   "metadata": {},
   "outputs": [],
   "source": [
    "#similarity_name= 'simba_EDIT_DISTANCE_WITH_CONFIDENCE'\n",
    "#similarity_name= 'simba_EDIT_DISTANCE'\n",
    "similarity_name= 'simba_EDIT_DISTANCE_PRETRAINING'\n",
    "#similarity_name= 'simba_EDIT_DISTANCE_PRETRAINING_WITHOUT_CONFIDENCE'"
   ]
  },
  {
   "cell_type": "code",
   "execution_count": 10,
   "id": "1f1461fe-e192-4964-af59-3436c0ff9c02",
   "metadata": {},
   "outputs": [],
   "source": [
    "USE_MS2DEEPSCORE =False\n",
    "if USE_MS2DEEPSCORE:\n",
    "    similarity_name= 'simba_SIMBA_ENSEMBLED_MS2DEEPSCORE_SPEC2VEC'\n"
   ]
  },
  {
   "cell_type": "code",
   "execution_count": 11,
   "id": "760dded9-d5b3-4b05-91dc-f88e8f3750da",
   "metadata": {},
   "outputs": [],
   "source": [
    "data_folder= '/Users/sebas/projects/data/'\n",
    "model_ms2d_file = data_folder + 'ms2deepscore_positive_10k_1000_1000_1000_500.hdf5'\n",
    "model_spec2vec_file = data_folder + 'spec2vec_AllPositive_ratio05_filtered_201101_iter_15.model'\n"
   ]
  },
  {
   "cell_type": "code",
   "execution_count": 12,
   "id": "29cc6998-0f42-4687-92b2-70cb8aff568e",
   "metadata": {},
   "outputs": [],
   "source": [
    "from ms2deepscore import MS2DeepScore\n",
    "from ms2deepscore.models import load_model\n",
    "import tensorflow as tf\n",
    "from matchms import calculate_scores\n",
    "from src.matchms_utils import MatchmsUtils\n",
    "from spec2vec import Spec2Vec\n",
    "\n",
    "class Ms2wrapper:\n",
    "    def __init__(self, model_ms2d_file):\n",
    "        self.model_ms2d = load_model(model_ms2d_file)\n",
    "        self.similarity_model= MS2DeepScore(self.model_ms2d)\n",
    "        \n",
    "    def get_predictions_ms2deepscore(self,s1, s2):\n",
    "        results_ms2_all=[]\n",
    "        s_query= MatchmsUtils.from_su_to_matchms(s1)\n",
    "        s_ref= MatchmsUtils.from_su_to_matchms(s2)\n",
    "        with tf.device('/device:CPU:0'): #execute on cpu\n",
    "                results_ms2 = calculate_scores([s_query], [s_ref], self.similarity_model)\n",
    "        return results_ms2.to_array()\n",
    "\n",
    "    def compute_similarity_matrix(self,specs_su_1, specs_su_2):\n",
    "        results_ms2_all=[]\n",
    "        s_query= [MatchmsUtils.from_su_to_matchms(s1) for s1 in specs_su_1]\n",
    "        s_ref=  [MatchmsUtils.from_su_to_matchms(s2) for s2 in specs_su_2]\n",
    "        with tf.device('/device:CPU:0'): #execute on cpu\n",
    "                results_ms2 = calculate_scores(s_query, s_ref, self.similarity_model)\n",
    "        return results_ms2.to_array()\n",
    "\n",
    "class Spec2vec_wrapper:\n",
    "    def __init__(self, model_ms2d_file):\n",
    "        self.model = gensim.models.Word2Vec.load(model_spec2vec_file)\n",
    "        self.similarity_model= Spec2Vec(\n",
    "                model=self.model, intensity_weighting_power=0.5, allowed_missing_percentage=100.0\n",
    "            )\n",
    "    def compute_similarity_matrix(self,specs_su_1, specs_su_2):\n",
    "        s_query= [MatchmsUtils.from_su_to_matchms(s1) for s1 in specs_su_1]\n",
    "        s_ref=  [MatchmsUtils.from_su_to_matchms(s2) for s2 in specs_su_2]\n",
    "        with tf.device('/device:CPU:0'): #execute on cpu\n",
    "                results_spec2vec_all = calculate_scores(s_query, s_ref, self.similarity_model)\n",
    "        return results_spec2vec_all.to_array()"
   ]
  },
  {
   "cell_type": "code",
   "execution_count": 13,
   "id": "b7ecbfd7-8904-490b-8bd2-4989a16c86c1",
   "metadata": {},
   "outputs": [
    {
     "name": "stderr",
     "output_type": "stream",
     "text": [
      "2024-11-18 10:07:29.605955: I metal_plugin/src/device/metal_device.cc:1154] Metal device set to: Apple M3 Pro\n",
      "2024-11-18 10:07:29.605973: I metal_plugin/src/device/metal_device.cc:296] systemMemory: 36.00 GB\n",
      "2024-11-18 10:07:29.605977: I metal_plugin/src/device/metal_device.cc:313] maxCacheSize: 13.50 GB\n",
      "2024-11-18 10:07:29.606018: I tensorflow/core/common_runtime/pluggable_device/pluggable_device_factory.cc:306] Could not identify NUMA node of platform GPU ID 0, defaulting to 0. Your kernel may not have been built with NUMA support.\n",
      "2024-11-18 10:07:29.606044: I tensorflow/core/common_runtime/pluggable_device/pluggable_device_factory.cc:272] Created TensorFlow device (/job:localhost/replica:0/task:0/device:GPU:0 with 0 MB memory) -> physical PluggableDevice (device: 0, name: METAL, pci bus id: <undefined>)\n",
      "WARNING:absl:At this time, the v2.11+ optimizer `tf.keras.optimizers.Adam` runs slowly on M1/M2 Macs, please use the legacy Keras optimizer instead, located at `tf.keras.optimizers.legacy.Adam`.\n"
     ]
    }
   ],
   "source": [
    "#ms2_object=Spec2vec_wrapper(model_spec2vec_file)\n",
    "ms2_object=Ms2wrapper(model_ms2d_file)"
   ]
  },
  {
   "cell_type": "markdown",
   "id": "fad919ec-2fe6-42fa-9c99-d4669bc95e27",
   "metadata": {},
   "source": [
    "## open janssen data"
   ]
  },
  {
   "cell_type": "code",
   "execution_count": 14,
   "id": "c1b4018a-dde4-4988-bbd7-7431597161d7",
   "metadata": {},
   "outputs": [],
   "source": [
    "if USE_CASMI:\n",
    "    all_spectrums_janssen_original=LoadData.get_all_spectrums_casmi(\n",
    "        casmi_file,\n",
    "        config=config,\n",
    "    )\n",
    "else:\n",
    "    loader_saver = LoaderSaver(\n",
    "            block_size=100,\n",
    "            pickle_nist_path='',\n",
    "            pickle_gnps_path='',\n",
    "            pickle_janssen_path=output_janssen_file,\n",
    "        )\n",
    "    all_spectrums_janssen_original = loader_saver.get_all_spectrums(\n",
    "                janssen_path,\n",
    "                100000000,\n",
    "                use_tqdm=True,\n",
    "                use_nist=False,\n",
    "                config=config,\n",
    "                use_janssen=True,\n",
    "            )"
   ]
  },
  {
   "cell_type": "code",
   "execution_count": 15,
   "id": "0e187bf8-cb0c-4173-9757-8771573e337a",
   "metadata": {},
   "outputs": [],
   "source": [
    "all_spectrums_janssen_processed= [copy.deepcopy(s) for s in all_spectrums_janssen_original]\n"
   ]
  },
  {
   "cell_type": "code",
   "execution_count": 16,
   "id": "6c26b97a-4ed4-466d-b7a0-abad3e8f3cab",
   "metadata": {},
   "outputs": [],
   "source": [
    "pp=Preprocessor()\n",
    "### remove extra peaks in janssen\n",
    "all_spectrums_janssen_processed = [pp.preprocess_spectrum(\n",
    "            s,\n",
    "            fragment_tol_mass=10,\n",
    "            fragment_tol_mode=\"ppm\",\n",
    "            min_intensity=0.01,\n",
    "            max_num_peaks=100,\n",
    "            scale_intensity=None,\n",
    "        ) for s in all_spectrums_janssen_processed]\n",
    "\n",
    "all_spectrums_janssen = [s_original for s_original, s_processed in zip(all_spectrums_janssen_original,all_spectrums_janssen_processed) if len(s_processed.mz)>=6]"
   ]
  },
  {
   "cell_type": "code",
   "execution_count": null,
   "id": "b9471f81-f4ec-4c2b-a43b-9ce305eb1b44",
   "metadata": {},
   "outputs": [],
   "source": []
  },
  {
   "cell_type": "markdown",
   "id": "1fa5a533-cea8-4bcb-9c87-f47ec4ace92d",
   "metadata": {},
   "source": [
    "## open ref data"
   ]
  },
  {
   "cell_type": "code",
   "execution_count": 17,
   "id": "4a2be0da-edb6-4cf9-bc0c-2cbc39478593",
   "metadata": {},
   "outputs": [
    {
     "ename": "FileNotFoundError",
     "evalue": "[Errno 2] No such file or directory: '/Users/sebas/projects/data/merged_gnps_nist_20240311_unique_smiles_1_million.pkl'",
     "output_type": "error",
     "traceback": [
      "\u001b[0;31m---------------------------------------------------------------------------\u001b[0m",
      "\u001b[0;31mFileNotFoundError\u001b[0m                         Traceback (most recent call last)",
      "Cell \u001b[0;32mIn[17], line 1\u001b[0m\n\u001b[0;32m----> 1\u001b[0m \u001b[38;5;28;01mwith\u001b[39;00m \u001b[38;5;28mopen\u001b[39m(dataset_path, \u001b[38;5;124m'\u001b[39m\u001b[38;5;124mrb\u001b[39m\u001b[38;5;124m'\u001b[39m) \u001b[38;5;28;01mas\u001b[39;00m file:\n\u001b[1;32m      2\u001b[0m             dataset \u001b[38;5;241m=\u001b[39m dill\u001b[38;5;241m.\u001b[39mload(file)\n",
      "File \u001b[0;32m~/miniconda3/envs/transformers/lib/python3.11/site-packages/IPython/core/interactiveshell.py:310\u001b[0m, in \u001b[0;36m_modified_open\u001b[0;34m(file, *args, **kwargs)\u001b[0m\n\u001b[1;32m    303\u001b[0m \u001b[38;5;28;01mif\u001b[39;00m file \u001b[38;5;129;01min\u001b[39;00m {\u001b[38;5;241m0\u001b[39m, \u001b[38;5;241m1\u001b[39m, \u001b[38;5;241m2\u001b[39m}:\n\u001b[1;32m    304\u001b[0m     \u001b[38;5;28;01mraise\u001b[39;00m \u001b[38;5;167;01mValueError\u001b[39;00m(\n\u001b[1;32m    305\u001b[0m         \u001b[38;5;124mf\u001b[39m\u001b[38;5;124m\"\u001b[39m\u001b[38;5;124mIPython won\u001b[39m\u001b[38;5;124m'\u001b[39m\u001b[38;5;124mt let you open fd=\u001b[39m\u001b[38;5;132;01m{\u001b[39;00mfile\u001b[38;5;132;01m}\u001b[39;00m\u001b[38;5;124m by default \u001b[39m\u001b[38;5;124m\"\u001b[39m\n\u001b[1;32m    306\u001b[0m         \u001b[38;5;124m\"\u001b[39m\u001b[38;5;124mas it is likely to crash IPython. If you know what you are doing, \u001b[39m\u001b[38;5;124m\"\u001b[39m\n\u001b[1;32m    307\u001b[0m         \u001b[38;5;124m\"\u001b[39m\u001b[38;5;124myou can use builtins\u001b[39m\u001b[38;5;124m'\u001b[39m\u001b[38;5;124m open.\u001b[39m\u001b[38;5;124m\"\u001b[39m\n\u001b[1;32m    308\u001b[0m     )\n\u001b[0;32m--> 310\u001b[0m \u001b[38;5;28;01mreturn\u001b[39;00m io_open(file, \u001b[38;5;241m*\u001b[39margs, \u001b[38;5;241m*\u001b[39m\u001b[38;5;241m*\u001b[39mkwargs)\n",
      "\u001b[0;31mFileNotFoundError\u001b[0m: [Errno 2] No such file or directory: '/Users/sebas/projects/data/merged_gnps_nist_20240311_unique_smiles_1_million.pkl'"
     ]
    }
   ],
   "source": [
    "with open(dataset_path, 'rb') as file:\n",
    "            dataset = dill.load(file)"
   ]
  },
  {
   "cell_type": "code",
   "execution_count": null,
   "id": "3d6f6a52-ddab-4fc8-8822-22cf0fb9bfa3",
   "metadata": {},
   "outputs": [],
   "source": [
    "dataset['molecule_pairs_test']"
   ]
  },
  {
   "cell_type": "code",
   "execution_count": null,
   "id": "c960cefc-7372-4088-9c1f-77dd59b98bcd",
   "metadata": {},
   "outputs": [],
   "source": [
    "all_spectrums_reference_original= dataset['molecule_pairs_train'].spectrums_original +\\\n",
    "                    dataset['molecule_pairs_val'].spectrums_original + \\\n",
    "                        dataset['molecule_pairs_test'].spectrums_original\n"
   ]
  },
  {
   "cell_type": "code",
   "execution_count": null,
   "id": "4615c229-2402-417d-8957-b556a20d1c7e",
   "metadata": {},
   "outputs": [],
   "source": [
    "\n"
   ]
  },
  {
   "cell_type": "code",
   "execution_count": null,
   "id": "e039dda1-0e1f-4508-a1dd-05bb71c796b7",
   "metadata": {},
   "outputs": [],
   "source": [
    "import copy\n",
    "all_spectrums_reference_processed= [copy.deepcopy(s) for s in all_spectrums_reference_original]"
   ]
  },
  {
   "cell_type": "code",
   "execution_count": null,
   "id": "8d5232fe-f4b8-4d41-b337-332d287e8c1f",
   "metadata": {},
   "outputs": [],
   "source": [
    "all_spectrums_reference_processed = [pp.preprocess_spectrum(\n",
    "            s,\n",
    "            fragment_tol_mass=10,\n",
    "            fragment_tol_mode=\"ppm\",\n",
    "            min_intensity=0.01,\n",
    "            max_num_peaks=100,\n",
    "            scale_intensity=None,\n",
    "        ) for s in all_spectrums_reference_processed]\n",
    "    \n",
    "all_spectrums_reference = [s_original for s_original, s_processed in zip(all_spectrums_reference_original,all_spectrums_reference_processed) if len(s_processed.mz)>=6]"
   ]
  },
  {
   "cell_type": "code",
   "execution_count": null,
   "id": "fc3c41cc-6f32-46ea-848a-bf4c5756be72",
   "metadata": {},
   "outputs": [],
   "source": []
  },
  {
   "cell_type": "markdown",
   "id": "89c2d2b2-aeae-4826-8286-26322fb47610",
   "metadata": {},
   "source": [
    "## Find those instances that are not in reference"
   ]
  },
  {
   "cell_type": "code",
   "execution_count": null,
   "id": "7de8a005-af76-4c82-bf45-38c6fe3843b5",
   "metadata": {},
   "outputs": [],
   "source": [
    "canon_smiles_reference = [Chem.CanonSmiles(s.smiles) for s in all_spectrums_reference]\n",
    "canon_smiles_janssen =   [Chem.CanonSmiles(s.smiles) for s in all_spectrums_janssen]\n",
    "janssen_indexes_in_ref= [i for i,s in enumerate(canon_smiles_janssen) if s in canon_smiles_reference]\n",
    "janssen_indexes_not_in_ref = [i for i,s in enumerate(canon_smiles_janssen) if s not in canon_smiles_reference]"
   ]
  },
  {
   "cell_type": "code",
   "execution_count": null,
   "id": "53bd924c-a799-4957-a5fd-89468054eb13",
   "metadata": {},
   "outputs": [],
   "source": [
    "len(janssen_indexes_in_ref),len(janssen_indexes_not_in_ref)"
   ]
  },
  {
   "cell_type": "code",
   "execution_count": null,
   "id": "d70eb35c-1693-4335-99f2-7440caaa4f2b",
   "metadata": {},
   "outputs": [],
   "source": [
    "all_spectrums_janssen = [all_spectrums_janssen[index] for index in janssen_indexes_not_in_ref]"
   ]
  },
  {
   "cell_type": "markdown",
   "id": "12a19c90-4a0f-4c3c-b7ab-ebff663145b6",
   "metadata": {},
   "source": [
    "## load encoder"
   ]
  },
  {
   "cell_type": "code",
   "execution_count": null,
   "id": "771cc734-7935-43d0-8805-044c72d29302",
   "metadata": {},
   "outputs": [],
   "source": [
    "encoder= Encoder(model_path, D_MODEL=int(config.D_MODEL),N_LAYERS=int(config.N_LAYERS), multitasking=MULTITASKING, config=config)"
   ]
  },
  {
   "cell_type": "markdown",
   "id": "28aa5d01-0659-4e1d-a6c1-5b8b1fe58e8e",
   "metadata": {},
   "source": [
    "## data loader"
   ]
  },
  {
   "cell_type": "code",
   "execution_count": null,
   "id": "e83d0a22-8097-4e91-b5f4-d6cf1011fe66",
   "metadata": {},
   "outputs": [],
   "source": [
    "dataset_janssen= LoadDataEncoder.from_spectrums_to_dataset(all_spectrums_janssen)\n",
    "dataloader_janssen= DataLoader(dataset_janssen, batch_size=config.BATCH_SIZE,  num_workers=0)"
   ]
  },
  {
   "cell_type": "code",
   "execution_count": null,
   "id": "73147f6d-ff47-49e4-bd73-847a74a71b70",
   "metadata": {},
   "outputs": [],
   "source": [
    "dataset_reference= LoadDataEncoder.from_spectrums_to_dataset(all_spectrums_reference)\n",
    "dataloader_reference= DataLoader(dataset_reference, batch_size=config.BATCH_SIZE,  num_workers=0)"
   ]
  },
  {
   "cell_type": "code",
   "execution_count": null,
   "id": "414e921d-b4b8-4731-83c9-3047f36b9150",
   "metadata": {},
   "outputs": [],
   "source": [
    "#dataset_nist= LoadDataEncoder.from_spectrums_to_dataset(all_spectrums_nist)\n",
    "#dataloader_nist= DataLoader(dataset_nist, batch_size=config.BATCH_SIZE,  num_workers=0)"
   ]
  },
  {
   "cell_type": "code",
   "execution_count": null,
   "id": "e3956c32-5721-4952-8d46-12e2b0f9925e",
   "metadata": {},
   "outputs": [],
   "source": [
    "#dataset_gnps= LoadDataEncoder.from_spectrums_to_dataset(all_spectrums_gnps)\n",
    "#dataloader_gnps= DataLoader(dataset_gnps, batch_size=config.BATCH_SIZE,  num_workers=0)"
   ]
  },
  {
   "cell_type": "code",
   "execution_count": null,
   "id": "d1f99cc0-1f07-4039-8101-c96f00931a0d",
   "metadata": {},
   "outputs": [],
   "source": [
    "for batch in dataloader_reference:\n",
    "    print(batch['intensity'])\n",
    "    plt.plot(batch['intensity'][10])\n",
    "    break"
   ]
  },
  {
   "cell_type": "markdown",
   "id": "114a2ea0-375a-4fe4-9683-73934e7b2f73",
   "metadata": {},
   "source": [
    "## forward"
   ]
  },
  {
   "cell_type": "code",
   "execution_count": null,
   "id": "c60ae01a-6d47-4856-8785-66333c3afb8c",
   "metadata": {},
   "outputs": [],
   "source": [
    "embeddings_janssen= encoder.get_embeddings(dataloader_janssen)"
   ]
  },
  {
   "cell_type": "code",
   "execution_count": null,
   "id": "c6b2ab3b-9fc8-4dd1-86db-001d69c75e3a",
   "metadata": {},
   "outputs": [],
   "source": [
    "embeddings_reference = encoder.get_embeddings(dataloader_reference)"
   ]
  },
  {
   "cell_type": "code",
   "execution_count": null,
   "id": "3122a201-32a7-4d60-8a69-33362d920326",
   "metadata": {},
   "outputs": [],
   "source": [
    "#embeddings_nist = encoder.get_embeddings(dataloader_nist)"
   ]
  },
  {
   "cell_type": "code",
   "execution_count": null,
   "id": "cfe50c7e-daab-4bed-b1ef-484763eddeae",
   "metadata": {},
   "outputs": [],
   "source": [
    "#embeddings_gnps = encoder.get_embeddings(dataloader_gnps)"
   ]
  },
  {
   "cell_type": "markdown",
   "id": "b4c13f39-662b-4314-b593-3f5adcddd328",
   "metadata": {},
   "source": [
    "## compute similarities simba"
   ]
  },
  {
   "cell_type": "code",
   "execution_count": null,
   "id": "2df1c6ac-e275-4517-ab01-512df61b6d8e",
   "metadata": {},
   "outputs": [],
   "source": [
    "similarities= CosineSimilarity.batch_cosine_similarity_combinations(embeddings_janssen, embeddings_reference)"
   ]
  },
  {
   "cell_type": "code",
   "execution_count": null,
   "id": "a2cec02f-a8e2-4184-8c66-7248a50610bf",
   "metadata": {},
   "outputs": [],
   "source": [
    "similarities.shape"
   ]
  },
  {
   "cell_type": "markdown",
   "id": "d01da79c-8e6b-4fba-b17c-f5a3be8a8c26",
   "metadata": {},
   "source": [
    "## compute similarities ms2deepscore"
   ]
  },
  {
   "cell_type": "code",
   "execution_count": null,
   "id": "4bb7a3a7-1fad-4b25-87ed-efd911c4055b",
   "metadata": {},
   "outputs": [],
   "source": [
    "import copy\n",
    "from src.spectrum_ext import SpectrumExt\n",
    "from matchms.Spectrum import Spectrum\n",
    "all_spectrums_reference_preprocessed=[]\n",
    "for s in all_spectrums_reference:\n",
    "    if s.mz[(s.mz >= 10) & (s.mz <= 1000)].shape[0]>0:\n",
    "        all_spectrums_reference_preprocessed.append(s)\n",
    "    else:\n",
    "        all_spectrums_reference_preprocessed.append(all_spectrums_reference[0])"
   ]
  },
  {
   "cell_type": "code",
   "execution_count": null,
   "id": "6d17792d-96db-49b3-bfaf-6f4f01c1e13a",
   "metadata": {},
   "outputs": [],
   "source": [
    "len(all_spectrums_reference_preprocessed), len(all_spectrums_reference)"
   ]
  },
  {
   "cell_type": "code",
   "execution_count": null,
   "id": "d30c7bf4-9533-4046-b25b-d59cef8dd6cf",
   "metadata": {},
   "outputs": [],
   "source": []
  },
  {
   "cell_type": "code",
   "execution_count": null,
   "id": "a8b8433d-e26e-43d7-9ff2-a975b6b626bb",
   "metadata": {},
   "outputs": [],
   "source": [
    "if USE_MS2DEEPSCORE:\n",
    "        path_file='./similarities_ms2.npy'\n",
    "        if (os.path.exists(path_file)):\n",
    "            similarities_ms2=np.load(path_file)\n",
    "        else:\n",
    "           similarities_ms2 = ms2_object.compute_similarity_matrix(all_spectrums_janssen, all_spectrums_reference_preprocessed)"
   ]
  },
  {
   "cell_type": "markdown",
   "id": "839da092-eb75-4f90-aa7d-736c3bef01c8",
   "metadata": {},
   "source": [
    "## heat map"
   ]
  },
  {
   "cell_type": "code",
   "execution_count": null,
   "id": "4391d916-fa45-4823-8918-4ca79facb41c",
   "metadata": {},
   "outputs": [],
   "source": [
    "plt.figure(figsize=(10,100))\n",
    "plt.imshow(similarities[:, 0:10000], cmap='hot', interpolation='nearest')\n",
    "#plt.colorbar()  # Add colorbar to show scale\n",
    "plt.title('Heatmap of Matrix')\n",
    "plt.xlabel('X-axis')\n",
    "plt.ylabel('Y-axis')\n",
    "plt.show()"
   ]
  },
  {
   "cell_type": "markdown",
   "id": "eaffcdc1-5793-4ab7-9fba-10280eff1f82",
   "metadata": {},
   "source": [
    "## Show PCA"
   ]
  },
  {
   "cell_type": "code",
   "execution_count": null,
   "id": "2327ef33-ff43-4f4b-aa4e-20e97cbe8abd",
   "metadata": {},
   "outputs": [],
   "source": [
    "from src.analog_discovery.pca_embeddings import PCAEmbeddings"
   ]
  },
  {
   "cell_type": "code",
   "execution_count": null,
   "id": "b6ead012-0074-452c-b82c-d4723b9ddd8e",
   "metadata": {},
   "outputs": [],
   "source": [
    "pca = PCAEmbeddings()"
   ]
  },
  {
   "cell_type": "code",
   "execution_count": null,
   "id": "76e2559b-2f10-411b-8bc2-5c8e4937a7be",
   "metadata": {},
   "outputs": [],
   "source": [
    "pca.fit(embeddings_reference)"
   ]
  },
  {
   "cell_type": "code",
   "execution_count": null,
   "id": "72d7de34-f910-4c9d-abc4-7d8a842ccc32",
   "metadata": {},
   "outputs": [],
   "source": [
    "pca_ref= pca.transform(embeddings_reference)"
   ]
  },
  {
   "cell_type": "code",
   "execution_count": null,
   "id": "b02031b8-9b63-42e3-8b5f-947740afd328",
   "metadata": {},
   "outputs": [],
   "source": [
    "pca_janssen= pca.transform(embeddings_janssen)"
   ]
  },
  {
   "cell_type": "code",
   "execution_count": null,
   "id": "8d049b82-efef-4af3-a122-a36550bd7d9e",
   "metadata": {},
   "outputs": [],
   "source": [
    "#pca_nist= pca.transform(embeddings_nist)"
   ]
  },
  {
   "cell_type": "code",
   "execution_count": null,
   "id": "ee501e33-9080-451a-a26a-3f6c87138dc1",
   "metadata": {},
   "outputs": [],
   "source": [
    "#pca_gnps= pca.transform(embeddings_gnps)"
   ]
  },
  {
   "cell_type": "code",
   "execution_count": null,
   "id": "dc60f64c-0571-4d88-a53b-5b18297f8231",
   "metadata": {},
   "outputs": [],
   "source": [
    "from src.plotting import Plotting"
   ]
  },
  {
   "cell_type": "code",
   "execution_count": null,
   "id": "d08a6483-77ea-4e07-a9f2-7e866ae58902",
   "metadata": {},
   "outputs": [],
   "source": [
    "Plotting.plot_n_pca([pca_ref, pca_janssen,], ['nist+gnps','janssen', ], alpha=0.2)"
   ]
  },
  {
   "cell_type": "code",
   "execution_count": null,
   "id": "4d6dc5b8-5506-4c0c-8658-11e7b7b094bc",
   "metadata": {},
   "outputs": [],
   "source": [
    "similarities.shape"
   ]
  },
  {
   "cell_type": "code",
   "execution_count": null,
   "id": "e95c2983-67d6-4490-bdb6-8ee9bee031da",
   "metadata": {},
   "outputs": [],
   "source": [
    "from src.tanimoto import Tanimoto\n",
    "from tqdm import tqdm"
   ]
  },
  {
   "cell_type": "code",
   "execution_count": null,
   "id": "d30c1bcd-52bd-4b5c-a058-ba6ec99258e5",
   "metadata": {},
   "outputs": [],
   "source": [
    "fp_j_all = [Tanimoto.compute_fingerprint(s.params['smiles']) for s in all_spectrums_janssen]\n"
   ]
  },
  {
   "cell_type": "code",
   "execution_count": null,
   "id": "fa90b451-6be6-4135-ae69-95075ccd9d9c",
   "metadata": {},
   "outputs": [],
   "source": [
    "fp_r_all = [Tanimoto.compute_fingerprint(s.params['smiles']) for s in all_spectrums_reference]"
   ]
  },
  {
   "cell_type": "code",
   "execution_count": null,
   "id": "86cb2235-d7e3-49c8-98e1-fb02b03d40b1",
   "metadata": {},
   "outputs": [],
   "source": [
    "N=10000\n",
    "random_j= np.random.randint(0,similarities.shape[0],N)\n",
    "random_r=np.random.randint(0,similarities.shape[1],N)"
   ]
  },
  {
   "cell_type": "code",
   "execution_count": null,
   "id": "0acb4075-b803-4a89-a5dd-68a93790971b",
   "metadata": {},
   "outputs": [],
   "source": [
    "tanimotos=np.zeros((similarities.shape[0], similarities.shape[1]))\n",
    "for index_j in tqdm(random_j):\n",
    "    for index_r in random_r:\n",
    "        tanimotos[index_j, index_r]=Tanimoto.compute_tanimoto(fp_j_all[index_j], fp_r_all[index_r])"
   ]
  },
  {
   "cell_type": "code",
   "execution_count": null,
   "id": "b2562087-bb48-47f2-aafe-08aa497cb665",
   "metadata": {},
   "outputs": [],
   "source": [
    "if USE_MS2DEEPSCORE:\n",
    "    plt.scatter(tanimotos[random_j, random_r].reshape(-1,1), similarities_ms2[random_j, random_r].reshape(-1,1), alpha=0.2)"
   ]
  },
  {
   "cell_type": "code",
   "execution_count": null,
   "id": "96b65630-08de-4be2-96ec-cdf5950b0dde",
   "metadata": {},
   "outputs": [],
   "source": [
    "plt.scatter(tanimotos[random_j, random_r].reshape(-1,1), similarities[random_j, random_r].reshape(-1,1), alpha=0.2)"
   ]
  },
  {
   "cell_type": "code",
   "execution_count": null,
   "id": "ac88827e-7eb3-4ccd-8b1a-8bb15b186840",
   "metadata": {},
   "outputs": [],
   "source": []
  },
  {
   "cell_type": "code",
   "execution_count": null,
   "id": "4dcefd9a-975e-4f2d-a91f-96c6820ab4ad",
   "metadata": {},
   "outputs": [],
   "source": [
    "from scipy.stats import spearmanr\n",
    "x=tanimotos[random_j, random_r].reshape(-1)\n",
    "\n",
    "y=similarities[random_j, random_r].reshape(-1)\n",
    "\n",
    "spearmanr(x,y)"
   ]
  },
  {
   "cell_type": "code",
   "execution_count": null,
   "id": "3c17463e-093b-4808-b501-ee715a66f676",
   "metadata": {
    "scrolled": true
   },
   "outputs": [],
   "source": [
    "_=plt.hist(similarities.reshape(-1)[0:10000000],bins=50)"
   ]
  },
  {
   "cell_type": "markdown",
   "id": "b1d7efd7-7a81-4945-9819-db2b6dfaa1ca",
   "metadata": {},
   "source": [
    "## Compute new similarities based on similarities of ms2deepscore and simba"
   ]
  },
  {
   "cell_type": "code",
   "execution_count": null,
   "id": "ee441324-40c4-426d-a650-ac21f0ca3201",
   "metadata": {},
   "outputs": [],
   "source": [
    "USE_MS2DEEPSCORE"
   ]
  },
  {
   "cell_type": "code",
   "execution_count": null,
   "id": "1eadaf83-0a48-4345-9031-7d5d6cfecc19",
   "metadata": {},
   "outputs": [],
   "source": [
    "similarities_simba=similarities.copy()"
   ]
  },
  {
   "cell_type": "code",
   "execution_count": null,
   "id": "77d2d76a-a4d9-4634-9731-3d1d828390bc",
   "metadata": {},
   "outputs": [],
   "source": [
    "# difference between similarities\n",
    "#diff_sim = np.abs(similarities_simba-similarities_ms2)"
   ]
  },
  {
   "cell_type": "code",
   "execution_count": null,
   "id": "3b478af5-f66d-4b5d-9315-a78e711968ed",
   "metadata": {},
   "outputs": [],
   "source": [
    "#mask_matrix = (similarities_ms2 > 0.5).astype(int)"
   ]
  },
  {
   "cell_type": "code",
   "execution_count": null,
   "id": "3a16a7de-d2c9-4200-9359-b4d538a00d32",
   "metadata": {},
   "outputs": [],
   "source": [
    "#mask_matrix"
   ]
  },
  {
   "cell_type": "code",
   "execution_count": null,
   "id": "dd0a1829-6de1-4010-9df8-eb1672c54cb5",
   "metadata": {},
   "outputs": [],
   "source": [
    "if USE_MS2DEEPSCORE:\n",
    "    #similarities = similarities_simba.copy()\n",
    "    similarities= (similarities_simba + similarities_ms2)/2\n",
    "    similarities= similarities*mask_matrix\n",
    "    #similarities = np.minimum(similarities_simba, similarities_ms2)"
   ]
  },
  {
   "cell_type": "code",
   "execution_count": null,
   "id": "ec653e40-d1e4-4bae-a922-9e895932509b",
   "metadata": {},
   "outputs": [],
   "source": [
    "#similarities_simba[0,0],similarities_ms2[0,0],similarities[0,0]"
   ]
  },
  {
   "cell_type": "markdown",
   "id": "10770b07-9fc0-4743-8a02-ec51acae62f0",
   "metadata": {},
   "source": [
    "## Based on the similarities compute the similarity score of the match spectrum"
   ]
  },
  {
   "cell_type": "code",
   "execution_count": null,
   "id": "3aadcb6b-c2b1-468c-af7f-d5cd6faa4c7c",
   "metadata": {},
   "outputs": [],
   "source": [
    "spectrums_k_retrieved, tanimoto_k_retrieved, sim_k_retrieved, arg_max_k10 =\\\n",
    "                AnalogDiscovery.get_k_candidates(similarities, all_spectrums_reference, \n",
    "                                                 all_spectrums_janssen,k=10, return_arg_max_k10=True)"
   ]
  },
  {
   "cell_type": "code",
   "execution_count": null,
   "id": "7c09e62f-2428-4ce3-abdb-9555d7db5030",
   "metadata": {},
   "outputs": [],
   "source": [
    "if USE_MS2DEEPSCORE:\n",
    "    similarities_simba_k_retrieved=  np.take_along_axis(similarities_simba, arg_max_k10, axis=1)\n",
    "    similarities_ms2_k_retrieved=  np.take_along_axis(similarities_ms2, arg_max_k10, axis=1)\n",
    "    #index=-1\n",
    "    #for sim_total, simba, ms2, tani in zip(sim_k_retrieved[index], similarities_simba_k_retrieved[index], similarities_ms2_k_retrieved[index], tanimoto_k_retrieved[index]):\n",
    "    #    print(f'S:{simba},MS2: {ms2},TOTAL: {sim_total} TANI:{tani}\\n')"
   ]
  },
  {
   "cell_type": "code",
   "execution_count": null,
   "id": "a0fdf9fb-0072-4002-a736-32d4b78fb3fd",
   "metadata": {},
   "outputs": [],
   "source": [
    "## For the k spectrums retrieved, calculate the edit distance"
   ]
  },
  {
   "cell_type": "code",
   "execution_count": null,
   "id": "fd69977d-52f7-477e-94ce-b7175eae0ef7",
   "metadata": {},
   "outputs": [],
   "source": [
    "ad_multitask= ADMultitask(model_path, config=config)"
   ]
  },
  {
   "cell_type": "code",
   "execution_count": null,
   "id": "2237f38f-1a1d-4a12-9820-aa19f21e37cf",
   "metadata": {},
   "outputs": [],
   "source": [
    "edit_distance_k= ad_multitask.get_edit_distance_all(all_spectrums_janssen, spectrums_k_retrieved )"
   ]
  },
  {
   "cell_type": "code",
   "execution_count": null,
   "id": "c47818d3-8d62-4a84-bd7d-cd5fb33361b3",
   "metadata": {},
   "outputs": [],
   "source": [
    "edit_distance_k[24]"
   ]
  },
  {
   "cell_type": "code",
   "execution_count": null,
   "id": "37db4bde-ece8-4070-b537-cc3116bdf49c",
   "metadata": {},
   "outputs": [],
   "source": [
    "# get the confidence of the first prediction\n",
    "confidence_k= [[ed[0] for ed in ed_group]for ed_group in edit_distance_k]"
   ]
  },
  {
   "cell_type": "code",
   "execution_count": null,
   "id": "9417c58f-3710-46a4-ab39-6c719f6bd4d6",
   "metadata": {},
   "outputs": [],
   "source": [
    "# based on the difference between m0 and m1\n",
    "#confidence_k = [[abs(m-s)/max(m,s) for s,m in zip(simba_group, ms2_group)]for simba_group, ms2_group in zip(similarities_simba_k_retrieved, similarities_ms2_k_retrieved)]"
   ]
  },
  {
   "cell_type": "code",
   "execution_count": null,
   "id": "c3cac72b-3728-4000-9f9e-34587c0028db",
   "metadata": {},
   "outputs": [],
   "source": [
    "all_low = np.concatenate(confidence_k)\n",
    "_=plt.hist(all_low, bins=30)"
   ]
  },
  {
   "cell_type": "code",
   "execution_count": null,
   "id": "81bf167d-1d87-4a59-870b-6b79a96a5290",
   "metadata": {},
   "outputs": [],
   "source": [
    "#ms2_deepscore_k= [[ms2_object.get_predictions_ms2deepscore(s,s_query) for s in s_group_k] for s_group_k, s_query in zip(spectrums_k_retrieved, all_spectrums_janssen)]"
   ]
  },
  {
   "cell_type": "code",
   "execution_count": null,
   "id": "b2f64afb-776b-43f2-938a-31d5f9f95367",
   "metadata": {},
   "outputs": [],
   "source": []
  },
  {
   "cell_type": "code",
   "execution_count": null,
   "id": "70b2d014-4184-4cc2-9f8e-36fc43ea3e8d",
   "metadata": {},
   "outputs": [],
   "source": []
  },
  {
   "cell_type": "code",
   "execution_count": null,
   "id": "2211d4fe-827e-4a93-b530-b8a5774361af",
   "metadata": {},
   "outputs": [],
   "source": [
    "## metric based on ms2deepscore\n",
    "#new_metric_not_collapsed= [[ (sim, ms2, tani, spec.params['smiles']) \\\n",
    "#               for sim, ms2, tani, spec in zip(sim_group, ms2_group, tani_group, spec_group )] \\\n",
    "#               for sim_group, ms2_group, tani_group, spec_group  in zip(sim_k_retrieved, ms2_deepscore_k, tanimoto_k_retrieved, spectrums_k_retrieved) \\\n",
    "#                ]"
   ]
  },
  {
   "cell_type": "code",
   "execution_count": null,
   "id": "8b4960a9-421c-45d4-8a5a-7b50d5cad500",
   "metadata": {},
   "outputs": [],
   "source": [
    "#new_metric = [[ float((m[0])/2) for m in m_group] for m_group in new_metric_not_collapsed]\n",
    "#new_metric = [[ float((m[0]+m[1])/2)  for m in m_group] for m_group in new_metric_not_collapsed]\n"
   ]
  },
  {
   "cell_type": "code",
   "execution_count": null,
   "id": "b4f7a1e4-b551-4b8a-a556-bed3ee8db7b8",
   "metadata": {},
   "outputs": [],
   "source": [
    "# create a new metric based on tanimoto and edit distance\n",
    "#categories= np.array([0,1,2,3,4,5])/5\n",
    "#new_metric= [ [ (sim +  (1-edit_distance[0]) + (np.argmax(edit_distance))/5  )/3 \\\n",
    "#new_metric= [[ ( sim )/2 \\\n",
    "#new_metric= [[ ( sim + (np.argmax(edit_distance))/5)/2 \\\n",
    "#new_metric= [[ ( sim + np.sum(categories*edit_distance))/2 \\\n",
    "#               for sim, edit_distance in zip(sim_group, edit_distance_group)] \\\n",
    "#               for sim_group, edit_distance_group in zip(sim_k_retrieved, edit_distance_k) \\\n",
    "#                ]\n",
    "#\n",
    "#new_metric= [ [ (sim + np.sum(categories*edit_distance))/2 for sim, edit_distance in zip(sim_group, edit_distance_group)] \\\n",
    "#                for sim_group, edit_distance_group in zip(sim_k_retrieved, edit_distance_k)]\n",
    "#new_metric"
   ]
  },
  {
   "cell_type": "code",
   "execution_count": null,
   "id": "83048079-ae0e-4f62-b2b0-ef2ba4900d44",
   "metadata": {},
   "outputs": [],
   "source": [
    "good_k_indexes= [[i for i,c in enumerate(c_group) if c<1] for c_group in confidence_k ]\n",
    "#good_k_indexes= [[i for i,c in enumerate(c_group) if c<0.001] for c_group in confidence_k ]\n",
    "#good_k_indexes = [[i for i,c in enumerate(c_group) if c<1] for c_group in confidence_k ]\n",
    "#good_k_indexes= [list(np.flip(np.argsort(m_group))) for m_group in new_metric]\n",
    "\n",
    "\n",
    "# if there are no good indexes no filter\n",
    "#good_k_indexes= [index_group if len(index_group)>0 else list(range(0,10)) for index_group in good_k_indexes]\n"
   ]
  },
  {
   "cell_type": "code",
   "execution_count": null,
   "id": "59d7c9ae-7705-4c42-9c8f-cd6c83400dd0",
   "metadata": {},
   "outputs": [],
   "source": [
    "filt_spectrums_k_retrieved = [[ spectrums_k_retrieved[k][ind]  for ind in index_group]  for k,index_group in enumerate(good_k_indexes)]\n",
    "filt_tanimoto_k_retrieved = [[  tanimoto_k_retrieved[k][ind] for ind in index_group]  for k,index_group in enumerate(good_k_indexes)]\n",
    "filt_sim_k_retrieved = [[ sim_k_retrieved[k][ind] for ind in index_group]  for k,index_group in enumerate(good_k_indexes)]\n",
    "filt_edit_distance_k_retrieved = [[ edit_distance_k[k][ind] for ind in index_group]  for k,index_group in enumerate(good_k_indexes)]"
   ]
  },
  {
   "cell_type": "code",
   "execution_count": null,
   "id": "8c52fdf1-d1cb-4856-b801-f3f757486620",
   "metadata": {},
   "outputs": [],
   "source": [
    "best_indexes = [np.argmax(tani_group[0:10]) if len(tani_group)>=1 else None for tani_group in filt_tanimoto_k_retrieved ]"
   ]
  },
  {
   "cell_type": "code",
   "execution_count": null,
   "id": "dfbd4197-98ac-45db-99e6-54de22ebb221",
   "metadata": {},
   "outputs": [],
   "source": [
    "# get the best tanimotos\n",
    "spectrums_retrieved = [filt_spectrums_k_retrieved[index_spectrum][best_index]  for index_spectrum, best_index in enumerate(best_indexes) if best_index is not None]\n",
    "tanimoto_retrieved = [filt_tanimoto_k_retrieved[index_spectrum][best_index]  for index_spectrum, best_index in enumerate(best_indexes) if best_index is not None]\n",
    "max_sim = [filt_sim_k_retrieved[index_spectrum][best_index]  for index_spectrum, best_index in enumerate(best_indexes) if best_index is not None]\n",
    "edit_distance=[filt_edit_distance_k_retrieved[index_spectrum][best_index]  for index_spectrum, best_index in enumerate(best_indexes) if best_index is not None]"
   ]
  },
  {
   "cell_type": "code",
   "execution_count": null,
   "id": "8f5a1f54-745a-4039-ba77-4ea192ed189b",
   "metadata": {},
   "outputs": [],
   "source": [
    "smiles_retrieved= [s.smiles for s in spectrums_retrieved]"
   ]
  },
  {
   "cell_type": "code",
   "execution_count": null,
   "id": "5a6afeec-b1e1-44ba-a06a-3e2aec612be3",
   "metadata": {},
   "outputs": [],
   "source": [
    "_=plt.hist(max_sim, color='r', bins=10)\n",
    "plt.xlabel('maximum SIMBA predicted similarity found')\n",
    "plt.ylabel('freq')\n",
    "plt.grid()"
   ]
  },
  {
   "cell_type": "code",
   "execution_count": null,
   "id": "80f355d0-9f32-4fb0-8806-e286a8ce6edd",
   "metadata": {},
   "outputs": [],
   "source": [
    "len(tanimoto_retrieved)"
   ]
  },
  {
   "cell_type": "code",
   "execution_count": null,
   "id": "13beae6c-e8d3-40ab-992e-7a2244673afc",
   "metadata": {},
   "outputs": [],
   "source": [
    "plt.hist(tanimoto_retrieved,density=True, bins=10)\n",
    "plt.grid()\n",
    "plt.xlabel('tanimoto similarity with reference spectra')\n",
    "plt.ylabel('frequency')\n",
    "plt.ylim([0,3.5])"
   ]
  },
  {
   "cell_type": "code",
   "execution_count": null,
   "id": "a84cfcad-fbd2-4891-be16-1d6409ffa631",
   "metadata": {},
   "outputs": [],
   "source": [
    "tanimoto_retrieved=np.array(tanimoto_retrieved)\n",
    "tanimoto_retrieved[tanimoto_retrieved<0.80].shape[0]/tanimoto_retrieved.shape[0]"
   ]
  },
  {
   "cell_type": "code",
   "execution_count": null,
   "id": "aeffa96f-a8ac-4e3e-8c39-b1d9a1f1eef5",
   "metadata": {},
   "outputs": [],
   "source": [
    "np.median(tanimoto_retrieved)"
   ]
  },
  {
   "cell_type": "code",
   "execution_count": null,
   "id": "aa2d7f74-5742-4fb2-a0dc-759b081c95d6",
   "metadata": {},
   "outputs": [],
   "source": [
    "plt.boxplot(tanimoto_retrieved)\n",
    "plt.grid()"
   ]
  },
  {
   "cell_type": "markdown",
   "id": "f8aad601-14f9-4efc-adc8-7883c3b492f3",
   "metadata": {},
   "source": [
    "## Check which is the spectra that has wrong predictions"
   ]
  },
  {
   "cell_type": "code",
   "execution_count": null,
   "id": "5b20cd70-782c-4f7c-95bf-19a593a30459",
   "metadata": {},
   "outputs": [],
   "source": [
    "target_index=-4"
   ]
  },
  {
   "cell_type": "code",
   "execution_count": null,
   "id": "2b082673-97b0-453f-a3c8-1dc56ad4a5ba",
   "metadata": {},
   "outputs": [],
   "source": [
    "diff_tanimoto =abs(np.array(tanimoto_retrieved)-np.array(max_sim))\n",
    "bad_predictions=np.argsort(diff_tanimoto)[::-1]\n",
    "#bad_predictions=np.argsort(abs(np.array(max_sim)))"
   ]
  },
  {
   "cell_type": "code",
   "execution_count": null,
   "id": "026b8de4-4e56-4ae3-ae92-c3f98d27b344",
   "metadata": {},
   "outputs": [],
   "source": [
    "precursor_mass_query= [all_spectrums_janssen[bad_predictions[i]].params['pepmass'][0] for i in range(0,len(all_spectrums_janssen))]\n",
    "precursor_mass_retrieved= [spectrums_retrieved[bad_predictions[i]].params['pepmass'][0] for i in range(0,len(all_spectrums_janssen))]"
   ]
  },
  {
   "cell_type": "code",
   "execution_count": null,
   "id": "cd5a0e92-38a3-4216-88fe-6c75882ec19c",
   "metadata": {},
   "outputs": [],
   "source": [
    "diff_tanimoto_ordered= [diff_tanimoto[bad_predictions[i]] for i in range(0,len(all_spectrums_janssen))]"
   ]
  },
  {
   "cell_type": "code",
   "execution_count": null,
   "id": "8fc6ece8-6cc7-4b25-812f-c86a7bd3f329",
   "metadata": {},
   "outputs": [],
   "source": [
    "plt.plot(diff_tanimoto_ordered, marker=\"*\")\n",
    "plt.xlabel('diff tanimoto')\n",
    "plt.grid()"
   ]
  },
  {
   "cell_type": "code",
   "execution_count": null,
   "id": "a1ab5d58-bec5-4655-8515-e1f81f14da1e",
   "metadata": {},
   "outputs": [],
   "source": [
    "plt.plot(precursor_mass_query)\n",
    "plt.xlabel('precursor mz')\n",
    "plt.grid()"
   ]
  },
  {
   "cell_type": "code",
   "execution_count": null,
   "id": "109f63f4-b20d-4190-a701-4e839f9a7ed8",
   "metadata": {},
   "outputs": [],
   "source": [
    "precursor_mass_ref= [s.params['pepmass'][0] for s in all_spectrums_reference]"
   ]
  },
  {
   "cell_type": "code",
   "execution_count": null,
   "id": "60489bdd-7c68-47af-aece-c88cf00ebfa8",
   "metadata": {},
   "outputs": [],
   "source": [
    "plt.hist(precursor_mass_ref, label='reference', bins=50, color='b',alpha=0.5, density=True)\n",
    "plt.hist(precursor_mass_query, label='query', bins=50, color='r',alpha=0.5, density=True)\n",
    "plt.grid()\n",
    "plt.xlabel('precursor_mass')"
   ]
  },
  {
   "cell_type": "code",
   "execution_count": null,
   "id": "7f3e1cbe-5d4d-464e-8036-622c23b067ea",
   "metadata": {},
   "outputs": [],
   "source": [
    "number_peaks_ref= np.array([len(s.mz) for s in all_spectrums_reference_processed])\n",
    "number_peaks_query= np.array([len(s.mz) for s in all_spectrums_janssen_processed])\n",
    "_=plt.hist(number_peaks_ref, bins=10, density=True, alpha=0.5,label='ref')\n",
    "_=plt.hist(number_peaks_query, bins=10, density=True, alpha=0.5, label='janssen')\n",
    "plt.ylabel('density')\n",
    "plt.xlabel('num peaks')\n",
    "plt.xlim([0,300])\n",
    "plt.legend()\n",
    "plt.grid()"
   ]
  },
  {
   "cell_type": "code",
   "execution_count": null,
   "id": "bcd8ba17-180b-4ab7-9e42-997ab2366061",
   "metadata": {},
   "outputs": [],
   "source": [
    "number_peaks_ref[number_peaks_ref<10].shape[0]/number_peaks_ref.shape[0]"
   ]
  },
  {
   "cell_type": "code",
   "execution_count": null,
   "id": "3bda15bf-243a-41cf-a636-a70d5c65ce3b",
   "metadata": {},
   "outputs": [],
   "source": [
    "number_peaks_query[number_peaks_query<10].shape[0]/number_peaks_query.shape[0]"
   ]
  },
  {
   "cell_type": "code",
   "execution_count": null,
   "id": "0b0bf307-da4f-42a7-ba11-311d75aa0865",
   "metadata": {},
   "outputs": [],
   "source": [
    "target_spectra=bad_predictions[target_index]"
   ]
  },
  {
   "cell_type": "code",
   "execution_count": null,
   "id": "688cd15a-62b5-43fd-b4b2-e8daaf132ca4",
   "metadata": {},
   "outputs": [],
   "source": [
    "all_spectrums_janssen[target_spectra].params"
   ]
  },
  {
   "cell_type": "code",
   "execution_count": null,
   "id": "718aed92-989a-486b-bae1-c49ed5e6e782",
   "metadata": {},
   "outputs": [],
   "source": [
    "all_spectrums_janssen[target_spectra].mz"
   ]
  },
  {
   "cell_type": "code",
   "execution_count": null,
   "id": "afe30f05-c080-4f31-a4c0-3a57e550deac",
   "metadata": {},
   "outputs": [],
   "source": [
    "all_spectrums_janssen[target_spectra].intensity/max(all_spectrums_janssen[target_spectra].intensity)"
   ]
  },
  {
   "cell_type": "code",
   "execution_count": null,
   "id": "b1c89795-0554-4eaf-972a-0273525da954",
   "metadata": {},
   "outputs": [],
   "source": [
    "spectrums_retrieved[target_spectra].params"
   ]
  },
  {
   "cell_type": "code",
   "execution_count": null,
   "id": "9f54dc69-895d-4698-bc21-7dfd6f03775c",
   "metadata": {},
   "outputs": [],
   "source": []
  },
  {
   "cell_type": "code",
   "execution_count": null,
   "id": "22855465-0271-43a5-8e38-6b4995fbf416",
   "metadata": {},
   "outputs": [],
   "source": [
    "max(all_spectrums_janssen[0].intensity)"
   ]
  },
  {
   "cell_type": "code",
   "execution_count": null,
   "id": "89874cab-3898-4044-891f-3bcb9a74c58e",
   "metadata": {},
   "outputs": [],
   "source": [
    "max(spectrums_retrieved[6].intensity)"
   ]
  },
  {
   "cell_type": "code",
   "execution_count": null,
   "id": "bfeba8aa-dde3-48ba-9517-984eb5a82cc0",
   "metadata": {},
   "outputs": [],
   "source": [
    "len(spectrums_retrieved[target_spectra].mz)"
   ]
  },
  {
   "cell_type": "code",
   "execution_count": null,
   "id": "6f6c920c-3f63-4d0a-b49c-c16e1d25ff43",
   "metadata": {},
   "outputs": [],
   "source": [
    "len(all_spectrums_janssen[target_spectra].mz)"
   ]
  },
  {
   "cell_type": "code",
   "execution_count": null,
   "id": "2d397c0d-2980-49e1-bef1-e4ba9ca26479",
   "metadata": {},
   "outputs": [],
   "source": [
    "Plotting.plot_mirror_plot( all_spectrums_janssen[target_spectra],spectrums_retrieved[target_spectra])"
   ]
  },
  {
   "cell_type": "code",
   "execution_count": null,
   "id": "cef96bcb-ba85-402f-9797-7ffa0cf23cf3",
   "metadata": {},
   "outputs": [],
   "source": []
  },
  {
   "cell_type": "code",
   "execution_count": null,
   "id": "75d933c9-26eb-49ba-b690-6f49d8c63ce6",
   "metadata": {},
   "outputs": [],
   "source": [
    "## pass through preprocessing:\n",
    "pp=Preprocessor()\n",
    "import copy\n",
    "\n",
    "spectrum_copy= copy.deepcopy(spectrums_retrieved[target_spectra])\n",
    "spectrum_copy=pp.preprocess_spectrum(spectrum_copy)"
   ]
  },
  {
   "cell_type": "code",
   "execution_count": null,
   "id": "4394fe8a-c8ee-41de-aeba-dea06ebebd46",
   "metadata": {},
   "outputs": [],
   "source": [
    "len(spectrums_retrieved[target_spectra].intensity)"
   ]
  },
  {
   "cell_type": "code",
   "execution_count": null,
   "id": "77b18ecc-8bec-4091-82a6-1a74dfdd0fae",
   "metadata": {},
   "outputs": [],
   "source": [
    "len(max_sim)"
   ]
  },
  {
   "cell_type": "code",
   "execution_count": null,
   "id": "13a98ce5-1a45-4a2c-a423-97b807d3e215",
   "metadata": {},
   "outputs": [],
   "source": [
    "max_sim[target_spectra]"
   ]
  },
  {
   "cell_type": "code",
   "execution_count": null,
   "id": "d1ce5570-c5a5-411a-b20e-7f0704358880",
   "metadata": {},
   "outputs": [],
   "source": [
    "tanimoto_retrieved[target_spectra]"
   ]
  },
  {
   "cell_type": "code",
   "execution_count": null,
   "id": "be5b0590-bdc5-40a8-aed8-daaa67e93993",
   "metadata": {},
   "outputs": [],
   "source": [
    "##plot edit distance\n",
    "plt.title('edit distance probability')\n",
    "plt.grid()\n",
    "plt.bar(x=['>5','4','3','2','1','0'], height=edit_distance[target_spectra])"
   ]
  },
  {
   "cell_type": "code",
   "execution_count": null,
   "id": "a04ffb18-9488-4655-a989-766e0fcfbf10",
   "metadata": {},
   "outputs": [],
   "source": [
    "edit_distance[target_spectra]"
   ]
  },
  {
   "cell_type": "code",
   "execution_count": null,
   "id": "99ff8444-6331-4d21-ae93-4f353c6751b4",
   "metadata": {},
   "outputs": [],
   "source": [
    "sim_mces = MCES.calculate_mces_sim(smiles1=all_spectrums_janssen[target_spectra].params['smiles'], \n",
    "                         smiles2=spectrums_retrieved[target_spectra].params['smiles'])\n",
    "sim_mces"
   ]
  },
  {
   "cell_type": "code",
   "execution_count": null,
   "id": "d0a4fd81-70cc-4cc7-ace5-a29a9318e440",
   "metadata": {},
   "outputs": [],
   "source": [
    "Chem.CanonSmiles(all_spectrums_janssen[target_spectra].params['smiles'])"
   ]
  },
  {
   "cell_type": "code",
   "execution_count": null,
   "id": "29e85b2b-5ebc-43cf-a8ba-ffe094f17a6c",
   "metadata": {},
   "outputs": [],
   "source": [
    "from rdkit import Chem\n",
    "mol_janssen = Chem.MolFromSmiles(all_spectrums_janssen[target_spectra].params['smiles'])\n",
    "mol_janssen"
   ]
  },
  {
   "cell_type": "code",
   "execution_count": null,
   "id": "ccc5664b-bb8f-4461-a1e2-391c4395fb53",
   "metadata": {},
   "outputs": [],
   "source": []
  },
  {
   "cell_type": "code",
   "execution_count": null,
   "id": "42fba35b-c830-4df4-87db-1ab791a91b05",
   "metadata": {},
   "outputs": [],
   "source": [
    "Chem.CanonSmiles(spectrums_retrieved[target_spectra].params['smiles'])"
   ]
  },
  {
   "cell_type": "code",
   "execution_count": null,
   "id": "4a836bcf-eb65-425d-81ec-cf98e327672f",
   "metadata": {},
   "outputs": [],
   "source": [
    "mol_ref = Chem.MolFromSmiles(spectrums_retrieved[target_spectra].params['smiles'])\n",
    "mol_ref"
   ]
  },
  {
   "cell_type": "code",
   "execution_count": null,
   "id": "d7d198ce-90ac-4dfd-a534-49bd4cff5292",
   "metadata": {},
   "outputs": [],
   "source": [
    "temp_smiles='C1=CC(=C(C=C1C2=CC(=O)C3=C(O2)C(=C(C=C3O)O)O)O)[O][C@@H]4[C@@H](O)[C@H](O[C@H]5[C@H](O)[C@@H](O)[C@H](O)[C@@H](O)[C@H]5O)[C@@H](O)[C@H](O[C@H]6[C@H](O)[C@@H](O)[C@H](O)[C@@H](O)[C@H]6O)[C@@H](O)[C@H](O[C@H]7[C@H](O)[C@@H](O)[C@H](O)[C@@H](O)[C@H]7O)[C@@H](O)[C@H](O[C@H]8[C@H](O)[C@@H](O)[C@H](O)[C@@H](O)[C@H]8O)O4'\n",
    "Chem.MolFromSmiles(temp_smiles)"
   ]
  },
  {
   "cell_type": "code",
   "execution_count": null,
   "id": "8804147d-af29-40ba-a95b-39334e9a3678",
   "metadata": {},
   "outputs": [],
   "source": [
    "Tanimoto.compute_tanimoto_from_smiles(all_spectrums_janssen[target_spectra].params['smiles'], temp_smiles)"
   ]
  },
  {
   "cell_type": "markdown",
   "id": "631d766b-2700-4d3e-ad58-d5ddaf43f8bd",
   "metadata": {},
   "source": [
    "## Explainability"
   ]
  },
  {
   "cell_type": "code",
   "execution_count": null,
   "id": "646ae6d6-c3e6-42e1-9318-7fe4fc311192",
   "metadata": {},
   "outputs": [],
   "source": [
    "from src.transformers.sklearn_model import SklearnModel\n",
    "sklearn_model = SklearnModel(model_loaded=ad_multitask.multitask_model)"
   ]
  },
  {
   "cell_type": "code",
   "execution_count": null,
   "id": "3a03cf34-f967-45a5-a810-8fb588215f00",
   "metadata": {},
   "outputs": [],
   "source": [
    "#explainer=sklearn_model.get_explainer(dataset['molecule_pairs_test'])"
   ]
  },
  {
   "cell_type": "markdown",
   "id": "94fbd3ca-b7ed-4d38-ae58-a1e417e7c79d",
   "metadata": {},
   "source": [
    "## Output of MS2Deepscore"
   ]
  },
  {
   "cell_type": "code",
   "execution_count": null,
   "id": "2e2d1e5f-29ec-4e54-b44f-49c507ab7452",
   "metadata": {},
   "outputs": [],
   "source": [
    "## BAD PREDICTIONS\n",
    "\n",
    "results_simba_all=[]\n",
    "results_tanimoto_all=[]\n",
    "\n",
    "results_ms2_all=[]\n",
    "for index in range(0,20):\n",
    "    #get the index of the bad spectra\n",
    "    t=bad_predictions[index]\n",
    "\n",
    "    # get the tanimoto ground truth\n",
    "    results_tanimoto_all.append(tanimoto_retrieved[t])\n",
    "\n",
    "    # get the results of simba\n",
    "    results_simba_all.append(max_sim[t])\n",
    "    results_ms2_all.append(ms2_object.get_predictions_ms2deepscore(all_spectrums_janssen[t], spectrums_retrieved[t]))"
   ]
  },
  {
   "cell_type": "code",
   "execution_count": null,
   "id": "ff92e2e2-de13-443f-a5ce-0bcbd22b45f7",
   "metadata": {},
   "outputs": [],
   "source": [
    "results_ms2_all"
   ]
  },
  {
   "cell_type": "code",
   "execution_count": null,
   "id": "712049fa-1649-4b6f-8f06-54002cfc2abb",
   "metadata": {},
   "outputs": [],
   "source": [
    "plt.scatter(results_simba_all, results_ms2_all)\n",
    "plt.ylim([0,1])\n",
    "plt.xlim([0,1])\n",
    "plt.grid()\n",
    "plt.xlabel('SIMBA pred')\n",
    "plt.ylabel('MS2Deepscore pred')"
   ]
  },
  {
   "cell_type": "code",
   "execution_count": null,
   "id": "b64ea990-141c-4983-8d71-9df60cb5db65",
   "metadata": {},
   "outputs": [],
   "source": [
    "plt.scatter(results_tanimoto_all, results_ms2_all, label='ms2deepscore')\n",
    "plt.scatter(results_tanimoto_all, results_simba_all, label='SIMBA')\n",
    "plt.legend()\n",
    "plt.ylim([0,1])\n",
    "plt.xlim([0,1])\n",
    "plt.grid()\n",
    "plt.xlabel('Tanimoto')\n",
    "plt.ylabel('MS2Deepscore pred')"
   ]
  },
  {
   "cell_type": "code",
   "execution_count": null,
   "id": "3e35d0ff-8635-449a-8ef5-3dea803b7fd8",
   "metadata": {},
   "outputs": [],
   "source": []
  },
  {
   "cell_type": "markdown",
   "id": "9c36064c-68e3-4e17-b2f0-cbb25ae827e1",
   "metadata": {},
   "source": [
    "## FIND SIMILARITY BASED ON MCES"
   ]
  },
  {
   "cell_type": "code",
   "execution_count": null,
   "id": "7fd09886-3306-4d50-880f-a4b66843b1ea",
   "metadata": {},
   "outputs": [],
   "source": [
    "smiles_janssen = [Chem.CanonSmiles(s.smiles) for s in all_spectrums_janssen]\n",
    "smiles_reference = [Chem.CanonSmiles(s.smiles) for s in all_spectrums_reference]"
   ]
  },
  {
   "cell_type": "code",
   "execution_count": null,
   "id": "a3fe5493-6322-44ef-8941-9205ed4e4785",
   "metadata": {},
   "outputs": [],
   "source": [
    "len(smiles_retrieved)"
   ]
  },
  {
   "cell_type": "code",
   "execution_count": null,
   "id": "0148a637-0fd2-432d-ab2c-38456f22f5d0",
   "metadata": {},
   "outputs": [],
   "source": [
    "len(smiles_janssen)"
   ]
  },
  {
   "cell_type": "code",
   "execution_count": null,
   "id": "05746be2-d9c8-40a3-b1da-4a9da89d2100",
   "metadata": {},
   "outputs": [],
   "source": [
    "mces_sims=[]\n",
    "for s0,s1 in tqdm(zip(smiles_janssen, smiles_retrieved)):\n",
    "    similarity= MCES.calculate_mces_sim(s0, s1)\n",
    "    mces_sims.append(similarity)"
   ]
  },
  {
   "cell_type": "code",
   "execution_count": null,
   "id": "9323bef9-643a-46e3-9cf1-8020585e8662",
   "metadata": {},
   "outputs": [],
   "source": [
    "# Specify the bin width\n",
    "bin_width = 0.1\n",
    "\n",
    "# Calculate the number of bins based on the data range and bin width\n",
    "bins = np.arange(0, 1 + bin_width, bin_width)"
   ]
  },
  {
   "cell_type": "code",
   "execution_count": null,
   "id": "c8158067-a3fa-4a2e-a3f3-2ef201c88842",
   "metadata": {
    "scrolled": true
   },
   "outputs": [],
   "source": [
    "plt.hist(tanimoto_retrieved,alpha=0.5, label='tanimoto sim.', density=True, bins=bins)\n",
    "plt.hist([m for m in mces_sims if m is not None],alpha=0.5, label='mces sim.', density=True, bins=bins)\n",
    "plt.xlabel('similarity')\n",
    "plt.ylabel('density')\n",
    "plt.legend()\n",
    "plt.grid()"
   ]
  },
  {
   "cell_type": "code",
   "execution_count": null,
   "id": "fcea5ca6-c549-44c4-9085-0e16e9a463e1",
   "metadata": {},
   "outputs": [],
   "source": [
    "plt.boxplot([m for m in mces_sims if m is not None])\n",
    "plt.grid()"
   ]
  },
  {
   "cell_type": "markdown",
   "id": "2a6d4f60-aa26-43fe-91f8-d6d81d8fa489",
   "metadata": {},
   "source": [
    "## Rankings"
   ]
  },
  {
   "cell_type": "code",
   "execution_count": null,
   "id": "5ca0257c-82b0-4c78-a6bf-4ddbc5dc9c2a",
   "metadata": {},
   "outputs": [],
   "source": [
    "format_file_unknown = \"./notebooks/discovery_search/results/{}_results_analog_discovery_unknwon_compounds.pkl\"\n",
    "\n",
    "if USE_CASMI:\n",
    "    file= format_file_unknown.format('tanimoto_similarity_casmi')\n",
    "else:\n",
    "    file= format_file_unknown.format('tanimoto_similarity')\n",
    "with open(file, 'rb') as f:\n",
    "        results_tani = dill.load(f)"
   ]
  },
  {
   "cell_type": "code",
   "execution_count": null,
   "id": "9e6d8239-a678-41d0-af88-263322143749",
   "metadata": {},
   "outputs": [],
   "source": [
    "## load the tanimoto similarity data\n",
    "## get the indexes in the reference data\n",
    "smiles_best_candidate_loaded = [Chem.CanonSmiles(s) for s in results_tani['smiles_retrieved']]\n",
    "smiles_reference_loaded = [Chem.CanonSmiles(s) for s in results_tani['smiles_reference']]\n",
    "smiles_janssen_loaded = [Chem.CanonSmiles(s) for s in results_tani['smiles_janssen']]"
   ]
  },
  {
   "cell_type": "code",
   "execution_count": null,
   "id": "039cff73-1d85-4fe3-8929-d2d5cc6341a7",
   "metadata": {},
   "outputs": [],
   "source": [
    "#list_rankings=[]"
   ]
  },
  {
   "cell_type": "code",
   "execution_count": null,
   "id": "24b633a9-5618-4fda-9514-6ae2024d42e9",
   "metadata": {},
   "outputs": [],
   "source": [
    "#list_rankings=[]\n",
    "list_rankings=AnalogDiscovery.get_rank_of_best_candidate(similarities, smiles_janssen, smiles_janssen_loaded, smiles_reference, smiles_best_candidate_loaded)"
   ]
  },
  {
   "cell_type": "markdown",
   "id": "488ddcbe-b1b1-47f4-aa34-d3e463737524",
   "metadata": {},
   "source": [
    "## saving of results"
   ]
  },
  {
   "cell_type": "code",
   "execution_count": null,
   "id": "bfbede95-583a-42cd-8e15-4c9151551f96",
   "metadata": {},
   "outputs": [],
   "source": [
    "len(max_sim), len(tanimoto_retrieved), len(all_spectrums_janssen), len(smiles_retrieved), len(mces_sims), len(smiles_janssen), len(spectrums_retrieved)"
   ]
  },
  {
   "cell_type": "code",
   "execution_count": null,
   "id": "b29019a7-c7c2-4635-afb4-2658c1356989",
   "metadata": {},
   "outputs": [],
   "source": [
    "results ={ 'preprocessed_all_spectrums_janssen':all_spectrums_janssen,\n",
    "            'smiles_janssen':smiles_janssen,\n",
    "          'smiles_retrieved':smiles_retrieved,\n",
    "          'spectrums_retrieved':spectrums_retrieved,\n",
    "            'tanimoto_retrieved':tanimoto_retrieved,\n",
    "          'max_sim':max_sim,\n",
    "          'mces_retrieved':mces_sims,\n",
    "          'smiles_reference': smiles_reference,\n",
    "          'list_rankings':list_rankings,\n",
    "         'similarities': similarities,\n",
    "          'preprocessed_all_spectrums_reference':all_spectrums_reference,\n",
    "         }"
   ]
  },
  {
   "cell_type": "code",
   "execution_count": null,
   "id": "65b01b87-d0aa-4bd6-91a6-a4088c6e062b",
   "metadata": {},
   "outputs": [],
   "source": [
    "with open('./notebooks/discovery_search/results/'+similarity_name + '_results_analog_discovery_unknwon_compounds.pkl', 'wb') as f:\n",
    "    dill.dump(results, f)"
   ]
  },
  {
   "cell_type": "code",
   "execution_count": null,
   "id": "2b8333a0-cc7c-42d4-bd6f-598257430e60",
   "metadata": {},
   "outputs": [],
   "source": [
    "similarity_name"
   ]
  },
  {
   "cell_type": "code",
   "execution_count": null,
   "id": "6775cb8e-d59a-4193-a05c-942123403214",
   "metadata": {},
   "outputs": [],
   "source": []
  },
  {
   "cell_type": "code",
   "execution_count": null,
   "id": "c4b81eb9-b3fd-4861-a0f9-8c8cb166c91e",
   "metadata": {},
   "outputs": [],
   "source": []
  },
  {
   "cell_type": "code",
   "execution_count": null,
   "id": "c0f61a78-3b3a-42be-9476-8caceaa5ab7f",
   "metadata": {},
   "outputs": [],
   "source": []
  }
 ],
 "metadata": {
  "kernelspec": {
   "display_name": "Python 3 (ipykernel)",
   "language": "python",
   "name": "python3"
  },
  "language_info": {
   "codemirror_mode": {
    "name": "ipython",
    "version": 3
   },
   "file_extension": ".py",
   "mimetype": "text/x-python",
   "name": "python",
   "nbconvert_exporter": "python",
   "pygments_lexer": "ipython3",
   "version": "3.11.7"
  }
 },
 "nbformat": 4,
 "nbformat_minor": 5
}
