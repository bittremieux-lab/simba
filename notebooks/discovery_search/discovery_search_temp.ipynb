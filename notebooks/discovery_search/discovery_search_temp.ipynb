{
 "cells": [
  {
   "cell_type": "code",
   "execution_count": 2,
   "id": "50360883-ed2c-41f8-becc-bec985aa0ce5",
   "metadata": {},
   "outputs": [],
   "source": [
    "%load_ext autoreload\n",
    "%autoreload 2"
   ]
  },
  {
   "cell_type": "code",
   "execution_count": 3,
   "id": "de3f5b42-5255-45de-ae10-86d024fb5632",
   "metadata": {},
   "outputs": [],
   "source": [
    "import os\n",
    "os.chdir('/Users/sebas/projects/metabolomics')\n",
    "os.environ[\"PYTORCH_ENABLE_MPS_FALLBACK\"] = \"1\""
   ]
  },
  {
   "cell_type": "code",
   "execution_count": 15,
   "id": "f3e98ba8-7bd9-4e48-90c9-72a24b94172c",
   "metadata": {},
   "outputs": [],
   "source": [
    "from src.transformers.sklearn_model import SklearnModel\n",
    "import gensim\n",
    "from src.load_data import LoadData\n",
    "from src.config import Config\n",
    "from matchms import calculate_scores\n",
    "from matchms.importing import load_from_mgf,load_from_msp\n",
    "import matchms.filtering as msfilters\n",
    "from tqdm import tqdm\n",
    "from src.loader_saver import LoaderSaver\n",
    "import itertools\n",
    "import numpy as np\n",
    "from matchms.importing import load_from_msp\n",
    "from matchms.similarity import ModifiedCosine\n",
    "from scipy.stats import spearmanr\n",
    "import dill\n",
    "from src.plotting import Plotting\n",
    "from src.load_data import LoadData\n",
    "from src.molecule_pairs_opt import MoleculePairsOpt\n",
    "from sklearn.model_selection import train_test_split\n",
    "from src.train_utils import TrainUtils\n",
    "from src.preprocessor import Preprocessor\n",
    "from matchms.filtering import add_fingerprint\n",
    "import pickle\n",
    "import sys\n",
    "from src.config import Config\n",
    "from src.parser import Parser\n",
    "from datetime import datetime\n",
    "from src.loader_saver import LoaderSaver\n",
    "from src.molecular_pairs_set import MolecularPairsSet\n",
    "from scipy.stats import spearmanr\n",
    "from src.transformers.embedder import Embedder"
   ]
  },
  {
   "cell_type": "markdown",
   "id": "a52a9280-cfe5-41c0-bcea-d7bf7f951bb8",
   "metadata": {},
   "source": [
    "## params"
   ]
  },
  {
   "cell_type": "code",
   "execution_count": 5,
   "id": "510a6872-e306-4977-972d-73023876e21e",
   "metadata": {},
   "outputs": [],
   "source": [
    "data_folder= '/Users/sebas/projects/data/'\n",
    "janssen_path = data_folder + 'drug_plus.mgf'\n",
    "output_janssen_file= data_folder + 'all_spectrums_janssen.pkl'\n",
    "transformer_path = data_folder + 'best_model_20240318_lib_cos_sim.ckpt'\n",
    "dataset_path= data_folder +'merged_gnps_nist_20240311_unique_smiles_1_million.pkl'"
   ]
  },
  {
   "cell_type": "code",
   "execution_count": 6,
   "id": "7d36a491-4178-416c-bb79-408dcbf6ac10",
   "metadata": {},
   "outputs": [],
   "source": [
    "config=Config()"
   ]
  },
  {
   "cell_type": "markdown",
   "id": "fad919ec-2fe6-42fa-9c99-d4669bc95e27",
   "metadata": {},
   "source": [
    "## open janssen data"
   ]
  },
  {
   "cell_type": "code",
   "execution_count": 7,
   "id": "c1b4018a-dde4-4988-bbd7-7431597161d7",
   "metadata": {},
   "outputs": [],
   "source": [
    "loader_saver = LoaderSaver(\n",
    "        block_size=100,\n",
    "        pickle_nist_path='',\n",
    "        pickle_gnps_path='',\n",
    "        pickle_janssen_path=output_janssen_file,\n",
    "    )"
   ]
  },
  {
   "cell_type": "code",
   "execution_count": 8,
   "id": "c523d292-a84c-4fad-8769-d89eccfd2ebf",
   "metadata": {},
   "outputs": [
    {
     "name": "stderr",
     "output_type": "stream",
     "text": [
      "python(79255) MallocStackLogging: can't turn off malloc stack logging because it was not enabled.\n",
      "  0%|                                                                                                                                                                 | 2033/100000000 [00:01<20:38:44, 1345.42it/s]\n"
     ]
    },
    {
     "name": "stdout",
     "output_type": "stream",
     "text": [
      "We reached the end of the array at index 2033\n"
     ]
    }
   ],
   "source": [
    "all_spectrums_janssen = loader_saver.get_all_spectrums(\n",
    "            janssen_path,\n",
    "            100000000,\n",
    "            use_tqdm=True,\n",
    "            use_nist=False,\n",
    "            config=config,\n",
    "            use_janssen=True,\n",
    "        )"
   ]
  },
  {
   "cell_type": "markdown",
   "id": "1fa5a533-cea8-4bcb-9c87-f47ec4ace92d",
   "metadata": {},
   "source": [
    "## open training data"
   ]
  },
  {
   "cell_type": "code",
   "execution_count": 9,
   "id": "4a2be0da-edb6-4cf9-bc0c-2cbc39478593",
   "metadata": {},
   "outputs": [],
   "source": [
    "with open(dataset_path, 'rb') as file:\n",
    "            dataset = dill.load(file)\n",
    "molecule_pairs_train= dataset['molecule_pairs_train']\n",
    "molecule_pairs_val= dataset['molecule_pairs_val']\n",
    "molecule_pairs_test= dataset['molecule_pairs_test']"
   ]
  },
  {
   "cell_type": "code",
   "execution_count": 10,
   "id": "c960cefc-7372-4088-9c1f-77dd59b98bcd",
   "metadata": {},
   "outputs": [
    {
     "data": {
      "text/plain": [
       "<src.molecule_pairs_opt.MoleculePairsOpt at 0x2d3a21ed0>"
      ]
     },
     "execution_count": 10,
     "metadata": {},
     "output_type": "execute_result"
    }
   ],
   "source": [
    "molecule_pairs_train"
   ]
  },
  {
   "cell_type": "markdown",
   "id": "80a07747-977c-48a6-8f97-b83ae109a81d",
   "metadata": {},
   "source": [
    "##  Select one spectra from the Janssen as target"
   ]
  },
  {
   "cell_type": "code",
   "execution_count": 11,
   "id": "3f28b87b-3d98-4952-8a9b-d909e078b738",
   "metadata": {},
   "outputs": [],
   "source": [
    "target_spectra= all_spectrums_janssen[0]"
   ]
  },
  {
   "cell_type": "code",
   "execution_count": 13,
   "id": "14669589-47d3-44ee-919b-8958ed3a3b7a",
   "metadata": {},
   "outputs": [
    {
     "data": {
      "text/plain": [
       "{'pepmass': (380.2683, None),\n",
       " 'rt': '5.51',\n",
       " 'ionmode': 'Positive',\n",
       " 'adduct': 'M+',\n",
       " 'charge': [1],\n",
       " 'id': 'DNYBIOICMDTDAP',\n",
       " 'smiles': 'CC(C)c1cnn2c(cc(NCCCCCCN)nc12)NCc1ccccc1',\n",
       " 'formula': 'C22H32N6',\n",
       " 'filename': '2600129002_190419_MAS011_A1.mzXML',\n",
       " 'drugbank.id': 'Unknown',\n",
       " 'inchikey': 'DNYBIOICMDTDAP-UHFFFAOYSA-N',\n",
       " 'cpd': 'BS-181',\n",
       " 'status': 'experimental',\n",
       " 'cas': 'N/A',\n",
       " 'name': 'BS-181',\n",
       " 'mslevel': '2',\n",
       " 'tic': '71384813.4375',\n",
       " 'pepmass_dev': '0.00101425948357327',\n",
       " 'scan_number': '517',\n",
       " 'param_submit_user': '',\n",
       " 'param_sample_type': '',\n",
       " 'param_comments': '',\n",
       " 'param_algorithm': 'RMassBank',\n",
       " 'param_creation_time': '2021-06-26 21:49:30',\n",
       " 'scans': '3',\n",
       " 'db': 'Inhouse',\n",
       " 'class': 'Pyrazolopyrimidines',\n",
       " 'num_peaks': '52',\n",
       " 'param_consensus': 'consensus',\n",
       " 'superclass': 'Organoheterocyclic compounds',\n",
       " 'subclass': 'Pyrazolo[1,5-a]pyrimidines'}"
      ]
     },
     "execution_count": 13,
     "metadata": {},
     "output_type": "execute_result"
    }
   ],
   "source": [
    "target_spectra.params"
   ]
  },
  {
   "cell_type": "markdown",
   "id": "80b0f26e-34a3-43b1-bad0-4d35eca7c230",
   "metadata": {},
   "source": [
    "## Create pairs with this spectra"
   ]
  },
  {
   "cell_type": "code",
   "execution_count": 75,
   "id": "4b5a5de1-66ea-42d8-8076-0181968feb66",
   "metadata": {},
   "outputs": [
    {
     "ename": "NameError",
     "evalue": "name 'molecule_pairs_val' is not defined",
     "output_type": "error",
     "traceback": [
      "\u001b[0;31m---------------------------------------------------------------------------\u001b[0m",
      "\u001b[0;31mNameError\u001b[0m                                 Traceback (most recent call last)",
      "Cell \u001b[0;32mIn[75], line 1\u001b[0m\n\u001b[0;32m----> 1\u001b[0m spectrums_base\u001b[38;5;241m=\u001b[39m molecule_pairs_train\u001b[38;5;241m.\u001b[39mspectrums_original \u001b[38;5;241m+\u001b[39m molecule_pairs_val\u001b[38;5;241m.\u001b[39mspectrums_original \u001b[38;5;241m+\u001b[39m molecule_pairs_test\u001b[38;5;241m.\u001b[39mspectrums_original\n",
      "\u001b[0;31mNameError\u001b[0m: name 'molecule_pairs_val' is not defined"
     ]
    }
   ],
   "source": [
    "spectrums_base= molecule_pairs_train.spectrums_original + molecule_pairs_val.spectrums_original + molecule_pairs_test.spectrums_original"
   ]
  },
  {
   "cell_type": "code",
   "execution_count": 14,
   "id": "173c6fc3-35c1-448d-9032-0e5d0e1a7ad7",
   "metadata": {},
   "outputs": [],
   "source": [
    "total_spectra= [all_spectrums_janssen[0]] +spectrums_base"
   ]
  },
  {
   "cell_type": "code",
   "execution_count": 29,
   "id": "42ef9604-ec4f-4326-8660-17bdb2cd4ae9",
   "metadata": {},
   "outputs": [],
   "source": [
    "import pandas as pd\n",
    "df_smiles = pd.DataFrame()\n",
    "df_smiles['indexes']= [[ind] for ind in np.arange(0,len(spectrums_base)+1)]"
   ]
  },
  {
   "cell_type": "code",
   "execution_count": 30,
   "id": "b17f018d-8ab7-4e0d-8b57-741960afd678",
   "metadata": {},
   "outputs": [],
   "source": [
    "indexes_tani=np.zeros((len(spectrums_base),3))"
   ]
  },
  {
   "cell_type": "code",
   "execution_count": 31,
   "id": "30f0cc5a-b7ac-4034-bc42-3cf7624128f8",
   "metadata": {},
   "outputs": [],
   "source": [
    "indexes_tani[:,1] =  np.arange(0,len(spectrums_base))"
   ]
  },
  {
   "cell_type": "code",
   "execution_count": 32,
   "id": "03d33634-323f-4370-aea0-b4d4f8aacf1b",
   "metadata": {},
   "outputs": [],
   "source": [
    "discovery_pairs = MoleculePairsOpt(\n",
    "                        spectrums_unique = total_spectra,\n",
    "                        spectrums_original = total_spectra,\n",
    "                        indexes_tani_unique=indexes_tani,\n",
    "                        df_smiles=df_smiles,\n",
    ")"
   ]
  },
  {
   "cell_type": "code",
   "execution_count": 34,
   "id": "a295be5e-7a59-4a1f-8c29-321f4a8bb012",
   "metadata": {},
   "outputs": [
    {
     "name": "stderr",
     "output_type": "stream",
     "text": [
      "GPU available: True (mps), used: True\n",
      "TPU available: False, using: 0 TPU cores\n",
      "IPU available: False, using: 0 IPUs\n",
      "HPU available: False, using: 0 HPUs\n"
     ]
    },
    {
     "name": "stdout",
     "output_type": "stream",
     "text": [
      "Using cosine library from Pytorch?: True\n"
     ]
    }
   ],
   "source": [
    "model =SklearnModel(model_path=transformer_path, d_model=config.D_MODEL, n_layers=config.N_LAYERS)"
   ]
  },
  {
   "cell_type": "code",
   "execution_count": 35,
   "id": "49f4379f-32d0-49d2-9b58-50037f9d8e8d",
   "metadata": {},
   "outputs": [
    {
     "name": "stdout",
     "output_type": "stream",
     "text": [
      "Preprocessing all the data ...\n"
     ]
    },
    {
     "name": "stderr",
     "output_type": "stream",
     "text": [
      "261350it [00:05, 50877.76it/s]\n"
     ]
    },
    {
     "name": "stdout",
     "output_type": "stream",
     "text": [
      "Finished preprocessing \n",
      "loading data\n",
      "Normalizing intensities\n",
      "Creating dictionaries\n"
     ]
    },
    {
     "name": "stderr",
     "output_type": "stream",
     "text": [
      "100%|███████████████████████████████████████████████████████████████████████████████████████████████████████████████████████████████████████████████████████████████████| 261349/261349 [00:02<00:00, 102966.28it/s]\n"
     ]
    },
    {
     "name": "stdout",
     "output_type": "stream",
     "text": [
      "Preprocessing all the data ...\n"
     ]
    },
    {
     "name": "stderr",
     "output_type": "stream",
     "text": [
      "261350it [00:03, 72410.69it/s]\n"
     ]
    },
    {
     "name": "stdout",
     "output_type": "stream",
     "text": [
      "Finished preprocessing \n",
      "loading data\n",
      "Normalizing intensities\n",
      "Creating dictionaries\n"
     ]
    },
    {
     "name": "stderr",
     "output_type": "stream",
     "text": [
      "/Users/sebas/miniconda3/envs/transformers/lib/python3.11/site-packages/lightning/pytorch/trainer/connectors/data_connector.py:441: The 'predict_dataloader' does not have many workers which may be a bottleneck. Consider increasing the value of the `num_workers` argument` to `num_workers=10` in the `DataLoader` to improve performance.\n"
     ]
    },
    {
     "data": {
      "application/vnd.jupyter.widget-view+json": {
       "model_id": "fb7e258329d140e680f1c0b4d46b8761",
       "version_major": 2,
       "version_minor": 0
      },
      "text/plain": [
       "Predicting: |                                                                                                 …"
      ]
     },
     "metadata": {},
     "output_type": "display_data"
    },
    {
     "name": "stderr",
     "output_type": "stream",
     "text": [
      "To copy construct from a tensor, it is recommended to use sourceTensor.clone().detach() or sourceTensor.clone().detach().requires_grad_(True), rather than torch.tensor(sourceTensor).\n",
      "To copy construct from a tensor, it is recommended to use sourceTensor.clone().detach() or sourceTensor.clone().detach().requires_grad_(True), rather than torch.tensor(sourceTensor).\n",
      "The operator 'aten::_nested_tensor_from_mask_left_aligned' is not currently supported on the MPS backend and will fall back to run on the CPU. This may have performance implications. (Triggered internally at /Users/runner/work/pytorch/pytorch/pytorch/aten/src/ATen/mps/MPSFallback.mm:13.)\n"
     ]
    }
   ],
   "source": [
    "scores_trans=model.predict_from_molecule_pair(discovery_pairs)"
   ]
  },
  {
   "cell_type": "code",
   "execution_count": 36,
   "id": "7c384782-7263-4a1c-9e69-8fd40aa20d63",
   "metadata": {},
   "outputs": [
    {
     "data": {
      "text/plain": [
       "array([0.99999982, 0.3843779 , 0.26581323, ..., 0.24664937, 0.24323639,\n",
       "       0.29153156])"
      ]
     },
     "execution_count": 36,
     "metadata": {},
     "output_type": "execute_result"
    }
   ],
   "source": [
    "scores_trans"
   ]
  },
  {
   "cell_type": "markdown",
   "id": "a7437615-6968-43e4-bf42-fced77db4736",
   "metadata": {},
   "source": [
    "## Assign predictions"
   ]
  },
  {
   "cell_type": "code",
   "execution_count": 38,
   "id": "b56c7763-979f-4ac1-9df1-b1f464bc19a4",
   "metadata": {},
   "outputs": [],
   "source": [
    "discovery_pairs.pred = scores_trans"
   ]
  },
  {
   "cell_type": "markdown",
   "id": "6f270a5b-047a-440b-b1ec-089bd07a9a68",
   "metadata": {},
   "source": [
    "## Which are the spectra that are closer to this compound?"
   ]
  },
  {
   "cell_type": "code",
   "execution_count": 40,
   "id": "9ac78a19-852a-43d6-ace9-e2c6f6bf09ef",
   "metadata": {},
   "outputs": [
    {
     "data": {
      "text/plain": [
       "(array([4.1097e+04, 8.8217e+04, 8.3873e+04, 3.3161e+04, 9.3920e+03,\n",
       "        3.5670e+03, 1.5060e+03, 3.9600e+02, 1.3200e+02, 8.0000e+00]),\n",
       " array([0.01155352, 0.11039815, 0.20924278, 0.30808741, 0.40693204,\n",
       "        0.50577667, 0.6046213 , 0.70346593, 0.80231056, 0.90115519,\n",
       "        0.99999982]),\n",
       " <BarContainer object of 10 artists>)"
      ]
     },
     "execution_count": 40,
     "metadata": {},
     "output_type": "execute_result"
    },
    {
     "data": {
      "image/png": "[encoded data removed]",
      "text/plain": [
       "<Figure size 640x480 with 1 Axes>"
      ]
     },
     "metadata": {},
     "output_type": "display_data"
    }
   ],
   "source": [
    "import matplotlib.pyplot as plt\n",
    "plt.hist(scores_trans)"
   ]
  },
  {
   "cell_type": "code",
   "execution_count": 66,
   "id": "de807e13-6f6e-4d0b-a1b6-26049a04e854",
   "metadata": {},
   "outputs": [],
   "source": [
    "possible_spectra= [m for m,s in zip(discovery_pairs, scores_trans) if s>0.90]"
   ]
  },
  {
   "cell_type": "code",
   "execution_count": 67,
   "id": "21a3024b-66e4-4fed-bffb-262c3e2d70a1",
   "metadata": {},
   "outputs": [
    {
     "data": {
      "text/plain": [
       "8"
      ]
     },
     "execution_count": 67,
     "metadata": {},
     "output_type": "execute_result"
    }
   ],
   "source": [
    "len(possible_spectra)"
   ]
  },
  {
   "cell_type": "code",
   "execution_count": 68,
   "id": "0add5e2f-0e2a-49ea-9329-993916a2a0b0",
   "metadata": {},
   "outputs": [],
   "source": [
    "target_smiles= 'CC(C)c1cnn2c(cc(NCCCCCCN)nc12)NCc1ccccc1'"
   ]
  },
  {
   "cell_type": "code",
   "execution_count": 69,
   "id": "bdf19efe-40fd-4cbf-b353-bc32a53f3416",
   "metadata": {},
   "outputs": [
    {
     "data": {
      "text/plain": [
       "{'libraryquality': 1,\n",
       " 'charge': [1],\n",
       " 'pepmass': [381.2761],\n",
       " 'ionmode': 'Positive',\n",
       " 'name': ' 6-Aminohexyl-[7-(benzylamino)-3-isopropylpyrazolo[1,5-a]pyrimidin-5-yl]amine\\n M+H',\n",
       " 'inchi': 'N/A',\n",
       " 'smiles': 'CC(C)C1=C2N=C(C=C(N2N=C1)NCC3=CC=CC=C3)NCCCCCCN',\n",
       " 'organism': 'nist',\n",
       " 'spectrumid': 'abcd'}"
      ]
     },
     "execution_count": 69,
     "metadata": {},
     "output_type": "execute_result"
    }
   ],
   "source": [
    "possible_spectra[1].params_1"
   ]
  },
  {
   "cell_type": "code",
   "execution_count": 70,
   "id": "c213260c-177b-4f2e-accb-4d2485fd6909",
   "metadata": {},
   "outputs": [
    {
     "data": {
      "text/plain": [
       "['CC(C)c1cnn2c(cc(NCCCCCCN)nc12)NCc1ccccc1',\n",
       " 'CC(C)C1=C2N=C(C=C(N2N=C1)NCC3=CC=CC=C3)NCCCCCCN',\n",
       " 'CC(C)C1=C2N=C(C=C(N2N=C1)NCC3=CC=CC=C3)NCCCCCCN',\n",
       " 'CC(C)C1=C2N=C(C=C(N2N=C1)NCC3=CC=CC=C3)NCCCCCCN',\n",
       " 'CC(C)C1=C2N=C(C=C(N2N=C1)NCC3=CC=CC=C3)NCCCCCCN',\n",
       " 'CC(C)C1=C2N=C(C=C(N2N=C1)NCC3=CC=CC=C3)NCCCCCCN',\n",
       " 'CC(C)C1=C2N=C(C=C(N2N=C1)NCC3=CC=CC=C3)NCCCCCCN',\n",
       " 'CC(C)C1=C2N=C(C=C(N2N=C1)NCC3=CC=CC=C3)NCCCCCCN']"
      ]
     },
     "execution_count": 70,
     "metadata": {},
     "output_type": "execute_result"
    }
   ],
   "source": [
    "[s.smiles_1 for s in possible_spectra]"
   ]
  },
  {
   "cell_type": "markdown",
   "id": "f0f91e9e-22f2-460e-9a0a-397c334a2efb",
   "metadata": {},
   "source": [
    "## Check results"
   ]
  },
  {
   "cell_type": "code",
   "execution_count": 71,
   "id": "f897f16f-42c2-46d2-86f3-00681a07b098",
   "metadata": {},
   "outputs": [],
   "source": [
    "from src.tanimoto import Tanimoto\n"
   ]
  },
  {
   "cell_type": "code",
   "execution_count": 1,
   "id": "880df9d5-f6df-4157-93dc-a9e7a9f1c0a8",
   "metadata": {},
   "outputs": [
    {
     "ename": "NameError",
     "evalue": "name 'Tanimoto' is not defined",
     "output_type": "error",
     "traceback": [
      "\u001b[0;31m---------------------------------------------------------------------------\u001b[0m",
      "\u001b[0;31mNameError\u001b[0m                                 Traceback (most recent call last)",
      "Cell \u001b[0;32mIn[1], line 1\u001b[0m\n\u001b[0;32m----> 1\u001b[0m Tanimoto\u001b[38;5;241m.\u001b[39mcompute_tanimoto_from_smiles(\u001b[38;5;124m'\u001b[39m\u001b[38;5;124mCC(C)c1cnn2c(cc(NCCCCCCN)nc12)NCc1ccccc1\u001b[39m\u001b[38;5;124m'\u001b[39m,\u001b[38;5;124m'\u001b[39m\u001b[38;5;124mCC(C)C1=C2N=C(C=C(N2N=C1)NCC3=CC=CC=C3)NCCCCCCN\u001b[39m\u001b[38;5;124m'\u001b[39m)\n",
      "\u001b[0;31mNameError\u001b[0m: name 'Tanimoto' is not defined"
     ]
    }
   ],
   "source": [
    "Tanimoto.compute_tanimoto_from_smiles('CC(C)c1cnn2c(cc(NCCCCCCN)nc12)NCc1ccccc1','CC(C)C1=C2N=C(C=C(N2N=C1)NCC3=CC=CC=C3)NCCCCCCN')"
   ]
  },
  {
   "cell_type": "code",
   "execution_count": null,
   "id": "771cc734-7935-43d0-8805-044c72d29302",
   "metadata": {},
   "outputs": [],
   "source": []
  }
 ],
 "metadata": {
  "kernelspec": {
   "display_name": "Python 3 (ipykernel)",
   "language": "python",
   "name": "python3"
  },
  "language_info": {
   "codemirror_mode": {
    "name": "ipython",
    "version": 3
   },
   "file_extension": ".py",
   "mimetype": "text/x-python",
   "name": "python",
   "nbconvert_exporter": "python",
   "pygments_lexer": "ipython3",
   "version": "3.11.7"
  }
 },
 "nbformat": 4,
 "nbformat_minor": 5
}
