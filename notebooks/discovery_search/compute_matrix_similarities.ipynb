{
 "cells": [
  {
   "cell_type": "code",
   "execution_count": 50,
   "id": "50360883-ed2c-41f8-becc-bec985aa0ce5",
   "metadata": {},
   "outputs": [
    {
     "name": "stdout",
     "output_type": "stream",
     "text": [
      "The autoreload extension is already loaded. To reload it, use:\n",
      "  %reload_ext autoreload\n"
     ]
    }
   ],
   "source": [
    "%load_ext autoreload\n",
    "%autoreload 2"
   ]
  },
  {
   "cell_type": "code",
   "execution_count": 51,
   "id": "de3f5b42-5255-45de-ae10-86d024fb5632",
   "metadata": {},
   "outputs": [],
   "source": [
    "import os\n",
    "os.chdir('/Users/sebas/projects/metabolomics')\n",
    "os.environ[\"PYTORCH_ENABLE_MPS_FALLBACK\"] = \"1\""
   ]
  },
  {
   "cell_type": "code",
   "execution_count": 52,
   "id": "f3e98ba8-7bd9-4e48-90c9-72a24b94172c",
   "metadata": {},
   "outputs": [],
   "source": [
    "from src.transformers.sklearn_model import SklearnModel\n",
    "import gensim\n",
    "from src.load_data import LoadData\n",
    "from src.config import Config\n",
    "from tqdm import tqdm\n",
    "from src.loader_saver import LoaderSaver\n",
    "import itertools\n",
    "import numpy as np\n",
    "from scipy.stats import spearmanr\n",
    "import dill\n",
    "from src.plotting import Plotting\n",
    "from src.load_data import LoadData\n",
    "from src.molecule_pairs_opt import MoleculePairsOpt\n",
    "from sklearn.model_selection import train_test_split\n",
    "from src.train_utils import TrainUtils\n",
    "from src.preprocessor import Preprocessor\n",
    "import pickle\n",
    "import sys\n",
    "from src.config import Config\n",
    "from src.parser import Parser\n",
    "from datetime import datetime\n",
    "from src.loader_saver import LoaderSaver\n",
    "from src.molecular_pairs_set import MolecularPairsSet\n",
    "from scipy.stats import spearmanr\n",
    "from src.transformers.embedder import Embedder\n",
    "from src.transformers.encoder import Encoder\n",
    "import matplotlib.pyplot as plt\n",
    "from src.transformers.CustomDatasetEncoder import CustomDatasetEncoder\n",
    "from src.transformers.load_data_encoder import LoadDataEncoder\n",
    "from src.transformers.load_data_unique import LoadDataUnique\n",
    "from torch.utils.data import DataLoader\n",
    "from src.analog_discovery.cosine_similarity import CosineSimilarity\n",
    "from rdkit import Chem\n",
    "from src.analog_discovery.analog_discovery import AnalogDiscovery\n",
    "from src.analog_discovery.mces import MCES"
   ]
  },
  {
   "cell_type": "markdown",
   "id": "a52a9280-cfe5-41c0-bcea-d7bf7f951bb8",
   "metadata": {},
   "source": [
    "## params"
   ]
  },
  {
   "cell_type": "code",
   "execution_count": 53,
   "id": "30d5c9e2-6ddb-4f33-804f-827f5de50598",
   "metadata": {},
   "outputs": [
    {
     "name": "stdout",
     "output_type": "stream",
     "text": [
      "ALL_GNPS_NO_PROPOGATED_wb.mgf\n",
      "GNPS-NIH-NATURALPRODUCTSLIBRARY.mgf\n",
      "all_spectrums_gnps.pkl\n",
      "all_spectrums_gnps_nist_20240130_gnps_nist_janssen.pkl\n",
      "all_spectrums_janssen.pkl\n",
      "all_spectrums_nist.pkl\n",
      "best_model.ckpt\n",
      "best_model_100_millions_more_epochs.ckpt\n",
      "best_model_100_millions_more_epochs_day3.ckpt\n",
      "best_model_1024n_10layers.ckpt\n",
      "best_model_128n_10_layers_20240209.ckpt\n",
      "best_model_128n_5_layers_20240219_elementwise.ckpt\n",
      "best_model_128n_5_layers_20240229.ckpt\n",
      "best_model_128n_5_layers_20240303.ckpt\n",
      "best_model_150_millions.ckpt\n",
      "best_model_20240301.ckpt\n",
      "best_model_20240318_lib_cos_sim.ckpt\n",
      "best_model_20240319_v2_512u_5_layers.ckpt\n",
      "best_model_20240409_10_million_not_bining_sim_1.ckpt\n",
      "best_model_20240409_1_million_not_bining_sim_1.ckpt\n",
      "best_model_20240411_no_identity.ckpt\n",
      "best_model_20240411_no_sim1.ckpt\n",
      "best_model_20240507_100_millions_no_identity.ckpt\n",
      "best_model_exhaustive_128n_20240522.ckpt\n",
      "best_model_exhaustive_sampled_128n_20240523.ckpt\n",
      "best_model_exhaustive_sampled_128n_20240523_with_pretrained.ckpt\n",
      "best_model_new_preprocessing_20240516.ckpt\n",
      "best_model_pretrain_low_range.ckpt\n",
      "best_model_rebalance_100_millions.ckpt\n",
      "drug_plus.mgf\n",
      "drug_plus.pkl\n",
      "\u001b[31mhr_msms_nist_all.MSP\u001b[m\u001b[m*\n",
      "hr_msms_nist_sample.MSP\n",
      "indexes_tani_train_exhaustive.npy\n",
      "merged_gnps_nist_20240118_gnps_nist_janssen.pkl\n",
      "merged_gnps_nist_20240207_gnps_nist_janssen_15_millions.pkl\n",
      "merged_gnps_nist_20240227_gnps_nist_janssen_20_millions_OUTSIDE_MAX_DIFF_NO_JANSSEN.pkl\n",
      "merged_gnps_nist_20240311_unique_smiles_1_million.pkl\n",
      "merged_gnps_nist_20240319_unique_smiles_100_million_v2_no_identity.pkl\n",
      "merged_gnps_nist_20240319_unique_smiles_1_million_v2.pkl\n",
      "merged_gnps_nist_20240319_unique_smiles_1_million_v2_no_identity.pkl\n",
      "ms2deepscore_positive_10k_1000_1000_1000_500.hdf5\n",
      "\u001b[34mprocessed_massformer\u001b[m\u001b[m/\n",
      "spec2vec_AllPositive_ratio05_filtered_201101_iter_15.model\n",
      "spec2vec_AllPositive_ratio05_filtered_201101_iter_15.model.trainables.syn1neg.npy\n",
      "spec2vec_AllPositive_ratio05_filtered_201101_iter_15.model.wv.vectors.npy\n",
      "to_export_gnps_nist.pkl\n",
      "uniformed_molecule_pairs_test.pkl\n"
     ]
    }
   ],
   "source": [
    "ls /Users/sebas/projects/data/"
   ]
  },
  {
   "cell_type": "code",
   "execution_count": 54,
   "id": "510a6872-e306-4977-972d-73023876e21e",
   "metadata": {},
   "outputs": [],
   "source": [
    "data_folder= '/Users/sebas/projects/data/'\n",
    "janssen_path = data_folder + 'drug_plus.mgf'\n",
    "output_janssen_file= data_folder + 'all_spectrums_janssen.pkl'\n",
    "dataset_path= data_folder +'merged_gnps_nist_20240311_unique_smiles_1_million.pkl'\n",
    "#model_path = data_folder + 'best_model_20240319_v2_512u_5_layers.ckpt'\n",
    "#model_path = data_folder + 'best_model_20240409_10_million_not_bining_sim_1.ckpt'\n",
    "#model_path = data_folder + 'best_model_20240411_no_sim1.ckpt'\n",
    "#model_path = data_folder + 'best_model_20240507_100_millions_no_identity.ckpt'\n",
    "#model_path= data_folder + 'best_model_new_preprocessing_20240516.ckpt'\n",
    "#model_path = data_folder + 'best_model_150_millions.ckpt'\n",
    "#model_path = data_folder + 'best_model_150_millions.ckpt'\n",
    "#model_path = data_folder + 'best_model_exhaustive_128n_20240522.ckpt'\n",
    "#model_path = data_folder + 'best_model_20240411_no_identity.ckpt'\n",
    "model_path= data_folder + 'best_model_100_millions_more_epochs_day3.ckpt'\n",
    "casmi_file= '/Users/sebas/projects/data/processed_massformer/spec_df.pkl' "
   ]
  },
  {
   "cell_type": "code",
   "execution_count": 55,
   "id": "7d36a491-4178-416c-bb79-408dcbf6ac10",
   "metadata": {},
   "outputs": [],
   "source": [
    "config=Config()"
   ]
  },
  {
   "cell_type": "code",
   "execution_count": 56,
   "id": "f0123044-37f8-4d2b-965a-4c13aaee7995",
   "metadata": {},
   "outputs": [],
   "source": [
    "config.D_MODEL=512\n",
    "config.N_LAYERS=5\n"
   ]
  },
  {
   "cell_type": "code",
   "execution_count": 57,
   "id": "8efbcdb9-e1a1-4dcc-9776-ffebde03dd97",
   "metadata": {},
   "outputs": [],
   "source": [
    "USE_CASMI=False"
   ]
  },
  {
   "cell_type": "markdown",
   "id": "fad919ec-2fe6-42fa-9c99-d4669bc95e27",
   "metadata": {},
   "source": [
    "## open janssen data"
   ]
  },
  {
   "cell_type": "code",
   "execution_count": 58,
   "id": "c1b4018a-dde4-4988-bbd7-7431597161d7",
   "metadata": {},
   "outputs": [
    {
     "name": "stderr",
     "output_type": "stream",
     "text": [
      "  0%|                                                                                                                                                                  | 2033/100000000 [00:00<8:48:21, 3154.40it/s]\n"
     ]
    },
    {
     "name": "stdout",
     "output_type": "stream",
     "text": [
      "We reached the end of the array at index 2033\n"
     ]
    }
   ],
   "source": [
    "if USE_CASMI:\n",
    "    all_spectrums_janssen=LoadData.get_all_spectrums_casmi(\n",
    "        casmi_file,\n",
    "        config=config,\n",
    "    )\n",
    "else:\n",
    "    loader_saver = LoaderSaver(\n",
    "            block_size=100,\n",
    "            pickle_nist_path='',\n",
    "            pickle_gnps_path='',\n",
    "            pickle_janssen_path=output_janssen_file,\n",
    "        )\n",
    "    all_spectrums_janssen = loader_saver.get_all_spectrums(\n",
    "                janssen_path,\n",
    "                100000000,\n",
    "                use_tqdm=True,\n",
    "                use_nist=False,\n",
    "                config=config,\n",
    "                use_janssen=True,\n",
    "            )"
   ]
  },
  {
   "cell_type": "code",
   "execution_count": 59,
   "id": "c523d292-a84c-4fad-8769-d89eccfd2ebf",
   "metadata": {},
   "outputs": [
    {
     "data": {
      "text/plain": [
       "2033"
      ]
     },
     "execution_count": 59,
     "metadata": {},
     "output_type": "execute_result"
    }
   ],
   "source": [
    "len(all_spectrums_janssen)"
   ]
  },
  {
   "cell_type": "markdown",
   "id": "1fa5a533-cea8-4bcb-9c87-f47ec4ace92d",
   "metadata": {},
   "source": [
    "## open ref data"
   ]
  },
  {
   "cell_type": "code",
   "execution_count": 60,
   "id": "4a2be0da-edb6-4cf9-bc0c-2cbc39478593",
   "metadata": {},
   "outputs": [],
   "source": [
    "with open(dataset_path, 'rb') as file:\n",
    "            dataset = dill.load(file)"
   ]
  },
  {
   "cell_type": "code",
   "execution_count": 61,
   "id": "f9c7ecae-4a47-4e3f-9a7d-a7e11d299390",
   "metadata": {},
   "outputs": [],
   "source": [
    "target_mol=dataset['molecule_pairs_train']"
   ]
  },
  {
   "cell_type": "code",
   "execution_count": 62,
   "id": "c960cefc-7372-4088-9c1f-77dd59b98bcd",
   "metadata": {},
   "outputs": [],
   "source": [
    "#all_spectrums_reference= dataset['molecule_pairs_train'].spectrums"
   ]
  },
  {
   "cell_type": "code",
   "execution_count": 63,
   "id": "43c1f96c-e006-4295-b540-dd2e3c565afe",
   "metadata": {},
   "outputs": [],
   "source": [
    "all_spectrums_reference=[]\n",
    "for index,row in target_mol.df_smiles.iterrows():\n",
    "    all_spectrums_reference.append(target_mol.spectrums_original[row['indexes'][0]])"
   ]
  },
  {
   "cell_type": "markdown",
   "id": "89c2d2b2-aeae-4826-8286-26322fb47610",
   "metadata": {},
   "source": [
    "## Find those instances that are not in reference"
   ]
  },
  {
   "cell_type": "code",
   "execution_count": 64,
   "id": "7de8a005-af76-4c82-bf45-38c6fe3843b5",
   "metadata": {},
   "outputs": [],
   "source": [
    "canon_smiles_reference = [Chem.CanonSmiles(s.smiles) for s in all_spectrums_reference]\n",
    "canon_smiles_janssen =   [Chem.CanonSmiles(s.smiles) for s in all_spectrums_janssen]\n",
    "janssen_indexes_in_ref= [i for i,s in enumerate(canon_smiles_janssen) if s in canon_smiles_reference]\n",
    "janssen_indexes_not_in_ref = [i for i,s in enumerate(canon_smiles_janssen) if s not in canon_smiles_reference]"
   ]
  },
  {
   "cell_type": "code",
   "execution_count": 65,
   "id": "53bd924c-a799-4957-a5fd-89468054eb13",
   "metadata": {},
   "outputs": [
    {
     "data": {
      "text/plain": [
       "(1293, 740)"
      ]
     },
     "execution_count": 65,
     "metadata": {},
     "output_type": "execute_result"
    }
   ],
   "source": [
    "len(janssen_indexes_in_ref),len(janssen_indexes_not_in_ref)"
   ]
  },
  {
   "cell_type": "code",
   "execution_count": 66,
   "id": "d70eb35c-1693-4335-99f2-7440caaa4f2b",
   "metadata": {},
   "outputs": [],
   "source": [
    "all_spectrums_janssen = [all_spectrums_janssen[index] for index in janssen_indexes_not_in_ref]"
   ]
  },
  {
   "cell_type": "markdown",
   "id": "12a19c90-4a0f-4c3c-b7ab-ebff663145b6",
   "metadata": {},
   "source": [
    "## load encoder"
   ]
  },
  {
   "cell_type": "code",
   "execution_count": 67,
   "id": "771cc734-7935-43d0-8805-044c72d29302",
   "metadata": {},
   "outputs": [
    {
     "name": "stdout",
     "output_type": "stream",
     "text": [
      "Using cosine library from Pytorch?: True\n"
     ]
    }
   ],
   "source": [
    "encoder= Encoder(model_path, D_MODEL=int(config.D_MODEL),N_LAYERS=int(config.N_LAYERS))"
   ]
  },
  {
   "cell_type": "markdown",
   "id": "28aa5d01-0659-4e1d-a6c1-5b8b1fe58e8e",
   "metadata": {},
   "source": [
    "## data loader"
   ]
  },
  {
   "cell_type": "code",
   "execution_count": 68,
   "id": "e83d0a22-8097-4e91-b5f4-d6cf1011fe66",
   "metadata": {},
   "outputs": [
    {
     "name": "stdout",
     "output_type": "stream",
     "text": [
      "Preprocessing all the data ...\n"
     ]
    },
    {
     "name": "stderr",
     "output_type": "stream",
     "text": [
      "740it [00:00, 38177.41it/s]"
     ]
    },
    {
     "name": "stdout",
     "output_type": "stream",
     "text": [
      "Finished preprocessing \n",
      "loading data\n",
      "Normalizing intensities\n"
     ]
    },
    {
     "name": "stderr",
     "output_type": "stream",
     "text": [
      "\n"
     ]
    }
   ],
   "source": [
    "dataset_janssen= LoadDataEncoder.from_spectrums_to_dataset(all_spectrums_janssen)\n",
    "dataloader_janssen= DataLoader(dataset_janssen, batch_size=config.BATCH_SIZE,  num_workers=0)\n"
   ]
  },
  {
   "cell_type": "code",
   "execution_count": 69,
   "id": "73147f6d-ff47-49e4-bd73-847a74a71b70",
   "metadata": {},
   "outputs": [
    {
     "name": "stdout",
     "output_type": "stream",
     "text": [
      "Preprocessing all the data ...\n"
     ]
    },
    {
     "name": "stderr",
     "output_type": "stream",
     "text": [
      "29540it [00:00, 35059.19it/s]"
     ]
    },
    {
     "name": "stdout",
     "output_type": "stream",
     "text": [
      "Finished preprocessing \n",
      "loading data\n",
      "Normalizing intensities\n"
     ]
    },
    {
     "name": "stderr",
     "output_type": "stream",
     "text": [
      "\n"
     ]
    }
   ],
   "source": [
    "dataset_reference= LoadDataEncoder.from_spectrums_to_dataset(all_spectrums_reference)\n",
    "dataloader_reference= DataLoader(dataset_reference, batch_size=config.BATCH_SIZE,  num_workers=0)"
   ]
  },
  {
   "cell_type": "code",
   "execution_count": 70,
   "id": "414e921d-b4b8-4731-83c9-3047f36b9150",
   "metadata": {},
   "outputs": [],
   "source": [
    "#dataset_nist= LoadDataEncoder.from_spectrums_to_dataset(all_spectrums_nist)\n",
    "#dataloader_nist= DataLoader(dataset_nist, batch_size=config.BATCH_SIZE,  num_workers=0)"
   ]
  },
  {
   "cell_type": "code",
   "execution_count": 71,
   "id": "e3956c32-5721-4952-8d46-12e2b0f9925e",
   "metadata": {},
   "outputs": [],
   "source": [
    "#dataset_gnps= LoadDataEncoder.from_spectrums_to_dataset(all_spectrums_gnps)\n",
    "#dataloader_gnps= DataLoader(dataset_gnps, batch_size=config.BATCH_SIZE,  num_workers=0)"
   ]
  },
  {
   "cell_type": "code",
   "execution_count": 72,
   "id": "d1f99cc0-1f07-4039-8101-c96f00931a0d",
   "metadata": {},
   "outputs": [
    {
     "name": "stdout",
     "output_type": "stream",
     "text": [
      "tensor([[0.1334, 0.0856, 0.1183,  ..., 0.0000, 0.0000, 0.0000],\n",
      "        [0.2637, 0.3296, 0.3412,  ..., 0.0000, 0.0000, 0.0000],\n",
      "        [0.2570, 0.2443, 0.4291,  ..., 0.0000, 0.0000, 0.0000],\n",
      "        ...,\n",
      "        [0.1002, 0.4355, 0.1016,  ..., 0.0000, 0.0000, 0.0000],\n",
      "        [0.1011, 0.0961, 0.0866,  ..., 0.0000, 0.0000, 0.0000],\n",
      "        [0.1566, 0.9824, 0.1021,  ..., 0.0000, 0.0000, 0.0000]])\n"
     ]
    },
    {
     "data": {
      "image/png": "[encoded data removed]",
      "text/plain": [
       "<Figure size 640x480 with 1 Axes>"
      ]
     },
     "metadata": {},
     "output_type": "display_data"
    }
   ],
   "source": [
    "for batch in dataloader_reference:\n",
    "    print(batch['intensity'])\n",
    "    plt.plot(batch['intensity'][11])\n",
    "    break"
   ]
  },
  {
   "cell_type": "markdown",
   "id": "114a2ea0-375a-4fe4-9683-73934e7b2f73",
   "metadata": {},
   "source": [
    "## forward"
   ]
  },
  {
   "cell_type": "code",
   "execution_count": 73,
   "id": "c6b2ab3b-9fc8-4dd1-86db-001d69c75e3a",
   "metadata": {},
   "outputs": [
    {
     "name": "stderr",
     "output_type": "stream",
     "text": [
      "GPU available: True (mps), used: True\n",
      "TPU available: False, using: 0 TPU cores\n",
      "IPU available: False, using: 0 IPUs\n",
      "HPU available: False, using: 0 HPUs\n",
      "/Users/sebas/miniconda3/envs/transformers/lib/python3.11/site-packages/lightning/pytorch/trainer/connectors/data_connector.py:441: The 'predict_dataloader' does not have many workers which may be a bottleneck. Consider increasing the value of the `num_workers` argument` to `num_workers=10` in the `DataLoader` to improve performance.\n"
     ]
    },
    {
     "data": {
      "application/vnd.jupyter.widget-view+json": {
       "model_id": "661307f576e84d728ea94422f84a220e",
       "version_major": 2,
       "version_minor": 0
      },
      "text/plain": [
       "Predicting: |                                                                                                 …"
      ]
     },
     "metadata": {},
     "output_type": "display_data"
    },
    {
     "name": "stderr",
     "output_type": "stream",
     "text": [
      "To copy construct from a tensor, it is recommended to use sourceTensor.clone().detach() or sourceTensor.clone().detach().requires_grad_(True), rather than torch.tensor(sourceTensor).\n",
      "To copy construct from a tensor, it is recommended to use sourceTensor.clone().detach() or sourceTensor.clone().detach().requires_grad_(True), rather than torch.tensor(sourceTensor).\n"
     ]
    }
   ],
   "source": [
    "embeddings_reference = encoder.get_embeddings(dataloader_reference)"
   ]
  },
  {
   "cell_type": "code",
   "execution_count": null,
   "id": "90d028e7-49ff-40d7-8f4b-8ae8d6f11bcd",
   "metadata": {},
   "outputs": [],
   "source": []
  },
  {
   "cell_type": "code",
   "execution_count": 74,
   "id": "3122a201-32a7-4d60-8a69-33362d920326",
   "metadata": {},
   "outputs": [],
   "source": [
    "#embeddings_nist = encoder.get_embeddings(dataloader_nist)"
   ]
  },
  {
   "cell_type": "code",
   "execution_count": 75,
   "id": "cfe50c7e-daab-4bed-b1ef-484763eddeae",
   "metadata": {},
   "outputs": [],
   "source": [
    "#embeddings_gnps = encoder.get_embeddings(dataloader_gnps)"
   ]
  },
  {
   "cell_type": "markdown",
   "id": "b4c13f39-662b-4314-b593-3f5adcddd328",
   "metadata": {},
   "source": [
    "## compute similarities"
   ]
  },
  {
   "cell_type": "code",
   "execution_count": 76,
   "id": "80d6dbfc-3091-4fcc-bb6e-41defe466ef4",
   "metadata": {},
   "outputs": [],
   "source": [
    "similarities= CosineSimilarity.batch_cosine_similarity_combinations(embeddings_reference, embeddings_reference)"
   ]
  },
  {
   "cell_type": "code",
   "execution_count": null,
   "id": "cb4def47-b153-4f86-8ced-12ed2a34605a",
   "metadata": {},
   "outputs": [],
   "source": []
  },
  {
   "cell_type": "code",
   "execution_count": 77,
   "id": "a2cec02f-a8e2-4184-8c66-7248a50610bf",
   "metadata": {},
   "outputs": [
    {
     "data": {
      "text/plain": [
       "(29540, 29540)"
      ]
     },
     "execution_count": 77,
     "metadata": {},
     "output_type": "execute_result"
    }
   ],
   "source": [
    "similarities.shape"
   ]
  },
  {
   "cell_type": "code",
   "execution_count": 78,
   "id": "c6f80c99-2aee-49d7-a1df-b991a1d3c9ac",
   "metadata": {},
   "outputs": [],
   "source": [
    "np.save('./matrix_similarities.npy', similarities)"
   ]
  },
  {
   "cell_type": "code",
   "execution_count": null,
   "id": "fda3d463-8065-446f-b3b2-59ec44e3733d",
   "metadata": {},
   "outputs": [],
   "source": []
  }
 ],
 "metadata": {
  "kernelspec": {
   "display_name": "Python 3 (ipykernel)",
   "language": "python",
   "name": "python3"
  },
  "language_info": {
   "codemirror_mode": {
    "name": "ipython",
    "version": 3
   },
   "file_extension": ".py",
   "mimetype": "text/x-python",
   "name": "python",
   "nbconvert_exporter": "python",
   "pygments_lexer": "ipython3",
   "version": "3.11.7"
  }
 },
 "nbformat": 4,
 "nbformat_minor": 5
}
