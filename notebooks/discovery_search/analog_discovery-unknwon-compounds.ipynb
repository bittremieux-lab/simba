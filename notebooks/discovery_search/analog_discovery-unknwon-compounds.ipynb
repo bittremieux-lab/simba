{
 "cells": [
  {
   "cell_type": "code",
   "execution_count": 5,
   "id": "50360883-ed2c-41f8-becc-bec985aa0ce5",
   "metadata": {},
   "outputs": [
    {
     "name": "stdout",
     "output_type": "stream",
     "text": [
      "The autoreload extension is already loaded. To reload it, use:\n",
      "  %reload_ext autoreload\n"
     ]
    }
   ],
   "source": [
    "%load_ext autoreload\n",
    "%autoreload 2"
   ]
  },
  {
   "cell_type": "code",
   "execution_count": 6,
   "id": "de3f5b42-5255-45de-ae10-86d024fb5632",
   "metadata": {},
   "outputs": [],
   "source": [
    "import os\n",
    "os.chdir('/Users/sebas/projects/metabolomics')\n",
    "os.environ[\"PYTORCH_ENABLE_MPS_FALLBACK\"] = \"1\""
   ]
  },
  {
   "cell_type": "code",
   "execution_count": 7,
   "id": "f3e98ba8-7bd9-4e48-90c9-72a24b94172c",
   "metadata": {},
   "outputs": [],
   "source": [
    "from src.transformers.sklearn_model import SklearnModel\n",
    "import gensim\n",
    "from src.load_data import LoadData\n",
    "from src.config import Config\n",
    "from tqdm import tqdm\n",
    "from src.loader_saver import LoaderSaver\n",
    "import itertools\n",
    "import numpy as np\n",
    "from scipy.stats import spearmanr\n",
    "import dill\n",
    "from src.plotting import Plotting\n",
    "from src.load_data import LoadData\n",
    "from src.molecule_pairs_opt import MoleculePairsOpt\n",
    "from sklearn.model_selection import train_test_split\n",
    "from src.train_utils import TrainUtils\n",
    "from src.preprocessor import Preprocessor\n",
    "import pickle\n",
    "import sys\n",
    "from src.config import Config\n",
    "from src.parser import Parser\n",
    "from datetime import datetime\n",
    "from src.loader_saver import LoaderSaver\n",
    "from src.molecular_pairs_set import MolecularPairsSet\n",
    "from scipy.stats import spearmanr\n",
    "from src.transformers.embedder import Embedder\n",
    "from src.transformers.encoder import Encoder\n",
    "import matplotlib.pyplot as plt\n",
    "from src.transformers.CustomDatasetEncoder import CustomDatasetEncoder\n",
    "from src.transformers.load_data_encoder import LoadDataEncoder\n",
    "from torch.utils.data import DataLoader\n",
    "from src.analog_discovery.cosine_similarity import CosineSimilarity\n",
    "from rdkit import Chem"
   ]
  },
  {
   "cell_type": "markdown",
   "id": "a52a9280-cfe5-41c0-bcea-d7bf7f951bb8",
   "metadata": {},
   "source": [
    "## params"
   ]
  },
  {
   "cell_type": "code",
   "execution_count": 8,
   "id": "510a6872-e306-4977-972d-73023876e21e",
   "metadata": {},
   "outputs": [],
   "source": [
    "data_folder= '/Users/sebas/projects/data/'\n",
    "janssen_path = data_folder + 'drug_plus.mgf'\n",
    "output_janssen_file= data_folder + 'all_spectrums_janssen.pkl'\n",
    "dataset_path= data_folder +'merged_gnps_nist_20240311_unique_smiles_1_million.pkl'\n",
    "model_path = data_folder + 'best_model_20240319_v2_512u_5_layers.ckpt'"
   ]
  },
  {
   "cell_type": "code",
   "execution_count": 9,
   "id": "7d36a491-4178-416c-bb79-408dcbf6ac10",
   "metadata": {},
   "outputs": [],
   "source": [
    "config=Config()"
   ]
  },
  {
   "cell_type": "code",
   "execution_count": 10,
   "id": "f0123044-37f8-4d2b-965a-4c13aaee7995",
   "metadata": {},
   "outputs": [],
   "source": [
    "config.D_MODEL=512\n",
    "config.N_LAYERS=5"
   ]
  },
  {
   "cell_type": "markdown",
   "id": "fad919ec-2fe6-42fa-9c99-d4669bc95e27",
   "metadata": {},
   "source": [
    "## open janssen data"
   ]
  },
  {
   "cell_type": "code",
   "execution_count": 11,
   "id": "c1b4018a-dde4-4988-bbd7-7431597161d7",
   "metadata": {},
   "outputs": [],
   "source": [
    "loader_saver = LoaderSaver(\n",
    "        block_size=100,\n",
    "        pickle_nist_path='',\n",
    "        pickle_gnps_path='',\n",
    "        pickle_janssen_path=output_janssen_file,\n",
    "    )"
   ]
  },
  {
   "cell_type": "code",
   "execution_count": 12,
   "id": "c523d292-a84c-4fad-8769-d89eccfd2ebf",
   "metadata": {},
   "outputs": [
    {
     "name": "stderr",
     "output_type": "stream",
     "text": [
      "  0%|                                                                                                                                                                 | 2033/100000000 [00:01<18:40:24, 1487.53it/s]\n"
     ]
    },
    {
     "name": "stdout",
     "output_type": "stream",
     "text": [
      "We reached the end of the array at index 2033\n"
     ]
    }
   ],
   "source": [
    "all_spectrums_janssen = loader_saver.get_all_spectrums(\n",
    "            janssen_path,\n",
    "            100000000,\n",
    "            use_tqdm=True,\n",
    "            use_nist=False,\n",
    "            config=config,\n",
    "            use_janssen=True,\n",
    "        )"
   ]
  },
  {
   "cell_type": "markdown",
   "id": "1fa5a533-cea8-4bcb-9c87-f47ec4ace92d",
   "metadata": {},
   "source": [
    "## open ref data"
   ]
  },
  {
   "cell_type": "code",
   "execution_count": 13,
   "id": "4a2be0da-edb6-4cf9-bc0c-2cbc39478593",
   "metadata": {},
   "outputs": [],
   "source": [
    "with open(dataset_path, 'rb') as file:\n",
    "            dataset = dill.load(file)"
   ]
  },
  {
   "cell_type": "code",
   "execution_count": 14,
   "id": "c960cefc-7372-4088-9c1f-77dd59b98bcd",
   "metadata": {},
   "outputs": [],
   "source": [
    "all_spectrums_reference= dataset['molecule_pairs_train'].spectrums_original +\\\n",
    "                    dataset['molecule_pairs_val'].spectrums_original + \\\n",
    "                        dataset['molecule_pairs_test'].spectrums_original\n"
   ]
  },
  {
   "cell_type": "code",
   "execution_count": 15,
   "id": "628c59ac-bdb3-400e-9caa-a230ad65cca4",
   "metadata": {},
   "outputs": [
    {
     "data": {
      "text/plain": [
       "{'pepmass': (545.0, None),\n",
       " 'charge': [0],\n",
       " 'mslevel': '2',\n",
       " 'source_instrument': 'LC-ESI-Ion Trap',\n",
       " 'filename': '20111105_Jenia_Ger_Scytonemin_MH_545_qb.1.1..mgf',\n",
       " 'seq': '*..*',\n",
       " 'ionmode': 'Positive',\n",
       " 'organism': 'GNPS-LIBRARY',\n",
       " 'name': 'Scytonemin M+H',\n",
       " 'pi': 'Gerwick',\n",
       " 'datacollector': 'Amanda',\n",
       " 'smiles': 'OC1=CC=C(\\\\C=C2\\\\C(=O)C(C3=C4C5=C(C=CC=C5)N=C4\\\\C(=C/C4=CC=C(O)C=C4)C3=O)=C3C4=C(C=CC=C4)N=C23)C=C1',\n",
       " 'inchi': 'InChI=1S/C36H20N2O4/c39-21-13-9-19(10-14-21)17-25-33-29(23-5-1-3-7-27(23)37-33)31(35(25)41)32-30-24-6-2-4-8-28(24)38-34(30)26(36(32)42)18-20-11-15-22(40)16-12-20/h1-18,39-40H/b25-17+,26-18+',\n",
       " 'inchiaux': 'CGZKSPLDUIRCIO-RPCRKUJJSA-N',\n",
       " 'pubmed': 'N/A',\n",
       " 'submituser': 'mwang87',\n",
       " 'libraryquality': '1',\n",
       " 'spectrumid': 'CCMSLIB00000001550',\n",
       " 'scans': '1'}"
      ]
     },
     "execution_count": 15,
     "metadata": {},
     "output_type": "execute_result"
    }
   ],
   "source": [
    "all_spectrums_reference[0].params"
   ]
  },
  {
   "cell_type": "code",
   "execution_count": 16,
   "id": "2c5d163e-6af8-4b01-aa45-508318ac6903",
   "metadata": {},
   "outputs": [],
   "source": [
    "all_spectrums_gnps = [s for s in all_spectrums_reference if s.params['spectrumid'].startswith('CCMS')]"
   ]
  },
  {
   "cell_type": "code",
   "execution_count": 17,
   "id": "9b9caadc-0af8-4efc-a5c3-24e4543f8445",
   "metadata": {},
   "outputs": [],
   "source": [
    "all_spectrums_nist=[s for s in all_spectrums_reference if not(s.params['spectrumid'].startswith('CCMS'))]"
   ]
  },
  {
   "cell_type": "markdown",
   "id": "89c2d2b2-aeae-4826-8286-26322fb47610",
   "metadata": {},
   "source": [
    "## Find those instances that are not in reference"
   ]
  },
  {
   "cell_type": "code",
   "execution_count": 18,
   "id": "7de8a005-af76-4c82-bf45-38c6fe3843b5",
   "metadata": {},
   "outputs": [],
   "source": [
    "canon_smiles_reference = [Chem.CanonSmiles(s.smiles) for s in all_spectrums_reference]\n",
    "canon_smiles_janssen =   [Chem.CanonSmiles(s.smiles) for s in all_spectrums_janssen]\n",
    "janssen_indexes_in_ref= [i for i,s in enumerate(canon_smiles_janssen) if s in canon_smiles_reference]\n",
    "janssen_indexes_not_in_ref = [i for i,s in enumerate(canon_smiles_janssen) if s not in canon_smiles_reference]"
   ]
  },
  {
   "cell_type": "code",
   "execution_count": 19,
   "id": "53bd924c-a799-4957-a5fd-89468054eb13",
   "metadata": {},
   "outputs": [
    {
     "data": {
      "text/plain": [
       "(1622, 411)"
      ]
     },
     "execution_count": 19,
     "metadata": {},
     "output_type": "execute_result"
    }
   ],
   "source": [
    "len(janssen_indexes_in_ref),len(janssen_indexes_not_in_ref)"
   ]
  },
  {
   "cell_type": "code",
   "execution_count": 20,
   "id": "d70eb35c-1693-4335-99f2-7440caaa4f2b",
   "metadata": {},
   "outputs": [],
   "source": [
    "all_spectrums_janssen = [all_spectrums_janssen[index] for index in janssen_indexes_not_in_ref]"
   ]
  },
  {
   "cell_type": "markdown",
   "id": "12a19c90-4a0f-4c3c-b7ab-ebff663145b6",
   "metadata": {},
   "source": [
    "## load encoder"
   ]
  },
  {
   "cell_type": "code",
   "execution_count": 21,
   "id": "771cc734-7935-43d0-8805-044c72d29302",
   "metadata": {},
   "outputs": [
    {
     "name": "stdout",
     "output_type": "stream",
     "text": [
      "Using cosine library from Pytorch?: True\n"
     ]
    }
   ],
   "source": [
    "encoder= Encoder(model_path, D_MODEL=int(config.D_MODEL),N_LAYERS=int(config.N_LAYERS))"
   ]
  },
  {
   "cell_type": "markdown",
   "id": "28aa5d01-0659-4e1d-a6c1-5b8b1fe58e8e",
   "metadata": {},
   "source": [
    "## data loader"
   ]
  },
  {
   "cell_type": "code",
   "execution_count": 22,
   "id": "e83d0a22-8097-4e91-b5f4-d6cf1011fe66",
   "metadata": {},
   "outputs": [
    {
     "name": "stdout",
     "output_type": "stream",
     "text": [
      "Preprocessing all the data ...\n"
     ]
    },
    {
     "name": "stderr",
     "output_type": "stream",
     "text": [
      "411it [00:01, 367.97it/s]"
     ]
    },
    {
     "name": "stdout",
     "output_type": "stream",
     "text": [
      "Finished preprocessing \n",
      "loading data\n",
      "Normalizing intensities\n"
     ]
    },
    {
     "name": "stderr",
     "output_type": "stream",
     "text": [
      "\n"
     ]
    }
   ],
   "source": [
    "dataset_janssen= LoadDataEncoder.from_spectrums_to_dataset(all_spectrums_janssen)\n",
    "dataloader_janssen= DataLoader(dataset_janssen, batch_size=config.BATCH_SIZE,  num_workers=0)\n"
   ]
  },
  {
   "cell_type": "code",
   "execution_count": 23,
   "id": "73147f6d-ff47-49e4-bd73-847a74a71b70",
   "metadata": {},
   "outputs": [
    {
     "name": "stdout",
     "output_type": "stream",
     "text": [
      "Preprocessing all the data ...\n"
     ]
    },
    {
     "name": "stderr",
     "output_type": "stream",
     "text": [
      "326386it [00:04, 76896.60it/s]\n"
     ]
    },
    {
     "name": "stdout",
     "output_type": "stream",
     "text": [
      "Finished preprocessing \n",
      "loading data\n",
      "Normalizing intensities\n"
     ]
    }
   ],
   "source": [
    "dataset_reference= LoadDataEncoder.from_spectrums_to_dataset(all_spectrums_reference)\n",
    "dataloader_reference= DataLoader(dataset_reference, batch_size=config.BATCH_SIZE,  num_workers=0)"
   ]
  },
  {
   "cell_type": "code",
   "execution_count": 24,
   "id": "414e921d-b4b8-4731-83c9-3047f36b9150",
   "metadata": {},
   "outputs": [
    {
     "name": "stdout",
     "output_type": "stream",
     "text": [
      "Preprocessing all the data ...\n"
     ]
    },
    {
     "name": "stderr",
     "output_type": "stream",
     "text": [
      "263745it [00:02, 88520.98it/s]\n"
     ]
    },
    {
     "name": "stdout",
     "output_type": "stream",
     "text": [
      "Finished preprocessing \n",
      "loading data\n",
      "Normalizing intensities\n"
     ]
    }
   ],
   "source": [
    "dataset_nist= LoadDataEncoder.from_spectrums_to_dataset(all_spectrums_nist)\n",
    "dataloader_nist= DataLoader(dataset_nist, batch_size=config.BATCH_SIZE,  num_workers=0)"
   ]
  },
  {
   "cell_type": "code",
   "execution_count": 25,
   "id": "e3956c32-5721-4952-8d46-12e2b0f9925e",
   "metadata": {},
   "outputs": [
    {
     "name": "stdout",
     "output_type": "stream",
     "text": [
      "Preprocessing all the data ...\n"
     ]
    },
    {
     "name": "stderr",
     "output_type": "stream",
     "text": [
      "62641it [00:01, 49574.43it/s]\n"
     ]
    },
    {
     "name": "stdout",
     "output_type": "stream",
     "text": [
      "Finished preprocessing \n",
      "loading data\n",
      "Normalizing intensities\n"
     ]
    }
   ],
   "source": [
    "dataset_gnps= LoadDataEncoder.from_spectrums_to_dataset(all_spectrums_gnps)\n",
    "dataloader_gnps= DataLoader(dataset_gnps, batch_size=config.BATCH_SIZE,  num_workers=0)"
   ]
  },
  {
   "cell_type": "markdown",
   "id": "114a2ea0-375a-4fe4-9683-73934e7b2f73",
   "metadata": {},
   "source": [
    "## forward"
   ]
  },
  {
   "cell_type": "code",
   "execution_count": 26,
   "id": "c60ae01a-6d47-4856-8785-66333c3afb8c",
   "metadata": {},
   "outputs": [
    {
     "name": "stderr",
     "output_type": "stream",
     "text": [
      "GPU available: True (mps), used: True\n",
      "TPU available: False, using: 0 TPU cores\n",
      "IPU available: False, using: 0 IPUs\n",
      "HPU available: False, using: 0 HPUs\n",
      "/Users/sebas/miniconda3/envs/transformers/lib/python3.11/site-packages/lightning/pytorch/trainer/connectors/data_connector.py:441: The 'predict_dataloader' does not have many workers which may be a bottleneck. Consider increasing the value of the `num_workers` argument` to `num_workers=10` in the `DataLoader` to improve performance.\n"
     ]
    },
    {
     "data": {
      "application/vnd.jupyter.widget-view+json": {
       "model_id": "a0c69fd9becc47978f0e03cfb8a727d2",
       "version_major": 2,
       "version_minor": 0
      },
      "text/plain": [
       "Predicting: |                                                                                                 …"
      ]
     },
     "metadata": {},
     "output_type": "display_data"
    },
    {
     "name": "stderr",
     "output_type": "stream",
     "text": [
      "To copy construct from a tensor, it is recommended to use sourceTensor.clone().detach() or sourceTensor.clone().detach().requires_grad_(True), rather than torch.tensor(sourceTensor).\n",
      "To copy construct from a tensor, it is recommended to use sourceTensor.clone().detach() or sourceTensor.clone().detach().requires_grad_(True), rather than torch.tensor(sourceTensor).\n",
      "The operator 'aten::_nested_tensor_from_mask_left_aligned' is not currently supported on the MPS backend and will fall back to run on the CPU. This may have performance implications. (Triggered internally at /Users/runner/work/pytorch/pytorch/pytorch/aten/src/ATen/mps/MPSFallback.mm:13.)\n"
     ]
    }
   ],
   "source": [
    "embeddings_janssen= encoder.get_embeddings(dataloader_janssen)"
   ]
  },
  {
   "cell_type": "code",
   "execution_count": 27,
   "id": "c6b2ab3b-9fc8-4dd1-86db-001d69c75e3a",
   "metadata": {},
   "outputs": [
    {
     "name": "stderr",
     "output_type": "stream",
     "text": [
      "GPU available: True (mps), used: True\n",
      "TPU available: False, using: 0 TPU cores\n",
      "IPU available: False, using: 0 IPUs\n",
      "HPU available: False, using: 0 HPUs\n"
     ]
    },
    {
     "data": {
      "application/vnd.jupyter.widget-view+json": {
       "model_id": "25f3f05a8db149f89aeb855c4c95c9a0",
       "version_major": 2,
       "version_minor": 0
      },
      "text/plain": [
       "Predicting: |                                                                                                 …"
      ]
     },
     "metadata": {},
     "output_type": "display_data"
    }
   ],
   "source": [
    "embeddings_reference = encoder.get_embeddings(dataloader_reference)"
   ]
  },
  {
   "cell_type": "code",
   "execution_count": 28,
   "id": "3122a201-32a7-4d60-8a69-33362d920326",
   "metadata": {},
   "outputs": [],
   "source": [
    "#embeddings_nist = encoder.get_embeddings(dataloader_nist)"
   ]
  },
  {
   "cell_type": "code",
   "execution_count": 29,
   "id": "cfe50c7e-daab-4bed-b1ef-484763eddeae",
   "metadata": {},
   "outputs": [],
   "source": [
    "#embeddings_gnps = encoder.get_embeddings(dataloader_gnps)"
   ]
  },
  {
   "cell_type": "markdown",
   "id": "b4c13f39-662b-4314-b593-3f5adcddd328",
   "metadata": {},
   "source": [
    "## compute similarities"
   ]
  },
  {
   "cell_type": "code",
   "execution_count": 93,
   "id": "2df1c6ac-e275-4517-ab01-512df61b6d8e",
   "metadata": {},
   "outputs": [],
   "source": [
    "similarities= CosineSimilarity.batch_cosine_similarity_combinations(embeddings_janssen, embeddings_reference)"
   ]
  },
  {
   "cell_type": "code",
   "execution_count": 94,
   "id": "a2cec02f-a8e2-4184-8c66-7248a50610bf",
   "metadata": {},
   "outputs": [
    {
     "data": {
      "text/plain": [
       "(411, 326386)"
      ]
     },
     "execution_count": 94,
     "metadata": {},
     "output_type": "execute_result"
    }
   ],
   "source": [
    "similarities.shape"
   ]
  },
  {
   "cell_type": "code",
   "execution_count": null,
   "id": "d122a763-2247-428b-871e-c52bb91604e4",
   "metadata": {},
   "outputs": [],
   "source": []
  },
  {
   "cell_type": "markdown",
   "id": "839da092-eb75-4f90-aa7d-736c3bef01c8",
   "metadata": {},
   "source": [
    "## heat map"
   ]
  },
  {
   "cell_type": "code",
   "execution_count": 95,
   "id": "4391d916-fa45-4823-8918-4ca79facb41c",
   "metadata": {},
   "outputs": [
    {
     "data": {
      "image/png": "[encoded data removed]",
      "text/plain": [
       "<Figure size 1000x10000 with 1 Axes>"
      ]
     },
     "metadata": {},
     "output_type": "display_data"
    }
   ],
   "source": [
    "plt.figure(figsize=(10,100))\n",
    "plt.imshow(similarities[:, 0:10000], cmap='hot', interpolation='nearest')\n",
    "#plt.colorbar()  # Add colorbar to show scale\n",
    "plt.title('Heatmap of Matrix')\n",
    "plt.xlabel('X-axis')\n",
    "plt.ylabel('Y-axis')\n",
    "plt.show()"
   ]
  },
  {
   "cell_type": "markdown",
   "id": "eaffcdc1-5793-4ab7-9fba-10280eff1f82",
   "metadata": {},
   "source": [
    "## Show PCA"
   ]
  },
  {
   "cell_type": "code",
   "execution_count": 96,
   "id": "2327ef33-ff43-4f4b-aa4e-20e97cbe8abd",
   "metadata": {},
   "outputs": [],
   "source": [
    "from src.analog_discovery.pca_embeddings import PCAEmbeddings"
   ]
  },
  {
   "cell_type": "code",
   "execution_count": 97,
   "id": "b6ead012-0074-452c-b82c-d4723b9ddd8e",
   "metadata": {},
   "outputs": [],
   "source": [
    "pca = PCAEmbeddings()"
   ]
  },
  {
   "cell_type": "code",
   "execution_count": 98,
   "id": "76e2559b-2f10-411b-8bc2-5c8e4937a7be",
   "metadata": {},
   "outputs": [],
   "source": [
    "pca.fit(embeddings_reference)"
   ]
  },
  {
   "cell_type": "code",
   "execution_count": 99,
   "id": "72d7de34-f910-4c9d-abc4-7d8a842ccc32",
   "metadata": {},
   "outputs": [],
   "source": [
    "pca_ref= pca.transform(embeddings_reference)"
   ]
  },
  {
   "cell_type": "code",
   "execution_count": 100,
   "id": "b02031b8-9b63-42e3-8b5f-947740afd328",
   "metadata": {},
   "outputs": [],
   "source": [
    "pca_janssen= pca.transform(embeddings_janssen)"
   ]
  },
  {
   "cell_type": "code",
   "execution_count": 101,
   "id": "8d049b82-efef-4af3-a122-a36550bd7d9e",
   "metadata": {},
   "outputs": [],
   "source": [
    "#pca_nist= pca.transform(embeddings_nist)"
   ]
  },
  {
   "cell_type": "code",
   "execution_count": 102,
   "id": "ee501e33-9080-451a-a26a-3f6c87138dc1",
   "metadata": {},
   "outputs": [],
   "source": [
    "#pca_gnps= pca.transform(embeddings_gnps)"
   ]
  },
  {
   "cell_type": "code",
   "execution_count": 103,
   "id": "dc60f64c-0571-4d88-a53b-5b18297f8231",
   "metadata": {},
   "outputs": [],
   "source": [
    "from src.plotting import Plotting"
   ]
  },
  {
   "cell_type": "code",
   "execution_count": 104,
   "id": "d08a6483-77ea-4e07-a9f2-7e866ae58902",
   "metadata": {},
   "outputs": [
    {
     "data": {
      "image/png": "[encoded data removed]",
      "text/plain": [
       "<Figure size 640x480 with 1 Axes>"
      ]
     },
     "metadata": {},
     "output_type": "display_data"
    }
   ],
   "source": [
    "Plotting.plot_n_pca([pca_ref, pca_janssen,], ['nist+gnps','janssen', ], alpha=0.2)"
   ]
  },
  {
   "cell_type": "markdown",
   "id": "295168d7-a6b9-4ad9-b6cf-8fc3a0048d8e",
   "metadata": {},
   "source": [
    "## Use a mask for defining valid mass differences"
   ]
  },
  {
   "cell_type": "code",
   "execution_count": 105,
   "id": "935e0ea8-bd99-4ed0-b93b-03b8d1f87282",
   "metadata": {},
   "outputs": [
    {
     "data": {
      "text/plain": [
       "(411, 326386)"
      ]
     },
     "execution_count": 105,
     "metadata": {},
     "output_type": "execute_result"
    }
   ],
   "source": [
    "similarities.shape"
   ]
  },
  {
   "cell_type": "code",
   "execution_count": 106,
   "id": "9725f341-c67b-4c8d-b918-263eba2efd4d",
   "metadata": {},
   "outputs": [],
   "source": [
    "mass_reference = np.array([s.precursor_mz for s in all_spectrums_reference])\n",
    "mass_janssen = np.array([s.precursor_mz for s in all_spectrums_janssen])"
   ]
  },
  {
   "cell_type": "code",
   "execution_count": 107,
   "id": "3f24e7de-95b2-446a-b591-5b6958dd99e4",
   "metadata": {},
   "outputs": [],
   "source": [
    "# Reshape A and B to make broadcasting work\n",
    "mass_reference_reshaped = mass_reference.reshape(1, -1)\n",
    "mass_janssen_reshaped = mass_janssen.reshape(-1, 1)\n",
    "\n",
    "# Calculate differences\n",
    "mass_diffs = np.abs(mass_reference_reshaped - mass_janssen_reshaped)"
   ]
  },
  {
   "cell_type": "code",
   "execution_count": 108,
   "id": "eb7fb421-8e17-4956-9f46-c8334a5c9524",
   "metadata": {},
   "outputs": [
    {
     "data": {
      "text/plain": [
       "array([[157.8726, 279.9876, 301.8726, ..., 259.0592, 259.0592, 259.0592],\n",
       "       [177.9044, 300.0194, 321.9044, ..., 239.0274, 239.0274, 239.0274],\n",
       "       [241.7821, 363.8971, 385.7821, ..., 175.1497, 175.1497, 175.1497],\n",
       "       ...,\n",
       "       [276.8668, 398.9818, 420.8668, ..., 140.065 , 140.065 , 140.065 ],\n",
       "       [121.1082,   1.0068,  22.8918, ..., 538.04  , 538.04  , 538.04  ],\n",
       "       [207.9443, 330.0593, 351.9443, ..., 208.9875, 208.9875, 208.9875]])"
      ]
     },
     "execution_count": 108,
     "metadata": {},
     "output_type": "execute_result"
    }
   ],
   "source": [
    "mass_diffs"
   ]
  },
  {
   "cell_type": "code",
   "execution_count": 109,
   "id": "3b7c40ee-668b-47ee-94b7-97b6ab2915ed",
   "metadata": {},
   "outputs": [
    {
     "data": {
      "text/plain": [
       "(411, 326386)"
      ]
     },
     "execution_count": 109,
     "metadata": {},
     "output_type": "execute_result"
    }
   ],
   "source": [
    "mass_diffs.shape"
   ]
  },
  {
   "cell_type": "code",
   "execution_count": 110,
   "id": "09c812ed-2c30-4086-967c-db8c62fd8675",
   "metadata": {},
   "outputs": [],
   "source": [
    "mass_diffs[mass_diffs <= config.MAX_MASS_DIFF]=1\n",
    "mass_diffs[mass_diffs > config.MAX_MASS_DIFF]=0"
   ]
  },
  {
   "cell_type": "code",
   "execution_count": 111,
   "id": "50ce71d3-db9e-43cf-9f70-a721df52981c",
   "metadata": {},
   "outputs": [
    {
     "data": {
      "text/plain": [
       "134144646"
      ]
     },
     "execution_count": 111,
     "metadata": {},
     "output_type": "execute_result"
    }
   ],
   "source": [
    "mass_diffs.shape[0]*mass_diffs.shape[1]"
   ]
  },
  {
   "cell_type": "code",
   "execution_count": 112,
   "id": "1e213593-77dd-4708-b5fc-d91c57f73f1e",
   "metadata": {},
   "outputs": [],
   "source": [
    "similarities = mass_diffs*similarities"
   ]
  },
  {
   "cell_type": "markdown",
   "id": "10770b07-9fc0-4743-8a02-ec51acae62f0",
   "metadata": {},
   "source": [
    "## Based on the similarities compute the similarity score of the match spectrum"
   ]
  },
  {
   "cell_type": "code",
   "execution_count": 113,
   "id": "aa75e78e-dcdc-4a9f-9823-4bf4725ce98f",
   "metadata": {},
   "outputs": [],
   "source": [
    "arg_max_sim= np.argmax(similarities, axis=1)"
   ]
  },
  {
   "cell_type": "code",
   "execution_count": 114,
   "id": "68d93277-f160-4c64-b0c3-870c14b5bf56",
   "metadata": {},
   "outputs": [],
   "source": [
    "max_sim = np.max(similarities, axis=1)"
   ]
  },
  {
   "cell_type": "code",
   "execution_count": 115,
   "id": "25ce38eb-0464-4b40-bf13-f37bf40ecd98",
   "metadata": {},
   "outputs": [],
   "source": [
    "spectrums_retrieved = [all_spectrums_reference[ind] for ind in arg_max_sim]"
   ]
  },
  {
   "cell_type": "code",
   "execution_count": 116,
   "id": "95ea77f5-a38d-41f4-a23b-75bbe83470ff",
   "metadata": {},
   "outputs": [],
   "source": [
    "smiles_retrieved = [s.smiles for s in spectrums_retrieved]"
   ]
  },
  {
   "cell_type": "code",
   "execution_count": 117,
   "id": "9f09ef40-eb6c-484b-8899-9f9e7b9e67c8",
   "metadata": {},
   "outputs": [],
   "source": [
    "smiles_janssen = [s.smiles for s in all_spectrums_janssen]"
   ]
  },
  {
   "cell_type": "code",
   "execution_count": 118,
   "id": "753f5d25-d9aa-4190-96e3-19a71cdf77d1",
   "metadata": {},
   "outputs": [],
   "source": [
    "from src.tanimoto import Tanimoto"
   ]
  },
  {
   "cell_type": "code",
   "execution_count": 119,
   "id": "40fdfac3-6972-432a-a807-e17aebdad96b",
   "metadata": {},
   "outputs": [],
   "source": [
    "tanimoto_retrieved = [Tanimoto.compute_tanimoto_from_smiles(s0,s1) for s0, s1 in zip(smiles_janssen, smiles_retrieved)]"
   ]
  },
  {
   "cell_type": "code",
   "execution_count": 212,
   "id": "5a6afeec-b1e1-44ba-a06a-3e2aec612be3",
   "metadata": {},
   "outputs": [
    {
     "data": {
      "image/png": "[encoded data removed]",
      "text/plain": [
       "<Figure size 640x480 with 1 Axes>"
      ]
     },
     "metadata": {},
     "output_type": "display_data"
    }
   ],
   "source": [
    "_=plt.hist(max_sim, color='r', bins=100)\n",
    "plt.xlabel('maximum SIMBA predicted similarity found')\n",
    "plt.ylabel('freq')\n",
    "plt.grid()"
   ]
  },
  {
   "cell_type": "code",
   "execution_count": 121,
   "id": "13beae6c-e8d3-40ab-992e-7a2244673afc",
   "metadata": {},
   "outputs": [
    {
     "data": {
      "text/plain": [
       "Text(0, 0.5, 'frequency')"
      ]
     },
     "execution_count": 121,
     "metadata": {},
     "output_type": "execute_result"
    },
    {
     "data": {
      "image/png": "[encoded data removed]",
      "text/plain": [
       "<Figure size 640x480 with 1 Axes>"
      ]
     },
     "metadata": {},
     "output_type": "display_data"
    }
   ],
   "source": [
    "plt.hist(tanimoto_retrieved)\n",
    "plt.grid()\n",
    "plt.xlabel('tanimoto similarity with reference spectra')\n",
    "plt.ylabel('frequency')"
   ]
  },
  {
   "cell_type": "code",
   "execution_count": 122,
   "id": "a37bed76-4da0-49c4-b024-b8a9ac96f38b",
   "metadata": {},
   "outputs": [],
   "source": [
    "tanimoto_retrieved= np.array(tanimoto_retrieved)"
   ]
  },
  {
   "cell_type": "code",
   "execution_count": 123,
   "id": "25b3cf48-6457-4e1e-915f-f6edc9e64d58",
   "metadata": {},
   "outputs": [
    {
     "data": {
      "text/plain": [
       "0.15085158150851583"
      ]
     },
     "execution_count": 123,
     "metadata": {},
     "output_type": "execute_result"
    }
   ],
   "source": [
    "tanimoto_retrieved[tanimoto_retrieved==1].shape[0]/tanimoto_retrieved.shape[0]"
   ]
  },
  {
   "cell_type": "code",
   "execution_count": 124,
   "id": "7cd3a289-a6a5-41ae-83ad-a5134594522d",
   "metadata": {},
   "outputs": [
    {
     "data": {
      "text/plain": [
       "0.26277372262773724"
      ]
     },
     "execution_count": 124,
     "metadata": {},
     "output_type": "execute_result"
    }
   ],
   "source": [
    "tanimoto_retrieved[tanimoto_retrieved>0.7].shape[0]/tanimoto_retrieved.shape[0]"
   ]
  },
  {
   "cell_type": "code",
   "execution_count": 125,
   "id": "3183bc8c-9459-46aa-a972-29ca176a9650",
   "metadata": {},
   "outputs": [
    {
     "data": {
      "text/plain": [
       "Text(0.5, 0, 'tanimoto')"
      ]
     },
     "execution_count": 125,
     "metadata": {},
     "output_type": "execute_result"
    },
    {
     "data": {
      "image/png": "[encoded data removed]",
      "text/plain": [
       "<Figure size 640x480 with 1 Axes>"
      ]
     },
     "metadata": {},
     "output_type": "display_data"
    }
   ],
   "source": [
    "plt.scatter(tanimoto_retrieved, max_sim, alpha=0.05)\n",
    "plt.xlim([0,1])\n",
    "plt.ylim([0,1])\n",
    "plt.ylabel('prediction')\n",
    "plt.xlabel('tanimoto')"
   ]
  },
  {
   "cell_type": "markdown",
   "id": "f8aad601-14f9-4efc-adc8-7883c3b492f3",
   "metadata": {},
   "source": [
    "## Check which is the spectra that has wrong predictions"
   ]
  },
  {
   "cell_type": "code",
   "execution_count": 126,
   "id": "1470455f-571e-49d5-9485-f36796701be8",
   "metadata": {},
   "outputs": [],
   "source": [
    "from rdkit import Chem\n",
    "from rdkit.Chem import rdFMCS\n",
    "def calculate_mcs_similarity(smiles1, smiles2):\n",
    "    mol1 = Chem.MolFromSmiles(smiles1)\n",
    "    mol2 = Chem.MolFromSmiles(smiles2)\n",
    "    \n",
    "    # Perform MCS (Maximum Common Substructure) search\n",
    "    mcs = rdFMCS.FindMCS([mol1, mol2])\n",
    "\n",
    "    # Get SMARTS pattern from MCS result\n",
    "    mcs_smarts = Chem.MolToSmarts(mcs.queryMol)\n",
    "    \n",
    "    # Calculate Tanimoto-like similarity\n",
    "    mcs_mol = Chem.MolFromSmarts(mcs_smarts)\n",
    "    #mcs_count = len(Chem.GetMolFrags(mcs_mol))\n",
    "    mcs_count = mcs_mol.GetNumAtoms()\n",
    "    similarity = mcs_count / (mol1.GetNumAtoms() + mol2.GetNumAtoms() - mcs_count)\n",
    "\n",
    "    return similarity, mcs_mol"
   ]
  },
  {
   "cell_type": "code",
   "execution_count": 138,
   "id": "c66311be-633f-4966-9a9a-a0b834998b1c",
   "metadata": {},
   "outputs": [],
   "source": [
    "from rdkit.Chem import rdRascalMCES\n",
    "def calculate_mces_sim(smiles1, smiles2, similarity_threshold=0.7):\n",
    "\n",
    "    ad1 = Chem.MolFromSmiles(smiles1)\n",
    "    ad2 = Chem.MolFromSmiles(smiles2)\n",
    "    opts = rdRascalMCES.RascalOptions()\n",
    "    opts.similarityThreshold = similarity_threshold\n",
    "    opts.returnEmptyMCES = True\n",
    "    results = rdRascalMCES.FindMCES(ad1, ad2, opts)\n",
    "    if len(results) != 0:\n",
    "        similarity_tier1= results[0].tier1Sim\n",
    "        similarity_tier2= results[0].tier2Sim\n",
    "    \n",
    "        if similarity_tier2 != -1:\n",
    "            return similarity_tier2 #if the lower threshold is not surpassed\n",
    "        else:\n",
    "            return similarity_tier1\n",
    "    else:\n",
    "        return None"
   ]
  },
  {
   "cell_type": "code",
   "execution_count": null,
   "id": "03870201-4941-418d-8b2e-e08f69c27e47",
   "metadata": {},
   "outputs": [],
   "source": []
  },
  {
   "cell_type": "code",
   "execution_count": 139,
   "id": "d405ffe4-f4cd-4df5-a49b-9439fbcf4f04",
   "metadata": {},
   "outputs": [
    {
     "data": {
      "text/plain": [
       "411"
      ]
     },
     "execution_count": 139,
     "metadata": {},
     "output_type": "execute_result"
    }
   ],
   "source": [
    "len(all_spectrums_janssen)"
   ]
  },
  {
   "cell_type": "code",
   "execution_count": 140,
   "id": "3ff6bd6c-9199-40ff-bc76-bb1296d4e98e",
   "metadata": {},
   "outputs": [
    {
     "data": {
      "text/plain": [
       "411"
      ]
     },
     "execution_count": 140,
     "metadata": {},
     "output_type": "execute_result"
    }
   ],
   "source": [
    "len(spectrums_retrieved)"
   ]
  },
  {
   "cell_type": "code",
   "execution_count": 196,
   "id": "0b0bf307-da4f-42a7-ba11-311d75aa0865",
   "metadata": {},
   "outputs": [],
   "source": [
    "target_spectra=2"
   ]
  },
  {
   "cell_type": "code",
   "execution_count": 197,
   "id": "688cd15a-62b5-43fd-b4b2-e8daaf132ca4",
   "metadata": {},
   "outputs": [
    {
     "data": {
      "text/plain": [
       "{'pepmass': (303.2179, None),\n",
       " 'rt': '4.62',\n",
       " 'ionmode': 'Positive',\n",
       " 'adduct': 'M+H',\n",
       " 'charge': [1],\n",
       " 'id': 'KBUZBQVCBVDWKX',\n",
       " 'smiles': 'CCOCCn1c2ccccc2nc1N1CCCN(C)CC1',\n",
       " 'formula': 'C17H26N4O',\n",
       " 'filename': '2600129002_190419_MAS011_A2.mzXML',\n",
       " 'drugbank.id': 'DB01084',\n",
       " 'inchikey': 'KBUZBQVCBVDWKX-UHFFFAOYSA-N',\n",
       " 'cpd': 'emedastine',\n",
       " 'status': 'approved',\n",
       " 'cas': 'N/A',\n",
       " 'name': 'emedastine',\n",
       " 'mslevel': '2',\n",
       " 'tic': '745034110.742188',\n",
       " 'pepmass_dev': '0.00140687837504099',\n",
       " 'scan_number': '447',\n",
       " 'param_submit_user': '',\n",
       " 'param_sample_type': '',\n",
       " 'param_comments': '',\n",
       " 'param_algorithm': 'RMassBank',\n",
       " 'param_creation_time': '2021-06-26 21:51:33',\n",
       " 'scans': '7',\n",
       " 'db': 'Inhouse',\n",
       " 'class': 'Benzimidazoles',\n",
       " 'num_peaks': '33',\n",
       " 'param_consensus': 'consensus',\n",
       " 'superclass': 'Organoheterocyclic compounds',\n",
       " 'subclass': ''}"
      ]
     },
     "execution_count": 197,
     "metadata": {},
     "output_type": "execute_result"
    }
   ],
   "source": [
    "all_spectrums_janssen[target_spectra].params"
   ]
  },
  {
   "cell_type": "code",
   "execution_count": 198,
   "id": "b1c89795-0554-4eaf-972a-0273525da954",
   "metadata": {},
   "outputs": [
    {
     "data": {
      "text/plain": [
       "{'libraryquality': 1,\n",
       " 'charge': [1],\n",
       " 'pepmass': [278.0958],\n",
       " 'ionmode': 'Positive',\n",
       " 'name': ' 4,4,6-Trimethyl-1-(4-nitrophenyl)-3,4-dihydro-2(1H)-pyrimidinethione\\n M+H',\n",
       " 'inchi': 'N/A',\n",
       " 'smiles': 'CC1=CC(N=C(N1C2=CC=C(C=C2)[N+](=O)[O-])S)(C)C',\n",
       " 'organism': 'nist',\n",
       " 'spectrumid': 'abcd'}"
      ]
     },
     "execution_count": 198,
     "metadata": {},
     "output_type": "execute_result"
    }
   ],
   "source": [
    "spectrums_retrieved[target_spectra].params"
   ]
  },
  {
   "cell_type": "code",
   "execution_count": 199,
   "id": "2d397c0d-2980-49e1-bef1-e4ba9ca26479",
   "metadata": {},
   "outputs": [
    {
     "data": {
      "image/png": "[encoded data removed]",
      "text/plain": [
       "<Figure size 1200x600 with 1 Axes>"
      ]
     },
     "metadata": {},
     "output_type": "display_data"
    }
   ],
   "source": [
    "Plotting.plot_mirror_plot(spectrums_retrieved[target_spectra], all_spectrums_janssen[target_spectra])"
   ]
  },
  {
   "cell_type": "code",
   "execution_count": 200,
   "id": "77b18ecc-8bec-4091-82a6-1a74dfdd0fae",
   "metadata": {},
   "outputs": [
    {
     "data": {
      "text/plain": [
       "411"
      ]
     },
     "execution_count": 200,
     "metadata": {},
     "output_type": "execute_result"
    }
   ],
   "source": [
    "len(max_sim)"
   ]
  },
  {
   "cell_type": "code",
   "execution_count": 201,
   "id": "13a98ce5-1a45-4a2c-a423-97b807d3e215",
   "metadata": {},
   "outputs": [
    {
     "data": {
      "text/plain": [
       "0.928013265132904"
      ]
     },
     "execution_count": 201,
     "metadata": {},
     "output_type": "execute_result"
    }
   ],
   "source": [
    "max_sim[target_spectra]"
   ]
  },
  {
   "cell_type": "code",
   "execution_count": 202,
   "id": "d1ce5570-c5a5-411a-b20e-7f0704358880",
   "metadata": {},
   "outputs": [
    {
     "data": {
      "text/plain": [
       "0.22738589211618257"
      ]
     },
     "execution_count": 202,
     "metadata": {},
     "output_type": "execute_result"
    }
   ],
   "source": [
    "tanimoto_retrieved[target_spectra]"
   ]
  },
  {
   "cell_type": "code",
   "execution_count": 203,
   "id": "d5571ff0-567b-4f3a-8898-5d27180e3278",
   "metadata": {},
   "outputs": [
    {
     "data": {
      "text/plain": [
       "0.3225806451612903"
      ]
     },
     "execution_count": 203,
     "metadata": {},
     "output_type": "execute_result"
    }
   ],
   "source": [
    "## mcs\n",
    "sim_mcs, mol_mcs=calculate_mcs_similarity(smiles1=all_spectrums_janssen[target_spectra].params['smiles'], \n",
    "                         smiles2=spectrums_retrieved[target_spectra].params['smiles'])\n",
    "sim_mcs"
   ]
  },
  {
   "cell_type": "code",
   "execution_count": 204,
   "id": "99ff8444-6331-4d21-ae93-4f353c6751b4",
   "metadata": {},
   "outputs": [
    {
     "data": {
      "text/plain": [
       "0.6443701226309922"
      ]
     },
     "execution_count": 204,
     "metadata": {},
     "output_type": "execute_result"
    }
   ],
   "source": [
    "sim_mces = calculate_mces_sim(smiles1=all_spectrums_janssen[target_spectra].params['smiles'], \n",
    "                         smiles2=spectrums_retrieved[target_spectra].params['smiles'])\n",
    "sim_mces"
   ]
  },
  {
   "cell_type": "code",
   "execution_count": 205,
   "id": "8d944cb2-8e18-454d-94c1-85534e1f9d78",
   "metadata": {},
   "outputs": [
    {
     "data": {
      "image/png": "[encoded data removed]",
      "text/plain": [
       "<rdkit.Chem.rdchem.Mol at 0x34e20eab0>"
      ]
     },
     "execution_count": 205,
     "metadata": {},
     "output_type": "execute_result"
    }
   ],
   "source": [
    "mol_mcs"
   ]
  },
  {
   "cell_type": "code",
   "execution_count": 206,
   "id": "8607ab5f-5c67-4b06-b16b-37c675f2194c",
   "metadata": {},
   "outputs": [],
   "source": [
    "## plot the molecules"
   ]
  },
  {
   "cell_type": "code",
   "execution_count": 207,
   "id": "d0a4fd81-70cc-4cc7-ace5-a29a9318e440",
   "metadata": {},
   "outputs": [
    {
     "data": {
      "text/plain": [
       "'CCOCCn1c(N2CCCN(C)CC2)nc2ccccc21'"
      ]
     },
     "execution_count": 207,
     "metadata": {},
     "output_type": "execute_result"
    }
   ],
   "source": [
    "Chem.CanonSmiles(all_spectrums_janssen[target_spectra].params['smiles'])"
   ]
  },
  {
   "cell_type": "code",
   "execution_count": 208,
   "id": "29e85b2b-5ebc-43cf-a8ba-ffe094f17a6c",
   "metadata": {},
   "outputs": [
    {
     "data": {
      "image/png": "[encoded data removed]",
      "text/plain": [
       "<rdkit.Chem.rdchem.Mol at 0x34e20edc0>"
      ]
     },
     "execution_count": 208,
     "metadata": {},
     "output_type": "execute_result"
    }
   ],
   "source": [
    "from rdkit import Chem\n",
    "mol_janssen = Chem.MolFromSmiles(all_spectrums_janssen[target_spectra].params['smiles'])\n",
    "mol_janssen"
   ]
  },
  {
   "cell_type": "code",
   "execution_count": 154,
   "id": "42fba35b-c830-4df4-87db-1ab791a91b05",
   "metadata": {},
   "outputs": [
    {
     "data": {
      "text/plain": [
       "'CC(N)C1CCC(C(=O)Nc2ccncc2)CC1'"
      ]
     },
     "execution_count": 154,
     "metadata": {},
     "output_type": "execute_result"
    }
   ],
   "source": [
    "Chem.CanonSmiles(spectrums_retrieved[target_spectra].params['smiles'])"
   ]
  },
  {
   "cell_type": "code",
   "execution_count": 155,
   "id": "4a836bcf-eb65-425d-81ec-cf98e327672f",
   "metadata": {},
   "outputs": [
    {
     "data": {
      "image/png": "[encoded data removed]",
      "text/plain": [
       "<rdkit.Chem.rdchem.Mol at 0x34df14b30>"
      ]
     },
     "execution_count": 155,
     "metadata": {},
     "output_type": "execute_result"
    }
   ],
   "source": [
    "mol_ref = Chem.MolFromSmiles(spectrums_retrieved[target_spectra].params['smiles'])\n",
    "mol_ref"
   ]
  },
  {
   "cell_type": "markdown",
   "id": "9c36064c-68e3-4e17-b2f0-cbb25ae827e1",
   "metadata": {},
   "source": [
    "## FIND SIMILARITY BASED ON MCS"
   ]
  },
  {
   "cell_type": "code",
   "execution_count": 156,
   "id": "a3fe5493-6322-44ef-8941-9205ed4e4785",
   "metadata": {},
   "outputs": [
    {
     "data": {
      "text/plain": [
       "411"
      ]
     },
     "execution_count": 156,
     "metadata": {},
     "output_type": "execute_result"
    }
   ],
   "source": [
    "len(smiles_retrieved)"
   ]
  },
  {
   "cell_type": "code",
   "execution_count": 157,
   "id": "0148a637-0fd2-432d-ab2c-38456f22f5d0",
   "metadata": {},
   "outputs": [
    {
     "data": {
      "text/plain": [
       "411"
      ]
     },
     "execution_count": 157,
     "metadata": {},
     "output_type": "execute_result"
    }
   ],
   "source": [
    "len(smiles_janssen)"
   ]
  },
  {
   "cell_type": "code",
   "execution_count": 158,
   "id": "5a1faa71-2e1e-4fb4-aaad-696ec4dbe936",
   "metadata": {},
   "outputs": [],
   "source": [
    "a=2"
   ]
  },
  {
   "cell_type": "code",
   "execution_count": 160,
   "id": "4db6a4c7-e8a1-48fc-baa4-af1c54556505",
   "metadata": {},
   "outputs": [],
   "source": [
    "#mcs_similarity= []\n",
    "#for s0,s1 in tqdm(zip(smiles_janssen, smiles_retrieved)):\n",
    "#    similarity= calculate_mcs_similarity(s0, s1)\n",
    "#    mcs_similarity.append(similarity)"
   ]
  },
  {
   "cell_type": "code",
   "execution_count": null,
   "id": "cbe5a5bf-b50b-4cf8-bd7f-b57235f96a2b",
   "metadata": {},
   "outputs": [],
   "source": []
  },
  {
   "cell_type": "code",
   "execution_count": 161,
   "id": "05746be2-d9c8-40a3-b1da-4a9da89d2100",
   "metadata": {},
   "outputs": [
    {
     "name": "stderr",
     "output_type": "stream",
     "text": [
      "57it [00:00, 156.07it/s]Too many matching bond pairs (1069) so can't continue.\n",
      "Too many matching bond pairs (1211) so can't continue.\n",
      "121it [00:00, 139.63it/s]Too many matching bond pairs (1095) so can't continue.\n",
      "Too many matching bond pairs (1130) so can't continue.\n",
      "Too many matching bond pairs (2060) so can't continue.\n",
      "Too many matching bond pairs (1138) so can't continue.\n",
      "Too many matching bond pairs (1264) so can't continue.\n",
      "Too many matching bond pairs (1588) so can't continue.\n",
      "Too many matching bond pairs (1552) so can't continue.\n",
      "Too many matching bond pairs (1176) so can't continue.\n",
      "Too many matching bond pairs (1069) so can't continue.\n",
      "291it [00:00, 390.56it/s]Too many matching bond pairs (1313) so can't continue.\n",
      "Too many matching bond pairs (1138) so can't continue.\n",
      "Too many matching bond pairs (1859) so can't continue.\n",
      "Too many matching bond pairs (1200) so can't continue.\n",
      "411it [00:09, 42.66it/s] \n"
     ]
    }
   ],
   "source": [
    "mces_sims=[]\n",
    "for s0,s1 in tqdm(zip(smiles_janssen, smiles_retrieved)):\n",
    "    similarity= calculate_mces_sim(s0, s1)\n",
    "    mces_sims.append(similarity)"
   ]
  },
  {
   "cell_type": "code",
   "execution_count": 162,
   "id": "9323bef9-643a-46e3-9cf1-8020585e8662",
   "metadata": {},
   "outputs": [],
   "source": [
    "# Specify the bin width\n",
    "bin_width = 0.1\n",
    "\n",
    "# Calculate the number of bins based on the data range and bin width\n",
    "bins = np.arange(0, 1 + bin_width, bin_width)"
   ]
  },
  {
   "cell_type": "code",
   "execution_count": 163,
   "id": "c8158067-a3fa-4a2e-a3f3-2ef201c88842",
   "metadata": {},
   "outputs": [
    {
     "data": {
      "image/png": "[encoded data removed]",
      "text/plain": [
       "<Figure size 640x480 with 1 Axes>"
      ]
     },
     "metadata": {},
     "output_type": "display_data"
    }
   ],
   "source": [
    "plt.hist(tanimoto_retrieved,alpha=0.5, label='tanimoto sim.', density=True, bins=bins)\n",
    "plt.hist([m for m in mces_sims if m is not None],alpha=0.5, label='mces sim.', density=True, bins=bins)\n",
    "plt.xlabel('similarity')\n",
    "plt.ylabel('density')\n",
    "plt.legend()\n",
    "plt.grid()"
   ]
  },
  {
   "cell_type": "code",
   "execution_count": 164,
   "id": "0939c7db-a687-469e-837b-f5bf710061c9",
   "metadata": {},
   "outputs": [
    {
     "data": {
      "text/plain": [
       "[(1.0, <rdkit.Chem.rdchem.Mol at 0x34df14f20>),\n",
       " (0.4857142857142857, <rdkit.Chem.rdchem.Mol at 0x34df14f90>),\n",
       " (0.3225806451612903, <rdkit.Chem.rdchem.Mol at 0x34df15000>),\n",
       " (0.26666666666666666, <rdkit.Chem.rdchem.Mol at 0x34df14e40>),\n",
       " (0.3103448275862069, <rdkit.Chem.rdchem.Mol at 0x34df150e0>),\n",
       " (0.8095238095238095, <rdkit.Chem.rdchem.Mol at 0x34df15150>),\n",
       " (0.34210526315789475, <rdkit.Chem.rdchem.Mol at 0x34df151c0>),\n",
       " (0.2222222222222222, <rdkit.Chem.rdchem.Mol at 0x34df15230>),\n",
       " (0.20833333333333334, <rdkit.Chem.rdchem.Mol at 0x34df152a0>),\n",
       " (0.5, <rdkit.Chem.rdchem.Mol at 0x34df14eb0>),\n",
       " (0.25925925925925924, <rdkit.Chem.rdchem.Mol at 0x34df15380>),\n",
       " (0.7916666666666666, <rdkit.Chem.rdchem.Mol at 0x34df153f0>),\n",
       " (0.21568627450980393, <rdkit.Chem.rdchem.Mol at 0x34df15460>),\n",
       " (0.3877551020408163, <rdkit.Chem.rdchem.Mol at 0x34df154d0>),\n",
       " (0.7777777777777778, <rdkit.Chem.rdchem.Mol at 0x34df15540>),\n",
       " (0.2571428571428571, <rdkit.Chem.rdchem.Mol at 0x34df155b0>),\n",
       " (0.32558139534883723, <rdkit.Chem.rdchem.Mol at 0x34df15310>),\n",
       " (0.6, <rdkit.Chem.rdchem.Mol at 0x34df15690>),\n",
       " (0.52, <rdkit.Chem.rdchem.Mol at 0x34df15700>),\n",
       " (0.30303030303030304, <rdkit.Chem.rdchem.Mol at 0x34df15770>),\n",
       " (0.9230769230769231, <rdkit.Chem.rdchem.Mol at 0x34df15070>),\n",
       " (0.2857142857142857, <rdkit.Chem.rdchem.Mol at 0x34df15850>),\n",
       " (0.5666666666666667, <rdkit.Chem.rdchem.Mol at 0x34df158c0>),\n",
       " (0.2903225806451613, <rdkit.Chem.rdchem.Mol at 0x34df15930>),\n",
       " (0.3333333333333333, <rdkit.Chem.rdchem.Mol at 0x34df14cf0>),\n",
       " (0.2972972972972973, <rdkit.Chem.rdchem.Mol at 0x34df15a10>),\n",
       " (0.225, <rdkit.Chem.rdchem.Mol at 0x34df15620>),\n",
       " (0.22857142857142856, <rdkit.Chem.rdchem.Mol at 0x34df15a80>),\n",
       " (1.0, <rdkit.Chem.rdchem.Mol at 0x34df15bd0>),\n",
       " (0.18867924528301888, <rdkit.Chem.rdchem.Mol at 0x34df15c40>),\n",
       " (1.0, <rdkit.Chem.rdchem.Mol at 0x34df159a0>),\n",
       " (0.46875, <rdkit.Chem.rdchem.Mol at 0x34df15d20>),\n",
       " (0.2777777777777778, <rdkit.Chem.rdchem.Mol at 0x34df15d90>),\n",
       " (0.3055555555555556, <rdkit.Chem.rdchem.Mol at 0x34df15e00>),\n",
       " (0.6153846153846154, <rdkit.Chem.rdchem.Mol at 0x34df15b60>),\n",
       " (0.8181818181818182, <rdkit.Chem.rdchem.Mol at 0x34df15ee0>),\n",
       " (0.17647058823529413, <rdkit.Chem.rdchem.Mol at 0x34df15f50>),\n",
       " (0.3333333333333333, <rdkit.Chem.rdchem.Mol at 0x34df15e70>),\n",
       " (0.76, <rdkit.Chem.rdchem.Mol at 0x34df16030>),\n",
       " (0.75, <rdkit.Chem.rdchem.Mol at 0x34df160a0>),\n",
       " (0.9090909090909091, <rdkit.Chem.rdchem.Mol at 0x34df16110>),\n",
       " (0.3611111111111111, <rdkit.Chem.rdchem.Mol at 0x34df16180>),\n",
       " (0.3448275862068966, <rdkit.Chem.rdchem.Mol at 0x34df161f0>),\n",
       " (0.6428571428571429, <rdkit.Chem.rdchem.Mol at 0x34df15cb0>),\n",
       " (0.2727272727272727, <rdkit.Chem.rdchem.Mol at 0x34df16340>),\n",
       " (0.24324324324324326, <rdkit.Chem.rdchem.Mol at 0x34df163b0>),\n",
       " (0.45, <rdkit.Chem.rdchem.Mol at 0x34df16260>),\n",
       " (0.3333333333333333, <rdkit.Chem.rdchem.Mol at 0x34df15af0>),\n",
       " (0.275, <rdkit.Chem.rdchem.Mol at 0x34df16420>),\n",
       " (0.9, <rdkit.Chem.rdchem.Mol at 0x34df16500>),\n",
       " (0.28125, <rdkit.Chem.rdchem.Mol at 0x34df16570>),\n",
       " (0.2619047619047619, <rdkit.Chem.rdchem.Mol at 0x34df14d60>),\n",
       " (0.44, <rdkit.Chem.rdchem.Mol at 0x34df165e0>),\n",
       " (1.0, <rdkit.Chem.rdchem.Mol at 0x34df166c0>),\n",
       " (0.3, <rdkit.Chem.rdchem.Mol at 0x34df16730>),\n",
       " (0.3684210526315789, <rdkit.Chem.rdchem.Mol at 0x34df16650>),\n",
       " (0.32608695652173914, <rdkit.Chem.rdchem.Mol at 0x34df16880>),\n",
       " (0.3888888888888889, <rdkit.Chem.rdchem.Mol at 0x34df168f0>),\n",
       " (0.20408163265306123, <rdkit.Chem.rdchem.Mol at 0x34df16960>),\n",
       " (0.3448275862068966, <rdkit.Chem.rdchem.Mol at 0x34df167a0>),\n",
       " (0.3076923076923077, <rdkit.Chem.rdchem.Mol at 0x34df169d0>),\n",
       " (0.16216216216216217, <rdkit.Chem.rdchem.Mol at 0x34df16ab0>),\n",
       " (0.5483870967741935, <rdkit.Chem.rdchem.Mol at 0x34df15fc0>),\n",
       " (0.26666666666666666, <rdkit.Chem.rdchem.Mol at 0x34df16b20>),\n",
       " (0.2, <rdkit.Chem.rdchem.Mol at 0x34df16b90>),\n",
       " (0.5454545454545454, <rdkit.Chem.rdchem.Mol at 0x34df16c00>),\n",
       " (0.3170731707317073, <rdkit.Chem.rdchem.Mol at 0x34df16c70>),\n",
       " (0.425, <rdkit.Chem.rdchem.Mol at 0x34df16ce0>),\n",
       " (0.8181818181818182, <rdkit.Chem.rdchem.Mol at 0x34df16d50>),\n",
       " (0.5151515151515151, <rdkit.Chem.rdchem.Mol at 0x34df16dc0>),\n",
       " (0.9354838709677419, <rdkit.Chem.rdchem.Mol at 0x34df16f10>),\n",
       " (0.2127659574468085, <rdkit.Chem.rdchem.Mol at 0x34df16ea0>)]"
      ]
     },
     "execution_count": 164,
     "metadata": {},
     "output_type": "execute_result"
    }
   ],
   "source": [
    "mcs_similarity"
   ]
  },
  {
   "cell_type": "code",
   "execution_count": 165,
   "id": "25f075d6-ea7d-4408-b413-c2319d7c00ec",
   "metadata": {},
   "outputs": [
    {
     "data": {
      "text/plain": [
       "array([0.87812096, 0.96354598, 0.92801327, 0.944287  , 0.76863569,\n",
       "       0.89988029, 0.9811123 , 0.7972644 , 0.90086734, 0.98655397,\n",
       "       0.79397583, 0.88095939, 0.85110909, 0.8952626 , 0.93550235,\n",
       "       0.96228158, 0.96919423, 0.99026   , 0.94842935, 0.94792527,\n",
       "       0.89500278, 0.81429821, 0.91987187, 0.98519093, 0.97172993,\n",
       "       0.94533199, 0.91769367, 0.91259754, 0.952766  , 0.95628816,\n",
       "       0.99770057, 0.94931591, 0.91397941, 0.85949564, 0.96958035,\n",
       "       0.97042048, 0.92068607, 0.98389578, 0.98087281, 0.9715777 ,\n",
       "       0.96036959, 0.84352028, 0.97496092, 0.97677702, 0.7433145 ,\n",
       "       0.96702069, 0.98239797, 0.85115325, 0.98110551, 0.93558311,\n",
       "       0.80631304, 0.87251592, 0.84323657, 0.99176627, 0.94295895,\n",
       "       0.92688048, 0.80364251, 0.92342657, 0.9968406 , 0.93099934,\n",
       "       0.96835232, 0.77405739, 0.96006978, 0.93270671, 0.90845454,\n",
       "       0.97529399, 0.91490358, 0.83260661, 0.97840214, 0.98920298,\n",
       "       0.98012817, 0.70444769, 0.93335319, 0.97205514, 0.73943669,\n",
       "       0.96602422, 0.7893315 , 0.95839411, 0.98647571, 0.86487383,\n",
       "       0.90219969, 0.98133701, 0.74903607, 0.94639015, 0.92124486,\n",
       "       0.8834036 , 0.82967108, 0.91946143, 0.97782296, 0.9404096 ,\n",
       "       0.98308378, 0.97781032, 0.87767941, 0.97782308, 0.99341911,\n",
       "       0.97807312, 0.90841645, 0.93710297, 0.97632134, 0.96257061,\n",
       "       0.91986567, 0.81152678, 0.81399888, 0.75359505, 0.99095088,\n",
       "       0.92801178, 0.98255354, 0.87626302, 0.99451739, 0.86363769,\n",
       "       0.95155352, 0.90626371, 0.71940345, 0.90080559, 0.96202219,\n",
       "       0.90959883, 0.97240299, 0.77846509, 0.74899405, 0.96906221,\n",
       "       0.6350655 , 0.99117333, 0.84908348, 0.91856861, 0.73422027,\n",
       "       0.91531289, 0.9045409 , 0.75911915, 0.80525547, 0.74646848,\n",
       "       0.91625637, 0.90564704, 0.98431778, 0.97158223, 0.99381703,\n",
       "       0.84640801, 0.96487623, 0.90038431, 0.97142482, 0.94942981,\n",
       "       0.92859071, 0.96051782, 0.95377272, 0.79256558, 0.88642257,\n",
       "       0.96240491, 0.97457904, 0.98631495, 0.86900818, 0.98381591,\n",
       "       0.79459471, 0.6897378 , 0.83668095, 0.99449301, 0.93841523,\n",
       "       0.9038136 , 0.96063858, 0.99112415, 0.97663039, 0.86113995,\n",
       "       0.98224014, 0.93626583, 0.7049135 , 0.97015363, 0.97986251,\n",
       "       0.79067832, 0.92827767, 0.7075175 , 0.99668938, 0.99035496,\n",
       "       0.9324888 , 0.79393774, 0.96691608, 0.6639818 , 0.86151081,\n",
       "       0.93759084, 0.93622655, 0.92750567, 0.94897825, 0.96492255,\n",
       "       0.87802118, 0.98505175, 0.93169111, 0.95684433, 0.9488287 ,\n",
       "       0.98001045, 0.97581422, 0.96402526, 0.83660436, 0.9951092 ,\n",
       "       0.98927474, 0.94730878, 0.98647302, 0.97363186, 0.72898775,\n",
       "       0.99705499, 0.98891264, 0.86591697, 0.98827714, 0.94038129,\n",
       "       0.97687429, 0.9937768 , 0.98852837, 0.96155936, 0.91662014,\n",
       "       0.97060138, 0.96934932, 0.96942401, 0.88543272, 0.75565434,\n",
       "       0.89690173, 0.88311785, 0.90338641, 0.94863808, 0.96107131,\n",
       "       0.98222131, 0.93458217, 0.83996034, 0.7612623 , 0.98193365,\n",
       "       0.98280764, 0.9314608 , 0.93480247, 0.88016438, 0.82219672,\n",
       "       0.99879545, 0.87641239, 0.96167588, 0.82800519, 0.98966044,\n",
       "       0.99328244, 0.9744525 , 0.96830899, 0.85825562, 0.972776  ,\n",
       "       0.81011617, 0.88784021, 0.9590773 , 0.86427873, 0.91876268,\n",
       "       0.97736657, 0.98991871, 0.95677948, 0.94435465, 0.86839134,\n",
       "       0.99145252, 0.99517113, 0.99061608, 0.82616371, 0.93228161,\n",
       "       0.98180974, 0.91770065, 0.97915083, 0.8818711 , 0.98867315,\n",
       "       0.87465066, 0.95616484, 0.93549919, 0.9743039 , 0.90817672,\n",
       "       0.98530334, 0.9135322 , 0.99152648, 0.92403203, 0.79300427,\n",
       "       0.95105642, 0.97491527, 0.96124691, 0.94251227, 0.91866493,\n",
       "       0.97120678, 0.91935307, 0.96410072, 0.80944967, 0.9975639 ,\n",
       "       0.95019269, 0.98678875, 0.92799747, 0.94199634, 0.99788952,\n",
       "       0.98256129, 0.99089307, 0.91313219, 0.94834036, 0.99488765,\n",
       "       0.9215287 , 0.97246987, 0.94679701, 0.98759043, 0.99378473,\n",
       "       0.8600738 , 0.9742775 , 0.90153337, 0.88435411, 0.94064528,\n",
       "       0.80222952, 0.96219832, 0.64867836, 0.87852311, 0.80169272,\n",
       "       0.91263968, 0.80798727, 0.73573846, 0.8959325 , 0.99691832,\n",
       "       0.9900983 , 0.67200822, 0.78606272, 0.73125148, 0.90477228,\n",
       "       0.8637836 , 0.97052246, 0.86328697, 0.92024481, 0.88655335,\n",
       "       0.99559081, 0.97464007, 0.99544704, 0.99214929, 0.92893374,\n",
       "       0.75395894, 0.95009679, 0.78446692, 0.92597795, 0.62726825,\n",
       "       0.98868626, 0.91056985, 0.97841555, 0.98965269, 0.98684853,\n",
       "       0.86499792, 0.98416317, 0.83948892, 0.8947733 , 0.98899949,\n",
       "       0.95644951, 0.89877969, 0.99722189, 0.97393745, 0.87137264,\n",
       "       0.68828404, 0.97909468, 0.94553411, 0.94409889, 0.99195921,\n",
       "       0.94747108, 0.82268846, 0.97529137, 0.96439272, 0.97353697,\n",
       "       0.9897579 , 0.82086134, 0.9972688 , 0.99575037, 0.90216786,\n",
       "       0.94538689, 0.82798558, 0.97850937, 0.95120144, 0.93182313,\n",
       "       0.91582531, 0.9079836 , 0.91358137, 0.93207335, 0.75494277,\n",
       "       0.96335465, 0.99269104, 0.76217955, 0.82255369, 0.8642621 ,\n",
       "       0.85345215, 0.97946602, 0.9608686 , 0.94581187, 0.9672507 ,\n",
       "       0.76924938, 0.99053079, 0.63429099, 0.91626257, 0.74207014,\n",
       "       0.96352845, 0.94410849, 0.89987838, 0.97764039, 0.98507309,\n",
       "       0.83848327, 0.98616463, 0.91708714, 0.7486186 , 0.7797578 ,\n",
       "       0.95593452, 0.67702258, 0.73150307, 0.80164462, 0.75833154,\n",
       "       0.84721756, 0.7276361 , 0.84635872, 0.94936717, 0.96405369,\n",
       "       0.7973789 , 0.95977122, 0.97032166, 0.80036694, 0.97502816,\n",
       "       0.81954247, 0.98584169, 0.86221784, 0.91722351, 0.93501085,\n",
       "       0.98489213])"
      ]
     },
     "execution_count": 165,
     "metadata": {},
     "output_type": "execute_result"
    }
   ],
   "source": [
    "max_sim"
   ]
  },
  {
   "cell_type": "code",
   "execution_count": 166,
   "id": "c3f75b02-0937-43eb-8179-be867c80e5cf",
   "metadata": {},
   "outputs": [],
   "source": [
    "mcs_similarity=np.array(mcs_similarity)"
   ]
  },
  {
   "cell_type": "code",
   "execution_count": 167,
   "id": "d956bc6d-3b76-47e7-abef-ad00be4fdb22",
   "metadata": {},
   "outputs": [],
   "source": [
    "true_positives= max_sim[0:200]"
   ]
  },
  {
   "cell_type": "markdown",
   "id": "488ddcbe-b1b1-47f4-aa34-d3e463737524",
   "metadata": {},
   "source": [
    "## saving of results"
   ]
  },
  {
   "cell_type": "code",
   "execution_count": 170,
   "id": "90b615b5-0d87-48ea-a24c-caaeb4c842ca",
   "metadata": {},
   "outputs": [],
   "source": [
    "similarity_name= 'simba_2'"
   ]
  },
  {
   "cell_type": "code",
   "execution_count": 171,
   "id": "bfbede95-583a-42cd-8e15-4c9151551f96",
   "metadata": {},
   "outputs": [
    {
     "data": {
      "text/plain": [
       "(411, 411, 411, 411, 411, 411, 411)"
      ]
     },
     "execution_count": 171,
     "metadata": {},
     "output_type": "execute_result"
    }
   ],
   "source": [
    "len(max_sim), len(tanimoto_retrieved), len(all_spectrums_janssen), len(smiles_retrieved), len(mces_sims), len(smiles_janssen), len(spectrums_retrieved)"
   ]
  },
  {
   "cell_type": "code",
   "execution_count": 172,
   "id": "b29019a7-c7c2-4635-afb4-2658c1356989",
   "metadata": {},
   "outputs": [],
   "source": [
    "results ={ 'preprocessed_all_spectrums_janssen':all_spectrums_janssen,\n",
    "            'smiles_janssen':smiles_janssen,\n",
    "          'smiles_retrieved':smiles_retrieved,\n",
    "          'spectrums_retrieved':spectrums_retrieved,\n",
    "            'tanimoto_retrieved':tanimoto_retrieved,\n",
    "          'max_sim':max_sim,\n",
    "          'mces_retrieved':mces_sims}"
   ]
  },
  {
   "cell_type": "code",
   "execution_count": 173,
   "id": "65b01b87-d0aa-4bd6-91a6-a4088c6e062b",
   "metadata": {},
   "outputs": [],
   "source": [
    "with open('./notebooks/discovery_search/results/'+similarity_name + '_results_analog_discovery_unknwon_compounds.pkl', 'wb') as f:\n",
    "    dill.dump(results, f)"
   ]
  },
  {
   "cell_type": "code",
   "execution_count": null,
   "id": "7ad941c5-2c0f-40ce-8da2-123e3c39e616",
   "metadata": {},
   "outputs": [],
   "source": []
  }
 ],
 "metadata": {
  "kernelspec": {
   "display_name": "Python 3 (ipykernel)",
   "language": "python",
   "name": "python3"
  },
  "language_info": {
   "codemirror_mode": {
    "name": "ipython",
    "version": 3
   },
   "file_extension": ".py",
   "mimetype": "text/x-python",
   "name": "python",
   "nbconvert_exporter": "python",
   "pygments_lexer": "ipython3",
   "version": "3.11.7"
  }
 },
 "nbformat": 4,
 "nbformat_minor": 5
}
