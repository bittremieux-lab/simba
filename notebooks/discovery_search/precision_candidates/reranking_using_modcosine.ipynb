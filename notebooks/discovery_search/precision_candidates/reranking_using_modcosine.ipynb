{
 "cells": [
  {
   "cell_type": "code",
   "execution_count": 414,
   "id": "d7e8dd70-f297-42a0-add1-a131cbff8ca6",
   "metadata": {},
   "outputs": [
    {
     "name": "stdout",
     "output_type": "stream",
     "text": [
      "The autoreload extension is already loaded. To reload it, use:\n",
      "  %reload_ext autoreload\n"
     ]
    }
   ],
   "source": [
    "%load_ext autoreload\n",
    "%autoreload 2"
   ]
  },
  {
   "cell_type": "code",
   "execution_count": 415,
   "id": "65a73134-8ebe-4ca5-bd69-e24f12b96b97",
   "metadata": {},
   "outputs": [],
   "source": [
    "## Load previous results of tanimoto similarities and simba results\n",
    "## based on the tanimoto similarities, retrieve the spectra that corresponds to the best candidate for each query\n",
    "## find if the best candidate is in the 10 first matches"
   ]
  },
  {
   "cell_type": "code",
   "execution_count": 416,
   "id": "bfcd0c2d-a094-4f74-b1eb-8b430487dc3e",
   "metadata": {},
   "outputs": [],
   "source": [
    "import os\n",
    "os.chdir('/Users/sebas/projects/metabolomics')\n",
    "os.environ[\"PYTORCH_ENABLE_MPS_FALLBACK\"] = \"1\""
   ]
  },
  {
   "cell_type": "code",
   "execution_count": 417,
   "id": "f54fe1e3-e9ae-4878-9ac4-e0ab46dfaf6b",
   "metadata": {},
   "outputs": [],
   "source": [
    "import dill\n",
    "from src.preprocessor import Preprocessor\n",
    "from src.load_data import LoadData\n",
    "from src.config import Config\n",
    "from rdkit import Chem\n",
    "import numpy as np"
   ]
  },
  {
   "cell_type": "markdown",
   "id": "890a2e21-08b6-4bad-9bda-aa83b37fc9ff",
   "metadata": {},
   "source": [
    "## Parameters"
   ]
  },
  {
   "cell_type": "code",
   "execution_count": 418,
   "id": "19a8613d-4f89-4aab-b988-904eeac8b4fe",
   "metadata": {},
   "outputs": [],
   "source": [
    "data_folder= '/Users/sebas/projects/data/'\n",
    "dataset_path= data_folder +'edit_distance_neurips_nist_exhaustive.pkl'\n",
    "output_janssen_file= data_folder + 'all_spectrums_janssen.pkl'\n",
    "casmi_file= data_folder + 'processed_massformer/spec_df.pkl' \n",
    "USE_CASMI=True\n",
    "USE_MCES_RAW=False"
   ]
  },
  {
   "cell_type": "code",
   "execution_count": 419,
   "id": "2b6a254d-ab96-45d1-a161-85cf56835f11",
   "metadata": {},
   "outputs": [],
   "source": [
    "similarities_files= [\n",
    "#'simba_EDIT_DISTANCE_MCES20_NEURIPS_20241115',\n",
    "#'simba_EDIT_DISTANCE_MCES20_NEURIPS_precursor_randomized',\n",
    "    'modified_cosine_casmi_NEURIPS',\n",
    "    'ms2deepscore_v2_casmi_NEURIPS',\n",
    "    #'simba_generated_data_20250126',\n",
    "    'simba_generated_data_20250130',\n",
    "'spec2vec_casmi_NEURIPS',\n",
    "                    ]\n",
    "\n",
    "#model_results_path='simba_EDIT_DISTANCE_MCES20_NEURIPS'\n",
    "#model_results_path='spec2vec_casmi_NEURIPS'\n",
    "#model_results_path='ms2deepscore_casmi_NEURIPS'"
   ]
  },
  {
   "cell_type": "code",
   "execution_count": 420,
   "id": "e60c5c7a-9ffa-41a2-ba10-2e516cb19aaf",
   "metadata": {},
   "outputs": [],
   "source": [
    "tanimoto_results_path = 'tanimoto_similarity_casmi_NEURIPS'"
   ]
  },
  {
   "cell_type": "code",
   "execution_count": 421,
   "id": "33a46d45-018b-449b-8831-8a8bf4618e0b",
   "metadata": {},
   "outputs": [],
   "source": [
    "format_file_unknown = \"./notebooks/discovery_search/results/{}_results_analog_discovery_unknwon_compounds.pkl\""
   ]
  },
  {
   "cell_type": "code",
   "execution_count": 422,
   "id": "05a49ee4-8d99-458d-9e43-b0c688d0936f",
   "metadata": {},
   "outputs": [],
   "source": [
    "config=Config()"
   ]
  },
  {
   "cell_type": "markdown",
   "id": "d376e63a-d207-4b2e-ac97-9a88cb5ff8d9",
   "metadata": {},
   "source": [
    "## Load reference dataset"
   ]
  },
  {
   "cell_type": "code",
   "execution_count": 423,
   "id": "0dabcad4-03a9-4a0e-9093-bd5fbc40093a",
   "metadata": {},
   "outputs": [],
   "source": [
    "pp=Preprocessor()\n"
   ]
  },
  {
   "cell_type": "code",
   "execution_count": 424,
   "id": "9ac971a5-4e01-4e82-a2b1-0ad30a15af16",
   "metadata": {},
   "outputs": [],
   "source": [
    "with open(dataset_path, 'rb') as file:\n",
    "            dataset = dill.load(file)"
   ]
  },
  {
   "cell_type": "code",
   "execution_count": 425,
   "id": "f8f3a8f3-fe82-42f9-8289-f4b7ba929dbf",
   "metadata": {},
   "outputs": [],
   "source": [
    "all_spectrums_reference_original= dataset['molecule_pairs_train'].spectrums_original +\\\n",
    "                    dataset['molecule_pairs_val'].spectrums_original + \\\n",
    "                        dataset['molecule_pairs_test'].spectrums_original"
   ]
  },
  {
   "cell_type": "code",
   "execution_count": 426,
   "id": "64391704-c55e-4cb9-94c4-3d21a5030688",
   "metadata": {},
   "outputs": [],
   "source": [
    "import copy\n",
    "all_spectrums_reference_processed= [copy.deepcopy(s) for s in all_spectrums_reference_original]"
   ]
  },
  {
   "cell_type": "code",
   "execution_count": 427,
   "id": "78f46410-a644-42d9-a879-84e2cd3cc5cb",
   "metadata": {},
   "outputs": [],
   "source": [
    "all_spectrums_reference_processed = [pp.preprocess_spectrum(\n",
    "            s,\n",
    "            fragment_tol_mass=10,\n",
    "            fragment_tol_mode=\"ppm\",\n",
    "            min_intensity=0.01,\n",
    "            max_num_peaks=100,\n",
    "            scale_intensity=None,\n",
    "        ) for s in all_spectrums_reference_processed]\n",
    "    \n",
    "all_spectrums_reference = [s_original for s_original, s_processed in zip(all_spectrums_reference_original,all_spectrums_reference_processed) if len(s_processed.mz)>=6]"
   ]
  },
  {
   "cell_type": "markdown",
   "id": "4596f916-0dd0-4ae1-a714-25c77514bac7",
   "metadata": {},
   "source": [
    "## Load query spectra"
   ]
  },
  {
   "cell_type": "code",
   "execution_count": 428,
   "id": "f4acf51d-2546-4253-9987-3d328db2a961",
   "metadata": {},
   "outputs": [],
   "source": [
    "if USE_CASMI:\n",
    "    all_spectrums_janssen_original=LoadData.get_all_spectrums_casmi(\n",
    "        casmi_file,\n",
    "        config=config,\n",
    "    )\n",
    "else:\n",
    "    loader_saver = LoaderSaver(\n",
    "            block_size=100,\n",
    "            pickle_nist_path='',\n",
    "            pickle_gnps_path='',\n",
    "            pickle_janssen_path=output_janssen_file,\n",
    "        )\n",
    "    all_spectrums_janssen_original = loader_saver.get_all_spectrums(\n",
    "                janssen_path,\n",
    "                100000000,\n",
    "                use_tqdm=True,\n",
    "                use_nist=False,\n",
    "                config=config,\n",
    "                use_janssen=True,\n",
    "            )"
   ]
  },
  {
   "cell_type": "code",
   "execution_count": 429,
   "id": "0b0a8061-2dd2-4ca6-a0b2-7c4ce5cbd0f7",
   "metadata": {},
   "outputs": [],
   "source": [
    "all_spectrums_janssen_processed= [copy.deepcopy(s) for s in all_spectrums_janssen_original]"
   ]
  },
  {
   "cell_type": "code",
   "execution_count": 430,
   "id": "8cb4cb54-a478-45ee-b484-e53d31880f3e",
   "metadata": {},
   "outputs": [],
   "source": [
    "pp=Preprocessor()\n",
    "### remove extra peaks in janssen\n",
    "all_spectrums_janssen_processed = [pp.preprocess_spectrum(\n",
    "            s,\n",
    "            fragment_tol_mass=10,\n",
    "            fragment_tol_mode=\"ppm\",\n",
    "            min_intensity=0.01,\n",
    "            max_num_peaks=100,\n",
    "            scale_intensity=None,\n",
    "        ) for s in all_spectrums_janssen_processed]\n",
    "\n",
    "all_spectrums_janssen = [s_original for s_original, s_processed in zip(all_spectrums_janssen_original,all_spectrums_janssen_processed) if len(s_processed.mz)>=6]"
   ]
  },
  {
   "cell_type": "markdown",
   "id": "9e1f01fa-2f66-459b-9b61-3b2725682564",
   "metadata": {},
   "source": [
    "## Get only the spectra that is not present"
   ]
  },
  {
   "cell_type": "code",
   "execution_count": 431,
   "id": "d3dafdd0-da1b-466e-8320-6e9a9dc95257",
   "metadata": {},
   "outputs": [],
   "source": [
    "canon_smiles_reference = [Chem.CanonSmiles(s.smiles) for s in all_spectrums_reference]\n",
    "canon_smiles_janssen =   [Chem.CanonSmiles(s.smiles) for s in all_spectrums_janssen]\n",
    "janssen_indexes_in_ref= [i for i,s in enumerate(canon_smiles_janssen) if s in canon_smiles_reference]\n",
    "janssen_indexes_not_in_ref = [i for i,s in enumerate(canon_smiles_janssen) if s not in canon_smiles_reference]"
   ]
  },
  {
   "cell_type": "code",
   "execution_count": 432,
   "id": "f5188628-77f2-48b7-8fed-9f6cba59daeb",
   "metadata": {},
   "outputs": [
    {
     "data": {
      "text/plain": [
       "(26, 132)"
      ]
     },
     "execution_count": 432,
     "metadata": {},
     "output_type": "execute_result"
    }
   ],
   "source": [
    "len(janssen_indexes_in_ref),len(janssen_indexes_not_in_ref)"
   ]
  },
  {
   "cell_type": "code",
   "execution_count": 433,
   "id": "acc8a6dd-416f-459c-8350-393f727a710e",
   "metadata": {},
   "outputs": [],
   "source": [
    "all_spectrums_janssen = [all_spectrums_janssen[index] for index in janssen_indexes_not_in_ref]"
   ]
  },
  {
   "cell_type": "markdown",
   "id": "1715068a-ff84-4418-9c57-fd94c654455d",
   "metadata": {},
   "source": [
    "## Load similarity results"
   ]
  },
  {
   "cell_type": "markdown",
   "id": "3a57c88a-a1c1-4bdf-9c09-a2ebc302785e",
   "metadata": {},
   "source": [
    "## Load results for simba and spec2vec"
   ]
  },
  {
   "cell_type": "code",
   "execution_count": 434,
   "id": "0113f976-5e81-43a5-8d01-e96a469fe355",
   "metadata": {},
   "outputs": [],
   "source": [
    "model_results = {}\n",
    "for sim in similarities_files:\n",
    "    with open(format_file_unknown.format(sim), 'rb') as f:\n",
    "                model_results[sim]= dill.load(f)"
   ]
  },
  {
   "cell_type": "code",
   "execution_count": 435,
   "id": "bf0e9251-7e76-44cb-8f41-5f2481f5eb88",
   "metadata": {},
   "outputs": [],
   "source": [
    "with open(format_file_unknown.format(tanimoto_results_path), 'rb') as f:\n",
    "                tanimoto_results= dill.load(f)"
   ]
  },
  {
   "cell_type": "markdown",
   "id": "671c1986-6682-4368-9b00-dc635ed1e59c",
   "metadata": {},
   "source": [
    "## Get similarities of mod cosine"
   ]
  },
  {
   "cell_type": "code",
   "execution_count": 436,
   "id": "dec68f11-f880-45e9-8e69-6e083bce6536",
   "metadata": {},
   "outputs": [],
   "source": [
    "similarities_modcos=model_results['modified_cosine_casmi_NEURIPS']['similarities']"
   ]
  },
  {
   "cell_type": "markdown",
   "id": "b5c7dbe9-7fe1-459e-b283-f1f53afc132c",
   "metadata": {},
   "source": [
    "## Get similarities of simba"
   ]
  },
  {
   "cell_type": "code",
   "execution_count": 437,
   "id": "e79ca17d-1ff4-406e-952e-6ce0dc0ca813",
   "metadata": {},
   "outputs": [],
   "source": [
    "similarities_simba=model_results['simba_generated_data_20250130']['similarities']"
   ]
  },
  {
   "cell_type": "markdown",
   "id": "91b8b858-25a3-4473-af30-a086d48bb206",
   "metadata": {},
   "source": [
    "## Binarize modcos"
   ]
  },
  {
   "cell_type": "code",
   "execution_count": 438,
   "id": "a118f897-bbbd-4dea-bcbf-a4e9533be9c7",
   "metadata": {},
   "outputs": [],
   "source": [
    "similarities_modcos_bin =similarities_modcos.copy()\n",
    "condition= (similarities_modcos_bin>0.5)\n",
    "similarities_modcos_bin[condition]=1\n",
    "similarities_modcos_bin[~condition]=0"
   ]
  },
  {
   "cell_type": "code",
   "execution_count": 439,
   "id": "f8e831bf-7223-41b6-baae-91421226270f",
   "metadata": {},
   "outputs": [
    {
     "data": {
      "text/plain": [
       "(array([2.91868e+05, 2.25000e+04, 7.76900e+03, 3.54600e+03, 2.00400e+03,\n",
       "        5.38000e+02, 1.70000e+02, 1.13000e+02, 3.00000e+01, 1.70000e+01]),\n",
       " array([0.        , 0.07719464, 0.15438928, 0.23158392, 0.30877856,\n",
       "        0.3859732 , 0.46316784, 0.54036248, 0.61755712, 0.69475176,\n",
       "        0.7719464 ]),\n",
       " <BarContainer object of 10 artists>)"
      ]
     },
     "execution_count": 439,
     "metadata": {},
     "output_type": "execute_result"
    },
    {
     "data": {
      "image/png": "[encoded data removed]",
      "text/plain": [
       "<Figure size 640x480 with 1 Axes>"
      ]
     },
     "metadata": {},
     "output_type": "display_data"
    }
   ],
   "source": [
    "plt.hist(similarities_modcos[0])"
   ]
  },
  {
   "cell_type": "code",
   "execution_count": 440,
   "id": "07b043ca-1d25-4cad-81cd-3e38edb709ed",
   "metadata": {},
   "outputs": [
    {
     "data": {
      "text/plain": [
       "array([[0.45200347, 0.47218274, 0.52551628, ..., 0.02141498, 0.03519959,\n",
       "        0.13493936],\n",
       "       [0.7819117 , 0.76245682, 0.86796122, ..., 0.04501834, 0.07057875,\n",
       "        0.27617598],\n",
       "       [0.4859856 , 0.49757575, 0.5672901 , ..., 0.02798314, 0.03985634,\n",
       "        0.04034941],\n",
       "       ...,\n",
       "       [0.81886442, 0.85829161, 0.87645295, ..., 0.26237008, 0.25389661,\n",
       "        0.46974479],\n",
       "       [0.96469389, 0.9063901 , 0.93267185, ..., 0.55090015, 0.47238666,\n",
       "        0.42459558],\n",
       "       [0.85799638, 0.81676127, 0.7837531 , ..., 0.21549512, 0.18669629,\n",
       "        0.14232625]])"
      ]
     },
     "execution_count": 440,
     "metadata": {},
     "output_type": "execute_result"
    }
   ],
   "source": [
    "similarities_simba"
   ]
  },
  {
   "cell_type": "code",
   "execution_count": 441,
   "id": "bd973aa6-0a3d-4e18-ab39-a9e09285df28",
   "metadata": {},
   "outputs": [],
   "source": [
    "import numpy as np\n",
    "\n",
    "def compute_ranking(similarities1, similarities1_integer, similarities2_integer, max_value_2_int=1):\n",
    "    # Preallocate the ranking array with the same shape as similarities1.\n",
    "    ranking_total = np.zeros(similarities1.shape, dtype=int)\n",
    "    \n",
    "    # Process each row (or each set of values) individually.\n",
    "    for row_index, (row_sim, row_int, row_int2) in enumerate(zip(similarities1, similarities1_integer, similarities2_integer)):\n",
    "        # Use lexsort with a composite key:\n",
    "        #   - Primary: similarities1_integer (ascending)\n",
    "        #   - Secondary: similarities2_integer (ascending)\n",
    "        #   - Tertiary: similarities1 (descending, so use -row_sim)\n",
    "        #\n",
    "        # Note: np.lexsort uses the last key as the primary key.\n",
    "        sorted_indices = np.lexsort( ( row_sim, row_int2, row_int ) )\n",
    "        \n",
    "        # Now assign ranking values based on sorted order.\n",
    "        # Here the best (first in sorted_indices) gets rank 0,\n",
    "        # the next gets rank 1, etc.\n",
    "        ranking = np.empty_like(sorted_indices)\n",
    "        ranking[sorted_indices] = np.arange(len(row_sim))\n",
    "        \n",
    "        # Store the ranking for this row.\n",
    "        ranking_total[row_index] = ranking\n",
    "\n",
    "    #normalizing\n",
    "    ranking_total =ranking_total/ranking_total.shape[1]\n",
    "    return ranking_total"
   ]
  },
  {
   "cell_type": "code",
   "execution_count": 442,
   "id": "5f68308b-c5c5-446f-b4be-cdf4e47adc5f",
   "metadata": {},
   "outputs": [],
   "source": [
    "similarities1_integer=np.around(similarities_simba*40).astype(int)"
   ]
  },
  {
   "cell_type": "code",
   "execution_count": 443,
   "id": "4801ef3b-4b26-41a8-871a-b90cef830259",
   "metadata": {},
   "outputs": [],
   "source": [
    "ranking_total = compute_ranking(similarities_simba, similarities1_integer, similarities_modcos_bin)\n"
   ]
  },
  {
   "cell_type": "code",
   "execution_count": null,
   "id": "60a675dc-425a-42e1-a5e1-e6ab57991655",
   "metadata": {},
   "outputs": [],
   "source": []
  },
  {
   "cell_type": "code",
   "execution_count": 444,
   "id": "026ab147-4355-44f8-8a66-3deeddbc9519",
   "metadata": {},
   "outputs": [
    {
     "data": {
      "text/plain": [
       "array([[0.45200347, 0.4721797 , 0.52551628, ..., 0.02141498, 0.03519959,\n",
       "        0.13493936],\n",
       "       [0.78188127, 0.76242029, 0.86793688, ..., 0.04501529, 0.0705757 ,\n",
       "        0.27613337],\n",
       "       [0.48597039, 0.49757575, 0.56728402, ..., 0.02798314, 0.03985634,\n",
       "        0.04034941],\n",
       "       ...,\n",
       "       [0.81846266, 0.8573146 , 0.87546073, ..., 0.26140524, 0.25325745,\n",
       "        0.46935216],\n",
       "       [0.96465128, 0.90605226, 0.93204486, ..., 0.5506171 , 0.472201  ,\n",
       "        0.42438861],\n",
       "       [0.85783507, 0.81675519, 0.78371658, ..., 0.21549208, 0.18662629,\n",
       "        0.14230798]])"
      ]
     },
     "execution_count": 444,
     "metadata": {},
     "output_type": "execute_result"
    }
   ],
   "source": [
    "ranking_total"
   ]
  },
  {
   "cell_type": "code",
   "execution_count": 445,
   "id": "18b5a615-ced6-4b06-8b24-4fee878e2292",
   "metadata": {},
   "outputs": [],
   "source": [
    "results ={ 'smiles_janssen' : model_results['simba_generated_data_20250130']['smiles_janssen'], \n",
    "        'smiles_reference' : model_results['simba_generated_data_20250130']['smiles_reference'], \n",
    "        'mces_retrieved':None,\n",
    "          'similarities':ranking_total,\n",
    "         }\n",
    "with open('./notebooks/discovery_search/results/'+ 'simba_modcos' + '_results_analog_discovery_unknwon_compounds.pkl', 'wb') as f:\n",
    "    dill.dump(results, f)"
   ]
  },
  {
   "cell_type": "code",
   "execution_count": 446,
   "id": "c3ad862a-ed64-4f5e-bedb-5b0878b4c256",
   "metadata": {},
   "outputs": [
    {
     "data": {
      "text/plain": [
       "0.9999969563695577"
      ]
     },
     "execution_count": 446,
     "metadata": {},
     "output_type": "execute_result"
    }
   ],
   "source": [
    "np.max(ranking_total[0,:])"
   ]
  },
  {
   "cell_type": "code",
   "execution_count": 447,
   "id": "ae446e30-a2b1-472d-a83d-72931ecca276",
   "metadata": {},
   "outputs": [
    {
     "data": {
      "text/plain": [
       "84365"
      ]
     },
     "execution_count": 447,
     "metadata": {},
     "output_type": "execute_result"
    }
   ],
   "source": [
    "np.argmax(ranking_total[0,:])"
   ]
  },
  {
   "cell_type": "code",
   "execution_count": 448,
   "id": "85d013fd-c85e-4e72-832f-f36762ad80c2",
   "metadata": {},
   "outputs": [
    {
     "data": {
      "text/plain": [
       "920"
      ]
     },
     "execution_count": 448,
     "metadata": {},
     "output_type": "execute_result"
    }
   ],
   "source": [
    "np.argmin(ranking_total[0,:])"
   ]
  },
  {
   "cell_type": "code",
   "execution_count": 449,
   "id": "06330508-cf41-422f-bd81-fba72f98da6a",
   "metadata": {},
   "outputs": [
    {
     "data": {
      "text/plain": [
       "0.0"
      ]
     },
     "execution_count": 449,
     "metadata": {},
     "output_type": "execute_result"
    }
   ],
   "source": [
    "similarities_simba[0,920]"
   ]
  },
  {
   "cell_type": "code",
   "execution_count": 450,
   "id": "7db0ea57-a459-4dac-a163-8a6f889c3494",
   "metadata": {},
   "outputs": [
    {
     "data": {
      "text/plain": [
       "84365"
      ]
     },
     "execution_count": 450,
     "metadata": {},
     "output_type": "execute_result"
    }
   ],
   "source": [
    "np.argmax(similarities_simba[0,:])"
   ]
  },
  {
   "cell_type": "code",
   "execution_count": 451,
   "id": "e4c3d751-cfe7-475d-b6e3-11ccf6eae711",
   "metadata": {},
   "outputs": [
    {
     "data": {
      "text/plain": [
       "0.9991660452587847"
      ]
     },
     "execution_count": 451,
     "metadata": {},
     "output_type": "execute_result"
    }
   ],
   "source": [
    "similarities_simba[0,269444]"
   ]
  },
  {
   "cell_type": "code",
   "execution_count": 452,
   "id": "b2bc0fe2-6b53-4768-80bc-8feeb28de243",
   "metadata": {},
   "outputs": [
    {
     "data": {
      "text/plain": [
       "0.9999969563695577"
      ]
     },
     "execution_count": 452,
     "metadata": {},
     "output_type": "execute_result"
    }
   ],
   "source": [
    "similarities_simba[0,84365]"
   ]
  },
  {
   "cell_type": "code",
   "execution_count": 453,
   "id": "920a60db-7d4f-4d16-ac95-efcbc4b0ecbf",
   "metadata": {},
   "outputs": [
    {
     "data": {
      "text/plain": [
       "0.0"
      ]
     },
     "execution_count": 453,
     "metadata": {},
     "output_type": "execute_result"
    }
   ],
   "source": [
    "similarities_modcos_bin[0,269444]"
   ]
  },
  {
   "cell_type": "code",
   "execution_count": 454,
   "id": "c52e1943-bb8c-4cf3-b791-85abb57e3938",
   "metadata": {},
   "outputs": [
    {
     "data": {
      "text/plain": [
       "1.0"
      ]
     },
     "execution_count": 454,
     "metadata": {},
     "output_type": "execute_result"
    }
   ],
   "source": [
    "similarities_modcos_bin[0,84365]"
   ]
  },
  {
   "cell_type": "code",
   "execution_count": 455,
   "id": "69d05ff6-2486-4a9d-a9c2-70cd65e3abe3",
   "metadata": {},
   "outputs": [
    {
     "data": {
      "text/plain": [
       "40"
      ]
     },
     "execution_count": 455,
     "metadata": {},
     "output_type": "execute_result"
    }
   ],
   "source": [
    "similarities1_integer[0,84365]"
   ]
  },
  {
   "cell_type": "code",
   "execution_count": 456,
   "id": "db6e5ae6-4287-4e50-9ac0-b0d2eaae767c",
   "metadata": {},
   "outputs": [
    {
     "data": {
      "text/plain": [
       "40"
      ]
     },
     "execution_count": 456,
     "metadata": {},
     "output_type": "execute_result"
    }
   ],
   "source": [
    "similarities1_integer[0,269444]"
   ]
  },
  {
   "cell_type": "code",
   "execution_count": 457,
   "id": "7bf99af4-37ff-4ae3-95d9-7285c15efdb6",
   "metadata": {},
   "outputs": [
    {
     "ename": "NameError",
     "evalue": "name 'dsds' is not defined",
     "output_type": "error",
     "traceback": [
      "\u001b[0;31m---------------------------------------------------------------------------\u001b[0m",
      "\u001b[0;31mNameError\u001b[0m                                 Traceback (most recent call last)",
      "Cell \u001b[0;32mIn[457], line 1\u001b[0m\n\u001b[0;32m----> 1\u001b[0m dsds\n",
      "\u001b[0;31mNameError\u001b[0m: name 'dsds' is not defined"
     ]
    }
   ],
   "source": [
    "dsds"
   ]
  },
  {
   "cell_type": "code",
   "execution_count": null,
   "id": "ff78c1ba-3e3d-45de-bd23-2dd5c92792a4",
   "metadata": {},
   "outputs": [],
   "source": []
  },
  {
   "cell_type": "code",
   "execution_count": null,
   "id": "fc2b8896-5ba5-49af-bd1f-609e5c5b6e31",
   "metadata": {},
   "outputs": [],
   "source": []
  }
 ],
 "metadata": {
  "kernelspec": {
   "display_name": "Python 3 (ipykernel)",
   "language": "python",
   "name": "python3"
  },
  "language_info": {
   "codemirror_mode": {
    "name": "ipython",
    "version": 3
   },
   "file_extension": ".py",
   "mimetype": "text/x-python",
   "name": "python",
   "nbconvert_exporter": "python",
   "pygments_lexer": "ipython3",
   "version": "3.11.7"
  }
 },
 "nbformat": 4,
 "nbformat_minor": 5
}
