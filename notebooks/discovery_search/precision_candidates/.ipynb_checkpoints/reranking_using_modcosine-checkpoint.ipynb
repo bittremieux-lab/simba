{
 "cells": [
  {
   "cell_type": "code",
   "execution_count": 1,
   "id": "d7e8dd70-f297-42a0-add1-a131cbff8ca6",
   "metadata": {},
   "outputs": [],
   "source": [
    "%load_ext autoreload\n",
    "%autoreload 2"
   ]
  },
  {
   "cell_type": "code",
   "execution_count": 2,
   "id": "65a73134-8ebe-4ca5-bd69-e24f12b96b97",
   "metadata": {},
   "outputs": [],
   "source": [
    "## Load previous results of tanimoto similarities and simba results\n",
    "## based on the tanimoto similarities, retrieve the spectra that corresponds to the best candidate for each query\n",
    "## find if the best candidate is in the 10 first matches"
   ]
  },
  {
   "cell_type": "code",
   "execution_count": 3,
   "id": "bfcd0c2d-a094-4f74-b1eb-8b430487dc3e",
   "metadata": {},
   "outputs": [],
   "source": [
    "import os\n",
    "os.chdir('/Users/sebas/projects/metabolomics')\n",
    "os.environ[\"PYTORCH_ENABLE_MPS_FALLBACK\"] = \"1\""
   ]
  },
  {
   "cell_type": "code",
   "execution_count": 4,
   "id": "f54fe1e3-e9ae-4878-9ac4-e0ab46dfaf6b",
   "metadata": {},
   "outputs": [],
   "source": [
    "import dill\n",
    "from src.preprocessor import Preprocessor\n",
    "from src.load_data import LoadData\n",
    "from src.config import Config\n",
    "from rdkit import Chem\n",
    "import numpy as np"
   ]
  },
  {
   "cell_type": "markdown",
   "id": "890a2e21-08b6-4bad-9bda-aa83b37fc9ff",
   "metadata": {},
   "source": [
    "## Parameters"
   ]
  },
  {
   "cell_type": "code",
   "execution_count": 5,
   "id": "19a8613d-4f89-4aab-b988-904eeac8b4fe",
   "metadata": {},
   "outputs": [],
   "source": [
    "data_folder= '/Users/sebas/projects/data/'\n",
    "dataset_path= data_folder +'edit_distance_neurips_nist_exhaustive.pkl'\n",
    "output_janssen_file= data_folder + 'all_spectrums_janssen.pkl'\n",
    "casmi_file= data_folder + 'processed_massformer/spec_df.pkl' \n",
    "USE_CASMI=True\n",
    "USE_MCES_RAW=False"
   ]
  },
  {
   "cell_type": "code",
   "execution_count": 6,
   "id": "2b6a254d-ab96-45d1-a161-85cf56835f11",
   "metadata": {},
   "outputs": [],
   "source": [
    "similarities_files= [\n",
    "#'simba_EDIT_DISTANCE_MCES20_NEURIPS_20241115',\n",
    "#'simba_EDIT_DISTANCE_MCES20_NEURIPS_precursor_randomized',\n",
    "    'modified_cosine_casmi_NEURIPS',\n",
    "    'ms2deepscore_v2_casmi_NEURIPS',\n",
    "    #'simba_generated_data_20250126',\n",
    "    'simba_generated_data_20250130',\n",
    "'spec2vec_casmi_NEURIPS',\n",
    "                    ]\n",
    "\n",
    "#model_results_path='simba_EDIT_DISTANCE_MCES20_NEURIPS'\n",
    "#model_results_path='spec2vec_casmi_NEURIPS'\n",
    "#model_results_path='ms2deepscore_casmi_NEURIPS'"
   ]
  },
  {
   "cell_type": "code",
   "execution_count": 7,
   "id": "e60c5c7a-9ffa-41a2-ba10-2e516cb19aaf",
   "metadata": {},
   "outputs": [],
   "source": [
    "tanimoto_results_path = 'tanimoto_similarity_casmi_NEURIPS'"
   ]
  },
  {
   "cell_type": "code",
   "execution_count": 8,
   "id": "33a46d45-018b-449b-8831-8a8bf4618e0b",
   "metadata": {},
   "outputs": [],
   "source": [
    "format_file_unknown = \"./notebooks/discovery_search/results/{}_results_analog_discovery_unknwon_compounds.pkl\""
   ]
  },
  {
   "cell_type": "code",
   "execution_count": 9,
   "id": "05a49ee4-8d99-458d-9e43-b0c688d0936f",
   "metadata": {},
   "outputs": [],
   "source": [
    "config=Config()"
   ]
  },
  {
   "cell_type": "markdown",
   "id": "d376e63a-d207-4b2e-ac97-9a88cb5ff8d9",
   "metadata": {},
   "source": [
    "## Load reference dataset"
   ]
  },
  {
   "cell_type": "code",
   "execution_count": 10,
   "id": "0dabcad4-03a9-4a0e-9093-bd5fbc40093a",
   "metadata": {},
   "outputs": [],
   "source": [
    "pp=Preprocessor()\n"
   ]
  },
  {
   "cell_type": "code",
   "execution_count": 11,
   "id": "9ac971a5-4e01-4e82-a2b1-0ad30a15af16",
   "metadata": {},
   "outputs": [],
   "source": [
    "with open(dataset_path, 'rb') as file:\n",
    "            dataset = dill.load(file)"
   ]
  },
  {
   "cell_type": "code",
   "execution_count": 12,
   "id": "f8f3a8f3-fe82-42f9-8289-f4b7ba929dbf",
   "metadata": {},
   "outputs": [],
   "source": [
    "all_spectrums_reference_original= dataset['molecule_pairs_train'].spectrums_original +\\\n",
    "                    dataset['molecule_pairs_val'].spectrums_original + \\\n",
    "                        dataset['molecule_pairs_test'].spectrums_original"
   ]
  },
  {
   "cell_type": "code",
   "execution_count": 13,
   "id": "64391704-c55e-4cb9-94c4-3d21a5030688",
   "metadata": {},
   "outputs": [],
   "source": [
    "import copy\n",
    "all_spectrums_reference_processed= [copy.deepcopy(s) for s in all_spectrums_reference_original]"
   ]
  },
  {
   "cell_type": "code",
   "execution_count": 14,
   "id": "78f46410-a644-42d9-a879-84e2cd3cc5cb",
   "metadata": {},
   "outputs": [],
   "source": [
    "all_spectrums_reference_processed = [pp.preprocess_spectrum(\n",
    "            s,\n",
    "            fragment_tol_mass=10,\n",
    "            fragment_tol_mode=\"ppm\",\n",
    "            min_intensity=0.01,\n",
    "            max_num_peaks=100,\n",
    "            scale_intensity=None,\n",
    "        ) for s in all_spectrums_reference_processed]\n",
    "    \n",
    "all_spectrums_reference = [s_original for s_original, s_processed in zip(all_spectrums_reference_original,all_spectrums_reference_processed) if len(s_processed.mz)>=6]"
   ]
  },
  {
   "cell_type": "markdown",
   "id": "4596f916-0dd0-4ae1-a714-25c77514bac7",
   "metadata": {},
   "source": [
    "## Load query spectra"
   ]
  },
  {
   "cell_type": "code",
   "execution_count": 15,
   "id": "f4acf51d-2546-4253-9987-3d328db2a961",
   "metadata": {},
   "outputs": [],
   "source": [
    "if USE_CASMI:\n",
    "    all_spectrums_janssen_original=LoadData.get_all_spectrums_casmi(\n",
    "        casmi_file,\n",
    "        config=config,\n",
    "    )\n",
    "else:\n",
    "    loader_saver = LoaderSaver(\n",
    "            block_size=100,\n",
    "            pickle_nist_path='',\n",
    "            pickle_gnps_path='',\n",
    "            pickle_janssen_path=output_janssen_file,\n",
    "        )\n",
    "    all_spectrums_janssen_original = loader_saver.get_all_spectrums(\n",
    "                janssen_path,\n",
    "                100000000,\n",
    "                use_tqdm=True,\n",
    "                use_nist=False,\n",
    "                config=config,\n",
    "                use_janssen=True,\n",
    "            )"
   ]
  },
  {
   "cell_type": "code",
   "execution_count": 16,
   "id": "0b0a8061-2dd2-4ca6-a0b2-7c4ce5cbd0f7",
   "metadata": {},
   "outputs": [],
   "source": [
    "all_spectrums_janssen_processed= [copy.deepcopy(s) for s in all_spectrums_janssen_original]"
   ]
  },
  {
   "cell_type": "code",
   "execution_count": 17,
   "id": "8cb4cb54-a478-45ee-b484-e53d31880f3e",
   "metadata": {},
   "outputs": [],
   "source": [
    "pp=Preprocessor()\n",
    "### remove extra peaks in janssen\n",
    "all_spectrums_janssen_processed = [pp.preprocess_spectrum(\n",
    "            s,\n",
    "            fragment_tol_mass=10,\n",
    "            fragment_tol_mode=\"ppm\",\n",
    "            min_intensity=0.01,\n",
    "            max_num_peaks=100,\n",
    "            scale_intensity=None,\n",
    "        ) for s in all_spectrums_janssen_processed]\n",
    "\n",
    "all_spectrums_janssen = [s_original for s_original, s_processed in zip(all_spectrums_janssen_original,all_spectrums_janssen_processed) if len(s_processed.mz)>=6]"
   ]
  },
  {
   "cell_type": "markdown",
   "id": "9e1f01fa-2f66-459b-9b61-3b2725682564",
   "metadata": {},
   "source": [
    "## Get only the spectra that is not present"
   ]
  },
  {
   "cell_type": "code",
   "execution_count": 18,
   "id": "d3dafdd0-da1b-466e-8320-6e9a9dc95257",
   "metadata": {},
   "outputs": [],
   "source": [
    "canon_smiles_reference = [Chem.CanonSmiles(s.smiles) for s in all_spectrums_reference]\n",
    "canon_smiles_janssen =   [Chem.CanonSmiles(s.smiles) for s in all_spectrums_janssen]\n",
    "janssen_indexes_in_ref= [i for i,s in enumerate(canon_smiles_janssen) if s in canon_smiles_reference]\n",
    "janssen_indexes_not_in_ref = [i for i,s in enumerate(canon_smiles_janssen) if s not in canon_smiles_reference]"
   ]
  },
  {
   "cell_type": "code",
   "execution_count": 19,
   "id": "f5188628-77f2-48b7-8fed-9f6cba59daeb",
   "metadata": {},
   "outputs": [
    {
     "data": {
      "text/plain": [
       "(26, 132)"
      ]
     },
     "execution_count": 19,
     "metadata": {},
     "output_type": "execute_result"
    }
   ],
   "source": [
    "len(janssen_indexes_in_ref),len(janssen_indexes_not_in_ref)"
   ]
  },
  {
   "cell_type": "code",
   "execution_count": 20,
   "id": "acc8a6dd-416f-459c-8350-393f727a710e",
   "metadata": {},
   "outputs": [],
   "source": [
    "all_spectrums_janssen = [all_spectrums_janssen[index] for index in janssen_indexes_not_in_ref]"
   ]
  },
  {
   "cell_type": "markdown",
   "id": "1715068a-ff84-4418-9c57-fd94c654455d",
   "metadata": {},
   "source": [
    "## Load similarity results"
   ]
  },
  {
   "cell_type": "markdown",
   "id": "3a57c88a-a1c1-4bdf-9c09-a2ebc302785e",
   "metadata": {},
   "source": [
    "## Load results for simba and spec2vec"
   ]
  },
  {
   "cell_type": "code",
   "execution_count": 21,
   "id": "0113f976-5e81-43a5-8d01-e96a469fe355",
   "metadata": {},
   "outputs": [],
   "source": [
    "model_results = {}\n",
    "for sim in similarities_files:\n",
    "    with open(format_file_unknown.format(sim), 'rb') as f:\n",
    "                model_results[sim]= dill.load(f)"
   ]
  },
  {
   "cell_type": "code",
   "execution_count": 22,
   "id": "bf0e9251-7e76-44cb-8f41-5f2481f5eb88",
   "metadata": {},
   "outputs": [],
   "source": [
    "with open(format_file_unknown.format(tanimoto_results_path), 'rb') as f:\n",
    "                tanimoto_results= dill.load(f)"
   ]
  },
  {
   "cell_type": "markdown",
   "id": "671c1986-6682-4368-9b00-dc635ed1e59c",
   "metadata": {},
   "source": [
    "## Get similarities of mod cosine"
   ]
  },
  {
   "cell_type": "code",
   "execution_count": 23,
   "id": "dec68f11-f880-45e9-8e69-6e083bce6536",
   "metadata": {},
   "outputs": [],
   "source": [
    "similarities_modcos=model_results['modified_cosine_casmi_NEURIPS']['similarities']"
   ]
  },
  {
   "cell_type": "markdown",
   "id": "b5c7dbe9-7fe1-459e-b283-f1f53afc132c",
   "metadata": {},
   "source": [
    "## Get similarities of simba"
   ]
  },
  {
   "cell_type": "code",
   "execution_count": 44,
   "id": "62696b0a-7733-43ab-adee-918e0f9a1ac1",
   "metadata": {},
   "outputs": [],
   "source": [
    "similarities_simba= model_results['simba_generated_data_20250130']['similarities']"
   ]
  },
  {
   "cell_type": "code",
   "execution_count": 60,
   "id": "3c199d27-36cf-44ff-9e61-ae290bb51b84",
   "metadata": {},
   "outputs": [],
   "source": [
    "similarities_simba_integer = np.array((similarities_simba*40), dtype=np.int32)"
   ]
  },
  {
   "cell_type": "code",
   "execution_count": 24,
   "id": "e79ca17d-1ff4-406e-952e-6ce0dc0ca813",
   "metadata": {},
   "outputs": [],
   "source": [
    "# load the mces\n",
    "similarities1=model_results['simba_generated_data_20250130']['similarities1']\n",
    "similarities2=model_results['simba_generated_data_20250130']['similarities2']"
   ]
  },
  {
   "cell_type": "code",
   "execution_count": 25,
   "id": "92ef002b-c8d3-4773-a35a-be43bb557438",
   "metadata": {},
   "outputs": [],
   "source": [
    "similarities2_norm = np.argmax(similarities2, axis=2)/5"
   ]
  },
  {
   "cell_type": "code",
   "execution_count": 26,
   "id": "60b0ec8f-3329-4513-9332-d5b243730be7",
   "metadata": {},
   "outputs": [],
   "source": [
    "similarities2_integer = similarities2_norm*5"
   ]
  },
  {
   "cell_type": "code",
   "execution_count": 27,
   "id": "233208ea-bd56-4583-b484-23c3ef9e527e",
   "metadata": {},
   "outputs": [],
   "source": [
    "similarities1_integer = np.array((similarities1*40), dtype=np.int32)"
   ]
  },
  {
   "cell_type": "markdown",
   "id": "91b8b858-25a3-4473-af30-a086d48bb206",
   "metadata": {},
   "source": [
    "## Binarize modcos"
   ]
  },
  {
   "cell_type": "code",
   "execution_count": 28,
   "id": "a118f897-bbbd-4dea-bcbf-a4e9533be9c7",
   "metadata": {},
   "outputs": [],
   "source": [
    "similarities_modcos_bin =similarities_modcos.copy()\n",
    "condition= (similarities_modcos_bin>0.5)\n",
    "similarities_modcos_bin[condition]=1\n",
    "similarities_modcos_bin[~condition]=0"
   ]
  },
  {
   "cell_type": "code",
   "execution_count": 29,
   "id": "f8e831bf-7223-41b6-baae-91421226270f",
   "metadata": {},
   "outputs": [
    {
     "ename": "NameError",
     "evalue": "name 'plt' is not defined",
     "output_type": "error",
     "traceback": [
      "\u001b[0;31m---------------------------------------------------------------------------\u001b[0m",
      "\u001b[0;31mNameError\u001b[0m                                 Traceback (most recent call last)",
      "Cell \u001b[0;32mIn[29], line 1\u001b[0m\n\u001b[0;32m----> 1\u001b[0m plt\u001b[38;5;241m.\u001b[39mhist(similarities_modcos[\u001b[38;5;241m0\u001b[39m])\n",
      "\u001b[0;31mNameError\u001b[0m: name 'plt' is not defined"
     ]
    }
   ],
   "source": [
    "plt.hist(similarities_modcos[0])"
   ]
  },
  {
   "cell_type": "code",
   "execution_count": 32,
   "id": "07b043ca-1d25-4cad-81cd-3e38edb709ed",
   "metadata": {},
   "outputs": [
    {
     "data": {
      "text/plain": [
       "array([[0.12229509, 0.13228802, 0.1703687 , ..., 0.00555182, 0.00893946,\n",
       "        0.00569157],\n",
       "       [0.36447302, 0.35750628, 0.39829499, ..., 0.09419428, 0.10468589,\n",
       "        0.20606658],\n",
       "       [0.22454047, 0.22922032, 0.27092642, ..., 0.01546701, 0.02174977,\n",
       "        0.02201709],\n",
       "       ...,\n",
       "       [0.56217504, 0.58433819, 0.59804761, ..., 0.43300492, 0.43076649,\n",
       "        0.46994081],\n",
       "       [0.75193834, 0.69264817, 0.71157503, ..., 0.55995375, 0.54186875,\n",
       "        0.52859634],\n",
       "       [0.55429602, 0.52895939, 0.5171144 , ..., 0.40146884, 0.39670485,\n",
       "        0.38093945]])"
      ]
     },
     "execution_count": 32,
     "metadata": {},
     "output_type": "execute_result"
    }
   ],
   "source": [
    "similarities1"
   ]
  },
  {
   "cell_type": "code",
   "execution_count": 33,
   "id": "bd973aa6-0a3d-4e18-ab39-a9e09285df28",
   "metadata": {},
   "outputs": [],
   "source": [
    "import numpy as np\n",
    "\n",
    "def compute_ranking(similarities1, similarities1_integer, similarities2_integer, max_value_2_int=1):\n",
    "    # Preallocate the ranking array with the same shape as similarities1.\n",
    "    ranking_total = np.zeros(similarities1.shape, dtype=int)\n",
    "    \n",
    "    # Process each row (or each set of values) individually.\n",
    "    for row_index, (row_sim, row_int, row_int2) in enumerate(zip(similarities1, similarities1_integer, similarities2_integer)):\n",
    "        # Use lexsort with a composite key:\n",
    "        #   - Primary: similarities1_integer (ascending)\n",
    "        #   - Secondary: similarities2_integer (ascending)\n",
    "        #   - Tertiary: similarities1 (descending, so use -row_sim)\n",
    "        #\n",
    "        # Note: np.lexsort uses the last key as the primary key.\n",
    "        sorted_indices = np.lexsort( ( row_sim, row_int2, row_int ) )\n",
    "        \n",
    "        # Now assign ranking values based on sorted order.\n",
    "        # Here the best (first in sorted_indices) gets rank 0,\n",
    "        # the next gets rank 1, etc.\n",
    "        ranking = np.empty_like(sorted_indices)\n",
    "        ranking[sorted_indices] = np.arange(len(row_sim))\n",
    "        \n",
    "        # Store the ranking for this row.\n",
    "        ranking_total[row_index] = ranking\n",
    "\n",
    "    #normalizing\n",
    "    ranking_total =ranking_total/ranking_total.shape[1]\n",
    "    return ranking_total"
   ]
  },
  {
   "cell_type": "code",
   "execution_count": 34,
   "id": "3866586f-3870-4d90-bd5b-b4f590eebaf9",
   "metadata": {},
   "outputs": [],
   "source": [
    "import numpy as np\n",
    "\n",
    "def compute_ranking_3metrics(similarities1, similarities1_integer, similarities2_integer, modcosine, max_value_2_int=1):\n",
    "    # Preallocate the ranking array with the same shape as similarities1.\n",
    "    ranking_total = np.zeros(similarities1.shape, dtype=int)\n",
    "    \n",
    "    # Process each row (or each set of values) individually.\n",
    "    for row_index, (row_sim, row_int, row_int2, mod) in enumerate(zip(similarities1, similarities1_integer, similarities2_integer,modcosine)):\n",
    "        # Use lexsort with a composite key:\n",
    "        #   - Primary: similarities1_integer (ascending)\n",
    "        #   - Secondary: similarities2_integer (ascending)\n",
    "        #   - Tertiary: similarities1 (descending, so use -row_sim)\n",
    "        #\n",
    "        # Note: np.lexsort uses the last key as the primary key.\n",
    "        sorted_indices = np.lexsort( ( row_sim, mod, row_int2, row_int ) )\n",
    "        \n",
    "        # Now assign ranking values based on sorted order.\n",
    "        # Here the best (first in sorted_indices) gets rank 0,\n",
    "        # the next gets rank 1, etc.\n",
    "        ranking = np.empty_like(sorted_indices)\n",
    "        ranking[sorted_indices] = np.arange(len(row_sim))\n",
    "        \n",
    "        # Store the ranking for this row.\n",
    "        ranking_total[row_index] = ranking\n",
    "\n",
    "    #normalizing\n",
    "    ranking_total =ranking_total/ranking_total.shape[1]\n",
    "    return ranking_total"
   ]
  },
  {
   "cell_type": "code",
   "execution_count": 36,
   "id": "5f68308b-c5c5-446f-b4be-cdf4e47adc5f",
   "metadata": {},
   "outputs": [],
   "source": [
    "similarities1_integer=np.around(similarities1*40).astype(int)"
   ]
  },
  {
   "cell_type": "code",
   "execution_count": 61,
   "id": "4801ef3b-4b26-41a8-871a-b90cef830259",
   "metadata": {},
   "outputs": [],
   "source": [
    "#ranking_total = compute_ranking_3metrics(similarities_simba, similarities1_integer, similarities2_integer, similarities_modcos_bin)\n",
    "ranking_total = compute_ranking(similarities_simba, similarities_simba_integer, similarities_modcos_bin, )\n"
   ]
  },
  {
   "cell_type": "code",
   "execution_count": null,
   "id": "60a675dc-425a-42e1-a5e1-e6ab57991655",
   "metadata": {},
   "outputs": [],
   "source": []
  },
  {
   "cell_type": "code",
   "execution_count": 62,
   "id": "026ab147-4355-44f8-8a66-3deeddbc9519",
   "metadata": {},
   "outputs": [
    {
     "data": {
      "text/plain": [
       "array([[0.45200347, 0.4721797 , 0.52551628, ..., 0.02141498, 0.03519959,\n",
       "        0.13493936],\n",
       "       [0.78189953, 0.76243247, 0.86788818, ..., 0.04501225, 0.07053614,\n",
       "        0.27617598],\n",
       "       [0.48597039, 0.49756053, 0.5672688 , ..., 0.02798314, 0.03985634,\n",
       "        0.04034941],\n",
       "       ...,\n",
       "       [0.81779002, 0.85784115, 0.87632512, ..., 0.26188614, 0.25373834,\n",
       "        0.46877692],\n",
       "       [0.96445648, 0.90631097, 0.93250445, ..., 0.55088494, 0.47194229,\n",
       "        0.42426078],\n",
       "       [0.85792942, 0.81674301, 0.78373484, ..., 0.21545251, 0.18666281,\n",
       "        0.14226537]])"
      ]
     },
     "execution_count": 62,
     "metadata": {},
     "output_type": "execute_result"
    }
   ],
   "source": [
    "ranking_total"
   ]
  },
  {
   "cell_type": "code",
   "execution_count": 63,
   "id": "18b5a615-ced6-4b06-8b24-4fee878e2292",
   "metadata": {},
   "outputs": [],
   "source": [
    "results ={ 'smiles_janssen' : model_results['simba_generated_data_20250130']['smiles_janssen'], \n",
    "        'smiles_reference' : model_results['simba_generated_data_20250130']['smiles_reference'], \n",
    "        'mces_retrieved':None,\n",
    "          'similarities':ranking_total,\n",
    "         }\n",
    "with open('./notebooks/discovery_search/results/'+ 'simba_modcos' + '_results_analog_discovery_unknwon_compounds.pkl', 'wb') as f:\n",
    "    dill.dump(results, f)"
   ]
  },
  {
   "cell_type": "code",
   "execution_count": 64,
   "id": "c3ad862a-ed64-4f5e-bedb-5b0878b4c256",
   "metadata": {},
   "outputs": [
    {
     "data": {
      "text/plain": [
       "0.9999969563695577"
      ]
     },
     "execution_count": 64,
     "metadata": {},
     "output_type": "execute_result"
    }
   ],
   "source": [
    "np.max(ranking_total[0,:])"
   ]
  },
  {
   "cell_type": "code",
   "execution_count": 65,
   "id": "ae446e30-a2b1-472d-a83d-72931ecca276",
   "metadata": {},
   "outputs": [
    {
     "data": {
      "text/plain": [
       "84365"
      ]
     },
     "execution_count": 65,
     "metadata": {},
     "output_type": "execute_result"
    }
   ],
   "source": [
    "np.argmax(ranking_total[0,:])"
   ]
  },
  {
   "cell_type": "code",
   "execution_count": 66,
   "id": "85d013fd-c85e-4e72-832f-f36762ad80c2",
   "metadata": {},
   "outputs": [
    {
     "data": {
      "text/plain": [
       "920"
      ]
     },
     "execution_count": 66,
     "metadata": {},
     "output_type": "execute_result"
    }
   ],
   "source": [
    "np.argmin(ranking_total[0,:])"
   ]
  },
  {
   "cell_type": "code",
   "execution_count": 67,
   "id": "06330508-cf41-422f-bd81-fba72f98da6a",
   "metadata": {},
   "outputs": [
    {
     "data": {
      "text/plain": [
       "0.0"
      ]
     },
     "execution_count": 67,
     "metadata": {},
     "output_type": "execute_result"
    }
   ],
   "source": [
    "similarities_simba[0,920]"
   ]
  },
  {
   "cell_type": "code",
   "execution_count": 68,
   "id": "7db0ea57-a459-4dac-a163-8a6f889c3494",
   "metadata": {},
   "outputs": [
    {
     "data": {
      "text/plain": [
       "84365"
      ]
     },
     "execution_count": 68,
     "metadata": {},
     "output_type": "execute_result"
    }
   ],
   "source": [
    "np.argmax(similarities_simba[0,:])"
   ]
  },
  {
   "cell_type": "code",
   "execution_count": 69,
   "id": "e4c3d751-cfe7-475d-b6e3-11ccf6eae711",
   "metadata": {},
   "outputs": [
    {
     "data": {
      "text/plain": [
       "0.9991660452587847"
      ]
     },
     "execution_count": 69,
     "metadata": {},
     "output_type": "execute_result"
    }
   ],
   "source": [
    "similarities_simba[0,269444]"
   ]
  },
  {
   "cell_type": "code",
   "execution_count": 70,
   "id": "b2bc0fe2-6b53-4768-80bc-8feeb28de243",
   "metadata": {},
   "outputs": [
    {
     "data": {
      "text/plain": [
       "0.9999969563695577"
      ]
     },
     "execution_count": 70,
     "metadata": {},
     "output_type": "execute_result"
    }
   ],
   "source": [
    "similarities_simba[0,84365]"
   ]
  },
  {
   "cell_type": "code",
   "execution_count": 71,
   "id": "920a60db-7d4f-4d16-ac95-efcbc4b0ecbf",
   "metadata": {},
   "outputs": [
    {
     "data": {
      "text/plain": [
       "0.0"
      ]
     },
     "execution_count": 71,
     "metadata": {},
     "output_type": "execute_result"
    }
   ],
   "source": [
    "similarities_modcos_bin[0,269444]"
   ]
  },
  {
   "cell_type": "code",
   "execution_count": 72,
   "id": "c52e1943-bb8c-4cf3-b791-85abb57e3938",
   "metadata": {},
   "outputs": [
    {
     "data": {
      "text/plain": [
       "1.0"
      ]
     },
     "execution_count": 72,
     "metadata": {},
     "output_type": "execute_result"
    }
   ],
   "source": [
    "similarities_modcos_bin[0,84365]"
   ]
  },
  {
   "cell_type": "code",
   "execution_count": 73,
   "id": "69d05ff6-2486-4a9d-a9c2-70cd65e3abe3",
   "metadata": {},
   "outputs": [
    {
     "data": {
      "text/plain": [
       "40"
      ]
     },
     "execution_count": 73,
     "metadata": {},
     "output_type": "execute_result"
    }
   ],
   "source": [
    "similarities1_integer[0,84365]"
   ]
  },
  {
   "cell_type": "code",
   "execution_count": 74,
   "id": "db6e5ae6-4287-4e50-9ac0-b0d2eaae767c",
   "metadata": {},
   "outputs": [
    {
     "data": {
      "text/plain": [
       "40"
      ]
     },
     "execution_count": 74,
     "metadata": {},
     "output_type": "execute_result"
    }
   ],
   "source": [
    "similarities1_integer[0,269444]"
   ]
  },
  {
   "cell_type": "code",
   "execution_count": 75,
   "id": "7bf99af4-37ff-4ae3-95d9-7285c15efdb6",
   "metadata": {},
   "outputs": [
    {
     "ename": "NameError",
     "evalue": "name 'dsds' is not defined",
     "output_type": "error",
     "traceback": [
      "\u001b[0;31m---------------------------------------------------------------------------\u001b[0m",
      "\u001b[0;31mNameError\u001b[0m                                 Traceback (most recent call last)",
      "Cell \u001b[0;32mIn[75], line 1\u001b[0m\n\u001b[0;32m----> 1\u001b[0m dsds\n",
      "\u001b[0;31mNameError\u001b[0m: name 'dsds' is not defined"
     ]
    }
   ],
   "source": [
    "dsds"
   ]
  },
  {
   "cell_type": "code",
   "execution_count": null,
   "id": "ff78c1ba-3e3d-45de-bd23-2dd5c92792a4",
   "metadata": {},
   "outputs": [],
   "source": []
  },
  {
   "cell_type": "code",
   "execution_count": null,
   "id": "fc2b8896-5ba5-49af-bd1f-609e5c5b6e31",
   "metadata": {},
   "outputs": [],
   "source": []
  }
 ],
 "metadata": {
  "kernelspec": {
   "display_name": "Python 3 (ipykernel)",
   "language": "python",
   "name": "python3"
  },
  "language_info": {
   "codemirror_mode": {
    "name": "ipython",
    "version": 3
   },
   "file_extension": ".py",
   "mimetype": "text/x-python",
   "name": "python",
   "nbconvert_exporter": "python",
   "pygments_lexer": "ipython3",
   "version": "3.11.7"
  }
 },
 "nbformat": 4,
 "nbformat_minor": 5
}
