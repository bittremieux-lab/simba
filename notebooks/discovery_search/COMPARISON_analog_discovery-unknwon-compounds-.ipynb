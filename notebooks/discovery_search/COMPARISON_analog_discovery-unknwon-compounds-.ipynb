{
 "cells": [
  {
   "cell_type": "code",
   "execution_count": null,
   "id": "50360883-ed2c-41f8-becc-bec985aa0ce5",
   "metadata": {},
   "outputs": [],
   "source": [
    "%load_ext autoreload\n",
    "%autoreload 2"
   ]
  },
  {
   "cell_type": "code",
   "execution_count": null,
   "id": "de3f5b42-5255-45de-ae10-86d024fb5632",
   "metadata": {},
   "outputs": [],
   "source": [
    "import os\n",
    "os.chdir('/Users/sebas/projects/metabolomics')\n",
    "os.environ[\"PYTORCH_ENABLE_MPS_FALLBACK\"] = \"1\""
   ]
  },
  {
   "cell_type": "code",
   "execution_count": null,
   "id": "f3e98ba8-7bd9-4e48-90c9-72a24b94172c",
   "metadata": {},
   "outputs": [],
   "source": [
    "from src.transformers.sklearn_model import SklearnModel\n",
    "import gensim\n",
    "from src.load_data import LoadData\n",
    "from src.config import Config\n",
    "from tqdm import tqdm\n",
    "from src.loader_saver import LoaderSaver\n",
    "import itertools\n",
    "import numpy as np\n",
    "from scipy.stats import spearmanr\n",
    "import dill\n",
    "from src.plotting import Plotting\n",
    "from src.load_data import LoadData\n",
    "from src.molecule_pairs_opt import MoleculePairsOpt\n",
    "from sklearn.model_selection import train_test_split\n",
    "from src.train_utils import TrainUtils\n",
    "from src.preprocessor import Preprocessor\n",
    "import pickle\n",
    "import sys\n",
    "from src.config import Config\n",
    "from src.parser import Parser\n",
    "from datetime import datetime\n",
    "from src.loader_saver import LoaderSaver\n",
    "from src.molecular_pairs_set import MolecularPairsSet\n",
    "from scipy.stats import spearmanr\n",
    "from src.transformers.embedder import Embedder\n",
    "from src.transformers.encoder import Encoder\n",
    "import matplotlib.pyplot as plt\n",
    "from src.transformers.CustomDatasetEncoder import CustomDatasetEncoder\n",
    "from src.transformers.load_data_encoder import LoadDataEncoder\n",
    "from torch.utils.data import DataLoader\n",
    "from src.analog_discovery.cosine_similarity import CosineSimilarity\n",
    "from rdkit import Chem\n",
    "from matchms.importing import load_from_mgf,load_from_msp\n",
    "from matchms.similarity import ModifiedCosine\n",
    "from src.spec2vec_comparison import Spec2VecComparison\n",
    "from spec2vec import Spec2Vec\n",
    "import tensorflow as tf"
   ]
  },
  {
   "cell_type": "markdown",
   "id": "a52a9280-cfe5-41c0-bcea-d7bf7f951bb8",
   "metadata": {},
   "source": [
    "## params"
   ]
  },
  {
   "cell_type": "code",
   "execution_count": null,
   "id": "3ee60012-a0bf-41e9-9ae4-f275116eba59",
   "metadata": {},
   "outputs": [],
   "source": [
    "ls /Users/sebas/projects/data/"
   ]
  },
  {
   "cell_type": "code",
   "execution_count": null,
   "id": "510a6872-e306-4977-972d-73023876e21e",
   "metadata": {},
   "outputs": [],
   "source": [
    "data_folder= '/Users/sebas/projects/data/'\n",
    "gnps_path =  data_folder + 'ALL_GNPS_NO_PROPOGATED_wb.mgf'\n",
    "janssen_path = data_folder + 'drug_plus.mgf'\n",
    "nist_path = data_folder + 'hr_msms_nist_all.MSP'\n",
    "output_janssen_file= data_folder + 'all_spectrums_janssen.pkl'\n",
    "dataset_path= data_folder +'merged_gnps_nist_20240311_unique_smiles_1_million.pkl'\n",
    "model_path = data_folder + 'best_model_20240319_v2_512u_5_layers.ckpt'\n",
    "model_spec2vec_file = data_folder + 'spec2vec_AllPositive_ratio05_filtered_201101_iter_15.model'\n",
    "model_ms2d_file = data_folder + 'ms2deepscore_positive_10k_1000_1000_1000_500.hdf5'"
   ]
  },
  {
   "cell_type": "code",
   "execution_count": null,
   "id": "7d36a491-4178-416c-bb79-408dcbf6ac10",
   "metadata": {},
   "outputs": [],
   "source": [
    "config=Config()"
   ]
  },
  {
   "cell_type": "code",
   "execution_count": null,
   "id": "f0123044-37f8-4d2b-965a-4c13aaee7995",
   "metadata": {},
   "outputs": [],
   "source": [
    "config.D_MODEL=512\n",
    "config.N_LAYERS=5"
   ]
  },
  {
   "cell_type": "code",
   "execution_count": null,
   "id": "c15a2673-b6f1-4c58-9f5f-1e46f8ce586f",
   "metadata": {},
   "outputs": [],
   "source": [
    "similarity_name= 'spec2vec'"
   ]
  },
  {
   "cell_type": "markdown",
   "id": "fad919ec-2fe6-42fa-9c99-d4669bc95e27",
   "metadata": {},
   "source": [
    "## open janssen data"
   ]
  },
  {
   "cell_type": "code",
   "execution_count": null,
   "id": "f2793615-5a14-4daa-98ea-eca6d290abc0",
   "metadata": {},
   "outputs": [],
   "source": [
    "all_spectrums_janssen_matchms = [s for s in load_from_mgf(janssen_path)]"
   ]
  },
  {
   "cell_type": "code",
   "execution_count": null,
   "id": "5e70c91b-db9c-4cac-a78b-6a7329c56703",
   "metadata": {},
   "outputs": [],
   "source": [
    "loader_saver = LoaderSaver(\n",
    "        block_size=100,\n",
    "        pickle_nist_path='',\n",
    "        pickle_gnps_path='',\n",
    "        pickle_janssen_path=output_janssen_file,\n",
    "    )"
   ]
  },
  {
   "cell_type": "code",
   "execution_count": null,
   "id": "24f40386-b7af-42e7-9540-5b99d0e68576",
   "metadata": {},
   "outputs": [],
   "source": [
    "all_spectrums_janssen_su = loader_saver.get_all_spectrums(\n",
    "            janssen_path,\n",
    "            100000000,\n",
    "            use_tqdm=True,\n",
    "            use_nist=False,\n",
    "            config=config,\n",
    "            use_janssen=True,\n",
    "        )"
   ]
  },
  {
   "cell_type": "markdown",
   "id": "1fa5a533-cea8-4bcb-9c87-f47ec4ace92d",
   "metadata": {},
   "source": [
    "## open ref data"
   ]
  },
  {
   "cell_type": "code",
   "execution_count": null,
   "id": "6d34c412-b4ef-4828-a872-c288f1195ce2",
   "metadata": {},
   "outputs": [],
   "source": [
    "with open(dataset_path, 'rb') as file:\n",
    "            dataset = dill.load(file)"
   ]
  },
  {
   "cell_type": "code",
   "execution_count": null,
   "id": "d1504d75-c98c-4888-85a6-62f20f48b4ae",
   "metadata": {},
   "outputs": [],
   "source": [
    "all_spectrums_reference_su= dataset['molecule_pairs_train'].spectrums_original +\\\n",
    "                    dataset['molecule_pairs_val'].spectrums_original + \\\n",
    "                        dataset['molecule_pairs_test'].spectrums_original"
   ]
  },
  {
   "cell_type": "code",
   "execution_count": null,
   "id": "bf01e52f-0a11-4b3a-9b90-3741dd59a273",
   "metadata": {},
   "outputs": [],
   "source": [
    "all_spectrums_gnps_matchms = [s for s in load_from_mgf(gnps_path)]"
   ]
  },
  {
   "cell_type": "code",
   "execution_count": null,
   "id": "64379efd-bf07-4664-a38d-362ded97ec6c",
   "metadata": {},
   "outputs": [],
   "source": [
    "all_spectrums_nist_matchms=  [s for s in load_from_msp(nist_path)]"
   ]
  },
  {
   "cell_type": "code",
   "execution_count": null,
   "id": "14e7f9d8-e863-473b-9056-c62ecfd814da",
   "metadata": {},
   "outputs": [],
   "source": [
    "all_spectrums_reference_matchms = all_spectrums_gnps_matchms + all_spectrums_nist_matchms"
   ]
  },
  {
   "cell_type": "code",
   "execution_count": null,
   "id": "808a493a-5dfd-43c5-b329-4bdc5e85395e",
   "metadata": {},
   "outputs": [],
   "source": [
    "#compute all the hashes from the datasets\n",
    "target_hashes = [s.spectrum_hash for s in all_spectrums_reference_su]"
   ]
  },
  {
   "cell_type": "code",
   "execution_count": null,
   "id": "abc88a20-f238-4658-80a3-6df96fc2b2cf",
   "metadata": {},
   "outputs": [],
   "source": [
    "matchms_hashes=[]\n",
    "for s in  tqdm(all_spectrums_reference_matchms):\n",
    "    matchms_hashes.append(s.spectrum_hash())"
   ]
  },
  {
   "cell_type": "code",
   "execution_count": null,
   "id": "eb5fb6a8-7556-4b8e-a363-c14c1617cd41",
   "metadata": {},
   "outputs": [],
   "source": [
    "len(target_hashes)"
   ]
  },
  {
   "cell_type": "code",
   "execution_count": null,
   "id": "0fc0a79d-b4c6-42b9-8a2e-993cc1587182",
   "metadata": {},
   "outputs": [],
   "source": [
    "len(all_spectrums_reference_matchms)"
   ]
  },
  {
   "cell_type": "code",
   "execution_count": null,
   "id": "7a8b7758-d4dc-438d-8b2c-6811abddee20",
   "metadata": {},
   "outputs": [],
   "source": [
    "matchms_hashes.index(target_hashes[0])"
   ]
  },
  {
   "cell_type": "code",
   "execution_count": null,
   "id": "8e97101e-8c6e-4e01-aab0-0e8048e0a7c2",
   "metadata": {},
   "outputs": [],
   "source": [
    "indexes_matched = [matchms_hashes.index(t) for t in tqdm(target_hashes)]"
   ]
  },
  {
   "cell_type": "code",
   "execution_count": null,
   "id": "96eaf36f-2c36-42a4-bdfb-5a6dfeac3ec0",
   "metadata": {},
   "outputs": [],
   "source": [
    "all_spectrums_reference = [all_spectrums_reference_matchms[index] for index in indexes_matched]"
   ]
  },
  {
   "cell_type": "code",
   "execution_count": null,
   "id": "40d8f239-f53e-4fad-ac00-fc0a87b95d49",
   "metadata": {},
   "outputs": [],
   "source": [
    "for i,(s_ref, s_su) in enumerate(zip(all_spectrums_reference, all_spectrums_reference_su)):\n",
    "    new_metadata=s_ref.metadata.copy()\n",
    "    new_metadata['smiles']=s_su.smiles\n",
    "    all_spectrums_reference[i].metadata=new_metadata"
   ]
  },
  {
   "cell_type": "markdown",
   "id": "10396d09-0837-4e65-8122-84378bfdf4c2",
   "metadata": {},
   "source": [
    "## Filter spectra from Janssen"
   ]
  },
  {
   "cell_type": "code",
   "execution_count": null,
   "id": "d664f22d-5380-4288-9aa2-30cdc765a0c4",
   "metadata": {},
   "outputs": [],
   "source": [
    "su_hashes = [s.spectrum_hash for s in all_spectrums_janssen_su]"
   ]
  },
  {
   "cell_type": "code",
   "execution_count": null,
   "id": "4f87cabf-f995-4929-8688-9b0a1536af03",
   "metadata": {},
   "outputs": [],
   "source": [
    "all_spectrums_janssen = [s for s in all_spectrums_janssen_matchms if s.spectrum_hash() in su_hashes]"
   ]
  },
  {
   "cell_type": "markdown",
   "id": "89c2d2b2-aeae-4826-8286-26322fb47610",
   "metadata": {},
   "source": [
    "## Find those instances that are not in reference"
   ]
  },
  {
   "cell_type": "code",
   "execution_count": null,
   "id": "7de8a005-af76-4c82-bf45-38c6fe3843b5",
   "metadata": {},
   "outputs": [],
   "source": [
    "canon_smiles_reference = [Chem.CanonSmiles(s.metadata['smiles']) for s in all_spectrums_reference]\n",
    "canon_smiles_janssen =   [Chem.CanonSmiles(s.metadata['smiles']) for s in all_spectrums_janssen]\n",
    "janssen_indexes_in_ref= [i for i,s in enumerate(canon_smiles_janssen) if s in canon_smiles_reference]\n",
    "janssen_indexes_not_in_ref = [i for i,s in enumerate(canon_smiles_janssen) if s not in canon_smiles_reference]"
   ]
  },
  {
   "cell_type": "code",
   "execution_count": null,
   "id": "3d18b57d-2450-4dc1-9f2a-e038917ff873",
   "metadata": {},
   "outputs": [],
   "source": []
  },
  {
   "cell_type": "code",
   "execution_count": null,
   "id": "53bd924c-a799-4957-a5fd-89468054eb13",
   "metadata": {},
   "outputs": [],
   "source": [
    "len(janssen_indexes_in_ref),len(janssen_indexes_not_in_ref)"
   ]
  },
  {
   "cell_type": "code",
   "execution_count": null,
   "id": "d70eb35c-1693-4335-99f2-7440caaa4f2b",
   "metadata": {},
   "outputs": [],
   "source": [
    "all_spectrums_janssen = [all_spectrums_janssen[index] for index in janssen_indexes_not_in_ref]"
   ]
  },
  {
   "cell_type": "markdown",
   "id": "12a19c90-4a0f-4c3c-b7ab-ebff663145b6",
   "metadata": {},
   "source": [
    "## load model"
   ]
  },
  {
   "cell_type": "code",
   "execution_count": null,
   "id": "771cc734-7935-43d0-8805-044c72d29302",
   "metadata": {},
   "outputs": [],
   "source": [
    "#encoder= Encoder(model_path, D_MODEL=int(config.D_MODEL),N_LAYERS=int(config.N_LAYERS))"
   ]
  },
  {
   "cell_type": "code",
   "execution_count": null,
   "id": "844dbf2d-d501-4a28-bc83-b5d6eaa2b0a6",
   "metadata": {},
   "outputs": [],
   "source": [
    "#similarity_model =ModifiedCosine(tolerance=0.1)"
   ]
  },
  {
   "cell_type": "code",
   "execution_count": null,
   "id": "0891fdcd-f442-4b80-b6d1-3a3661806505",
   "metadata": {},
   "outputs": [],
   "source": [
    "if similarity_name=='spec2vec':\n",
    "    model = gensim.models.Word2Vec.load(model_spec2vec_file)\n",
    "    similarity_model= Spec2Vec(\n",
    "                model=model, intensity_weighting_power=0.5, allowed_missing_percentage=100.0\n",
    "            )\n",
    "    PREPROCESS_SPECTRUMS=True\n",
    "elif similarity_name=='modified_cosine':\n",
    "    similarity_model =ModifiedCosine(tolerance=0.1)\n",
    "    PREPROCESS_SPECTRUMS=True\n",
    "elif similarity_name == 'ms2deepscore':\n",
    "    model_ms2d = load_model(model_ms2d_file)\n",
    "    similarity_model= MS2DeepScore(model_ms2d)"
   ]
  },
  {
   "cell_type": "markdown",
   "id": "426cf10c-0bc2-4c7a-8e2e-19d5ee1a0168",
   "metadata": {},
   "source": [
    "## Preprocessed spectrums"
   ]
  },
  {
   "cell_type": "code",
   "execution_count": null,
   "id": "f3c0adaf-9d1b-485f-a416-98d60c3f6eec",
   "metadata": {},
   "outputs": [],
   "source": [
    "preprocessed_all_spectrums_janssen =all_spectrums_janssen.copy()\n",
    "if PREPROCESS_SPECTRUMS:\n",
    "    for i,s in tqdm(enumerate(preprocessed_all_spectrums_janssen)):\n",
    "        preprocessed_all_spectrums_janssen[i] = Spec2VecComparison.spectrum_processing(preprocessed_all_spectrums_janssen[i])\n",
    "preprocessed_all_spectrums_janssen = [s for s in preprocessed_all_spectrums_janssen if ((s is not None)and (s.metadata['precursor_mz']>0))]"
   ]
  },
  {
   "cell_type": "code",
   "execution_count": null,
   "id": "01e3e36b-86a6-4989-af7d-d1afa3cb6149",
   "metadata": {},
   "outputs": [],
   "source": [
    "preprocessed_all_spectrums_reference =all_spectrums_reference.copy()\n",
    "if PREPROCESS_SPECTRUMS:\n",
    "    for i,s in tqdm(enumerate(preprocessed_all_spectrums_reference)):\n",
    "        preprocessed_all_spectrums_reference[i] = Spec2VecComparison.spectrum_processing(preprocessed_all_spectrums_reference[i])\n",
    "preprocessed_all_spectrums_reference = [s for s in preprocessed_all_spectrums_reference if ((s is not None)and (s.metadata['precursor_mz']>0))]"
   ]
  },
  {
   "cell_type": "code",
   "execution_count": null,
   "id": "34a17659-6558-498e-b60e-769c00cff86e",
   "metadata": {},
   "outputs": [],
   "source": [
    "#with open('preprocessed_all_spectrums_reference.pkl', 'wb') as file:\n",
    "#        dictionary={'preprocessed_all_spectrums_reference':preprocessed_all_spectrums_reference}\n",
    "#        dill.dump(dictionary,file)\n",
    "\n",
    "#with open('preprocessed_all_spectrums_reference.pkl', 'rb') as file:\n",
    "#        preprocessed_all_spectrums_reference=dill.load(file)['preprocessed_all_spectrums_reference']"
   ]
  },
  {
   "cell_type": "markdown",
   "id": "b4c13f39-662b-4314-b593-3f5adcddd328",
   "metadata": {},
   "source": [
    "## compute similarities"
   ]
  },
  {
   "cell_type": "code",
   "execution_count": null,
   "id": "2df1c6ac-e275-4517-ab01-512df61b6d8e",
   "metadata": {},
   "outputs": [],
   "source": [
    "from matchms import calculate_scores\n",
    "if similarity_name != 'ms2deepscore':\n",
    "    results_scores = calculate_scores(\n",
    "                        preprocessed_all_spectrums_reference, preprocessed_all_spectrums_janssen, similarity_model\n",
    "                    )\n",
    "else:\n",
    "    with tf.device('/device:CPU:0'): #execute on cpu\n",
    "        results_scores = calculate_scores(\n",
    "                        preprocessed_all_spectrums_reference, preprocessed_all_spectrums_janssen, similarity_model\n",
    "                    )"
   ]
  },
  {
   "cell_type": "code",
   "execution_count": null,
   "id": "de2064a2-9af3-4bf7-be3c-6e3e9a48590c",
   "metadata": {},
   "outputs": [],
   "source": [
    "results_scores"
   ]
  },
  {
   "cell_type": "code",
   "execution_count": null,
   "id": "61a803fe-4ce1-42fe-b3e3-4d881f7feabe",
   "metadata": {},
   "outputs": [],
   "source": [
    "results_tuple = [results_scores.scores_by_query(s, name='Spec2Vec', sort=True)[0] for s in preprocessed_all_spectrums_janssen]\n",
    "spectrums_retrieved = [r[0] for r in results_tuple]\n",
    "max_sim = [r[1] for r in results_tuple]"
   ]
  },
  {
   "cell_type": "code",
   "execution_count": null,
   "id": "d122a763-2247-428b-871e-c52bb91604e4",
   "metadata": {},
   "outputs": [],
   "source": [
    "#spectrums_retrieved = [results_scores.scores_by_query(s, name='Spec2Vec', sort=True)[0][0] \\\n",
    "#                       for s in preprocessed_all_spectrums_janssen]"
   ]
  },
  {
   "cell_type": "code",
   "execution_count": null,
   "id": "92c6725f-79ff-441e-ac5a-bd7f1a46f055",
   "metadata": {},
   "outputs": [],
   "source": [
    "#max_sim = [results_scores.scores_by_query(s, name='Spec2Vec', sort=True)[0][1] \\\n",
    "#                       for s in preprocessed_all_spectrums_janssen]"
   ]
  },
  {
   "cell_type": "markdown",
   "id": "10770b07-9fc0-4743-8a02-ec51acae62f0",
   "metadata": {},
   "source": [
    "## Based on the similarities compute the similarity score of the match spectrum"
   ]
  },
  {
   "cell_type": "code",
   "execution_count": null,
   "id": "95ea77f5-a38d-41f4-a23b-75bbe83470ff",
   "metadata": {},
   "outputs": [],
   "source": [
    "smiles_retrieved = [s.metadata['smiles'] for s in spectrums_retrieved]"
   ]
  },
  {
   "cell_type": "code",
   "execution_count": null,
   "id": "9f09ef40-eb6c-484b-8899-9f9e7b9e67c8",
   "metadata": {},
   "outputs": [],
   "source": [
    "smiles_janssen = [s.metadata['smiles'] for s in preprocessed_all_spectrums_janssen]"
   ]
  },
  {
   "cell_type": "code",
   "execution_count": null,
   "id": "753f5d25-d9aa-4190-96e3-19a71cdf77d1",
   "metadata": {},
   "outputs": [],
   "source": [
    "from src.tanimoto import Tanimoto"
   ]
  },
  {
   "cell_type": "code",
   "execution_count": null,
   "id": "40fdfac3-6972-432a-a807-e17aebdad96b",
   "metadata": {},
   "outputs": [],
   "source": [
    "tanimoto_retrieved = [Tanimoto.compute_tanimoto_from_smiles(s0,s1) for s0, s1 in zip(smiles_janssen, smiles_retrieved)]"
   ]
  },
  {
   "cell_type": "code",
   "execution_count": null,
   "id": "5a6afeec-b1e1-44ba-a06a-3e2aec612be3",
   "metadata": {},
   "outputs": [],
   "source": [
    "_=plt.hist(max_sim, color='r',bins=10)\n",
    "plt.xlabel('maximum predicted similarity found')\n",
    "plt.ylabel('freq')\n",
    "plt.grid()"
   ]
  },
  {
   "cell_type": "code",
   "execution_count": null,
   "id": "13beae6c-e8d3-40ab-992e-7a2244673afc",
   "metadata": {},
   "outputs": [],
   "source": [
    "plt.hist(tanimoto_retrieved)\n",
    "plt.grid()\n",
    "plt.xlabel('tanimoto similarity with reference spectra')\n",
    "plt.ylabel('frequency')"
   ]
  },
  {
   "cell_type": "code",
   "execution_count": null,
   "id": "a37bed76-4da0-49c4-b024-b8a9ac96f38b",
   "metadata": {},
   "outputs": [],
   "source": [
    "tanimoto_retrieved= np.array(tanimoto_retrieved)"
   ]
  },
  {
   "cell_type": "code",
   "execution_count": null,
   "id": "3183bc8c-9459-46aa-a972-29ca176a9650",
   "metadata": {},
   "outputs": [],
   "source": [
    "plt.scatter(tanimoto_retrieved, max_sim, alpha=1)\n",
    "plt.xlim([0,1])\n",
    "plt.ylim([0,1])\n",
    "plt.ylabel('prediction')\n",
    "plt.xlabel('tanimoto')"
   ]
  },
  {
   "cell_type": "markdown",
   "id": "f8aad601-14f9-4efc-adc8-7883c3b492f3",
   "metadata": {},
   "source": [
    "## Check which is the spectra that has wrong predictions"
   ]
  },
  {
   "cell_type": "code",
   "execution_count": null,
   "id": "1470455f-571e-49d5-9485-f36796701be8",
   "metadata": {},
   "outputs": [],
   "source": [
    "from rdkit import Chem\n",
    "from rdkit.Chem import rdFMCS\n",
    "def calculate_mcs_similarity(smiles1, smiles2):\n",
    "    mol1 = Chem.MolFromSmiles(smiles1)\n",
    "    mol2 = Chem.MolFromSmiles(smiles2)\n",
    "    \n",
    "    # Perform MCS (Maximum Common Substructure) search\n",
    "    mcs = rdFMCS.FindMCS([mol1, mol2])\n",
    "\n",
    "    # Get SMARTS pattern from MCS result\n",
    "    mcs_smarts = Chem.MolToSmarts(mcs.queryMol)\n",
    "    \n",
    "    # Calculate Tanimoto-like similarity\n",
    "    mcs_mol = Chem.MolFromSmarts(mcs_smarts)\n",
    "    #mcs_count = len(Chem.GetMolFrags(mcs_mol))\n",
    "    mcs_count = mcs_mol.GetNumAtoms()\n",
    "    similarity = mcs_count / (mol1.GetNumAtoms() + mol2.GetNumAtoms() - mcs_count)\n",
    "\n",
    "    return similarity, mcs_mol\n",
    "from rdkit.Chem import rdRascalMCES\n",
    "def calculate_mces_sim(smiles1, smiles2, similarity_threshold=0.7):\n",
    "\n",
    "    ad1 = Chem.MolFromSmiles(smiles1)\n",
    "    ad2 = Chem.MolFromSmiles(smiles2)\n",
    "    opts = rdRascalMCES.RascalOptions()\n",
    "    opts.similarityThreshold = similarity_threshold\n",
    "    opts.returnEmptyMCES = True\n",
    "    results = rdRascalMCES.FindMCES(ad1, ad2, opts)\n",
    "    if len(results) != 0:\n",
    "        similarity_tier1= results[0].tier1Sim\n",
    "        similarity_tier2= results[0].tier2Sim\n",
    "    \n",
    "        if similarity_tier2 != -1:\n",
    "            return similarity_tier2 #if the lower threshold is not surpassed\n",
    "        else:\n",
    "            return similarity_tier1\n",
    "    else:\n",
    "        return None"
   ]
  },
  {
   "cell_type": "code",
   "execution_count": null,
   "id": "03870201-4941-418d-8b2e-e08f69c27e47",
   "metadata": {},
   "outputs": [],
   "source": []
  },
  {
   "cell_type": "code",
   "execution_count": null,
   "id": "d405ffe4-f4cd-4df5-a49b-9439fbcf4f04",
   "metadata": {},
   "outputs": [],
   "source": [
    "len(all_spectrums_janssen)"
   ]
  },
  {
   "cell_type": "code",
   "execution_count": null,
   "id": "3ff6bd6c-9199-40ff-bc76-bb1296d4e98e",
   "metadata": {},
   "outputs": [],
   "source": [
    "len(spectrums_retrieved)"
   ]
  },
  {
   "cell_type": "code",
   "execution_count": null,
   "id": "0b0bf307-da4f-42a7-ba11-311d75aa0865",
   "metadata": {},
   "outputs": [],
   "source": [
    "target_spectra=0"
   ]
  },
  {
   "cell_type": "code",
   "execution_count": null,
   "id": "77b18ecc-8bec-4091-82a6-1a74dfdd0fae",
   "metadata": {},
   "outputs": [],
   "source": [
    "len(max_sim)"
   ]
  },
  {
   "cell_type": "code",
   "execution_count": null,
   "id": "13a98ce5-1a45-4a2c-a423-97b807d3e215",
   "metadata": {},
   "outputs": [],
   "source": [
    "max_sim[target_spectra]"
   ]
  },
  {
   "cell_type": "code",
   "execution_count": null,
   "id": "d1ce5570-c5a5-411a-b20e-7f0704358880",
   "metadata": {},
   "outputs": [],
   "source": [
    "tanimoto_retrieved[target_spectra]"
   ]
  },
  {
   "cell_type": "code",
   "execution_count": null,
   "id": "d5571ff0-567b-4f3a-8898-5d27180e3278",
   "metadata": {},
   "outputs": [],
   "source": [
    "## mcs\n",
    "sim_mcs, mol_mcs=calculate_mcs_similarity(smiles1=all_spectrums_janssen[target_spectra].metadata['smiles'], \n",
    "                         smiles2=spectrums_retrieved[target_spectra].metadata['smiles'])\n",
    "sim_mcs"
   ]
  },
  {
   "cell_type": "code",
   "execution_count": null,
   "id": "99ff8444-6331-4d21-ae93-4f353c6751b4",
   "metadata": {},
   "outputs": [],
   "source": [
    "sim_mces = calculate_mces_sim(smiles1=all_spectrums_janssen[target_spectra].metadata['smiles'], \n",
    "                         smiles2=spectrums_retrieved[target_spectra].metadata['smiles'])\n",
    "sim_mces"
   ]
  },
  {
   "cell_type": "code",
   "execution_count": null,
   "id": "8d944cb2-8e18-454d-94c1-85534e1f9d78",
   "metadata": {},
   "outputs": [],
   "source": [
    "mol_mcs"
   ]
  },
  {
   "cell_type": "code",
   "execution_count": null,
   "id": "8607ab5f-5c67-4b06-b16b-37c675f2194c",
   "metadata": {},
   "outputs": [],
   "source": [
    "## plot the molecules"
   ]
  },
  {
   "cell_type": "code",
   "execution_count": null,
   "id": "d0a4fd81-70cc-4cc7-ace5-a29a9318e440",
   "metadata": {},
   "outputs": [],
   "source": [
    "Chem.CanonSmiles(all_spectrums_janssen[target_spectra].metadata['smiles'])"
   ]
  },
  {
   "cell_type": "code",
   "execution_count": null,
   "id": "29e85b2b-5ebc-43cf-a8ba-ffe094f17a6c",
   "metadata": {},
   "outputs": [],
   "source": [
    "from rdkit import Chem\n",
    "mol_janssen = Chem.MolFromSmiles(all_spectrums_janssen[target_spectra].metadata['smiles'])\n",
    "mol_janssen"
   ]
  },
  {
   "cell_type": "code",
   "execution_count": null,
   "id": "42fba35b-c830-4df4-87db-1ab791a91b05",
   "metadata": {},
   "outputs": [],
   "source": [
    "Chem.CanonSmiles(spectrums_retrieved[target_spectra].metadata['smiles'])"
   ]
  },
  {
   "cell_type": "code",
   "execution_count": null,
   "id": "4a836bcf-eb65-425d-81ec-cf98e327672f",
   "metadata": {},
   "outputs": [],
   "source": [
    "mol_ref = Chem.MolFromSmiles(spectrums_retrieved[target_spectra].metadata['smiles'])\n",
    "mol_ref"
   ]
  },
  {
   "cell_type": "markdown",
   "id": "9c36064c-68e3-4e17-b2f0-cbb25ae827e1",
   "metadata": {},
   "source": [
    "## FIND SIMILARITY BASED ON MCS"
   ]
  },
  {
   "cell_type": "code",
   "execution_count": null,
   "id": "a3fe5493-6322-44ef-8941-9205ed4e4785",
   "metadata": {},
   "outputs": [],
   "source": [
    "len(smiles_retrieved)"
   ]
  },
  {
   "cell_type": "code",
   "execution_count": null,
   "id": "0148a637-0fd2-432d-ab2c-38456f22f5d0",
   "metadata": {},
   "outputs": [],
   "source": [
    "len(smiles_janssen)"
   ]
  },
  {
   "cell_type": "code",
   "execution_count": null,
   "id": "05746be2-d9c8-40a3-b1da-4a9da89d2100",
   "metadata": {},
   "outputs": [],
   "source": [
    "mces_sims=[]\n",
    "for s0,s1 in tqdm(zip(smiles_janssen, smiles_retrieved)):\n",
    "    similarity= calculate_mces_sim(s0, s1)\n",
    "    mces_sims.append(similarity)"
   ]
  },
  {
   "cell_type": "code",
   "execution_count": null,
   "id": "9323bef9-643a-46e3-9cf1-8020585e8662",
   "metadata": {},
   "outputs": [],
   "source": [
    "# Specify the bin width\n",
    "bin_width = 0.1\n",
    "\n",
    "# Calculate the number of bins based on the data range and bin width\n",
    "bins = np.arange(0, 1 + bin_width, bin_width)"
   ]
  },
  {
   "cell_type": "code",
   "execution_count": null,
   "id": "c8158067-a3fa-4a2e-a3f3-2ef201c88842",
   "metadata": {},
   "outputs": [],
   "source": [
    "plt.hist(tanimoto_retrieved,alpha=0.5, label='tanimoto sim.', density=True, bins=bins)\n",
    "plt.hist([m for m in mces_sims if m is not None],alpha=0.5, label='mces sim.', density=True, bins=bins)\n",
    "plt.xlabel('similarity')\n",
    "plt.ylabel('density')\n",
    "plt.legend()\n",
    "plt.grid()"
   ]
  },
  {
   "cell_type": "markdown",
   "id": "eb8cc47c-a2c2-4e4d-8a43-fe8be1e2d413",
   "metadata": {},
   "source": [
    "## saving of results"
   ]
  },
  {
   "cell_type": "code",
   "execution_count": null,
   "id": "51fdc94d-7d86-4546-9d58-014169b58de9",
   "metadata": {},
   "outputs": [],
   "source": [
    "results ={ 'preprocessed_all_spectrums_janssen':preprocessed_all_spectrums_janssen,\n",
    "            'smiles_janssen':smiles_janssen,\n",
    "          'smiles_retrieved':smiles_retrieved,\n",
    "          'spectrums_retrieved':spectrums_retrieved,\n",
    "            'tanimoto_retrieved':tanimoto_retrieved,\n",
    "          'max_sim':max_sim,\n",
    "          'mces_retrieved':mces_sims}"
   ]
  },
  {
   "cell_type": "code",
   "execution_count": null,
   "id": "67a74478-1ebd-4954-a8d6-59207a488b9f",
   "metadata": {},
   "outputs": [],
   "source": [
    "with open('./notebooks/discovery_search/results/'+similarity_name + '_results_analog_discovery_unknwon_compounds.pkl', 'wb') as f:\n",
    "    dill.dump(results, f)"
   ]
  },
  {
   "cell_type": "code",
   "execution_count": null,
   "id": "5cf22c94-e188-4ec6-a97d-375acd5a72f2",
   "metadata": {},
   "outputs": [],
   "source": []
  }
 ],
 "metadata": {
  "kernelspec": {
   "display_name": "Python 3 (ipykernel)",
   "language": "python",
   "name": "python3"
  },
  "language_info": {
   "codemirror_mode": {
    "name": "ipython",
    "version": 3
   },
   "file_extension": ".py",
   "mimetype": "text/x-python",
   "name": "python",
   "nbconvert_exporter": "python",
   "pygments_lexer": "ipython3",
   "version": "3.11.7"
  }
 },
 "nbformat": 4,
 "nbformat_minor": 5
}
