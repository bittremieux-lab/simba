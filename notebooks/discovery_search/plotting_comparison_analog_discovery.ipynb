{
 "cells": [
  {
   "cell_type": "code",
   "execution_count": 4,
   "id": "b3342178-3d36-46af-b6a7-86a30ffdbffb",
   "metadata": {},
   "outputs": [],
   "source": [
    "%load_ext autoreload\n",
    "%autoreload 2"
   ]
  },
  {
   "cell_type": "code",
   "execution_count": 5,
   "id": "c779addf-0708-4413-9e00-4ad340ea516e",
   "metadata": {},
   "outputs": [],
   "source": [
    "import os\n",
    "os.chdir('/Users/sebas/projects/metabolomics')\n",
    "os.environ[\"PYTORCH_ENABLE_MPS_FALLBACK\"] = \"1\""
   ]
  },
  {
   "cell_type": "code",
   "execution_count": 6,
   "id": "98a11430-ce89-46c5-bee7-97156fa7d9c9",
   "metadata": {},
   "outputs": [],
   "source": [
    "import matplotlib.pyplot as plt\n",
    "import dill"
   ]
  },
  {
   "cell_type": "code",
   "execution_count": 7,
   "id": "28764a17-0300-40af-a033-bd207d5f4865",
   "metadata": {},
   "outputs": [
    {
     "name": "stdout",
     "output_type": "stream",
     "text": [
      "all_tanimoto_ms2deepscore.pkl\n",
      "modified_cosine_casmi_results_analog_discovery_unknwon_compounds.pkl\n",
      "modified_cosine_results_analog_discovery_unknwon_compounds.pkl\n",
      "ms2deepscore_casmi_results_analog_discovery_unknwon_compounds.pkl\n",
      "ms2deepscore_results_analog_discovery_unknwon_compounds.pkl\n",
      "simba_100_million_results_analog_discovery_unknwon_compounds.pkl\n",
      "simba_150_millions_results_analog_discovery_unknwon_compounds.pkl\n",
      "simba_2_results_analog_discovery_unknwon_compounds.pkl\n",
      "simba_casmi_100_million_results_analog_discovery_unknwon_compounds.pkl\n",
      "simba_casmi_1024_10_results_analog_discovery_unknwon_compounds.pkl\n",
      "simba_casmi_more_epochs_day3_results_analog_discovery_unknwon_compounds.pkl\n",
      "simba_casmi_more_epochs_results_analog_discovery_unknwon_compounds.pkl\n",
      "simba_casmi_new_preprocessing_results_analog_discovery_unknwon_compounds.pkl\n",
      "simba_casmi_results_analog_discovery_unknwon_compounds.pkl\n",
      "simba_exhaustive_128n_results_analog_discovery_unknwon_compounds.pkl\n",
      "simba_exhaustive_sampled_128n_results_analog_discovery_unknwon_compounds.pkl\n",
      "simba_more_epochs_day3_results_analog_discovery_unknwon_compounds.pkl\n",
      "simba_more_epochs_results_analog_discovery_unknwon_compounds.pkl\n",
      "simba_new_preprocessing_results_analog_discovery_unknwon_compounds.pkl\n",
      "simba_no_identity_results_analog_discovery_unknwon_compounds.pkl\n",
      "simba_no_sim1_10millions_results_analog_discovery_unknwon_compounds.pkl\n",
      "simba_no_sim1_results_analog_discovery_unknwon_compounds.pkl\n",
      "simba_not_bin_sim_1_10_million_results_analog_discovery_unknwon_compounds.pkl\n",
      "simba_not_bin_sim_1_1_million_results_analog_discovery_unknwon_compounds.pkl\n",
      "simba_pretrain_low_range_results_analog_discovery_unknwon_compounds.pkl\n",
      "simba_rebalance_results_analog_discovery_unknwon_compounds.pkl\n",
      "simba_results_analog_discovery_ranking.pkl\n",
      "simba_results_analog_discovery_unknwon_compounds.pkl\n",
      "spec2vec_casmi_results_analog_discovery_unknwon_compounds.pkl\n",
      "spec2vec_results_analog_discovery_ranking.pkl\n",
      "spec2vec_results_analog_discovery_unknwon_compounds.pkl\n",
      "tanimoto_similarity_casmi_results_analog_discovery_unknwon_compounds.pkl\n",
      "tanimoto_similarity_results_analog_discovery_unknwon_compounds.pkl\n"
     ]
    }
   ],
   "source": [
    "ls ./notebooks/discovery_search/results"
   ]
  },
  {
   "cell_type": "code",
   "execution_count": 8,
   "id": "90b0e25d-c186-408e-a86b-195cf6cf4ea4",
   "metadata": {},
   "outputs": [],
   "source": [
    "format_file_unknown = \"./notebooks/discovery_search/results/{}_results_analog_discovery_unknwon_compounds.pkl\"\n",
    "format_file_rankings = \"./notebooks/discovery_search/results/{}_results_analog_discovery_ranking.pkl\""
   ]
  },
  {
   "cell_type": "code",
   "execution_count": 27,
   "id": "5dd60503-6255-4c9c-954e-8b9bf51bd8a8",
   "metadata": {},
   "outputs": [],
   "source": [
    "similarity_names= ['tanimoto_similarity',\n",
    "                   'spec2vec',\n",
    "                   #'simba',\n",
    "                   #'simba_100_million',\n",
    "                   'simba_more_epochs_day3',\n",
    "                   #'simba_150_millions',\n",
    "                   # 'simba_new_preprocessing',\n",
    "                   #'simba_exhaustive_128n',\n",
    "                   'simba_exhaustive_sampled_128n',\n",
    "                   'simba_exhaustive_sampled_128n_with_pretrained',\n",
    "                   #'ms2deepscore',\n",
    "                   #'modified_cosine',\n",
    "                   #'tanimoto_similarity_casmi',\n",
    "                   #'spec2vec_casmi',\n",
    "                   #'simba_casmi_more_epochs_day3',\n",
    "                   # 'simba_casmi_new_preprocessing',\n",
    "                   # 'ms2deepscore_casmi',\n",
    "                   #'simba_no_sim1_10millions',\n",
    "                   #'simba_pretrain_low_range',\n",
    "                   #'simba_2',\n",
    "                   #'simba_not_bin_sim_1_10_million',\n",
    "                   #'simba_no_identity',\n",
    "                   ]"
   ]
  },
  {
   "cell_type": "markdown",
   "id": "69a4d0c3-3983-49bd-8afe-c134e99f1687",
   "metadata": {},
   "source": [
    "## unknown compounds"
   ]
  },
  {
   "cell_type": "code",
   "execution_count": 28,
   "id": "14efebd1-7d2b-4f41-8959-51b32ad5e2a3",
   "metadata": {},
   "outputs": [],
   "source": [
    "results_unknown={}\n",
    "for s in similarity_names:\n",
    "    file_path = format_file_unknown.format(s)\n",
    "    with open(file_path, 'rb') as f:\n",
    "        results_unknown[s] = dill.load(f)"
   ]
  },
  {
   "cell_type": "code",
   "execution_count": 29,
   "id": "df49f482-4e00-4c30-bece-7ea516411a08",
   "metadata": {},
   "outputs": [],
   "source": [
    "## plot mces"
   ]
  },
  {
   "cell_type": "code",
   "execution_count": null,
   "id": "004834db-721c-4a08-8a62-7dc1a5cf258f",
   "metadata": {},
   "outputs": [],
   "source": []
  },
  {
   "cell_type": "code",
   "execution_count": 30,
   "id": "b643b91f-c246-4e51-ad2a-aee58b7d6a8d",
   "metadata": {},
   "outputs": [],
   "source": [
    "# Create a box plot\n",
    "tani_list=[]\n",
    "mces_list=[]\n",
    "labels_list=[]\n",
    "for s in similarity_names:\n",
    "    labels_list.append(s)\n",
    "    tani= [m for m in results_unknown[s]['tanimoto_retrieved'] if m is not None]\n",
    "    mces= [m for m in results_unknown[s]['mces_retrieved'] if m is not None]\n",
    "    tani_list.append(tani)\n",
    "    mces_list.append(mces)"
   ]
  },
  {
   "cell_type": "code",
   "execution_count": 51,
   "id": "c339a986-d2f5-4650-a9c3-8a36e2569294",
   "metadata": {},
   "outputs": [
    {
     "data": {
      "image/png": "[encoded data removed]",
      "text/plain": [
       "<Figure size 1200x500 with 1 Axes>"
      ]
     },
     "metadata": {},
     "output_type": "display_data"
    }
   ],
   "source": [
    "plt.figure(figsize=(12,5))\n",
    "#plt.boxplot(tani_list, labels=similarity_names)\n",
    "plt.boxplot(tani_list, labels=['optimal', 'spec2vec','SIMBA_50_million_pairs', 'SIMBA exhaustive', 'SIMBA exhaustive sampled'])\n",
    "#plt.boxplot(tani_list, labels=['tanimoto', 'spec2vec', 'simba','ms2deepscore',''])\n",
    "#plt.boxplot(, labels=labels_list)\n",
    "\n",
    "plt.ylim([0,1.1])\n",
    "plt.ylabel('Tanimoto Similarity')\n",
    "plt.title('')\n",
    "plt.grid()"
   ]
  },
  {
   "cell_type": "code",
   "execution_count": 26,
   "id": "e4cdd018-cc83-41a2-8863-a9d7c109440a",
   "metadata": {},
   "outputs": [
    {
     "data": {
      "image/png": "[encoded data removed]",
      "text/plain": [
       "<Figure size 1000x500 with 1 Axes>"
      ]
     },
     "metadata": {},
     "output_type": "display_data"
    }
   ],
   "source": [
    "plt.figure(figsize=(10,5))\n",
    "plt.boxplot(mces_list, labels=similarity_names)\n",
    "#plt.boxplot(, labels=labels_list)\n",
    "\n",
    "plt.ylim([0,1.1])\n",
    "plt.ylabel('MECS Similarity')\n",
    "plt.title('')\n",
    "plt.grid()"
   ]
  },
  {
   "cell_type": "markdown",
   "id": "e2ebfcab-2f3e-4c93-bd2d-dc74cd3bb17e",
   "metadata": {},
   "source": [
    "## Rankings"
   ]
  },
  {
   "cell_type": "code",
   "execution_count": 53,
   "id": "1d0d6201-d8f6-4fbf-b653-3fe82f05406b",
   "metadata": {},
   "outputs": [
    {
     "ename": "FileNotFoundError",
     "evalue": "[Errno 2] No such file or directory: './notebooks/discovery_search/results/tanimoto_similarity_results_analog_discovery_ranking.pkl'",
     "output_type": "error",
     "traceback": [
      "\u001b[0;31m---------------------------------------------------------------------------\u001b[0m",
      "\u001b[0;31mFileNotFoundError\u001b[0m                         Traceback (most recent call last)",
      "Cell \u001b[0;32mIn[53], line 4\u001b[0m\n\u001b[1;32m      2\u001b[0m \u001b[38;5;28;01mfor\u001b[39;00m s \u001b[38;5;129;01min\u001b[39;00m similarity_names:\n\u001b[1;32m      3\u001b[0m     file_path \u001b[38;5;241m=\u001b[39m format_file_rankings\u001b[38;5;241m.\u001b[39mformat(s)\n\u001b[0;32m----> 4\u001b[0m     \u001b[38;5;28;01mwith\u001b[39;00m \u001b[38;5;28mopen\u001b[39m(file_path, \u001b[38;5;124m'\u001b[39m\u001b[38;5;124mrb\u001b[39m\u001b[38;5;124m'\u001b[39m) \u001b[38;5;28;01mas\u001b[39;00m f:\n\u001b[1;32m      5\u001b[0m         results_rankings[s] \u001b[38;5;241m=\u001b[39m dill\u001b[38;5;241m.\u001b[39mload(f)\n",
      "File \u001b[0;32m~/miniconda3/envs/transformers/lib/python3.11/site-packages/IPython/core/interactiveshell.py:310\u001b[0m, in \u001b[0;36m_modified_open\u001b[0;34m(file, *args, **kwargs)\u001b[0m\n\u001b[1;32m    303\u001b[0m \u001b[38;5;28;01mif\u001b[39;00m file \u001b[38;5;129;01min\u001b[39;00m {\u001b[38;5;241m0\u001b[39m, \u001b[38;5;241m1\u001b[39m, \u001b[38;5;241m2\u001b[39m}:\n\u001b[1;32m    304\u001b[0m     \u001b[38;5;28;01mraise\u001b[39;00m \u001b[38;5;167;01mValueError\u001b[39;00m(\n\u001b[1;32m    305\u001b[0m         \u001b[38;5;124mf\u001b[39m\u001b[38;5;124m\"\u001b[39m\u001b[38;5;124mIPython won\u001b[39m\u001b[38;5;124m'\u001b[39m\u001b[38;5;124mt let you open fd=\u001b[39m\u001b[38;5;132;01m{\u001b[39;00mfile\u001b[38;5;132;01m}\u001b[39;00m\u001b[38;5;124m by default \u001b[39m\u001b[38;5;124m\"\u001b[39m\n\u001b[1;32m    306\u001b[0m         \u001b[38;5;124m\"\u001b[39m\u001b[38;5;124mas it is likely to crash IPython. If you know what you are doing, \u001b[39m\u001b[38;5;124m\"\u001b[39m\n\u001b[1;32m    307\u001b[0m         \u001b[38;5;124m\"\u001b[39m\u001b[38;5;124myou can use builtins\u001b[39m\u001b[38;5;124m'\u001b[39m\u001b[38;5;124m open.\u001b[39m\u001b[38;5;124m\"\u001b[39m\n\u001b[1;32m    308\u001b[0m     )\n\u001b[0;32m--> 310\u001b[0m \u001b[38;5;28;01mreturn\u001b[39;00m io_open(file, \u001b[38;5;241m*\u001b[39margs, \u001b[38;5;241m*\u001b[39m\u001b[38;5;241m*\u001b[39mkwargs)\n",
      "\u001b[0;31mFileNotFoundError\u001b[0m: [Errno 2] No such file or directory: './notebooks/discovery_search/results/tanimoto_similarity_results_analog_discovery_ranking.pkl'"
     ]
    }
   ],
   "source": [
    "results_rankings={}\n",
    "for s in similarity_names:\n",
    "    file_path = format_file_rankings.format(s)\n",
    "    with open(file_path, 'rb') as f:\n",
    "        results_rankings[s] = dill.load(f)"
   ]
  },
  {
   "cell_type": "code",
   "execution_count": null,
   "id": "06c63ff0-801d-4757-a481-a3aed6f875c1",
   "metadata": {},
   "outputs": [],
   "source": []
  },
  {
   "cell_type": "code",
   "execution_count": null,
   "id": "169cc213-4d21-45d0-85e9-eb4a3c76ddba",
   "metadata": {},
   "outputs": [],
   "source": [
    "for s in similarity_names:\n",
    "    plt.plot(results_rankings[s]['rankings_x'], results_rankings[s]['rankings_y'], marker='*', label=s)\n",
    "plt.xlabel('k')\n",
    "plt.ylabel('accuracy')\n",
    "#plt.ylim([0,1])\n",
    "plt.grid()\n",
    "plt.legend()"
   ]
  },
  {
   "cell_type": "code",
   "execution_count": null,
   "id": "e7eb79ad-be10-41a0-aedb-8794237221db",
   "metadata": {},
   "outputs": [],
   "source": []
  },
  {
   "cell_type": "code",
   "execution_count": null,
   "id": "8a695709-8e30-40c5-b55e-5c49d1009d64",
   "metadata": {},
   "outputs": [],
   "source": []
  },
  {
   "cell_type": "code",
   "execution_count": 88,
   "id": "48fd2ee9-6f2d-4eb6-9eed-2054340397b5",
   "metadata": {},
   "outputs": [
    {
     "data": {
      "text/plain": [
       "261349.0"
      ]
     },
     "execution_count": 88,
     "metadata": {},
     "output_type": "execute_result"
    }
   ],
   "source": [
    "68303299801**0.5"
   ]
  },
  {
   "cell_type": "code",
   "execution_count": 93,
   "id": "779a2a23-1d1d-42ea-97a8-899fe1a789be",
   "metadata": {},
   "outputs": [],
   "source": [
    "import numpy as np\n",
    "a=np.zeros((3, 3), dtype=np.float16)"
   ]
  },
  {
   "cell_type": "code",
   "execution_count": 94,
   "id": "7ef56896-14b1-495d-a9ff-9717fc44b467",
   "metadata": {},
   "outputs": [
    {
     "data": {
      "text/plain": [
       "array([[0., 0., 0.],\n",
       "       [0., 0., 0.],\n",
       "       [0., 0., 0.]], dtype=float16)"
      ]
     },
     "execution_count": 94,
     "metadata": {},
     "output_type": "execute_result"
    }
   ],
   "source": [
    "a"
   ]
  },
  {
   "cell_type": "code",
   "execution_count": 95,
   "id": "01228a42-32d2-4eec-abb8-f5cd5c6b9764",
   "metadata": {},
   "outputs": [],
   "source": [
    "a[0,0]=1"
   ]
  },
  {
   "cell_type": "code",
   "execution_count": 96,
   "id": "391b6c26-1351-46ac-99af-390ef84ddcb8",
   "metadata": {},
   "outputs": [
    {
     "data": {
      "text/plain": [
       "array([[1., 0., 0.],\n",
       "       [0., 0., 0.],\n",
       "       [0., 0., 0.]], dtype=float16)"
      ]
     },
     "execution_count": 96,
     "metadata": {},
     "output_type": "execute_result"
    }
   ],
   "source": [
    "a"
   ]
  },
  {
   "cell_type": "code",
   "execution_count": 97,
   "id": "cb9ceadf-99a7-4fa2-8cc3-756504659519",
   "metadata": {},
   "outputs": [],
   "source": [
    "a[1,1]=666"
   ]
  },
  {
   "cell_type": "code",
   "execution_count": 98,
   "id": "c82ee9ca-1fab-4fc9-b7ef-c8c420215a52",
   "metadata": {},
   "outputs": [
    {
     "data": {
      "text/plain": [
       "array([[  1.,   0.,   0.],\n",
       "       [  0., 666.,   0.],\n",
       "       [  0.,   0.,   0.]], dtype=float16)"
      ]
     },
     "execution_count": 98,
     "metadata": {},
     "output_type": "execute_result"
    }
   ],
   "source": [
    "a"
   ]
  },
  {
   "cell_type": "code",
   "execution_count": 138,
   "id": "2bee1d5d-0d14-43d0-bfd9-a1e0c6d9d094",
   "metadata": {},
   "outputs": [
    {
     "name": "stdout",
     "output_type": "stream",
     "text": [
      "3\n",
      "3\n",
      "3\n"
     ]
    }
   ],
   "source": [
    "from torch.utils.data import WeightedRandomSampler\n",
    "\n",
    "weights_tr = [0.1, 0.2, 0.3, 0.4]  # Some weights\n",
    "\n",
    "train_sampler = WeightedRandomSampler(\n",
    "    weights=weights_tr, num_samples=3, replacement=True\n",
    ")\n",
    "\n",
    "# Now, if you delete weights_tr\n",
    "del weights_tr\n",
    "\n",
    "# It will not affect train_sampler\n",
    "for index in train_sampler:\n",
    "    print(index)"
   ]
  },
  {
   "cell_type": "code",
   "execution_count": 45,
   "id": "587e6972-6ada-4efd-8059-b05f40ea8ae9",
   "metadata": {},
   "outputs": [],
   "source": [
    "freq=[192235192,\n",
    "381735986,\n",
    "191719062,\n",
    "71400948,\n",
    "25104550,\n",
    "7324840,\n",
    "1996170,\n",
    "635518,\n",
    "265134,\n",
    "194200]\n",
    "import numpy as np\n",
    "ranges= np.arange(0,10)"
   ]
  },
  {
   "cell_type": "code",
   "execution_count": 46,
   "id": "d606bf28-2570-4688-8fd9-fe091f2e4e2e",
   "metadata": {},
   "outputs": [],
   "source": [
    "#ranges=ranges*0.1"
   ]
  },
  {
   "cell_type": "code",
   "execution_count": 50,
   "id": "64c60346-8c42-435a-864c-f382b468665e",
   "metadata": {},
   "outputs": [
    {
     "data": {
      "text/plain": [
       "Text(0, 0.5, 'freq')"
      ]
     },
     "execution_count": 50,
     "metadata": {},
     "output_type": "execute_result"
    },
    {
     "data": {
      "image/png": "[encoded data removed]",
      "text/plain": [
       "<Figure size 640x480 with 1 Axes>"
      ]
     },
     "metadata": {},
     "output_type": "display_data"
    }
   ],
   "source": [
    "plt.bar(ranges, freq)\n",
    "plt.xlabel('bin')\n",
    "plt.grid()\n",
    "plt.ylabel('freq')"
   ]
  },
  {
   "cell_type": "code",
   "execution_count": null,
   "id": "a6e87342-0f5c-4d0b-b8ed-29cf39ae27d9",
   "metadata": {},
   "outputs": [],
   "source": []
  }
 ],
 "metadata": {
  "kernelspec": {
   "display_name": "Python 3 (ipykernel)",
   "language": "python",
   "name": "python3"
  },
  "language_info": {
   "codemirror_mode": {
    "name": "ipython",
    "version": 3
   },
   "file_extension": ".py",
   "mimetype": "text/x-python",
   "name": "python",
   "nbconvert_exporter": "python",
   "pygments_lexer": "ipython3",
   "version": "3.11.7"
  }
 },
 "nbformat": 4,
 "nbformat_minor": 5
}
