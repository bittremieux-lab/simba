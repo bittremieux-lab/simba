{
 "cells": [
  {
   "cell_type": "code",
   "execution_count": 19,
   "id": "b3342178-3d36-46af-b6a7-86a30ffdbffb",
   "metadata": {},
   "outputs": [
    {
     "name": "stdout",
     "output_type": "stream",
     "text": [
      "The autoreload extension is already loaded. To reload it, use:\n",
      "  %reload_ext autoreload\n"
     ]
    }
   ],
   "source": [
    "%load_ext autoreload\n",
    "%autoreload 2"
   ]
  },
  {
   "cell_type": "code",
   "execution_count": 20,
   "id": "c779addf-0708-4413-9e00-4ad340ea516e",
   "metadata": {},
   "outputs": [],
   "source": [
    "import os\n",
    "os.chdir('/Users/sebas/projects/metabolomics')\n",
    "os.environ[\"PYTORCH_ENABLE_MPS_FALLBACK\"] = \"1\""
   ]
  },
  {
   "cell_type": "code",
   "execution_count": 21,
   "id": "98a11430-ce89-46c5-bee7-97156fa7d9c9",
   "metadata": {},
   "outputs": [],
   "source": [
    "import matplotlib.pyplot as plt\n",
    "import dill"
   ]
  },
  {
   "cell_type": "code",
   "execution_count": 22,
   "id": "28764a17-0300-40af-a033-bd207d5f4865",
   "metadata": {},
   "outputs": [
    {
     "name": "stdout",
     "output_type": "stream",
     "text": [
      "all_tanimoto_ms2deepscore.pkl\n",
      "modified_cosine_casmi_NEURIPS_results_analog_discovery_unknwon_compounds.pkl\n",
      "modified_cosine_casmi_results_analog_discovery_unknwon_compounds.pkl\n",
      "modified_cosine_results_analog_discovery_unknwon_compounds.pkl\n",
      "ms2deepscore_casmi_NEURIPS_results_analog_discovery_unknwon_compounds.pkl\n",
      "ms2deepscore_casmi_results_analog_discovery_unknwon_compounds.pkl\n",
      "ms2deepscore_results_analog_discovery_unknwon_compounds.pkl\n",
      "ms2deepscore_v2_casmi_NEURIPS_results_analog_discovery_unknwon_compounds.pkl\n",
      "simba_100_million_results_analog_discovery_unknwon_compounds.pkl\n",
      "simba_150_millions_results_analog_discovery_unknwon_compounds.pkl\n",
      "simba_2_results_analog_discovery_unknwon_compounds.pkl\n",
      "simba_EDIT_DISTANCE_MCES20_NEURIPS_20241115_results_analog_discovery_unknwon_compounds.pkl\n",
      "simba_EDIT_DISTANCE_MCES20_NEURIPS_precursor_randomized_results_analog_discovery_unknwon_compounds.pkl\n",
      "simba_EDIT_DISTANCE_MCES20_NEURIPS_results_analog_discovery_unknwon_compounds.pkl\n",
      "simba_EDIT_DISTANCE_MCES20_results_analog_discovery_unknwon_compounds.pkl\n",
      "simba_EDIT_DISTANCE_PRETRAINING_WITHOUT_CONFIDENCE_results_analog_discovery_unknwon_compounds.pkl\n",
      "simba_EDIT_DISTANCE_PRETRAINING_results_analog_discovery_unknwon_compounds.pkl\n",
      "simba_EDIT_DISTANCE_WITH_CONFIDENCE_results_analog_discovery_unknwon_compounds.pkl\n",
      "simba_EDIT_DISTANCE_results_analog_discovery_unknwon_compounds.pkl\n",
      "simba_SIMBA_ENSEMBLED_MS2DEEPSCORE_results_analog_discovery_unknwon_compounds.pkl\n",
      "simba_casmi_100_million_results_analog_discovery_unknwon_compounds.pkl\n",
      "simba_casmi_1024_10_results_analog_discovery_unknwon_compounds.pkl\n",
      "simba_casmi_more_epochs_day3_results_analog_discovery_unknwon_compounds.pkl\n",
      "simba_casmi_more_epochs_results_analog_discovery_unknwon_compounds.pkl\n",
      "simba_casmi_new_preprocessing_results_analog_discovery_unknwon_compounds.pkl\n",
      "simba_casmi_results_analog_discovery_unknwon_compounds.pkl\n",
      "simba_combination_models_results_analog_discovery_unknwon_compounds.pkl\n",
      "simba_edit_distance_results_analog_discovery_ranking.pkl\n",
      "simba_exhaustive_128n_results_analog_discovery_unknwon_compounds.pkl\n",
      "simba_exhaustive_sampled_128n_20240617_results_analog_discovery_unknwon_compounds.pkl\n",
      "simba_exhaustive_sampled_128n_20240618_results_analog_discovery_unknwon_compounds.pkl\n",
      "simba_exhaustive_sampled_128n_results_analog_discovery_unknwon_compounds.pkl\n",
      "simba_exhaustive_sampled_128n_with_pretrained_results_analog_discovery_unknwon_compounds.pkl\n",
      "simba_generated_data_20250126_results_analog_discovery_unknwon_compounds.pkl\n",
      "simba_generated_data_20250130_results_analog_discovery_unknwon_compounds.pkl\n",
      "simba_improved_results_analog_discovery_unknwon_compounds.pkl\n",
      "simba_more_epochs_day3_results_analog_discovery_unknwon_compounds.pkl\n",
      "simba_more_epochs_results_analog_discovery_unknwon_compounds.pkl\n",
      "simba_new_preprocessing_results_analog_discovery_unknwon_compounds.pkl\n",
      "simba_no_identity_results_analog_discovery_unknwon_compounds.pkl\n",
      "simba_no_sim1_10millions_results_analog_discovery_unknwon_compounds.pkl\n",
      "simba_no_sim1_results_analog_discovery_unknwon_compounds.pkl\n",
      "simba_not_bin_sim_1_10_million_results_analog_discovery_unknwon_compounds.pkl\n",
      "simba_not_bin_sim_1_1_million_results_analog_discovery_unknwon_compounds.pkl\n",
      "simba_pretrain_low_range_results_analog_discovery_unknwon_compounds.pkl\n",
      "simba_rebalance_results_analog_discovery_unknwon_compounds.pkl\n",
      "simba_resampled_20240530_from_scratch_results_analog_discovery_unknwon_compounds.pkl\n",
      "simba_resampled_20240530_results_analog_discovery_unknwon_compounds.pkl\n",
      "simba_results_analog_discovery_ranking.pkl\n",
      "simba_results_analog_discovery_unknwon_compounds.pkl\n",
      "spec2vec_casmi_20241011_results_analog_discovery_unknwon_compounds.pkl\n",
      "spec2vec_casmi_NEURIPS_results_analog_discovery_unknwon_compounds.pkl\n",
      "spec2vec_casmi_results_analog_discovery_unknwon_compounds.pkl\n",
      "spec2vec_no_preprocessing_results_analog_discovery_unknwon_compounds.pkl\n",
      "spec2vec_results_analog_discovery_ranking.pkl\n",
      "spec2vec_results_analog_discovery_unknwon_compounds.pkl\n",
      "tanimoto_similarity_casmi_NEURIPS_results_analog_discovery_unknwon_compounds.pkl\n",
      "tanimoto_similarity_casmi_results_analog_discovery_unknwon_compounds.pkl\n",
      "tanimoto_similarity_results_analog_discovery_unknwon_compounds.pkl\n"
     ]
    }
   ],
   "source": [
    "ls ./notebooks/discovery_search/results"
   ]
  },
  {
   "cell_type": "code",
   "execution_count": 23,
   "id": "90b0e25d-c186-408e-a86b-195cf6cf4ea4",
   "metadata": {},
   "outputs": [],
   "source": [
    "format_file_unknown = \"./notebooks/discovery_search/results/{}_results_analog_discovery_unknwon_compounds.pkl\"\n",
    "format_file_rankings = \"./notebooks/discovery_search/results/{}_results_analog_discovery_ranking.pkl\""
   ]
  },
  {
   "cell_type": "code",
   "execution_count": 24,
   "id": "5dd60503-6255-4c9c-954e-8b9bf51bd8a8",
   "metadata": {},
   "outputs": [],
   "source": [
    "similarity_names= [#'tanimoto_similarity',\n",
    "                   #'spec2vec',\n",
    "                   #'spec2vec_no_preprocessing',\n",
    "                   #'simba',\n",
    "                   #'simba_100_million',\n",
    "                   #'simba_more_epochs_day3',\n",
    "                   #'simba_EDIT_DISTANCE',\n",
    "                   # 'simba_EDIT_DISTANCE_WITH_CONFIDENCE',\n",
    "                   \n",
    "                   #'simba_EDIT_DISTANCE_PRETRAINING_WITHOUT_CONFIDENCE'\n",
    "                   #'simba_improved',\n",
    "                   #'simba_resampled_20240530_from_scratch',\n",
    "                   #'simba_resampled_20240530',\n",
    "                   #'simba_150_millions',\n",
    "                   # 'simba_new_preprocessing',\n",
    "                   #'simba_exhaustive_128n',\n",
    "                   #'simba_exhaustive_sampled_128n',\n",
    "                   #'simba_exhaustive_sampled_128n_with_pretrained',\n",
    "                   #'simba_exhaustive_sampled_128n_20240617',\n",
    "                   #'simba_combination_models',\n",
    "                   #'simba_exhaustive_sampled_128n_20240618',\n",
    "                   #'ms2deepscore',\n",
    "                   #'modified_cosine',\n",
    "                   #'tanimoto_similarity_casmi',\n",
    "                   #'spec2vec_casmi',\n",
    "                   'tanimoto_similarity_casmi_NEURIPS',\n",
    "                    \n",
    "                   # 'ms2deepscore_casmi',\n",
    "                    #'simba_EDIT_DISTANCE_MCES20',\n",
    "                    'modified_cosine_casmi_NEURIPS',\n",
    "                    'ms2deepscore_v2_casmi_NEURIPS',\n",
    "                    'spec2vec_casmi_NEURIPS',\n",
    "                    #'simba_EDIT_DISTANCE_MCES20_NEURIPS',\n",
    "                    'simba_generated_data_20250126',\n",
    "                   #'simba_casmi_more_epochs_day3',\n",
    "                   # 'simba_EDIT_DISTANCE_PRETRAINING',\n",
    "                   # 'simba_casmi_new_preprocessing',\n",
    "                   # \n",
    "                   #'simba_no_sim1_10millions',\n",
    "                   #'simba_pretrain_low_range',\n",
    "                   #'simba_2',\n",
    "                   #'simba_not_bin_sim_1_10_million',\n",
    "                   #'simba_no_identity',\n",
    "                   ]"
   ]
  },
  {
   "cell_type": "markdown",
   "id": "69a4d0c3-3983-49bd-8afe-c134e99f1687",
   "metadata": {},
   "source": [
    "## unknown compounds"
   ]
  },
  {
   "cell_type": "code",
   "execution_count": 25,
   "id": "14efebd1-7d2b-4f41-8959-51b32ad5e2a3",
   "metadata": {},
   "outputs": [],
   "source": [
    "results_unknown={}\n",
    "for s in similarity_names:\n",
    "    file_path = format_file_unknown.format(s)\n",
    "    with open(file_path, 'rb') as f:\n",
    "        results_unknown[s] = dill.load(f)"
   ]
  },
  {
   "cell_type": "code",
   "execution_count": 26,
   "id": "df49f482-4e00-4c30-bece-7ea516411a08",
   "metadata": {},
   "outputs": [],
   "source": [
    "## plot mces"
   ]
  },
  {
   "cell_type": "code",
   "execution_count": null,
   "id": "004834db-721c-4a08-8a62-7dc1a5cf258f",
   "metadata": {},
   "outputs": [],
   "source": []
  },
  {
   "cell_type": "code",
   "execution_count": 27,
   "id": "b643b91f-c246-4e51-ad2a-aee58b7d6a8d",
   "metadata": {},
   "outputs": [],
   "source": [
    "# Create a box plot\n",
    "tani_list=[]\n",
    "mces_list=[]\n",
    "labels_list=[]\n",
    "for s in similarity_names:\n",
    "    labels_list.append(s)\n",
    "    #tani= [m for m in results_unknown[s]['tanimoto_retrieved'] if m is not None]\n",
    "    mces= [m for m in results_unknown[s]['mces_retrieved'] if m is not None]\n",
    "    #tani_list.append(tani)\n",
    "    mces_list.append(mces)"
   ]
  },
  {
   "cell_type": "code",
   "execution_count": 28,
   "id": "31009e02-37a5-45a0-9648-6b316e79403b",
   "metadata": {},
   "outputs": [],
   "source": [
    "#len(tani_list[0])"
   ]
  },
  {
   "cell_type": "code",
   "execution_count": 29,
   "id": "02d8b921-52a4-48af-b711-6662bc0b1cb1",
   "metadata": {},
   "outputs": [],
   "source": [
    "#plt.figure(figsize=(12,5))\n",
    "#plt.boxplot(tani_list, labels=similarity_names)\n",
    "#plt.boxplot(tani_list, labels=['tanimoto', 'spec2vec', 'simba_previous','simba_multitasking'])\n",
    "#plt.boxplot(mces_list, labels=['tanimoto', 'spec2vec', 'ms2deepscore','simba'])\n",
    "#plt.boxplot(, labels=labels_list)\n",
    "#plt.ylim([0,1.1])\n",
    "#plt.ylabel('Tanimoto Similarity')\n",
    "#plt.title('')\n",
    "#plt.grid()"
   ]
  },
  {
   "cell_type": "code",
   "execution_count": 30,
   "id": "e4cdd018-cc83-41a2-8863-a9d7c109440a",
   "metadata": {},
   "outputs": [
    {
     "data": {
      "image/png": "[encoded data removed]",
      "text/plain": [
       "<Figure size 600x500 with 1 Axes>"
      ]
     },
     "metadata": {},
     "output_type": "display_data"
    }
   ],
   "source": [
    "plt.figure(figsize=(6,5))\n",
    "#plt.boxplot(mces_list, labels=similarity_names)\n",
    "plt.boxplot(mces_list, labels=['Tanimoto', 'Mod-cosine', 'Ms2deepscore','Spec2vec','Simba',])\n",
    "plt.ylim([0.35,1.05])\n",
    "plt.ylabel('MECS Similarity')\n",
    "plt.title('')\n",
    "plt.grid()"
   ]
  },
  {
   "cell_type": "code",
   "execution_count": 31,
   "id": "e53bc86a-f32b-4dee-ae99-2cdd0d6d961a",
   "metadata": {},
   "outputs": [
    {
     "name": "stdout",
     "output_type": "stream",
     "text": [
      "T-statistic: 3.030234799615245\n",
      "P-value: 0.0026881184147524687\n"
     ]
    }
   ],
   "source": [
    "from scipy import stats\n",
    "\n",
    "\n",
    "\n",
    "# Perform t-test\n",
    "t_stat, p_value = stats.ttest_ind(mces_list[0], mces_list[1])\n",
    "\n",
    "print(f\"T-statistic: {t_stat}\")\n",
    "print(f\"P-value: {p_value}\")"
   ]
  },
  {
   "cell_type": "code",
   "execution_count": 32,
   "id": "64d866be-3251-4129-a56a-115adb5459bc",
   "metadata": {},
   "outputs": [
    {
     "data": {
      "text/plain": [
       "0.8094909045965776"
      ]
     },
     "execution_count": 32,
     "metadata": {},
     "output_type": "execute_result"
    }
   ],
   "source": [
    "import numpy as np\n",
    "np.median(mces_list[3])"
   ]
  },
  {
   "cell_type": "code",
   "execution_count": 33,
   "id": "0d0ed268-24a5-4749-b6bc-cfd3be71faf2",
   "metadata": {},
   "outputs": [
    {
     "name": "stdout",
     "output_type": "stream",
     "text": [
      "U-statistic: 7819.0, P-value: 0.1501778822311878\n"
     ]
    }
   ],
   "source": [
    "from scipy import stats\n",
    "\n",
    "# Sample data\n",
    "X = mces_list[1] # Replace with your actual data\n",
    "Y = mces_list[3] \n",
    "\n",
    "# Perform Mann-Whitney U test\n",
    "u_stat, p_value = stats.mannwhitneyu(X, Y)\n",
    "\n",
    "print(f\"U-statistic: {u_stat}, P-value: {p_value}\")"
   ]
  },
  {
   "cell_type": "code",
   "execution_count": 34,
   "id": "ae2ed168-0187-445c-a3d3-70d4911ff833",
   "metadata": {},
   "outputs": [
    {
     "data": {
      "text/plain": [
       "0.8056561213190768"
      ]
     },
     "execution_count": 34,
     "metadata": {},
     "output_type": "execute_result"
    }
   ],
   "source": [
    "import numpy as np\n",
    "np.median(mces_list[2] )"
   ]
  },
  {
   "cell_type": "code",
   "execution_count": 35,
   "id": "28fed47f-9425-415f-a89d-1f2c730fd796",
   "metadata": {},
   "outputs": [
    {
     "name": "stdout",
     "output_type": "stream",
     "text": [
      "T-statistic: -0.8248950663959229, P-value: 0.4101815578317204\n"
     ]
    }
   ],
   "source": [
    "from scipy import stats\n",
    "\n",
    "# Sample data\n",
    "X = mces_list[1] # Replace with your actual data\n",
    "Y = mces_list[3] \n",
    "\n",
    "# Perform two-sample t-test\n",
    "t_stat, p_value = stats.ttest_ind(X, Y)\n",
    "\n",
    "print(f\"T-statistic: {t_stat}, P-value: {p_value}\")"
   ]
  },
  {
   "cell_type": "markdown",
   "id": "e2ebfcab-2f3e-4c93-bd2d-dc74cd3bb17e",
   "metadata": {},
   "source": [
    "## Rankings"
   ]
  },
  {
   "cell_type": "code",
   "execution_count": 36,
   "id": "1d0d6201-d8f6-4fbf-b653-3fe82f05406b",
   "metadata": {},
   "outputs": [
    {
     "ename": "FileNotFoundError",
     "evalue": "[Errno 2] No such file or directory: './notebooks/discovery_search/results/tanimoto_similarity_casmi_NEURIPS_results_analog_discovery_ranking.pkl'",
     "output_type": "error",
     "traceback": [
      "\u001b[0;31m---------------------------------------------------------------------------\u001b[0m",
      "\u001b[0;31mFileNotFoundError\u001b[0m                         Traceback (most recent call last)",
      "Cell \u001b[0;32mIn[36], line 4\u001b[0m\n\u001b[1;32m      2\u001b[0m \u001b[38;5;28;01mfor\u001b[39;00m s \u001b[38;5;129;01min\u001b[39;00m similarity_names:\n\u001b[1;32m      3\u001b[0m     file_path \u001b[38;5;241m=\u001b[39m format_file_rankings\u001b[38;5;241m.\u001b[39mformat(s)\n\u001b[0;32m----> 4\u001b[0m     \u001b[38;5;28;01mwith\u001b[39;00m \u001b[38;5;28mopen\u001b[39m(file_path, \u001b[38;5;124m'\u001b[39m\u001b[38;5;124mrb\u001b[39m\u001b[38;5;124m'\u001b[39m) \u001b[38;5;28;01mas\u001b[39;00m f:\n\u001b[1;32m      5\u001b[0m         results_rankings[s] \u001b[38;5;241m=\u001b[39m dill\u001b[38;5;241m.\u001b[39mload(f)\n",
      "File \u001b[0;32m~/miniconda3/envs/transformers/lib/python3.11/site-packages/IPython/core/interactiveshell.py:310\u001b[0m, in \u001b[0;36m_modified_open\u001b[0;34m(file, *args, **kwargs)\u001b[0m\n\u001b[1;32m    303\u001b[0m \u001b[38;5;28;01mif\u001b[39;00m file \u001b[38;5;129;01min\u001b[39;00m {\u001b[38;5;241m0\u001b[39m, \u001b[38;5;241m1\u001b[39m, \u001b[38;5;241m2\u001b[39m}:\n\u001b[1;32m    304\u001b[0m     \u001b[38;5;28;01mraise\u001b[39;00m \u001b[38;5;167;01mValueError\u001b[39;00m(\n\u001b[1;32m    305\u001b[0m         \u001b[38;5;124mf\u001b[39m\u001b[38;5;124m\"\u001b[39m\u001b[38;5;124mIPython won\u001b[39m\u001b[38;5;124m'\u001b[39m\u001b[38;5;124mt let you open fd=\u001b[39m\u001b[38;5;132;01m{\u001b[39;00mfile\u001b[38;5;132;01m}\u001b[39;00m\u001b[38;5;124m by default \u001b[39m\u001b[38;5;124m\"\u001b[39m\n\u001b[1;32m    306\u001b[0m         \u001b[38;5;124m\"\u001b[39m\u001b[38;5;124mas it is likely to crash IPython. If you know what you are doing, \u001b[39m\u001b[38;5;124m\"\u001b[39m\n\u001b[1;32m    307\u001b[0m         \u001b[38;5;124m\"\u001b[39m\u001b[38;5;124myou can use builtins\u001b[39m\u001b[38;5;124m'\u001b[39m\u001b[38;5;124m open.\u001b[39m\u001b[38;5;124m\"\u001b[39m\n\u001b[1;32m    308\u001b[0m     )\n\u001b[0;32m--> 310\u001b[0m \u001b[38;5;28;01mreturn\u001b[39;00m io_open(file, \u001b[38;5;241m*\u001b[39margs, \u001b[38;5;241m*\u001b[39m\u001b[38;5;241m*\u001b[39mkwargs)\n",
      "\u001b[0;31mFileNotFoundError\u001b[0m: [Errno 2] No such file or directory: './notebooks/discovery_search/results/tanimoto_similarity_casmi_NEURIPS_results_analog_discovery_ranking.pkl'"
     ]
    }
   ],
   "source": [
    "results_rankings={}\n",
    "for s in similarity_names:\n",
    "    file_path = format_file_rankings.format(s)\n",
    "    with open(file_path, 'rb') as f:\n",
    "        results_rankings[s] = dill.load(f)"
   ]
  },
  {
   "cell_type": "code",
   "execution_count": null,
   "id": "06c63ff0-801d-4757-a481-a3aed6f875c1",
   "metadata": {},
   "outputs": [],
   "source": []
  },
  {
   "cell_type": "code",
   "execution_count": null,
   "id": "169cc213-4d21-45d0-85e9-eb4a3c76ddba",
   "metadata": {},
   "outputs": [],
   "source": [
    "for s in similarity_names:\n",
    "    plt.plot(results_rankings[s]['rankings_x'], results_rankings[s]['rankings_y'], marker='*', label=s)\n",
    "plt.xlabel('k')\n",
    "plt.ylabel('accuracy')\n",
    "#plt.ylim([0,1])\n",
    "plt.grid()\n",
    "plt.legend()"
   ]
  },
  {
   "cell_type": "code",
   "execution_count": null,
   "id": "e7eb79ad-be10-41a0-aedb-8794237221db",
   "metadata": {},
   "outputs": [],
   "source": []
  },
  {
   "cell_type": "code",
   "execution_count": null,
   "id": "8a695709-8e30-40c5-b55e-5c49d1009d64",
   "metadata": {},
   "outputs": [],
   "source": []
  },
  {
   "cell_type": "code",
   "execution_count": null,
   "id": "48fd2ee9-6f2d-4eb6-9eed-2054340397b5",
   "metadata": {},
   "outputs": [],
   "source": [
    "68303299801**0.5"
   ]
  },
  {
   "cell_type": "code",
   "execution_count": null,
   "id": "779a2a23-1d1d-42ea-97a8-899fe1a789be",
   "metadata": {},
   "outputs": [],
   "source": [
    "import numpy as np\n",
    "a=np.zeros((3, 3), dtype=np.float16)"
   ]
  },
  {
   "cell_type": "code",
   "execution_count": null,
   "id": "7ef56896-14b1-495d-a9ff-9717fc44b467",
   "metadata": {},
   "outputs": [],
   "source": [
    "a"
   ]
  },
  {
   "cell_type": "code",
   "execution_count": null,
   "id": "01228a42-32d2-4eec-abb8-f5cd5c6b9764",
   "metadata": {},
   "outputs": [],
   "source": [
    "a[0,0]=1"
   ]
  },
  {
   "cell_type": "code",
   "execution_count": null,
   "id": "391b6c26-1351-46ac-99af-390ef84ddcb8",
   "metadata": {},
   "outputs": [],
   "source": [
    "a"
   ]
  },
  {
   "cell_type": "code",
   "execution_count": null,
   "id": "cb9ceadf-99a7-4fa2-8cc3-756504659519",
   "metadata": {},
   "outputs": [],
   "source": [
    "a[1,1]=666"
   ]
  },
  {
   "cell_type": "code",
   "execution_count": null,
   "id": "c82ee9ca-1fab-4fc9-b7ef-c8c420215a52",
   "metadata": {},
   "outputs": [],
   "source": [
    "a"
   ]
  },
  {
   "cell_type": "code",
   "execution_count": null,
   "id": "2bee1d5d-0d14-43d0-bfd9-a1e0c6d9d094",
   "metadata": {},
   "outputs": [],
   "source": [
    "from torch.utils.data import WeightedRandomSampler\n",
    "\n",
    "weights_tr = [0.1, 0.2, 0.3, 0.4]  # Some weights\n",
    "\n",
    "train_sampler = WeightedRandomSampler(\n",
    "    weights=weights_tr, num_samples=3, replacement=True\n",
    ")\n",
    "\n",
    "# Now, if you delete weights_tr\n",
    "del weights_tr\n",
    "\n",
    "# It will not affect train_sampler\n",
    "for index in train_sampler:\n",
    "    print(index)"
   ]
  },
  {
   "cell_type": "code",
   "execution_count": null,
   "id": "587e6972-6ada-4efd-8059-b05f40ea8ae9",
   "metadata": {},
   "outputs": [],
   "source": [
    "freq=[192235192,\n",
    "381735986,\n",
    "191719062,\n",
    "71400948,\n",
    "25104550,\n",
    "7324840,\n",
    "1996170,\n",
    "635518,\n",
    "265134,\n",
    "194200]\n",
    "import numpy as np\n",
    "ranges= np.arange(0,10)"
   ]
  },
  {
   "cell_type": "code",
   "execution_count": null,
   "id": "d606bf28-2570-4688-8fd9-fe091f2e4e2e",
   "metadata": {},
   "outputs": [],
   "source": [
    "#ranges=ranges*0.1"
   ]
  },
  {
   "cell_type": "code",
   "execution_count": null,
   "id": "64c60346-8c42-435a-864c-f382b468665e",
   "metadata": {},
   "outputs": [],
   "source": [
    "plt.bar(ranges, freq)\n",
    "plt.xlabel('bin')\n",
    "plt.grid()\n",
    "plt.ylabel('freq')"
   ]
  },
  {
   "cell_type": "code",
   "execution_count": null,
   "id": "a6e87342-0f5c-4d0b-b8ed-29cf39ae27d9",
   "metadata": {},
   "outputs": [],
   "source": []
  }
 ],
 "metadata": {
  "kernelspec": {
   "display_name": "Python 3 (ipykernel)",
   "language": "python",
   "name": "python3"
  },
  "language_info": {
   "codemirror_mode": {
    "name": "ipython",
    "version": 3
   },
   "file_extension": ".py",
   "mimetype": "text/x-python",
   "name": "python",
   "nbconvert_exporter": "python",
   "pygments_lexer": "ipython3",
   "version": "3.11.7"
  }
 },
 "nbformat": 4,
 "nbformat_minor": 5
}
