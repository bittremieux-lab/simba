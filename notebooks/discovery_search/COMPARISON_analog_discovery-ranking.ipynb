{
 "cells": [
  {
   "cell_type": "code",
   "execution_count": 1,
   "id": "50360883-ed2c-41f8-becc-bec985aa0ce5",
   "metadata": {},
   "outputs": [],
   "source": [
    "%load_ext autoreload\n",
    "%autoreload 2"
   ]
  },
  {
   "cell_type": "code",
   "execution_count": 2,
   "id": "de3f5b42-5255-45de-ae10-86d024fb5632",
   "metadata": {},
   "outputs": [],
   "source": [
    "import os\n",
    "os.chdir('/Users/sebas/projects/metabolomics')\n",
    "os.environ[\"PYTORCH_ENABLE_MPS_FALLBACK\"] = \"1\""
   ]
  },
  {
   "cell_type": "code",
   "execution_count": null,
   "id": "f3e98ba8-7bd9-4e48-90c9-72a24b94172c",
   "metadata": {},
   "outputs": [],
   "source": [
    "from src.transformers.sklearn_model import SklearnModel\n",
    "import gensim\n",
    "from src.load_data import LoadData\n",
    "from src.config import Config\n",
    "from tqdm import tqdm\n",
    "from src.loader_saver import LoaderSaver\n",
    "import itertools\n",
    "import numpy as np\n",
    "from scipy.stats import spearmanr\n",
    "import dill\n",
    "from src.plotting import Plotting\n",
    "from src.load_data import LoadData\n",
    "from src.molecule_pairs_opt import MoleculePairsOpt\n",
    "from sklearn.model_selection import train_test_split\n",
    "from src.train_utils import TrainUtils\n",
    "from src.preprocessor import Preprocessor\n",
    "import pickle\n",
    "import sys\n",
    "from src.config import Config\n",
    "from src.parser import Parser\n",
    "from datetime import datetime\n",
    "from src.loader_saver import LoaderSaver\n",
    "from src.molecular_pairs_set import MolecularPairsSet\n",
    "from scipy.stats import spearmanr\n",
    "from src.transformers.embedder import Embedder\n",
    "from src.transformers.encoder import Encoder\n",
    "import matplotlib.pyplot as plt\n",
    "from src.transformers.CustomDatasetEncoder import CustomDatasetEncoder\n",
    "from src.transformers.load_data_encoder import LoadDataEncoder\n",
    "from torch.utils.data import DataLoader\n",
    "from src.analog_discovery.cosine_similarity import CosineSimilarity\n",
    "from rdkit import Chem\n",
    "from matchms.importing import load_from_mgf,load_from_msp\n",
    "from matchms.similarity import ModifiedCosine\n",
    "from src.spec2vec_comparison import Spec2VecComparison\n",
    "from spec2vec import Spec2Vec\n",
    "import tensorflow as tf\n",
    "from src.load_data import LoadData"
   ]
  },
  {
   "cell_type": "markdown",
   "id": "a52a9280-cfe5-41c0-bcea-d7bf7f951bb8",
   "metadata": {},
   "source": [
    "## params"
   ]
  },
  {
   "cell_type": "code",
   "execution_count": null,
   "id": "3ee60012-a0bf-41e9-9ae4-f275116eba59",
   "metadata": {},
   "outputs": [],
   "source": [
    "ls /Users/sebas/projects/data/"
   ]
  },
  {
   "cell_type": "code",
   "execution_count": null,
   "id": "510a6872-e306-4977-972d-73023876e21e",
   "metadata": {},
   "outputs": [],
   "source": [
    "data_folder= '/Users/sebas/projects/data/'\n",
    "gnps_path =  data_folder + 'ALL_GNPS_NO_PROPOGATED_wb.mgf'\n",
    "janssen_path = data_folder + 'drug_plus.mgf'\n",
    "nist_path = data_folder + 'hr_msms_nist_all.MSP'\n",
    "output_janssen_file= data_folder + 'all_spectrums_janssen.pkl'\n",
    "dataset_path= data_folder +'merged_gnps_nist_20240311_unique_smiles_1_million.pkl'\n",
    "model_path = data_folder + 'best_model_20240319_v2_512u_5_layers.ckpt'\n",
    "model_spec2vec_file = data_folder + 'spec2vec_AllPositive_ratio05_filtered_201101_iter_15.model'\n",
    "model_ms2d_file = data_folder + 'ms2deepscore_positive_10k_1000_1000_1000_500.hdf5'\n",
    "casmi_file= '/Users/sebas/projects/data/processed_massformer/spec_df.pkl' "
   ]
  },
  {
   "cell_type": "code",
   "execution_count": null,
   "id": "7d36a491-4178-416c-bb79-408dcbf6ac10",
   "metadata": {},
   "outputs": [],
   "source": [
    "config=Config()"
   ]
  },
  {
   "cell_type": "code",
   "execution_count": null,
   "id": "f0123044-37f8-4d2b-965a-4c13aaee7995",
   "metadata": {},
   "outputs": [],
   "source": [
    "config.D_MODEL=512\n",
    "config.N_LAYERS=5"
   ]
  },
  {
   "cell_type": "code",
   "execution_count": null,
   "id": "c15a2673-b6f1-4c58-9f5f-1e46f8ce586f",
   "metadata": {},
   "outputs": [],
   "source": [
    "similarity_name= 'spec2vec'\n",
    "# use casmi or janssen\n",
    "USE_CASMI=True"
   ]
  },
  {
   "cell_type": "markdown",
   "id": "fad919ec-2fe6-42fa-9c99-d4669bc95e27",
   "metadata": {},
   "source": [
    "## open janssen data"
   ]
  },
  {
   "cell_type": "code",
   "execution_count": null,
   "id": "f2793615-5a14-4daa-98ea-eca6d290abc0",
   "metadata": {},
   "outputs": [],
   "source": [
    "all_spectrums_janssen_matchms = [s for s in load_from_mgf(janssen_path)]"
   ]
  },
  {
   "cell_type": "code",
   "execution_count": null,
   "id": "5e70c91b-db9c-4cac-a78b-6a7329c56703",
   "metadata": {},
   "outputs": [],
   "source": [
    "if USE_CASMI:\n",
    "    all_spectrums_janssen_su=LoadData.get_all_spectrums_casmi(\n",
    "        casmi_file,\n",
    "        config=config,\n",
    "    )\n",
    "else:\n",
    "    loader_saver = LoaderSaver(\n",
    "            block_size=100,\n",
    "            pickle_nist_path='',\n",
    "            pickle_gnps_path='',\n",
    "            pickle_janssen_path=output_janssen_file,\n",
    "        )\n",
    "    all_spectrums_janssen_su = loader_saver.get_all_spectrums(\n",
    "                janssen_path,\n",
    "                100000000,\n",
    "                use_tqdm=True,\n",
    "                use_nist=False,\n",
    "                config=config,\n",
    "                use_janssen=True,\n",
    "            )"
   ]
  },
  {
   "cell_type": "code",
   "execution_count": null,
   "id": "24f40386-b7af-42e7-9540-5b99d0e68576",
   "metadata": {},
   "outputs": [],
   "source": [
    "pp=Preprocessor()\n",
    "### remove extra peaks in janssen\n",
    "all_spectrums_janssen_processed = [pp.preprocess_spectrum(\n",
    "            s,\n",
    "            fragment_tol_mass=10,\n",
    "            fragment_tol_mode=\"ppm\",\n",
    "            min_intensity=0.01,\n",
    "            max_num_peaks=100,\n",
    "            scale_intensity=None,\n",
    "        ) for s in all_spectrums_janssen_processed]\n",
    "\n",
    "all_spectrums_janssen = [s_original for s_original, s_processed in zip(all_spectrums_janssen_original,all_spectrums_janssen_processed) if len(s_processed.mz)>=6]"
   ]
  },
  {
   "cell_type": "markdown",
   "id": "1fa5a533-cea8-4bcb-9c87-f47ec4ace92d",
   "metadata": {},
   "source": [
    "## open ref data"
   ]
  },
  {
   "cell_type": "code",
   "execution_count": null,
   "id": "6d34c412-b4ef-4828-a872-c288f1195ce2",
   "metadata": {},
   "outputs": [],
   "source": [
    "with open(dataset_path, 'rb') as file:\n",
    "            dataset = dill.load(file)"
   ]
  },
  {
   "cell_type": "code",
   "execution_count": null,
   "id": "d1504d75-c98c-4888-85a6-62f20f48b4ae",
   "metadata": {},
   "outputs": [],
   "source": [
    "all_spectrums_reference_su= dataset['molecule_pairs_train'].spectrums_original +\\\n",
    "                    dataset['molecule_pairs_val'].spectrums_original + \\\n",
    "                        dataset['molecule_pairs_test'].spectrums_original"
   ]
  },
  {
   "cell_type": "code",
   "execution_count": null,
   "id": "bf01e52f-0a11-4b3a-9b90-3741dd59a273",
   "metadata": {},
   "outputs": [],
   "source": [
    "all_spectrums_gnps_matchms = [s for s in load_from_mgf(gnps_path)]"
   ]
  },
  {
   "cell_type": "code",
   "execution_count": null,
   "id": "64379efd-bf07-4664-a38d-362ded97ec6c",
   "metadata": {},
   "outputs": [],
   "source": [
    "all_spectrums_nist_matchms=  [s for s in load_from_msp(nist_path)]"
   ]
  },
  {
   "cell_type": "code",
   "execution_count": null,
   "id": "14e7f9d8-e863-473b-9056-c62ecfd814da",
   "metadata": {},
   "outputs": [],
   "source": [
    "all_spectrums_reference_matchms = all_spectrums_gnps_matchms + all_spectrums_nist_matchms"
   ]
  },
  {
   "cell_type": "code",
   "execution_count": null,
   "id": "808a493a-5dfd-43c5-b329-4bdc5e85395e",
   "metadata": {},
   "outputs": [],
   "source": [
    "#compute all the hashes from the datasets\n",
    "target_hashes = [s.spectrum_hash for s in all_spectrums_reference_su]"
   ]
  },
  {
   "cell_type": "code",
   "execution_count": null,
   "id": "abc88a20-f238-4658-80a3-6df96fc2b2cf",
   "metadata": {},
   "outputs": [],
   "source": [
    "matchms_hashes=[]\n",
    "for s in  tqdm(all_spectrums_reference_matchms):\n",
    "    matchms_hashes.append(s.spectrum_hash())"
   ]
  },
  {
   "cell_type": "code",
   "execution_count": null,
   "id": "eb5fb6a8-7556-4b8e-a363-c14c1617cd41",
   "metadata": {},
   "outputs": [],
   "source": [
    "len(target_hashes)"
   ]
  },
  {
   "cell_type": "code",
   "execution_count": null,
   "id": "0fc0a79d-b4c6-42b9-8a2e-993cc1587182",
   "metadata": {},
   "outputs": [],
   "source": [
    "len(all_spectrums_reference_matchms)"
   ]
  },
  {
   "cell_type": "code",
   "execution_count": null,
   "id": "7a8b7758-d4dc-438d-8b2c-6811abddee20",
   "metadata": {},
   "outputs": [],
   "source": [
    "matchms_hashes.index(target_hashes[0])"
   ]
  },
  {
   "cell_type": "code",
   "execution_count": null,
   "id": "8e97101e-8c6e-4e01-aab0-0e8048e0a7c2",
   "metadata": {},
   "outputs": [],
   "source": [
    "indexes_matched = [matchms_hashes.index(t) for t in tqdm(target_hashes)]"
   ]
  },
  {
   "cell_type": "code",
   "execution_count": null,
   "id": "96eaf36f-2c36-42a4-bdfb-5a6dfeac3ec0",
   "metadata": {},
   "outputs": [],
   "source": [
    "all_spectrums_reference = [all_spectrums_reference_matchms[index] for index in indexes_matched]"
   ]
  },
  {
   "cell_type": "code",
   "execution_count": null,
   "id": "40d8f239-f53e-4fad-ac00-fc0a87b95d49",
   "metadata": {},
   "outputs": [],
   "source": [
    "for i,(s_ref, s_su) in enumerate(zip(all_spectrums_reference, all_spectrums_reference_su)):\n",
    "    new_metadata=s_ref.metadata.copy()\n",
    "    new_metadata['smiles']=s_su.smiles\n",
    "    all_spectrums_reference[i].metadata=new_metadata"
   ]
  },
  {
   "cell_type": "markdown",
   "id": "10396d09-0837-4e65-8122-84378bfdf4c2",
   "metadata": {},
   "source": [
    "## Filter spectra from Janssen"
   ]
  },
  {
   "cell_type": "code",
   "execution_count": null,
   "id": "d664f22d-5380-4288-9aa2-30cdc765a0c4",
   "metadata": {},
   "outputs": [],
   "source": [
    "su_hashes = [s.spectrum_hash for s in all_spectrums_janssen_su]"
   ]
  },
  {
   "cell_type": "code",
   "execution_count": null,
   "id": "4f87cabf-f995-4929-8688-9b0a1536af03",
   "metadata": {},
   "outputs": [],
   "source": [
    "all_spectrums_janssen = [s for s in all_spectrums_janssen_matchms if s.spectrum_hash() in su_hashes]"
   ]
  },
  {
   "cell_type": "markdown",
   "id": "89c2d2b2-aeae-4826-8286-26322fb47610",
   "metadata": {},
   "source": [
    "## Find those instances that are not in reference"
   ]
  },
  {
   "cell_type": "code",
   "execution_count": null,
   "id": "7de8a005-af76-4c82-bf45-38c6fe3843b5",
   "metadata": {},
   "outputs": [],
   "source": [
    "canon_smiles_reference = [Chem.CanonSmiles(s.metadata['smiles']) for s in all_spectrums_reference]\n",
    "canon_smiles_janssen =   [Chem.CanonSmiles(s.metadata['smiles']) for s in all_spectrums_janssen]\n",
    "janssen_indexes_in_ref= [i for i,s in enumerate(canon_smiles_janssen) if s in canon_smiles_reference]\n",
    "janssen_indexes_not_in_ref = [i for i,s in enumerate(canon_smiles_janssen) if s not in canon_smiles_reference]"
   ]
  },
  {
   "cell_type": "code",
   "execution_count": null,
   "id": "3d18b57d-2450-4dc1-9f2a-e038917ff873",
   "metadata": {},
   "outputs": [],
   "source": []
  },
  {
   "cell_type": "code",
   "execution_count": null,
   "id": "53bd924c-a799-4957-a5fd-89468054eb13",
   "metadata": {},
   "outputs": [],
   "source": [
    "len(janssen_indexes_in_ref),len(janssen_indexes_not_in_ref)"
   ]
  },
  {
   "cell_type": "code",
   "execution_count": null,
   "id": "d70eb35c-1693-4335-99f2-7440caaa4f2b",
   "metadata": {},
   "outputs": [],
   "source": [
    "all_spectrums_janssen = [all_spectrums_janssen[index] for index in janssen_indexes_in_ref]"
   ]
  },
  {
   "cell_type": "code",
   "execution_count": null,
   "id": "4222a9f9-6c9e-45af-9fdd-9eb0fa7794f9",
   "metadata": {},
   "outputs": [],
   "source": [
    "filtered_canon_smiles_janssen= [Chem.CanonSmiles(s.metadata['smiles']) for s in all_spectrums_janssen]"
   ]
  },
  {
   "cell_type": "code",
   "execution_count": null,
   "id": "8d5ed8a6-451f-463c-aca6-7103b2cec2d3",
   "metadata": {},
   "outputs": [],
   "source": [
    "# dictionary indexed by smiles in janssen, and corresponding reference spectra\n",
    "#dict_spectra_ref_mapped = {s:[all_spectrums_reference[i] for i,t in enumerate(canon_smiles_reference) if t==s ]  for s in (filtered_canon_smiles_janssen)}"
   ]
  },
  {
   "cell_type": "markdown",
   "id": "12a19c90-4a0f-4c3c-b7ab-ebff663145b6",
   "metadata": {},
   "source": [
    "## load model"
   ]
  },
  {
   "cell_type": "code",
   "execution_count": null,
   "id": "771cc734-7935-43d0-8805-044c72d29302",
   "metadata": {},
   "outputs": [],
   "source": [
    "#encoder= Encoder(model_path, D_MODEL=int(config.D_MODEL),N_LAYERS=int(config.N_LAYERS))"
   ]
  },
  {
   "cell_type": "code",
   "execution_count": null,
   "id": "844dbf2d-d501-4a28-bc83-b5d6eaa2b0a6",
   "metadata": {},
   "outputs": [],
   "source": [
    "#similarity_model =ModifiedCosine(tolerance=0.1)"
   ]
  },
  {
   "cell_type": "code",
   "execution_count": null,
   "id": "0891fdcd-f442-4b80-b6d1-3a3661806505",
   "metadata": {},
   "outputs": [],
   "source": [
    "if similarity_name=='spec2vec':\n",
    "    model = gensim.models.Word2Vec.load(model_spec2vec_file)\n",
    "    similarity_model= Spec2Vec(\n",
    "                model=model, intensity_weighting_power=0.5, allowed_missing_percentage=100.0\n",
    "            )\n",
    "    PREPROCESS_SPECTRUMS=True\n",
    "elif similarity_name=='modified_cosine':\n",
    "    similarity_model =ModifiedCosine(tolerance=0.1)\n",
    "    PREPROCESS_SPECTRUMS=True\n",
    "elif similarity_name == 'ms2deepscore':\n",
    "    model_ms2d = load_model(model_ms2d_file)\n",
    "    similarity_model= MS2DeepScore(model_ms2d)"
   ]
  },
  {
   "cell_type": "markdown",
   "id": "426cf10c-0bc2-4c7a-8e2e-19d5ee1a0168",
   "metadata": {},
   "source": [
    "## Preprocessed spectrums"
   ]
  },
  {
   "cell_type": "code",
   "execution_count": null,
   "id": "f3c0adaf-9d1b-485f-a416-98d60c3f6eec",
   "metadata": {},
   "outputs": [],
   "source": [
    "preprocessed_all_spectrums_janssen =all_spectrums_janssen.copy()\n",
    "if PREPROCESS_SPECTRUMS:\n",
    "    for i,s in tqdm(enumerate(preprocessed_all_spectrums_janssen)):\n",
    "        preprocessed_all_spectrums_janssen[i] = Spec2VecComparison.spectrum_processing(preprocessed_all_spectrums_janssen[i])\n",
    "preprocessed_all_spectrums_janssen = [s for s in preprocessed_all_spectrums_janssen if ((s is not None)and (s.metadata['precursor_mz']>0))]"
   ]
  },
  {
   "cell_type": "code",
   "execution_count": null,
   "id": "01e3e36b-86a6-4989-af7d-d1afa3cb6149",
   "metadata": {},
   "outputs": [],
   "source": [
    "preprocessed_all_spectrums_reference =all_spectrums_reference.copy()\n",
    "if PREPROCESS_SPECTRUMS:\n",
    "    for i,s in tqdm(enumerate(preprocessed_all_spectrums_reference)):\n",
    "        preprocessed_all_spectrums_reference[i] = Spec2VecComparison.spectrum_processing(preprocessed_all_spectrums_reference[i])\n",
    "preprocessed_all_spectrums_reference = [s for s in preprocessed_all_spectrums_reference if ((s is not None)and (s.metadata['precursor_mz']>0))]"
   ]
  },
  {
   "cell_type": "code",
   "execution_count": null,
   "id": "34a17659-6558-498e-b60e-769c00cff86e",
   "metadata": {},
   "outputs": [],
   "source": [
    "#with open('preprocessed_all_spectrums_reference.pkl', 'wb') as file:\n",
    "#        dictionary={'preprocessed_all_spectrums_reference':preprocessed_all_spectrums_reference}\n",
    "#        dill.dump(dictionary,file)\n",
    "\n",
    "#with open('preprocessed_all_spectrums_reference.pkl', 'rb') as file:\n",
    "#        preprocessed_all_spectrums_reference=dill.load(file)['preprocessed_all_spectrums_reference']"
   ]
  },
  {
   "cell_type": "markdown",
   "id": "b4c13f39-662b-4314-b593-3f5adcddd328",
   "metadata": {},
   "source": [
    "## compute similarities"
   ]
  },
  {
   "cell_type": "code",
   "execution_count": null,
   "id": "2df1c6ac-e275-4517-ab01-512df61b6d8e",
   "metadata": {},
   "outputs": [],
   "source": [
    "from matchms import calculate_scores\n",
    "if similarity_name != 'ms2deepscore':\n",
    "    results_scores = calculate_scores(\n",
    "                        preprocessed_all_spectrums_reference, preprocessed_all_spectrums_janssen, similarity_model\n",
    "                    )\n",
    "else:\n",
    "    with tf.device('/device:CPU:0'): #execute on cpu\n",
    "        results_scores = calculate_scores(\n",
    "                        preprocessed_all_spectrums_reference, preprocessed_all_spectrums_janssen, similarity_model\n",
    "                    )"
   ]
  },
  {
   "cell_type": "code",
   "execution_count": null,
   "id": "de2064a2-9af3-4bf7-be3c-6e3e9a48590c",
   "metadata": {},
   "outputs": [],
   "source": [
    "results_scores"
   ]
  },
  {
   "cell_type": "code",
   "execution_count": null,
   "id": "61a803fe-4ce1-42fe-b3e3-4d881f7feabe",
   "metadata": {},
   "outputs": [],
   "source": [
    "#results_ordered = [results_scores.scores_by_query(s, name='Spec2Vec', sort=True) for s in preprocessed_all_spectrums_janssen]\n",
    "#spectrums_retrieved = [r[0] for r in results_ordered]\n",
    "#max_sim = [r[1] for r in results_ordered]"
   ]
  },
  {
   "cell_type": "code",
   "execution_count": null,
   "id": "87df494c-0a9a-469b-84a9-a675fa710793",
   "metadata": {},
   "outputs": [],
   "source": [
    "## convert from smiles to canon smiles\n",
    "dict_canon_smiles = {s.metadata['smiles']:Chem.CanonSmiles(s.metadata['smiles']) for s in preprocessed_all_spectrums_reference}"
   ]
  },
  {
   "cell_type": "code",
   "execution_count": null,
   "id": "41c39f6b-1164-4c30-9e70-54ceeff37412",
   "metadata": {},
   "outputs": [],
   "source": [
    "len(dict_canon_smiles.keys())"
   ]
  },
  {
   "cell_type": "code",
   "execution_count": null,
   "id": "5cf22c94-e188-4ec6-a97d-375acd5a72f2",
   "metadata": {},
   "outputs": [],
   "source": [
    "rankings=[]\n",
    "for spectrum in tqdm(preprocessed_all_spectrums_janssen):\n",
    "    #print('starting procerssing')\n",
    "    #print(target_smile)\n",
    "    target_smile = Chem.CanonSmiles(spectrum.metadata['smiles'])\n",
    "    \n",
    "    #results obtained\n",
    "    #print('getting scores')\n",
    "    results_ordered = results_scores.scores_by_query(spectrum, name='Spec2Vec', sort=True)\n",
    "    \n",
    "    spectrums_retrieved = [r[0] for r in results_ordered]\n",
    "\n",
    "    #print('getting smiles')\n",
    "    try: #try only a few smiles\n",
    "        \n",
    "        smiles_retrieved = [dict_canon_smiles[r.metadata['smiles']] for r in spectrums_retrieved[0:1000]]\n",
    "    \n",
    "        # get the ranking\n",
    "        rank = smiles_retrieved.index(target_smile)\n",
    "        #print(rank)\n",
    "        rankings.append(rank)\n",
    "    except:\n",
    "        smiles_retrieved = [dict_canon_smiles[r.metadata['smiles']] for r in spectrums_retrieved]\n",
    "    \n",
    "        # get the ranking\n",
    "        if target_smile in smiles_retrieved:\n",
    "            rank = smiles_retrieved.index(target_smile)\n",
    "            rankings.append(rank)"
   ]
  },
  {
   "cell_type": "code",
   "execution_count": null,
   "id": "77506a1d-9e6e-4a7a-bd2b-e9c60fa2843b",
   "metadata": {},
   "outputs": [],
   "source": [
    "rankings=np.array(rankings)"
   ]
  },
  {
   "cell_type": "code",
   "execution_count": null,
   "id": "591e3016-9a69-45f9-945f-1a9291bf1417",
   "metadata": {},
   "outputs": [],
   "source": [
    "rankings_x = np.arange(0,400)\n",
    "rankings_proportion = [rankings[rankings<=r].shape[0]/rankings.shape[0] for r in rankings_x]"
   ]
  },
  {
   "cell_type": "code",
   "execution_count": null,
   "id": "beada202-c221-499b-b578-f5addc47a78c",
   "metadata": {},
   "outputs": [],
   "source": [
    "results = {'rankings_x':rankings_x,\n",
    "          'rankings_y': rankings_proportion,\n",
    "           'rankings':rankings}"
   ]
  },
  {
   "cell_type": "code",
   "execution_count": null,
   "id": "c75e11df-4dbd-4cda-8b14-46f8fc3fb5e9",
   "metadata": {},
   "outputs": [],
   "source": [
    "with open('./notebooks/discovery_search/results/'+similarity_name + '_results_analog_discovery_ranking.pkl', 'wb') as f:\n",
    "    dill.dump(results, f)"
   ]
  },
  {
   "cell_type": "code",
   "execution_count": null,
   "id": "db774533-5a1e-4c6d-b899-203fd5b78bba",
   "metadata": {},
   "outputs": [],
   "source": []
  }
 ],
 "metadata": {
  "kernelspec": {
   "display_name": "Python 3 (ipykernel)",
   "language": "python",
   "name": "python3"
  },
  "language_info": {
   "codemirror_mode": {
    "name": "ipython",
    "version": 3
   },
   "file_extension": ".py",
   "mimetype": "text/x-python",
   "name": "python",
   "nbconvert_exporter": "python",
   "pygments_lexer": "ipython3",
   "version": "3.11.7"
  }
 },
 "nbformat": 4,
 "nbformat_minor": 5
}
