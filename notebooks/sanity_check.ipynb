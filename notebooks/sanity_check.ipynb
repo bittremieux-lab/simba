{
 "cells": [
  {
   "cell_type": "code",
   "execution_count": 1,
   "id": "a4ec905f-fea6-4936-bdbd-ae182565db4b",
   "metadata": {},
   "outputs": [],
   "source": [
    "%load_ext autoreload\n",
    "%autoreload 2"
   ]
  },
  {
   "cell_type": "code",
   "execution_count": null,
   "id": "a819ca7e-3185-465a-8941-745e888ed73c",
   "metadata": {},
   "outputs": [],
   "source": []
  },
  {
   "cell_type": "code",
   "execution_count": 2,
   "id": "78d46b88-2799-4df8-b15a-b9a482082faa",
   "metadata": {},
   "outputs": [],
   "source": [
    "import os"
   ]
  },
  {
   "cell_type": "code",
   "execution_count": 6,
   "id": "3e124ad5-b4f1-41fc-b96d-8dd9c7bf6923",
   "metadata": {},
   "outputs": [],
   "source": [
    "os.chdir('/Users/sebas/projects/metabolomics')"
   ]
  },
  {
   "cell_type": "code",
   "execution_count": 13,
   "id": "eac154ce-472f-41b5-9909-4dbb7d3b69ce",
   "metadata": {},
   "outputs": [
    {
     "name": "stdout",
     "output_type": "stream",
     "text": [
      "merged_gnps_nist_20240118_gnps_nist_janssen.pkl\n"
     ]
    }
   ],
   "source": [
    "ls /Users/sebas/projects/data"
   ]
  },
  {
   "cell_type": "code",
   "execution_count": 14,
   "id": "491edb06-ade9-412a-a364-d92e6bf431f4",
   "metadata": {},
   "outputs": [],
   "source": [
    "dataset_path = '/Users/sebas/projects/data/merged_gnps_nist_20240118_gnps_nist_janssen.pkl'"
   ]
  },
  {
   "cell_type": "code",
   "execution_count": 22,
   "id": "10a59f55-c4d0-4967-ab14-b8f48101effe",
   "metadata": {},
   "outputs": [],
   "source": [
    "#!pip install dill\n",
    "#!pip install numpy\n",
    "#!pip install spectrum_utils"
   ]
  },
  {
   "cell_type": "markdown",
   "id": "ba9a7e3d-4150-4722-9a9c-563367a7c3a5",
   "metadata": {},
   "source": [
    "## Load data"
   ]
  },
  {
   "cell_type": "code",
   "execution_count": 43,
   "id": "447a31a2-813a-477e-b615-cef0d7ea3842",
   "metadata": {},
   "outputs": [],
   "source": [
    "import dill\n",
    "import numpy as np"
   ]
  },
  {
   "cell_type": "code",
   "execution_count": 23,
   "id": "8d81aeb7-e870-4df5-9a2c-03eb3baaff36",
   "metadata": {},
   "outputs": [
    {
     "name": "stdout",
     "output_type": "stream",
     "text": [
      "loading file\n"
     ]
    }
   ],
   "source": [
    "## Load data\n",
    "print('loading file')\n",
    "# Load the dataset from the pickle file\n",
    "with open(dataset_path, 'rb') as file:\n",
    "    dataset = dill.load(file)"
   ]
  },
  {
   "cell_type": "markdown",
   "id": "cb85db25-8254-45d7-8a44-1d4389706ac3",
   "metadata": {},
   "source": [
    "## Get the spectra"
   ]
  },
  {
   "cell_type": "code",
   "execution_count": 24,
   "id": "bbb5ad50-6d78-476f-b7ea-15158f8fbe36",
   "metadata": {},
   "outputs": [
    {
     "data": {
      "text/plain": [
       "dict_keys(['all_spectrums_train', 'all_spectrums_val', 'all_spectrums_test', 'molecule_pairs_train', 'molecule_pairs_val', 'molecule_pairs_test'])"
      ]
     },
     "execution_count": 24,
     "metadata": {},
     "output_type": "execute_result"
    }
   ],
   "source": [
    "dataset.keys()"
   ]
  },
  {
   "cell_type": "code",
   "execution_count": 25,
   "id": "1c8b0417-b2e9-40bf-9119-3d29e9c86610",
   "metadata": {},
   "outputs": [],
   "source": [
    "molecule_pairs_train = dataset['molecule_pairs_train']\n",
    "molecule_pairs_val = dataset['molecule_pairs_val']\n",
    "molecule_pairs_test = dataset['molecule_pairs_test']"
   ]
  },
  {
   "cell_type": "code",
   "execution_count": 27,
   "id": "e6fb3c43-6c6d-4b94-86b5-93efae4a65ad",
   "metadata": {},
   "outputs": [],
   "source": [
    "spectrum_train = molecule_pairs_train.spectrums\n",
    "spectrum_val = molecule_pairs_val.spectrums\n",
    "spectrum_test = molecule_pairs_test.spectrums"
   ]
  },
  {
   "cell_type": "markdown",
   "id": "66f5105b-b58a-4fe3-9f57-31000e035097",
   "metadata": {},
   "source": [
    "## Check that there are no smiles that are present in train, validation and testing"
   ]
  },
  {
   "cell_type": "code",
   "execution_count": 35,
   "id": "d020ea43-0d86-40f2-bdd6-125c34fea4e7",
   "metadata": {},
   "outputs": [
    {
     "data": {
      "text/plain": [
       "<function SpectrumExt.__dir__()>"
      ]
     },
     "execution_count": 35,
     "metadata": {},
     "output_type": "execute_result"
    }
   ],
   "source": [
    "spectrum_train[0].__dir__"
   ]
  },
  {
   "cell_type": "code",
   "execution_count": 44,
   "id": "ada3ea50-b9d2-4bc0-935e-92b352c200bb",
   "metadata": {},
   "outputs": [],
   "source": [
    "smiles_train = np.unique([s.smiles_0 for s in molecule_pairs_train] + [s.smiles_1 for s in molecule_pairs_train])\n",
    "smiles_val = np.unique([s.smiles_0 for s in molecule_pairs_val] + [s.smiles_1 for s in molecule_pairs_val])\n",
    "smiles_test = np.unique([s.smiles_0 for s in molecule_pairs_test] + [s.smiles_1 for s in molecule_pairs_test])"
   ]
  },
  {
   "cell_type": "code",
   "execution_count": 45,
   "id": "0c8e8818-9a81-4bd9-871e-1eb7c360c8e3",
   "metadata": {},
   "outputs": [
    {
     "data": {
      "text/plain": [
       "25222"
      ]
     },
     "execution_count": 45,
     "metadata": {},
     "output_type": "execute_result"
    }
   ],
   "source": [
    "smiles_train.shape[0]\n"
   ]
  },
  {
   "cell_type": "code",
   "execution_count": 46,
   "id": "2f2edf75-dc20-40c9-bc9b-cd91e4ca8599",
   "metadata": {},
   "outputs": [
    {
     "data": {
      "text/plain": [
       "8320"
      ]
     },
     "execution_count": 46,
     "metadata": {},
     "output_type": "execute_result"
    }
   ],
   "source": [
    "smiles_val.shape[0]"
   ]
  },
  {
   "cell_type": "code",
   "execution_count": 47,
   "id": "f2d9bdd4-8994-4abc-b22c-d82dfca860e3",
   "metadata": {},
   "outputs": [
    {
     "data": {
      "text/plain": [
       "8406"
      ]
     },
     "execution_count": 47,
     "metadata": {},
     "output_type": "execute_result"
    }
   ],
   "source": [
    "smiles_test.shape[0]"
   ]
  },
  {
   "cell_type": "code",
   "execution_count": 48,
   "id": "9a8283b5-a6e1-4cf0-acd0-5c14c0f1ab0b",
   "metadata": {},
   "outputs": [
    {
     "data": {
      "text/plain": [
       "True"
      ]
     },
     "execution_count": 48,
     "metadata": {},
     "output_type": "execute_result"
    }
   ],
   "source": [
    "smiles_train[0] in smiles_train"
   ]
  },
  {
   "cell_type": "code",
   "execution_count": 49,
   "id": "8eac360b-d232-47fe-a807-c700decacfbb",
   "metadata": {},
   "outputs": [
    {
     "data": {
      "text/plain": [
       "False"
      ]
     },
     "execution_count": 49,
     "metadata": {},
     "output_type": "execute_result"
    }
   ],
   "source": [
    "smiles_train[0] in smiles_val"
   ]
  },
  {
   "cell_type": "code",
   "execution_count": 50,
   "id": "c52078b8-4440-4fe9-b370-225f5e706305",
   "metadata": {},
   "outputs": [
    {
     "data": {
      "text/plain": [
       "False"
      ]
     },
     "execution_count": 50,
     "metadata": {},
     "output_type": "execute_result"
    }
   ],
   "source": [
    "smiles_train[0] in smiles_test"
   ]
  },
  {
   "cell_type": "code",
   "execution_count": 53,
   "id": "62fae2b4-164f-4784-b0aa-2f3c377cc13c",
   "metadata": {},
   "outputs": [
    {
     "data": {
      "text/plain": [
       "0"
      ]
     },
     "execution_count": 53,
     "metadata": {},
     "output_type": "execute_result"
    }
   ],
   "source": [
    "sum([(n in smiles_train) for n in smiles_val])"
   ]
  },
  {
   "cell_type": "code",
   "execution_count": 54,
   "id": "e33edd24-d6fb-4bda-809e-f710d667fef8",
   "metadata": {},
   "outputs": [
    {
     "data": {
      "text/plain": [
       "0"
      ]
     },
     "execution_count": 54,
     "metadata": {},
     "output_type": "execute_result"
    }
   ],
   "source": [
    "sum([(n in smiles_train) for n in smiles_test])"
   ]
  },
  {
   "cell_type": "markdown",
   "id": "b4802a5a-2f57-4aaf-a9f9-517f28bc83de",
   "metadata": {},
   "source": [
    "## check bms"
   ]
  },
  {
   "cell_type": "code",
   "execution_count": 66,
   "id": "e88f1c6e-9358-41d2-9d1b-6034e5489ca8",
   "metadata": {},
   "outputs": [],
   "source": [
    "bms_train =[m.spectrum_object_0.murcko_scaffold for m in molecule_pairs_train] + [m.spectrum_object_1.murcko_scaffold for m in molecule_pairs_train]\n",
    "bms_val =[m.spectrum_object_0.murcko_scaffold for m in molecule_pairs_val] + [m.spectrum_object_1.murcko_scaffold for m in molecule_pairs_val]\n",
    "bms_test =[m.spectrum_object_0.murcko_scaffold for m in molecule_pairs_test] + [m.spectrum_object_1.murcko_scaffold for m in molecule_pairs_test]"
   ]
  },
  {
   "cell_type": "code",
   "execution_count": 68,
   "id": "3fbf616f-55c2-4437-87b3-6d9a16b4bb7c",
   "metadata": {},
   "outputs": [],
   "source": [
    "bms_train=np.unique(bms_train)\n",
    "bms_val = np.unique(bms_val)\n",
    "bms_test= np.unique(bms_test)"
   ]
  },
  {
   "cell_type": "code",
   "execution_count": 69,
   "id": "13ba6c8b-078f-4f4f-8a9c-0c54f8b7499a",
   "metadata": {},
   "outputs": [
    {
     "data": {
      "text/plain": [
       "0"
      ]
     },
     "execution_count": 69,
     "metadata": {},
     "output_type": "execute_result"
    }
   ],
   "source": [
    "sum([(n in bms_train) for n in bms_val])"
   ]
  },
  {
   "cell_type": "code",
   "execution_count": 70,
   "id": "d5b2c1cb-d4a5-48bc-b857-b8c79f601928",
   "metadata": {},
   "outputs": [
    {
     "data": {
      "text/plain": [
       "0"
      ]
     },
     "execution_count": 70,
     "metadata": {},
     "output_type": "execute_result"
    }
   ],
   "source": [
    "sum([(n in bms_train) for n in bms_test])"
   ]
  },
  {
   "cell_type": "markdown",
   "id": "85fc0342-c20b-4af1-a2c1-bf5298358d19",
   "metadata": {},
   "source": [
    "## check that spectrum id of test is not in train"
   ]
  },
  {
   "cell_type": "code",
   "execution_count": 80,
   "id": "1eef3332-021d-4311-8e0a-bb653f41eedd",
   "metadata": {},
   "outputs": [],
   "source": [
    "spectrum_id_train = np.unique([m.params_0['spectrumid'] for m in molecule_pairs_train if ('spectrumid' in m.params_0.keys())] + [m.params_1['spectrumid'] for m in molecule_pairs_train if ('spectrumid' in m.params_1.keys() )])"
   ]
  },
  {
   "cell_type": "code",
   "execution_count": 81,
   "id": "4eb7eac8-f58e-4b80-9827-cb5550d72de9",
   "metadata": {},
   "outputs": [
    {
     "data": {
      "text/plain": [
       "array(['CCMSLIB00000001547', 'CCMSLIB00000001548', 'CCMSLIB00000001549',\n",
       "       ..., 'CCMSLIB00012060407', 'CCMSLIB00012060413', 'abcd'],\n",
       "      dtype='<U18')"
      ]
     },
     "execution_count": 81,
     "metadata": {},
     "output_type": "execute_result"
    }
   ],
   "source": [
    "spectrum_id_train"
   ]
  },
  {
   "cell_type": "code",
   "execution_count": 82,
   "id": "996bc8dc-320f-45ba-b17d-d9ef4696d962",
   "metadata": {},
   "outputs": [
    {
     "data": {
      "text/plain": [
       "False"
      ]
     },
     "execution_count": 82,
     "metadata": {},
     "output_type": "execute_result"
    }
   ],
   "source": [
    "'CCMSLIB00005745876' in spectrum_id_train"
   ]
  },
  {
   "cell_type": "code",
   "execution_count": null,
   "id": "e6b7e1d9-0c4a-43a6-ace7-fcb7188e6a00",
   "metadata": {},
   "outputs": [],
   "source": []
  }
 ],
 "metadata": {
  "kernelspec": {
   "display_name": "Python 3 (ipykernel)",
   "language": "python",
   "name": "python3"
  },
  "language_info": {
   "codemirror_mode": {
    "name": "ipython",
    "version": 3
   },
   "file_extension": ".py",
   "mimetype": "text/x-python",
   "name": "python",
   "nbconvert_exporter": "python",
   "pygments_lexer": "ipython3",
   "version": "3.11.7"
  }
 },
 "nbformat": 4,
 "nbformat_minor": 5
}
