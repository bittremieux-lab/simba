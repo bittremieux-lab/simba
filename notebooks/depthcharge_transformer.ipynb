{
 "cells": [
  {
   "cell_type": "code",
   "execution_count": 22,
   "id": "daa90d86-716c-4dfc-b697-707606f8ceb5",
   "metadata": {
    "tags": []
   },
   "outputs": [
    {
     "name": "stdout",
     "output_type": "stream",
     "text": [
      "The autoreload extension is already loaded. To reload it, use:\n",
      "  %reload_ext autoreload\n"
     ]
    }
   ],
   "source": [
    "%load_ext autoreload\n",
    "%autoreload 2"
   ]
  },
  {
   "cell_type": "code",
   "execution_count": 23,
   "id": "39532af2-f900-444b-97fe-9841d3dfacc4",
   "metadata": {
    "tags": []
   },
   "outputs": [
    {
     "name": "stdout",
     "output_type": "stream",
     "text": [
      "Python 3.11.5\n"
     ]
    }
   ],
   "source": [
    "!python --version"
   ]
  },
  {
   "cell_type": "markdown",
   "id": "6b7eeefd-6017-42c4-8ad2-e0eb4d66ed32",
   "metadata": {},
   "source": [
    "## Install depthcharge"
   ]
  },
  {
   "cell_type": "code",
   "execution_count": 24,
   "id": "76da2680-e256-4717-8da0-4e9f61898fab",
   "metadata": {
    "tags": []
   },
   "outputs": [],
   "source": [
    "#!pip install depthcharge-ms --upgrade"
   ]
  },
  {
   "cell_type": "code",
   "execution_count": 25,
   "id": "cfabf347-ce31-48a8-bfa6-11700bdbea06",
   "metadata": {
    "tags": []
   },
   "outputs": [],
   "source": [
    "#!pip install git+https://github.com/wfondrie/depthcharge"
   ]
  },
  {
   "cell_type": "code",
   "execution_count": 26,
   "id": "9fc75642-4f77-4050-81b0-33d81369c6e8",
   "metadata": {
    "tags": []
   },
   "outputs": [],
   "source": [
    "#!pip install ppx lightning tensorboard depthcharge-ms"
   ]
  },
  {
   "cell_type": "code",
   "execution_count": 27,
   "id": "ea968528-d227-4d16-99f7-60da0afd1221",
   "metadata": {
    "tags": []
   },
   "outputs": [],
   "source": [
    "#!pip install --upgrade pyarrow"
   ]
  },
  {
   "cell_type": "markdown",
   "id": "607a686c-86cb-4a88-956b-1ecdd1ebdb13",
   "metadata": {},
   "source": [
    "## Libraries"
   ]
  },
  {
   "cell_type": "code",
   "execution_count": 40,
   "id": "a2649262-7ee5-49c9-847a-fa548f0bb861",
   "metadata": {
    "tags": []
   },
   "outputs": [],
   "source": [
    "import random\n",
    "\n",
    "import lightning.pytorch as pl\n",
    "import matplotlib.pyplot as plt\n",
    "import numpy as np\n",
    "import pandas as pd\n",
    "import ppx\n",
    "import seaborn as sns\n",
    "import torch\n",
    "import torch.nn as nn\n",
    "import torch.nn.functional as F\n",
    "\n",
    "#from depthcharge.data import AnnotatedSpectrumDataset\n",
    "#from depthcharge.tokenizers import PeptideTokenizer\n",
    "from depthcharge.transformers import (\n",
    "    SpectrumTransformerEncoder, \n",
    "    PeptideTransformerEncoder,\n",
    ")\n",
    "from src.transformers.embedder import Embedder"
   ]
  },
  {
   "cell_type": "code",
   "execution_count": 29,
   "id": "6339520c-2cdb-48a3-9e76-a96eb34904b3",
   "metadata": {
    "tags": []
   },
   "outputs": [],
   "source": [
    "from depthcharge.data import SpectrumDataset\n",
    "from src.load_data import LoadData"
   ]
  },
  {
   "cell_type": "code",
   "execution_count": 30,
   "id": "d7fd3219-5091-4720-a68b-e3f806079324",
   "metadata": {
    "tags": []
   },
   "outputs": [],
   "source": [
    "from src.transformers.SpectrumDatasetSiamese import SpectrumDatasetSiamese"
   ]
  },
  {
   "cell_type": "code",
   "execution_count": 31,
   "id": "0b8d91a5-7894-48f2-ae8e-e65bb51ef4c5",
   "metadata": {
    "tags": []
   },
   "outputs": [],
   "source": [
    "import depthcharge"
   ]
  },
  {
   "cell_type": "markdown",
   "id": "db1a892d-1a9a-4be4-ba8e-cc1518d3d37a",
   "metadata": {},
   "source": [
    "## Load data"
   ]
  },
  {
   "cell_type": "code",
   "execution_count": 32,
   "id": "ba3fae31-b90c-4ed7-ac9a-7a1392ba6f98",
   "metadata": {
    "tags": []
   },
   "outputs": [],
   "source": [
    "#mgf_path = r\"C:\\Users\\ramir\\Downloads\\ALL_GNPS_NO_PROPOGATED_wb.mgf\"\n",
    "#mgf_path = r\"C:\\Users\\ramir\\Downloads\\GNPS-BILE-ACID-MODIFICATIONS.mgf\"\n",
    "mgf_path = r\"C:\\Users\\ramir\\Downloads\\GNPS-COLLECTIONS-PESTICIDES-POSITIVE.mgf\"\n",
    "mgf_path_original = r\"C:\\Users\\ramir\\Downloads\\ALL_GNPS_NO_PROPOGATED_wb.mgf\""
   ]
  },
  {
   "cell_type": "code",
   "execution_count": 33,
   "id": "12b76b0e-5359-4f09-9398-42c8e620e071",
   "metadata": {
    "collapsed": true,
    "jupyter": {
     "outputs_hidden": true
    },
    "tags": []
   },
   "outputs": [
    {
     "name": "stderr",
     "output_type": "stream",
     "text": [
      "  0%|          | 0/1000 [00:00<?, ?it/s]"
     ]
    },
    {
     "name": "stdout",
     "output_type": "stream",
     "text": [
      "Raise AtomValenceException, return basic Murcko Scaffold\n"
     ]
    },
    {
     "name": "stderr",
     "output_type": "stream",
     "text": [
      " 12%|█▏        | 116/1000 [00:05<00:29, 30.03it/s]"
     ]
    },
    {
     "name": "stdout",
     "output_type": "stream",
     "text": [
      "Raise AtomValenceException, return basic Murcko Scaffold\n",
      "Raise AtomValenceException, return basic Murcko Scaffold\n",
      "Raise AtomValenceException, return basic Murcko Scaffold\n",
      "Raise AtomValenceException, return basic Murcko Scaffold\n",
      "Raise AtomValenceException, return basic Murcko Scaffold\n",
      "Raise AtomValenceException, return basic Murcko Scaffold\n",
      "Raise AtomValenceException, return basic Murcko Scaffold\n",
      "Raise AtomValenceException, return basic Murcko Scaffold\n",
      "Raise AtomValenceException, return basic Murcko Scaffold\n",
      "Raise AtomValenceException, return basic Murcko Scaffold\n",
      "Raise AtomValenceException, return basic Murcko Scaffold\n",
      "Raise AtomValenceException, return basic Murcko Scaffold\n",
      "Raise AtomValenceException, return basic Murcko Scaffold\n",
      "Raise AtomValenceException, return basic Murcko Scaffold\n",
      "Raise AtomValenceException, return basic Murcko Scaffold\n",
      "Raise AtomValenceException, return basic Murcko Scaffold\n",
      "Raise AtomValenceException, return basic Murcko Scaffold\n",
      "Raise AtomValenceException, return basic Murcko Scaffold\n",
      "Raise AtomValenceException, return basic Murcko Scaffold\n",
      "Raise AtomValenceException, return basic Murcko Scaffold\n",
      "Raise AtomValenceException, return basic Murcko Scaffold\n",
      "Raise AtomValenceException, return basic Murcko Scaffold\n",
      "Raise AtomValenceException, return basic Murcko Scaffold\n",
      "Raise AtomValenceException, return basic Murcko Scaffold\n",
      "Raise AtomValenceException, return basic Murcko Scaffold\n",
      "Raise AtomValenceException, return basic Murcko Scaffold\n",
      "Raise AtomValenceException, return basic Murcko Scaffold\n",
      "Raise AtomValenceException, return basic Murcko Scaffold\n",
      "Raise AtomValenceException, return basic Murcko Scaffold\n",
      "Raise AtomValenceException, return basic Murcko Scaffold\n",
      "Raise AtomValenceException, return basic Murcko Scaffold\n",
      "Raise AtomValenceException, return basic Murcko Scaffold\n",
      "Raise AtomValenceException, return basic Murcko Scaffold\n",
      "Raise AtomValenceException, return basic Murcko Scaffold\n",
      "Raise AtomValenceException, return basic Murcko Scaffold\n",
      "Raise AtomValenceException, return basic Murcko Scaffold\n",
      "Raise AtomValenceException, return basic Murcko Scaffold\n",
      "Raise AtomValenceException, return basic Murcko Scaffold\n",
      "Raise AtomValenceException, return basic Murcko Scaffold\n",
      "Raise AtomValenceException, return basic Murcko Scaffold\n",
      "Raise AtomValenceException, return basic Murcko Scaffold\n",
      "Raise AtomValenceException, return basic Murcko Scaffold\n",
      "Raise AtomValenceException, return basic Murcko Scaffold\n",
      "Raise AtomValenceException, return basic Murcko Scaffold\n",
      "Raise AtomValenceException, return basic Murcko Scaffold\n",
      "Raise AtomValenceException, return basic Murcko Scaffold\n",
      "Raise AtomValenceException, return basic Murcko Scaffold\n",
      "Raise AtomValenceException, return basic Murcko Scaffold\n",
      "Raise AtomValenceException, return basic Murcko Scaffold\n",
      "Raise AtomValenceException, return basic Murcko Scaffold\n",
      "Raise AtomValenceException, return basic Murcko Scaffold\n",
      "Raise AtomValenceException, return basic Murcko Scaffold\n",
      "Raise AtomValenceException, return basic Murcko Scaffold\n",
      "Raise AtomValenceException, return basic Murcko Scaffold\n",
      "Raise AtomValenceException, return basic Murcko Scaffold\n",
      "Raise AtomValenceException, return basic Murcko Scaffold\n",
      "Raise AtomValenceException, return basic Murcko Scaffold\n",
      "Raise AtomValenceException, return basic Murcko Scaffold\n",
      "Raise AtomValenceException, return basic Murcko Scaffold\n",
      "Raise AtomValenceException, return basic Murcko Scaffold\n",
      "Raise AtomValenceException, return basic Murcko Scaffold\n",
      "Raise AtomValenceException, return basic Murcko Scaffold\n",
      "Raise AtomValenceException, return basic Murcko Scaffold\n",
      "Raise AtomValenceException, return basic Murcko Scaffold\n",
      "Raise AtomValenceException, return basic Murcko Scaffold\n",
      "Raise AtomValenceException, return basic Murcko Scaffold\n",
      "Raise AtomValenceException, return basic Murcko Scaffold\n",
      "Raise AtomValenceException, return basic Murcko Scaffold\n",
      "Raise AtomValenceException, return basic Murcko Scaffold\n",
      "Raise AtomValenceException, return basic Murcko Scaffold\n",
      "Raise AtomValenceException, return basic Murcko Scaffold\n",
      "Raise AtomValenceException, return basic Murcko Scaffold\n",
      "Raise AtomValenceException, return basic Murcko Scaffold\n",
      "Raise AtomValenceException, return basic Murcko Scaffold\n",
      "Raise AtomValenceException, return basic Murcko Scaffold\n",
      "Raise AtomValenceException, return basic Murcko Scaffold\n",
      "Raise AtomValenceException, return basic Murcko Scaffold\n",
      "Raise AtomValenceException, return basic Murcko Scaffold\n",
      "Raise AtomValenceException, return basic Murcko Scaffold\n",
      "Raise AtomValenceException, return basic Murcko Scaffold\n",
      "Raise AtomValenceException, return basic Murcko Scaffold\n",
      "Raise AtomValenceException, return basic Murcko Scaffold\n",
      "Raise AtomValenceException, return basic Murcko Scaffold\n",
      "Raise AtomValenceException, return basic Murcko Scaffold\n",
      "Raise AtomValenceException, return basic Murcko Scaffold\n",
      "Raise AtomValenceException, return basic Murcko Scaffold\n",
      "Raise AtomValenceException, return basic Murcko Scaffold\n",
      "Raise AtomValenceException, return basic Murcko Scaffold\n",
      "Raise AtomValenceException, return basic Murcko Scaffold\n",
      "Raise AtomValenceException, return basic Murcko Scaffold\n",
      "Raise AtomValenceException, return basic Murcko Scaffold\n",
      "Raise AtomValenceException, return basic Murcko Scaffold\n",
      "Raise AtomValenceException, return basic Murcko Scaffold\n",
      "Raise AtomValenceException, return basic Murcko Scaffold\n",
      "Raise AtomValenceException, return basic Murcko Scaffold\n",
      "Raise AtomValenceException, return basic Murcko Scaffold\n",
      "Raise AtomValenceException, return basic Murcko Scaffold\n",
      "Raise AtomValenceException, return basic Murcko Scaffold\n",
      "Raise AtomValenceException, return basic Murcko Scaffold\n",
      "Raise AtomValenceException, return basic Murcko Scaffold\n",
      "Raise AtomValenceException, return basic Murcko Scaffold\n",
      "Raise AtomValenceException, return basic Murcko Scaffold\n",
      "Raise AtomValenceException, return basic Murcko Scaffold\n",
      "Raise AtomValenceException, return basic Murcko Scaffold\n",
      "Raise AtomValenceException, return basic Murcko Scaffold\n",
      "Raise AtomValenceException, return basic Murcko Scaffold\n",
      "Raise AtomValenceException, return basic Murcko Scaffold\n",
      "Raise AtomValenceException, return basic Murcko Scaffold\n",
      "Raise AtomValenceException, return basic Murcko Scaffold\n",
      "Raise AtomValenceException, return basic Murcko Scaffold\n",
      "Raise AtomValenceException, return basic Murcko Scaffold\n",
      "Raise AtomValenceException, return basic Murcko Scaffold\n",
      "Raise AtomValenceException, return basic Murcko Scaffold\n",
      "Raise AtomValenceException, return basic Murcko Scaffold\n",
      "Raise AtomValenceException, return basic Murcko Scaffold\n",
      "Raise AtomValenceException, return basic Murcko Scaffold\n",
      "Raise AtomValenceException, return basic Murcko Scaffold\n",
      "Raise AtomValenceException, return basic Murcko Scaffold\n",
      "Raise AtomValenceException, return basic Murcko Scaffold\n",
      "Raise AtomValenceException, return basic Murcko Scaffold\n",
      "Raise AtomValenceException, return basic Murcko Scaffold\n",
      "Raise AtomValenceException, return basic Murcko Scaffold\n",
      "Raise AtomValenceException, return basic Murcko Scaffold\n",
      "Raise AtomValenceException, return basic Murcko Scaffold\n",
      "Raise AtomValenceException, return basic Murcko Scaffold\n",
      "Raise AtomValenceException, return basic Murcko Scaffold\n",
      "Raise AtomValenceException, return basic Murcko Scaffold\n",
      "Raise AtomValenceException, return basic Murcko Scaffold\n",
      "Raise AtomValenceException, return basic Murcko Scaffold\n",
      "Raise AtomValenceException, return basic Murcko Scaffold\n",
      "Raise AtomValenceException, return basic Murcko Scaffold\n",
      "Raise AtomValenceException, return basic Murcko Scaffold\n",
      "Raise AtomValenceException, return basic Murcko Scaffold\n",
      "Raise AtomValenceException, return basic Murcko Scaffold\n",
      "Raise AtomValenceException, return basic Murcko Scaffold\n",
      "Raise AtomValenceException, return basic Murcko Scaffold\n",
      "Raise AtomValenceException, return basic Murcko Scaffold\n",
      "Raise AtomValenceException, return basic Murcko Scaffold\n",
      "Raise AtomValenceException, return basic Murcko Scaffold\n",
      "Raise AtomValenceException, return basic Murcko Scaffold\n",
      "Raise AtomValenceException, return basic Murcko Scaffold\n",
      "Raise AtomValenceException, return basic Murcko Scaffold\n",
      "Raise AtomValenceException, return basic Murcko Scaffold\n",
      "Raise AtomValenceException, return basic Murcko Scaffold\n",
      "Raise AtomValenceException, return basic Murcko Scaffold\n",
      "Raise AtomValenceException, return basic Murcko Scaffold\n",
      "Raise AtomValenceException, return basic Murcko Scaffold\n",
      "Raise AtomValenceException, return basic Murcko Scaffold\n",
      "Raise AtomValenceException, return basic Murcko Scaffold\n",
      "Raise AtomValenceException, return basic Murcko Scaffold\n",
      "Raise AtomValenceException, return basic Murcko Scaffold\n",
      "Raise AtomValenceException, return basic Murcko Scaffold\n",
      "Raise AtomValenceException, return basic Murcko Scaffold\n",
      "Raise AtomValenceException, return basic Murcko Scaffold\n",
      "Raise AtomValenceException, return basic Murcko Scaffold\n",
      "Raise AtomValenceException, return basic Murcko Scaffold\n",
      "Raise AtomValenceException, return basic Murcko Scaffold\n",
      "Raise AtomValenceException, return basic Murcko Scaffold\n",
      "Raise AtomValenceException, return basic Murcko Scaffold\n",
      "Raise AtomValenceException, return basic Murcko Scaffold\n",
      "Raise AtomValenceException, return basic Murcko Scaffold\n",
      "Raise AtomValenceException, return basic Murcko Scaffold\n",
      "Raise AtomValenceException, return basic Murcko Scaffold\n",
      "Raise AtomValenceException, return basic Murcko Scaffold\n",
      "Raise AtomValenceException, return basic Murcko Scaffold\n",
      "Raise AtomValenceException, return basic Murcko Scaffold\n",
      "Raise AtomValenceException, return basic Murcko Scaffold\n",
      "Raise AtomValenceException, return basic Murcko Scaffold\n",
      "Raise AtomValenceException, return basic Murcko Scaffold\n",
      "Raise AtomValenceException, return basic Murcko Scaffold\n",
      "Raise AtomValenceException, return basic Murcko Scaffold\n",
      "Raise AtomValenceException, return basic Murcko Scaffold\n",
      "Raise AtomValenceException, return basic Murcko Scaffold\n",
      "Raise AtomValenceException, return basic Murcko Scaffold\n",
      "Raise AtomValenceException, return basic Murcko Scaffold\n",
      "Raise AtomValenceException, return basic Murcko Scaffold\n",
      "Raise AtomValenceException, return basic Murcko Scaffold\n",
      "Raise AtomValenceException, return basic Murcko Scaffold\n",
      "Raise AtomValenceException, return basic Murcko Scaffold\n",
      "Raise AtomValenceException, return basic Murcko Scaffold\n",
      "Raise AtomValenceException, return basic Murcko Scaffold\n",
      "Raise AtomValenceException, return basic Murcko Scaffold\n",
      "Raise AtomValenceException, return basic Murcko Scaffold\n",
      "Raise AtomValenceException, return basic Murcko Scaffold\n",
      "Raise AtomValenceException, return basic Murcko Scaffold\n",
      "Raise AtomValenceException, return basic Murcko Scaffold\n",
      "Raise AtomValenceException, return basic Murcko Scaffold\n",
      "Raise AtomValenceException, return basic Murcko Scaffold\n"
     ]
    },
    {
     "name": "stderr",
     "output_type": "stream",
     "text": [
      " 20%|█▉        | 195/1000 [00:05<00:14, 57.19it/s]"
     ]
    },
    {
     "name": "stdout",
     "output_type": "stream",
     "text": [
      "Raise AtomValenceException, return basic Murcko Scaffold\n",
      "Raise AtomValenceException, return basic Murcko Scaffold\n",
      "Raise AtomValenceException, return basic Murcko Scaffold\n",
      "Raise AtomValenceException, return basic Murcko Scaffold\n",
      "Raise AtomValenceException, return basic Murcko Scaffold\n",
      "Raise AtomValenceException, return basic Murcko Scaffold\n",
      "Raise AtomValenceException, return basic Murcko Scaffold\n",
      "Raise AtomValenceException, return basic Murcko Scaffold\n",
      "Raise AtomValenceException, return basic Murcko Scaffold\n",
      "Raise AtomValenceException, return basic Murcko Scaffold\n",
      "Raise AtomValenceException, return basic Murcko Scaffold\n",
      "Raise AtomValenceException, return basic Murcko Scaffold\n",
      "Raise AtomValenceException, return basic Murcko Scaffold\n",
      "Raise AtomValenceException, return basic Murcko Scaffold\n",
      "Raise AtomValenceException, return basic Murcko Scaffold\n",
      "Raise AtomValenceException, return basic Murcko Scaffold\n",
      "Raise AtomValenceException, return basic Murcko Scaffold\n",
      "Raise AtomValenceException, return basic Murcko Scaffold\n",
      "Raise AtomValenceException, return basic Murcko Scaffold\n",
      "Raise AtomValenceException, return basic Murcko Scaffold\n",
      "Raise AtomValenceException, return basic Murcko Scaffold\n",
      "Raise AtomValenceException, return basic Murcko Scaffold\n",
      "Raise AtomValenceException, return basic Murcko Scaffold\n",
      "Raise AtomValenceException, return basic Murcko Scaffold\n",
      "Raise AtomValenceException, return basic Murcko Scaffold\n",
      "Raise AtomValenceException, return basic Murcko Scaffold\n",
      "Raise AtomValenceException, return basic Murcko Scaffold\n",
      "Raise AtomValenceException, return basic Murcko Scaffold\n",
      "Raise AtomValenceException, return basic Murcko Scaffold\n",
      "Raise AtomValenceException, return basic Murcko Scaffold\n",
      "Raise AtomValenceException, return basic Murcko Scaffold\n",
      "Raise AtomValenceException, return basic Murcko Scaffold\n",
      "Raise AtomValenceException, return basic Murcko Scaffold\n",
      "Raise AtomValenceException, return basic Murcko Scaffold\n",
      "Raise AtomValenceException, return basic Murcko Scaffold\n",
      "Raise AtomValenceException, return basic Murcko Scaffold\n",
      "Raise AtomValenceException, return basic Murcko Scaffold\n",
      "Raise AtomValenceException, return basic Murcko Scaffold\n",
      "Raise AtomValenceException, return basic Murcko Scaffold\n",
      "Raise AtomValenceException, return basic Murcko Scaffold\n",
      "Raise AtomValenceException, return basic Murcko Scaffold\n",
      "Raise AtomValenceException, return basic Murcko Scaffold\n",
      "Raise AtomValenceException, return basic Murcko Scaffold\n",
      "Raise AtomValenceException, return basic Murcko Scaffold\n",
      "Raise AtomValenceException, return basic Murcko Scaffold\n",
      "Raise AtomValenceException, return basic Murcko Scaffold\n",
      "Raise AtomValenceException, return basic Murcko Scaffold\n",
      "Raise AtomValenceException, return basic Murcko Scaffold\n",
      "Raise AtomValenceException, return basic Murcko Scaffold\n",
      "Raise AtomValenceException, return basic Murcko Scaffold\n",
      "Raise AtomValenceException, return basic Murcko Scaffold\n",
      "Raise AtomValenceException, return basic Murcko Scaffold\n",
      "Raise AtomValenceException, return basic Murcko Scaffold\n",
      "Raise AtomValenceException, return basic Murcko Scaffold\n",
      "Raise AtomValenceException, return basic Murcko Scaffold\n",
      "Raise AtomValenceException, return basic Murcko Scaffold\n",
      "Raise AtomValenceException, return basic Murcko Scaffold\n",
      "Raise AtomValenceException, return basic Murcko Scaffold\n",
      "Raise AtomValenceException, return basic Murcko Scaffold\n",
      "Raise AtomValenceException, return basic Murcko Scaffold\n",
      "Raise AtomValenceException, return basic Murcko Scaffold\n",
      "Raise AtomValenceException, return basic Murcko Scaffold\n",
      "Raise AtomValenceException, return basic Murcko Scaffold\n",
      "Raise AtomValenceException, return basic Murcko Scaffold\n",
      "Raise AtomValenceException, return basic Murcko Scaffold\n",
      "Raise AtomValenceException, return basic Murcko Scaffold\n",
      "Raise AtomValenceException, return basic Murcko Scaffold\n"
     ]
    },
    {
     "name": "stderr",
     "output_type": "stream",
     "text": [
      " 27%|██▋       | 268/1000 [00:05<00:08, 82.51it/s]"
     ]
    },
    {
     "name": "stdout",
     "output_type": "stream",
     "text": [
      "Raise AtomValenceException, return basic Murcko Scaffold\n",
      "Raise AtomValenceException, return basic Murcko Scaffold\n",
      "Raise AtomValenceException, return basic Murcko Scaffold\n",
      "Raise AtomValenceException, return basic Murcko Scaffold\n",
      "Raise AtomValenceException, return basic Murcko Scaffold\n",
      "Raise AtomValenceException, return basic Murcko Scaffold\n",
      "Raise AtomValenceException, return basic Murcko Scaffold\n",
      "Raise AtomValenceException, return basic Murcko Scaffold\n",
      "Raise AtomValenceException, return basic Murcko Scaffold\n",
      "Raise AtomValenceException, return basic Murcko Scaffold\n",
      "Raise AtomValenceException, return basic Murcko Scaffold\n",
      "Raise AtomValenceException, return basic Murcko Scaffold\n",
      "Raise AtomValenceException, return basic Murcko Scaffold\n",
      "Raise AtomValenceException, return basic Murcko Scaffold\n",
      "Raise AtomValenceException, return basic Murcko Scaffold\n",
      "Raise AtomValenceException, return basic Murcko Scaffold\n",
      "Raise AtomValenceException, return basic Murcko Scaffold\n",
      "Raise AtomValenceException, return basic Murcko Scaffold\n",
      "Raise AtomValenceException, return basic Murcko Scaffold\n",
      "Raise AtomValenceException, return basic Murcko Scaffold\n",
      "Raise AtomValenceException, return basic Murcko Scaffold\n",
      "Raise AtomValenceException, return basic Murcko Scaffold\n",
      "Raise AtomValenceException, return basic Murcko Scaffold\n",
      "Raise AtomValenceException, return basic Murcko Scaffold\n",
      "Raise AtomValenceException, return basic Murcko Scaffold\n",
      "Raise AtomValenceException, return basic Murcko Scaffold\n",
      "Raise AtomValenceException, return basic Murcko Scaffold\n",
      "Raise AtomValenceException, return basic Murcko Scaffold\n",
      "Raise AtomValenceException, return basic Murcko Scaffold\n",
      "Raise AtomValenceException, return basic Murcko Scaffold\n",
      "Raise AtomValenceException, return basic Murcko Scaffold\n",
      "Raise AtomValenceException, return basic Murcko Scaffold\n",
      "Raise AtomValenceException, return basic Murcko Scaffold\n",
      "Raise AtomValenceException, return basic Murcko Scaffold\n",
      "Raise AtomValenceException, return basic Murcko Scaffold\n",
      "Raise AtomValenceException, return basic Murcko Scaffold\n",
      "Raise AtomValenceException, return basic Murcko Scaffold\n",
      "Raise AtomValenceException, return basic Murcko Scaffold\n",
      "Raise AtomValenceException, return basic Murcko Scaffold\n",
      "Raise AtomValenceException, return basic Murcko Scaffold\n",
      "Raise AtomValenceException, return basic Murcko Scaffold\n",
      "Raise AtomValenceException, return basic Murcko Scaffold\n"
     ]
    },
    {
     "name": "stderr",
     "output_type": "stream",
     "text": [
      " 32%|███▏      | 323/1000 [00:06<00:06, 101.86it/s]"
     ]
    },
    {
     "name": "stdout",
     "output_type": "stream",
     "text": [
      "Raise AtomValenceException, return basic Murcko Scaffold\n",
      "Raise AtomValenceException, return basic Murcko Scaffold\n",
      "Raise AtomValenceException, return basic Murcko Scaffold\n",
      "Raise AtomValenceException, return basic Murcko Scaffold\n",
      "Raise AtomValenceException, return basic Murcko Scaffold\n",
      "Raise AtomValenceException, return basic Murcko Scaffold\n",
      "Raise AtomValenceException, return basic Murcko Scaffold\n",
      "Raise AtomValenceException, return basic Murcko Scaffold\n",
      "Raise AtomValenceException, return basic Murcko Scaffold\n",
      "Raise AtomValenceException, return basic Murcko Scaffold\n",
      "Raise AtomValenceException, return basic Murcko Scaffold\n",
      "Raise AtomValenceException, return basic Murcko Scaffold\n",
      "Raise AtomValenceException, return basic Murcko Scaffold\n",
      "Raise AtomValenceException, return basic Murcko Scaffold\n",
      "Raise AtomValenceException, return basic Murcko Scaffold\n",
      "Raise AtomValenceException, return basic Murcko Scaffold\n",
      "Raise AtomValenceException, return basic Murcko Scaffold\n",
      "Raise AtomValenceException, return basic Murcko Scaffold\n",
      "Raise AtomValenceException, return basic Murcko Scaffold\n",
      "Raise AtomValenceException, return basic Murcko Scaffold\n",
      "Raise AtomValenceException, return basic Murcko Scaffold\n",
      "Raise AtomValenceException, return basic Murcko Scaffold\n",
      "Raise AtomValenceException, return basic Murcko Scaffold\n",
      "Raise AtomValenceException, return basic Murcko Scaffold\n",
      "Raise AtomValenceException, return basic Murcko Scaffold\n",
      "Raise AtomValenceException, return basic Murcko Scaffold\n",
      "Raise AtomValenceException, return basic Murcko Scaffold\n",
      "Raise AtomValenceException, return basic Murcko Scaffold\n",
      "Raise AtomValenceException, return basic Murcko Scaffold\n",
      "Raise AtomValenceException, return basic Murcko Scaffold\n",
      "Raise AtomValenceException, return basic Murcko Scaffold\n",
      "Raise AtomValenceException, return basic Murcko Scaffold\n",
      "Raise AtomValenceException, return basic Murcko Scaffold\n",
      "Raise AtomValenceException, return basic Murcko Scaffold\n",
      "Raise AtomValenceException, return basic Murcko Scaffold\n",
      "Raise AtomValenceException, return basic Murcko Scaffold\n",
      "Raise AtomValenceException, return basic Murcko Scaffold\n",
      "Raise AtomValenceException, return basic Murcko Scaffold\n",
      "Raise AtomValenceException, return basic Murcko Scaffold\n",
      "Raise AtomValenceException, return basic Murcko Scaffold\n",
      "Raise AtomValenceException, return basic Murcko Scaffold\n",
      "Raise AtomValenceException, return basic Murcko Scaffold\n",
      "Raise AtomValenceException, return basic Murcko Scaffold\n",
      "Raise AtomValenceException, return basic Murcko Scaffold\n",
      "Raise AtomValenceException, return basic Murcko Scaffold\n",
      "Raise AtomValenceException, return basic Murcko Scaffold\n",
      "Raise AtomValenceException, return basic Murcko Scaffold\n",
      "Raise AtomValenceException, return basic Murcko Scaffold\n",
      "Raise AtomValenceException, return basic Murcko Scaffold\n",
      "Raise AtomValenceException, return basic Murcko Scaffold\n",
      "Raise AtomValenceException, return basic Murcko Scaffold\n",
      "Raise AtomValenceException, return basic Murcko Scaffold\n",
      "Raise AtomValenceException, return basic Murcko Scaffold\n"
     ]
    },
    {
     "name": "stderr",
     "output_type": "stream",
     "text": [
      " 41%|████      | 409/1000 [00:06<00:04, 144.80it/s]"
     ]
    },
    {
     "name": "stdout",
     "output_type": "stream",
     "text": [
      "Raise AtomValenceException, return basic Murcko Scaffold\n",
      "Raise AtomValenceException, return basic Murcko Scaffold\n",
      "Raise AtomValenceException, return basic Murcko Scaffold\n",
      "Raise AtomValenceException, return basic Murcko Scaffold\n",
      "Raise AtomValenceException, return basic Murcko Scaffold\n",
      "Raise AtomValenceException, return basic Murcko Scaffold\n",
      "Raise AtomValenceException, return basic Murcko Scaffold\n",
      "Raise AtomValenceException, return basic Murcko Scaffold\n",
      "Raise AtomValenceException, return basic Murcko Scaffold\n",
      "Raise AtomValenceException, return basic Murcko Scaffold\n",
      "Raise AtomValenceException, return basic Murcko Scaffold\n",
      "Raise AtomValenceException, return basic Murcko Scaffold\n",
      "Raise AtomValenceException, return basic Murcko Scaffold\n",
      "Raise AtomValenceException, return basic Murcko Scaffold\n",
      "Raise AtomValenceException, return basic Murcko Scaffold\n",
      "Raise AtomValenceException, return basic Murcko Scaffold\n",
      "Raise AtomValenceException, return basic Murcko Scaffold\n",
      "Raise AtomValenceException, return basic Murcko Scaffold\n",
      "Raise AtomValenceException, return basic Murcko Scaffold\n",
      "Raise AtomValenceException, return basic Murcko Scaffold\n",
      "Raise AtomValenceException, return basic Murcko Scaffold\n",
      "Raise AtomValenceException, return basic Murcko Scaffold\n",
      "Raise AtomValenceException, return basic Murcko Scaffold\n",
      "Raise AtomValenceException, return basic Murcko Scaffold\n",
      "Raise AtomValenceException, return basic Murcko Scaffold\n",
      "Raise AtomValenceException, return basic Murcko Scaffold\n",
      "Raise AtomValenceException, return basic Murcko Scaffold\n",
      "Raise AtomValenceException, return basic Murcko Scaffold\n",
      "Raise AtomValenceException, return basic Murcko Scaffold\n",
      "Raise AtomValenceException, return basic Murcko Scaffold\n",
      "Raise AtomValenceException, return basic Murcko Scaffold\n",
      "Raise AtomValenceException, return basic Murcko Scaffold\n",
      "Raise AtomValenceException, return basic Murcko Scaffold\n",
      "Raise AtomValenceException, return basic Murcko Scaffold\n",
      "Raise AtomValenceException, return basic Murcko Scaffold\n",
      "Raise AtomValenceException, return basic Murcko Scaffold\n",
      "Raise AtomValenceException, return basic Murcko Scaffold\n",
      "Raise AtomValenceException, return basic Murcko Scaffold\n",
      "Raise AtomValenceException, return basic Murcko Scaffold\n",
      "Raise AtomValenceException, return basic Murcko Scaffold\n",
      "Raise AtomValenceException, return basic Murcko Scaffold\n",
      "Raise AtomValenceException, return basic Murcko Scaffold\n",
      "Raise AtomValenceException, return basic Murcko Scaffold\n",
      "Raise AtomValenceException, return basic Murcko Scaffold\n",
      "Raise AtomValenceException, return basic Murcko Scaffold\n",
      "Raise AtomValenceException, return basic Murcko Scaffold\n",
      "Raise AtomValenceException, return basic Murcko Scaffold\n",
      "Raise AtomValenceException, return basic Murcko Scaffold\n",
      "Raise AtomValenceException, return basic Murcko Scaffold\n",
      "Raise AtomValenceException, return basic Murcko Scaffold\n",
      "Raise AtomValenceException, return basic Murcko Scaffold\n",
      "Raise AtomValenceException, return basic Murcko Scaffold\n",
      "Raise AtomValenceException, return basic Murcko Scaffold\n",
      "Raise AtomValenceException, return basic Murcko Scaffold\n",
      "Raise AtomValenceException, return basic Murcko Scaffold\n",
      "Raise AtomValenceException, return basic Murcko Scaffold\n",
      "Raise AtomValenceException, return basic Murcko Scaffold\n",
      "Raise AtomValenceException, return basic Murcko Scaffold\n",
      "Raise AtomValenceException, return basic Murcko Scaffold\n",
      "Raise AtomValenceException, return basic Murcko Scaffold\n",
      "Raise AtomValenceException, return basic Murcko Scaffold\n",
      "Raise AtomValenceException, return basic Murcko Scaffold\n",
      "Raise AtomValenceException, return basic Murcko Scaffold\n",
      "Raise AtomValenceException, return basic Murcko Scaffold\n",
      "Raise AtomValenceException, return basic Murcko Scaffold\n",
      "Raise AtomValenceException, return basic Murcko Scaffold\n",
      "Raise AtomValenceException, return basic Murcko Scaffold\n",
      "Raise AtomValenceException, return basic Murcko Scaffold\n",
      "Raise AtomValenceException, return basic Murcko Scaffold\n",
      "Raise AtomValenceException, return basic Murcko Scaffold\n",
      "Raise AtomValenceException, return basic Murcko Scaffold\n",
      "Raise AtomValenceException, return basic Murcko Scaffold\n",
      "Raise AtomValenceException, return basic Murcko Scaffold\n",
      "Raise AtomValenceException, return basic Murcko Scaffold\n",
      "Raise AtomValenceException, return basic Murcko Scaffold\n",
      "Raise AtomValenceException, return basic Murcko Scaffold\n",
      "Raise AtomValenceException, return basic Murcko Scaffold\n",
      "Raise AtomValenceException, return basic Murcko Scaffold\n",
      "Raise AtomValenceException, return basic Murcko Scaffold\n",
      "Raise AtomValenceException, return basic Murcko Scaffold\n",
      "Raise AtomValenceException, return basic Murcko Scaffold\n",
      "Raise AtomValenceException, return basic Murcko Scaffold\n",
      "Raise AtomValenceException, return basic Murcko Scaffold\n",
      "Raise AtomValenceException, return basic Murcko Scaffold\n",
      "Raise AtomValenceException, return basic Murcko Scaffold\n",
      "Raise AtomValenceException, return basic Murcko Scaffold\n",
      "Raise AtomValenceException, return basic Murcko Scaffold\n",
      "Raise AtomValenceException, return basic Murcko Scaffold\n",
      "Raise AtomValenceException, return basic Murcko Scaffold\n",
      "Raise AtomValenceException, return basic Murcko Scaffold\n",
      "Raise AtomValenceException, return basic Murcko Scaffold\n",
      "Raise AtomValenceException, return basic Murcko Scaffold\n",
      "Raise AtomValenceException, return basic Murcko Scaffold\n",
      "Raise AtomValenceException, return basic Murcko Scaffold\n",
      "Raise AtomValenceException, return basic Murcko Scaffold\n",
      "Raise AtomValenceException, return basic Murcko Scaffold\n",
      "Raise AtomValenceException, return basic Murcko Scaffold\n",
      "Raise AtomValenceException, return basic Murcko Scaffold\n",
      "Raise AtomValenceException, return basic Murcko Scaffold\n",
      "Raise AtomValenceException, return basic Murcko Scaffold\n",
      "Raise AtomValenceException, return basic Murcko Scaffold\n",
      "Raise AtomValenceException, return basic Murcko Scaffold\n",
      "Raise AtomValenceException, return basic Murcko Scaffold\n",
      "Raise AtomValenceException, return basic Murcko Scaffold\n",
      "Raise AtomValenceException, return basic Murcko Scaffold\n",
      "Raise AtomValenceException, return basic Murcko Scaffold\n",
      "Raise AtomValenceException, return basic Murcko Scaffold\n",
      "Raise AtomValenceException, return basic Murcko Scaffold\n",
      "Raise AtomValenceException, return basic Murcko Scaffold\n",
      "Raise AtomValenceException, return basic Murcko Scaffold\n",
      "Raise AtomValenceException, return basic Murcko Scaffold\n",
      "Raise AtomValenceException, return basic Murcko Scaffold\n",
      "Raise AtomValenceException, return basic Murcko Scaffold\n",
      "Raise AtomValenceException, return basic Murcko Scaffold\n",
      "Raise AtomValenceException, return basic Murcko Scaffold\n"
     ]
    },
    {
     "name": "stderr",
     "output_type": "stream",
     "text": [
      " 66%|██████▌   | 655/1000 [00:06<00:00, 401.58it/s]"
     ]
    },
    {
     "name": "stdout",
     "output_type": "stream",
     "text": [
      "Raise AtomValenceException, return basic Murcko Scaffold\n",
      "Raise AtomValenceException, return basic Murcko Scaffold\n",
      "Raise AtomValenceException, return basic Murcko Scaffold\n",
      "Raise AtomValenceException, return basic Murcko Scaffold\n",
      "Raise AtomValenceException, return basic Murcko Scaffold\n",
      "Raise AtomValenceException, return basic Murcko Scaffold\n",
      "Raise AtomValenceException, return basic Murcko Scaffold\n",
      "Raise AtomValenceException, return basic Murcko Scaffold\n",
      "Raise AtomValenceException, return basic Murcko Scaffold\n",
      "Raise AtomValenceException, return basic Murcko Scaffold\n",
      "Raise AtomValenceException, return basic Murcko Scaffold\n",
      "Raise AtomValenceException, return basic Murcko Scaffold\n",
      "Raise AtomValenceException, return basic Murcko Scaffold\n",
      "Raise AtomValenceException, return basic Murcko Scaffold\n",
      "Raise AtomValenceException, return basic Murcko Scaffold\n",
      "Raise AtomValenceException, return basic Murcko Scaffold\n",
      "Raise AtomValenceException, return basic Murcko Scaffold\n",
      "Raise AtomValenceException, return basic Murcko Scaffold\n",
      "Raise AtomValenceException, return basic Murcko Scaffold\n",
      "Raise AtomValenceException, return basic Murcko Scaffold\n",
      "Raise AtomValenceException, return basic Murcko Scaffold\n",
      "Raise AtomValenceException, return basic Murcko Scaffold\n",
      "Raise AtomValenceException, return basic Murcko Scaffold\n",
      "Raise AtomValenceException, return basic Murcko Scaffold\n",
      "Raise AtomValenceException, return basic Murcko Scaffold\n",
      "Raise AtomValenceException, return basic Murcko Scaffold\n",
      "Raise AtomValenceException, return basic Murcko Scaffold\n",
      "Raise AtomValenceException, return basic Murcko Scaffold\n",
      "Raise AtomValenceException, return basic Murcko Scaffold\n",
      "Raise AtomValenceException, return basic Murcko Scaffold\n",
      "Raise AtomValenceException, return basic Murcko Scaffold\n",
      "Raise AtomValenceException, return basic Murcko Scaffold\n",
      "Raise AtomValenceException, return basic Murcko Scaffold\n",
      "Raise AtomValenceException, return basic Murcko Scaffold\n",
      "Raise AtomValenceException, return basic Murcko Scaffold\n",
      "Raise AtomValenceException, return basic Murcko Scaffold\n",
      "Raise AtomValenceException, return basic Murcko Scaffold\n",
      "Raise AtomValenceException, return basic Murcko Scaffold\n",
      "Raise AtomValenceException, return basic Murcko Scaffold\n",
      "Raise AtomValenceException, return basic Murcko Scaffold\n",
      "Raise AtomValenceException, return basic Murcko Scaffold\n",
      "Raise AtomValenceException, return basic Murcko Scaffold\n",
      "Raise AtomValenceException, return basic Murcko Scaffold\n",
      "Raise AtomValenceException, return basic Murcko Scaffold\n",
      "Raise AtomValenceException, return basic Murcko Scaffold\n",
      "Raise AtomValenceException, return basic Murcko Scaffold\n",
      "Raise AtomValenceException, return basic Murcko Scaffold\n",
      "Raise AtomValenceException, return basic Murcko Scaffold\n",
      "Raise AtomValenceException, return basic Murcko Scaffold\n",
      "Raise AtomValenceException, return basic Murcko Scaffold\n",
      "Raise AtomValenceException, return basic Murcko Scaffold\n",
      "Raise AtomValenceException, return basic Murcko Scaffold\n",
      "Raise AtomValenceException, return basic Murcko Scaffold\n",
      "Raise AtomValenceException, return basic Murcko Scaffold\n",
      "Raise AtomValenceException, return basic Murcko Scaffold\n",
      "Raise AtomValenceException, return basic Murcko Scaffold\n",
      "Raise AtomValenceException, return basic Murcko Scaffold\n",
      "Raise AtomValenceException, return basic Murcko Scaffold\n",
      "Raise AtomValenceException, return basic Murcko Scaffold\n",
      "Raise AtomValenceException, return basic Murcko Scaffold\n",
      "Raise AtomValenceException, return basic Murcko Scaffold\n",
      "Raise AtomValenceException, return basic Murcko Scaffold\n",
      "Raise AtomValenceException, return basic Murcko Scaffold\n",
      "Raise AtomValenceException, return basic Murcko Scaffold\n",
      "Raise AtomValenceException, return basic Murcko Scaffold\n",
      "Raise AtomValenceException, return basic Murcko Scaffold\n",
      "Raise AtomValenceException, return basic Murcko Scaffold\n",
      "Raise AtomValenceException, return basic Murcko Scaffold\n",
      "Raise AtomValenceException, return basic Murcko Scaffold\n",
      "Raise AtomValenceException, return basic Murcko Scaffold\n",
      "Raise AtomValenceException, return basic Murcko Scaffold\n",
      "Raise AtomValenceException, return basic Murcko Scaffold\n",
      "Raise AtomValenceException, return basic Murcko Scaffold\n",
      "Raise AtomValenceException, return basic Murcko Scaffold\n",
      "Raise AtomValenceException, return basic Murcko Scaffold\n",
      "Raise AtomValenceException, return basic Murcko Scaffold\n",
      "Raise AtomValenceException, return basic Murcko Scaffold\n",
      "Raise AtomValenceException, return basic Murcko Scaffold\n",
      "Raise AtomValenceException, return basic Murcko Scaffold\n",
      "Raise AtomValenceException, return basic Murcko Scaffold\n",
      "Raise AtomValenceException, return basic Murcko Scaffold\n",
      "Raise AtomValenceException, return basic Murcko Scaffold\n",
      "Raise AtomValenceException, return basic Murcko Scaffold\n",
      "Raise AtomValenceException, return basic Murcko Scaffold\n",
      "Raise AtomValenceException, return basic Murcko Scaffold\n",
      "Raise AtomValenceException, return basic Murcko Scaffold\n",
      "Raise AtomValenceException, return basic Murcko Scaffold\n",
      "Raise AtomValenceException, return basic Murcko Scaffold\n",
      "Raise AtomValenceException, return basic Murcko Scaffold\n",
      "Raise AtomValenceException, return basic Murcko Scaffold\n",
      "Raise AtomValenceException, return basic Murcko Scaffold\n",
      "Raise AtomValenceException, return basic Murcko Scaffold\n",
      "Raise AtomValenceException, return basic Murcko Scaffold\n",
      "Raise AtomValenceException, return basic Murcko Scaffold\n",
      "Raise AtomValenceException, return basic Murcko Scaffold\n",
      "Raise AtomValenceException, return basic Murcko Scaffold\n",
      "Raise AtomValenceException, return basic Murcko Scaffold\n",
      "Raise AtomValenceException, return basic Murcko Scaffold\n",
      "Raise AtomValenceException, return basic Murcko Scaffold\n",
      "Raise AtomValenceException, return basic Murcko Scaffold\n",
      "Raise AtomValenceException, return basic Murcko Scaffold\n",
      "Raise AtomValenceException, return basic Murcko Scaffold\n",
      "Raise AtomValenceException, return basic Murcko Scaffold\n",
      "Raise AtomValenceException, return basic Murcko Scaffold\n",
      "Raise AtomValenceException, return basic Murcko Scaffold\n",
      "Raise AtomValenceException, return basic Murcko Scaffold\n",
      "Raise AtomValenceException, return basic Murcko Scaffold\n",
      "Raise AtomValenceException, return basic Murcko Scaffold\n",
      "Raise AtomValenceException, return basic Murcko Scaffold\n",
      "Raise AtomValenceException, return basic Murcko Scaffold\n",
      "Raise AtomValenceException, return basic Murcko Scaffold\n",
      "Raise AtomValenceException, return basic Murcko Scaffold\n",
      "Raise AtomValenceException, return basic Murcko Scaffold\n",
      "Raise AtomValenceException, return basic Murcko Scaffold\n",
      "Raise AtomValenceException, return basic Murcko Scaffold\n",
      "Raise AtomValenceException, return basic Murcko Scaffold\n",
      "Raise AtomValenceException, return basic Murcko Scaffold\n",
      "Raise AtomValenceException, return basic Murcko Scaffold\n",
      "Raise AtomValenceException, return basic Murcko Scaffold\n",
      "Raise AtomValenceException, return basic Murcko Scaffold\n",
      "Raise AtomValenceException, return basic Murcko Scaffold\n",
      "Raise AtomValenceException, return basic Murcko Scaffold\n",
      "Raise AtomValenceException, return basic Murcko Scaffold\n",
      "Raise AtomValenceException, return basic Murcko Scaffold\n",
      "Raise AtomValenceException, return basic Murcko Scaffold\n",
      "Raise AtomValenceException, return basic Murcko Scaffold\n",
      "Raise AtomValenceException, return basic Murcko Scaffold\n",
      "Raise AtomValenceException, return basic Murcko Scaffold\n",
      "Raise AtomValenceException, return basic Murcko Scaffold\n",
      "Raise AtomValenceException, return basic Murcko Scaffold\n",
      "Raise AtomValenceException, return basic Murcko Scaffold\n",
      "Raise AtomValenceException, return basic Murcko Scaffold\n",
      "Raise AtomValenceException, return basic Murcko Scaffold\n",
      "Raise AtomValenceException, return basic Murcko Scaffold\n",
      "Raise AtomValenceException, return basic Murcko Scaffold\n",
      "Raise AtomValenceException, return basic Murcko Scaffold\n",
      "Raise AtomValenceException, return basic Murcko Scaffold\n",
      "Raise AtomValenceException, return basic Murcko Scaffold\n",
      "Raise AtomValenceException, return basic Murcko Scaffold\n",
      "Raise AtomValenceException, return basic Murcko Scaffold\n",
      "Raise AtomValenceException, return basic Murcko Scaffold\n",
      "Raise AtomValenceException, return basic Murcko Scaffold\n",
      "Raise AtomValenceException, return basic Murcko Scaffold\n",
      "Raise AtomValenceException, return basic Murcko Scaffold\n",
      "Raise AtomValenceException, return basic Murcko Scaffold\n",
      "Raise AtomValenceException, return basic Murcko Scaffold\n",
      "Raise AtomValenceException, return basic Murcko Scaffold\n",
      "Raise AtomValenceException, return basic Murcko Scaffold\n",
      "Raise AtomValenceException, return basic Murcko Scaffold\n",
      "Raise AtomValenceException, return basic Murcko Scaffold\n",
      "Raise AtomValenceException, return basic Murcko Scaffold\n",
      "Raise AtomValenceException, return basic Murcko Scaffold\n",
      "Raise AtomValenceException, return basic Murcko Scaffold\n",
      "Raise AtomValenceException, return basic Murcko Scaffold\n",
      "Raise AtomValenceException, return basic Murcko Scaffold\n",
      "Raise AtomValenceException, return basic Murcko Scaffold\n",
      "Raise AtomValenceException, return basic Murcko Scaffold\n",
      "Raise AtomValenceException, return basic Murcko Scaffold\n",
      "Raise AtomValenceException, return basic Murcko Scaffold\n",
      "Raise AtomValenceException, return basic Murcko Scaffold\n",
      "Raise AtomValenceException, return basic Murcko Scaffold\n",
      "Raise AtomValenceException, return basic Murcko Scaffold\n",
      "Raise AtomValenceException, return basic Murcko Scaffold\n",
      "Raise AtomValenceException, return basic Murcko Scaffold\n",
      "Raise AtomValenceException, return basic Murcko Scaffold\n",
      "Raise AtomValenceException, return basic Murcko Scaffold\n",
      "Raise AtomValenceException, return basic Murcko Scaffold\n",
      "Raise AtomValenceException, return basic Murcko Scaffold\n",
      "Raise AtomValenceException, return basic Murcko Scaffold\n",
      "Raise AtomValenceException, return basic Murcko Scaffold\n",
      "Raise AtomValenceException, return basic Murcko Scaffold\n",
      "Raise AtomValenceException, return basic Murcko Scaffold\n",
      "Raise AtomValenceException, return basic Murcko Scaffold\n",
      "Raise AtomValenceException, return basic Murcko Scaffold\n",
      "Raise AtomValenceException, return basic Murcko Scaffold\n",
      "Raise AtomValenceException, return basic Murcko Scaffold\n",
      "Raise AtomValenceException, return basic Murcko Scaffold\n",
      "Raise AtomValenceException, return basic Murcko Scaffold\n",
      "Raise AtomValenceException, return basic Murcko Scaffold\n",
      "Raise AtomValenceException, return basic Murcko Scaffold\n",
      "Raise AtomValenceException, return basic Murcko Scaffold\n",
      "Raise AtomValenceException, return basic Murcko Scaffold\n",
      "Raise AtomValenceException, return basic Murcko Scaffold\n",
      "Raise AtomValenceException, return basic Murcko Scaffold\n",
      "Raise AtomValenceException, return basic Murcko Scaffold\n",
      "Raise AtomValenceException, return basic Murcko Scaffold\n",
      "Raise AtomValenceException, return basic Murcko Scaffold\n",
      "Raise AtomValenceException, return basic Murcko Scaffold\n",
      "Raise AtomValenceException, return basic Murcko Scaffold\n",
      "Raise AtomValenceException, return basic Murcko Scaffold\n",
      "Raise AtomValenceException, return basic Murcko Scaffold\n",
      "Raise AtomValenceException, return basic Murcko Scaffold\n",
      "Raise AtomValenceException, return basic Murcko Scaffold\n",
      "Raise AtomValenceException, return basic Murcko Scaffold\n",
      "Raise AtomValenceException, return basic Murcko Scaffold\n",
      "Raise AtomValenceException, return basic Murcko Scaffold\n",
      "Raise AtomValenceException, return basic Murcko Scaffold\n",
      "Raise AtomValenceException, return basic Murcko Scaffold\n",
      "Raise AtomValenceException, return basic Murcko Scaffold\n",
      "Raise AtomValenceException, return basic Murcko Scaffold\n",
      "Raise AtomValenceException, return basic Murcko Scaffold\n",
      "Raise AtomValenceException, return basic Murcko Scaffold\n",
      "Raise AtomValenceException, return basic Murcko Scaffold\n",
      "Raise AtomValenceException, return basic Murcko Scaffold\n",
      "Raise AtomValenceException, return basic Murcko Scaffold\n",
      "Raise AtomValenceException, return basic Murcko Scaffold\n",
      "Raise AtomValenceException, return basic Murcko Scaffold\n",
      "Raise AtomValenceException, return basic Murcko Scaffold\n",
      "Raise AtomValenceException, return basic Murcko Scaffold\n",
      "Raise AtomValenceException, return basic Murcko Scaffold\n",
      "Raise AtomValenceException, return basic Murcko Scaffold\n",
      "Raise AtomValenceException, return basic Murcko Scaffold\n",
      "Raise AtomValenceException, return basic Murcko Scaffold\n",
      "Raise AtomValenceException, return basic Murcko Scaffold\n",
      "Raise AtomValenceException, return basic Murcko Scaffold\n",
      "Raise AtomValenceException, return basic Murcko Scaffold\n",
      "Raise AtomValenceException, return basic Murcko Scaffold\n",
      "Raise AtomValenceException, return basic Murcko Scaffold\n"
     ]
    },
    {
     "name": "stderr",
     "output_type": "stream",
     "text": [
      " 74%|███████▍  | 738/1000 [00:06<00:00, 368.68it/s]"
     ]
    },
    {
     "name": "stdout",
     "output_type": "stream",
     "text": [
      "Raise AtomValenceException, return basic Murcko Scaffold\n",
      "Raise AtomValenceException, return basic Murcko Scaffold\n",
      "Raise AtomValenceException, return basic Murcko Scaffold\n",
      "Raise AtomValenceException, return basic Murcko Scaffold\n",
      "Raise AtomValenceException, return basic Murcko Scaffold\n",
      "Raise AtomValenceException, return basic Murcko Scaffold\n",
      "Raise AtomValenceException, return basic Murcko Scaffold\n",
      "Raise AtomValenceException, return basic Murcko Scaffold\n",
      "Raise AtomValenceException, return basic Murcko Scaffold\n",
      "Raise AtomValenceException, return basic Murcko Scaffold\n",
      "Raise AtomValenceException, return basic Murcko Scaffold\n",
      "Raise AtomValenceException, return basic Murcko Scaffold\n",
      "Raise AtomValenceException, return basic Murcko Scaffold\n",
      "Raise AtomValenceException, return basic Murcko Scaffold\n",
      "Raise AtomValenceException, return basic Murcko Scaffold\n",
      "Raise AtomValenceException, return basic Murcko Scaffold\n",
      "Raise AtomValenceException, return basic Murcko Scaffold\n",
      "Raise AtomValenceException, return basic Murcko Scaffold\n",
      "Raise AtomValenceException, return basic Murcko Scaffold\n",
      "Raise AtomValenceException, return basic Murcko Scaffold\n",
      "Raise AtomValenceException, return basic Murcko Scaffold\n",
      "Raise AtomValenceException, return basic Murcko Scaffold\n",
      "Raise AtomValenceException, return basic Murcko Scaffold\n",
      "Raise AtomValenceException, return basic Murcko Scaffold\n",
      "Raise AtomValenceException, return basic Murcko Scaffold\n",
      "Raise AtomValenceException, return basic Murcko Scaffold\n",
      "Raise AtomValenceException, return basic Murcko Scaffold\n",
      "Raise AtomValenceException, return basic Murcko Scaffold\n",
      "Raise AtomValenceException, return basic Murcko Scaffold\n",
      "Raise AtomValenceException, return basic Murcko Scaffold\n",
      "Raise AtomValenceException, return basic Murcko Scaffold\n",
      "Raise AtomValenceException, return basic Murcko Scaffold\n",
      "Raise AtomValenceException, return basic Murcko Scaffold\n",
      "Raise AtomValenceException, return basic Murcko Scaffold\n",
      "Raise AtomValenceException, return basic Murcko Scaffold\n",
      "Raise AtomValenceException, return basic Murcko Scaffold\n",
      "Raise AtomValenceException, return basic Murcko Scaffold\n",
      "Raise AtomValenceException, return basic Murcko Scaffold\n",
      "Raise AtomValenceException, return basic Murcko Scaffold\n",
      "Raise AtomValenceException, return basic Murcko Scaffold\n",
      "Raise AtomValenceException, return basic Murcko Scaffold\n",
      "Raise AtomValenceException, return basic Murcko Scaffold\n",
      "Raise AtomValenceException, return basic Murcko Scaffold\n",
      "Raise AtomValenceException, return basic Murcko Scaffold\n",
      "Raise AtomValenceException, return basic Murcko Scaffold\n",
      "Raise AtomValenceException, return basic Murcko Scaffold\n",
      "Raise AtomValenceException, return basic Murcko Scaffold\n",
      "Raise AtomValenceException, return basic Murcko Scaffold\n",
      "Raise AtomValenceException, return basic Murcko Scaffold\n",
      "Raise AtomValenceException, return basic Murcko Scaffold\n",
      "Raise AtomValenceException, return basic Murcko Scaffold\n",
      "Raise AtomValenceException, return basic Murcko Scaffold\n",
      "Raise AtomValenceException, return basic Murcko Scaffold\n",
      "Raise AtomValenceException, return basic Murcko Scaffold\n",
      "Raise AtomValenceException, return basic Murcko Scaffold\n",
      "Raise AtomValenceException, return basic Murcko Scaffold\n",
      "Raise AtomValenceException, return basic Murcko Scaffold\n",
      "Raise AtomValenceException, return basic Murcko Scaffold\n",
      "Raise AtomValenceException, return basic Murcko Scaffold\n",
      "Raise AtomValenceException, return basic Murcko Scaffold\n",
      "Raise AtomValenceException, return basic Murcko Scaffold\n",
      "Raise AtomValenceException, return basic Murcko Scaffold\n",
      "Raise AtomValenceException, return basic Murcko Scaffold\n",
      "Raise AtomValenceException, return basic Murcko Scaffold\n",
      "Raise AtomValenceException, return basic Murcko Scaffold\n",
      "Raise AtomValenceException, return basic Murcko Scaffold\n",
      "Raise AtomValenceException, return basic Murcko Scaffold\n",
      "Raise AtomValenceException, return basic Murcko Scaffold\n",
      "Raise AtomValenceException, return basic Murcko Scaffold\n",
      "Raise AtomValenceException, return basic Murcko Scaffold\n",
      "Raise AtomValenceException, return basic Murcko Scaffold\n",
      "Raise AtomValenceException, return basic Murcko Scaffold\n",
      "Raise AtomValenceException, return basic Murcko Scaffold\n",
      "Raise AtomValenceException, return basic Murcko Scaffold\n",
      "Raise AtomValenceException, return basic Murcko Scaffold\n",
      "Raise AtomValenceException, return basic Murcko Scaffold\n",
      "Raise AtomValenceException, return basic Murcko Scaffold\n",
      "Raise AtomValenceException, return basic Murcko Scaffold\n",
      "Raise AtomValenceException, return basic Murcko Scaffold\n",
      "Raise AtomValenceException, return basic Murcko Scaffold\n",
      "Raise AtomValenceException, return basic Murcko Scaffold\n",
      "Raise AtomValenceException, return basic Murcko Scaffold\n"
     ]
    },
    {
     "name": "stderr",
     "output_type": "stream",
     "text": [
      " 86%|████████▌ | 855/1000 [00:07<00:00, 244.93it/s]"
     ]
    },
    {
     "name": "stdout",
     "output_type": "stream",
     "text": [
      "Raise AtomValenceException, return basic Murcko Scaffold\n",
      "Raise AtomValenceException, return basic Murcko Scaffold\n",
      "Raise AtomValenceException, return basic Murcko Scaffold\n",
      "Raise AtomValenceException, return basic Murcko Scaffold\n",
      "Raise AtomValenceException, return basic Murcko Scaffold\n",
      "Raise AtomValenceException, return basic Murcko Scaffold\n",
      "Raise AtomValenceException, return basic Murcko Scaffold\n",
      "Raise AtomValenceException, return basic Murcko Scaffold\n",
      "Raise AtomValenceException, return basic Murcko Scaffold\n",
      "Raise AtomValenceException, return basic Murcko Scaffold\n",
      "Raise AtomValenceException, return basic Murcko Scaffold\n",
      "Raise AtomValenceException, return basic Murcko Scaffold\n",
      "Raise AtomValenceException, return basic Murcko Scaffold\n",
      "Raise AtomValenceException, return basic Murcko Scaffold\n",
      "Raise AtomValenceException, return basic Murcko Scaffold\n",
      "Raise AtomValenceException, return basic Murcko Scaffold\n",
      "Raise AtomValenceException, return basic Murcko Scaffold\n",
      "Raise AtomValenceException, return basic Murcko Scaffold\n",
      "Raise AtomValenceException, return basic Murcko Scaffold\n",
      "Raise AtomValenceException, return basic Murcko Scaffold\n",
      "Raise AtomValenceException, return basic Murcko Scaffold\n",
      "Raise AtomValenceException, return basic Murcko Scaffold\n",
      "Raise AtomValenceException, return basic Murcko Scaffold\n",
      "Raise AtomValenceException, return basic Murcko Scaffold\n",
      "Raise AtomValenceException, return basic Murcko Scaffold\n",
      "Raise AtomValenceException, return basic Murcko Scaffold\n",
      "Raise AtomValenceException, return basic Murcko Scaffold\n",
      "Raise AtomValenceException, return basic Murcko Scaffold\n",
      "Raise AtomValenceException, return basic Murcko Scaffold\n",
      "Raise AtomValenceException, return basic Murcko Scaffold\n",
      "Raise AtomValenceException, return basic Murcko Scaffold\n",
      "Raise AtomValenceException, return basic Murcko Scaffold\n",
      "Raise AtomValenceException, return basic Murcko Scaffold\n",
      "Raise AtomValenceException, return basic Murcko Scaffold\n",
      "Raise AtomValenceException, return basic Murcko Scaffold\n",
      "Raise AtomValenceException, return basic Murcko Scaffold\n",
      "Raise AtomValenceException, return basic Murcko Scaffold\n",
      "Raise AtomValenceException, return basic Murcko Scaffold\n",
      "Raise AtomValenceException, return basic Murcko Scaffold\n",
      "Raise AtomValenceException, return basic Murcko Scaffold\n",
      "Raise AtomValenceException, return basic Murcko Scaffold\n",
      "Raise AtomValenceException, return basic Murcko Scaffold\n",
      "Raise AtomValenceException, return basic Murcko Scaffold\n",
      "Raise AtomValenceException, return basic Murcko Scaffold\n",
      "Raise AtomValenceException, return basic Murcko Scaffold\n",
      "Raise AtomValenceException, return basic Murcko Scaffold\n",
      "Raise AtomValenceException, return basic Murcko Scaffold\n",
      "Raise AtomValenceException, return basic Murcko Scaffold\n",
      "Raise AtomValenceException, return basic Murcko Scaffold\n",
      "Raise AtomValenceException, return basic Murcko Scaffold\n",
      "Raise AtomValenceException, return basic Murcko Scaffold\n",
      "Raise AtomValenceException, return basic Murcko Scaffold\n",
      "Raise AtomValenceException, return basic Murcko Scaffold\n",
      "Raise AtomValenceException, return basic Murcko Scaffold\n",
      "Raise AtomValenceException, return basic Murcko Scaffold\n",
      "Raise AtomValenceException, return basic Murcko Scaffold\n",
      "Raise AtomValenceException, return basic Murcko Scaffold\n",
      "Raise AtomValenceException, return basic Murcko Scaffold\n",
      "Raise AtomValenceException, return basic Murcko Scaffold\n",
      "Raise AtomValenceException, return basic Murcko Scaffold\n",
      "Raise AtomValenceException, return basic Murcko Scaffold\n",
      "Raise AtomValenceException, return basic Murcko Scaffold\n",
      "Raise AtomValenceException, return basic Murcko Scaffold\n",
      "Raise AtomValenceException, return basic Murcko Scaffold\n",
      "Raise AtomValenceException, return basic Murcko Scaffold\n",
      "Raise AtomValenceException, return basic Murcko Scaffold\n",
      "Raise AtomValenceException, return basic Murcko Scaffold\n",
      "Raise AtomValenceException, return basic Murcko Scaffold\n",
      "Raise AtomValenceException, return basic Murcko Scaffold\n",
      "Raise AtomValenceException, return basic Murcko Scaffold\n",
      "Raise AtomValenceException, return basic Murcko Scaffold\n",
      "Raise AtomValenceException, return basic Murcko Scaffold\n",
      "Raise AtomValenceException, return basic Murcko Scaffold\n",
      "Raise AtomValenceException, return basic Murcko Scaffold\n",
      "Raise AtomValenceException, return basic Murcko Scaffold\n",
      "Raise AtomValenceException, return basic Murcko Scaffold\n",
      "Raise AtomValenceException, return basic Murcko Scaffold\n",
      "Raise AtomValenceException, return basic Murcko Scaffold\n",
      "Raise AtomValenceException, return basic Murcko Scaffold\n",
      "Raise AtomValenceException, return basic Murcko Scaffold\n",
      "Raise AtomValenceException, return basic Murcko Scaffold\n",
      "Raise AtomValenceException, return basic Murcko Scaffold\n",
      "Raise AtomValenceException, return basic Murcko Scaffold\n",
      "Raise AtomValenceException, return basic Murcko Scaffold\n",
      "Raise AtomValenceException, return basic Murcko Scaffold\n",
      "Raise AtomValenceException, return basic Murcko Scaffold\n",
      "Raise AtomValenceException, return basic Murcko Scaffold\n",
      "Raise AtomValenceException, return basic Murcko Scaffold\n",
      "Raise AtomValenceException, return basic Murcko Scaffold\n",
      "Raise AtomValenceException, return basic Murcko Scaffold\n",
      "Raise AtomValenceException, return basic Murcko Scaffold\n",
      "Raise AtomValenceException, return basic Murcko Scaffold\n",
      "Raise AtomValenceException, return basic Murcko Scaffold\n",
      "Raise AtomValenceException, return basic Murcko Scaffold\n",
      "Raise AtomValenceException, return basic Murcko Scaffold\n",
      "Raise AtomValenceException, return basic Murcko Scaffold\n",
      "Raise AtomValenceException, return basic Murcko Scaffold\n",
      "Raise AtomValenceException, return basic Murcko Scaffold\n"
     ]
    },
    {
     "name": "stderr",
     "output_type": "stream",
     "text": [
      " 95%|█████████▍| 946/1000 [00:07<00:00, 282.20it/s]"
     ]
    },
    {
     "name": "stdout",
     "output_type": "stream",
     "text": [
      "Raise AtomValenceException, return basic Murcko Scaffold\n",
      "Raise AtomValenceException, return basic Murcko Scaffold\n",
      "Raise AtomValenceException, return basic Murcko Scaffold\n",
      "Raise AtomValenceException, return basic Murcko Scaffold\n",
      "Raise AtomValenceException, return basic Murcko Scaffold\n",
      "Raise AtomValenceException, return basic Murcko Scaffold\n",
      "Raise AtomValenceException, return basic Murcko Scaffold\n",
      "Raise AtomValenceException, return basic Murcko Scaffold\n",
      "Raise AtomValenceException, return basic Murcko Scaffold\n",
      "Raise AtomValenceException, return basic Murcko Scaffold\n",
      "Raise AtomValenceException, return basic Murcko Scaffold\n",
      "Raise AtomValenceException, return basic Murcko Scaffold\n",
      "Raise AtomValenceException, return basic Murcko Scaffold\n",
      "Raise AtomValenceException, return basic Murcko Scaffold\n",
      "Raise AtomValenceException, return basic Murcko Scaffold\n",
      "Raise AtomValenceException, return basic Murcko Scaffold\n",
      "Raise AtomValenceException, return basic Murcko Scaffold\n",
      "Raise AtomValenceException, return basic Murcko Scaffold\n",
      "Raise AtomValenceException, return basic Murcko Scaffold\n",
      "Raise AtomValenceException, return basic Murcko Scaffold\n",
      "Raise AtomValenceException, return basic Murcko Scaffold\n",
      "Raise AtomValenceException, return basic Murcko Scaffold\n",
      "Raise AtomValenceException, return basic Murcko Scaffold\n",
      "Raise AtomValenceException, return basic Murcko Scaffold\n",
      "Raise AtomValenceException, return basic Murcko Scaffold\n",
      "Raise AtomValenceException, return basic Murcko Scaffold\n",
      "Raise AtomValenceException, return basic Murcko Scaffold\n",
      "Raise AtomValenceException, return basic Murcko Scaffold\n",
      "Raise AtomValenceException, return basic Murcko Scaffold\n",
      "Raise AtomValenceException, return basic Murcko Scaffold\n",
      "Raise AtomValenceException, return basic Murcko Scaffold\n",
      "Raise AtomValenceException, return basic Murcko Scaffold\n",
      "Raise AtomValenceException, return basic Murcko Scaffold\n",
      "Raise AtomValenceException, return basic Murcko Scaffold\n",
      "Raise AtomValenceException, return basic Murcko Scaffold\n",
      "Raise AtomValenceException, return basic Murcko Scaffold\n",
      "Raise AtomValenceException, return basic Murcko Scaffold\n",
      "Raise AtomValenceException, return basic Murcko Scaffold\n",
      "Raise AtomValenceException, return basic Murcko Scaffold\n",
      "Raise AtomValenceException, return basic Murcko Scaffold\n",
      "Raise AtomValenceException, return basic Murcko Scaffold\n",
      "Raise AtomValenceException, return basic Murcko Scaffold\n",
      "Raise AtomValenceException, return basic Murcko Scaffold\n",
      "Raise AtomValenceException, return basic Murcko Scaffold\n",
      "Raise AtomValenceException, return basic Murcko Scaffold\n",
      "Raise AtomValenceException, return basic Murcko Scaffold\n",
      "Raise AtomValenceException, return basic Murcko Scaffold\n",
      "Raise AtomValenceException, return basic Murcko Scaffold\n",
      "Raise AtomValenceException, return basic Murcko Scaffold\n",
      "Raise AtomValenceException, return basic Murcko Scaffold\n",
      "Raise AtomValenceException, return basic Murcko Scaffold\n",
      "Raise AtomValenceException, return basic Murcko Scaffold\n",
      "Raise AtomValenceException, return basic Murcko Scaffold\n",
      "Raise AtomValenceException, return basic Murcko Scaffold\n",
      "Raise AtomValenceException, return basic Murcko Scaffold\n",
      "Raise AtomValenceException, return basic Murcko Scaffold\n",
      "Raise AtomValenceException, return basic Murcko Scaffold\n",
      "Raise AtomValenceException, return basic Murcko Scaffold\n",
      "Raise AtomValenceException, return basic Murcko Scaffold\n",
      "Raise AtomValenceException, return basic Murcko Scaffold\n",
      "Raise AtomValenceException, return basic Murcko Scaffold\n",
      "Raise AtomValenceException, return basic Murcko Scaffold\n",
      "Raise AtomValenceException, return basic Murcko Scaffold\n",
      "Raise AtomValenceException, return basic Murcko Scaffold\n",
      "Raise AtomValenceException, return basic Murcko Scaffold\n",
      "Raise AtomValenceException, return basic Murcko Scaffold\n",
      "Raise AtomValenceException, return basic Murcko Scaffold\n",
      "Raise AtomValenceException, return basic Murcko Scaffold\n",
      "Raise AtomValenceException, return basic Murcko Scaffold\n",
      "Raise AtomValenceException, return basic Murcko Scaffold\n",
      "Raise AtomValenceException, return basic Murcko Scaffold\n",
      "Raise AtomValenceException, return basic Murcko Scaffold\n",
      "Raise AtomValenceException, return basic Murcko Scaffold\n",
      "Raise AtomValenceException, return basic Murcko Scaffold\n",
      "Raise AtomValenceException, return basic Murcko Scaffold\n",
      "Raise AtomValenceException, return basic Murcko Scaffold\n",
      "Raise AtomValenceException, return basic Murcko Scaffold\n",
      "Raise AtomValenceException, return basic Murcko Scaffold\n",
      "Raise AtomValenceException, return basic Murcko Scaffold\n",
      "Raise AtomValenceException, return basic Murcko Scaffold\n",
      "Raise AtomValenceException, return basic Murcko Scaffold\n",
      "Raise AtomValenceException, return basic Murcko Scaffold\n"
     ]
    },
    {
     "name": "stderr",
     "output_type": "stream",
     "text": [
      "100%|██████████| 1000/1000 [00:07<00:00, 125.97it/s]"
     ]
    },
    {
     "name": "stdout",
     "output_type": "stream",
     "text": [
      "Raise AtomValenceException, return basic Murcko Scaffold\n",
      "Raise AtomValenceException, return basic Murcko Scaffold\n",
      "Raise AtomValenceException, return basic Murcko Scaffold\n",
      "Raise AtomValenceException, return basic Murcko Scaffold\n",
      "Raise AtomValenceException, return basic Murcko Scaffold\n",
      "Raise AtomValenceException, return basic Murcko Scaffold\n",
      "Raise AtomValenceException, return basic Murcko Scaffold\n",
      "Raise AtomValenceException, return basic Murcko Scaffold\n",
      "Raise AtomValenceException, return basic Murcko Scaffold\n",
      "Raise AtomValenceException, return basic Murcko Scaffold\n",
      "Raise AtomValenceException, return basic Murcko Scaffold\n",
      "Raise AtomValenceException, return basic Murcko Scaffold\n",
      "Raise AtomValenceException, return basic Murcko Scaffold\n",
      "Raise AtomValenceException, return basic Murcko Scaffold\n",
      "Raise AtomValenceException, return basic Murcko Scaffold\n",
      "Raise AtomValenceException, return basic Murcko Scaffold\n",
      "Raise AtomValenceException, return basic Murcko Scaffold\n",
      "Raise AtomValenceException, return basic Murcko Scaffold\n",
      "Raise AtomValenceException, return basic Murcko Scaffold\n",
      "Raise AtomValenceException, return basic Murcko Scaffold\n",
      "Raise AtomValenceException, return basic Murcko Scaffold\n",
      "Raise AtomValenceException, return basic Murcko Scaffold\n",
      "Raise AtomValenceException, return basic Murcko Scaffold\n",
      "Raise AtomValenceException, return basic Murcko Scaffold\n",
      "Raise AtomValenceException, return basic Murcko Scaffold\n",
      "Raise AtomValenceException, return basic Murcko Scaffold\n",
      "Raise AtomValenceException, return basic Murcko Scaffold\n",
      "Raise AtomValenceException, return basic Murcko Scaffold\n",
      "Raise AtomValenceException, return basic Murcko Scaffold\n",
      "Raise AtomValenceException, return basic Murcko Scaffold\n",
      "Raise AtomValenceException, return basic Murcko Scaffold\n",
      "Raise AtomValenceException, return basic Murcko Scaffold\n",
      "Raise AtomValenceException, return basic Murcko Scaffold\n",
      "Raise AtomValenceException, return basic Murcko Scaffold\n",
      "Raise AtomValenceException, return basic Murcko Scaffold\n",
      "Raise AtomValenceException, return basic Murcko Scaffold\n",
      "Raise AtomValenceException, return basic Murcko Scaffold\n",
      "Raise AtomValenceException, return basic Murcko Scaffold\n",
      "Raise AtomValenceException, return basic Murcko Scaffold\n",
      "Raise AtomValenceException, return basic Murcko Scaffold\n",
      "Raise AtomValenceException, return basic Murcko Scaffold\n",
      "Raise AtomValenceException, return basic Murcko Scaffold\n",
      "Raise AtomValenceException, return basic Murcko Scaffold\n",
      "Raise AtomValenceException, return basic Murcko Scaffold\n",
      "Raise AtomValenceException, return basic Murcko Scaffold\n",
      "Raise AtomValenceException, return basic Murcko Scaffold\n",
      "Raise AtomValenceException, return basic Murcko Scaffold\n",
      "Raise AtomValenceException, return basic Murcko Scaffold\n",
      "Raise AtomValenceException, return basic Murcko Scaffold\n",
      "Raise AtomValenceException, return basic Murcko Scaffold\n",
      "Raise AtomValenceException, return basic Murcko Scaffold\n",
      "Raise AtomValenceException, return basic Murcko Scaffold\n",
      "Raise AtomValenceException, return basic Murcko Scaffold\n",
      "Raise AtomValenceException, return basic Murcko Scaffold\n"
     ]
    },
    {
     "name": "stderr",
     "output_type": "stream",
     "text": [
      "\n"
     ]
    }
   ],
   "source": [
    "all_spectrums_original = LoadData.get_all_spectrums(mgf_path_original,1000)"
   ]
  },
  {
   "cell_type": "code",
   "execution_count": 34,
   "id": "f42a7c47-21be-4105-8510-5c6ca533f285",
   "metadata": {
    "tags": []
   },
   "outputs": [
    {
     "data": {
      "text/plain": [
       "1000"
      ]
     },
     "execution_count": 34,
     "metadata": {},
     "output_type": "execute_result"
    }
   ],
   "source": [
    "len(all_spectrums_original)"
   ]
  },
  {
   "cell_type": "code",
   "execution_count": 35,
   "id": "54d4cb77-f690-4fdf-a27e-cf7854d94e4a",
   "metadata": {
    "tags": []
   },
   "outputs": [
    {
     "data": {
      "text/plain": [
       "<module 'depthcharge' from 'C:\\\\Users\\\\ramir\\\\anaconda3\\\\Lib\\\\site-packages\\\\depthcharge\\\\__init__.py'>"
      ]
     },
     "execution_count": 35,
     "metadata": {},
     "output_type": "execute_result"
    }
   ],
   "source": [
    "depthcharge"
   ]
  },
  {
   "cell_type": "code",
   "execution_count": null,
   "id": "e22491c3-6a30-4b46-8ec7-366185ca5035",
   "metadata": {},
   "outputs": [],
   "source": []
  },
  {
   "cell_type": "code",
   "execution_count": 36,
   "id": "786c60ce-0977-4f31-b591-78aec4474a5d",
   "metadata": {
    "tags": []
   },
   "outputs": [
    {
     "data": {
      "application/vnd.jupyter.widget-view+json": {
       "model_id": "1c5baa501c714feb9ed55378c934932d",
       "version_major": 2,
       "version_minor": 0
      },
      "text/plain": [
       "GNPS-COLLECTIONS-PESTICIDES-POSITIVE.mgf: 0 spectra [00:00, ? spectra/s]"
      ]
     },
     "metadata": {},
     "output_type": "display_data"
    },
    {
     "data": {
      "application/vnd.jupyter.widget-view+json": {
       "model_id": "e50130a84b9741b3a0accba306e190b2",
       "version_major": 2,
       "version_minor": 0
      },
      "text/plain": [
       "GNPS-COLLECTIONS-PESTICIDES-POSITIVE.mgf: 0 spectra [00:00, ? spectra/s]"
      ]
     },
     "metadata": {},
     "output_type": "display_data"
    }
   ],
   "source": [
    "dataset_loaded = SpectrumDatasetSiamese(mgf_path)"
   ]
  },
  {
   "cell_type": "code",
   "execution_count": 37,
   "id": "353bbe78-ac97-49f4-a6d2-72d857cf0c3c",
   "metadata": {
    "tags": []
   },
   "outputs": [],
   "source": [
    "train_loader = dataset_loaded.loader(batch_size=32, num_workers=0, pin_memory=False) "
   ]
  },
  {
   "cell_type": "code",
   "execution_count": 38,
   "id": "2ea98162-38dd-4b73-a4b7-5d6498dc1028",
   "metadata": {},
   "outputs": [],
   "source": [
    "## Load model"
   ]
  },
  {
   "cell_type": "code",
   "execution_count": 39,
   "id": "ebd8c04c-227f-45ab-8cd4-e286fb3d593d",
   "metadata": {
    "tags": []
   },
   "outputs": [
    {
     "data": {
      "text/plain": [
       "{'_tmpdir': <TemporaryDirectory 'C:\\\\Users\\\\ramir\\\\AppData\\\\Local\\\\Temp\\\\tmpt8rot7ns'>,\n",
       " '_path': WindowsPath('C:/Users/ramir/AppData/Local/Temp/tmpt8rot7ns/f9f82e1e-d44a-4102-b864-fa8c7ae488f1.lance'),\n",
       " '_dataset': <lance.dataset.LanceDataset at 0x125196822d0>,\n",
       " 'precision': torch.float64}"
      ]
     },
     "execution_count": 39,
     "metadata": {},
     "output_type": "execute_result"
    }
   ],
   "source": [
    "dataset_loaded.__dict__"
   ]
  },
  {
   "cell_type": "markdown",
   "id": "c24a073f-9c61-4738-a3ea-e4583390831c",
   "metadata": {
    "tags": []
   },
   "source": [
    "## Define model"
   ]
  },
  {
   "cell_type": "code",
   "execution_count": 23,
   "id": "1e83bd4a-3b6d-44e3-91f7-11026c2b81f0",
   "metadata": {
    "tags": []
   },
   "outputs": [],
   "source": [
    "# Create a model:\n",
    "model = Embedder( d_model=64, n_layers=1)"
   ]
  },
  {
   "cell_type": "markdown",
   "id": "9aef298d-3e50-40e8-9d2f-d0e267830f34",
   "metadata": {},
   "source": [
    "## Training"
   ]
  },
  {
   "cell_type": "code",
   "execution_count": 24,
   "id": "95d48532-5e8d-4fd5-9006-e2fa4ff8659b",
   "metadata": {
    "tags": []
   },
   "outputs": [],
   "source": [
    "from depthcharge.data.arrow import spectra_to_df"
   ]
  },
  {
   "cell_type": "code",
   "execution_count": null,
   "id": "1f897bf6-a429-4880-97c9-e36a0d36c8ae",
   "metadata": {},
   "outputs": [],
   "source": []
  },
  {
   "cell_type": "code",
   "execution_count": 25,
   "id": "e636d893-9f4c-4fd7-a2e0-b2b5150c85d4",
   "metadata": {
    "tags": []
   },
   "outputs": [],
   "source": [
    "#spectra_to_df(all_spectrums_original[0])"
   ]
  },
  {
   "cell_type": "code",
   "execution_count": 37,
   "id": "83278b26-1a39-4373-a685-1958e220d6fc",
   "metadata": {
    "tags": []
   },
   "outputs": [
    {
     "name": "stderr",
     "output_type": "stream",
     "text": [
      "GPU available: False, used: False\n",
      "TPU available: False, using: 0 TPU cores\n",
      "IPU available: False, using: 0 IPUs\n",
      "HPU available: False, using: 0 HPUs\n"
     ]
    }
   ],
   "source": [
    "trainer = pl.Trainer(max_epochs=1)"
   ]
  },
  {
   "cell_type": "code",
   "execution_count": 38,
   "id": "48581971-4f1e-4843-becf-63121b5ba472",
   "metadata": {
    "tags": []
   },
   "outputs": [
    {
     "name": "stderr",
     "output_type": "stream",
     "text": [
      "\n",
      "  | Name             | Type                       | Params\n",
      "----------------------------------------------------------------\n",
      "0 | spectrum_encoder | SpectrumTransformerEncoder | 157 K \n",
      "1 | cosine_loss      | CosineEmbeddingLoss        | 0     \n",
      "----------------------------------------------------------------\n",
      "157 K     Trainable params\n",
      "0         Non-trainable params\n",
      "157 K     Total params\n",
      "0.629     Total estimated model params size (MB)\n"
     ]
    },
    {
     "data": {
      "application/vnd.jupyter.widget-view+json": {
       "model_id": "646ea6a6856c4a6ebbb3f18ec9d55876",
       "version_major": 2,
       "version_minor": 0
      },
      "text/plain": [
       "Training: |          | 0/? [00:00<?, ?it/s]"
      ]
     },
     "metadata": {},
     "output_type": "display_data"
    },
    {
     "name": "stdout",
     "output_type": "stream",
     "text": [
      "torch.Size([32, 42])\n",
      "torch.Size([32, 87])\n",
      "torch.Size([32, 200])\n",
      "torch.Size([32, 200])\n",
      "torch.Size([32, 200])\n",
      "torch.Size([32, 200])\n",
      "torch.Size([32, 200])\n",
      "torch.Size([32, 200])\n",
      "torch.Size([32, 200])\n",
      "torch.Size([32, 200])\n",
      "torch.Size([32, 145])\n",
      "torch.Size([32, 200])\n",
      "torch.Size([32, 200])\n",
      "torch.Size([32, 200])\n",
      "torch.Size([32, 200])\n",
      "torch.Size([32, 200])\n",
      "torch.Size([32, 200])\n",
      "torch.Size([32, 200])\n",
      "torch.Size([32, 200])\n",
      "torch.Size([32, 200])\n"
     ]
    },
    {
     "name": "stderr",
     "output_type": "stream",
     "text": [
      "`Trainer.fit` stopped: `max_epochs=1` reached.\n"
     ]
    },
    {
     "name": "stdout",
     "output_type": "stream",
     "text": [
      "torch.Size([13, 200])\n"
     ]
    }
   ],
   "source": [
    "trainer.fit(model=model, train_dataloaders=(train_loader))"
   ]
  },
  {
   "cell_type": "code",
   "execution_count": null,
   "id": "f24fc576-3adf-4491-8953-d61616fe2ea5",
   "metadata": {},
   "outputs": [],
   "source": []
  },
  {
   "cell_type": "code",
   "execution_count": null,
   "id": "1136d94a-5889-4434-91f7-e2e117339ad8",
   "metadata": {},
   "outputs": [],
   "source": []
  }
 ],
 "metadata": {
  "kernelspec": {
   "display_name": "Python 3 (ipykernel)",
   "language": "python",
   "name": "python3"
  },
  "language_info": {
   "codemirror_mode": {
    "name": "ipython",
    "version": 3
   },
   "file_extension": ".py",
   "mimetype": "text/x-python",
   "name": "python",
   "nbconvert_exporter": "python",
   "pygments_lexer": "ipython3",
   "version": "3.11.5"
  }
 },
 "nbformat": 4,
 "nbformat_minor": 5
}
