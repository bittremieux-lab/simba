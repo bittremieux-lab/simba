{
 "cells": [
  {
   "cell_type": "code",
   "execution_count": 1,
   "id": "48d529f2-4fbf-4dca-804d-47352e11109d",
   "metadata": {},
   "outputs": [],
   "source": [
    "%load_ext autoreload\n",
    "%autoreload 2"
   ]
  },
  {
   "cell_type": "code",
   "execution_count": 29,
   "id": "ee216db8-50e2-4261-84b6-0aa20412b59d",
   "metadata": {},
   "outputs": [
    {
     "name": "stdout",
     "output_type": "stream",
     "text": [
      "Cosine Embedding Loss: 0.9444395899772644\n"
     ]
    }
   ],
   "source": [
    "import torch\n",
    "import torch.nn as nn\n",
    "\n",
    "# Define the input tensors\n",
    "input1 = torch.randn(3, 5)  # Example input tensor 1\n",
    "input2 = torch.randn(3, 5)  # Example input tensor 2\n",
    "\n",
    "# Create targets indicating whether inputs should be treated as similar or dissimilar\n",
    "target = torch.tensor([1, -1, 1])  # 1 indicates similar, -1 indicates dissimilar\n",
    "\n",
    "# Instantiate the CosineEmbeddingLoss with a margin of 0.5\n",
    "cosine_embedding_loss = nn.CosineEmbeddingLoss()\n",
    "\n",
    "# Compute the cosine embedding loss\n",
    "loss = cosine_embedding_loss(input1, input2, target)\n",
    "\n",
    "print(\"Cosine Embedding Loss:\", loss.item())"
   ]
  },
  {
   "cell_type": "code",
   "execution_count": 3,
   "id": "7edf8f84-75ce-42c2-8238-43d9cf490cf6",
   "metadata": {},
   "outputs": [
    {
     "data": {
      "text/plain": [
       "tensor([[ 0.2240, -0.5727,  0.0808, -0.9831,  1.3873],\n",
       "        [-0.7965, -0.7258,  2.7778,  0.5067,  0.5167],\n",
       "        [ 0.1874,  0.7030,  0.0727,  1.3244,  1.0403]])"
      ]
     },
     "execution_count": 3,
     "metadata": {},
     "output_type": "execute_result"
    }
   ],
   "source": [
    "input1"
   ]
  },
  {
   "cell_type": "code",
   "execution_count": 4,
   "id": "15b87acb-d6de-4fc2-906f-30e388194486",
   "metadata": {},
   "outputs": [
    {
     "data": {
      "text/plain": [
       "tensor([[-0.2212, -0.4836,  0.1282, -1.4081, -1.2179],\n",
       "        [-0.0232,  0.8852, -2.2533,  1.0012, -0.9905],\n",
       "        [ 0.9087, -0.0981, -0.9945,  1.1325, -0.3098]])"
      ]
     },
     "execution_count": 4,
     "metadata": {},
     "output_type": "execute_result"
    }
   ],
   "source": [
    "input2"
   ]
  },
  {
   "cell_type": "code",
   "execution_count": 6,
   "id": "e51cb853-6e15-4c96-8186-25d2bd35e3cd",
   "metadata": {},
   "outputs": [
    {
     "data": {
      "text/plain": [
       "tensor([[ 0.2240, -0.5727,  0.0808, -0.9831,  1.3873],\n",
       "        [-0.7965, -0.7258,  2.7778,  0.5067,  0.5167],\n",
       "        [ 0.1874,  0.7030,  0.0727,  1.3244,  1.0403]])"
      ]
     },
     "execution_count": 6,
     "metadata": {},
     "output_type": "execute_result"
    }
   ],
   "source": [
    "torch.tensor([[ 0.2240, -0.5727,  0.0808, -0.9831,  1.3873],\n",
    "        [-0.7965, -0.7258,  2.7778,  0.5067,  0.5167],\n",
    "        [ 0.1874,  0.7030,  0.0727,  1.3244,  1.0403]])"
   ]
  },
  {
   "cell_type": "code",
   "execution_count": 40,
   "id": "7f9661e9-97ed-442b-9446-34efe62a5b3c",
   "metadata": {},
   "outputs": [],
   "source": [
    "input1 = torch.tensor([[1, 2, 3]])"
   ]
  },
  {
   "cell_type": "code",
   "execution_count": 41,
   "id": "5f8cc1ce-4b8b-486e-8612-676119cdb964",
   "metadata": {},
   "outputs": [],
   "source": [
    "input2 = torch.tensor([[1, 2, 3]])"
   ]
  },
  {
   "cell_type": "code",
   "execution_count": 42,
   "id": "bffa3581-9c8e-4e57-a0b2-4dbb95eab75d",
   "metadata": {},
   "outputs": [],
   "source": [
    "target =torch.tensor([-1])"
   ]
  },
  {
   "cell_type": "code",
   "execution_count": 43,
   "id": "202ed0b9-e071-4644-a85c-2de69d8865ba",
   "metadata": {},
   "outputs": [
    {
     "data": {
      "text/plain": [
       "1.0"
      ]
     },
     "execution_count": 43,
     "metadata": {},
     "output_type": "execute_result"
    }
   ],
   "source": [
    "cosine_embedding_loss(input1, input2, target).item()"
   ]
  },
  {
   "cell_type": "code",
   "execution_count": 45,
   "id": "e7ad7768-84f7-49d8-b7bb-180ed926cf42",
   "metadata": {},
   "outputs": [],
   "source": [
    "import numpy as np\n",
    "use_all_range= np.random.randint(0,2)"
   ]
  },
  {
   "cell_type": "code",
   "execution_count": 46,
   "id": "c97d98ca-54d4-4391-ae46-5b15b9842015",
   "metadata": {},
   "outputs": [
    {
     "data": {
      "text/plain": [
       "0"
      ]
     },
     "execution_count": 46,
     "metadata": {},
     "output_type": "execute_result"
    }
   ],
   "source": [
    "use_all_range"
   ]
  },
  {
   "cell_type": "code",
   "execution_count": 47,
   "id": "d382d04f-26f9-4873-82d6-83de7f8ca396",
   "metadata": {},
   "outputs": [
    {
     "ename": "SyntaxError",
     "evalue": "unterminated string literal (detected at line 2) (2107613814.py, line 2)",
     "output_type": "error",
     "traceback": [
      "\u001b[0;36m  Cell \u001b[0;32mIn[47], line 2\u001b[0;36m\u001b[0m\n\u001b[0;31m    'equal\u001b[0m\n\u001b[0m    ^\u001b[0m\n\u001b[0;31mSyntaxError\u001b[0m\u001b[0;31m:\u001b[0m unterminated string literal (detected at line 2)\n"
     ]
    }
   ],
   "source": [
    "if use_all_range==1:\n",
    "    'equal\n",
    "    '"
   ]
  },
  {
   "cell_type": "code",
   "execution_count": null,
   "id": "3405eee8-490e-4e6f-9d76-fe937f4bd75e",
   "metadata": {},
   "outputs": [],
   "source": []
  }
 ],
 "metadata": {
  "kernelspec": {
   "display_name": "Python 3 (ipykernel)",
   "language": "python",
   "name": "python3"
  },
  "language_info": {
   "codemirror_mode": {
    "name": "ipython",
    "version": 3
   },
   "file_extension": ".py",
   "mimetype": "text/x-python",
   "name": "python",
   "nbconvert_exporter": "python",
   "pygments_lexer": "ipython3",
   "version": "3.11.7"
  }
 },
 "nbformat": 4,
 "nbformat_minor": 5
}
