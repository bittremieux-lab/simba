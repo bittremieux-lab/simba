{
 "cells": [
  {
   "cell_type": "code",
   "execution_count": 191,
   "id": "a4ec905f-fea6-4936-bdbd-ae182565db4b",
   "metadata": {},
   "outputs": [
    {
     "name": "stdout",
     "output_type": "stream",
     "text": [
      "The autoreload extension is already loaded. To reload it, use:\n",
      "  %reload_ext autoreload\n"
     ]
    }
   ],
   "source": [
    "%load_ext autoreload\n",
    "%autoreload 2"
   ]
  },
  {
   "cell_type": "code",
   "execution_count": 192,
   "id": "a819ca7e-3185-465a-8941-745e888ed73c",
   "metadata": {},
   "outputs": [],
   "source": [
    "#!pip install pandas\n",
    "#!pip install tqdm\n",
    "\n",
    "#!pip install scipy\n",
    "#!pip install matchms\n",
    "#!pip install scikit-learn\n",
    "#!pip install spec2vec\n",
    "#!pip install seaborn"
   ]
  },
  {
   "cell_type": "code",
   "execution_count": 193,
   "id": "3e124ad5-b4f1-41fc-b96d-8dd9c7bf6923",
   "metadata": {},
   "outputs": [],
   "source": [
    "import os\n",
    "os.chdir('/Users/sebas/projects/metabolomics')\n",
    "os.environ[\"PYTORCH_ENABLE_MPS_FALLBACK\"] = \"1\""
   ]
  },
  {
   "cell_type": "code",
   "execution_count": 194,
   "id": "92716072-b74f-4d84-bb75-dd4b5a064159",
   "metadata": {},
   "outputs": [],
   "source": [
    "from src.transformers.sklearn_model import SklearnModel"
   ]
  },
  {
   "cell_type": "code",
   "execution_count": 195,
   "id": "78d46b88-2799-4df8-b15a-b9a482082faa",
   "metadata": {},
   "outputs": [],
   "source": [
    "import gensim\n",
    "from src.load_data import LoadData\n",
    "from src.config import Config\n",
    "from matchms import calculate_scores\n",
    "from matchms.importing import load_from_mgf,load_from_msp\n",
    "import matchms.filtering as msfilters\n",
    "from spec2vec import SpectrumDocument\n",
    "from torch.utils.data import DataLoader, WeightedRandomSampler\n",
    "from spec2vec.model_building import train_new_word2vec_model\n",
    "from tqdm import tqdm\n",
    "from src.loader_saver import LoaderSaver\n",
    "import itertools\n",
    "from pytorch_lightning.callbacks import ProgressBar\n",
    "from src.losscallback import LossCallback\n",
    "import numpy as np\n",
    "from matchms.importing import load_from_msp\n",
    "from matchms.similarity import ModifiedCosine\n",
    "from scipy.stats import spearmanr\n",
    "import dill\n",
    "from src.weight_sampling import WeightSampling\n",
    "from src.plotting import Plotting\n",
    "from torch.utils.data import DataLoader, WeightedRandomSampler\n",
    "import lightning.pytorch as pl\n",
    "from src.load_data import LoadData\n",
    "from sklearn.model_selection import train_test_split\n",
    "from src.train_utils import TrainUtils\n",
    "from src.preprocessor import Preprocessor\n",
    "from matchms.filtering import add_fingerprint\n",
    "import pickle\n",
    "import sys\n",
    "from src.config import Config\n",
    "from src.parser import Parser\n",
    "from datetime import datetime\n",
    "from src.loader_saver import LoaderSaver\n",
    "from src.spec2vec_comparison import Spec2VecComparison\n",
    "from src.ms2deepscore_comparison import MS2DeepScoreComparison\n",
    "from src.molecule_pairs_opt import MoleculePairsOpt\n",
    "from scipy.stats import spearmanr\n",
    "from src.transformers.load_data import LoadData as LoadDataTrans\n",
    "from src.transformers.load_data_unique import LoadDataUnique"
   ]
  },
  {
   "cell_type": "code",
   "execution_count": 196,
   "id": "41e5213b-c01c-4756-83c0-f09832fa98f6",
   "metadata": {},
   "outputs": [],
   "source": [
    "from src.transformers.embedder import Embedder"
   ]
  },
  {
   "cell_type": "code",
   "execution_count": 197,
   "id": "eac154ce-472f-41b5-9909-4dbb7d3b69ce",
   "metadata": {},
   "outputs": [
    {
     "name": "stdout",
     "output_type": "stream",
     "text": [
      "ALL_GNPS_NO_PROPOGATED_wb.mgf\n",
      "GNPS-NIH-NATURALPRODUCTSLIBRARY.mgf\n",
      "all_spectrums_gnps.pkl\n",
      "all_spectrums_gnps_nist_20240130_gnps_nist_janssen.pkl\n",
      "all_spectrums_janssen.pkl\n",
      "all_spectrums_nist.pkl\n",
      "best_model.ckpt\n",
      "best_model_128n_10_layers_20240209.ckpt\n",
      "best_model_128n_5_layers_20240219_elementwise.ckpt\n",
      "best_model_128n_5_layers_20240229.ckpt\n",
      "best_model_128n_5_layers_20240303.ckpt\n",
      "best_model_20240301.ckpt\n",
      "drug_plus.mgf\n",
      "\u001b[31mhr_msms_nist_all.MSP\u001b[m\u001b[m*\n",
      "hr_msms_nist_sample.MSP\n",
      "merged_gnps_nist_20240118_gnps_nist_janssen.pkl\n",
      "merged_gnps_nist_20240207_gnps_nist_janssen_15_millions.pkl\n",
      "merged_gnps_nist_20240227_gnps_nist_janssen_20_millions_OUTSIDE_MAX_DIFF_NO_JANSSEN.pkl\n",
      "merged_gnps_nist_20240311_unique_smiles_1_million.pkl\n",
      "ms2deepscore_positive_10k_1000_1000_1000_500.hdf5\n",
      "spec2vec_AllPositive_ratio05_filtered_201101_iter_15.model\n",
      "spec2vec_AllPositive_ratio05_filtered_201101_iter_15.model.trainables.syn1neg.npy\n",
      "spec2vec_AllPositive_ratio05_filtered_201101_iter_15.model.wv.vectors.npy\n",
      "to_export_gnps_nist.pkl\n",
      "uniformed_molecule_pairs_test.pkl\n"
     ]
    }
   ],
   "source": [
    "ls /Users/sebas/projects/data"
   ]
  },
  {
   "cell_type": "markdown",
   "id": "028ff950-33cd-48f2-9d00-7c0f4c5cbf45",
   "metadata": {},
   "source": [
    "## Parameters"
   ]
  },
  {
   "cell_type": "code",
   "execution_count": 198,
   "id": "43dbf860-55c4-484f-b14d-b4557cbef8a3",
   "metadata": {},
   "outputs": [],
   "source": [
    "data_folder= '/Users/sebas/projects/data/'\n",
    "dataset_path = data_folder + 'uniformed_molecule_pairs_test.pkl'\n",
    "gnps_path =  data_folder + 'ALL_GNPS_NO_PROPOGATED_wb.mgf'\n",
    "janssen_path = data_folder + 'drug_plus.mgf'\n",
    "nist_path = data_folder + 'hr_msms_nist_all.MSP'\n",
    "output_pairs_file= data_folder + 'molecular_pairs.pkl'\n",
    "output_nist_file= data_folder + 'all_spectrums_nist.pkl'\n",
    "output_gnps_file= data_folder + 'all_spectrums_gnps.pkl'\n",
    "output_janssen_file= data_folder + 'all_spectrums_janssen.pkl'\n",
    "model_spec2vec_file = data_folder + 'spec2vec_AllPositive_ratio05_filtered_201101_iter_15.model'\n",
    "model_ms2d_file= data_folder + 'ms2deepscore_positive_10k_1000_1000_1000_500.hdf5'\n",
    "#uniformed_molecule_pairs_test_path= data_folder +'uniformed_molecule_pairs_test.pkl'\n",
    "#uniformed_molecule_pairs_test_path= data_folder +'merged_gnps_nist_20240207_gnps_nist_janssen_15_millions.pkl'\n",
    "uniformed_molecule_pairs_test_path= data_folder + 'merged_gnps_nist_20240311_unique_smiles_1_million.pkl'\n",
    "transformer_path = data_folder + 'best_model_128n_5_layers_20240219_elementwise.ckpt'"
   ]
  },
  {
   "cell_type": "code",
   "execution_count": 199,
   "id": "e5c06fe2-c7ff-429e-b6f6-46bebafcbdec",
   "metadata": {},
   "outputs": [],
   "source": [
    "THRESHOLD_ANALOG=0.7"
   ]
  },
  {
   "cell_type": "code",
   "execution_count": 200,
   "id": "4df8ff1f-6594-4f92-97de-552b8f8083cf",
   "metadata": {},
   "outputs": [],
   "source": [
    "load_molecule_pairs_file= True\n",
    "only_use_gnps=False"
   ]
  },
  {
   "cell_type": "code",
   "execution_count": 201,
   "id": "e6b7e1d9-0c4a-43a6-ace7-fcb7188e6a00",
   "metadata": {},
   "outputs": [],
   "source": [
    "## Load spectrum using spectrumutils"
   ]
  },
  {
   "cell_type": "code",
   "execution_count": 202,
   "id": "746d630f-02ed-4c46-a7c6-0785faf50cde",
   "metadata": {},
   "outputs": [],
   "source": [
    "config=Config()"
   ]
  },
  {
   "cell_type": "code",
   "execution_count": 203,
   "id": "d43b010b-05f6-43fd-9c06-0330264c03ba",
   "metadata": {},
   "outputs": [],
   "source": [
    "config.CHECKPOINT_DIR = './notebooks/cosine/results'\n",
    "config.use_cosine_distance=True"
   ]
  },
  {
   "cell_type": "code",
   "execution_count": 204,
   "id": "c4b67e68-6a13-4e25-8e11-b4f9edc47f55",
   "metadata": {},
   "outputs": [],
   "source": [
    "#config.LR=0.000001\n",
    "#config.LR=0.000001"
   ]
  },
  {
   "cell_type": "code",
   "execution_count": 205,
   "id": "7b2b0535-f623-4564-9317-9166166760bf",
   "metadata": {},
   "outputs": [],
   "source": [
    "NUMBER_TRAIN_PAIRS=1000"
   ]
  },
  {
   "cell_type": "markdown",
   "id": "d93d3860-7054-499a-8970-fb992a64fb41",
   "metadata": {},
   "source": [
    "## Load molecular pairs"
   ]
  },
  {
   "cell_type": "code",
   "execution_count": 206,
   "id": "e78ddc73-3f96-4984-92cc-6b5d63d69057",
   "metadata": {},
   "outputs": [
    {
     "data": {
      "text/plain": [
       "'/Users/sebas/projects/data/merged_gnps_nist_20240311_unique_smiles_1_million.pkl'"
      ]
     },
     "execution_count": 206,
     "metadata": {},
     "output_type": "execute_result"
    }
   ],
   "source": [
    "uniformed_molecule_pairs_test_path"
   ]
  },
  {
   "cell_type": "code",
   "execution_count": 207,
   "id": "f1b8e6a8-a5d1-4dc9-bded-c9c04ae527ff",
   "metadata": {},
   "outputs": [],
   "source": [
    "\n",
    "if load_molecule_pairs_file:\n",
    "        with open(uniformed_molecule_pairs_test_path, 'rb') as file:\n",
    "            dataset = dill.load(file)\n"
   ]
  },
  {
   "cell_type": "code",
   "execution_count": 208,
   "id": "80a2a4bb-1afc-4c3b-983f-e726ba510281",
   "metadata": {},
   "outputs": [],
   "source": [
    "molecule_pairs_train= dataset['molecule_pairs_train']\n",
    "molecule_pairs_val= dataset['molecule_pairs_val']"
   ]
  },
  {
   "cell_type": "code",
   "execution_count": 209,
   "id": "1c9a16f6-5d0d-435a-9c89-1b9f05049eb4",
   "metadata": {},
   "outputs": [
    {
     "data": {
      "text/plain": [
       "<src.molecule_pairs_opt.MoleculePairsOpt at 0x3d5704490>"
      ]
     },
     "execution_count": 209,
     "metadata": {},
     "output_type": "execute_result"
    }
   ],
   "source": [
    "molecule_pairs_train"
   ]
  },
  {
   "cell_type": "code",
   "execution_count": 210,
   "id": "0d9756a9-0a26-42e6-9f6c-10657c591d4e",
   "metadata": {},
   "outputs": [
    {
     "data": {
      "text/plain": [
       "<src.molecule_pairs_opt.MoleculePairsOpt at 0x3338f1290>"
      ]
     },
     "execution_count": 210,
     "metadata": {},
     "output_type": "execute_result"
    }
   ],
   "source": [
    "molecule_pairs_val"
   ]
  },
  {
   "cell_type": "markdown",
   "id": "bad3dea3-8585-481a-a6a2-8d7222f8629f",
   "metadata": {},
   "source": [
    "## Our model"
   ]
  },
  {
   "cell_type": "code",
   "execution_count": 211,
   "id": "57c783cb-40d2-4afd-9aa3-ffa053aa412d",
   "metadata": {},
   "outputs": [],
   "source": [
    "from src.transformers.sklearn_model import SklearnModel"
   ]
  },
  {
   "cell_type": "code",
   "execution_count": 212,
   "id": "51692649-981c-44b7-b593-6f037bf1e278",
   "metadata": {},
   "outputs": [],
   "source": [
    "# Generate an array of 10 random integers between 0 and 100\n",
    "random_integers_train = np.random.randint(0, len(molecule_pairs_train), NUMBER_TRAIN_PAIRS)\n",
    "random_integers_val = np.random.randint(0, len(molecule_pairs_val), NUMBER_TRAIN_PAIRS)"
   ]
  },
  {
   "cell_type": "code",
   "execution_count": 213,
   "id": "6c6846dd-bee0-4d5b-82c0-44ce76d165fd",
   "metadata": {},
   "outputs": [],
   "source": [
    "#molecule_pairs_train= MolecularPairsSet(spectrums= molecule_pairs_train.spectrums, \n",
    "#                                     indexes_tani =molecule_pairs_train.indexes_tani[random_integers_train])\n",
    "#molecule_pairs_val= MolecularPairsSet(spectrums= molecule_pairs_val.spectrums, \n",
    "#                                      indexes_tani =molecule_pairs_val.indexes_tani[random_integers_val])\n",
    "molecule_pairs_train= MoleculePairsOpt(\n",
    "            spectrums_unique=molecule_pairs_train.spectrums,\n",
    "            indexes_tani_unique= molecule_pairs_train.indexes_tani[random_integers_train],\n",
    "            spectrums_original=molecule_pairs_train.spectrums_original,\n",
    "            df_smiles=molecule_pairs_train.df_smiles,\n",
    "        )\n",
    "molecule_pairs_val= MoleculePairsOpt(\n",
    "            spectrums_unique=molecule_pairs_val.spectrums,\n",
    "            indexes_tani_unique= molecule_pairs_val.indexes_tani[random_integers_val],\n",
    "            spectrums_original=molecule_pairs_val.spectrums_original,\n",
    "            df_smiles=molecule_pairs_val.df_smiles,\n",
    "        )"
   ]
  },
  {
   "cell_type": "code",
   "execution_count": 214,
   "id": "f2085929-a172-4bea-ba85-2f7a128dd6b4",
   "metadata": {},
   "outputs": [],
   "source": [
    "## CALCULATION OF WEIGHTS\n",
    "train_binned_list, _ = TrainUtils.divide_data_into_bins(\n",
    "    molecule_pairs_train, config.bins_uniformise_TRAINING,\n",
    ")"
   ]
  },
  {
   "cell_type": "code",
   "execution_count": 215,
   "id": "96b96655-f67c-445a-9663-baa56ae7efb4",
   "metadata": {},
   "outputs": [],
   "source": [
    "weights, range_weights = WeightSampling.compute_weights(train_binned_list)"
   ]
  },
  {
   "cell_type": "code",
   "execution_count": 216,
   "id": "f7d09808-f4da-4354-b160-3bcba8702957",
   "metadata": {},
   "outputs": [],
   "source": [
    "weights_tr = WeightSampling.compute_sample_weights(molecule_pairs_train, weights)\n",
    "weights_val = WeightSampling.compute_sample_weights(molecule_pairs_val, weights)"
   ]
  },
  {
   "cell_type": "code",
   "execution_count": 217,
   "id": "332877de-7a83-4315-a2f0-893f2bf55e60",
   "metadata": {},
   "outputs": [
    {
     "data": {
      "text/plain": [
       "0.5865128636360168"
      ]
     },
     "execution_count": 217,
     "metadata": {},
     "output_type": "execute_result"
    }
   ],
   "source": [
    "molecule_pairs_train[0].similarity"
   ]
  },
  {
   "cell_type": "code",
   "execution_count": 218,
   "id": "4b890038-fb75-4f3e-8c87-75a506c3518c",
   "metadata": {},
   "outputs": [
    {
     "data": {
      "text/plain": [
       "0.0003102699348433123"
      ]
     },
     "execution_count": 218,
     "metadata": {},
     "output_type": "execute_result"
    }
   ],
   "source": [
    "weights_tr[0]"
   ]
  },
  {
   "cell_type": "code",
   "execution_count": 219,
   "id": "59841809-74d9-4dfd-916f-1126df9e12c7",
   "metadata": {},
   "outputs": [
    {
     "data": {
      "text/plain": [
       "0.5865128636360168"
      ]
     },
     "execution_count": 219,
     "metadata": {},
     "output_type": "execute_result"
    }
   ],
   "source": [
    "molecule_pairs_train[0].similarity"
   ]
  },
  {
   "cell_type": "code",
   "execution_count": 220,
   "id": "f2d76775-221a-4f4c-a393-90d6feb6209b",
   "metadata": {},
   "outputs": [
    {
     "data": {
      "text/plain": [
       "0.0003102699348433123"
      ]
     },
     "execution_count": 220,
     "metadata": {},
     "output_type": "execute_result"
    }
   ],
   "source": [
    "weights_tr[0]"
   ]
  },
  {
   "cell_type": "code",
   "execution_count": null,
   "id": "2e9b6ce2-e532-4044-a628-925ea6f9bb8c",
   "metadata": {},
   "outputs": [],
   "source": []
  },
  {
   "cell_type": "code",
   "execution_count": 221,
   "id": "c6aa1b44-a00d-413c-97d8-20bbf210b825",
   "metadata": {},
   "outputs": [
    {
     "name": "stdout",
     "output_type": "stream",
     "text": [
      "Preprocessing all the data ...\n"
     ]
    },
    {
     "name": "stderr",
     "output_type": "stream",
     "text": [
      "\n",
      "0it [00:00, ?it/s]\u001b[A\n",
      "4178it [00:00, 41777.15it/s]\u001b[A\n",
      "8356it [00:00, 26294.94it/s]\u001b[A\n",
      "11305it [00:00, 24248.57it/s]\u001b[A\n",
      "15447it [00:00, 29472.62it/s]\u001b[A\n",
      "23119it [00:00, 43786.28it/s]\u001b[A\n",
      "30542it [00:00, 52981.29it/s]\u001b[A\n",
      "39563it [00:00, 64202.37it/s]\u001b[A\n",
      "48370it [00:00, 71385.56it/s]\u001b[A\n",
      "57955it [00:01, 78739.80it/s]\u001b[A\n",
      "66896it [00:01, 81944.57it/s]\u001b[A\n",
      "75654it [00:01, 83633.51it/s]\u001b[A\n",
      "84137it [00:01, 83565.55it/s]\u001b[A\n",
      "92577it [00:01, 83599.82it/s]\u001b[A\n",
      "101002it [00:01, 83791.39it/s]\u001b[A\n",
      "110167it [00:01, 86140.12it/s]\u001b[A\n",
      "119130it [00:01, 87183.93it/s]\u001b[A\n",
      "127870it [00:01, 87011.15it/s]\u001b[A\n",
      "136624it [00:01, 87168.32it/s]\u001b[A\n",
      "146107it [00:02, 89460.54it/s]\u001b[A\n",
      "155391it [00:02, 90472.70it/s]\u001b[A\n",
      "164445it [00:02, 89328.28it/s]\u001b[A\n",
      "173624it [00:02, 90059.11it/s]\u001b[A\n",
      "182636it [00:02, 88605.70it/s]\u001b[A\n",
      "191660it [00:02, 89085.66it/s]\u001b[A\n",
      "200596it [00:02, 89164.39it/s]\u001b[A\n",
      "209518it [00:02, 88434.58it/s]\u001b[A\n",
      "218809it [00:02, 89759.61it/s]\u001b[A\n",
      "227942it [00:02, 90225.85it/s]\u001b[A\n",
      "236969it [00:03, 89795.15it/s]\u001b[A\n",
      "246177it [00:03, 90475.02it/s]\u001b[A\n",
      "261349it [00:03, 78649.29it/s]\u001b[A\n"
     ]
    },
    {
     "name": "stdout",
     "output_type": "stream",
     "text": [
      "Finished preprocessing \n",
      "loading data\n",
      "Normalizing intensities\n",
      "Creating dictionaries\n",
      "Preprocessing all the data ...\n"
     ]
    },
    {
     "name": "stderr",
     "output_type": "stream",
     "text": [
      "\n",
      "0it [00:00, ?it/s]\u001b[A\n",
      "4120it [00:00, 41193.95it/s]\u001b[A\n",
      "12672it [00:00, 67263.73it/s]\u001b[A\n",
      "21131it [00:00, 75170.03it/s]\u001b[A\n",
      "31318it [00:00, 75448.90it/s]\u001b[A\n"
     ]
    },
    {
     "name": "stdout",
     "output_type": "stream",
     "text": [
      "Finished preprocessing \n",
      "loading data\n",
      "Normalizing intensities\n",
      "Creating dictionaries\n"
     ]
    }
   ],
   "source": [
    "dataset_train = LoadDataUnique.from_molecule_pairs_to_dataset(molecule_pairs_train, training=True)\n",
    "# dataset_test = LoadData.from_molecule_pairs_to_dataset(m_test)\n",
    "dataset_val = LoadDataUnique.from_molecule_pairs_to_dataset(molecule_pairs_val)"
   ]
  },
  {
   "cell_type": "code",
   "execution_count": 222,
   "id": "b8f1a3d9-8932-4d85-be72-629af18a05a3",
   "metadata": {},
   "outputs": [
    {
     "data": {
      "text/plain": [
       "{'mz_0': array([ 487.2876 ,  501.3247 ,  511.0946 ,  546.17084,  594.27673,\n",
       "         613.41187,  631.3617 ,  639.4408 ,  648.3034 ,  650.2898 ,\n",
       "         667.0106 ,  674.3987 ,  676.19104,  679.2742 ,  693.2126 ,\n",
       "         696.28845,  704.2888 ,  714.42664,  734.59766,  735.302  ,\n",
       "         739.4862 ,  740.4333 ,  757.40735,  763.40295,  772.2491 ,\n",
       "         775.2638 ,  809.45105,  828.2229 ,  830.0985 ,  844.302  ,\n",
       "         847.4253 ,  848.27795,  855.4614 ,  862.3174 ,  863.2672 ,\n",
       "         865.35913,  872.3269 ,  873.34595,  874.30554,  885.324  ,\n",
       "         889.64636,  890.3447 ,  891.4215 ,  894.21375,  903.2715 ,\n",
       "         908.266  ,  909.09314,  917.4026 ,  935.4773 ,  943.2938 ,\n",
       "         950.4313 ,  961.2501 ,  970.47046,  984.39514,  988.29333,\n",
       "         989.515  , 1014.4011 , 1032.6807 , 1033.3846 , 1034.5304 ,\n",
       "        1043.5035 , 1050.5785 , 1061.2235 , 1068.3173 , 1070.6763 ,\n",
       "        1071.3514 , 1072.5104 , 1073.3938 , 1083.5868 , 1084.5715 ,\n",
       "        1085.3792 , 1086.719  , 1087.6118 , 1089.2809 , 1090.9464 ,\n",
       "        1096.3333 , 1097.428  , 1100.252  , 1101.4512 , 1102.836  ,\n",
       "        1103.5687 , 1109.3333 , 1110.4733 , 1112.6115 , 1113.9305 ,\n",
       "        1114.5831 , 1115.4921 , 1162.457  , 1275.4192 , 1276.3555 ,\n",
       "        1310.3281 , 1328.5166 , 1473.5066 , 1491.5062 , 1596.6722 ,\n",
       "        1744.4951 , 1762.5133 , 1891.7042 , 1909.7097 , 1910.5162 ],\n",
       "       dtype=float32),\n",
       " 'intensity_0': array([0.04618394, 0.05673185, 0.1035872 , 0.05215078, 0.05210729,\n",
       "        0.04462434, 0.09872819, 0.05860225, 0.05830265, 0.05020528,\n",
       "        0.04679627, 0.07980491, 0.05847733, 0.06941141, 0.07102352,\n",
       "        0.04561006, 0.05116791, 0.10550649, 0.04894629, 0.12760869,\n",
       "        0.05666309, 0.05279658, 0.1097758 , 0.04970955, 0.06973632,\n",
       "        0.08973681, 0.05036074, 0.05042611, 0.06746534, 0.04861827,\n",
       "        0.05254928, 0.04518516, 0.04776411, 0.05226272, 0.06408454,\n",
       "        0.17871515, 0.18568437, 0.12237184, 0.09816144, 0.04607936,\n",
       "        0.09551097, 0.21060412, 0.16577177, 0.06113137, 0.07386278,\n",
       "        0.50844043, 0.04580037, 0.06949496, 0.08174904, 0.04840523,\n",
       "        0.04944331, 0.08279123, 0.06137993, 0.05290393, 0.04843504,\n",
       "        0.04684996, 0.04989789, 0.04535862, 0.05610531, 0.06271777,\n",
       "        0.05423963, 0.0521911 , 0.06064149, 0.04988867, 0.04474224,\n",
       "        0.1062082 , 0.0452747 , 0.06321648, 0.06213848, 0.05803774,\n",
       "        0.07857291, 0.05532434, 0.07403859, 0.26435274, 0.0530609 ,\n",
       "        0.17974554, 0.13093632, 0.07037668, 0.06603169, 0.06020386,\n",
       "        0.07565829, 0.0634993 , 0.05240436, 0.05937692, 0.18271019,\n",
       "        0.24780406, 0.11194715, 0.06415404, 0.07717109, 0.05466121,\n",
       "        0.04539436, 0.05272407, 0.04685951, 0.05235788, 0.05039345,\n",
       "        0.05718371, 0.04469629, 0.07133992, 0.04974027, 0.04620573],\n",
       "       dtype=float32),\n",
       " 'mz_1': array([ 213.08824,  284.25732,  296.19968,  312.25415,  313.2567 ,\n",
       "         314.20886,  318.20322,  326.1727 ,  383.22983,  401.2383 ,\n",
       "         427.29294,  431.28442,  439.25638,  441.2983 ,  496.31906,\n",
       "         500.30502,  514.325  ,  518.31775,  524.333  ,  525.3345 ,\n",
       "         526.29364,  542.34155,  601.3593 ,  609.415  ,  613.39276,\n",
       "         619.405  ,  621.3606 ,  627.4067 ,  631.4012 ,  632.40533,\n",
       "         633.4118 ,  637.41644,  638.41864,  639.42474,  641.41846,\n",
       "         643.3688 ,  655.4279 ,  656.4301 ,  696.42706,  714.43665,\n",
       "         728.4505 ,  744.488  ,  745.4866 ,  750.50195,  751.5047 ,\n",
       "         756.45   ,  768.5129 ,  769.51544,  770.515  ,  809.51215,\n",
       "         810.51514,  819.523  ,  825.4661 ,  827.5222 ,  828.52374,\n",
       "         829.5281 ,  837.5359 ,  838.5361 ,  841.5263 ,  843.47797,\n",
       "         855.54126,  856.5404 ,  867.5805 ,  932.60565,  936.60156,\n",
       "         938.55444,  939.5547 ,  950.6165 ,  951.61426,  952.6193 ,\n",
       "         954.60834,  955.61096,  956.56335,  957.5668 ,  958.5712 ,\n",
       "         968.6242 ,  969.6229 , 1063.6957 , 1064.6962 , 1067.6946 ,\n",
       "        1081.7086 , 1082.7134 , 1083.7148 , 1136.7202 , 1137.7188 ,\n",
       "        1150.7316 , 1154.7255 , 1155.7253 , 1232.7924 , 1239.8193 ,\n",
       "        1240.8246 , 1241.8151 , 1249.7975 , 1250.7986 , 1251.8063 ,\n",
       "        1252.8092 , 1267.8073 , 1268.8099 , 1269.8121 , 1270.8129 ],\n",
       "       dtype=float32),\n",
       " 'intensity_1': array([0.0638599 , 0.05963647, 0.06491049, 0.11671045, 0.05452516,\n",
       "        0.06588251, 0.0551789 , 0.06719307, 0.05097166, 0.05211012,\n",
       "        0.09125413, 0.07135757, 0.04594301, 0.06958825, 0.04685634,\n",
       "        0.05246859, 0.07689856, 0.0697637 , 0.18274476, 0.09913048,\n",
       "        0.04655972, 0.06846664, 0.05076338, 0.07116316, 0.06961166,\n",
       "        0.04689112, 0.04594301, 0.06407648, 0.164846  , 0.09173512,\n",
       "        0.05050586, 0.2458941 , 0.15482171, 0.06845473, 0.05346867,\n",
       "        0.06647362, 0.11908147, 0.06981041, 0.04884893, 0.0660061 ,\n",
       "        0.0638216 , 0.10462607, 0.07412487, 0.09994922, 0.06819232,\n",
       "        0.05021457, 0.1311202 , 0.0845992 , 0.04763259, 0.0862591 ,\n",
       "        0.06750768, 0.0459962 , 0.05311695, 0.17127608, 0.11336668,\n",
       "        0.05814186, 0.10947548, 0.06911821, 0.06217874, 0.06296024,\n",
       "        0.08317106, 0.05413515, 0.05000314, 0.06116119, 0.04704727,\n",
       "        0.086278  , 0.0635657 , 0.14078917, 0.10429059, 0.05797341,\n",
       "        0.0805528 , 0.06077354, 0.18728182, 0.13787633, 0.07759487,\n",
       "        0.0622835 , 0.05881082, 0.0537878 , 0.04864832, 0.06332164,\n",
       "        0.10451697, 0.08372772, 0.0482277 , 0.07616379, 0.05907353,\n",
       "        0.05465952, 0.07684555, 0.06042388, 0.05079548, 0.08131807,\n",
       "        0.06713239, 0.04590752, 0.19305861, 0.17504591, 0.10427497,\n",
       "        0.05342292, 0.34133425, 0.3007405 , 0.17547834, 0.08665501],\n",
       "       dtype=float32),\n",
       " 'precursor_mass_0': array([1132.59], dtype=float32),\n",
       " 'precursor_mass_1': array([1267.81], dtype=float32),\n",
       " 'precursor_charge_0': array([1.], dtype=float32),\n",
       " 'precursor_charge_1': array([1.], dtype=float32),\n",
       " 'similarity': array([0.58651286], dtype=float32)}"
      ]
     },
     "execution_count": 222,
     "metadata": {},
     "output_type": "execute_result"
    }
   ],
   "source": [
    "next(iter(dataset_train))"
   ]
  },
  {
   "cell_type": "code",
   "execution_count": 223,
   "id": "f5abb1f9-2553-4752-8b3f-49d403a16287",
   "metadata": {},
   "outputs": [],
   "source": [
    "train_sampler = WeightedRandomSampler(\n",
    "    weights=weights_tr, num_samples=len(dataset_train), replacement=True\n",
    ")\n",
    "val_sampler = WeightedRandomSampler(\n",
    "    weights=weights_val, num_samples=len(dataset_val), replacement=True\n",
    ")\n"
   ]
  },
  {
   "cell_type": "code",
   "execution_count": 224,
   "id": "3f1b71b5-fa38-458d-8c63-6bd7c58a7a63",
   "metadata": {},
   "outputs": [],
   "source": [
    "dataloader_train = DataLoader(\n",
    "    dataset_train, batch_size=config.BATCH_SIZE,  num_workers=10, sampler=train_sampler,\n",
    ")\n",
    "def worker_init_fn(\n",
    "    worker_id,\n",
    "):  # ensure the dataloader for validation is the same for every epoch\n",
    "    seed = 42\n",
    "    torch.manual_seed(seed)\n",
    "    # Set the same seed for reproducibility in NumPy and Python's random module\n",
    "    np.random.seed(seed)\n",
    "    random.seed(seed)\n",
    "\n",
    "dataloader_val = DataLoader(\n",
    "    dataset_val,\n",
    "    batch_size=config.BATCH_SIZE,\n",
    "    num_workers=0,\n",
    "    sampler=val_sampler,\n",
    ")\n"
   ]
  },
  {
   "cell_type": "code",
   "execution_count": 225,
   "id": "9589bde1-9acf-414a-958a-8678bc7ecf20",
   "metadata": {},
   "outputs": [
    {
     "name": "stdout",
     "output_type": "stream",
     "text": [
      "define model\n",
      "Using cosine library from Pytorch?: True\n"
     ]
    }
   ],
   "source": [
    "checkpoint_callback = pl.callbacks.ModelCheckpoint(\n",
    "    dirpath=config.CHECKPOINT_DIR,\n",
    "    filename=\"best_model\",\n",
    "    monitor=\"validation_loss_epoch\",\n",
    "    mode=\"min\",\n",
    "    save_top_k=1,\n",
    ")\n",
    "\n",
    "# checkpoint_callback = SaveBestModelCallback(file_path=config.best_model_path)\n",
    "progress_bar_callback = ProgressBar()\n",
    "\n",
    "# loss callback\n",
    "losscallback = LossCallback(file_path=config.CHECKPOINT_DIR + f\"loss.png\")\n",
    "\n",
    "print(\"define model\")\n",
    "\n",
    "\n",
    "    \n",
    "model = Embedder(\n",
    "        d_model=int(config.D_MODEL),\n",
    "        n_layers=int(config.N_LAYERS),\n",
    "        weights=None,\n",
    "        lr=config.LR,\n",
    "        use_cosine_distance=config.use_cosine_distance,\n",
    "    )"
   ]
  },
  {
   "cell_type": "code",
   "execution_count": 226,
   "id": "ea8e319b-285c-4d3f-b587-abc13f4dd704",
   "metadata": {},
   "outputs": [
    {
     "data": {
      "text/plain": [
       "0.0001"
      ]
     },
     "execution_count": 226,
     "metadata": {},
     "output_type": "execute_result"
    }
   ],
   "source": [
    "config.LR"
   ]
  },
  {
   "cell_type": "code",
   "execution_count": 227,
   "id": "0209b1e4-646f-4747-a8ef-de1656b5f46c",
   "metadata": {},
   "outputs": [
    {
     "name": "stderr",
     "output_type": "stream",
     "text": [
      "GPU available: True (mps), used: True\n",
      "TPU available: False, using: 0 TPU cores\n",
      "IPU available: False, using: 0 IPUs\n",
      "HPU available: False, using: 0 HPUs\n",
      "/Users/sebas/miniconda3/envs/transformers/lib/python3.11/site-packages/lightning/pytorch/callbacks/model_checkpoint.py:639: Checkpoint directory /Users/sebas/projects/metabolomics/notebooks/cosine/results exists and is not empty.\n",
      "\n",
      "  | Name                    | Type                             | Params\n",
      "-----------------------------------------------------------------------------\n",
      "0 | linear                  | Linear                           | 16.5 K\n",
      "1 | linear_regression       | Linear                           | 129   \n",
      "2 | fixed_linear_regression | FixedLinearRegression            | 129   \n",
      "3 | relu                    | ReLU                             | 0     \n",
      "4 | spectrum_encoder        | SpectrumTransformerEncoderCustom | 1.7 M \n",
      "5 | regression_loss         | MSELoss                          | 0     \n",
      "6 | dropout                 | Dropout                          | 0     \n",
      "7 | linear_cosine           | Linear                           | 16.5 K\n",
      "8 | cosine_similarity       | CosineSimilarity                 | 0     \n",
      "-----------------------------------------------------------------------------\n",
      "1.7 M     Trainable params\n",
      "129       Non-trainable params\n",
      "1.7 M     Total params\n",
      "6.861     Total estimated model params size (MB)\n"
     ]
    },
    {
     "data": {
      "application/vnd.jupyter.widget-view+json": {
       "model_id": "",
       "version_major": 2,
       "version_minor": 0
      },
      "text/plain": [
       "Sanity Checking: |                                                                                            …"
      ]
     },
     "metadata": {},
     "output_type": "display_data"
    },
    {
     "name": "stderr",
     "output_type": "stream",
     "text": [
      "/Users/sebas/miniconda3/envs/transformers/lib/python3.11/site-packages/lightning/pytorch/trainer/connectors/data_connector.py:441: The 'val_dataloader' does not have many workers which may be a bottleneck. Consider increasing the value of the `num_workers` argument` to `num_workers=10` in the `DataLoader` to improve performance.\n",
      "To copy construct from a tensor, it is recommended to use sourceTensor.clone().detach() or sourceTensor.clone().detach().requires_grad_(True), rather than torch.tensor(sourceTensor).\n",
      "To copy construct from a tensor, it is recommended to use sourceTensor.clone().detach() or sourceTensor.clone().detach().requires_grad_(True), rather than torch.tensor(sourceTensor).\n",
      "To copy construct from a tensor, it is recommended to use sourceTensor.clone().detach() or sourceTensor.clone().detach().requires_grad_(True), rather than torch.tensor(sourceTensor).\n"
     ]
    },
    {
     "name": "stdout",
     "output_type": "stream",
     "text": [
      "Train loss:\n",
      "[]\n",
      "Validation loss\n",
      "[0.44289034605026245]\n"
     ]
    },
    {
     "name": "stderr",
     "output_type": "stream",
     "text": [
      "/Users/sebas/miniconda3/envs/transformers/lib/python3.11/site-packages/lightning/pytorch/trainer/connectors/data_connector.py:436: Consider setting `persistent_workers=True` in 'train_dataloader' to speed up the dataloader worker initialization.\n",
      "/Users/sebas/miniconda3/envs/transformers/lib/python3.11/site-packages/lightning/pytorch/loops/fit_loop.py:293: The number of training batches (8) is smaller than the logging interval Trainer(log_every_n_steps=50). Set a lower value for log_every_n_steps if you want to see logs for the training epoch.\n"
     ]
    },
    {
     "data": {
      "application/vnd.jupyter.widget-view+json": {
       "model_id": "d0462d0075174892a1a622d77a0d6845",
       "version_major": 2,
       "version_minor": 0
      },
      "text/plain": [
       "Training: |                                                                                                   …"
      ]
     },
     "metadata": {},
     "output_type": "display_data"
    },
    {
     "data": {
      "application/vnd.jupyter.widget-view+json": {
       "model_id": "",
       "version_major": 2,
       "version_minor": 0
      },
      "text/plain": [
       "Validation: |                                                                                                 …"
      ]
     },
     "metadata": {},
     "output_type": "display_data"
    },
    {
     "name": "stdout",
     "output_type": "stream",
     "text": [
      "Train loss:\n",
      "[]\n",
      "Validation loss\n",
      "[0.44289034605026245, 0.20524878799915314]\n"
     ]
    },
    {
     "data": {
      "application/vnd.jupyter.widget-view+json": {
       "model_id": "",
       "version_major": 2,
       "version_minor": 0
      },
      "text/plain": [
       "Validation: |                                                                                                 …"
      ]
     },
     "metadata": {},
     "output_type": "display_data"
    },
    {
     "name": "stdout",
     "output_type": "stream",
     "text": [
      "Train loss:\n",
      "[0.145171657204628]\n",
      "Validation loss\n",
      "[0.44289034605026245, 0.20524878799915314, 0.15635298192501068]\n"
     ]
    },
    {
     "data": {
      "application/vnd.jupyter.widget-view+json": {
       "model_id": "",
       "version_major": 2,
       "version_minor": 0
      },
      "text/plain": [
       "Validation: |                                                                                                 …"
      ]
     },
     "metadata": {},
     "output_type": "display_data"
    },
    {
     "name": "stdout",
     "output_type": "stream",
     "text": [
      "Train loss:\n",
      "[0.145171657204628, 0.08867879211902618]\n",
      "Validation loss\n",
      "[0.44289034605026245, 0.20524878799915314, 0.15635298192501068, 0.12618973851203918]\n"
     ]
    },
    {
     "data": {
      "application/vnd.jupyter.widget-view+json": {
       "model_id": "",
       "version_major": 2,
       "version_minor": 0
      },
      "text/plain": [
       "Validation: |                                                                                                 …"
      ]
     },
     "metadata": {},
     "output_type": "display_data"
    },
    {
     "name": "stdout",
     "output_type": "stream",
     "text": [
      "Train loss:\n",
      "[0.145171657204628, 0.08867879211902618, 0.08060254901647568]\n",
      "Validation loss\n",
      "[0.44289034605026245, 0.20524878799915314, 0.15635298192501068, 0.12618973851203918, 0.11932121962308884]\n"
     ]
    },
    {
     "data": {
      "application/vnd.jupyter.widget-view+json": {
       "model_id": "",
       "version_major": 2,
       "version_minor": 0
      },
      "text/plain": [
       "Validation: |                                                                                                 …"
      ]
     },
     "metadata": {},
     "output_type": "display_data"
    },
    {
     "name": "stdout",
     "output_type": "stream",
     "text": [
      "Train loss:\n",
      "[0.145171657204628, 0.08867879211902618, 0.08060254901647568, 0.07112380117177963]\n",
      "Validation loss\n",
      "[0.44289034605026245, 0.20524878799915314, 0.15635298192501068, 0.12618973851203918, 0.11932121962308884, 0.13761559128761292]\n"
     ]
    },
    {
     "data": {
      "application/vnd.jupyter.widget-view+json": {
       "model_id": "",
       "version_major": 2,
       "version_minor": 0
      },
      "text/plain": [
       "Validation: |                                                                                                 …"
      ]
     },
     "metadata": {},
     "output_type": "display_data"
    },
    {
     "name": "stdout",
     "output_type": "stream",
     "text": [
      "Train loss:\n",
      "[0.145171657204628, 0.08867879211902618, 0.08060254901647568, 0.07112380117177963, 0.07323632389307022]\n",
      "Validation loss\n",
      "[0.44289034605026245, 0.20524878799915314, 0.15635298192501068, 0.12618973851203918, 0.11932121962308884, 0.13761559128761292, 0.1287635713815689]\n"
     ]
    },
    {
     "name": "stderr",
     "output_type": "stream",
     "text": [
      "Exception ignored in: <function _MultiProcessingDataLoaderIter.__del__ at 0x129c5fb00>\n",
      "Traceback (most recent call last):\n",
      "  File \"/Users/sebas/miniconda3/envs/transformers/lib/python3.11/site-packages/torch/utils/data/dataloader.py\", line 1479, in __del__\n",
      "    self._shutdown_workers()\n",
      "  File \"/Users/sebas/miniconda3/envs/transformers/lib/python3.11/site-packages/torch/utils/data/dataloader.py\", line 1443, in _shutdown_workers\n",
      "    w.join(timeout=_utils.MP_STATUS_CHECK_INTERVAL)\n",
      "  File \"/Users/sebas/miniconda3/envs/transformers/lib/python3.11/multiprocessing/process.py\", line 149, in join\n",
      "    res = self._popen.wait(timeout)\n",
      "          ^^^^^^^^^^^^^^^^^^^^^^^^^\n",
      "  File \"/Users/sebas/miniconda3/envs/transformers/lib/python3.11/multiprocessing/popen_fork.py\", line 40, in wait\n",
      "    if not wait([self.sentinel], timeout):\n",
      "           ^^^^^^^^^^^^^^^^^^^^^^^^^^^^^^\n",
      "  File \"/Users/sebas/miniconda3/envs/transformers/lib/python3.11/multiprocessing/connection.py\", line 947, in wait\n",
      "    ready = selector.select(timeout)\n",
      "            ^^^^^^^^^^^^^^^^^^^^^^^^\n",
      "  File \"/Users/sebas/miniconda3/envs/transformers/lib/python3.11/selectors.py\", line 415, in select\n",
      "    fd_event_list = self._selector.poll(timeout)\n",
      "                    ^^^^^^^^^^^^^^^^^^^^^^^^^^^^\n",
      "KeyboardInterrupt: \n",
      "\n",
      "KeyboardInterrupt\n",
      "\n"
     ]
    },
    {
     "data": {
      "image/png": "[encoded data removed]",
      "text/plain": [
       "<Figure size 1000x800 with 2 Axes>"
      ]
     },
     "metadata": {},
     "output_type": "display_data"
    },
    {
     "data": {
      "image/png": "[encoded data removed]",
      "text/plain": [
       "<Figure size 1000x800 with 2 Axes>"
      ]
     },
     "metadata": {},
     "output_type": "display_data"
    },
    {
     "name": "stdout",
     "output_type": "stream",
     "text": [
      "Error in callback <function flush_figures at 0x411fa7880> (for post_execute), with arguments args (),kwargs {}:\n"
     ]
    },
    {
     "name": "stderr",
     "output_type": "stream",
     "text": [
      "\n",
      "KeyboardInterrupt\n",
      "\n"
     ]
    }
   ],
   "source": [
    "trainer = pl.Trainer(\n",
    "    max_epochs=100,\n",
    "    callbacks=[checkpoint_callback, losscallback],\n",
    "    enable_progress_bar=True,\n",
    "    # val_check_interval= config.validate_after_ratio,\n",
    ")\n",
    "# trainer = pl.Trainer(max_steps=100,  callbacks=[checkpoint_callback, losscallback], enable_progress_bar=enable_progress_bar)\n",
    "trainer.fit(\n",
    "    model=model,\n",
    "    train_dataloaders=(dataloader_train),\n",
    "    val_dataloaders=dataloader_val,\n",
    ")"
   ]
  },
  {
   "cell_type": "code",
   "execution_count": null,
   "id": "b0ce71df-a644-45f8-b4b0-a1c5f46790dd",
   "metadata": {},
   "outputs": [],
   "source": [
    "for name, param in model.named_parameters():\n",
    "    print(name)\n",
    "    print(param)"
   ]
  },
  {
   "cell_type": "code",
   "execution_count": null,
   "id": "198e2ddb-984a-4d25-aaae-e4f2575fb71a",
   "metadata": {},
   "outputs": [],
   "source": []
  },
  {
   "cell_type": "code",
   "execution_count": null,
   "id": "77732553-2678-406e-81eb-f54e34ceff71",
   "metadata": {},
   "outputs": [],
   "source": []
  }
 ],
 "metadata": {
  "kernelspec": {
   "display_name": "Python 3 (ipykernel)",
   "language": "python",
   "name": "python3"
  },
  "language_info": {
   "codemirror_mode": {
    "name": "ipython",
    "version": 3
   },
   "file_extension": ".py",
   "mimetype": "text/x-python",
   "name": "python",
   "nbconvert_exporter": "python",
   "pygments_lexer": "ipython3",
   "version": "3.11.7"
  }
 },
 "nbformat": 4,
 "nbformat_minor": 5
}
