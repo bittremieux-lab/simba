{
 "cells": [
  {
   "cell_type": "code",
   "execution_count": 1,
   "id": "a4ec905f-fea6-4936-bdbd-ae182565db4b",
   "metadata": {},
   "outputs": [],
   "source": [
    "%load_ext autoreload\n",
    "%autoreload 2"
   ]
  },
  {
   "cell_type": "code",
   "execution_count": 2,
   "id": "a819ca7e-3185-465a-8941-745e888ed73c",
   "metadata": {},
   "outputs": [],
   "source": [
    "#!pip install pandas\n",
    "#!pip install tqdm\n",
    "\n",
    "#!pip install scipy\n",
    "#!pip install matchms\n",
    "#!pip install scikit-learn\n",
    "#!pip install spec2vec\n",
    "#!pip install seaborn"
   ]
  },
  {
   "cell_type": "code",
   "execution_count": 3,
   "id": "3e124ad5-b4f1-41fc-b96d-8dd9c7bf6923",
   "metadata": {},
   "outputs": [],
   "source": [
    "import os\n",
    "os.chdir('/Users/sebas/projects/metabolomics')\n",
    "os.environ[\"PYTORCH_ENABLE_MPS_FALLBACK\"] = \"1\""
   ]
  },
  {
   "cell_type": "code",
   "execution_count": 4,
   "id": "92716072-b74f-4d84-bb75-dd4b5a064159",
   "metadata": {},
   "outputs": [],
   "source": [
    "from src.transformers.sklearn_model import SklearnModel"
   ]
  },
  {
   "cell_type": "code",
   "execution_count": 5,
   "id": "78d46b88-2799-4df8-b15a-b9a482082faa",
   "metadata": {},
   "outputs": [],
   "source": [
    "import gensim\n",
    "from src.load_data import LoadData\n",
    "from src.config import Config\n",
    "from matchms import calculate_scores\n",
    "from matchms.importing import load_from_mgf,load_from_msp\n",
    "import matchms.filtering as msfilters\n",
    "from spec2vec import SpectrumDocument\n",
    "from torch.utils.data import DataLoader, WeightedRandomSampler\n",
    "from spec2vec.model_building import train_new_word2vec_model\n",
    "from tqdm import tqdm\n",
    "from src.loader_saver import LoaderSaver\n",
    "import itertools\n",
    "from pytorch_lightning.callbacks import ProgressBar\n",
    "from src.losscallback import LossCallback\n",
    "import numpy as np\n",
    "from matchms.importing import load_from_msp\n",
    "from matchms.similarity import ModifiedCosine\n",
    "from scipy.stats import spearmanr\n",
    "import dill\n",
    "from src.weight_sampling import WeightSampling\n",
    "from src.plotting import Plotting\n",
    "from torch.utils.data import DataLoader, WeightedRandomSampler\n",
    "import lightning.pytorch as pl\n",
    "from src.load_data import LoadData\n",
    "from sklearn.model_selection import train_test_split\n",
    "from src.train_utils import TrainUtils\n",
    "from src.preprocessor import Preprocessor\n",
    "from matchms.filtering import add_fingerprint\n",
    "import pickle\n",
    "import sys\n",
    "from src.config import Config\n",
    "from src.parser import Parser\n",
    "from datetime import datetime\n",
    "from src.loader_saver import LoaderSaver\n",
    "from src.spec2vec_comparison import Spec2VecComparison\n",
    "from src.ms2deepscore_comparison import MS2DeepScoreComparison\n",
    "from src.molecule_pairs_opt import MoleculePairsOpt\n",
    "from scipy.stats import spearmanr\n",
    "from src.transformers.load_data import LoadData as LoadDataTrans\n",
    "from src.transformers.load_data_unique import LoadDataUnique"
   ]
  },
  {
   "cell_type": "code",
   "execution_count": 6,
   "id": "41e5213b-c01c-4756-83c0-f09832fa98f6",
   "metadata": {},
   "outputs": [],
   "source": [
    "from src.transformers.embedder import Embedder"
   ]
  },
  {
   "cell_type": "code",
   "execution_count": 7,
   "id": "eac154ce-472f-41b5-9909-4dbb7d3b69ce",
   "metadata": {},
   "outputs": [
    {
     "name": "stdout",
     "output_type": "stream",
     "text": [
      "ALL_GNPS_NO_PROPOGATED_wb.mgf\n",
      "GNPS-NIH-NATURALPRODUCTSLIBRARY.mgf\n",
      "all_spectrums_gnps.pkl\n",
      "all_spectrums_gnps_nist_20240130_gnps_nist_janssen.pkl\n",
      "all_spectrums_janssen.pkl\n",
      "all_spectrums_nist.pkl\n",
      "best_model.ckpt\n",
      "best_model_128n_10_layers_20240209.ckpt\n",
      "best_model_128n_5_layers_20240219_elementwise.ckpt\n",
      "best_model_128n_5_layers_20240229.ckpt\n",
      "best_model_128n_5_layers_20240303.ckpt\n",
      "best_model_20240301.ckpt\n",
      "drug_plus.mgf\n",
      "\u001b[31mhr_msms_nist_all.MSP\u001b[m\u001b[m*\n",
      "hr_msms_nist_sample.MSP\n",
      "merged_gnps_nist_20240118_gnps_nist_janssen.pkl\n",
      "merged_gnps_nist_20240207_gnps_nist_janssen_15_millions.pkl\n",
      "merged_gnps_nist_20240227_gnps_nist_janssen_20_millions_OUTSIDE_MAX_DIFF_NO_JANSSEN.pkl\n",
      "merged_gnps_nist_20240311_unique_smiles_1_million.pkl\n",
      "ms2deepscore_positive_10k_1000_1000_1000_500.hdf5\n",
      "spec2vec_AllPositive_ratio05_filtered_201101_iter_15.model\n",
      "spec2vec_AllPositive_ratio05_filtered_201101_iter_15.model.trainables.syn1neg.npy\n",
      "spec2vec_AllPositive_ratio05_filtered_201101_iter_15.model.wv.vectors.npy\n",
      "to_export_gnps_nist.pkl\n",
      "uniformed_molecule_pairs_test.pkl\n"
     ]
    }
   ],
   "source": [
    "ls /Users/sebas/projects/data"
   ]
  },
  {
   "cell_type": "markdown",
   "id": "028ff950-33cd-48f2-9d00-7c0f4c5cbf45",
   "metadata": {},
   "source": [
    "## Parameters"
   ]
  },
  {
   "cell_type": "code",
   "execution_count": 8,
   "id": "43dbf860-55c4-484f-b14d-b4557cbef8a3",
   "metadata": {},
   "outputs": [],
   "source": [
    "data_folder= '/Users/sebas/projects/data/'\n",
    "dataset_path = data_folder + 'uniformed_molecule_pairs_test.pkl'\n",
    "gnps_path =  data_folder + 'ALL_GNPS_NO_PROPOGATED_wb.mgf'\n",
    "janssen_path = data_folder + 'drug_plus.mgf'\n",
    "nist_path = data_folder + 'hr_msms_nist_all.MSP'\n",
    "output_pairs_file= data_folder + 'molecular_pairs.pkl'\n",
    "output_nist_file= data_folder + 'all_spectrums_nist.pkl'\n",
    "output_gnps_file= data_folder + 'all_spectrums_gnps.pkl'\n",
    "output_janssen_file= data_folder + 'all_spectrums_janssen.pkl'\n",
    "model_spec2vec_file = data_folder + 'spec2vec_AllPositive_ratio05_filtered_201101_iter_15.model'\n",
    "model_ms2d_file= data_folder + 'ms2deepscore_positive_10k_1000_1000_1000_500.hdf5'\n",
    "#uniformed_molecule_pairs_test_path= data_folder +'uniformed_molecule_pairs_test.pkl'\n",
    "uniformed_molecule_pairs_test_path= data_folder +'merged_gnps_nist_20240207_gnps_nist_janssen_15_millions.pkl'\n",
    "#uniformed_molecule_pairs_test_path= data_folder + 'merged_gnps_nist_20240311_unique_smiles_1_million.pkl'\n",
    "transformer_path = data_folder + 'best_model_128n_5_layers_20240219_elementwise.ckpt'"
   ]
  },
  {
   "cell_type": "code",
   "execution_count": 9,
   "id": "e5c06fe2-c7ff-429e-b6f6-46bebafcbdec",
   "metadata": {},
   "outputs": [],
   "source": [
    "THRESHOLD_ANALOG=0.7"
   ]
  },
  {
   "cell_type": "code",
   "execution_count": 10,
   "id": "4df8ff1f-6594-4f92-97de-552b8f8083cf",
   "metadata": {},
   "outputs": [],
   "source": [
    "load_molecule_pairs_file= True\n",
    "only_use_gnps=False"
   ]
  },
  {
   "cell_type": "code",
   "execution_count": 11,
   "id": "e6b7e1d9-0c4a-43a6-ace7-fcb7188e6a00",
   "metadata": {},
   "outputs": [],
   "source": [
    "## Load spectrum using spectrumutils"
   ]
  },
  {
   "cell_type": "code",
   "execution_count": 12,
   "id": "746d630f-02ed-4c46-a7c6-0785faf50cde",
   "metadata": {},
   "outputs": [],
   "source": [
    "config=Config()"
   ]
  },
  {
   "cell_type": "code",
   "execution_count": 13,
   "id": "d43b010b-05f6-43fd-9c06-0330264c03ba",
   "metadata": {},
   "outputs": [],
   "source": [
    "config.CHECKPOINT_DIR = './notebooks/cosine/results'\n",
    "config.use_cosine_distance=True"
   ]
  },
  {
   "cell_type": "code",
   "execution_count": 14,
   "id": "c4b67e68-6a13-4e25-8e11-b4f9edc47f55",
   "metadata": {},
   "outputs": [],
   "source": [
    "#config.LR=0.000001\n",
    "#config.LR=0.000001"
   ]
  },
  {
   "cell_type": "code",
   "execution_count": 15,
   "id": "7b2b0535-f623-4564-9317-9166166760bf",
   "metadata": {},
   "outputs": [],
   "source": [
    "NUMBER_TRAIN_PAIRS=10000"
   ]
  },
  {
   "cell_type": "markdown",
   "id": "d93d3860-7054-499a-8970-fb992a64fb41",
   "metadata": {},
   "source": [
    "## Load molecular pairs"
   ]
  },
  {
   "cell_type": "code",
   "execution_count": 16,
   "id": "e78ddc73-3f96-4984-92cc-6b5d63d69057",
   "metadata": {},
   "outputs": [
    {
     "data": {
      "text/plain": [
       "'/Users/sebas/projects/data/merged_gnps_nist_20240207_gnps_nist_janssen_15_millions.pkl'"
      ]
     },
     "execution_count": 16,
     "metadata": {},
     "output_type": "execute_result"
    }
   ],
   "source": [
    "uniformed_molecule_pairs_test_path"
   ]
  },
  {
   "cell_type": "code",
   "execution_count": 17,
   "id": "f1b8e6a8-a5d1-4dc9-bded-c9c04ae527ff",
   "metadata": {},
   "outputs": [],
   "source": [
    "\n",
    "if load_molecule_pairs_file:\n",
    "        with open(uniformed_molecule_pairs_test_path, 'rb') as file:\n",
    "            dataset = dill.load(file)\n"
   ]
  },
  {
   "cell_type": "code",
   "execution_count": 18,
   "id": "80a2a4bb-1afc-4c3b-983f-e726ba510281",
   "metadata": {},
   "outputs": [],
   "source": [
    "molecule_pairs_train= dataset['molecule_pairs_train']\n",
    "molecule_pairs_val= dataset['molecule_pairs_val']"
   ]
  },
  {
   "cell_type": "code",
   "execution_count": 19,
   "id": "1c9a16f6-5d0d-435a-9c89-1b9f05049eb4",
   "metadata": {},
   "outputs": [
    {
     "data": {
      "text/plain": [
       "<src.molecular_pairs_set.MolecularPairsSet at 0x2a5d66c50>"
      ]
     },
     "execution_count": 19,
     "metadata": {},
     "output_type": "execute_result"
    }
   ],
   "source": [
    "molecule_pairs_train"
   ]
  },
  {
   "cell_type": "code",
   "execution_count": 20,
   "id": "0d9756a9-0a26-42e6-9f6c-10657c591d4e",
   "metadata": {},
   "outputs": [
    {
     "data": {
      "text/plain": [
       "<src.molecular_pairs_set.MolecularPairsSet at 0x364093810>"
      ]
     },
     "execution_count": 20,
     "metadata": {},
     "output_type": "execute_result"
    }
   ],
   "source": [
    "molecule_pairs_val"
   ]
  },
  {
   "cell_type": "markdown",
   "id": "bad3dea3-8585-481a-a6a2-8d7222f8629f",
   "metadata": {},
   "source": [
    "## Our model"
   ]
  },
  {
   "cell_type": "code",
   "execution_count": 21,
   "id": "57c783cb-40d2-4afd-9aa3-ffa053aa412d",
   "metadata": {},
   "outputs": [],
   "source": [
    "from src.transformers.sklearn_model import SklearnModel"
   ]
  },
  {
   "cell_type": "code",
   "execution_count": 22,
   "id": "51692649-981c-44b7-b593-6f037bf1e278",
   "metadata": {},
   "outputs": [],
   "source": [
    "# Generate an array of 10 random integers between 0 and 100\n",
    "random_integers_train = np.random.randint(0, len(molecule_pairs_train), NUMBER_TRAIN_PAIRS)\n",
    "random_integers_val = np.random.randint(0, len(molecule_pairs_val), NUMBER_TRAIN_PAIRS)"
   ]
  },
  {
   "cell_type": "code",
   "execution_count": 23,
   "id": "6c6846dd-bee0-4d5b-82c0-44ce76d165fd",
   "metadata": {},
   "outputs": [
    {
     "ename": "AttributeError",
     "evalue": "'MolecularPairsSet' object has no attribute 'spectrums_original'",
     "output_type": "error",
     "traceback": [
      "\u001b[0;31m---------------------------------------------------------------------------\u001b[0m",
      "\u001b[0;31mAttributeError\u001b[0m                            Traceback (most recent call last)",
      "Cell \u001b[0;32mIn[23], line 8\u001b[0m\n\u001b[1;32m      1\u001b[0m \u001b[38;5;66;03m#molecule_pairs_train= MolecularPairsSet(spectrums= molecule_pairs_train.spectrums, \u001b[39;00m\n\u001b[1;32m      2\u001b[0m \u001b[38;5;66;03m#                                      indexes_tani =molecule_pairs_train.indexes_tani[random_integers_train])\u001b[39;00m\n\u001b[1;32m      3\u001b[0m \u001b[38;5;66;03m#molecule_pairs_val= MolecularPairsSet(spectrums= molecule_pairs_val.spectrums, \u001b[39;00m\n\u001b[1;32m      4\u001b[0m \u001b[38;5;66;03m#                                      indexes_tani =molecule_pairs_val.indexes_tani[random_integers_val])\u001b[39;00m\n\u001b[1;32m      5\u001b[0m molecule_pairs_train\u001b[38;5;241m=\u001b[39m MoleculePairsOpt(\n\u001b[1;32m      6\u001b[0m             spectrums_unique\u001b[38;5;241m=\u001b[39mmolecule_pairs_train\u001b[38;5;241m.\u001b[39mspectrums,\n\u001b[1;32m      7\u001b[0m             indexes_tani_unique\u001b[38;5;241m=\u001b[39m molecule_pairs_train\u001b[38;5;241m.\u001b[39mindexes_tani[random_integers_train],\n\u001b[0;32m----> 8\u001b[0m             spectrums_original\u001b[38;5;241m=\u001b[39mmolecule_pairs_train\u001b[38;5;241m.\u001b[39mspectrums_original,\n\u001b[1;32m      9\u001b[0m             df_smiles\u001b[38;5;241m=\u001b[39mmolecule_pairs_train\u001b[38;5;241m.\u001b[39mdf_smiles,\n\u001b[1;32m     10\u001b[0m         )\n\u001b[1;32m     11\u001b[0m molecule_pairs_val\u001b[38;5;241m=\u001b[39m MoleculePairsOpt(\n\u001b[1;32m     12\u001b[0m             spectrums_unique\u001b[38;5;241m=\u001b[39mmolecule_pairs_val\u001b[38;5;241m.\u001b[39mspectrums,\n\u001b[1;32m     13\u001b[0m             indexes_tani_unique\u001b[38;5;241m=\u001b[39m molecule_pairs_val\u001b[38;5;241m.\u001b[39mindexes_tani[random_integers_val],\n\u001b[1;32m     14\u001b[0m             spectrums_original\u001b[38;5;241m=\u001b[39mmolecule_pairs_val\u001b[38;5;241m.\u001b[39mspectrums_original,\n\u001b[1;32m     15\u001b[0m             df_smiles\u001b[38;5;241m=\u001b[39mmolecule_pairs_val\u001b[38;5;241m.\u001b[39mdf_smiles,\n\u001b[1;32m     16\u001b[0m         )\n",
      "\u001b[0;31mAttributeError\u001b[0m: 'MolecularPairsSet' object has no attribute 'spectrums_original'"
     ]
    }
   ],
   "source": [
    "#molecule_pairs_train= MolecularPairsSet(spectrums= molecule_pairs_train.spectrums, \n",
    "#                                      indexes_tani =molecule_pairs_train.indexes_tani[random_integers_train])\n",
    "#molecule_pairs_val= MolecularPairsSet(spectrums= molecule_pairs_val.spectrums, \n",
    "#                                      indexes_tani =molecule_pairs_val.indexes_tani[random_integers_val])\n",
    "molecule_pairs_train= MoleculePairsOpt(\n",
    "            spectrums_unique=molecule_pairs_train.spectrums,\n",
    "            indexes_tani_unique= molecule_pairs_train.indexes_tani[random_integers_train],\n",
    "            spectrums_original=molecule_pairs_train.spectrums_original,\n",
    "            df_smiles=molecule_pairs_train.df_smiles,\n",
    "        )\n",
    "molecule_pairs_val= MoleculePairsOpt(\n",
    "            spectrums_unique=molecule_pairs_val.spectrums,\n",
    "            indexes_tani_unique= molecule_pairs_val.indexes_tani[random_integers_val],\n",
    "            spectrums_original=molecule_pairs_val.spectrums_original,\n",
    "            df_smiles=molecule_pairs_val.df_smiles,\n",
    "        )"
   ]
  },
  {
   "cell_type": "code",
   "execution_count": 25,
   "id": "d09a7286-a9b9-4d58-8c9e-509e0ff78ea3",
   "metadata": {},
   "outputs": [],
   "source": [
    "def divide_data_into_bins(\n",
    "        molecule_pairs,\n",
    "        number_bins,\n",
    "        bin_sim_1=True,  # if you want to try sim=1 as a different bin\n",
    "    ):\n",
    "        # Initialize lists to store values for each bin\n",
    "        binned_molecule_pairs = []\n",
    "\n",
    "        # Group the values into the corresponding bins, adding one for sim=1\n",
    "        if bin_sim_1:\n",
    "            number_bins_effective = number_bins + 1\n",
    "        else:\n",
    "            number_bins_effective = number_bins\n",
    "\n",
    "        for p in range(number_bins_effective):\n",
    "            low = p * (1 / number_bins)\n",
    "\n",
    "            if bin_sim_1:\n",
    "                high = (p + 1) * (1 / number_bins)\n",
    "            else:\n",
    "                if p == (number_bins_effective - 1):\n",
    "                    high = 1 + 0.1\n",
    "                else:\n",
    "                    high = (p + 1) * (1 / number_bins)\n",
    "\n",
    "            # temp_molecule_pairs = [m for m in molecule_pairs if ((m.similarity>=low) and (m.similarity<high))]\n",
    "            # check the similarity\n",
    "            # temp_indexes_tani = np.array([ row for row in molecule_pairs.indexes_tani if ((row[2]>=low) and (row[2]<high)) ])\n",
    "            temp_indexes_tani = molecule_pairs.indexes_tani[\n",
    "                (molecule_pairs.indexes_tani[:, 2] >= low)\n",
    "                & (molecule_pairs.indexes_tani[:, 2] < high)\n",
    "            ]\n",
    "\n",
    "            temp_molecule_pairs =temp_indexes_tani\n",
    "            binned_molecule_pairs.append(temp_molecule_pairs)\n",
    "\n",
    "        # get minimum bin size\n",
    "        min_bin = min([len(b) for b in binned_molecule_pairs])\n",
    "        return binned_molecule_pairs, min_bin"
   ]
  },
  {
   "cell_type": "code",
   "execution_count": 27,
   "id": "f2085929-a172-4bea-ba85-2f7a128dd6b4",
   "metadata": {},
   "outputs": [],
   "source": [
    "## CALCULATION OF WEIGHTS\n",
    "train_binned_list, _ = divide_data_into_bins(\n",
    "    molecule_pairs_train, config.bins_uniformise_TRAINING,\n",
    ")"
   ]
  },
  {
   "cell_type": "code",
   "execution_count": 31,
   "id": "8e2b269c-d7c5-4708-bb88-acbf31715086",
   "metadata": {},
   "outputs": [
    {
     "data": {
      "text/plain": [
       "[<matplotlib.lines.Line2D at 0x2d2efcc50>]"
      ]
     },
     "execution_count": 31,
     "metadata": {},
     "output_type": "execute_result"
    },
    {
     "data": {
      "image/png": "[encoded data removed]",
      "text/plain": [
       "<Figure size 640x480 with 1 Axes>"
      ]
     },
     "metadata": {},
     "output_type": "display_data"
    }
   ],
   "source": [
    "import matplotlib.pyplot as plt\n",
    "plt.plot([len(t) for t in train_binned_list])"
   ]
  },
  {
   "cell_type": "code",
   "execution_count": 389,
   "id": "96b96655-f67c-445a-9663-baa56ae7efb4",
   "metadata": {},
   "outputs": [],
   "source": [
    "weights, range_weights = WeightSampling.compute_weights(train_binned_list)"
   ]
  },
  {
   "cell_type": "code",
   "execution_count": 390,
   "id": "2160bf42-867e-49d2-b048-06b29faacc59",
   "metadata": {},
   "outputs": [
    {
     "data": {
      "text/plain": [
       "[<matplotlib.lines.Line2D at 0x712135e50>]"
      ]
     },
     "execution_count": 390,
     "metadata": {},
     "output_type": "execute_result"
    },
    {
     "data": {
      "image/png": "[encoded data removed]",
      "text/plain": [
       "<Figure size 640x480 with 1 Axes>"
      ]
     },
     "metadata": {},
     "output_type": "display_data"
    }
   ],
   "source": [
    "import matplotlib.pyplot as plt\n",
    "plt.plot([len(t) for t in train_binned_list])"
   ]
  },
  {
   "cell_type": "code",
   "execution_count": 391,
   "id": "c4eb61fa-a90f-48b3-8e33-bf0ab6d423c9",
   "metadata": {},
   "outputs": [
    {
     "data": {
      "text/plain": [
       "[<matplotlib.lines.Line2D at 0x715229850>]"
      ]
     },
     "execution_count": 391,
     "metadata": {},
     "output_type": "execute_result"
    },
    {
     "data": {
      "image/png": "[encoded data removed]",
      "text/plain": [
       "<Figure size 640x480 with 1 Axes>"
      ]
     },
     "metadata": {},
     "output_type": "display_data"
    }
   ],
   "source": [
    "plt.plot(weights)"
   ]
  },
  {
   "cell_type": "code",
   "execution_count": 353,
   "id": "ac633170-84bc-4b5c-a2a9-dbbe9ebb52b7",
   "metadata": {},
   "outputs": [
    {
     "data": {
      "text/plain": [
       "array([0.03306582, 0.01423124, 0.02578752, 0.05750048, 0.13659504,\n",
       "       0.01033034, 0.03400029, 0.09450231, 0.1709304 , 0.32247694,\n",
       "       0.10057963])"
      ]
     },
     "execution_count": 353,
     "metadata": {},
     "output_type": "execute_result"
    }
   ],
   "source": [
    "weights"
   ]
  },
  {
   "cell_type": "code",
   "execution_count": 354,
   "id": "d32f5190-0691-43dc-b928-9d426591e6b2",
   "metadata": {},
   "outputs": [
    {
     "data": {
      "text/plain": [
       "array([0. , 0.1, 0.2, 0.3, 0.4, 0.5, 0.6, 0.7, 0.8, 0.9, 1. ])"
      ]
     },
     "execution_count": 354,
     "metadata": {},
     "output_type": "execute_result"
    }
   ],
   "source": [
    "range_weights"
   ]
  },
  {
   "cell_type": "code",
   "execution_count": 371,
   "id": "6865df36-531b-4c9d-a90e-8dcdc8aadfaa",
   "metadata": {},
   "outputs": [
    {
     "data": {
      "text/plain": [
       "(array([8305.,  544.,  642.,    0.,  229.,  183.,    0.,    0.,    0.,\n",
       "          97.]),\n",
       " array([3.00228173e-05, 1.20741248e-04, 2.11459678e-04, 3.02178109e-04,\n",
       "        3.92896540e-04, 4.83614970e-04, 5.74333401e-04, 6.65051831e-04,\n",
       "        7.55770262e-04, 8.46488692e-04, 9.37207123e-04]),\n",
       " <BarContainer object of 10 artists>)"
      ]
     },
     "execution_count": 371,
     "metadata": {},
     "output_type": "execute_result"
    },
    {
     "data": {
      "image/png": "[encoded data removed]",
      "text/plain": [
       "<Figure size 640x480 with 1 Axes>"
      ]
     },
     "metadata": {},
     "output_type": "display_data"
    }
   ],
   "source": [
    "plt.hist(weights_tr)"
   ]
  },
  {
   "cell_type": "code",
   "execution_count": 360,
   "id": "f7d09808-f4da-4354-b160-3bcba8702957",
   "metadata": {},
   "outputs": [],
   "source": [
    "weights_tr = WeightSampling.compute_sample_weights(molecule_pairs_train, weights)\n",
    "weights_val = WeightSampling.compute_sample_weights(molecule_pairs_val, weights)"
   ]
  },
  {
   "cell_type": "code",
   "execution_count": 361,
   "id": "332877de-7a83-4315-a2f0-893f2bf55e60",
   "metadata": {},
   "outputs": [
    {
     "data": {
      "text/plain": [
       "0.5015197396278381"
      ]
     },
     "execution_count": 361,
     "metadata": {},
     "output_type": "execute_result"
    }
   ],
   "source": [
    "molecule_pairs_train[0].similarity"
   ]
  },
  {
   "cell_type": "code",
   "execution_count": 362,
   "id": "4b890038-fb75-4f3e-8c87-75a506c3518c",
   "metadata": {},
   "outputs": [
    {
     "data": {
      "text/plain": [
       "3.0022817341178874e-05"
      ]
     },
     "execution_count": 362,
     "metadata": {},
     "output_type": "execute_result"
    }
   ],
   "source": [
    "weights_tr[0]"
   ]
  },
  {
   "cell_type": "code",
   "execution_count": 367,
   "id": "59841809-74d9-4dfd-916f-1126df9e12c7",
   "metadata": {},
   "outputs": [
    {
     "data": {
      "text/plain": [
       "0.5015197396278381"
      ]
     },
     "execution_count": 367,
     "metadata": {},
     "output_type": "execute_result"
    }
   ],
   "source": [
    "molecule_pairs_train[0].similarity"
   ]
  },
  {
   "cell_type": "code",
   "execution_count": 368,
   "id": "f2d76775-221a-4f4c-a393-90d6feb6209b",
   "metadata": {},
   "outputs": [
    {
     "data": {
      "text/plain": [
       "3.0022817341178874e-05"
      ]
     },
     "execution_count": 368,
     "metadata": {},
     "output_type": "execute_result"
    }
   ],
   "source": [
    "weights_tr[0]"
   ]
  },
  {
   "cell_type": "code",
   "execution_count": null,
   "id": "2e9b6ce2-e532-4044-a628-925ea6f9bb8c",
   "metadata": {},
   "outputs": [],
   "source": []
  },
  {
   "cell_type": "code",
   "execution_count": 279,
   "id": "c6aa1b44-a00d-413c-97d8-20bbf210b825",
   "metadata": {},
   "outputs": [
    {
     "name": "stdout",
     "output_type": "stream",
     "text": [
      "Preprocessing all the data ...\n"
     ]
    },
    {
     "name": "stderr",
     "output_type": "stream",
     "text": [
      "\n",
      "0it [00:00, ?it/s]\u001b[A\n",
      "4015it [00:00, 40148.51it/s]\u001b[A\n",
      "8030it [00:00, 27840.33it/s]\u001b[A\n",
      "11032it [00:00, 22070.00it/s]\u001b[A\n",
      "14348it [00:00, 25267.50it/s]\u001b[A\n",
      "21634it [00:00, 39152.43it/s]\u001b[A\n",
      "28758it [00:00, 48591.38it/s]\u001b[A\n",
      "36672it [00:00, 57629.10it/s]\u001b[A\n",
      "44656it [00:00, 64227.33it/s]\u001b[A\n",
      "53016it [00:01, 69999.40it/s]\u001b[A\n",
      "61682it [00:01, 74972.90it/s]\u001b[A\n",
      "69972it [00:01, 77336.89it/s]\u001b[A\n",
      "77847it [00:01, 77759.55it/s]\u001b[A\n",
      "85720it [00:01, 77316.39it/s]\u001b[A\n",
      "93674it [00:01, 77976.93it/s]\u001b[A\n",
      "101718it [00:01, 78708.70it/s]\u001b[A\n",
      "110006it [00:01, 79952.43it/s]\u001b[A\n",
      "118151it [00:01, 80399.24it/s]\u001b[A\n",
      "126209it [00:01, 79706.84it/s]\u001b[A\n",
      "134226it [00:02, 79843.02it/s]\u001b[A\n",
      "142835it [00:02, 81705.10it/s]\u001b[A\n",
      "151160it [00:02, 82164.10it/s]\u001b[A\n",
      "159387it [00:02, 82192.81it/s]\u001b[A\n",
      "167611it [00:02, 81976.22it/s]\u001b[A\n",
      "175883it [00:02, 82196.64it/s]\u001b[A\n",
      "184105it [00:02, 81132.33it/s]\u001b[A\n",
      "192223it [00:02, 81013.06it/s]\u001b[A\n",
      "200328it [00:02, 80951.06it/s]\u001b[A\n",
      "208532it [00:02, 81273.83it/s]\u001b[A\n",
      "216682it [00:03, 81338.95it/s]\u001b[A\n",
      "225166it [00:03, 82385.47it/s]\u001b[A\n",
      "233406it [00:03, 81549.21it/s]\u001b[A\n",
      "241783it [00:03, 82207.92it/s]\u001b[A\n",
      "250293it [00:03, 83068.18it/s]\u001b[A\n",
      "261349it [00:03, 72494.44it/s]\u001b[A\n"
     ]
    },
    {
     "name": "stdout",
     "output_type": "stream",
     "text": [
      "Finished preprocessing \n",
      "loading data\n",
      "Normalizing intensities\n",
      "Creating dictionaries\n",
      "Preprocessing all the data ...\n"
     ]
    },
    {
     "name": "stderr",
     "output_type": "stream",
     "text": [
      "\n",
      "0it [00:00, ?it/s]\u001b[A\n",
      "3628it [00:00, 36278.13it/s]\u001b[A\n",
      "11850it [00:00, 63299.65it/s]\u001b[A\n",
      "20221it [00:00, 72618.06it/s]\u001b[A\n",
      "31318it [00:00, 72493.02it/s]\u001b[A\n"
     ]
    },
    {
     "name": "stdout",
     "output_type": "stream",
     "text": [
      "Finished preprocessing \n",
      "loading data\n",
      "Normalizing intensities\n",
      "Creating dictionaries\n"
     ]
    }
   ],
   "source": [
    "dataset_train = LoadDataUnique.from_molecule_pairs_to_dataset(molecule_pairs_train, training=True)\n",
    "# dataset_test = LoadData.from_molecule_pairs_to_dataset(m_test)\n",
    "dataset_val = LoadDataUnique.from_molecule_pairs_to_dataset(molecule_pairs_val)"
   ]
  },
  {
   "cell_type": "code",
   "execution_count": 280,
   "id": "b8f1a3d9-8932-4d85-be72-629af18a05a3",
   "metadata": {},
   "outputs": [
    {
     "data": {
      "text/plain": [
       "{'mz_0': array([ 56.0493, 122.0773, 128.0867, 145.1134, 148.093 , 165.1195,\n",
       "          0.    ,   0.    ,   0.    ,   0.    ,   0.    ,   0.    ,\n",
       "          0.    ,   0.    ,   0.    ,   0.    ,   0.    ,   0.    ,\n",
       "          0.    ,   0.    ,   0.    ,   0.    ,   0.    ,   0.    ,\n",
       "          0.    ,   0.    ,   0.    ,   0.    ,   0.    ,   0.    ,\n",
       "          0.    ,   0.    ,   0.    ,   0.    ,   0.    ,   0.    ,\n",
       "          0.    ,   0.    ,   0.    ,   0.    ,   0.    ,   0.    ,\n",
       "          0.    ,   0.    ,   0.    ,   0.    ,   0.    ,   0.    ,\n",
       "          0.    ,   0.    ,   0.    ,   0.    ,   0.    ,   0.    ,\n",
       "          0.    ,   0.    ,   0.    ,   0.    ,   0.    ,   0.    ,\n",
       "          0.    ,   0.    ,   0.    ,   0.    ,   0.    ,   0.    ,\n",
       "          0.    ,   0.    ,   0.    ,   0.    ,   0.    ,   0.    ,\n",
       "          0.    ,   0.    ,   0.    ,   0.    ,   0.    ,   0.    ,\n",
       "          0.    ,   0.    ,   0.    ,   0.    ,   0.    ,   0.    ,\n",
       "          0.    ,   0.    ,   0.    ,   0.    ,   0.    ,   0.    ,\n",
       "          0.    ,   0.    ,   0.    ,   0.    ,   0.    ,   0.    ,\n",
       "          0.    ,   0.    ,   0.    ,   0.    ], dtype=float32),\n",
       " 'intensity_0': array([0.03016872, 0.10042974, 0.07766481, 0.0340349 , 0.90916616,\n",
       "        0.39399296, 0.        , 0.        , 0.        , 0.        ,\n",
       "        0.        , 0.        , 0.        , 0.        , 0.        ,\n",
       "        0.        , 0.        , 0.        , 0.        , 0.        ,\n",
       "        0.        , 0.        , 0.        , 0.        , 0.        ,\n",
       "        0.        , 0.        , 0.        , 0.        , 0.        ,\n",
       "        0.        , 0.        , 0.        , 0.        , 0.        ,\n",
       "        0.        , 0.        , 0.        , 0.        , 0.        ,\n",
       "        0.        , 0.        , 0.        , 0.        , 0.        ,\n",
       "        0.        , 0.        , 0.        , 0.        , 0.        ,\n",
       "        0.        , 0.        , 0.        , 0.        , 0.        ,\n",
       "        0.        , 0.        , 0.        , 0.        , 0.        ,\n",
       "        0.        , 0.        , 0.        , 0.        , 0.        ,\n",
       "        0.        , 0.        , 0.        , 0.        , 0.        ,\n",
       "        0.        , 0.        , 0.        , 0.        , 0.        ,\n",
       "        0.        , 0.        , 0.        , 0.        , 0.        ,\n",
       "        0.        , 0.        , 0.        , 0.        , 0.        ,\n",
       "        0.        , 0.        , 0.        , 0.        , 0.        ,\n",
       "        0.        , 0.        , 0.        , 0.        , 0.        ,\n",
       "        0.        , 0.        , 0.        , 0.        , 0.        ],\n",
       "       dtype=float32),\n",
       " 'mz_1': array([ 51.0232,  53.0387,  54.0341,  55.0418,  65.0388,  69.045 ,\n",
       "         75.0232,  77.0389,  78.0467,  81.0451,  82.0529,  89.0388,\n",
       "         91.0546,  95.0495, 101.039 , 102.0468, 103.0546, 105.0451,\n",
       "        106.0528, 114.0467, 115.0546, 116.0624, 117.0702, 119.0496,\n",
       "        125.0389, 126.0468, 127.0546, 127.6358, 128.0624, 128.4911,\n",
       "        129.0451, 129.0702, 139.0546, 140.0499, 140.0623, 141.0703,\n",
       "        144.0574, 145.0652, 151.0546, 152.0625, 153.0578, 154.0656,\n",
       "        155.0494, 155.0608, 166.0656, 167.0734, 168.0812, 169.0654,\n",
       "        170.0606, 179.061 , 181.0766, 193.0765, 194.0844, 195.0922,\n",
       "          0.    ,   0.    ,   0.    ,   0.    ,   0.    ,   0.    ,\n",
       "          0.    ,   0.    ,   0.    ,   0.    ,   0.    ,   0.    ,\n",
       "          0.    ,   0.    ,   0.    ,   0.    ,   0.    ,   0.    ,\n",
       "          0.    ,   0.    ,   0.    ,   0.    ,   0.    ,   0.    ,\n",
       "          0.    ,   0.    ,   0.    ,   0.    ,   0.    ,   0.    ,\n",
       "          0.    ,   0.    ,   0.    ,   0.    ,   0.    ,   0.    ,\n",
       "          0.    ,   0.    ,   0.    ,   0.    ,   0.    ,   0.    ,\n",
       "          0.    ,   0.    ,   0.    ,   0.    ], dtype=float32),\n",
       " 'intensity_1': array([0.06298645, 0.03033765, 0.06708308, 0.02200925, 0.0374804 ,\n",
       "        0.16954266, 0.04290392, 0.15539525, 0.09763774, 0.12048932,\n",
       "        0.11887031, 0.03033765, 0.12733068, 0.1230748 , 0.03937134,\n",
       "        0.15288112, 0.06744318, 0.06991185, 0.03937134, 0.03033765,\n",
       "        0.18756993, 0.05295957, 0.07329443, 0.05475837, 0.03548884,\n",
       "        0.14137408, 0.26434928, 0.04233563, 0.69564545, 0.0440185 ,\n",
       "        0.07621049, 0.09069305, 0.03616488, 0.03264499, 0.03033765,\n",
       "        0.08232165, 0.04616699, 0.2492687 , 0.03189443, 0.07196048,\n",
       "        0.04117553, 0.08880397, 0.05818938, 0.25587586, 0.04510553,\n",
       "        0.0904256 , 0.06744318, 0.03479968, 0.04058305, 0.03189443,\n",
       "        0.04290392, 0.06815763, 0.02783974, 0.05156931, 0.        ,\n",
       "        0.        , 0.        , 0.        , 0.        , 0.        ,\n",
       "        0.        , 0.        , 0.        , 0.        , 0.        ,\n",
       "        0.        , 0.        , 0.        , 0.        , 0.        ,\n",
       "        0.        , 0.        , 0.        , 0.        , 0.        ,\n",
       "        0.        , 0.        , 0.        , 0.        , 0.        ,\n",
       "        0.        , 0.        , 0.        , 0.        , 0.        ,\n",
       "        0.        , 0.        , 0.        , 0.        , 0.        ,\n",
       "        0.        , 0.        , 0.        , 0.        , 0.        ,\n",
       "        0.        , 0.        , 0.        , 0.        , 0.        ],\n",
       "       dtype=float32),\n",
       " 'precursor_mass_0': array([165.1198], dtype=float32),\n",
       " 'precursor_mass_1': array([241.0972], dtype=float32),\n",
       " 'precursor_charge_0': array([1.], dtype=float32),\n",
       " 'precursor_charge_1': array([1.], dtype=float32),\n",
       " 'similarity': array([0.52022403], dtype=float32)}"
      ]
     },
     "execution_count": 280,
     "metadata": {},
     "output_type": "execute_result"
    }
   ],
   "source": [
    "next(iter(dataset_train))"
   ]
  },
  {
   "cell_type": "code",
   "execution_count": 281,
   "id": "f5abb1f9-2553-4752-8b3f-49d403a16287",
   "metadata": {},
   "outputs": [],
   "source": [
    "train_sampler = WeightedRandomSampler(\n",
    "    weights=weights_tr, num_samples=len(dataset_train), replacement=True\n",
    ")\n",
    "val_sampler = WeightedRandomSampler(\n",
    "    weights=weights_val, num_samples=len(dataset_val), replacement=True\n",
    ")\n"
   ]
  },
  {
   "cell_type": "code",
   "execution_count": 282,
   "id": "3f1b71b5-fa38-458d-8c63-6bd7c58a7a63",
   "metadata": {},
   "outputs": [],
   "source": [
    "dataloader_train = DataLoader(\n",
    "    dataset_train, batch_size=config.BATCH_SIZE,  num_workers=10, sampler=train_sampler,\n",
    ")\n",
    "def worker_init_fn(\n",
    "    worker_id,\n",
    "):  # ensure the dataloader for validation is the same for every epoch\n",
    "    seed = 42\n",
    "    torch.manual_seed(seed)\n",
    "    # Set the same seed for reproducibility in NumPy and Python's random module\n",
    "    np.random.seed(seed)\n",
    "    random.seed(seed)\n",
    "\n",
    "dataloader_val = DataLoader(\n",
    "    dataset_val,\n",
    "    batch_size=config.BATCH_SIZE,\n",
    "    num_workers=0,\n",
    "    sampler=val_sampler,\n",
    ")\n"
   ]
  },
  {
   "cell_type": "code",
   "execution_count": 283,
   "id": "9589bde1-9acf-414a-958a-8678bc7ecf20",
   "metadata": {},
   "outputs": [
    {
     "name": "stdout",
     "output_type": "stream",
     "text": [
      "define model\n"
     ]
    }
   ],
   "source": [
    "checkpoint_callback = pl.callbacks.ModelCheckpoint(\n",
    "    dirpath=config.CHECKPOINT_DIR,\n",
    "    filename=\"best_model\",\n",
    "    monitor=\"validation_loss_epoch\",\n",
    "    mode=\"min\",\n",
    "    save_top_k=1,\n",
    ")\n",
    "\n",
    "# checkpoint_callback = SaveBestModelCallback(file_path=config.best_model_path)\n",
    "progress_bar_callback = ProgressBar()\n",
    "\n",
    "# loss callback\n",
    "losscallback = LossCallback(file_path=config.CHECKPOINT_DIR + f\"loss.png\")\n",
    "\n",
    "print(\"define model\")\n",
    "\n",
    "\n",
    "    \n",
    "model = Embedder(\n",
    "        d_model=int(config.D_MODEL),\n",
    "        n_layers=int(config.N_LAYERS),\n",
    "        weights=None,\n",
    "        lr=config.LR,\n",
    "        use_cosine_distance=config.use_cosine_distance,\n",
    "    )"
   ]
  },
  {
   "cell_type": "code",
   "execution_count": 284,
   "id": "ea8e319b-285c-4d3f-b587-abc13f4dd704",
   "metadata": {},
   "outputs": [
    {
     "data": {
      "text/plain": [
       "0.0001"
      ]
     },
     "execution_count": 284,
     "metadata": {},
     "output_type": "execute_result"
    }
   ],
   "source": [
    "config.LR"
   ]
  },
  {
   "cell_type": "code",
   "execution_count": 285,
   "id": "0209b1e4-646f-4747-a8ef-de1656b5f46c",
   "metadata": {},
   "outputs": [
    {
     "name": "stderr",
     "output_type": "stream",
     "text": [
      "GPU available: True (mps), used: True\n",
      "TPU available: False, using: 0 TPU cores\n",
      "IPU available: False, using: 0 IPUs\n",
      "HPU available: False, using: 0 HPUs\n",
      "/Users/sebas/miniconda3/envs/transformers/lib/python3.11/site-packages/lightning/pytorch/callbacks/model_checkpoint.py:639: Checkpoint directory /Users/sebas/projects/metabolomics/notebooks/cosine/results exists and is not empty.\n",
      "\n",
      "  | Name                    | Type                             | Params\n",
      "-----------------------------------------------------------------------------\n",
      "0 | linear                  | Linear                           | 16.5 K\n",
      "1 | linear_regression       | Linear                           | 129   \n",
      "2 | fixed_linear_regression | FixedLinearRegression            | 129   \n",
      "3 | relu                    | ReLU                             | 0     \n",
      "4 | spectrum_encoder        | SpectrumTransformerEncoderCustom | 1.7 M \n",
      "5 | regression_loss         | MSELoss                          | 0     \n",
      "6 | dropout                 | Dropout                          | 0     \n",
      "7 | linear_cosine           | Linear                           | 16.5 K\n",
      "8 | cosine_similarity       | CosineSimilarity                 | 0     \n",
      "-----------------------------------------------------------------------------\n",
      "1.7 M     Trainable params\n",
      "129       Non-trainable params\n",
      "1.7 M     Total params\n",
      "6.861     Total estimated model params size (MB)\n"
     ]
    },
    {
     "data": {
      "application/vnd.jupyter.widget-view+json": {
       "model_id": "",
       "version_major": 2,
       "version_minor": 0
      },
      "text/plain": [
       "Sanity Checking: |                                                                                            …"
      ]
     },
     "metadata": {},
     "output_type": "display_data"
    },
    {
     "name": "stderr",
     "output_type": "stream",
     "text": [
      "/Users/sebas/miniconda3/envs/transformers/lib/python3.11/site-packages/lightning/pytorch/trainer/connectors/data_connector.py:441: The 'val_dataloader' does not have many workers which may be a bottleneck. Consider increasing the value of the `num_workers` argument` to `num_workers=10` in the `DataLoader` to improve performance.\n",
      "To copy construct from a tensor, it is recommended to use sourceTensor.clone().detach() or sourceTensor.clone().detach().requires_grad_(True), rather than torch.tensor(sourceTensor).\n",
      "To copy construct from a tensor, it is recommended to use sourceTensor.clone().detach() or sourceTensor.clone().detach().requires_grad_(True), rather than torch.tensor(sourceTensor).\n",
      "To copy construct from a tensor, it is recommended to use sourceTensor.clone().detach() or sourceTensor.clone().detach().requires_grad_(True), rather than torch.tensor(sourceTensor).\n",
      "Using a target size (torch.Size([128, 1])) that is different to the input size (torch.Size([128])). This will likely lead to incorrect results due to broadcasting. Please ensure they have the same size.\n"
     ]
    },
    {
     "name": "stdout",
     "output_type": "stream",
     "text": [
      "Train loss:\n",
      "[]\n",
      "Validation loss\n",
      "[1.436506748199463]\n"
     ]
    },
    {
     "name": "stderr",
     "output_type": "stream",
     "text": [
      "/Users/sebas/miniconda3/envs/transformers/lib/python3.11/site-packages/lightning/pytorch/trainer/connectors/data_connector.py:436: Consider setting `persistent_workers=True` in 'train_dataloader' to speed up the dataloader worker initialization.\n"
     ]
    },
    {
     "data": {
      "application/vnd.jupyter.widget-view+json": {
       "model_id": "5d1af36ac139478b831069415edc3918",
       "version_major": 2,
       "version_minor": 0
      },
      "text/plain": [
       "Training: |                                                                                                   …"
      ]
     },
     "metadata": {},
     "output_type": "display_data"
    },
    {
     "name": "stderr",
     "output_type": "stream",
     "text": [
      "Using a target size (torch.Size([16, 1])) that is different to the input size (torch.Size([16])). This will likely lead to incorrect results due to broadcasting. Please ensure they have the same size.\n"
     ]
    },
    {
     "data": {
      "application/vnd.jupyter.widget-view+json": {
       "model_id": "",
       "version_major": 2,
       "version_minor": 0
      },
      "text/plain": [
       "Validation: |                                                                                                 …"
      ]
     },
     "metadata": {},
     "output_type": "display_data"
    },
    {
     "name": "stdout",
     "output_type": "stream",
     "text": [
      "Train loss:\n",
      "[]\n",
      "Validation loss\n",
      "[1.436506748199463, 1.1950141191482544]\n"
     ]
    },
    {
     "data": {
      "application/vnd.jupyter.widget-view+json": {
       "model_id": "",
       "version_major": 2,
       "version_minor": 0
      },
      "text/plain": [
       "Validation: |                                                                                                 …"
      ]
     },
     "metadata": {},
     "output_type": "display_data"
    },
    {
     "name": "stdout",
     "output_type": "stream",
     "text": [
      "Train loss:\n",
      "[0.3884230852127075]\n",
      "Validation loss\n",
      "[1.436506748199463, 1.1950141191482544, 1.0992369651794434]\n"
     ]
    },
    {
     "data": {
      "application/vnd.jupyter.widget-view+json": {
       "model_id": "",
       "version_major": 2,
       "version_minor": 0
      },
      "text/plain": [
       "Validation: |                                                                                                 …"
      ]
     },
     "metadata": {},
     "output_type": "display_data"
    },
    {
     "name": "stdout",
     "output_type": "stream",
     "text": [
      "Train loss:\n",
      "[0.3884230852127075, 0.35413989424705505]\n",
      "Validation loss\n",
      "[1.436506748199463, 1.1950141191482544, 1.0992369651794434, 1.1861121654510498]\n"
     ]
    },
    {
     "name": "stderr",
     "output_type": "stream",
     "text": [
      "/Users/sebas/miniconda3/envs/transformers/lib/python3.11/site-packages/lightning/pytorch/trainer/call.py:54: Detected KeyboardInterrupt, attempting graceful shutdown...\n",
      "Exception ignored in: <function _MultiProcessingDataLoaderIter.__del__ at 0x116ca3b00>\n",
      "Traceback (most recent call last):\n",
      "  File \"/Users/sebas/miniconda3/envs/transformers/lib/python3.11/site-packages/torch/utils/data/dataloader.py\", line 1479, in __del__\n",
      "    self._shutdown_workers()\n",
      "  File \"/Users/sebas/miniconda3/envs/transformers/lib/python3.11/site-packages/torch/utils/data/dataloader.py\", line 1437, in _shutdown_workers\n",
      "    if self._persistent_workers or self._workers_status[worker_id]:\n",
      "                                   ^^^^^^^^^^^^^^^^^^^^\n",
      "AttributeError: '_MultiProcessingDataLoaderIter' object has no attribute '_workers_status'\n"
     ]
    },
    {
     "name": "stdout",
     "output_type": "stream",
     "text": [
      "Error in callback <function flush_figures at 0x38f1a7060> (for post_execute), with arguments args (),kwargs {}:\n"
     ]
    },
    {
     "name": "stderr",
     "output_type": "stream",
     "text": [
      "Traceback (most recent call last):\n",
      "  File \"<string>\", line 1, in <module>\n",
      "  File \"/Users/sebas/miniconda3/envs/transformers/lib/python3.11/multiprocessing/spawn.py\", line 122, in spawn_main\n",
      "    exitcode = _main(fd, parent_sentinel)\n",
      "               ^^^^^^^^^^^^^^^^^^^^^^^^^^\n",
      "  File \"/Users/sebas/miniconda3/envs/transformers/lib/python3.11/multiprocessing/spawn.py\", line 132, in _main\n",
      "    self = reduction.pickle.load(from_parent)\n",
      "           ^^^^^^^^^^^^^^^^^^^^^^^^^^^^^^^^^^\n",
      "  File \"/Users/sebas/miniconda3/envs/transformers/lib/python3.11/site-packages/torch/__init__.py\", line 237, in <module>\n",
      "    from torch._C import *  # noqa: F403\n",
      "    ^^^^^^^^^^^^^^^^^^^^^^\n",
      "KeyboardInterrupt\n",
      "\n",
      "KeyboardInterrupt\n",
      "\n"
     ]
    }
   ],
   "source": [
    "trainer = pl.Trainer(\n",
    "    max_epochs=100,\n",
    "    callbacks=[checkpoint_callback, losscallback],\n",
    "    enable_progress_bar=True,\n",
    "    # val_check_interval= config.validate_after_ratio,\n",
    ")\n",
    "# trainer = pl.Trainer(max_steps=100,  callbacks=[checkpoint_callback, losscallback], enable_progress_bar=enable_progress_bar)\n",
    "trainer.fit(\n",
    "    model=model,\n",
    "    train_dataloaders=(dataloader_train),\n",
    "    val_dataloaders=dataloader_val,\n",
    ")"
   ]
  },
  {
   "cell_type": "code",
   "execution_count": 286,
   "id": "b0ce71df-a644-45f8-b4b0-a1c5f46790dd",
   "metadata": {},
   "outputs": [
    {
     "name": "stdout",
     "output_type": "stream",
     "text": [
      "linear.weight\n",
      "Parameter containing:\n",
      "tensor([[-0.0337,  0.0788, -0.0199,  ..., -0.0222,  0.0206, -0.0046],\n",
      "        [ 0.0377,  0.0126, -0.0278,  ...,  0.0850, -0.0720,  0.0671],\n",
      "        [ 0.0457, -0.0515, -0.0832,  ..., -0.0338,  0.0328,  0.0318],\n",
      "        ...,\n",
      "        [-0.0523, -0.0666, -0.0808,  ..., -0.0269,  0.0770, -0.0449],\n",
      "        [-0.0148, -0.0291,  0.0715,  ...,  0.0034, -0.0413,  0.0193],\n",
      "        [-0.0156, -0.0654,  0.0309,  ...,  0.0879, -0.0276, -0.0720]],\n",
      "       device='mps:0', requires_grad=True)\n",
      "linear.bias\n",
      "Parameter containing:\n",
      "tensor([ 0.0014, -0.0315,  0.0187, -0.0423,  0.0313,  0.0742, -0.0020, -0.0851,\n",
      "        -0.0762, -0.0118,  0.0105, -0.0559, -0.0713, -0.0014,  0.0874, -0.0331,\n",
      "         0.0616,  0.0547, -0.0502, -0.0278, -0.0688,  0.0493,  0.0369,  0.0167,\n",
      "        -0.0226, -0.0785, -0.0671,  0.0587, -0.0369, -0.0406,  0.0381,  0.0721,\n",
      "        -0.0232, -0.0389,  0.0642, -0.0127, -0.0142,  0.0385, -0.0790,  0.0018,\n",
      "        -0.0372, -0.0485, -0.0834, -0.0532,  0.0272, -0.0674, -0.0108,  0.0798,\n",
      "         0.0268, -0.0202, -0.0744, -0.0139,  0.0773, -0.0496,  0.0570,  0.0296,\n",
      "         0.0379, -0.0066,  0.0306,  0.0452,  0.0371,  0.0770,  0.0087, -0.0528,\n",
      "         0.0483, -0.0368, -0.0521,  0.0641,  0.0125, -0.0875, -0.0835,  0.0225,\n",
      "         0.0005, -0.0338,  0.0089,  0.0289, -0.0581,  0.0664,  0.0366, -0.0093,\n",
      "        -0.0641,  0.0504,  0.0543,  0.0292, -0.0605,  0.0112, -0.0640,  0.0290,\n",
      "         0.0635,  0.0608, -0.0798,  0.0398, -0.0577,  0.0154,  0.0170, -0.0675,\n",
      "        -0.0476, -0.0040,  0.0136,  0.0005, -0.0806, -0.0366,  0.0836,  0.0285,\n",
      "        -0.0794, -0.0774, -0.0360,  0.0536, -0.0732,  0.0303, -0.0641,  0.0153,\n",
      "        -0.0230,  0.0740, -0.0586, -0.0169,  0.0495, -0.0350,  0.0171, -0.0333,\n",
      "        -0.0563,  0.0823,  0.0326, -0.0048,  0.0275, -0.0560,  0.0687, -0.0437],\n",
      "       device='mps:0', requires_grad=True)\n",
      "linear_regression.weight\n",
      "Parameter containing:\n",
      "tensor([[-0.0558,  0.0118,  0.0862,  0.0028, -0.0149,  0.0274, -0.0117,  0.0647,\n",
      "          0.0576, -0.0667,  0.0264, -0.0073, -0.0524, -0.0100, -0.0576, -0.0590,\n",
      "          0.0147, -0.0746,  0.0877,  0.0329,  0.0881, -0.0842,  0.0707, -0.0134,\n",
      "         -0.0641, -0.0080,  0.0617, -0.0059, -0.0783, -0.0757,  0.0202, -0.0687,\n",
      "         -0.0125,  0.0225, -0.0827,  0.0188,  0.0161, -0.0207,  0.0248,  0.0214,\n",
      "          0.0522,  0.0472,  0.0749, -0.0166,  0.0882, -0.0806,  0.0665,  0.0150,\n",
      "         -0.0800, -0.0405, -0.0227,  0.0204,  0.0594,  0.0577, -0.0368,  0.0063,\n",
      "         -0.0047,  0.0319,  0.0097, -0.0170, -0.0046, -0.0825,  0.0064,  0.0544,\n",
      "          0.0762, -0.0634,  0.0193, -0.0072, -0.0090, -0.0006,  0.0877,  0.0853,\n",
      "          0.0142,  0.0784,  0.0680, -0.0564,  0.0697, -0.0252,  0.0406, -0.0646,\n",
      "         -0.0881,  0.0060, -0.0274, -0.0148, -0.0511, -0.0505,  0.0589, -0.0702,\n",
      "         -0.0791, -0.0598, -0.0731, -0.0196, -0.0213, -0.0648,  0.0411, -0.0824,\n",
      "          0.0828,  0.0744,  0.0219, -0.0717,  0.0588, -0.0046, -0.0603,  0.0496,\n",
      "          0.0638, -0.0708, -0.0191,  0.0817,  0.0399,  0.0523, -0.0255, -0.0031,\n",
      "         -0.0396,  0.0814, -0.0009, -0.0486, -0.0833,  0.0682, -0.0242, -0.0680,\n",
      "          0.0659,  0.0842, -0.0598,  0.0224,  0.0562, -0.0390, -0.0786,  0.0840]],\n",
      "       device='mps:0', requires_grad=True)\n",
      "linear_regression.bias\n",
      "Parameter containing:\n",
      "tensor([0.0501], device='mps:0', requires_grad=True)\n",
      "fixed_linear_regression.weight\n",
      "Parameter containing:\n",
      "tensor([[1., 1., 1., 1., 1., 1., 1., 1., 1., 1., 1., 1., 1., 1., 1., 1., 1., 1.,\n",
      "         1., 1., 1., 1., 1., 1., 1., 1., 1., 1., 1., 1., 1., 1., 1., 1., 1., 1.,\n",
      "         1., 1., 1., 1., 1., 1., 1., 1., 1., 1., 1., 1., 1., 1., 1., 1., 1., 1.,\n",
      "         1., 1., 1., 1., 1., 1., 1., 1., 1., 1., 1., 1., 1., 1., 1., 1., 1., 1.,\n",
      "         1., 1., 1., 1., 1., 1., 1., 1., 1., 1., 1., 1., 1., 1., 1., 1., 1., 1.,\n",
      "         1., 1., 1., 1., 1., 1., 1., 1., 1., 1., 1., 1., 1., 1., 1., 1., 1., 1.,\n",
      "         1., 1., 1., 1., 1., 1., 1., 1., 1., 1., 1., 1., 1., 1., 1., 1., 1., 1.,\n",
      "         1., 1.]], device='mps:0')\n",
      "fixed_linear_regression.bias\n",
      "Parameter containing:\n",
      "tensor([0.], device='mps:0')\n",
      "spectrum_encoder.peak_encoder.combiner.weight\n",
      "Parameter containing:\n",
      "tensor([[ 0.0040,  0.0417, -0.0464,  ..., -0.0007, -0.0371,  0.0498],\n",
      "        [ 0.0348, -0.0355,  0.0536,  ...,  0.0066, -0.0570,  0.0182],\n",
      "        [-0.0556, -0.0193,  0.0327,  ...,  0.0508, -0.0614, -0.0407],\n",
      "        ...,\n",
      "        [-0.0357, -0.0019, -0.0076,  ..., -0.0323, -0.0496, -0.0067],\n",
      "        [-0.0576,  0.0331,  0.0301,  ...,  0.0312,  0.0179, -0.0138],\n",
      "        [-0.0037, -0.0155,  0.0025,  ...,  0.0402,  0.0082, -0.0486]],\n",
      "       device='mps:0', requires_grad=True)\n",
      "spectrum_encoder.transformer_encoder.layers.0.self_attn.in_proj_weight\n",
      "Parameter containing:\n",
      "tensor([[-0.0811,  0.0122, -0.0562,  ..., -0.0531, -0.0931, -0.0257],\n",
      "        [ 0.1026, -0.0097, -0.0364,  ..., -0.0005, -0.0071, -0.0779],\n",
      "        [-0.0079,  0.0907, -0.0435,  ...,  0.0668,  0.0983, -0.0806],\n",
      "        ...,\n",
      "        [-0.1033,  0.0558,  0.0883,  ...,  0.0451, -0.0222,  0.0963],\n",
      "        [ 0.0916, -0.0238, -0.0302,  ...,  0.0205, -0.0793,  0.0734],\n",
      "        [-0.0946,  0.0261, -0.0350,  ...,  0.0043,  0.0221,  0.0161]],\n",
      "       device='mps:0', requires_grad=True)\n",
      "spectrum_encoder.transformer_encoder.layers.0.self_attn.in_proj_bias\n"
     ]
    },
    {
     "ename": "KeyboardInterrupt",
     "evalue": "",
     "output_type": "error",
     "traceback": [
      "\u001b[0;31m---------------------------------------------------------------------------\u001b[0m",
      "\u001b[0;31mKeyboardInterrupt\u001b[0m                         Traceback (most recent call last)",
      "Cell \u001b[0;32mIn[286], line 3\u001b[0m\n\u001b[1;32m      1\u001b[0m \u001b[38;5;28;01mfor\u001b[39;00m name, param \u001b[38;5;129;01min\u001b[39;00m model\u001b[38;5;241m.\u001b[39mnamed_parameters():\n\u001b[1;32m      2\u001b[0m     \u001b[38;5;28mprint\u001b[39m(name)\n\u001b[0;32m----> 3\u001b[0m     \u001b[38;5;28mprint\u001b[39m(param)\n",
      "File \u001b[0;32m~/miniconda3/envs/transformers/lib/python3.11/site-packages/torch/nn/parameter.py:64\u001b[0m, in \u001b[0;36mParameter.__repr__\u001b[0;34m(self)\u001b[0m\n\u001b[1;32m     63\u001b[0m \u001b[38;5;28;01mdef\u001b[39;00m \u001b[38;5;21m__repr__\u001b[39m(\u001b[38;5;28mself\u001b[39m):\n\u001b[0;32m---> 64\u001b[0m     \u001b[38;5;28;01mreturn\u001b[39;00m \u001b[38;5;124m'\u001b[39m\u001b[38;5;124mParameter containing:\u001b[39m\u001b[38;5;130;01m\\n\u001b[39;00m\u001b[38;5;124m'\u001b[39m \u001b[38;5;241m+\u001b[39m \u001b[38;5;28msuper\u001b[39m()\u001b[38;5;241m.\u001b[39m\u001b[38;5;21m__repr__\u001b[39m()\n",
      "File \u001b[0;32m~/miniconda3/envs/transformers/lib/python3.11/site-packages/torch/_tensor.py:461\u001b[0m, in \u001b[0;36mTensor.__repr__\u001b[0;34m(self, tensor_contents)\u001b[0m\n\u001b[1;32m    457\u001b[0m     \u001b[38;5;28;01mreturn\u001b[39;00m handle_torch_function(\n\u001b[1;32m    458\u001b[0m         Tensor\u001b[38;5;241m.\u001b[39m\u001b[38;5;21m__repr__\u001b[39m, (\u001b[38;5;28mself\u001b[39m,), \u001b[38;5;28mself\u001b[39m, tensor_contents\u001b[38;5;241m=\u001b[39mtensor_contents\n\u001b[1;32m    459\u001b[0m     )\n\u001b[1;32m    460\u001b[0m \u001b[38;5;66;03m# All strings are unicode in Python 3.\u001b[39;00m\n\u001b[0;32m--> 461\u001b[0m \u001b[38;5;28;01mreturn\u001b[39;00m torch\u001b[38;5;241m.\u001b[39m_tensor_str\u001b[38;5;241m.\u001b[39m_str(\u001b[38;5;28mself\u001b[39m, tensor_contents\u001b[38;5;241m=\u001b[39mtensor_contents)\n",
      "File \u001b[0;32m~/miniconda3/envs/transformers/lib/python3.11/site-packages/torch/_tensor_str.py:677\u001b[0m, in \u001b[0;36m_str\u001b[0;34m(self, tensor_contents)\u001b[0m\n\u001b[1;32m    675\u001b[0m \u001b[38;5;28;01mwith\u001b[39;00m torch\u001b[38;5;241m.\u001b[39mno_grad(), torch\u001b[38;5;241m.\u001b[39mutils\u001b[38;5;241m.\u001b[39m_python_dispatch\u001b[38;5;241m.\u001b[39m_disable_current_modes():\n\u001b[1;32m    676\u001b[0m     guard \u001b[38;5;241m=\u001b[39m torch\u001b[38;5;241m.\u001b[39m_C\u001b[38;5;241m.\u001b[39m_DisableFuncTorch()\n\u001b[0;32m--> 677\u001b[0m     \u001b[38;5;28;01mreturn\u001b[39;00m _str_intern(\u001b[38;5;28mself\u001b[39m, tensor_contents\u001b[38;5;241m=\u001b[39mtensor_contents)\n",
      "File \u001b[0;32m~/miniconda3/envs/transformers/lib/python3.11/site-packages/torch/_tensor_str.py:597\u001b[0m, in \u001b[0;36m_str_intern\u001b[0;34m(inp, tensor_contents)\u001b[0m\n\u001b[1;32m    595\u001b[0m                     tensor_str \u001b[38;5;241m=\u001b[39m _tensor_str(\u001b[38;5;28mself\u001b[39m\u001b[38;5;241m.\u001b[39mto_dense(), indent)\n\u001b[1;32m    596\u001b[0m                 \u001b[38;5;28;01melse\u001b[39;00m:\n\u001b[0;32m--> 597\u001b[0m                     tensor_str \u001b[38;5;241m=\u001b[39m _tensor_str(\u001b[38;5;28mself\u001b[39m, indent)\n\u001b[1;32m    599\u001b[0m \u001b[38;5;28;01mif\u001b[39;00m \u001b[38;5;28mself\u001b[39m\u001b[38;5;241m.\u001b[39mlayout \u001b[38;5;241m!=\u001b[39m torch\u001b[38;5;241m.\u001b[39mstrided:\n\u001b[1;32m    600\u001b[0m     suffixes\u001b[38;5;241m.\u001b[39mappend(\u001b[38;5;124m\"\u001b[39m\u001b[38;5;124mlayout=\u001b[39m\u001b[38;5;124m\"\u001b[39m \u001b[38;5;241m+\u001b[39m \u001b[38;5;28mstr\u001b[39m(\u001b[38;5;28mself\u001b[39m\u001b[38;5;241m.\u001b[39mlayout))\n",
      "File \u001b[0;32m~/miniconda3/envs/transformers/lib/python3.11/site-packages/torch/_tensor_str.py:349\u001b[0m, in \u001b[0;36m_tensor_str\u001b[0;34m(self, indent)\u001b[0m\n\u001b[1;32m    345\u001b[0m     \u001b[38;5;28;01mreturn\u001b[39;00m _tensor_str_with_formatter(\n\u001b[1;32m    346\u001b[0m         \u001b[38;5;28mself\u001b[39m, indent, summarize, real_formatter, imag_formatter\n\u001b[1;32m    347\u001b[0m     )\n\u001b[1;32m    348\u001b[0m \u001b[38;5;28;01melse\u001b[39;00m:\n\u001b[0;32m--> 349\u001b[0m     formatter \u001b[38;5;241m=\u001b[39m _Formatter(get_summarized_data(\u001b[38;5;28mself\u001b[39m) \u001b[38;5;28;01mif\u001b[39;00m summarize \u001b[38;5;28;01melse\u001b[39;00m \u001b[38;5;28mself\u001b[39m)\n\u001b[1;32m    350\u001b[0m     \u001b[38;5;28;01mreturn\u001b[39;00m _tensor_str_with_formatter(\u001b[38;5;28mself\u001b[39m, indent, summarize, formatter)\n",
      "File \u001b[0;32m~/miniconda3/envs/transformers/lib/python3.11/site-packages/torch/_tensor_str.py:179\u001b[0m, in \u001b[0;36m_Formatter.__init__\u001b[0;34m(self, tensor)\u001b[0m\n\u001b[1;32m    177\u001b[0m     \u001b[38;5;28mself\u001b[39m\u001b[38;5;241m.\u001b[39msci_mode \u001b[38;5;241m=\u001b[39m \u001b[38;5;28;01mTrue\u001b[39;00m\n\u001b[1;32m    178\u001b[0m     \u001b[38;5;28;01mfor\u001b[39;00m value \u001b[38;5;129;01min\u001b[39;00m nonzero_finite_vals:\n\u001b[0;32m--> 179\u001b[0m         value_str \u001b[38;5;241m=\u001b[39m \u001b[38;5;124mf\u001b[39m\u001b[38;5;124m\"\u001b[39m\u001b[38;5;130;01m{{\u001b[39;00m\u001b[38;5;124m:.\u001b[39m\u001b[38;5;132;01m{\u001b[39;00mPRINT_OPTS\u001b[38;5;241m.\u001b[39mprecision\u001b[38;5;132;01m}\u001b[39;00m\u001b[38;5;124me\u001b[39m\u001b[38;5;130;01m}}\u001b[39;00m\u001b[38;5;124m\"\u001b[39m\u001b[38;5;241m.\u001b[39mformat(value)\n\u001b[1;32m    180\u001b[0m         \u001b[38;5;28mself\u001b[39m\u001b[38;5;241m.\u001b[39mmax_width \u001b[38;5;241m=\u001b[39m \u001b[38;5;28mmax\u001b[39m(\u001b[38;5;28mself\u001b[39m\u001b[38;5;241m.\u001b[39mmax_width, \u001b[38;5;28mlen\u001b[39m(value_str))\n\u001b[1;32m    181\u001b[0m \u001b[38;5;28;01melse\u001b[39;00m:\n",
      "File \u001b[0;32m~/miniconda3/envs/transformers/lib/python3.11/site-packages/torch/_tensor.py:965\u001b[0m, in \u001b[0;36mTensor.__format__\u001b[0;34m(self, format_spec)\u001b[0m\n\u001b[1;32m    963\u001b[0m     \u001b[38;5;28;01mreturn\u001b[39;00m handle_torch_function(Tensor\u001b[38;5;241m.\u001b[39m\u001b[38;5;21m__format__\u001b[39m, (\u001b[38;5;28mself\u001b[39m,), \u001b[38;5;28mself\u001b[39m, format_spec)\n\u001b[1;32m    964\u001b[0m \u001b[38;5;28;01mif\u001b[39;00m \u001b[38;5;28mself\u001b[39m\u001b[38;5;241m.\u001b[39mdim() \u001b[38;5;241m==\u001b[39m \u001b[38;5;241m0\u001b[39m \u001b[38;5;129;01mand\u001b[39;00m \u001b[38;5;129;01mnot\u001b[39;00m \u001b[38;5;28mself\u001b[39m\u001b[38;5;241m.\u001b[39mis_meta \u001b[38;5;129;01mand\u001b[39;00m \u001b[38;5;28mtype\u001b[39m(\u001b[38;5;28mself\u001b[39m) \u001b[38;5;129;01mis\u001b[39;00m Tensor:\n\u001b[0;32m--> 965\u001b[0m     \u001b[38;5;28;01mreturn\u001b[39;00m \u001b[38;5;28mself\u001b[39m\u001b[38;5;241m.\u001b[39mitem()\u001b[38;5;241m.\u001b[39m\u001b[38;5;21m__format__\u001b[39m(format_spec)\n\u001b[1;32m    966\u001b[0m \u001b[38;5;28;01mreturn\u001b[39;00m \u001b[38;5;28mobject\u001b[39m\u001b[38;5;241m.\u001b[39m\u001b[38;5;21m__format__\u001b[39m(\u001b[38;5;28mself\u001b[39m, format_spec)\n",
      "\u001b[0;31mKeyboardInterrupt\u001b[0m: "
     ]
    }
   ],
   "source": [
    "for name, param in model.named_parameters():\n",
    "    print(name)\n",
    "    print(param)"
   ]
  },
  {
   "cell_type": "code",
   "execution_count": null,
   "id": "198e2ddb-984a-4d25-aaae-e4f2575fb71a",
   "metadata": {},
   "outputs": [],
   "source": []
  },
  {
   "cell_type": "code",
   "execution_count": null,
   "id": "64df4138-0832-4796-95e6-b9e743cd88eb",
   "metadata": {},
   "outputs": [],
   "source": []
  },
  {
   "cell_type": "code",
   "execution_count": null,
   "id": "95e94d78-b7c2-42f0-8935-7ebc5cd0b1af",
   "metadata": {},
   "outputs": [],
   "source": []
  }
 ],
 "metadata": {
  "kernelspec": {
   "display_name": "Python 3 (ipykernel)",
   "language": "python",
   "name": "python3"
  },
  "language_info": {
   "codemirror_mode": {
    "name": "ipython",
    "version": 3
   },
   "file_extension": ".py",
   "mimetype": "text/x-python",
   "name": "python",
   "nbconvert_exporter": "python",
   "pygments_lexer": "ipython3",
   "version": "3.11.7"
  }
 },
 "nbformat": 4,
 "nbformat_minor": 5
}
