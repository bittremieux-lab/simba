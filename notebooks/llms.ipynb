{
 "cells": [
  {
   "cell_type": "code",
   "execution_count": 50,
   "id": "74193796-d7ff-4589-b44c-f64dae10754e",
   "metadata": {},
   "outputs": [
    {
     "name": "stdout",
     "output_type": "stream",
     "text": [
      "The autoreload extension is already loaded. To reload it, use:\n",
      "  %reload_ext autoreload\n"
     ]
    }
   ],
   "source": [
    "%load_ext autoreload\n",
    "%autoreload 2"
   ]
  },
  {
   "cell_type": "code",
   "execution_count": 51,
   "id": "12b86d33-857e-4cf8-ad3f-3499e47680fb",
   "metadata": {},
   "outputs": [],
   "source": [
    "import os\n",
    "os.chdir('/Users/sebas/projects/metabolomics')"
   ]
  },
  {
   "cell_type": "code",
   "execution_count": 52,
   "id": "85b5186a-c3b6-4075-9592-36a8c2b27d9f",
   "metadata": {},
   "outputs": [],
   "source": [
    "import dill"
   ]
  },
  {
   "cell_type": "code",
   "execution_count": 53,
   "id": "3b937d52-78ab-425f-9812-5e2fed283872",
   "metadata": {},
   "outputs": [],
   "source": [
    "data_folder= '/Users/sebas/projects/data/'\n",
    "uniformed_molecule_pairs_test_path= data_folder +'uniformed_molecule_pairs_test.pkl'\n"
   ]
  },
  {
   "cell_type": "code",
   "execution_count": 54,
   "id": "9198f20a-2e01-496f-aa6c-f30aa6b12d11",
   "metadata": {},
   "outputs": [],
   "source": [
    "with open(uniformed_molecule_pairs_test_path, 'rb') as file:\n",
    "            dataset = dill.load(file)\n",
    "molecule_pairs= dataset['uniformed_molecule_pairs_test']"
   ]
  },
  {
   "cell_type": "code",
   "execution_count": 11,
   "id": "25f07ddf-7b15-402e-a952-26b86eecd188",
   "metadata": {},
   "outputs": [],
   "source": [
    "spectrums= molecule_pairs.spectrums"
   ]
  },
  {
   "cell_type": "code",
   "execution_count": 21,
   "id": "5c141789-2d67-4f4e-bec9-f3652e5b07b4",
   "metadata": {},
   "outputs": [
    {
     "name": "stdout",
     "output_type": "stream",
     "text": [
      "{'libraryquality': 1, 'charge': [1], 'pepmass': [229.0972], 'ionmode': 'Positive', 'name': ' Ozagrel\\n M+H', 'inchi': 'N/A', 'smiles': 'C1=CC(=CC=C1CN2C=CN=C2)C=CC(=O)O', 'organism': 'nist', 'spectrumid': 'abcd'}\n",
      "C1=CC(=CC=C1CN2C=CN=C2)C=CC(=O)O\n"
     ]
    }
   ],
   "source": [
    "index_spec=10000\n",
    "print(spectrums[index_spec].params)\n",
    "print(spectrums[index_spec].params['smiles'])"
   ]
  },
  {
   "cell_type": "code",
   "execution_count": 22,
   "id": "197857c4-8b29-4e3c-9478-5867aadba07c",
   "metadata": {},
   "outputs": [
    {
     "data": {
      "text/plain": [
       "array([ 57.34,  71.63,  14.79,  21.88,  96.2 ,  15.08,  16.38,  99.2 ,\n",
       "       999.  ,  38.96,  84.12, 412.09], dtype=float32)"
      ]
     },
     "execution_count": 22,
     "metadata": {},
     "output_type": "execute_result"
    }
   ],
   "source": [
    "spectrums[index_spec].intensity"
   ]
  },
  {
   "cell_type": "code",
   "execution_count": 23,
   "id": "b0a72f6b-f7e3-4365-b588-a28b3c7449eb",
   "metadata": {},
   "outputs": [
    {
     "data": {
      "text/plain": [
       "array([ 55.019,  68.997,  77.039,  79.054,  91.054,  93.07 , 103.054,\n",
       "       105.069, 115.053, 119.048, 133.063, 161.058])"
      ]
     },
     "execution_count": 23,
     "metadata": {},
     "output_type": "execute_result"
    }
   ],
   "source": [
    "spectrums[index_spec].mz"
   ]
  },
  {
   "cell_type": "code",
   "execution_count": 77,
   "id": "d19e9c33-1771-4f2c-98d6-e18d581304ee",
   "metadata": {},
   "outputs": [
    {
     "data": {
      "text/plain": [
       "{'libraryquality': 1,\n",
       " 'charge': [1],\n",
       " 'pepmass': [229.0972],\n",
       " 'ionmode': 'Positive',\n",
       " 'name': ' Ozagrel\\n M+H',\n",
       " 'inchi': 'N/A',\n",
       " 'smiles': 'C1=CC(=CC=C1CN2C=CN=C2)C=CC(=O)O',\n",
       " 'organism': 'nist',\n",
       " 'spectrumid': 'abcd'}"
      ]
     },
     "execution_count": 77,
     "metadata": {},
     "output_type": "execute_result"
    }
   ],
   "source": [
    "spectrums[index_spec].params"
   ]
  },
  {
   "cell_type": "code",
   "execution_count": 78,
   "id": "25200eee-3b47-4d84-ae6d-cab1e25340db",
   "metadata": {},
   "outputs": [
    {
     "name": "stdout",
     "output_type": "stream",
     "text": [
      "MZ peak at: 55.019, intensity: 57.34000015258789\n",
      "MZ peak at: 68.997, intensity: 71.62999725341797\n",
      "MZ peak at: 77.039, intensity: 14.789999961853027\n",
      "MZ peak at: 79.054, intensity: 21.8799991607666\n",
      "MZ peak at: 91.054, intensity: 96.19999694824219\n",
      "MZ peak at: 93.07, intensity: 15.079999923706055\n",
      "MZ peak at: 103.054, intensity: 16.3799991607666\n",
      "MZ peak at: 105.069, intensity: 99.19999694824219\n",
      "MZ peak at: 115.053, intensity: 999.0\n",
      "MZ peak at: 119.048, intensity: 38.959999084472656\n",
      "MZ peak at: 133.063, intensity: 84.12000274658203\n",
      "MZ peak at: 161.058, intensity: 412.0899963378906\n"
     ]
    }
   ],
   "source": [
    "for intensity, mz in zip(spectrums[index_spec].intensity,spectrums[index_spec].mz):\n",
    "    print(f'MZ peak at: {mz}, intensity: {intensity}')"
   ]
  },
  {
   "cell_type": "code",
   "execution_count": 62,
   "id": "dcc66135-b99e-4936-9158-43e0a822f97b",
   "metadata": {},
   "outputs": [
    {
     "name": "stdout",
     "output_type": "stream",
     "text": [
      "Molecular pair with similarity: 0.9309090909090909 for smiles_0: C1C(C(C(C(O1)OC2C(C(OC2OC3=C(OC4=CC(=CC(=C4C3=O)O)O)C5=CC(=C(C=C5)O)O)CO)O)O)O)O and smiles_1: C1=CC(=C(C=C1C2=C(C(=O)C3=C(C=C(C=C3O2)O)O)OC4C(C(C(C(O4)CO)O)O)O)O)OC5C(C(C(C(O5)CO)O)O)O\n"
     ]
    }
   ],
   "source": [
    "print(molecule_pairs[180000])"
   ]
  },
  {
   "cell_type": "code",
   "execution_count": 73,
   "id": "056f6012-e7f0-4c03-8a72-2c8c88f4a47a",
   "metadata": {},
   "outputs": [
    {
     "data": {
      "text/plain": [
       "{'libraryquality': 1,\n",
       " 'charge': [1],\n",
       " 'pepmass': [567.1344],\n",
       " 'ionmode': 'Positive',\n",
       " 'name': ' Polifolioside\\n M+H',\n",
       " 'inchi': 'N/A',\n",
       " 'smiles': 'C1C(C(C(C(O1)OC2C(C(OC2OC3=C(OC4=CC(=CC(=C4C3=O)O)O)C5=CC(=C(C=C5)O)O)CO)O)O)O)O',\n",
       " 'organism': 'nist',\n",
       " 'spectrumid': 'abcd'}"
      ]
     },
     "execution_count": 73,
     "metadata": {},
     "output_type": "execute_result"
    }
   ],
   "source": [
    "molecule_pairs[180000].spectrum_object_0.params"
   ]
  },
  {
   "cell_type": "code",
   "execution_count": 74,
   "id": "8d0ab92f-5057-475e-bf5c-06372dcc2f36",
   "metadata": {},
   "outputs": [
    {
     "data": {
      "text/plain": [
       "{'pepmass': (627.57, None),\n",
       " 'charge': [1],\n",
       " 'mslevel': '2',\n",
       " 'source_instrument': 'ESI-QQQ',\n",
       " 'filename': 'massbank-gnps.mgf',\n",
       " 'seq': '*..*',\n",
       " 'ionmode': 'Positive',\n",
       " 'organism': 'MASSBANK',\n",
       " 'name': \"Massbank:PS121901 Quercetin-3,4'-O-di-beta-glucopyranoside|Quercetin 3,4'-diglucoside|Que 3,4'-di-Glc M+H\",\n",
       " 'pi': 'Massbank',\n",
       " 'datacollector': 'Massbank',\n",
       " 'smiles': 'C1=CC(=C(C=C1C2=C(C(=O)C3=C(C=C(C=C3O2)O)O)OC4C(C(C(C(O4)CO)O)O)O)O)OC5C(C(C(C(O5)CO)O)O)O',\n",
       " 'inchi': '1S/C27H30O17/c28-6-14-17(33)20(36)22(38)26(42-14)41-12-2-1-8(3-10(12)31)24-25(19(35)16-11(32)4-9(30)5-13(16)40-24)44-27-23(39)21(37)18(34)15(7-29)43-27/h1-5,14-15,17-18,20-23,26-34,36-39H,6-7H2',\n",
       " 'inchiaux': 'N/A',\n",
       " 'pubmed': 'N/A',\n",
       " 'submituser': 'mwang87',\n",
       " 'libraryquality': '3',\n",
       " 'spectrumid': 'CCMSLIB00005759814',\n",
       " 'scans': '34263'}"
      ]
     },
     "execution_count": 74,
     "metadata": {},
     "output_type": "execute_result"
    }
   ],
   "source": [
    "molecule_pairs[180000].spectrum_object_1.params"
   ]
  },
  {
   "cell_type": "code",
   "execution_count": 84,
   "id": "ae6bebc5-2a91-4c9f-9baf-08df612d1c6d",
   "metadata": {},
   "outputs": [
    {
     "name": "stdout",
     "output_type": "stream",
     "text": [
      "MZ peak at: 464.0, intensity: 0.032549899071455\n",
      "MZ peak at: 465.0, intensity: 0.1180637776851654\n",
      "MZ peak at: 466.0, intensity: 0.04817274585366249\n",
      "MZ peak at: 626.0, intensity: 0.12372517585754395\n",
      "MZ peak at: 627.0, intensity: 0.3087349534034729\n",
      "MZ peak at: 628.0, intensity: 0.3293459415435791\n",
      "MZ peak at: 629.0, intensity: 0.03940752148628235\n"
     ]
    }
   ],
   "source": [
    "import numpy as np\n",
    "intensity = np.array(molecule_pairs[180000].spectrum_object_1.intensity)/np.sum(molecule_pairs[180000].spectrum_object_1.intensity)\n",
    "mz_values= molecule_pairs[180000].spectrum_object_1.mz\n",
    "\n",
    "for inten, mz in zip(intensity,mz_values):\n",
    "    print(f'MZ peak at: {mz}, intensity: {inten}')"
   ]
  },
  {
   "cell_type": "code",
   "execution_count": 75,
   "id": "e1f406b6-27e4-4607-bf47-a72af9889814",
   "metadata": {},
   "outputs": [
    {
     "data": {
      "text/plain": [
       "array([ 57.0333,  73.0281,  85.0282,  97.0281, 115.0387, 125.9927,\n",
       "       126.1046, 133.0494, 287.0547, 288.0581, 289.0603, 303.0496,\n",
       "       315.0495, 322.8683, 327.0502, 345.06  , 369.06  , 381.062 ,\n",
       "       399.0704, 417.0815, 435.0916, 489.05  ])"
      ]
     },
     "execution_count": 75,
     "metadata": {},
     "output_type": "execute_result"
    }
   ],
   "source": [
    "molecule_pairs[180000].spectrum_object_0.mz"
   ]
  },
  {
   "cell_type": "code",
   "execution_count": 72,
   "id": "0fac4a80-2877-492c-a0bb-b200cddba4ea",
   "metadata": {},
   "outputs": [
    {
     "data": {
      "text/plain": [
       "array([464., 465., 466., 626., 627., 628., 629.])"
      ]
     },
     "execution_count": 72,
     "metadata": {},
     "output_type": "execute_result"
    }
   ],
   "source": [
    "molecule_pairs[180000].spectrum_object_1.mz"
   ]
  },
  {
   "cell_type": "code",
   "execution_count": null,
   "id": "6a387992-e2b1-47ef-ac96-932c5325fce3",
   "metadata": {},
   "outputs": [],
   "source": []
  }
 ],
 "metadata": {
  "kernelspec": {
   "display_name": "Python 3 (ipykernel)",
   "language": "python",
   "name": "python3"
  },
  "language_info": {
   "codemirror_mode": {
    "name": "ipython",
    "version": 3
   },
   "file_extension": ".py",
   "mimetype": "text/x-python",
   "name": "python",
   "nbconvert_exporter": "python",
   "pygments_lexer": "ipython3",
   "version": "3.11.7"
  }
 },
 "nbformat": 4,
 "nbformat_minor": 5
}
