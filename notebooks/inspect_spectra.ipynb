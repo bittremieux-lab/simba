{
 "cells": [
  {
   "cell_type": "code",
   "execution_count": 1,
   "id": "c0368336-3f88-42ff-9f72-b9b5feff6fd9",
   "metadata": {},
   "outputs": [],
   "source": [
    "%load_ext autoreload\n",
    "%autoreload 2"
   ]
  },
  {
   "cell_type": "code",
   "execution_count": 2,
   "id": "9472dcdc-4edb-4102-ba25-c9c1a0f8f7e5",
   "metadata": {},
   "outputs": [],
   "source": [
    "import dill"
   ]
  },
  {
   "cell_type": "code",
   "execution_count": 3,
   "id": "1615b6be-d642-443c-894b-4955dc3f6a11",
   "metadata": {},
   "outputs": [],
   "source": [
    "import os\n",
    "os.chdir('/Users/sebas/projects/metabolomics')\n"
   ]
  },
  {
   "cell_type": "code",
   "execution_count": 4,
   "id": "81d5be9e-b6b1-4f78-af57-a0dc9e8eb1ad",
   "metadata": {},
   "outputs": [],
   "source": [
    "data_folder= '/Users/sebas/projects/data/'\n",
    "dataset_path= data_folder +'merged_gnps_nist_20240207_gnps_nist_janssen_15_millions.pkl'"
   ]
  },
  {
   "cell_type": "code",
   "execution_count": 5,
   "id": "dbc01a90-1dbc-4b59-b095-2031fa51c41a",
   "metadata": {},
   "outputs": [],
   "source": [
    "with open(dataset_path, 'rb') as file:\n",
    "            dataset = dill.load(file)\n"
   ]
  },
  {
   "cell_type": "code",
   "execution_count": 6,
   "id": "9595fb6d-e69b-4788-9450-66d40b0a3ce5",
   "metadata": {},
   "outputs": [],
   "source": [
    "molecule_pairs_train= dataset['molecule_pairs_train']\n",
    "molecule_pairs_val= dataset['molecule_pairs_val']\n",
    "molecule_pairs_test= dataset['molecule_pairs_test']"
   ]
  },
  {
   "cell_type": "code",
   "execution_count": 7,
   "id": "39acf53b-51ba-4d6d-a545-e07cb8e5badc",
   "metadata": {},
   "outputs": [],
   "source": [
    "all_spectrums= molecule_pairs_train.spectrums + molecule_pairs_val.spectrums + molecule_pairs_test.spectrums"
   ]
  },
  {
   "cell_type": "code",
   "execution_count": 8,
   "id": "92413236-7107-4652-b471-78fe35beb25f",
   "metadata": {},
   "outputs": [
    {
     "data": {
      "text/plain": [
       "328419"
      ]
     },
     "execution_count": 8,
     "metadata": {},
     "output_type": "execute_result"
    }
   ],
   "source": [
    "len(all_spectrums)"
   ]
  },
  {
   "cell_type": "code",
   "execution_count": 16,
   "id": "ab00123f-8f88-4e2f-8781-ef440c7ee7b6",
   "metadata": {},
   "outputs": [],
   "source": [
    "spectrums_gnps = [s for s in all_spectrums if 'spectrumid' in s.params ]"
   ]
  },
  {
   "cell_type": "code",
   "execution_count": 19,
   "id": "5fbbafc4-8769-442f-a855-d4f0e3614142",
   "metadata": {},
   "outputs": [],
   "source": [
    "target_spectrum = [s for s in spectrums_gnps if s.params['spectrumid']=='CCMSLIB00005755603'][0]"
   ]
  },
  {
   "cell_type": "code",
   "execution_count": 20,
   "id": "242ce44b-81d3-4e90-b666-165cfa0bcee1",
   "metadata": {},
   "outputs": [
    {
     "data": {
      "text/plain": [
       "{'pepmass': (741.67, None),\n",
       " 'charge': [1],\n",
       " 'mslevel': '2',\n",
       " 'source_instrument': 'ESI-QQQ',\n",
       " 'filename': 'massbank-gnps.mgf',\n",
       " 'seq': '*..*',\n",
       " 'ionmode': 'Positive',\n",
       " 'organism': 'MASSBANK',\n",
       " 'name': 'Massbank:PS042104 3-((6-O-(6-Deoxy-alpha-L-mannopyranosyl)-beta-D-galactopyranosyl)oxy)-7-((6-deoxy-alpha-L-mannopyranosyl)oxy)-5-hydroxy-2-(4-hydroxyphenyl)-4H-1-benzopyran-4-one|Kaempferol-3-O-galactose-rhamnose-7-O- M+H',\n",
       " 'pi': 'Massbank',\n",
       " 'datacollector': 'Massbank',\n",
       " 'smiles': 'CC1C(C(C(C(O1)OCC2C(C(C(C(O2)OC3=C(OC4=CC(=CC(=C4C3=O)O)OC5C(C(C(C(O5)C)O)O)O)C6=CC=C(C=C6)O)O)O)O)O)O)O',\n",
       " 'inchi': '1S/C33H40O19/c1-10-19(36)23(40)26(43)31(47-10)46-9-17-21(38)25(42)28(45)33(51-17)52-30-22(39)18-15(35)7-14(49-32-27(44)24(41)20(37)11(2)48-32)8-16(18)50-29(30)12-3-5-13(34)6-4-12/h3-8,10-11,17,19-21,23-28,31-38,40-45H,9H2,1-2H3',\n",
       " 'inchiaux': 'N/A',\n",
       " 'pubmed': 'N/A',\n",
       " 'submituser': 'mwang87',\n",
       " 'libraryquality': '3',\n",
       " 'spectrumid': 'CCMSLIB00005755603',\n",
       " 'scans': '30052'}"
      ]
     },
     "execution_count": 20,
     "metadata": {},
     "output_type": "execute_result"
    }
   ],
   "source": [
    "target_spectrum.params"
   ]
  },
  {
   "cell_type": "code",
   "execution_count": 12,
   "id": "9dc02155-fde5-4603-a72b-e6d30b8cdb4a",
   "metadata": {},
   "outputs": [
    {
     "data": {
      "text/plain": [
       "{'pepmass': (34.1505, None),\n",
       " 'charge': [1],\n",
       " 'mslevel': '2',\n",
       " 'source_instrument': 'LC-ESI-qTof',\n",
       " 'filename': 'f.sh1646/metamycin_B_MS2.mgf;',\n",
       " 'seq': '*..*',\n",
       " 'ionmode': 'Positive',\n",
       " 'organism': 'GNPS-LIBRARY',\n",
       " 'name': 'Metamycin B M+H',\n",
       " 'pi': 'Mohamed Donia',\n",
       " 'datacollector': 'Sunghoon Hwang',\n",
       " 'smiles': 'OC1=C(C(O)=C(C(CC(C(C)CC)(O)C2C(C)=O)=O)C2=C3)C3=CC=C1',\n",
       " 'inchi': 'InChI=1S/C20H22O5/c1-4-10(2)20(25)9-15(23)17-13(18(20)11(3)21)8-12-6-5-7-14(22)16(12)19(17)24/h5-8,10,18,22,24-25H,4,9H2,1-3H3',\n",
       " 'inchiaux': '',\n",
       " 'pubmed': '',\n",
       " 'submituser': 'sh1646',\n",
       " 'libraryquality': '1',\n",
       " 'spectrumid': 'CCMSLIB00012060239',\n",
       " 'scans': '1'}"
      ]
     },
     "execution_count": 12,
     "metadata": {},
     "output_type": "execute_result"
    }
   ],
   "source": [
    "all_spectrums[0].params"
   ]
  },
  {
   "cell_type": "code",
   "execution_count": 9,
   "id": "5fa7103c-9a7f-4f5e-8564-5d9e108de8d8",
   "metadata": {
    "scrolled": true
   },
   "outputs": [
    {
     "ename": "KeyError",
     "evalue": "''",
     "output_type": "error",
     "traceback": [
      "\u001b[0;31m---------------------------------------------------------------------------\u001b[0m",
      "\u001b[0;31mKeyError\u001b[0m                                  Traceback (most recent call last)",
      "Cell \u001b[0;32mIn[9], line 1\u001b[0m\n\u001b[0;32m----> 1\u001b[0m all_spectrums[\u001b[38;5;241m0\u001b[39m]\u001b[38;5;241m.\u001b[39mparams[\u001b[38;5;124m'\u001b[39m\u001b[38;5;124m'\u001b[39m]\n",
      "\u001b[0;31mKeyError\u001b[0m: ''"
     ]
    }
   ],
   "source": [
    "all_spectrums[0].params['']"
   ]
  },
  {
   "cell_type": "code",
   "execution_count": null,
   "id": "81ecac30-84b0-4039-baf8-1007fc471b7f",
   "metadata": {},
   "outputs": [],
   "source": [
    "gnps = [s for s in all_spectrums if 'spectrumid' in s.params.keys()]\n",
    "gnps = [s for s in gnps if s.params['spectrumid'].startswith('CCMSLIB')]"
   ]
  },
  {
   "cell_type": "code",
   "execution_count": null,
   "id": "9cfa8c7d-1f93-414f-893e-a876c46a7678",
   "metadata": {},
   "outputs": [],
   "source": [
    "len(gnps)"
   ]
  },
  {
   "cell_type": "code",
   "execution_count": null,
   "id": "2e9ca08b-e0cc-435c-b499-3bd8583d45db",
   "metadata": {},
   "outputs": [],
   "source": [
    "gnps_hash = [s.spectrum_hash for s in gnps]\n"
   ]
  },
  {
   "cell_type": "code",
   "execution_count": null,
   "id": "45405b62-c33c-442a-8be8-105b22cd6a57",
   "metadata": {},
   "outputs": [],
   "source": [
    "nist = [s for s in all_spectrums[0:-1] if (s.spectrum_hash not in gnps_hash) and (s.library != 'janssen')]"
   ]
  },
  {
   "cell_type": "code",
   "execution_count": null,
   "id": "0ba4a312-419f-4d6f-aeb8-a83b04496cb1",
   "metadata": {},
   "outputs": [],
   "source": [
    "len(nist)"
   ]
  },
  {
   "cell_type": "code",
   "execution_count": null,
   "id": "219fee56-1545-4f06-90d5-1818d91bb359",
   "metadata": {},
   "outputs": [],
   "source": [
    "janssen = [s for s in all_spectrums if (s.library == 'janssen')]"
   ]
  },
  {
   "cell_type": "code",
   "execution_count": null,
   "id": "f325ca49-29d1-4c22-89a9-6ee8f1c39327",
   "metadata": {},
   "outputs": [],
   "source": [
    "len(janssen)"
   ]
  },
  {
   "cell_type": "code",
   "execution_count": null,
   "id": "48a9fac8-4867-4cd1-86c6-0b42319d5bd7",
   "metadata": {},
   "outputs": [],
   "source": []
  }
 ],
 "metadata": {
  "kernelspec": {
   "display_name": "Python 3 (ipykernel)",
   "language": "python",
   "name": "python3"
  },
  "language_info": {
   "codemirror_mode": {
    "name": "ipython",
    "version": 3
   },
   "file_extension": ".py",
   "mimetype": "text/x-python",
   "name": "python",
   "nbconvert_exporter": "python",
   "pygments_lexer": "ipython3",
   "version": "3.11.7"
  }
 },
 "nbformat": 4,
 "nbformat_minor": 5
}
