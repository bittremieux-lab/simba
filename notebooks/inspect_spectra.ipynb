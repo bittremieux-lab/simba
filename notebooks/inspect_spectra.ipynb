{
 "cells": [
  {
   "cell_type": "code",
   "execution_count": 1,
   "id": "c0368336-3f88-42ff-9f72-b9b5feff6fd9",
   "metadata": {},
   "outputs": [],
   "source": [
    "%load_ext autoreload\n",
    "%autoreload 2"
   ]
  },
  {
   "cell_type": "code",
   "execution_count": 2,
   "id": "9472dcdc-4edb-4102-ba25-c9c1a0f8f7e5",
   "metadata": {},
   "outputs": [],
   "source": [
    "import dill"
   ]
  },
  {
   "cell_type": "code",
   "execution_count": 6,
   "id": "1615b6be-d642-443c-894b-4955dc3f6a11",
   "metadata": {},
   "outputs": [],
   "source": [
    "import os\n",
    "os.chdir('/Users/sebas/projects/metabolomics')\n"
   ]
  },
  {
   "cell_type": "code",
   "execution_count": 7,
   "id": "81d5be9e-b6b1-4f78-af57-a0dc9e8eb1ad",
   "metadata": {},
   "outputs": [],
   "source": [
    "data_folder= '/Users/sebas/projects/data/'\n",
    "dataset_path= data_folder +'merged_gnps_nist_20240207_gnps_nist_janssen_15_millions.pkl'"
   ]
  },
  {
   "cell_type": "code",
   "execution_count": 8,
   "id": "dbc01a90-1dbc-4b59-b095-2031fa51c41a",
   "metadata": {},
   "outputs": [],
   "source": [
    "with open(dataset_path, 'rb') as file:\n",
    "            dataset = dill.load(file)\n"
   ]
  },
  {
   "cell_type": "code",
   "execution_count": 10,
   "id": "9595fb6d-e69b-4788-9450-66d40b0a3ce5",
   "metadata": {},
   "outputs": [],
   "source": [
    "molecule_pairs_train= dataset['molecule_pairs_train']\n",
    "molecule_pairs_val= dataset['molecule_pairs_val']\n",
    "molecule_pairs_test= dataset['molecule_pairs_test']"
   ]
  },
  {
   "cell_type": "code",
   "execution_count": 11,
   "id": "39acf53b-51ba-4d6d-a545-e07cb8e5badc",
   "metadata": {},
   "outputs": [],
   "source": [
    "all_spectrums= molecule_pairs_train.spectrums + molecule_pairs_val.spectrums + molecule_pairs_test.spectrums"
   ]
  },
  {
   "cell_type": "code",
   "execution_count": 12,
   "id": "92413236-7107-4652-b471-78fe35beb25f",
   "metadata": {},
   "outputs": [
    {
     "data": {
      "text/plain": [
       "328419"
      ]
     },
     "execution_count": 12,
     "metadata": {},
     "output_type": "execute_result"
    }
   ],
   "source": [
    "len(all_spectrums)"
   ]
  },
  {
   "cell_type": "code",
   "execution_count": 15,
   "id": "5fa7103c-9a7f-4f5e-8564-5d9e108de8d8",
   "metadata": {
    "scrolled": true
   },
   "outputs": [
    {
     "data": {
      "text/plain": [
       "{'pepmass': (34.1505, None),\n",
       " 'charge': [1],\n",
       " 'mslevel': '2',\n",
       " 'source_instrument': 'LC-ESI-qTof',\n",
       " 'filename': 'f.sh1646/metamycin_B_MS2.mgf;',\n",
       " 'seq': '*..*',\n",
       " 'ionmode': 'Positive',\n",
       " 'organism': 'GNPS-LIBRARY',\n",
       " 'name': 'Metamycin B M+H',\n",
       " 'pi': 'Mohamed Donia',\n",
       " 'datacollector': 'Sunghoon Hwang',\n",
       " 'smiles': 'OC1=C(C(O)=C(C(CC(C(C)CC)(O)C2C(C)=O)=O)C2=C3)C3=CC=C1',\n",
       " 'inchi': 'InChI=1S/C20H22O5/c1-4-10(2)20(25)9-15(23)17-13(18(20)11(3)21)8-12-6-5-7-14(22)16(12)19(17)24/h5-8,10,18,22,24-25H,4,9H2,1-3H3',\n",
       " 'inchiaux': '',\n",
       " 'pubmed': '',\n",
       " 'submituser': 'sh1646',\n",
       " 'libraryquality': '1',\n",
       " 'spectrumid': 'CCMSLIB00012060239',\n",
       " 'scans': '1'}"
      ]
     },
     "execution_count": 15,
     "metadata": {},
     "output_type": "execute_result"
    }
   ],
   "source": [
    "all_spectrums[0].params['']"
   ]
  },
  {
   "cell_type": "code",
   "execution_count": 20,
   "id": "81ecac30-84b0-4039-baf8-1007fc471b7f",
   "metadata": {},
   "outputs": [],
   "source": [
    "gnps = [s for s in all_spectrums if 'spectrumid' in s.params.keys()]\n",
    "gnps = [s for s in gnps if s.params['spectrumid'].startswith('CCMSLIB')]"
   ]
  },
  {
   "cell_type": "code",
   "execution_count": 21,
   "id": "9cfa8c7d-1f93-414f-893e-a876c46a7678",
   "metadata": {},
   "outputs": [
    {
     "data": {
      "text/plain": [
       "62641"
      ]
     },
     "execution_count": 21,
     "metadata": {},
     "output_type": "execute_result"
    }
   ],
   "source": [
    "len(gnps)"
   ]
  },
  {
   "cell_type": "code",
   "execution_count": 24,
   "id": "2e9ca08b-e0cc-435c-b499-3bd8583d45db",
   "metadata": {},
   "outputs": [],
   "source": [
    "gnps_hash = [s.spectrum_hash for s in gnps]\n"
   ]
  },
  {
   "cell_type": "code",
   "execution_count": 38,
   "id": "45405b62-c33c-442a-8be8-105b22cd6a57",
   "metadata": {},
   "outputs": [],
   "source": [
    "nist = [s for s in all_spectrums[0:-1] if (s.spectrum_hash not in gnps_hash) and (s.library != 'janssen')]"
   ]
  },
  {
   "cell_type": "code",
   "execution_count": 39,
   "id": "0ba4a312-419f-4d6f-aeb8-a83b04496cb1",
   "metadata": {},
   "outputs": [
    {
     "data": {
      "text/plain": [
       "263745"
      ]
     },
     "execution_count": 39,
     "metadata": {},
     "output_type": "execute_result"
    }
   ],
   "source": [
    "len(nist)"
   ]
  },
  {
   "cell_type": "code",
   "execution_count": 40,
   "id": "219fee56-1545-4f06-90d5-1818d91bb359",
   "metadata": {},
   "outputs": [],
   "source": [
    "janssen = [s for s in all_spectrums if (s.library == 'janssen')]"
   ]
  },
  {
   "cell_type": "code",
   "execution_count": 41,
   "id": "f325ca49-29d1-4c22-89a9-6ee8f1c39327",
   "metadata": {},
   "outputs": [
    {
     "data": {
      "text/plain": [
       "2033"
      ]
     },
     "execution_count": 41,
     "metadata": {},
     "output_type": "execute_result"
    }
   ],
   "source": [
    "len(janssen)"
   ]
  },
  {
   "cell_type": "code",
   "execution_count": null,
   "id": "48a9fac8-4867-4cd1-86c6-0b42319d5bd7",
   "metadata": {},
   "outputs": [],
   "source": []
  }
 ],
 "metadata": {
  "kernelspec": {
   "display_name": "Python 3 (ipykernel)",
   "language": "python",
   "name": "python3"
  },
  "language_info": {
   "codemirror_mode": {
    "name": "ipython",
    "version": 3
   },
   "file_extension": ".py",
   "mimetype": "text/x-python",
   "name": "python",
   "nbconvert_exporter": "python",
   "pygments_lexer": "ipython3",
   "version": "3.11.7"
  }
 },
 "nbformat": 4,
 "nbformat_minor": 5
}
