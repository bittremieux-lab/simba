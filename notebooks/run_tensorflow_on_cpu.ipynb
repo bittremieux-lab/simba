{
 "cells": [
  {
   "cell_type": "code",
   "execution_count": 1,
   "id": "f72d26a8-a2c1-4070-b51a-bef62c7be9ac",
   "metadata": {},
   "outputs": [],
   "source": [
    "%load_ext autoreload \n",
    "%autoreload 2"
   ]
  },
  {
   "cell_type": "code",
   "execution_count": 3,
   "id": "5e870692-28e7-4569-bc8d-97e4beeb2bae",
   "metadata": {},
   "outputs": [],
   "source": [
    "import tensorflow as tf"
   ]
  },
  {
   "cell_type": "code",
   "execution_count": 4,
   "id": "df19562f-7b4d-4e4f-972f-f44baa96f1ad",
   "metadata": {},
   "outputs": [
    {
     "name": "stdout",
     "output_type": "stream",
     "text": [
      "Available physical devices: [PhysicalDevice(name='/physical_device:CPU:0', device_type='CPU'), PhysicalDevice(name='/physical_device:GPU:0', device_type='GPU')]\n"
     ]
    }
   ],
   "source": [
    "# List all available physical devices\n",
    "physical_devices = tf.config.experimental.list_physical_devices()\n",
    "print(\"Available physical devices:\", physical_devices)"
   ]
  },
  {
   "cell_type": "code",
   "execution_count": 6,
   "id": "ca5d21fc-0e72-4c5f-a593-1fa30a891bf9",
   "metadata": {},
   "outputs": [
    {
     "name": "stdout",
     "output_type": "stream",
     "text": [
      "Helloworld\n"
     ]
    }
   ],
   "source": [
    "# For example:\n",
    "with tf.device('/device:CPU:0'):\n",
    "    print('Helloworld')"
   ]
  },
  {
   "cell_type": "code",
   "execution_count": null,
   "id": "9f5de595-f262-410f-a12f-90495410a696",
   "metadata": {},
   "outputs": [],
   "source": []
  }
 ],
 "metadata": {
  "kernelspec": {
   "display_name": "Python 3 (ipykernel)",
   "language": "python",
   "name": "python3"
  },
  "language_info": {
   "codemirror_mode": {
    "name": "ipython",
    "version": 3
   },
   "file_extension": ".py",
   "mimetype": "text/x-python",
   "name": "python",
   "nbconvert_exporter": "python",
   "pygments_lexer": "ipython3",
   "version": "3.11.7"
  }
 },
 "nbformat": 4,
 "nbformat_minor": 5
}
