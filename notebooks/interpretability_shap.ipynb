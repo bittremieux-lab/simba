{
 "cells": [
  {
   "cell_type": "code",
   "execution_count": 11,
   "id": "9a0ff5f0-7d36-4b96-b5ee-ef62bf6081c3",
   "metadata": {},
   "outputs": [
    {
     "name": "stdout",
     "output_type": "stream",
     "text": [
      "The autoreload extension is already loaded. To reload it, use:\n",
      "  %reload_ext autoreload\n"
     ]
    }
   ],
   "source": [
    "%load_ext autoreload\n",
    "%autoreload 2"
   ]
  },
  {
   "cell_type": "code",
   "execution_count": 12,
   "id": "9209989c-22cd-49d8-be6f-e14e726f7fec",
   "metadata": {},
   "outputs": [],
   "source": [
    "## STEPS:\n",
    "#1. Load model\n",
    "#2. load data\n",
    "#3. Run inference on 1 sample\n",
    "#4. Make a wrapper for using scikit learn\n",
    "#5. Run inference on 1 sample using wrapper\n",
    "#6. Run shap values using 1 example"
   ]
  },
  {
   "cell_type": "code",
   "execution_count": 13,
   "id": "4ec84bae-46d6-4743-923d-c71af6b0f018",
   "metadata": {},
   "outputs": [],
   "source": [
    "#!pip install lightning\n",
    "#!pip install git+https://github.com/wfondrie/depthcharge.git\n",
    "#!pip install --force-reinstall lance\n",
    "#!pip install shap"
   ]
  },
  {
   "cell_type": "code",
   "execution_count": null,
   "id": "f4787d2c-1163-4569-a269-67839b5eeb9d",
   "metadata": {},
   "outputs": [],
   "source": []
  },
  {
   "cell_type": "code",
   "execution_count": 14,
   "id": "9b3a2cb7-c8a0-4bc0-8d68-e8499b9aea77",
   "metadata": {},
   "outputs": [],
   "source": [
    "import os\n",
    "os.chdir('/Users/sebas/projects/metabolomics')\n",
    "os.environ[\"PYTORCH_ENABLE_MPS_FALLBACK\"] = \"1\""
   ]
  },
  {
   "cell_type": "code",
   "execution_count": 15,
   "id": "baa0922f-67e5-4f94-9b40-57e3d4953934",
   "metadata": {},
   "outputs": [
    {
     "name": "stdout",
     "output_type": "stream",
     "text": [
      "ALL_GNPS_NO_PROPOGATED_wb.mgf\n",
      "GNPS-NIH-NATURALPRODUCTSLIBRARY.mgf\n",
      "all_spectrums_gnps.pkl\n",
      "all_spectrums_gnps_nist_20240130_gnps_nist_janssen.pkl\n",
      "all_spectrums_janssen.pkl\n",
      "all_spectrums_nist.pkl\n",
      "best_model.ckpt\n",
      "best_model_128n_10_layers_20240209.ckpt\n",
      "best_model_128n_5_layers_20240219_elementwise.ckpt\n",
      "best_model_128n_5_layers_20240229.ckpt\n",
      "drug_plus.mgf\n",
      "\u001b[31mhr_msms_nist_all.MSP\u001b[m\u001b[m*\n",
      "hr_msms_nist_sample.MSP\n",
      "merged_gnps_nist_20240118_gnps_nist_janssen.pkl\n",
      "merged_gnps_nist_20240207_gnps_nist_janssen_15_millions.pkl\n",
      "ms2deepscore_positive_10k_1000_1000_1000_500.hdf5\n",
      "spec2vec_AllPositive_ratio05_filtered_201101_iter_15.model\n",
      "spec2vec_AllPositive_ratio05_filtered_201101_iter_15.model.trainables.syn1neg.npy\n",
      "spec2vec_AllPositive_ratio05_filtered_201101_iter_15.model.wv.vectors.npy\n",
      "to_export_gnps_nist.pkl\n",
      "uniformed_molecule_pairs_test.pkl\n"
     ]
    },
    {
     "name": "stderr",
     "output_type": "stream",
     "text": [
      "python(35696) MallocStackLogging: can't turn off malloc stack logging because it was not enabled.\n"
     ]
    }
   ],
   "source": [
    "ls ../data/"
   ]
  },
  {
   "cell_type": "code",
   "execution_count": 16,
   "id": "e4320bfe-f89e-4f7c-b4f2-2613ece6bd90",
   "metadata": {},
   "outputs": [],
   "source": [
    "## Params\n",
    "dataset_path = '../data/merged_gnps_nist_20240207_gnps_nist_janssen_15_millions.pkl'\n",
    "#best_model_path='../data/best_model_128n_10_layers_20240209.ckpt'\n",
    "best_model_path='../data/best_model_128n_5_layers_20240229.ckpt'"
   ]
  },
  {
   "cell_type": "code",
   "execution_count": 17,
   "id": "d895f857-ed7f-42ed-805d-d57d3edaec37",
   "metadata": {},
   "outputs": [],
   "source": [
    "import shap\n",
    "import matplotlib.pyplot as plt\n",
    "from src.transformers.embedder import Embedder\n",
    "from src.config import Config\n",
    "import dill\n",
    "from src.train_utils import TrainUtils\n",
    "from src.transformers.load_data import LoadData\n",
    "from src.molecular_pairs_set import MolecularPairsSet\n",
    "from torch.utils.data import DataLoader\n",
    "import lightning.pytorch as pl\n",
    "from src.transformers.postprocessing import Postprocessing\n",
    "import numpy as np\n",
    "from src.transformers.sklearn_model import SklearnModel\n",
    "import spectrum_utils.plot as sup"
   ]
  },
  {
   "cell_type": "code",
   "execution_count": 18,
   "id": "bd10167d-2521-4987-abe6-ee362b410bca",
   "metadata": {},
   "outputs": [],
   "source": [
    "config=Config()"
   ]
  },
  {
   "cell_type": "code",
   "execution_count": 19,
   "id": "8ad745ef-b1ab-4462-a75f-203ba84cbb5e",
   "metadata": {},
   "outputs": [],
   "source": [
    "# 1. load model\n",
    "best_model = Embedder.load_from_checkpoint(best_model_path, d_model=int(config.D_MODEL), n_layers=int(config.N_LAYERS))"
   ]
  },
  {
   "cell_type": "code",
   "execution_count": 20,
   "id": "d0dab150-b4b2-45e3-ae29-76c6edc3f057",
   "metadata": {},
   "outputs": [
    {
     "data": {
      "text/plain": [
       "Embedder(\n",
       "  (linear): Linear(in_features=128, out_features=128, bias=True)\n",
       "  (linear_regression): Linear(in_features=128, out_features=1, bias=True)\n",
       "  (relu): ReLU()\n",
       "  (spectrum_encoder): SpectrumTransformerEncoderCustom(\n",
       "    (peak_encoder): PeakEncoder(\n",
       "      (mz_encoder): FloatEncoder()\n",
       "      (int_encoder): FloatEncoder()\n",
       "      (combiner): Linear(in_features=256, out_features=128, bias=False)\n",
       "    )\n",
       "    (transformer_encoder): TransformerEncoder(\n",
       "      (layers): ModuleList(\n",
       "        (0-4): 5 x TransformerEncoderLayer(\n",
       "          (self_attn): MultiheadAttention(\n",
       "            (out_proj): NonDynamicallyQuantizableLinear(in_features=128, out_features=128, bias=True)\n",
       "          )\n",
       "          (linear1): Linear(in_features=128, out_features=1024, bias=True)\n",
       "          (dropout): Dropout(p=0.1, inplace=False)\n",
       "          (linear2): Linear(in_features=1024, out_features=128, bias=True)\n",
       "          (norm1): LayerNorm((128,), eps=1e-05, elementwise_affine=True)\n",
       "          (norm2): LayerNorm((128,), eps=1e-05, elementwise_affine=True)\n",
       "          (dropout1): Dropout(p=0.1, inplace=False)\n",
       "          (dropout2): Dropout(p=0.1, inplace=False)\n",
       "        )\n",
       "      )\n",
       "    )\n",
       "  )\n",
       "  (cos): CosineSimilarity()\n",
       "  (regression_loss): MSELoss()\n",
       "  (dropout): Dropout(p=0.1, inplace=False)\n",
       ")"
      ]
     },
     "execution_count": 20,
     "metadata": {},
     "output_type": "execute_result"
    }
   ],
   "source": [
    "best_model"
   ]
  },
  {
   "cell_type": "markdown",
   "id": "7fc1c9cc-ee47-4c05-9b62-c6b36b46850f",
   "metadata": {},
   "source": [
    "## load data"
   ]
  },
  {
   "cell_type": "code",
   "execution_count": 21,
   "id": "da5673c3-7788-4305-bee3-2b7afe78b32c",
   "metadata": {},
   "outputs": [],
   "source": [
    "# load data\n",
    "# Load the dataset from the pickle file\n",
    "with open(dataset_path, 'rb') as file:\n",
    "    dataset = dill.load(file)\n",
    "\n",
    "molecule_pairs_train = dataset['molecule_pairs_train']\n",
    "molecule_pairs_val = dataset['molecule_pairs_val']\n",
    "molecule_pairs_test= dataset['molecule_pairs_test']\n",
    "uniformed_molecule_pairs_test = dataset['uniformed_molecule_pairs_test']"
   ]
  },
  {
   "cell_type": "code",
   "execution_count": 22,
   "id": "e96c0738-52bb-4c26-b987-0924bdf8d947",
   "metadata": {},
   "outputs": [
    {
     "data": {
      "text/plain": [
       "<Axes: xlabel='m/z', ylabel='Intensity'>"
      ]
     },
     "execution_count": 22,
     "metadata": {},
     "output_type": "execute_result"
    },
    {
     "data": {
      "image/png": "[encoded data removed]",
      "text/plain": [
       "<Figure size 640x480 with 1 Axes>"
      ]
     },
     "metadata": {},
     "output_type": "display_data"
    }
   ],
   "source": [
    "#plot one spectrum from molecule_pairs_test\n",
    "\n",
    "sup.mirror(uniformed_molecule_pairs_test[0].spectrum_object_0, uniformed_molecule_pairs_test[0].spectrum_object_1)"
   ]
  },
  {
   "cell_type": "code",
   "execution_count": 23,
   "id": "7474ae24-5b8d-42b9-aeed-b01cdf5fbbb0",
   "metadata": {},
   "outputs": [
    {
     "data": {
      "text/plain": [
       "185165"
      ]
     },
     "execution_count": 23,
     "metadata": {},
     "output_type": "execute_result"
    }
   ],
   "source": [
    "len(uniformed_molecule_pairs_test)"
   ]
  },
  {
   "cell_type": "code",
   "execution_count": 24,
   "id": "94aba5da-dea1-46b7-ba13-739e98ed1799",
   "metadata": {},
   "outputs": [],
   "source": [
    "index = 0"
   ]
  },
  {
   "cell_type": "code",
   "execution_count": 25,
   "id": "103df046-e2ca-4d37-b1b1-0aab56ee5425",
   "metadata": {},
   "outputs": [],
   "source": [
    "one_molecule_pair  = MolecularPairsSet(spectrums=uniformed_molecule_pairs_test.spectrums, \n",
    "                                       indexes_tani = uniformed_molecule_pairs_test.indexes_tani[index:index+1,:])"
   ]
  },
  {
   "cell_type": "code",
   "execution_count": 26,
   "id": "c4f16b30-10ec-4e05-818c-080a6deac437",
   "metadata": {},
   "outputs": [
    {
     "data": {
      "text/plain": [
       "<src.molecular_pairs_set.MolecularPairsSet at 0x2b8b61810>"
      ]
     },
     "execution_count": 26,
     "metadata": {},
     "output_type": "execute_result"
    }
   ],
   "source": [
    "one_molecule_pair"
   ]
  },
  {
   "cell_type": "markdown",
   "id": "5e24bf31-7242-43ec-b7ea-35f5f11c5a7c",
   "metadata": {},
   "source": [
    "## Make a wrapper"
   ]
  },
  {
   "cell_type": "code",
   "execution_count": 27,
   "id": "1e39ad62-f86f-409f-ba1c-2f93c8c663c2",
   "metadata": {},
   "outputs": [
    {
     "name": "stderr",
     "output_type": "stream",
     "text": [
      "GPU available: True (mps), used: True\n",
      "TPU available: False, using: 0 TPU cores\n",
      "IPU available: False, using: 0 IPUs\n",
      "HPU available: False, using: 0 HPUs\n"
     ]
    }
   ],
   "source": [
    "sklearn_model = SklearnModel(best_model_path, d_model=int(config.D_MODEL), n_layers=int(config.N_LAYERS))"
   ]
  },
  {
   "cell_type": "code",
   "execution_count": 68,
   "id": "c6754c15-ec92-4148-8a94-1efdf18d5222",
   "metadata": {},
   "outputs": [
    {
     "name": "stdout",
     "output_type": "stream",
     "text": [
      "Preprocessing all the data ...\n"
     ]
    },
    {
     "name": "stderr",
     "output_type": "stream",
     "text": [
      "32486it [00:00, 76568.41it/s]\n"
     ]
    },
    {
     "name": "stdout",
     "output_type": "stream",
     "text": [
      "Finished preprocessing \n",
      "Starting the loading of the data ...\n",
      "Normalizing intensities\n",
      "Creating dictionaries\n",
      "Preprocessing all the data ...\n"
     ]
    },
    {
     "name": "stderr",
     "output_type": "stream",
     "text": [
      "32486it [00:00, 77223.68it/s]\n"
     ]
    },
    {
     "name": "stdout",
     "output_type": "stream",
     "text": [
      "Finished preprocessing \n",
      "Starting the loading of the data ...\n",
      "Normalizing intensities\n",
      "Creating dictionaries\n",
      "Prediction has been called\n"
     ]
    },
    {
     "data": {
      "application/vnd.jupyter.widget-view+json": {
       "model_id": "3758145d8c2a494981364035db4b2ba4",
       "version_major": 2,
       "version_minor": 0
      },
      "text/plain": [
       "Predicting: |                                                                                                 …"
      ]
     },
     "metadata": {},
     "output_type": "display_data"
    }
   ],
   "source": [
    "explainer=sklearn_model.get_explainer(uniformed_molecule_pairs_test)"
   ]
  },
  {
   "cell_type": "markdown",
   "id": "afa2dad5-c6f1-4b6e-800f-fbb69d719e1a",
   "metadata": {},
   "source": [
    "## Target molecule pair"
   ]
  },
  {
   "cell_type": "code",
   "execution_count": 29,
   "id": "77143739-5008-478f-8068-68257f207cba",
   "metadata": {},
   "outputs": [],
   "source": [
    "mol_gnps = uniformed_molecule_pairs_test.get_gnps_pairs()\n",
    "mol_gnps = mol_gnps.filter_by_similarity(min_sim=1, max_sim=1)"
   ]
  },
  {
   "cell_type": "code",
   "execution_count": 30,
   "id": "c6bafaf7-b57d-42fe-82eb-c974b7c9db31",
   "metadata": {},
   "outputs": [
    {
     "data": {
      "text/plain": [
       "274"
      ]
     },
     "execution_count": 30,
     "metadata": {},
     "output_type": "execute_result"
    }
   ],
   "source": [
    "len(mol_gnps)"
   ]
  },
  {
   "cell_type": "code",
   "execution_count": 31,
   "id": "da677467-7cd7-4b69-9f42-8049e64f5d27",
   "metadata": {},
   "outputs": [],
   "source": [
    "index_gnps=1"
   ]
  },
  {
   "cell_type": "code",
   "execution_count": 32,
   "id": "58f2583d-84c8-4a9c-bd8e-e8c0797a582f",
   "metadata": {},
   "outputs": [
    {
     "name": "stdout",
     "output_type": "stream",
     "text": [
      "Molecular pair with similarity: 1.0 for smiles_0: CCN(CC)CCOC(=O)C1=CC=C(C=C1)N and smiles_1: CCN(CC)CCOC(=O)C1=CC=C(N)C=C1\n"
     ]
    }
   ],
   "source": [
    "print(mol_gnps[index_gnps])"
   ]
  },
  {
   "cell_type": "code",
   "execution_count": 33,
   "id": "ef75bdf8-45a6-4589-90ea-fc114a49c97f",
   "metadata": {},
   "outputs": [
    {
     "data": {
      "text/plain": [
       "('CCMSLIB00000567489', 'CCMSLIB00005744304')"
      ]
     },
     "execution_count": 33,
     "metadata": {},
     "output_type": "execute_result"
    }
   ],
   "source": [
    "mol_gnps[index_gnps].spectrum_object_0.params['spectrumid'],mol_gnps[index_gnps].spectrum_object_1.params['spectrumid']"
   ]
  },
  {
   "cell_type": "code",
   "execution_count": 34,
   "id": "e723fbc0-bfb4-489a-90c2-35d98a5bcb29",
   "metadata": {},
   "outputs": [
    {
     "data": {
      "text/plain": [
       "<Axes: xlabel='m/z', ylabel='Intensity'>"
      ]
     },
     "execution_count": 34,
     "metadata": {},
     "output_type": "execute_result"
    },
    {
     "data": {
      "image/png": "[encoded data removed]",
      "text/plain": [
       "<Figure size 640x480 with 1 Axes>"
      ]
     },
     "metadata": {},
     "output_type": "display_data"
    }
   ],
   "source": [
    "sup.mirror(mol_gnps[index_gnps].spectrum_object_0, mol_gnps[index_gnps].spectrum_object_1)"
   ]
  },
  {
   "cell_type": "code",
   "execution_count": null,
   "id": "c7fc7731-801f-48d7-9b95-b2a2f5a12233",
   "metadata": {},
   "outputs": [],
   "source": []
  },
  {
   "cell_type": "code",
   "execution_count": 35,
   "id": "5f55be6b-b9d1-4302-b996-ce89a9615d8b",
   "metadata": {},
   "outputs": [],
   "source": [
    "target_molecule_pair  = MolecularPairsSet(spectrums=mol_gnps.spectrums, \n",
    "                                      indexes_tani = mol_gnps.indexes_tani[index_gnps:index_gnps+1,:])"
   ]
  },
  {
   "cell_type": "code",
   "execution_count": 36,
   "id": "6b33f84d-65f2-4a43-900a-6b27aa3fe1c8",
   "metadata": {},
   "outputs": [
    {
     "data": {
      "text/plain": [
       "array([[9.4000e+01, 1.1143e+04, 1.0000e+00]])"
      ]
     },
     "execution_count": 36,
     "metadata": {},
     "output_type": "execute_result"
    }
   ],
   "source": [
    "target_molecule_pair.indexes_tani"
   ]
  },
  {
   "cell_type": "markdown",
   "id": "f6b308a3-c4af-4152-9310-0c8e34dbe72d",
   "metadata": {},
   "source": [
    "## Compute shap"
   ]
  },
  {
   "cell_type": "code",
   "execution_count": 70,
   "id": "0bc4211a-71da-43b7-ab88-733d9152ff85",
   "metadata": {},
   "outputs": [
    {
     "name": "stdout",
     "output_type": "stream",
     "text": [
      "Preprocessing all the data ...\n"
     ]
    },
    {
     "name": "stderr",
     "output_type": "stream",
     "text": [
      "32486it [00:00, 77091.20it/s]"
     ]
    },
    {
     "name": "stdout",
     "output_type": "stream",
     "text": [
      "Finished preprocessing \n",
      "Starting the loading of the data ...\n",
      "Normalizing intensities\n",
      "Creating dictionaries\n"
     ]
    },
    {
     "name": "stderr",
     "output_type": "stream",
     "text": [
      "\n"
     ]
    },
    {
     "data": {
      "application/vnd.jupyter.widget-view+json": {
       "model_id": "bb48be5fe5304cbc8b0f028ccc0029c9",
       "version_major": 2,
       "version_minor": 0
      },
      "text/plain": [
       "  0%|          | 0/1 [00:00<?, ?it/s]"
      ]
     },
     "metadata": {},
     "output_type": "display_data"
    },
    {
     "name": "stdout",
     "output_type": "stream",
     "text": [
      "Prediction has been called\n"
     ]
    },
    {
     "data": {
      "application/vnd.jupyter.widget-view+json": {
       "model_id": "db4da1b4da9846a29db19d5e39e7ff35",
       "version_major": 2,
       "version_minor": 0
      },
      "text/plain": [
       "Predicting: |                                                                                                 …"
      ]
     },
     "metadata": {},
     "output_type": "display_data"
    },
    {
     "name": "stdout",
     "output_type": "stream",
     "text": [
      "Prediction has been called\n"
     ]
    },
    {
     "data": {
      "application/vnd.jupyter.widget-view+json": {
       "model_id": "fcf5c3c55eaf4fb2b12f1dd597abeee8",
       "version_major": 2,
       "version_minor": 0
      },
      "text/plain": [
       "Predicting: |                                                                                                 …"
      ]
     },
     "metadata": {},
     "output_type": "display_data"
    }
   ],
   "source": [
    "shap_values, X = sklearn_model.compute_shap_values(explainer, target_molecule_pair)"
   ]
  },
  {
   "cell_type": "code",
   "execution_count": 37,
   "id": "ac1f1afe-9eea-40d0-9869-b6429042f35e",
   "metadata": {},
   "outputs": [
    {
     "name": "stdout",
     "output_type": "stream",
     "text": [
      "Preprocessing all the data ...\n"
     ]
    },
    {
     "name": "stderr",
     "output_type": "stream",
     "text": [
      "32486it [00:00, 80427.78it/s]\n"
     ]
    },
    {
     "name": "stdout",
     "output_type": "stream",
     "text": [
      "Finished preprocessing \n",
      "Starting the loading of the data ...\n",
      "Normalizing intensities\n",
      "Creating dictionaries\n",
      "Prediction has been called\n"
     ]
    },
    {
     "name": "stderr",
     "output_type": "stream",
     "text": [
      "/Users/sebas/miniconda3/envs/transformers/lib/python3.11/site-packages/lightning/pytorch/trainer/connectors/data_connector.py:441: The 'predict_dataloader' does not have many workers which may be a bottleneck. Consider increasing the value of the `num_workers` argument` to `num_workers=10` in the `DataLoader` to improve performance.\n"
     ]
    },
    {
     "data": {
      "application/vnd.jupyter.widget-view+json": {
       "model_id": "443eada70cf44824aa9082e36d9dbb7b",
       "version_major": 2,
       "version_minor": 0
      },
      "text/plain": [
       "Predicting: |                                                                                                 …"
      ]
     },
     "metadata": {},
     "output_type": "display_data"
    },
    {
     "name": "stderr",
     "output_type": "stream",
     "text": [
      "To copy construct from a tensor, it is recommended to use sourceTensor.clone().detach() or sourceTensor.clone().detach().requires_grad_(True), rather than torch.tensor(sourceTensor).\n",
      "To copy construct from a tensor, it is recommended to use sourceTensor.clone().detach() or sourceTensor.clone().detach().requires_grad_(True), rather than torch.tensor(sourceTensor).\n",
      "The operator 'aten::_nested_tensor_from_mask_left_aligned' is not currently supported on the MPS backend and will fall back to run on the CPU. This may have performance implications. (Triggered internally at /Users/runner/work/pytorch/pytorch/pytorch/aten/src/ATen/mps/MPSFallback.mm:13.)\n"
     ]
    },
    {
     "name": "stdout",
     "output_type": "stream",
     "text": [
      "Prediction has been called\n"
     ]
    },
    {
     "name": "stderr",
     "output_type": "stream",
     "text": [
      "/Users/sebas/miniconda3/envs/transformers/lib/python3.11/site-packages/lightning/pytorch/trainer/connectors/data_connector.py:441: The 'predict_dataloader' does not have many workers which may be a bottleneck. Consider increasing the value of the `num_workers` argument` to `num_workers=10` in the `DataLoader` to improve performance.\n"
     ]
    },
    {
     "data": {
      "application/vnd.jupyter.widget-view+json": {
       "model_id": "94ce158eab9d4106a61390777f5ab2c3",
       "version_major": 2,
       "version_minor": 0
      },
      "text/plain": [
       "Predicting: |                                                                                                 …"
      ]
     },
     "metadata": {},
     "output_type": "display_data"
    },
    {
     "name": "stderr",
     "output_type": "stream",
     "text": [
      "To copy construct from a tensor, it is recommended to use sourceTensor.clone().detach() or sourceTensor.clone().detach().requires_grad_(True), rather than torch.tensor(sourceTensor).\n",
      "To copy construct from a tensor, it is recommended to use sourceTensor.clone().detach() or sourceTensor.clone().detach().requires_grad_(True), rather than torch.tensor(sourceTensor).\n"
     ]
    },
    {
     "name": "stdout",
     "output_type": "stream",
     "text": [
      "Prediction has been called\n"
     ]
    },
    {
     "data": {
      "application/vnd.jupyter.widget-view+json": {
       "model_id": "24ca003f6d7440fb8e3a5454644c2699",
       "version_major": 2,
       "version_minor": 0
      },
      "text/plain": [
       "Predicting: |                                                                                                 …"
      ]
     },
     "metadata": {},
     "output_type": "display_data"
    },
    {
     "name": "stdout",
     "output_type": "stream",
     "text": [
      "Prediction has been called\n"
     ]
    },
    {
     "data": {
      "application/vnd.jupyter.widget-view+json": {
       "model_id": "750be4839b6042f688055d722bd61db0",
       "version_major": 2,
       "version_minor": 0
      },
      "text/plain": [
       "Predicting: |                                                                                                 …"
      ]
     },
     "metadata": {},
     "output_type": "display_data"
    },
    {
     "name": "stdout",
     "output_type": "stream",
     "text": [
      "Prediction has been called\n"
     ]
    },
    {
     "data": {
      "application/vnd.jupyter.widget-view+json": {
       "model_id": "27ee6109923e4789b2d3917b2c847b7d",
       "version_major": 2,
       "version_minor": 0
      },
      "text/plain": [
       "Predicting: |                                                                                                 …"
      ]
     },
     "metadata": {},
     "output_type": "display_data"
    },
    {
     "name": "stderr",
     "output_type": "stream",
     "text": [
      "PermutationExplainer explainer: 2it [02:47, 167.15s/it]                                                                                                                                                             \n"
     ]
    }
   ],
   "source": [
    "shap_values, X = sklearn_model.compute_shap_values(explainer, target_molecule_pair)"
   ]
  },
  {
   "cell_type": "code",
   "execution_count": 69,
   "id": "04c06130-6b5f-4439-8340-b2da4bf53765",
   "metadata": {},
   "outputs": [
    {
     "ename": "AttributeError",
     "evalue": "'KernelExplainer' object has no attribute 'shap_interaction_values'",
     "output_type": "error",
     "traceback": [
      "\u001b[0;31m---------------------------------------------------------------------------\u001b[0m",
      "\u001b[0;31mAttributeError\u001b[0m                            Traceback (most recent call last)",
      "Cell \u001b[0;32mIn[69], line 1\u001b[0m\n\u001b[0;32m----> 1\u001b[0m shap_interaction_values \u001b[38;5;241m=\u001b[39m explainer\u001b[38;5;241m.\u001b[39mshap_interaction_values(X)\n",
      "\u001b[0;31mAttributeError\u001b[0m: 'KernelExplainer' object has no attribute 'shap_interaction_values'"
     ]
    }
   ],
   "source": [
    "shap_interaction_values = explainer.shap_interaction_values(X)"
   ]
  },
  {
   "cell_type": "code",
   "execution_count": null,
   "id": "3a8ba4cb-f330-4361-a6ca-f1e9c6a7e7c0",
   "metadata": {},
   "outputs": [],
   "source": [
    "shap.summary_plot(shap_interaction_values, X)"
   ]
  },
  {
   "cell_type": "code",
   "execution_count": 71,
   "id": "7eb11414-66de-4a37-a3cd-b1e6130c9b61",
   "metadata": {},
   "outputs": [
    {
     "data": {
      "image/png": "[encoded data removed]",
      "text/plain": [
       "<Figure size 800x950 with 1 Axes>"
      ]
     },
     "metadata": {},
     "output_type": "display_data"
    }
   ],
   "source": [
    "# Plot the SHAP summary plot\n",
    "shap.summary_plot(shap_values, X, plot_type=\"bar\")"
   ]
  },
  {
   "cell_type": "code",
   "execution_count": 38,
   "id": "d30af8e1-8266-48a4-8768-cb9fb819c7c0",
   "metadata": {},
   "outputs": [
    {
     "data": {
      "image/png": "[encoded data removed]",
      "text/plain": [
       "<Figure size 800x950 with 1 Axes>"
      ]
     },
     "metadata": {},
     "output_type": "display_data"
    }
   ],
   "source": [
    "# Plot the SHAP summary plot\n",
    "shap.summary_plot(shap_values, X, plot_type=\"bar\")"
   ]
  },
  {
   "cell_type": "code",
   "execution_count": 60,
   "id": "ba39dbb9-81ea-4d01-ab0c-e285ec88cea9",
   "metadata": {},
   "outputs": [],
   "source": []
  },
  {
   "cell_type": "code",
   "execution_count": 39,
   "id": "99725e4f-a683-4287-8356-60586f1335c6",
   "metadata": {},
   "outputs": [],
   "source": [
    "spectrum_0 = target_molecule_pair.spectrums[int(target_molecule_pair.indexes_tani[0,0])]"
   ]
  },
  {
   "cell_type": "code",
   "execution_count": 40,
   "id": "6089af62-7531-44d9-89c0-2acc38fdc6eb",
   "metadata": {},
   "outputs": [],
   "source": [
    "spectrum_1 = target_molecule_pair.spectrums[int(target_molecule_pair.indexes_tani[0,1])]"
   ]
  },
  {
   "cell_type": "code",
   "execution_count": 41,
   "id": "688d43bf-fec0-42b8-9059-617cb41fc704",
   "metadata": {},
   "outputs": [
    {
     "data": {
      "text/plain": [
       "12"
      ]
     },
     "execution_count": 41,
     "metadata": {},
     "output_type": "execute_result"
    }
   ],
   "source": [
    "len(spectrum_0.mz)"
   ]
  },
  {
   "cell_type": "code",
   "execution_count": 42,
   "id": "f7a43986-a676-4e27-9b5a-cf1dce2a1509",
   "metadata": {},
   "outputs": [
    {
     "data": {
      "text/plain": [
       "<Axes: xlabel='m/z', ylabel='Intensity'>"
      ]
     },
     "execution_count": 42,
     "metadata": {},
     "output_type": "execute_result"
    },
    {
     "data": {
      "image/png": "[encoded data removed]",
      "text/plain": [
       "<Figure size 640x480 with 1 Axes>"
      ]
     },
     "metadata": {},
     "output_type": "display_data"
    }
   ],
   "source": [
    "import spectrum_utils.plot as sup\n",
    "sup.mirror(spectrum_0, spectrum_1)"
   ]
  },
  {
   "cell_type": "code",
   "execution_count": 43,
   "id": "1a5260a1-1ca8-447e-bd70-4460df436e55",
   "metadata": {},
   "outputs": [
    {
     "data": {
      "text/plain": [
       "(12, 7)"
      ]
     },
     "execution_count": 43,
     "metadata": {},
     "output_type": "execute_result"
    }
   ],
   "source": [
    "len(spectrum_0.mz), len(spectrum_1.mz)"
   ]
  },
  {
   "cell_type": "code",
   "execution_count": 44,
   "id": "8e1eb609-b852-45ea-b6a8-6484a13bee5e",
   "metadata": {},
   "outputs": [],
   "source": [
    "def plot_peaks(mz, intensity, mark_indexes=[], xmin=0, xmax=1000):\n",
    "    plt.scatter(mz, intensity)\n",
    "    \n",
    "    for x,y in zip(mz, intensity):\n",
    "        plt.vlines(x=x, ymin=0, ymax=y, color='g', linestyle=':', label='Vertical Line at x=4, y=4')\n",
    "    for m in mark_indexes:\n",
    "        plt.scatter(mz[m], intensity[m], marker='x', color='red', s=100)\n",
    "\n",
    "    plt.xlim([xmin, xmax])\n",
    "    plt.xlabel('mz')\n",
    "    plt.ylabel('intensity')\n",
    "    plt.grid()"
   ]
  },
  {
   "cell_type": "code",
   "execution_count": 45,
   "id": "46484c95-77eb-4df5-9ff8-5e89769d4591",
   "metadata": {},
   "outputs": [
    {
     "data": {
      "image/png": "[encoded data removed]",
      "text/plain": [
       "<Figure size 640x480 with 1 Axes>"
      ]
     },
     "metadata": {},
     "output_type": "display_data"
    }
   ],
   "source": [
    "plot_peaks(spectrum_0.mz, spectrum_0.intensity, mark_indexes=[9,10])"
   ]
  },
  {
   "cell_type": "code",
   "execution_count": 46,
   "id": "943da6e3-5da4-4e68-8ca2-bb98c5c3ba9f",
   "metadata": {},
   "outputs": [
    {
     "name": "stdout",
     "output_type": "stream",
     "text": [
      "56.3 0.599305\n",
      "57.2 0.403093\n",
      "70.2 0.888289\n",
      "71.2 0.189254\n",
      "72.2 100.0\n",
      "73.2 0.256978\n",
      "83.2 0.474527\n",
      "85.1 0.624353\n",
      "98.0 0.898958\n",
      "100.1 50.89455\n",
      "101.1 4.645079\n",
      "102.3 0.174875\n"
     ]
    }
   ],
   "source": [
    "for mz, intensity in zip(spectrum_0.mz,spectrum_0.intensity):\n",
    "    print(mz, intensity)"
   ]
  },
  {
   "cell_type": "code",
   "execution_count": 47,
   "id": "326d7976-306a-4b4f-b620-098297ab453f",
   "metadata": {},
   "outputs": [
    {
     "data": {
      "image/png": "[encoded data removed]",
      "text/plain": [
       "<Figure size 640x480 with 1 Axes>"
      ]
     },
     "metadata": {},
     "output_type": "display_data"
    }
   ],
   "source": [
    "plot_peaks(spectrum_1.mz, spectrum_1.intensity, mark_indexes=[2,3])"
   ]
  },
  {
   "cell_type": "code",
   "execution_count": 48,
   "id": "4a3df6e9-15d4-463a-bdc6-d56503cc98f6",
   "metadata": {},
   "outputs": [
    {
     "data": {
      "text/plain": [
       "{'pepmass': (100.0, None),\n",
       " 'charge': [1],\n",
       " 'mslevel': '2',\n",
       " 'source_instrument': 'LC-ESI-Ion Trap',\n",
       " 'filename': 'output_mgf.mgf',\n",
       " 'seq': '*..*',\n",
       " 'ionmode': 'Positive',\n",
       " 'organism': 'MONA',\n",
       " 'name': 'MoNA:2475814 Anticort M+H',\n",
       " 'pi': 'MoNA',\n",
       " 'datacollector': 'MoNA',\n",
       " 'smiles': 'CCN(CC)CCOC(=O)C1=CC=C(C=C1)N',\n",
       " 'inchi': 'InChI=1S/C13H20N2O2/c1-3-15(4-2)9-10-17-13(16)11-5-7-12(14)8-6-11/h5-8H,3-4,9-10,14H2,1-2H3',\n",
       " 'inchiaux': 'N/A',\n",
       " 'pubmed': 'N/A',\n",
       " 'submituser': 'mwang87',\n",
       " 'libraryquality': '3',\n",
       " 'spectrumid': 'CCMSLIB00000567489',\n",
       " 'scans': '4740'}"
      ]
     },
     "execution_count": 48,
     "metadata": {},
     "output_type": "execute_result"
    }
   ],
   "source": [
    "spectrum_0.params"
   ]
  },
  {
   "cell_type": "markdown",
   "id": "1fa73b7a-9163-4d8b-861d-1968fbe852cc",
   "metadata": {},
   "source": [
    "## checkl for previous shown molecule"
   ]
  },
  {
   "cell_type": "code",
   "execution_count": 49,
   "id": "bf6750de-8ca5-4c34-b11e-3e23e260b671",
   "metadata": {},
   "outputs": [],
   "source": [
    "spectrum_id_0 = 'CCMSLIB00009918486'\n",
    "spectrum_id_1 = 'CCMSLIB00009919212'"
   ]
  },
  {
   "cell_type": "code",
   "execution_count": 50,
   "id": "585e0949-b4b8-438a-8a51-d229f44666e8",
   "metadata": {},
   "outputs": [],
   "source": [
    "spectrums_total = molecule_pairs_train.spectrums + molecule_pairs_val.spectrums + molecule_pairs_test.spectrums"
   ]
  },
  {
   "cell_type": "code",
   "execution_count": 51,
   "id": "68b68577-575c-4973-9aec-04a4bcaf520b",
   "metadata": {},
   "outputs": [],
   "source": [
    "spectrumids = [s.params['spectrumid']  if 'spectrumid' in s.params.keys() else None for s in spectrums_total]\n"
   ]
  },
  {
   "cell_type": "code",
   "execution_count": 52,
   "id": "4547064f-f3e4-45f6-808b-c4d1264e4efa",
   "metadata": {},
   "outputs": [],
   "source": [
    "spectrum_index_0=spectrumids.index(spectrum_id_0)"
   ]
  },
  {
   "cell_type": "code",
   "execution_count": 53,
   "id": "c45f15c1-0c96-4d71-9528-e347bcc18188",
   "metadata": {},
   "outputs": [],
   "source": [
    "spectrum_index_1 = spectrumids.index(spectrum_id_1)"
   ]
  },
  {
   "cell_type": "code",
   "execution_count": 54,
   "id": "1c40fd82-78e5-4560-be26-a3cba526adf1",
   "metadata": {},
   "outputs": [],
   "source": [
    "spectrum_0= spectrums_total[spectrum_index_0]\n",
    "spectrum_1=spectrums_total[spectrum_index_1]"
   ]
  },
  {
   "cell_type": "code",
   "execution_count": 55,
   "id": "9f7364ec-f19f-4eee-ad01-166c572ab0a9",
   "metadata": {},
   "outputs": [
    {
     "data": {
      "text/plain": [
       "<Axes: xlabel='m/z', ylabel='Intensity'>"
      ]
     },
     "execution_count": 55,
     "metadata": {},
     "output_type": "execute_result"
    },
    {
     "data": {
      "image/png": "[encoded data removed]",
      "text/plain": [
       "<Figure size 640x480 with 1 Axes>"
      ]
     },
     "metadata": {},
     "output_type": "display_data"
    }
   ],
   "source": [
    "import spectrum_utils.plot as sup\n",
    "sup.mirror(spectrum_0, \n",
    "           spectrum_1)"
   ]
  },
  {
   "cell_type": "code",
   "execution_count": 56,
   "id": "f0b79b67-e946-4055-a00d-672ed160e93a",
   "metadata": {},
   "outputs": [],
   "source": [
    "target_pair = MolecularPairsSet(spectrums= [spectrum_0, spectrum_1 ],\n",
    "                                indexes_tani = np.array([[0,1,1]]))"
   ]
  },
  {
   "cell_type": "code",
   "execution_count": 57,
   "id": "e8b759c7-6a31-455e-816a-1ec6225fd935",
   "metadata": {},
   "outputs": [
    {
     "name": "stdout",
     "output_type": "stream",
     "text": [
      "Preprocessing all the data ...\n"
     ]
    },
    {
     "name": "stderr",
     "output_type": "stream",
     "text": [
      "2it [00:00, 11949.58it/s]"
     ]
    },
    {
     "name": "stdout",
     "output_type": "stream",
     "text": [
      "Finished preprocessing \n",
      "Starting the loading of the data ...\n",
      "Normalizing intensities\n",
      "Creating dictionaries\n"
     ]
    },
    {
     "name": "stderr",
     "output_type": "stream",
     "text": [
      "\n"
     ]
    },
    {
     "name": "stdout",
     "output_type": "stream",
     "text": [
      "Prediction has been called\n"
     ]
    },
    {
     "name": "stderr",
     "output_type": "stream",
     "text": [
      "/Users/sebas/miniconda3/envs/transformers/lib/python3.11/site-packages/lightning/pytorch/trainer/connectors/data_connector.py:441: The 'predict_dataloader' does not have many workers which may be a bottleneck. Consider increasing the value of the `num_workers` argument` to `num_workers=10` in the `DataLoader` to improve performance.\n"
     ]
    },
    {
     "data": {
      "application/vnd.jupyter.widget-view+json": {
       "model_id": "bc56d71a48cd4ebd87669a0e95399d28",
       "version_major": 2,
       "version_minor": 0
      },
      "text/plain": [
       "Predicting: |                                                                                                 …"
      ]
     },
     "metadata": {},
     "output_type": "display_data"
    },
    {
     "name": "stderr",
     "output_type": "stream",
     "text": [
      "To copy construct from a tensor, it is recommended to use sourceTensor.clone().detach() or sourceTensor.clone().detach().requires_grad_(True), rather than torch.tensor(sourceTensor).\n",
      "To copy construct from a tensor, it is recommended to use sourceTensor.clone().detach() or sourceTensor.clone().detach().requires_grad_(True), rather than torch.tensor(sourceTensor).\n"
     ]
    },
    {
     "name": "stdout",
     "output_type": "stream",
     "text": [
      "Prediction has been called\n"
     ]
    },
    {
     "data": {
      "application/vnd.jupyter.widget-view+json": {
       "model_id": "bb8893e1b0f24dbfac207a9308b859e3",
       "version_major": 2,
       "version_minor": 0
      },
      "text/plain": [
       "Predicting: |                                                                                                 …"
      ]
     },
     "metadata": {},
     "output_type": "display_data"
    },
    {
     "name": "stdout",
     "output_type": "stream",
     "text": [
      "Prediction has been called\n"
     ]
    },
    {
     "data": {
      "application/vnd.jupyter.widget-view+json": {
       "model_id": "bacc1fee09f24e2ea26760d4e73002fe",
       "version_major": 2,
       "version_minor": 0
      },
      "text/plain": [
       "Predicting: |                                                                                                 …"
      ]
     },
     "metadata": {},
     "output_type": "display_data"
    },
    {
     "name": "stdout",
     "output_type": "stream",
     "text": [
      "Prediction has been called\n"
     ]
    },
    {
     "data": {
      "application/vnd.jupyter.widget-view+json": {
       "model_id": "9f004e8e3c394cc6857805f7a566c8c6",
       "version_major": 2,
       "version_minor": 0
      },
      "text/plain": [
       "Predicting: |                                                                                                 …"
      ]
     },
     "metadata": {},
     "output_type": "display_data"
    },
    {
     "name": "stderr",
     "output_type": "stream",
     "text": [
      "/Users/sebas/miniconda3/envs/transformers/lib/python3.11/site-packages/lightning/pytorch/trainer/call.py:54: Detected KeyboardInterrupt, attempting graceful shutdown...\n",
      "\n",
      "KeyboardInterrupt\n",
      "\n"
     ]
    }
   ],
   "source": [
    "shap_values, X = sklearn_model.compute_shap_values(explainer, target_pair)"
   ]
  },
  {
   "cell_type": "code",
   "execution_count": null,
   "id": "12f3a411-2965-4db6-8347-20b4af3604ae",
   "metadata": {},
   "outputs": [],
   "source": [
    "shap.summary_plot(shap_values, X,plot_type=\"bar\")"
   ]
  },
  {
   "cell_type": "code",
   "execution_count": null,
   "id": "01026dce-1152-4b38-ba35-0219fd9aa863",
   "metadata": {},
   "outputs": [],
   "source": [
    "spectrum_0.mz[3],spectrum_0.mz[31]"
   ]
  },
  {
   "cell_type": "code",
   "execution_count": null,
   "id": "42836230-ff4c-4423-bc77-ba5e7aef5681",
   "metadata": {},
   "outputs": [],
   "source": [
    "spectrum_1.mz[13]"
   ]
  },
  {
   "cell_type": "code",
   "execution_count": null,
   "id": "4245ec88-e545-4656-900e-3b88a7d4b936",
   "metadata": {},
   "outputs": [],
   "source": [
    "plot_peaks(spectrum_0.mz, spectrum_0.intensity, mark_indexes=[3,31])"
   ]
  },
  {
   "cell_type": "code",
   "execution_count": null,
   "id": "8c1ce69f-3d7a-428d-8833-00ca453d7e82",
   "metadata": {},
   "outputs": [],
   "source": [
    "plot_peaks(spectrum_1.mz, spectrum_1.intensity, mark_indexes=[21])"
   ]
  },
  {
   "cell_type": "code",
   "execution_count": null,
   "id": "7194366a-b7fb-42d8-abd4-8672e79ae8c2",
   "metadata": {},
   "outputs": [],
   "source": [
    "spectrum_0.params"
   ]
  },
  {
   "cell_type": "code",
   "execution_count": null,
   "id": "9bffa4dc-84f9-4eaf-8d63-b90b6214b2e3",
   "metadata": {},
   "outputs": [],
   "source": [
    "spectrum_1.params"
   ]
  },
  {
   "cell_type": "code",
   "execution_count": null,
   "id": "fd68c46c-9395-4fc8-86fb-47ab6b951324",
   "metadata": {},
   "outputs": [],
   "source": []
  },
  {
   "cell_type": "code",
   "execution_count": null,
   "id": "221d4944-e7a4-4670-a690-518c9d07087d",
   "metadata": {},
   "outputs": [],
   "source": [
    "target_pair.spectrums"
   ]
  },
  {
   "cell_type": "code",
   "execution_count": null,
   "id": "6cee276d-01a7-46ee-ba77-9f6c00bfd7d3",
   "metadata": {},
   "outputs": [],
   "source": [
    "target_pair.indexes_tani"
   ]
  },
  {
   "cell_type": "code",
   "execution_count": null,
   "id": "73474c01-454e-4d35-b7cb-cb4c0b399501",
   "metadata": {},
   "outputs": [],
   "source": [
    "sklearn_model.predict_from_molecule_pair(target_pair)"
   ]
  },
  {
   "cell_type": "code",
   "execution_count": null,
   "id": "dc13325a-10ee-4135-8f71-e3f14fbf24db",
   "metadata": {},
   "outputs": [],
   "source": []
  },
  {
   "cell_type": "code",
   "execution_count": null,
   "id": "c3fa4fc1-a32a-48a5-ae40-89ba7001ba24",
   "metadata": {},
   "outputs": [],
   "source": []
  }
 ],
 "metadata": {
  "kernelspec": {
   "display_name": "Python 3 (ipykernel)",
   "language": "python",
   "name": "python3"
  },
  "language_info": {
   "codemirror_mode": {
    "name": "ipython",
    "version": 3
   },
   "file_extension": ".py",
   "mimetype": "text/x-python",
   "name": "python",
   "nbconvert_exporter": "python",
   "pygments_lexer": "ipython3",
   "version": "3.11.7"
  }
 },
 "nbformat": 4,
 "nbformat_minor": 5
}
