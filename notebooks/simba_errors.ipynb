{
 "cells": [
  {
   "cell_type": "code",
   "execution_count": 1,
   "id": "a4ec905f-fea6-4936-bdbd-ae182565db4b",
   "metadata": {},
   "outputs": [],
   "source": [
    "%load_ext autoreload\n",
    "%autoreload 2"
   ]
  },
  {
   "cell_type": "code",
   "execution_count": 2,
   "id": "a819ca7e-3185-465a-8941-745e888ed73c",
   "metadata": {},
   "outputs": [],
   "source": [
    "#!pip install pandas\n",
    "#!pip install tqdm\n",
    "\n",
    "#!pip install scipy\n",
    "#!pip install matchms\n",
    "#!pip install scikit-learn\n",
    "#!pip install spec2vec\n",
    "#!pip install seaborn"
   ]
  },
  {
   "cell_type": "code",
   "execution_count": 3,
   "id": "3e124ad5-b4f1-41fc-b96d-8dd9c7bf6923",
   "metadata": {},
   "outputs": [],
   "source": [
    "import os\n",
    "os.chdir('/Users/sebas/projects/metabolomics')\n",
    "os.environ[\"PYTORCH_ENABLE_MPS_FALLBACK\"] = \"1\""
   ]
  },
  {
   "cell_type": "code",
   "execution_count": 4,
   "id": "92716072-b74f-4d84-bb75-dd4b5a064159",
   "metadata": {},
   "outputs": [],
   "source": [
    "from src.transformers.sklearn_model import SklearnModel"
   ]
  },
  {
   "cell_type": "code",
   "execution_count": 252,
   "id": "78d46b88-2799-4df8-b15a-b9a482082faa",
   "metadata": {},
   "outputs": [],
   "source": [
    "import gensim\n",
    "from src.load_data import LoadData\n",
    "from src.config import Config\n",
    "from matchms import calculate_scores\n",
    "from matchms.importing import load_from_mgf,load_from_msp\n",
    "import matchms.filtering as msfilters\n",
    "from spec2vec import SpectrumDocument\n",
    "from spec2vec.model_building import train_new_word2vec_model\n",
    "from tqdm import tqdm\n",
    "from src.loader_saver import LoaderSaver\n",
    "import itertools\n",
    "import numpy as np\n",
    "from matchms.importing import load_from_msp\n",
    "from matchms.similarity import ModifiedCosine\n",
    "from scipy.stats import spearmanr\n",
    "import dill\n",
    "from src.plotting import Plotting\n",
    "from src.load_data import LoadData\n",
    "from sklearn.model_selection import train_test_split\n",
    "from src.train_utils import TrainUtils\n",
    "from src.preprocessor import Preprocessor\n",
    "from matchms.filtering import add_fingerprint\n",
    "import pickle\n",
    "import sys\n",
    "from src.config import Config\n",
    "from src.parser import Parser\n",
    "from datetime import datetime\n",
    "from src.loader_saver import LoaderSaver\n",
    "from src.spec2vec_comparison import Spec2VecComparison\n",
    "from src.ms2deepscore_comparison import MS2DeepScoreComparison\n",
    "from src.molecular_pairs_set import MolecularPairsSet\n",
    "from src.molecule_pairs_opt import MoleculePairsOpt\n",
    "from scipy.stats import spearmanr\n",
    "import matplotlib.pyplot as plt"
   ]
  },
  {
   "cell_type": "code",
   "execution_count": 6,
   "id": "41e5213b-c01c-4756-83c0-f09832fa98f6",
   "metadata": {},
   "outputs": [],
   "source": [
    "from src.transformers.embedder import Embedder"
   ]
  },
  {
   "cell_type": "code",
   "execution_count": 7,
   "id": "eac154ce-472f-41b5-9909-4dbb7d3b69ce",
   "metadata": {},
   "outputs": [
    {
     "name": "stdout",
     "output_type": "stream",
     "text": [
      "ALL_GNPS_NO_PROPOGATED_wb.mgf\n",
      "GNPS-NIH-NATURALPRODUCTSLIBRARY.mgf\n",
      "all_spectrums_gnps.pkl\n",
      "all_spectrums_gnps_nist_20240130_gnps_nist_janssen.pkl\n",
      "all_spectrums_janssen.pkl\n",
      "all_spectrums_nist.pkl\n",
      "best_model.ckpt\n",
      "best_model_128n_10_layers_20240209.ckpt\n",
      "best_model_128n_5_layers_20240219_elementwise.ckpt\n",
      "best_model_128n_5_layers_20240229.ckpt\n",
      "best_model_128n_5_layers_20240303.ckpt\n",
      "best_model_20240301.ckpt\n",
      "best_model_20240318_lib_cos_sim.ckpt\n",
      "drug_plus.mgf\n",
      "\u001b[31mhr_msms_nist_all.MSP\u001b[m\u001b[m*\n",
      "hr_msms_nist_sample.MSP\n",
      "merged_gnps_nist_20240118_gnps_nist_janssen.pkl\n",
      "merged_gnps_nist_20240207_gnps_nist_janssen_15_millions.pkl\n",
      "merged_gnps_nist_20240227_gnps_nist_janssen_20_millions_OUTSIDE_MAX_DIFF_NO_JANSSEN.pkl\n",
      "merged_gnps_nist_20240311_unique_smiles_1_million.pkl\n",
      "ms2deepscore_positive_10k_1000_1000_1000_500.hdf5\n",
      "spec2vec_AllPositive_ratio05_filtered_201101_iter_15.model\n",
      "spec2vec_AllPositive_ratio05_filtered_201101_iter_15.model.trainables.syn1neg.npy\n",
      "spec2vec_AllPositive_ratio05_filtered_201101_iter_15.model.wv.vectors.npy\n",
      "to_export_gnps_nist.pkl\n",
      "uniformed_molecule_pairs_test.pkl\n"
     ]
    }
   ],
   "source": [
    "ls /Users/sebas/projects/data"
   ]
  },
  {
   "cell_type": "markdown",
   "id": "028ff950-33cd-48f2-9d00-7c0f4c5cbf45",
   "metadata": {},
   "source": [
    "## Parameters"
   ]
  },
  {
   "cell_type": "code",
   "execution_count": 24,
   "id": "43dbf860-55c4-484f-b14d-b4557cbef8a3",
   "metadata": {},
   "outputs": [],
   "source": [
    "data_folder= '/Users/sebas/projects/data/'\n",
    "dataset_path = data_folder + 'uniformed_molecule_pairs_test.pkl'\n",
    "gnps_path =  data_folder + 'ALL_GNPS_NO_PROPOGATED_wb.mgf'\n",
    "janssen_path = data_folder + 'drug_plus.mgf'\n",
    "nist_path = data_folder + 'hr_msms_nist_all.MSP'\n",
    "output_pairs_file= data_folder + 'molecular_pairs.pkl'\n",
    "output_nist_file= data_folder + 'all_spectrums_nist.pkl'\n",
    "output_gnps_file= data_folder + 'all_spectrums_gnps.pkl'\n",
    "output_janssen_file= data_folder + 'all_spectrums_janssen.pkl'\n",
    "model_spec2vec_file = data_folder + 'spec2vec_AllPositive_ratio05_filtered_201101_iter_15.model'\n",
    "model_ms2d_file= data_folder + 'ms2deepscore_positive_10k_1000_1000_1000_500.hdf5'\n",
    "#uniformed_molecule_pairs_test_path= data_folder +'uniformed_molecule_pairs_test.pkl'\n",
    "uniformed_molecule_pairs_test_path= data_folder +'merged_gnps_nist_20240311_unique_smiles_1_million.pkl'\n",
    "#transformer_path = data_folder + 'best_model_128n_5_layers_20240219_elementwise.ckpt'\n",
    "transformer_path = data_folder + 'best_model_20240318_lib_cos_sim.ckpt'"
   ]
  },
  {
   "cell_type": "code",
   "execution_count": 9,
   "id": "e5c06fe2-c7ff-429e-b6f6-46bebafcbdec",
   "metadata": {},
   "outputs": [],
   "source": [
    "THRESHOLD_ANALOG=0.7"
   ]
  },
  {
   "cell_type": "code",
   "execution_count": 10,
   "id": "4df8ff1f-6594-4f92-97de-552b8f8083cf",
   "metadata": {},
   "outputs": [],
   "source": [
    "load_molecule_pairs_file= True\n",
    "only_use_gnps=False"
   ]
  },
  {
   "cell_type": "code",
   "execution_count": 11,
   "id": "e6b7e1d9-0c4a-43a6-ace7-fcb7188e6a00",
   "metadata": {},
   "outputs": [],
   "source": [
    "## Load spectrum using spectrumutils"
   ]
  },
  {
   "cell_type": "code",
   "execution_count": 12,
   "id": "746d630f-02ed-4c46-a7c6-0785faf50cde",
   "metadata": {},
   "outputs": [],
   "source": [
    "config=Config()"
   ]
  },
  {
   "cell_type": "markdown",
   "id": "d93d3860-7054-499a-8970-fb992a64fb41",
   "metadata": {},
   "source": [
    "## Load molecular pairs"
   ]
  },
  {
   "cell_type": "code",
   "execution_count": 310,
   "id": "f1b8e6a8-a5d1-4dc9-bded-c9c04ae527ff",
   "metadata": {},
   "outputs": [],
   "source": [
    "\n",
    "if load_molecule_pairs_file:\n",
    "        with open(uniformed_molecule_pairs_test_path, 'rb') as file:\n",
    "            dataset = dill.load(file)\n",
    "        original_molecule_pairs= dataset['uniformed_molecule_pairs_test']\n",
    "else:\n",
    "        number_pairs=10000\n",
    "        original_molecule_pairs= TrainUtils.compute_all_tanimoto_results(all_spectrums, \n",
    "                                                                max_combinations=number_pairs, \n",
    "                                                                use_tqdm=True, \n",
    "                                                                max_mass_diff=config.MAX_MASS_DIFF, \n",
    "                                                                min_mass_diff=config.MIN_MASS_DIFF)"
   ]
  },
  {
   "cell_type": "code",
   "execution_count": 311,
   "id": "80a2a4bb-1afc-4c3b-983f-e726ba510281",
   "metadata": {},
   "outputs": [
    {
     "data": {
      "text/plain": [
       "40940"
      ]
     },
     "execution_count": 311,
     "metadata": {},
     "output_type": "execute_result"
    }
   ],
   "source": [
    "len(original_molecule_pairs)"
   ]
  },
  {
   "cell_type": "code",
   "execution_count": null,
   "id": "c04ad4ce-c609-4c98-bf68-864fc820d4d4",
   "metadata": {},
   "outputs": [],
   "source": []
  },
  {
   "cell_type": "code",
   "execution_count": 312,
   "id": "a0267d0f-9730-4d1d-9d02-8ba040c494ee",
   "metadata": {},
   "outputs": [],
   "source": [
    "if only_use_gnps:\n",
    "    molecule_pairs = original_molecule_pairs.get_gnps_pairs()\n",
    "else:\n",
    "    molecule_pairs=original_molecule_pairs"
   ]
  },
  {
   "cell_type": "code",
   "execution_count": 313,
   "id": "d0541bcd-a836-4066-b0a4-870d2877f476",
   "metadata": {},
   "outputs": [
    {
     "data": {
      "text/plain": [
       "40940"
      ]
     },
     "execution_count": 313,
     "metadata": {},
     "output_type": "execute_result"
    }
   ],
   "source": [
    "len(molecule_pairs)"
   ]
  },
  {
   "cell_type": "markdown",
   "id": "bad3dea3-8585-481a-a6a2-8d7222f8629f",
   "metadata": {},
   "source": [
    "## Our model"
   ]
  },
  {
   "cell_type": "code",
   "execution_count": 315,
   "id": "57c783cb-40d2-4afd-9aa3-ffa053aa412d",
   "metadata": {},
   "outputs": [],
   "source": [
    "from src.transformers.sklearn_model import SklearnModel"
   ]
  },
  {
   "cell_type": "code",
   "execution_count": 316,
   "id": "a797a3bd-65ba-405a-b81c-f14b6c80c87d",
   "metadata": {},
   "outputs": [],
   "source": [
    "#temp_molecule_pairs= MolecularPairsSet(spectrums= molecule_pairs.spectrums, \n",
    "#                                      indexes_tani =molecule_pairs.indexes_tani)\n",
    "temp_molecule_pairs= molecule_pairs"
   ]
  },
  {
   "cell_type": "code",
   "execution_count": 317,
   "id": "d12f8528-7385-4fae-ba79-ec10627e95fe",
   "metadata": {},
   "outputs": [],
   "source": [
    "#model = Embedder.load_from_checkpoint(\n",
    " #           checkpoint_path=transformer_path, d_model=config.D_MODEL, n_layers=config.N_LAYERS\n",
    "#        )"
   ]
  },
  {
   "cell_type": "code",
   "execution_count": 318,
   "id": "ec94ae5a-2596-4dfc-8905-2a80a8bbae5d",
   "metadata": {},
   "outputs": [
    {
     "name": "stderr",
     "output_type": "stream",
     "text": [
      "GPU available: True (mps), used: True\n",
      "TPU available: False, using: 0 TPU cores\n",
      "IPU available: False, using: 0 IPUs\n",
      "HPU available: False, using: 0 HPUs\n"
     ]
    },
    {
     "name": "stdout",
     "output_type": "stream",
     "text": [
      "Using cosine library from Pytorch?: True\n"
     ]
    }
   ],
   "source": [
    "model =SklearnModel(model_path=transformer_path, d_model=config.D_MODEL, n_layers=config.N_LAYERS)"
   ]
  },
  {
   "cell_type": "code",
   "execution_count": 319,
   "id": "34fa4bc8-0642-4614-aace-690275464c67",
   "metadata": {},
   "outputs": [],
   "source": [
    "#next(iter(dataloader_test))"
   ]
  },
  {
   "cell_type": "code",
   "execution_count": 320,
   "id": "146c003b-fedf-43d0-bfd2-542536fbc64e",
   "metadata": {},
   "outputs": [
    {
     "data": {
      "text/plain": [
       "'1'"
      ]
     },
     "execution_count": 320,
     "metadata": {},
     "output_type": "execute_result"
    }
   ],
   "source": [
    "os.environ[\"PYTORCH_ENABLE_MPS_FALLBACK\"] "
   ]
  },
  {
   "cell_type": "code",
   "execution_count": 327,
   "id": "a949d603-6474-4fda-a552-14875275866c",
   "metadata": {},
   "outputs": [
    {
     "name": "stdout",
     "output_type": "stream",
     "text": [
      "Preprocessing all the data ...\n"
     ]
    },
    {
     "name": "stderr",
     "output_type": "stream",
     "text": [
      "33719it [00:00, 77322.04it/s]\n"
     ]
    },
    {
     "name": "stdout",
     "output_type": "stream",
     "text": [
      "Finished preprocessing \n",
      "loading data\n",
      "Normalizing intensities\n",
      "Creating dictionaries\n"
     ]
    },
    {
     "name": "stderr",
     "output_type": "stream",
     "text": [
      "100%|█████████████████████████████████████████████████████████████████████████████████████████████████████████████████████████████████████████████████████████████████████| 40940/40940 [00:00<00:00, 112267.71it/s]\n"
     ]
    },
    {
     "name": "stdout",
     "output_type": "stream",
     "text": [
      "Preprocessing all the data ...\n"
     ]
    },
    {
     "name": "stderr",
     "output_type": "stream",
     "text": [
      "33719it [00:00, 77185.78it/s]\n"
     ]
    },
    {
     "name": "stdout",
     "output_type": "stream",
     "text": [
      "Finished preprocessing \n",
      "loading data\n",
      "Normalizing intensities\n",
      "Creating dictionaries\n"
     ]
    },
    {
     "name": "stderr",
     "output_type": "stream",
     "text": [
      "/Users/sebas/miniconda3/envs/transformers/lib/python3.11/site-packages/lightning/pytorch/trainer/connectors/data_connector.py:441: The 'predict_dataloader' does not have many workers which may be a bottleneck. Consider increasing the value of the `num_workers` argument` to `num_workers=10` in the `DataLoader` to improve performance.\n"
     ]
    },
    {
     "data": {
      "application/vnd.jupyter.widget-view+json": {
       "model_id": "1b3c2b70e4f4404386344f274d94d1f8",
       "version_major": 2,
       "version_minor": 0
      },
      "text/plain": [
       "Predicting: |                                                                                                 …"
      ]
     },
     "metadata": {},
     "output_type": "display_data"
    },
    {
     "name": "stderr",
     "output_type": "stream",
     "text": [
      "To copy construct from a tensor, it is recommended to use sourceTensor.clone().detach() or sourceTensor.clone().detach().requires_grad_(True), rather than torch.tensor(sourceTensor).\n",
      "To copy construct from a tensor, it is recommended to use sourceTensor.clone().detach() or sourceTensor.clone().detach().requires_grad_(True), rather than torch.tensor(sourceTensor).\n"
     ]
    }
   ],
   "source": [
    "scores_trans=model.predict_from_molecule_pair(temp_molecule_pairs)"
   ]
  },
  {
   "cell_type": "code",
   "execution_count": 328,
   "id": "bc954ea0-3f87-49af-99a8-d01058f5a752",
   "metadata": {},
   "outputs": [
    {
     "data": {
      "text/plain": [
       "array([0.03232374, 0.29673687, 0.02780199, ..., 0.81697559, 0.97845054,\n",
       "       0.92268348])"
      ]
     },
     "execution_count": 328,
     "metadata": {},
     "output_type": "execute_result"
    }
   ],
   "source": [
    "scores_trans"
   ]
  },
  {
   "cell_type": "code",
   "execution_count": 329,
   "id": "2091427a-dc4e-43e3-b644-2b85c608c5aa",
   "metadata": {},
   "outputs": [],
   "source": [
    "tanimoto_trans = [row[2] for row in molecule_pairs.indexes_tani]"
   ]
  },
  {
   "cell_type": "code",
   "execution_count": 330,
   "id": "4ccaa945-d1d3-4221-b94f-a1418f7ec7a1",
   "metadata": {},
   "outputs": [],
   "source": [
    "tanimoto_trans_binary=[1 if t>THRESHOLD_ANALOG else 0 for t in tanimoto_trans]\n",
    "scores_trans=[s if s>0 else 0 for s in (scores_trans)]"
   ]
  },
  {
   "cell_type": "code",
   "execution_count": 331,
   "id": "48e03e8a-8541-44bc-896f-68c3b455914d",
   "metadata": {},
   "outputs": [
    {
     "data": {
      "text/plain": [
       "SignificanceResult(statistic=0.9001548735189688, pvalue=0.0)"
      ]
     },
     "execution_count": 331,
     "metadata": {},
     "output_type": "execute_result"
    }
   ],
   "source": [
    "spearman_trans = spearmanr(tanimoto_trans, scores_trans)\n",
    "spearman_trans"
   ]
  },
  {
   "cell_type": "code",
   "execution_count": 332,
   "id": "8e1b9a98-a532-4e4b-b065-d352644cd8c2",
   "metadata": {},
   "outputs": [
    {
     "name": "stdout",
     "output_type": "stream",
     "text": [
      "tpr: [0.         0.00341964 0.02589155 ... 1.         1.         1.        ]\n",
      "fpr: [0.         0.         0.         ... 0.98206435 0.98213413 1.        ]\n"
     ]
    },
    {
     "data": {
      "text/plain": [
       "(array([0.        , 0.00341964, 0.02589155, ..., 1.        , 1.        ,\n",
       "        1.        ]),\n",
       " array([0.        , 0.        , 0.        , ..., 0.98206435, 0.98213413,\n",
       "        1.        ]))"
      ]
     },
     "execution_count": 332,
     "metadata": {},
     "output_type": "execute_result"
    },
    {
     "data": {
      "image/png": "[encoded data removed]",
      "text/plain": [
       "<Figure size 640x480 with 1 Axes>"
      ]
     },
     "metadata": {},
     "output_type": "display_data"
    }
   ],
   "source": [
    "Plotting.plot_roc_curve(tanimoto_trans_binary, scores_trans)"
   ]
  },
  {
   "cell_type": "code",
   "execution_count": 333,
   "id": "430cf9d3-24b2-49c5-ab12-bc4261e1ecf3",
   "metadata": {},
   "outputs": [],
   "source": [
    "temp_molecule_pairs.prediction = scores_trans"
   ]
  },
  {
   "cell_type": "code",
   "execution_count": 334,
   "id": "0a74187b-3639-4e7b-a548-66cace39a8b1",
   "metadata": {},
   "outputs": [],
   "source": [
    "## Separate false positives"
   ]
  },
  {
   "cell_type": "code",
   "execution_count": 335,
   "id": "924898f5-1517-45ba-82de-da363f026817",
   "metadata": {},
   "outputs": [],
   "source": [
    "molecule_fp = [m for m,s in zip(temp_molecule_pairs, scores_trans) if (s>THRESHOLD_ANALOG)and (m.similarity<THRESHOLD_ANALOG)]"
   ]
  },
  {
   "cell_type": "code",
   "execution_count": 336,
   "id": "bb2b4a17-da9b-4528-b916-8f233fbce258",
   "metadata": {},
   "outputs": [],
   "source": [
    "molecule_tp = [m for m,s in zip(temp_molecule_pairs, scores_trans) if (s>THRESHOLD_ANALOG)and (m.similarity>THRESHOLD_ANALOG)]"
   ]
  },
  {
   "cell_type": "code",
   "execution_count": 337,
   "id": "c07c4056-d4a6-43ee-b343-79a5ed1f3d52",
   "metadata": {},
   "outputs": [],
   "source": [
    "molecule_tn = [m for m,s in zip(temp_molecule_pairs, scores_trans) if (s<THRESHOLD_ANALOG)and (m.similarity<THRESHOLD_ANALOG)]"
   ]
  },
  {
   "cell_type": "code",
   "execution_count": 338,
   "id": "7ed2bbda-a523-405e-a7ab-4b1c70508822",
   "metadata": {},
   "outputs": [],
   "source": [
    "molecule_fn = [m for m,s in zip(temp_molecule_pairs, scores_trans) if (s<THRESHOLD_ANALOG)and (m.similarity>THRESHOLD_ANALOG)]"
   ]
  },
  {
   "cell_type": "code",
   "execution_count": 339,
   "id": "13efb252-24ef-41b1-8698-d1b18564950b",
   "metadata": {},
   "outputs": [],
   "source": [
    "## There is a difference in precursor mass difference?"
   ]
  },
  {
   "cell_type": "code",
   "execution_count": 340,
   "id": "16503cf1-8d18-438b-9dd3-04c5e6ed93e9",
   "metadata": {},
   "outputs": [],
   "source": [
    "diff_mass_fp = [abs(m.spectrum_object_1.precursor_mz - m.spectrum_object_0.precursor_mz) for m in molecule_fp]"
   ]
  },
  {
   "cell_type": "code",
   "execution_count": 341,
   "id": "e1795ead-368c-4e82-9e75-fe9a4c61408a",
   "metadata": {},
   "outputs": [],
   "source": [
    "diff_mass_tp = [abs(m.spectrum_object_1.precursor_mz - m.spectrum_object_0.precursor_mz) for m in molecule_tp]"
   ]
  },
  {
   "cell_type": "code",
   "execution_count": 342,
   "id": "6e3e953b-d761-4930-8ca7-1ec90620500a",
   "metadata": {},
   "outputs": [],
   "source": [
    "diff_mass_tn = [abs(m.spectrum_object_1.precursor_mz - m.spectrum_object_0.precursor_mz) for m in molecule_tn]"
   ]
  },
  {
   "cell_type": "code",
   "execution_count": 343,
   "id": "f7672618-aa1e-46ef-b264-01e88f7d7a5d",
   "metadata": {},
   "outputs": [],
   "source": [
    "diff_mass_fn = [abs(m.spectrum_object_1.precursor_mz - m.spectrum_object_0.precursor_mz) for m in molecule_fn]"
   ]
  },
  {
   "cell_type": "code",
   "execution_count": 344,
   "id": "561276c5-cf55-41c3-9078-0f4518b20999",
   "metadata": {},
   "outputs": [],
   "source": [
    "diff_mass_positives= diff_mass_tp + diff_mass_fn\n",
    "diff_mass_negatives = diff_mass_tn + diff_mass_fp"
   ]
  },
  {
   "cell_type": "code",
   "execution_count": 345,
   "id": "103f1678-d1d7-4dee-9e4b-6970af92b615",
   "metadata": {},
   "outputs": [
    {
     "data": {
      "text/plain": [
       "(9564, 2718)"
      ]
     },
     "execution_count": 345,
     "metadata": {},
     "output_type": "execute_result"
    }
   ],
   "source": [
    "len(molecule_tp), len(molecule_fn)"
   ]
  },
  {
   "cell_type": "code",
   "execution_count": 346,
   "id": "e9dafd6e-a054-41cc-a88a-eba3626f6802",
   "metadata": {},
   "outputs": [
    {
     "data": {
      "text/plain": [
       "(27429, 1229)"
      ]
     },
     "execution_count": 346,
     "metadata": {},
     "output_type": "execute_result"
    }
   ],
   "source": [
    "len(molecule_tn), len(molecule_fp)"
   ]
  },
  {
   "cell_type": "code",
   "execution_count": 347,
   "id": "0df3a593-c272-4f73-ae09-181808bc830f",
   "metadata": {},
   "outputs": [
    {
     "data": {
      "text/plain": [
       "Text(0.5, 0, 'diff mass')"
      ]
     },
     "execution_count": 347,
     "metadata": {},
     "output_type": "execute_result"
    },
    {
     "data": {
      "image/png": "[encoded data removed]",
      "text/plain": [
       "<Figure size 640x480 with 1 Axes>"
      ]
     },
     "metadata": {},
     "output_type": "display_data"
    }
   ],
   "source": [
    "_= plt.hist(diff_mass_tp, label ='tp', alpha=0.5,bins=10, density=True)\n",
    "_= plt.hist(diff_mass_fn, label ='fn', alpha=0.5,bins=10, density=True)\n",
    "plt.legend()\n",
    "plt.grid()\n",
    "plt.ylabel('density')\n",
    "plt.xlabel('diff mass')"
   ]
  },
  {
   "cell_type": "code",
   "execution_count": 348,
   "id": "ecdec673-0d24-4e9a-8679-facb02ff59df",
   "metadata": {},
   "outputs": [
    {
     "data": {
      "text/plain": [
       "Text(0.5, 0, 'diff mass')"
      ]
     },
     "execution_count": 348,
     "metadata": {},
     "output_type": "execute_result"
    },
    {
     "data": {
      "image/png": "[encoded data removed]",
      "text/plain": [
       "<Figure size 640x480 with 1 Axes>"
      ]
     },
     "metadata": {},
     "output_type": "display_data"
    }
   ],
   "source": [
    "_=plt.hist(diff_mass_tn, label='tn', alpha=0.5, bins=30,density=True)\n",
    "_= plt.hist(diff_mass_fp, label ='fp', alpha=0.5,bins=30, density=True)\n",
    "plt.legend()\n",
    "plt.grid()\n",
    "plt.ylabel('density')\n",
    "plt.xlabel('diff mass')"
   ]
  },
  {
   "cell_type": "code",
   "execution_count": null,
   "id": "09818fa3-879f-4a38-97c1-ae76c6e23d3b",
   "metadata": {},
   "outputs": [],
   "source": []
  },
  {
   "cell_type": "code",
   "execution_count": 349,
   "id": "2398eb38-ddb4-4043-a100-385cbe8bb792",
   "metadata": {},
   "outputs": [
    {
     "data": {
      "text/plain": [
       "Text(0.5, 0, 'diff mass')"
      ]
     },
     "execution_count": 349,
     "metadata": {},
     "output_type": "execute_result"
    },
    {
     "data": {
      "image/png": "[encoded data removed]",
      "text/plain": [
       "<Figure size 640x480 with 1 Axes>"
      ]
     },
     "metadata": {},
     "output_type": "display_data"
    }
   ],
   "source": [
    "_=plt.hist(diff_mass_positives, label='all positives', alpha=0.5, bins=30,density=True)\n",
    "_= plt.hist(diff_mass_negatives, label ='all negatives', alpha=0.5,bins=30, density=True)\n",
    "plt.legend()\n",
    "plt.grid()\n",
    "plt.ylabel('density')\n",
    "plt.xlabel('diff mass')"
   ]
  },
  {
   "cell_type": "code",
   "execution_count": 352,
   "id": "0c7170cf-6da2-4e09-bad5-15d1064db1c2",
   "metadata": {},
   "outputs": [
    {
     "data": {
      "text/plain": [
       "(array([2.0386e+04, 5.2320e+03, 1.0630e+03, 4.0900e+02, 1.8100e+02,\n",
       "        8.0000e+01, 4.2000e+01, 2.0000e+01, 1.4000e+01, 2.0000e+00]),\n",
       " array([   0.     ,  162.99308,  325.98616,  488.97924,  651.97232,\n",
       "         814.9654 ,  977.95848, 1140.95156, 1303.94464, 1466.93772,\n",
       "        1629.9308 ]),\n",
       " <BarContainer object of 10 artists>)"
      ]
     },
     "execution_count": 352,
     "metadata": {},
     "output_type": "execute_result"
    },
    {
     "data": {
      "image/png": "[encoded data removed]",
      "text/plain": [
       "<Figure size 640x480 with 1 Axes>"
      ]
     },
     "metadata": {},
     "output_type": "display_data"
    }
   ],
   "source": [
    "plt.hist(diff_mass_tn)"
   ]
  },
  {
   "cell_type": "code",
   "execution_count": 353,
   "id": "343b43a5-f170-42a9-9a35-49b45840be55",
   "metadata": {},
   "outputs": [
    {
     "data": {
      "text/plain": [
       "(array([1.998e+03, 5.210e+02, 1.260e+02, 4.100e+01, 2.400e+01, 2.000e+00,\n",
       "        4.000e+00, 0.000e+00, 1.000e+00, 1.000e+00]),\n",
       " array([   0.     ,  116.84632,  233.69264,  350.53896,  467.38528,\n",
       "         584.2316 ,  701.07792,  817.92424,  934.77056, 1051.61688,\n",
       "        1168.4632 ]),\n",
       " <BarContainer object of 10 artists>)"
      ]
     },
     "execution_count": 353,
     "metadata": {},
     "output_type": "execute_result"
    },
    {
     "data": {
      "image/png": "[encoded data removed]",
      "text/plain": [
       "<Figure size 640x480 with 1 Axes>"
      ]
     },
     "metadata": {},
     "output_type": "display_data"
    }
   ],
   "source": [
    "plt.hist(diff_mass_fn)"
   ]
  },
  {
   "cell_type": "code",
   "execution_count": 354,
   "id": "802bc98e-472b-46aa-ba34-c4a75e49839f",
   "metadata": {},
   "outputs": [],
   "source": [
    "## Where the errors are ocurring more?\n",
    "mass_fp = [min(m.spectrum_object_1.precursor_mz,m.spectrum_object_0.precursor_mz) for m in molecule_fp]"
   ]
  },
  {
   "cell_type": "code",
   "execution_count": 355,
   "id": "817165ac-2203-4ab8-82bc-b5ecaab82f90",
   "metadata": {},
   "outputs": [],
   "source": [
    "mass_tp = [min(m.spectrum_object_1.precursor_mz,m.spectrum_object_0.precursor_mz) for m in molecule_tp]"
   ]
  },
  {
   "cell_type": "code",
   "execution_count": 356,
   "id": "5f2444f8-b362-4d87-b12c-9622b483e172",
   "metadata": {},
   "outputs": [],
   "source": [
    "mass_tn = [min(m.spectrum_object_1.precursor_mz,m.spectrum_object_0.precursor_mz) for m in molecule_tn]"
   ]
  },
  {
   "cell_type": "code",
   "execution_count": 357,
   "id": "eea7453c-1507-4736-bb4f-5c6cf0cf2251",
   "metadata": {},
   "outputs": [],
   "source": [
    "mass_fn = [min(m.spectrum_object_1.precursor_mz,m.spectrum_object_0.precursor_mz) for m in molecule_fn]"
   ]
  },
  {
   "cell_type": "code",
   "execution_count": 358,
   "id": "4b132f5f-cb97-47b0-b127-9fe67d31f4a0",
   "metadata": {},
   "outputs": [
    {
     "data": {
      "text/plain": [
       "Text(0.5, 0, 'mass')"
      ]
     },
     "execution_count": 358,
     "metadata": {},
     "output_type": "execute_result"
    },
    {
     "data": {
      "image/png": "[encoded data removed]",
      "text/plain": [
       "<Figure size 640x480 with 1 Axes>"
      ]
     },
     "metadata": {},
     "output_type": "display_data"
    }
   ],
   "source": [
    "_= plt.hist(mass_tp, label ='tp', alpha=0.5,bins=10, density=True)\n",
    "_= plt.hist(mass_fn, label ='fn', alpha=0.5,bins=10, density=True)\n",
    "plt.legend()\n",
    "plt.grid()\n",
    "plt.ylabel('density')\n",
    "plt.xlabel('mass')"
   ]
  },
  {
   "cell_type": "code",
   "execution_count": 359,
   "id": "154ee736-f370-4495-b4cd-3593282f3209",
   "metadata": {},
   "outputs": [
    {
     "data": {
      "text/plain": [
       "Text(0.5, 0, 'mass')"
      ]
     },
     "execution_count": 359,
     "metadata": {},
     "output_type": "execute_result"
    },
    {
     "data": {
      "image/png": "[encoded data removed]",
      "text/plain": [
       "<Figure size 640x480 with 1 Axes>"
      ]
     },
     "metadata": {},
     "output_type": "display_data"
    }
   ],
   "source": [
    "_=plt.hist(mass_tn, label='tn', alpha=0.5, bins=30,density=True)\n",
    "_= plt.hist(mass_fp, label ='fp', alpha=0.5,bins=30, density=True)\n",
    "plt.legend()\n",
    "plt.grid()\n",
    "plt.ylabel('density')\n",
    "plt.xlabel('mass')"
   ]
  },
  {
   "cell_type": "code",
   "execution_count": 360,
   "id": "a6bb372a-bfba-4020-aeaf-b0e6803f1ce4",
   "metadata": {},
   "outputs": [
    {
     "data": {
      "text/plain": [
       "Text(0.5, 0, 'mass')"
      ]
     },
     "execution_count": 360,
     "metadata": {},
     "output_type": "execute_result"
    },
    {
     "data": {
      "image/png": "[encoded data removed]",
      "text/plain": [
       "<Figure size 640x480 with 1 Axes>"
      ]
     },
     "metadata": {},
     "output_type": "display_data"
    }
   ],
   "source": [
    "_=plt.hist(mass_tp + mass_fn, label='all positives', alpha=0.5, bins=30,density=True)\n",
    "_= plt.hist(mass_tn + mass_fp, label ='all negatives', alpha=0.5,bins=30, density=True)\n",
    "plt.legend()\n",
    "plt.grid()\n",
    "plt.ylabel('density')\n",
    "plt.xlabel('mass')"
   ]
  },
  {
   "cell_type": "code",
   "execution_count": 361,
   "id": "b4e2db32-ca94-41a5-962e-1d94913571b8",
   "metadata": {},
   "outputs": [
    {
     "data": {
      "text/plain": [
       "Text(0.5, 0, 'mass')"
      ]
     },
     "execution_count": 361,
     "metadata": {},
     "output_type": "execute_result"
    },
    {
     "data": {
      "image/png": "[encoded data removed]",
      "text/plain": [
       "<Figure size 640x480 with 1 Axes>"
      ]
     },
     "metadata": {},
     "output_type": "display_data"
    }
   ],
   "source": [
    "##all masses\n",
    "_=plt.hist(mass_tp + mass_fn+mass_tn + mass_fp, label='all masses', alpha=0.5, bins=50,density=True)\n",
    "plt.legend()\n",
    "plt.grid()\n",
    "plt.ylabel('density')\n",
    "plt.xlabel('mass')"
   ]
  },
  {
   "cell_type": "code",
   "execution_count": 362,
   "id": "12f29f74-ebf2-408e-b7a2-1baa4d528f76",
   "metadata": {},
   "outputs": [
    {
     "data": {
      "text/plain": [
       "<matplotlib.collections.PathCollection at 0x37c75f010>"
      ]
     },
     "execution_count": 362,
     "metadata": {},
     "output_type": "execute_result"
    },
    {
     "data": {
      "image/png": "[encoded data removed]",
      "text/plain": [
       "<Figure size 640x480 with 1 Axes>"
      ]
     },
     "metadata": {},
     "output_type": "display_data"
    }
   ],
   "source": [
    "plt.scatter(mass_tp,diff_mass_tp, alpha=0.01)"
   ]
  },
  {
   "cell_type": "code",
   "execution_count": 363,
   "id": "7464d183-7039-402c-9ce3-6d0ba4e7ff3d",
   "metadata": {},
   "outputs": [
    {
     "data": {
      "text/plain": [
       "<matplotlib.collections.PathCollection at 0x373f3a250>"
      ]
     },
     "execution_count": 363,
     "metadata": {},
     "output_type": "execute_result"
    },
    {
     "data": {
      "image/png": "[encoded data removed]",
      "text/plain": [
       "<Figure size 640x480 with 1 Axes>"
      ]
     },
     "metadata": {},
     "output_type": "display_data"
    }
   ],
   "source": [
    "plt.scatter(mass_tn,diff_mass_tn, alpha=0.05)"
   ]
  },
  {
   "cell_type": "markdown",
   "id": "66d3e2be-676e-4e75-ab4f-e05947df6c9c",
   "metadata": {},
   "source": [
    "## Are pairs with similarity equal 1 more prone to errors?"
   ]
  },
  {
   "cell_type": "code",
   "execution_count": null,
   "id": "01f7f8c4-6682-4c4a-9a4d-fd55f427f70b",
   "metadata": {},
   "outputs": [],
   "source": []
  },
  {
   "cell_type": "code",
   "execution_count": 364,
   "id": "06cd1888-8cef-4c20-b169-ff1208e3e706",
   "metadata": {},
   "outputs": [],
   "source": [
    "mol_1= [{'m':m,'score':s} for m,s in zip(temp_molecule_pairs,scores_trans) if m.similarity==1]"
   ]
  },
  {
   "cell_type": "code",
   "execution_count": 365,
   "id": "8c1c8ed5-8553-4812-bcdb-80f1ed9e3ba5",
   "metadata": {},
   "outputs": [],
   "source": [
    "mol_090= [{'m':m,'score':s} for m,s in zip(temp_molecule_pairs,scores_trans)  if ((m.similarity<1)and(m.similarity>0.90))]"
   ]
  },
  {
   "cell_type": "code",
   "execution_count": 366,
   "id": "de955570-63ab-47ce-89ab-894f25705f8e",
   "metadata": {},
   "outputs": [
    {
     "data": {
      "text/plain": [
       "2401"
      ]
     },
     "execution_count": 366,
     "metadata": {},
     "output_type": "execute_result"
    }
   ],
   "source": [
    "len(mol_1)"
   ]
  },
  {
   "cell_type": "code",
   "execution_count": 367,
   "id": "2bdeb5df-6a4e-4262-a051-e79dbb3fa260",
   "metadata": {},
   "outputs": [
    {
     "data": {
      "text/plain": [
       "1693"
      ]
     },
     "execution_count": 367,
     "metadata": {},
     "output_type": "execute_result"
    }
   ],
   "source": [
    "len(mol_090)"
   ]
  },
  {
   "cell_type": "code",
   "execution_count": 368,
   "id": "056e8a0c-88f0-4751-bae9-26f70c82442b",
   "metadata": {},
   "outputs": [],
   "source": [
    "scores_1 = np.array([m['score'] for m in mol_1])"
   ]
  },
  {
   "cell_type": "code",
   "execution_count": 369,
   "id": "03c8857e-607d-4a15-bb57-145f15eb3553",
   "metadata": {},
   "outputs": [],
   "source": [
    "scores_090 = np.array([m['score'] for m in mol_090])"
   ]
  },
  {
   "cell_type": "code",
   "execution_count": 370,
   "id": "6154b1ed-d1df-497a-b09f-4a021ca9f00f",
   "metadata": {},
   "outputs": [
    {
     "data": {
      "text/plain": [
       "<matplotlib.legend.Legend at 0x374e1af50>"
      ]
     },
     "execution_count": 370,
     "metadata": {},
     "output_type": "execute_result"
    },
    {
     "data": {
      "image/png": "[encoded data removed]",
      "text/plain": [
       "<Figure size 640x480 with 1 Axes>"
      ]
     },
     "metadata": {},
     "output_type": "display_data"
    }
   ],
   "source": [
    "_=plt.hist(scores_1, label='sim=1')\n",
    "plt.ylabel('freq')\n",
    "plt.grid()\n",
    "plt.xlabel('predicted similarity')\n",
    "plt.legend()"
   ]
  },
  {
   "cell_type": "code",
   "execution_count": 371,
   "id": "59bb3e5c-06d3-4b74-a558-1fc11e5b56bd",
   "metadata": {},
   "outputs": [
    {
     "data": {
      "text/plain": [
       "<matplotlib.legend.Legend at 0x376046950>"
      ]
     },
     "execution_count": 371,
     "metadata": {},
     "output_type": "execute_result"
    },
    {
     "data": {
      "image/png": "[encoded data removed]",
      "text/plain": [
       "<Figure size 640x480 with 1 Axes>"
      ]
     },
     "metadata": {},
     "output_type": "display_data"
    }
   ],
   "source": [
    "_=plt.hist(scores_090, label='0.9<sim<1')\n",
    "plt.ylabel('freq')\n",
    "plt.grid()\n",
    "plt.xlabel('predicted similarity')\n",
    "plt.legend()"
   ]
  },
  {
   "cell_type": "code",
   "execution_count": 372,
   "id": "c5e1ac4d-f4d5-4e8a-86b1-0bd6c5f02fce",
   "metadata": {},
   "outputs": [
    {
     "data": {
      "text/plain": [
       "0.018742190753852563"
      ]
     },
     "execution_count": 372,
     "metadata": {},
     "output_type": "execute_result"
    }
   ],
   "source": [
    "len(scores_1[scores_1<0.5])/len(mol_1)"
   ]
  },
  {
   "cell_type": "code",
   "execution_count": 373,
   "id": "11f784bb-9ff4-462d-915b-771862e241c5",
   "metadata": {},
   "outputs": [
    {
     "data": {
      "text/plain": [
       "45"
      ]
     },
     "execution_count": 373,
     "metadata": {},
     "output_type": "execute_result"
    }
   ],
   "source": [
    "len(scores_1[scores_1<0.5])"
   ]
  },
  {
   "cell_type": "code",
   "execution_count": 374,
   "id": "8f81a77d-63c7-42e5-bfd7-691de1d7fe9e",
   "metadata": {},
   "outputs": [
    {
     "data": {
      "text/plain": [
       "0.05670407560543414"
      ]
     },
     "execution_count": 374,
     "metadata": {},
     "output_type": "execute_result"
    }
   ],
   "source": [
    "len(scores_090[scores_090<0.5])/len(scores_090)"
   ]
  },
  {
   "cell_type": "code",
   "execution_count": 375,
   "id": "c55ee446-0ab5-45e7-8695-a9f102d9f48e",
   "metadata": {},
   "outputs": [
    {
     "data": {
      "text/plain": [
       "96"
      ]
     },
     "execution_count": 375,
     "metadata": {},
     "output_type": "execute_result"
    }
   ],
   "source": [
    "len(scores_090[scores_090<0.5])"
   ]
  },
  {
   "cell_type": "code",
   "execution_count": 376,
   "id": "904dca6f-9d9a-4a6f-a31c-b0a2396b89bb",
   "metadata": {},
   "outputs": [
    {
     "data": {
      "text/plain": [
       "array([0.23490189, 0.36573255, 0.419792  , 0.19604167, 0.43839139,\n",
       "       0.07561256, 0.41279209, 0.25057891, 0.07561256, 0.19604167,\n",
       "       0.48934966, 0.23318326, 0.36573255, 0.26110935, 0.25057891,\n",
       "       0.21658131, 0.07254265, 0.46451876, 0.46437103, 0.41279209,\n",
       "       0.44841343, 0.35271049, 0.26110935, 0.20853691, 0.29893491,\n",
       "       0.44841343, 0.34494674, 0.22991744, 0.20853691, 0.45120984,\n",
       "       0.45120984, 0.38426635, 0.35271049, 0.39469385, 0.18245582,\n",
       "       0.320236  , 0.29893491, 0.21658131, 0.34494674, 0.19844367,\n",
       "       0.32048142, 0.46437103, 0.34395003, 0.19456744, 0.07254265])"
      ]
     },
     "execution_count": 376,
     "metadata": {},
     "output_type": "execute_result"
    }
   ],
   "source": [
    "scores_1[scores_1<0.5]"
   ]
  },
  {
   "cell_type": "code",
   "execution_count": 377,
   "id": "6583260f-3771-49ee-a1b5-faec990efb66",
   "metadata": {},
   "outputs": [
    {
     "data": {
      "text/plain": [
       "array([0.29684758, 0.45201153, 0.30625185, 0.31407544, 0.47789246,\n",
       "       0.3774882 , 0.3140437 , 0.29536787, 0.31581011, 0.45002609,\n",
       "       0.45517129, 0.15220572, 0.26897433, 0.42936361, 0.47789246,\n",
       "       0.3624965 , 0.29254726, 0.37947464, 0.10210542, 0.48475894,\n",
       "       0.29740521, 0.10210542, 0.48223066, 0.48470923, 0.43910214,\n",
       "       0.41833344, 0.44060394, 0.30662978, 0.49692464, 0.47086024,\n",
       "       0.18548031, 0.29740521, 0.23087373, 0.23087373, 0.20900545,\n",
       "       0.4627592 , 0.33996832, 0.34167358, 0.3774882 , 0.44060394,\n",
       "       0.21210305, 0.22500271, 0.36817342, 0.31177837, 0.23442566,\n",
       "       0.48379511, 0.20900545, 0.2846266 , 0.44874567, 0.36346596,\n",
       "       0.36743623, 0.23151559, 0.41833344, 0.22243321, 0.36346596,\n",
       "       0.36743623, 0.4953934 , 0.4627592 , 0.31090575, 0.2846266 ,\n",
       "       0.37711549, 0.15220572, 0.46070391, 0.45002609, 0.29254726,\n",
       "       0.22500271, 0.47193706, 0.34169981, 0.37947464, 0.3140437 ,\n",
       "       0.31177837, 0.37711549, 0.48470923, 0.30809754, 0.46070391,\n",
       "       0.4953934 , 0.30809754, 0.22243321, 0.30469033, 0.38433152,\n",
       "       0.3112722 , 0.28069085, 0.49204123, 0.31090575, 0.45517129,\n",
       "       0.35135502, 0.31581011, 0.47193706, 0.48379511, 0.34167358,\n",
       "       0.43910214, 0.33996832, 0.35659045, 0.30469033, 0.45100901,\n",
       "       0.49204123])"
      ]
     },
     "execution_count": 377,
     "metadata": {},
     "output_type": "execute_result"
    }
   ],
   "source": [
    "scores_090[scores_090<0.5]"
   ]
  },
  {
   "cell_type": "code",
   "execution_count": 378,
   "id": "ad0ab606-a965-4b42-aace-efbd30b3a6f7",
   "metadata": {},
   "outputs": [
    {
     "data": {
      "text/plain": [
       "40940"
      ]
     },
     "execution_count": 378,
     "metadata": {},
     "output_type": "execute_result"
    }
   ],
   "source": [
    "len(temp_molecule_pairs)"
   ]
  },
  {
   "cell_type": "code",
   "execution_count": 379,
   "id": "100e7d78-12e1-41a6-9101-cc2e4b01adc5",
   "metadata": {},
   "outputs": [],
   "source": [
    "bad_mol_1 = [{'m':m,'score':s} for m,s in zip(temp_molecule_pairs,scores_trans)  if ((m.similarity==1)and(s<0.3))]"
   ]
  },
  {
   "cell_type": "code",
   "execution_count": 380,
   "id": "43a81053-7baf-462d-aef1-50de7e3986b0",
   "metadata": {},
   "outputs": [
    {
     "data": {
      "text/plain": [
       "[{'m': <src.molecule_pair.MoleculePair at 0x375b6c610>,\n",
       "  'score': 0.03232374042272568},\n",
       " {'m': <src.molecule_pair.MoleculePair at 0x375b6f0d0>,\n",
       "  'score': 0.29673686623573303},\n",
       " {'m': <src.molecule_pair.MoleculePair at 0x375b6ee50>,\n",
       "  'score': 0.027801986783742905},\n",
       " {'m': <src.molecule_pair.MoleculePair at 0x37ffc69d0>,\n",
       "  'score': 0.04170221835374832},\n",
       " {'m': <src.molecule_pair.MoleculePair at 0x375cc93d0>,\n",
       "  'score': 0.06639231741428375},\n",
       " {'m': <src.molecule_pair.MoleculePair at 0x375cc9310>,\n",
       "  'score': 0.059381481260061264},\n",
       " {'m': <src.molecule_pair.MoleculePair at 0x375cc92d0>,\n",
       "  'score': 0.3176417052745819},\n",
       " {'m': <src.molecule_pair.MoleculePair at 0x375cc9290>,\n",
       "  'score': 0.06178935617208481},\n",
       " {'m': <src.molecule_pair.MoleculePair at 0x375cc9250>,\n",
       "  'score': 0.18880054354667664},\n",
       " {'m': <src.molecule_pair.MoleculePair at 0x375cc9350>,\n",
       "  'score': 0.054052628576755524},\n",
       " {'m': <src.molecule_pair.MoleculePair at 0x375cc8fd0>,\n",
       "  'score': 0.07462833821773529},\n",
       " {'m': <src.molecule_pair.MoleculePair at 0x375cca150>,\n",
       "  'score': 0.03777217119932175},\n",
       " {'m': <src.molecule_pair.MoleculePair at 0x375cca090>,\n",
       "  'score': 0.08399464190006256},\n",
       " {'m': <src.molecule_pair.MoleculePair at 0x375cc9fd0>,\n",
       "  'score': 0.04851563647389412},\n",
       " {'m': <src.molecule_pair.MoleculePair at 0x375cc9f10>,\n",
       "  'score': 0.12208476662635803},\n",
       " {'m': <src.molecule_pair.MoleculePair at 0x375cc9e50>,\n",
       "  'score': 0.036891475319862366},\n",
       " {'m': <src.molecule_pair.MoleculePair at 0x375cc9d90>,\n",
       "  'score': 0.03555343300104141},\n",
       " {'m': <src.molecule_pair.MoleculePair at 0x375cc9c90>,\n",
       "  'score': 0.12397483736276627},\n",
       " {'m': <src.molecule_pair.MoleculePair at 0x375cc9bd0>,\n",
       "  'score': 0.037205711007118225},\n",
       " {'m': <src.molecule_pair.MoleculePair at 0x375cc9b10>,\n",
       "  'score': 0.029883358627557755},\n",
       " {'m': <src.molecule_pair.MoleculePair at 0x375cc9910>,\n",
       "  'score': 0.053913772106170654},\n",
       " {'m': <src.molecule_pair.MoleculePair at 0x375ccaa90>,\n",
       "  'score': 0.06686220318078995},\n",
       " {'m': <src.molecule_pair.MoleculePair at 0x375cca9d0>,\n",
       "  'score': 0.03413622826337814},\n",
       " {'m': <src.molecule_pair.MoleculePair at 0x375cca910>,\n",
       "  'score': 0.052155185490846634},\n",
       " {'m': <src.molecule_pair.MoleculePair at 0x375cca850>,\n",
       "  'score': 0.1258782595396042},\n",
       " {'m': <src.molecule_pair.MoleculePair at 0x375cca790>,\n",
       "  'score': 0.11499851942062378},\n",
       " {'m': <src.molecule_pair.MoleculePair at 0x375cca6d0>,\n",
       "  'score': 0.08794287592172623},\n",
       " {'m': <src.molecule_pair.MoleculePair at 0x375cca5d0>,\n",
       "  'score': 0.06069536507129669},\n",
       " {'m': <src.molecule_pair.MoleculePair at 0x375cca510>,\n",
       "  'score': 0.07611735165119171},\n",
       " {'m': <src.molecule_pair.MoleculePair at 0x375cca450>,\n",
       "  'score': 0.06258266419172287},\n",
       " {'m': <src.molecule_pair.MoleculePair at 0x375cca250>,\n",
       "  'score': 0.09828511625528336},\n",
       " {'m': <src.molecule_pair.MoleculePair at 0x375ccb3d0>,\n",
       "  'score': 0.15846413373947144},\n",
       " {'m': <src.molecule_pair.MoleculePair at 0x375ccb310>,\n",
       "  'score': 0.09496818482875824},\n",
       " {'m': <src.molecule_pair.MoleculePair at 0x375ccb250>,\n",
       "  'score': 0.0411992147564888},\n",
       " {'m': <src.molecule_pair.MoleculePair at 0x375ccb190>,\n",
       "  'score': 0.13303403556346893},\n",
       " {'m': <src.molecule_pair.MoleculePair at 0x375ccb0d0>,\n",
       "  'score': 0.02358374372124672},\n",
       " {'m': <src.molecule_pair.MoleculePair at 0x375ccb010>,\n",
       "  'score': 0.06439217180013657},\n",
       " {'m': <src.molecule_pair.MoleculePair at 0x375ccaf10>,\n",
       "  'score': 0.27449896931648254},\n",
       " {'m': <src.molecule_pair.MoleculePair at 0x375ccae50>,\n",
       "  'score': 0.08390317857265472},\n",
       " {'m': <src.molecule_pair.MoleculePair at 0x375ccad90>,\n",
       "  'score': 0.292016863822937},\n",
       " {'m': <src.molecule_pair.MoleculePair at 0x375ccab90>,\n",
       "  'score': 0.06715680658817291},\n",
       " {'m': <src.molecule_pair.MoleculePair at 0x375ccbd10>,\n",
       "  'score': 0.04477449879050255},\n",
       " {'m': <src.molecule_pair.MoleculePair at 0x375ccbc50>,\n",
       "  'score': 0.06913438439369202},\n",
       " {'m': <src.molecule_pair.MoleculePair at 0x375ccbb90>,\n",
       "  'score': 0.032648228108882904},\n",
       " {'m': <src.molecule_pair.MoleculePair at 0x375ccbad0>,\n",
       "  'score': 0.01383263897150755},\n",
       " {'m': <src.molecule_pair.MoleculePair at 0x375ccba10>,\n",
       "  'score': 0.06637629866600037},\n",
       " {'m': <src.molecule_pair.MoleculePair at 0x375ccb950>,\n",
       "  'score': 0.150852769613266},\n",
       " {'m': <src.molecule_pair.MoleculePair at 0x375ccb850>,\n",
       "  'score': 0.01809026300907135},\n",
       " {'m': <src.molecule_pair.MoleculePair at 0x375ccb790>,\n",
       "  'score': 0.13595911860466003},\n",
       " {'m': <src.molecule_pair.MoleculePair at 0x375ccb6d0>,\n",
       "  'score': 0.05159126967191696},\n",
       " {'m': <src.molecule_pair.MoleculePair at 0x375ccb4d0>,\n",
       "  'score': 0.03722589462995529},\n",
       " {'m': <src.molecule_pair.MoleculePair at 0x375ccbf90>,\n",
       "  'score': 0.08945943415164948},\n",
       " {'m': <src.molecule_pair.MoleculePair at 0x375cc9010>,\n",
       "  'score': 0.09395312517881393},\n",
       " {'m': <src.molecule_pair.MoleculePair at 0x375cc9a10>,\n",
       "  'score': 0.09261912107467651},\n",
       " {'m': <src.molecule_pair.MoleculePair at 0x375ccb5d0>,\n",
       "  'score': 0.06973370909690857},\n",
       " {'m': <src.molecule_pair.MoleculePair at 0x375cc86d0>,\n",
       "  'score': 0.23276811838150024},\n",
       " {'m': <src.molecule_pair.MoleculePair at 0x375ccb510>,\n",
       "  'score': 0.11956329643726349},\n",
       " {'m': <src.molecule_pair.MoleculePair at 0x37e395e90>,\n",
       "  'score': 0.12702056765556335},\n",
       " {'m': <src.molecule_pair.MoleculePair at 0x37e397090>,\n",
       "  'score': 0.040556177496910095},\n",
       " {'m': <src.molecule_pair.MoleculePair at 0x37e396710>,\n",
       "  'score': 0.025725269690155983},\n",
       " {'m': <src.molecule_pair.MoleculePair at 0x37e394310>,\n",
       "  'score': 0.06624997407197952},\n",
       " {'m': <src.molecule_pair.MoleculePair at 0x37e394c10>,\n",
       "  'score': 0.027203669771552086},\n",
       " {'m': <src.molecule_pair.MoleculePair at 0x37e394710>,\n",
       "  'score': 0.07062295079231262},\n",
       " {'m': <src.molecule_pair.MoleculePair at 0x37e394650>,\n",
       "  'score': 0.24181729555130005},\n",
       " {'m': <src.molecule_pair.MoleculePair at 0x37e394590>,\n",
       "  'score': 0.03291451185941696},\n",
       " {'m': <src.molecule_pair.MoleculePair at 0x37e3944d0>,\n",
       "  'score': 0.06514570116996765},\n",
       " {'m': <src.molecule_pair.MoleculePair at 0x37e394410>,\n",
       "  'score': 0.15185700356960297},\n",
       " {'m': <src.molecule_pair.MoleculePair at 0x37e3942d0>,\n",
       "  'score': 0.054847352206707},\n",
       " {'m': <src.molecule_pair.MoleculePair at 0x37e394210>,\n",
       "  'score': 0.08226881176233292},\n",
       " {'m': <src.molecule_pair.MoleculePair at 0x37e394150>,\n",
       "  'score': 0.02597852051258087},\n",
       " {'m': <src.molecule_pair.MoleculePair at 0x37e395090>,\n",
       "  'score': 0.017390891909599304},\n",
       " {'m': <src.molecule_pair.MoleculePair at 0x37e394fd0>,\n",
       "  'score': 0.12136282026767731},\n",
       " {'m': <src.molecule_pair.MoleculePair at 0x37e394f10>,\n",
       "  'score': 0.11933805793523788},\n",
       " {'m': <src.molecule_pair.MoleculePair at 0x37e394e50>,\n",
       "  'score': 0.04758355766534805},\n",
       " {'m': <src.molecule_pair.MoleculePair at 0x37e394d90>,\n",
       "  'score': 0.08240926265716553},\n",
       " {'m': <src.molecule_pair.MoleculePair at 0x37e394cd0>,\n",
       "  'score': 0.07786213606595993},\n",
       " {'m': <src.molecule_pair.MoleculePair at 0x37e394b90>,\n",
       "  'score': 0.06225825101137161},\n",
       " {'m': <src.molecule_pair.MoleculePair at 0x37e394ad0>,\n",
       "  'score': 0.05560431629419327},\n",
       " {'m': <src.molecule_pair.MoleculePair at 0x37e394a10>,\n",
       "  'score': 0.07221903651952744},\n",
       " {'m': <src.molecule_pair.MoleculePair at 0x37e395990>,\n",
       "  'score': 0.15093033015727997},\n",
       " {'m': <src.molecule_pair.MoleculePair at 0x37e3958d0>,\n",
       "  'score': 0.08452922105789185},\n",
       " {'m': <src.molecule_pair.MoleculePair at 0x37e395810>,\n",
       "  'score': 0.23908185958862305},\n",
       " {'m': <src.molecule_pair.MoleculePair at 0x37e395750>,\n",
       "  'score': 0.0325932614505291},\n",
       " {'m': <src.molecule_pair.MoleculePair at 0x37e395690>,\n",
       "  'score': 0.041635509580373764},\n",
       " {'m': <src.molecule_pair.MoleculePair at 0x37e3955d0>,\n",
       "  'score': 0.09963124990463257},\n",
       " {'m': <src.molecule_pair.MoleculePair at 0x37e395490>,\n",
       "  'score': 0.01711243949830532},\n",
       " {'m': <src.molecule_pair.MoleculePair at 0x37e3953d0>,\n",
       "  'score': 0.09421275556087494},\n",
       " {'m': <src.molecule_pair.MoleculePair at 0x37e395310>,\n",
       "  'score': 0.08403091877698898},\n",
       " {'m': <src.molecule_pair.MoleculePair at 0x37e396290>,\n",
       "  'score': 0.07453147321939468},\n",
       " {'m': <src.molecule_pair.MoleculePair at 0x37e3961d0>,\n",
       "  'score': 0.057894960045814514},\n",
       " {'m': <src.molecule_pair.MoleculePair at 0x37e396110>,\n",
       "  'score': 0.6483619213104248},\n",
       " {'m': <src.molecule_pair.MoleculePair at 0x37e396050>,\n",
       "  'score': 0.10161474347114563},\n",
       " {'m': <src.molecule_pair.MoleculePair at 0x37e395f90>,\n",
       "  'score': 0.11714942753314972},\n",
       " {'m': <src.molecule_pair.MoleculePair at 0x37e395ed0>,\n",
       "  'score': 0.03576356917619705},\n",
       " {'m': <src.molecule_pair.MoleculePair at 0x37e395d90>,\n",
       "  'score': 0.06481105089187622},\n",
       " {'m': <src.molecule_pair.MoleculePair at 0x37e395cd0>,\n",
       "  'score': 0.3504747152328491},\n",
       " {'m': <src.molecule_pair.MoleculePair at 0x37e395c10>,\n",
       "  'score': 0.15331010520458221},\n",
       " {'m': <src.molecule_pair.MoleculePair at 0x37e396b90>,\n",
       "  'score': 0.0641166940331459},\n",
       " {'m': <src.molecule_pair.MoleculePair at 0x37e396ad0>,\n",
       "  'score': 0.07293317466974258},\n",
       " {'m': <src.molecule_pair.MoleculePair at 0x37e396a10>,\n",
       "  'score': 0.012803028337657452},\n",
       " {'m': <src.molecule_pair.MoleculePair at 0x37e396950>,\n",
       "  'score': 0.05480504035949707},\n",
       " {'m': <src.molecule_pair.MoleculePair at 0x37e396890>,\n",
       "  'score': 0.008634768426418304},\n",
       " {'m': <src.molecule_pair.MoleculePair at 0x37e3967d0>,\n",
       "  'score': 0.07285641133785248},\n",
       " {'m': <src.molecule_pair.MoleculePair at 0x37e396690>,\n",
       "  'score': 0.04828430712223053},\n",
       " {'m': <src.molecule_pair.MoleculePair at 0x37e3965d0>,\n",
       "  'score': 0.12978950142860413},\n",
       " {'m': <src.molecule_pair.MoleculePair at 0x37e396510>,\n",
       "  'score': 0.2023618519306183},\n",
       " {'m': <src.molecule_pair.MoleculePair at 0x37e397410>,\n",
       "  'score': 0.05881744623184204},\n",
       " {'m': <src.molecule_pair.MoleculePair at 0x37e397350>,\n",
       "  'score': 0.12766197323799133},\n",
       " {'m': <src.molecule_pair.MoleculePair at 0x37e397290>,\n",
       "  'score': 0.05300337076187134},\n",
       " {'m': <src.molecule_pair.MoleculePair at 0x37e3971d0>,\n",
       "  'score': 0.06829003244638443},\n",
       " {'m': <src.molecule_pair.MoleculePair at 0x37e397110>,\n",
       "  'score': 0.11339381337165833},\n",
       " {'m': <src.molecule_pair.MoleculePair at 0x37e396fd0>,\n",
       "  'score': 0.11165423691272736},\n",
       " {'m': <src.molecule_pair.MoleculePair at 0x37e396f10>,\n",
       "  'score': 0.09728589653968811},\n",
       " {'m': <src.molecule_pair.MoleculePair at 0x37e396e50>,\n",
       "  'score': 0.06278377771377563},\n",
       " {'m': <src.molecule_pair.MoleculePair at 0x37e396d10>,\n",
       "  'score': 0.04590591415762901},\n",
       " {'m': <src.molecule_pair.MoleculePair at 0x37e397c10>,\n",
       "  'score': 0.12080389261245728},\n",
       " {'m': <src.molecule_pair.MoleculePair at 0x37e397b50>,\n",
       "  'score': 0.0626266747713089},\n",
       " {'m': <src.molecule_pair.MoleculePair at 0x37e397a90>,\n",
       "  'score': 0.006055939011275768},\n",
       " {'m': <src.molecule_pair.MoleculePair at 0x37e3979d0>,\n",
       "  'score': 0.3960069417953491},\n",
       " {'m': <src.molecule_pair.MoleculePair at 0x37e3978d0>,\n",
       "  'score': 0.11808326095342636},\n",
       " {'m': <src.molecule_pair.MoleculePair at 0x37e3977d0>,\n",
       "  'score': 0.02155197784304619},\n",
       " {'m': <src.molecule_pair.MoleculePair at 0x37e397710>,\n",
       "  'score': 0.05593480169773102},\n",
       " {'m': <src.molecule_pair.MoleculePair at 0x37e397510>,\n",
       "  'score': 0.05254703015089035},\n",
       " {'m': <src.molecule_pair.MoleculePair at 0x37e397f90>,\n",
       "  'score': 0.06319550424814224},\n",
       " {'m': <src.molecule_pair.MoleculePair at 0x37e397d90>,\n",
       "  'score': 0.08325310796499252},\n",
       " {'m': <src.molecule_pair.MoleculePair at 0x37e394990>,\n",
       "  'score': 0.06436227262020111},\n",
       " {'m': <src.molecule_pair.MoleculePair at 0x37e396490>,\n",
       "  'score': 0.04995980113744736},\n",
       " {'m': <src.molecule_pair.MoleculePair at 0x37e397e90>,\n",
       "  'score': 0.18430323898792267},\n",
       " {'m': <src.molecule_pair.MoleculePair at 0x37e397550>,\n",
       "  'score': 0.048372745513916016},\n",
       " {'m': <src.molecule_pair.MoleculePair at 0x37e3963d0>,\n",
       "  'score': 0.09711039066314697},\n",
       " {'m': <src.molecule_pair.MoleculePair at 0x376167cd0>,\n",
       "  'score': 0.06231929361820221},\n",
       " {'m': <src.molecule_pair.MoleculePair at 0x376164e90>,\n",
       "  'score': 0.06000126153230667},\n",
       " {'m': <src.molecule_pair.MoleculePair at 0x376167150>,\n",
       "  'score': 0.041755013167858124},\n",
       " {'m': <src.molecule_pair.MoleculePair at 0x376164310>,\n",
       "  'score': 0.15719330310821533},\n",
       " {'m': <src.molecule_pair.MoleculePair at 0x376165ed0>,\n",
       "  'score': 0.04343997314572334},\n",
       " {'m': <src.molecule_pair.MoleculePair at 0x376164750>,\n",
       "  'score': 0.07274864614009857},\n",
       " {'m': <src.molecule_pair.MoleculePair at 0x376164690>,\n",
       "  'score': 0.071258544921875},\n",
       " {'m': <src.molecule_pair.MoleculePair at 0x3761645d0>,\n",
       "  'score': 0.015629997476935387},\n",
       " {'m': <src.molecule_pair.MoleculePair at 0x3761644d0>,\n",
       "  'score': 0.018479708582162857},\n",
       " {'m': <src.molecule_pair.MoleculePair at 0x376164410>,\n",
       "  'score': 0.06711987406015396},\n",
       " {'m': <src.molecule_pair.MoleculePair at 0x376164350>,\n",
       "  'score': 0.012351120822131634},\n",
       " {'m': <src.molecule_pair.MoleculePair at 0x376164250>,\n",
       "  'score': 0.09263165295124054},\n",
       " {'m': <src.molecule_pair.MoleculePair at 0x376164190>,\n",
       "  'score': 0.0709143728017807},\n",
       " {'m': <src.molecule_pair.MoleculePair at 0x3761640d0>,\n",
       "  'score': 0.08110406994819641},\n",
       " {'m': <src.molecule_pair.MoleculePair at 0x3761650d0>,\n",
       "  'score': 0.07964769005775452},\n",
       " {'m': <src.molecule_pair.MoleculePair at 0x376165010>,\n",
       "  'score': 0.09680033475160599},\n",
       " {'m': <src.molecule_pair.MoleculePair at 0x376164f50>,\n",
       "  'score': 0.10127606987953186},\n",
       " {'m': <src.molecule_pair.MoleculePair at 0x376164e50>,\n",
       "  'score': 0.06618689000606537},\n",
       " {'m': <src.molecule_pair.MoleculePair at 0x376164d90>,\n",
       "  'score': 0.062081314623355865},\n",
       " {'m': <src.molecule_pair.MoleculePair at 0x376164cd0>,\n",
       "  'score': 0.08889245986938477},\n",
       " {'m': <src.molecule_pair.MoleculePair at 0x376164bd0>,\n",
       "  'score': 0.15992982685565948},\n",
       " {'m': <src.molecule_pair.MoleculePair at 0x376164b10>,\n",
       "  'score': 0.1245272159576416},\n",
       " {'m': <src.molecule_pair.MoleculePair at 0x376164a50>,\n",
       "  'score': 0.048820674419403076},\n",
       " {'m': <src.molecule_pair.MoleculePair at 0x376164950>,\n",
       "  'score': 0.02816951833665371},\n",
       " {'m': <src.molecule_pair.MoleculePair at 0x3761659d0>,\n",
       "  'score': 0.03489668667316437},\n",
       " {'m': <src.molecule_pair.MoleculePair at 0x376165910>,\n",
       "  'score': 0.12895728647708893},\n",
       " {'m': <src.molecule_pair.MoleculePair at 0x376165850>,\n",
       "  'score': 0.044698722660541534},\n",
       " {'m': <src.molecule_pair.MoleculePair at 0x376165750>,\n",
       "  'score': 0.06951195001602173},\n",
       " {'m': <src.molecule_pair.MoleculePair at 0x376165690>,\n",
       "  'score': 0.09955652058124542},\n",
       " {'m': <src.molecule_pair.MoleculePair at 0x3761655d0>,\n",
       "  'score': 0.09046107530593872},\n",
       " {'m': <src.molecule_pair.MoleculePair at 0x3761654d0>,\n",
       "  'score': 0.09710051119327545},\n",
       " {'m': <src.molecule_pair.MoleculePair at 0x376165410>,\n",
       "  'score': 0.06316355615854263},\n",
       " {'m': <src.molecule_pair.MoleculePair at 0x376165350>,\n",
       "  'score': 0.12570075690746307},\n",
       " {'m': <src.molecule_pair.MoleculePair at 0x376166390>,\n",
       "  'score': 0.17269426584243774},\n",
       " {'m': <src.molecule_pair.MoleculePair at 0x3761662d0>,\n",
       "  'score': 0.07802661508321762},\n",
       " {'m': <src.molecule_pair.MoleculePair at 0x376166210>,\n",
       "  'score': 0.05129934102296829},\n",
       " {'m': <src.molecule_pair.MoleculePair at 0x376166150>,\n",
       "  'score': 0.04284234344959259},\n",
       " {'m': <src.molecule_pair.MoleculePair at 0x376166050>,\n",
       "  'score': 0.07093410193920135},\n",
       " {'m': <src.molecule_pair.MoleculePair at 0x376165f90>,\n",
       "  'score': 0.08333057165145874},\n",
       " {'m': <src.molecule_pair.MoleculePair at 0x376165e90>,\n",
       "  'score': 0.2671562135219574},\n",
       " {'m': <src.molecule_pair.MoleculePair at 0x376165dd0>,\n",
       "  'score': 0.06590942293405533},\n",
       " {'m': <src.molecule_pair.MoleculePair at 0x376165d10>,\n",
       "  'score': 0.08800621330738068},\n",
       " {'m': <src.molecule_pair.MoleculePair at 0x376166450>,\n",
       "  'score': 0.0823541134595871},\n",
       " {'m': <src.molecule_pair.MoleculePair at 0x376166c90>,\n",
       "  'score': 0.06269453465938568},\n",
       " {'m': <src.molecule_pair.MoleculePair at 0x376166bd0>,\n",
       "  'score': 0.07046285271644592},\n",
       " {'m': <src.molecule_pair.MoleculePair at 0x376166b10>,\n",
       "  'score': 0.6208270788192749},\n",
       " {'m': <src.molecule_pair.MoleculePair at 0x376166a10>,\n",
       "  'score': 0.07016599178314209},\n",
       " {'m': <src.molecule_pair.MoleculePair at 0x376166950>,\n",
       "  'score': 0.06014106050133705},\n",
       " {'m': <src.molecule_pair.MoleculePair at 0x376166890>,\n",
       "  'score': 0.07586923241615295},\n",
       " {'m': <src.molecule_pair.MoleculePair at 0x376166790>,\n",
       "  'score': 0.09165811538696289},\n",
       " {'m': <src.molecule_pair.MoleculePair at 0x3761666d0>,\n",
       "  'score': 0.02583850547671318},\n",
       " {'m': <src.molecule_pair.MoleculePair at 0x376166610>,\n",
       "  'score': 0.05281861871480942},\n",
       " {'m': <src.molecule_pair.MoleculePair at 0x376166510>,\n",
       "  'score': 0.149001806974411},\n",
       " {'m': <src.molecule_pair.MoleculePair at 0x376167590>,\n",
       "  'score': 0.07812027633190155},\n",
       " {'m': <src.molecule_pair.MoleculePair at 0x3761674d0>,\n",
       "  'score': 0.061640165746212006},\n",
       " {'m': <src.molecule_pair.MoleculePair at 0x376167410>,\n",
       "  'score': 0.03741540014743805},\n",
       " {'m': <src.molecule_pair.MoleculePair at 0x376167310>,\n",
       "  'score': 0.0617060549557209},\n",
       " {'m': <src.molecule_pair.MoleculePair at 0x376167250>,\n",
       "  'score': 0.06949194520711899},\n",
       " {'m': <src.molecule_pair.MoleculePair at 0x376167190>,\n",
       "  'score': 0.37920302152633667},\n",
       " {'m': <src.molecule_pair.MoleculePair at 0x376167090>,\n",
       "  'score': 0.05485514551401138},\n",
       " {'m': <src.molecule_pair.MoleculePair at 0x376166fd0>,\n",
       "  'score': 0.016280604526400566},\n",
       " {'m': <src.molecule_pair.MoleculePair at 0x376166f10>,\n",
       "  'score': 0.05700991675257683},\n",
       " {'m': <src.molecule_pair.MoleculePair at 0x376167f50>,\n",
       "  'score': 0.05621249973773956},\n",
       " {'m': <src.molecule_pair.MoleculePair at 0x376167e90>,\n",
       "  'score': 0.015727372840046883},\n",
       " {'m': <src.molecule_pair.MoleculePair at 0x376167dd0>,\n",
       "  'score': 0.04201282933354378},\n",
       " {'m': <src.molecule_pair.MoleculePair at 0x376167d10>,\n",
       "  'score': 0.15268796682357788},\n",
       " {'m': <src.molecule_pair.MoleculePair at 0x376167c10>,\n",
       "  'score': 0.01705962046980858},\n",
       " {'m': <src.molecule_pair.MoleculePair at 0x376167b50>,\n",
       "  'score': 0.06487209349870682},\n",
       " {'m': <src.molecule_pair.MoleculePair at 0x376167a50>,\n",
       "  'score': 0.051163651049137115},\n",
       " {'m': <src.molecule_pair.MoleculePair at 0x376167990>,\n",
       "  'score': 0.1401434689760208},\n",
       " {'m': <src.molecule_pair.MoleculePair at 0x3761678d0>,\n",
       "  'score': 0.11517491936683655},\n",
       " {'m': <src.molecule_pair.MoleculePair at 0x376167790>,\n",
       "  'score': 0.09755145013332367},\n",
       " {'m': <src.molecule_pair.MoleculePair at 0x3761652d0>,\n",
       "  'score': 0.08820831775665283},\n",
       " {'m': <src.molecule_pair.MoleculePair at 0x376166e90>,\n",
       "  'score': 0.019920703023672104},\n",
       " {'m': <src.molecule_pair.MoleculePair at 0x376176210>,\n",
       "  'score': 0.02309686690568924},\n",
       " {'m': <src.molecule_pair.MoleculePair at 0x376174f90>,\n",
       "  'score': 0.12312979251146317},\n",
       " {'m': <src.molecule_pair.MoleculePair at 0x376177250>,\n",
       "  'score': 0.029041830450296402},\n",
       " {'m': <src.molecule_pair.MoleculePair at 0x376177b90>,\n",
       "  'score': 0.009722149930894375},\n",
       " {'m': <src.molecule_pair.MoleculePair at 0x376174410>,\n",
       "  'score': 0.048184461891651154},\n",
       " {'m': <src.molecule_pair.MoleculePair at 0x376174890>,\n",
       "  'score': 0.21955269575119019},\n",
       " {'m': <src.molecule_pair.MoleculePair at 0x3761747d0>,\n",
       "  'score': 0.13742905855178833},\n",
       " {'m': <src.molecule_pair.MoleculePair at 0x376174710>,\n",
       "  'score': 0.08228285610675812},\n",
       " {'m': <src.molecule_pair.MoleculePair at 0x376174610>,\n",
       "  'score': 0.15101322531700134},\n",
       " {'m': <src.molecule_pair.MoleculePair at 0x376174550>,\n",
       "  'score': 0.10551576316356659},\n",
       " {'m': <src.molecule_pair.MoleculePair at 0x376174490>,\n",
       "  'score': 0.07255098223686218},\n",
       " {'m': <src.molecule_pair.MoleculePair at 0x376174390>,\n",
       "  'score': 0.030633490532636642},\n",
       " {'m': <src.molecule_pair.MoleculePair at 0x3761742d0>,\n",
       "  'score': 0.08847131580114365},\n",
       " {'m': <src.molecule_pair.MoleculePair at 0x376174210>,\n",
       "  'score': 0.03370852395892143},\n",
       " {'m': <src.molecule_pair.MoleculePair at 0x376174110>,\n",
       "  'score': 0.14439469575881958},\n",
       " {'m': <src.molecule_pair.MoleculePair at 0x376175190>,\n",
       "  'score': 0.017839308828115463},\n",
       " {'m': <src.molecule_pair.MoleculePair at 0x3761750d0>,\n",
       "  'score': 0.05761244148015976},\n",
       " {'m': <src.molecule_pair.MoleculePair at 0x376175010>,\n",
       "  'score': 0.027368588373064995},\n",
       " {'m': <src.molecule_pair.MoleculePair at 0x376174f10>,\n",
       "  'score': 0.08812947571277618},\n",
       " {'m': <src.molecule_pair.MoleculePair at 0x376174e50>,\n",
       "  'score': 0.027297532185912132},\n",
       " {'m': <src.molecule_pair.MoleculePair at 0x376174d90>,\n",
       "  'score': 0.10252715647220612},\n",
       " {'m': <src.molecule_pair.MoleculePair at 0x376174c90>,\n",
       "  'score': 0.020054200664162636},\n",
       " {'m': <src.molecule_pair.MoleculePair at 0x376174bd0>,\n",
       "  'score': 0.021275443956255913},\n",
       " {'m': <src.molecule_pair.MoleculePair at 0x376174b10>,\n",
       "  'score': 0.21162250638008118},\n",
       " {'m': <src.molecule_pair.MoleculePair at 0x376175b50>,\n",
       "  'score': 0.1735016405582428},\n",
       " {'m': <src.molecule_pair.MoleculePair at 0x376175a90>,\n",
       "  'score': 0.026844514533877373},\n",
       " {'m': <src.molecule_pair.MoleculePair at 0x3761759d0>,\n",
       "  'score': 0.3439924716949463},\n",
       " {'m': <src.molecule_pair.MoleculePair at 0x376175910>,\n",
       "  'score': 0.06455264985561371},\n",
       " {'m': <src.molecule_pair.MoleculePair at 0x376175810>,\n",
       "  'score': 0.047563403844833374},\n",
       " {'m': <src.molecule_pair.MoleculePair at 0x376175750>,\n",
       "  'score': 0.020596012473106384},\n",
       " {'m': <src.molecule_pair.MoleculePair at 0x376175650>,\n",
       "  'score': 0.07709993422031403},\n",
       " {'m': <src.molecule_pair.MoleculePair at 0x376175590>,\n",
       "  'score': 0.035331424325704575},\n",
       " {'m': <src.molecule_pair.MoleculePair at 0x3761754d0>,\n",
       "  'score': 0.13513411581516266},\n",
       " {'m': <src.molecule_pair.MoleculePair at 0x376175c10>,\n",
       "  'score': 0.22893640398979187},\n",
       " {'m': <src.molecule_pair.MoleculePair at 0x376176450>,\n",
       "  'score': 0.07730095088481903},\n",
       " {'m': <src.molecule_pair.MoleculePair at 0x376176390>,\n",
       "  'score': 0.022678211331367493},\n",
       " {'m': <src.molecule_pair.MoleculePair at 0x3761762d0>,\n",
       "  'score': 0.06304796040058136},\n",
       " {'m': <src.molecule_pair.MoleculePair at 0x3761761d0>,\n",
       "  'score': 0.08710779249668121},\n",
       " {'m': <src.molecule_pair.MoleculePair at 0x376176110>,\n",
       "  'score': 0.06967608630657196},\n",
       " {'m': <src.molecule_pair.MoleculePair at 0x376176050>,\n",
       "  'score': 0.07891657948493958},\n",
       " {'m': <src.molecule_pair.MoleculePair at 0x376175f50>,\n",
       "  'score': 0.28003352880477905},\n",
       " {'m': <src.molecule_pair.MoleculePair at 0x376175e90>,\n",
       "  'score': 0.05463721603155136},\n",
       " {'m': <src.molecule_pair.MoleculePair at 0x376175dd0>,\n",
       "  'score': 0.023284289985895157},\n",
       " {'m': <src.molecule_pair.MoleculePair at 0x376175cd0>,\n",
       "  'score': 0.13052169978618622},\n",
       " {'m': <src.molecule_pair.MoleculePair at 0x376176d50>,\n",
       "  'score': 0.059189893305301666},\n",
       " {'m': <src.molecule_pair.MoleculePair at 0x376176c90>,\n",
       "  'score': 0.08832139521837234},\n",
       " {'m': <src.molecule_pair.MoleculePair at 0x376176bd0>,\n",
       "  'score': 0.031207315623760223},\n",
       " {'m': <src.molecule_pair.MoleculePair at 0x376176ad0>,\n",
       "  'score': 0.05926325544714928},\n",
       " {'m': <src.molecule_pair.MoleculePair at 0x376176a10>,\n",
       "  'score': 0.21834689378738403},\n",
       " {'m': <src.molecule_pair.MoleculePair at 0x376176950>,\n",
       "  'score': 0.11256702244281769},\n",
       " {'m': <src.molecule_pair.MoleculePair at 0x376176850>,\n",
       "  'score': 0.028573699295520782},\n",
       " {'m': <src.molecule_pair.MoleculePair at 0x376176790>,\n",
       "  'score': 0.08837129175662994},\n",
       " {'m': <src.molecule_pair.MoleculePair at 0x3761766d0>,\n",
       "  'score': 0.05712767690420151},\n",
       " {'m': <src.molecule_pair.MoleculePair at 0x376177710>,\n",
       "  'score': 0.5889151096343994},\n",
       " {'m': <src.molecule_pair.MoleculePair at 0x376177650>,\n",
       "  'score': 0.11672493815422058},\n",
       " {'m': <src.molecule_pair.MoleculePair at 0x376177590>,\n",
       "  'score': 0.016239993274211884},\n",
       " {'m': <src.molecule_pair.MoleculePair at 0x3761774d0>,\n",
       "  'score': 0.04725159704685211},\n",
       " {'m': <src.molecule_pair.MoleculePair at 0x3761773d0>,\n",
       "  'score': 0.19842097163200378},\n",
       " {'m': <src.molecule_pair.MoleculePair at 0x376177310>,\n",
       "  'score': 0.10321816802024841},\n",
       " {'m': <src.molecule_pair.MoleculePair at 0x376177210>,\n",
       "  'score': 0.0330837145447731},\n",
       " {'m': <src.molecule_pair.MoleculePair at 0x376177150>,\n",
       "  'score': 0.15185043215751648},\n",
       " {'m': <src.molecule_pair.MoleculePair at 0x376177090>,\n",
       "  'score': 0.1275203973054886},\n",
       " {'m': <src.molecule_pair.MoleculePair at 0x3761777d0>,\n",
       "  'score': 0.054811082780361176},\n",
       " {'m': <src.molecule_pair.MoleculePair at 0x376177f90>,\n",
       "  'score': 0.006168019957840443},\n",
       " {'m': <src.molecule_pair.MoleculePair at 0x376177ed0>,\n",
       "  'score': 0.05507459118962288},\n",
       " {'m': <src.molecule_pair.MoleculePair at 0x376177e10>,\n",
       "  'score': 0.0915880873799324},\n",
       " {'m': <src.molecule_pair.MoleculePair at 0x376177d10>,\n",
       "  'score': 0.05842934548854828},\n",
       " {'m': <src.molecule_pair.MoleculePair at 0x376177c50>,\n",
       "  'score': 0.08834785223007202},\n",
       " {'m': <src.molecule_pair.MoleculePair at 0x376177b50>,\n",
       "  'score': 0.058774590492248535},\n",
       " {'m': <src.molecule_pair.MoleculePair at 0x376177a90>,\n",
       "  'score': 0.25007304549217224},\n",
       " {'m': <src.molecule_pair.MoleculePair at 0x3761779d0>,\n",
       "  'score': 0.068162702023983},\n",
       " {'m': <src.molecule_pair.MoleculePair at 0x376177890>,\n",
       "  'score': 0.026470467448234558},\n",
       " {'m': <src.molecule_pair.MoleculePair at 0x3761753d0>,\n",
       "  'score': 0.08733081817626953},\n",
       " {'m': <src.molecule_pair.MoleculePair at 0x376176f90>,\n",
       "  'score': 0.1075662225484848},\n",
       " {'m': <src.molecule_pair.MoleculePair at 0x3761799d0>,\n",
       "  'score': 0.06961915642023087},\n",
       " {'m': <src.molecule_pair.MoleculePair at 0x37617ac50>,\n",
       "  'score': 0.11999788880348206},\n",
       " {'m': <src.molecule_pair.MoleculePair at 0x376179790>,\n",
       "  'score': 0.08904730528593063},\n",
       " {'m': <src.molecule_pair.MoleculePair at 0x37617aa10>,\n",
       "  'score': 0.08018677681684494},\n",
       " {'m': <src.molecule_pair.MoleculePair at 0x376178050>,\n",
       "  'score': 0.11677062511444092},\n",
       " {'m': <src.molecule_pair.MoleculePair at 0x376178990>,\n",
       "  'score': 0.05334615334868431},\n",
       " {'m': <src.molecule_pair.MoleculePair at 0x3761788d0>,\n",
       "  'score': 0.045904867351055145},\n",
       " {'m': <src.molecule_pair.MoleculePair at 0x376178810>,\n",
       "  'score': 0.1057245209813118},\n",
       " {'m': <src.molecule_pair.MoleculePair at 0x376178710>,\n",
       "  'score': 0.05383162572979927},\n",
       " {'m': <src.molecule_pair.MoleculePair at 0x376178650>,\n",
       "  'score': 0.039537057280540466},\n",
       " {'m': <src.molecule_pair.MoleculePair at 0x376178590>,\n",
       "  'score': 0.04961084574460983},\n",
       " {'m': <src.molecule_pair.MoleculePair at 0x376178490>,\n",
       "  'score': 0.2611120343208313},\n",
       " {'m': <src.molecule_pair.MoleculePair at 0x3761783d0>,\n",
       "  'score': 0.032422348856925964},\n",
       " {'m': <src.molecule_pair.MoleculePair at 0x376178310>,\n",
       "  'score': 0.12342292070388794},\n",
       " {'m': <src.molecule_pair.MoleculePair at 0x376178210>,\n",
       "  'score': 0.04097624495625496},\n",
       " {'m': <src.molecule_pair.MoleculePair at 0x376179290>,\n",
       "  'score': 0.07527228444814682},\n",
       " {'m': <src.molecule_pair.MoleculePair at 0x3761791d0>,\n",
       "  'score': 0.12519162893295288},\n",
       " {'m': <src.molecule_pair.MoleculePair at 0x376179110>,\n",
       "  'score': 0.07097635418176651},\n",
       " {'m': <src.molecule_pair.MoleculePair at 0x376179010>,\n",
       "  'score': 0.01788838393986225},\n",
       " {'m': <src.molecule_pair.MoleculePair at 0x376178f50>,\n",
       "  'score': 0.15475305914878845},\n",
       " {'m': <src.molecule_pair.MoleculePair at 0x376178e90>,\n",
       "  'score': 0.11223660409450531},\n",
       " {'m': <src.molecule_pair.MoleculePair at 0x376178d90>,\n",
       "  'score': 0.03896350413560867},\n",
       " {'m': <src.molecule_pair.MoleculePair at 0x376178cd0>,\n",
       "  'score': 0.07261477410793304},\n",
       " {'m': <src.molecule_pair.MoleculePair at 0x376178c10>,\n",
       "  'score': 0.12088625133037567},\n",
       " {'m': <src.molecule_pair.MoleculePair at 0x376179c50>,\n",
       "  'score': 0.07038694620132446},\n",
       " {'m': <src.molecule_pair.MoleculePair at 0x376179b90>,\n",
       "  'score': 0.03724457323551178},\n",
       " {'m': <src.molecule_pair.MoleculePair at 0x376179ad0>,\n",
       "  'score': 0.06898653507232666},\n",
       " {'m': <src.molecule_pair.MoleculePair at 0x376179a10>,\n",
       "  'score': 0.06161527335643768},\n",
       " {'m': <src.molecule_pair.MoleculePair at 0x376179910>,\n",
       "  'score': 0.10207714885473251},\n",
       " {'m': <src.molecule_pair.MoleculePair at 0x376179850>,\n",
       "  'score': 0.03135340288281441},\n",
       " {'m': <src.molecule_pair.MoleculePair at 0x376179750>,\n",
       "  'score': 0.3114303946495056},\n",
       " {'m': <src.molecule_pair.MoleculePair at 0x376179690>,\n",
       "  'score': 0.10489331185817719},\n",
       " {'m': <src.molecule_pair.MoleculePair at 0x3761795d0>,\n",
       "  'score': 0.017436359077692032},\n",
       " {'m': <src.molecule_pair.MoleculePair at 0x376179d10>,\n",
       "  'score': 0.08066864311695099},\n",
       " {'m': <src.molecule_pair.MoleculePair at 0x37617a550>,\n",
       "  'score': 0.1545371264219284},\n",
       " {'m': <src.molecule_pair.MoleculePair at 0x37617a490>,\n",
       "  'score': 0.06675813347101212},\n",
       " {'m': <src.molecule_pair.MoleculePair at 0x37617a3d0>,\n",
       "  'score': 0.04112301766872406},\n",
       " {'m': <src.molecule_pair.MoleculePair at 0x37617a2d0>,\n",
       "  'score': 0.40921223163604736},\n",
       " {'m': <src.molecule_pair.MoleculePair at 0x37617a210>,\n",
       "  'score': 0.0204341858625412},\n",
       " {'m': <src.molecule_pair.MoleculePair at 0x37617a150>,\n",
       "  'score': 0.05595443770289421},\n",
       " {'m': <src.molecule_pair.MoleculePair at 0x37617a050>,\n",
       "  'score': 0.02993648685514927},\n",
       " {'m': <src.molecule_pair.MoleculePair at 0x376179f90>,\n",
       "  'score': 0.033089037984609604},\n",
       " {'m': <src.molecule_pair.MoleculePair at 0x376179ed0>,\n",
       "  'score': 0.09308357536792755},\n",
       " {'m': <src.molecule_pair.MoleculePair at 0x376179dd0>,\n",
       "  'score': 0.05122259631752968},\n",
       " {'m': <src.molecule_pair.MoleculePair at 0x37617ae50>,\n",
       "  'score': 0.20028790831565857},\n",
       " {'m': <src.molecule_pair.MoleculePair at 0x37617ad90>,\n",
       "  'score': 0.15389369428157806},\n",
       " {'m': <src.molecule_pair.MoleculePair at 0x37617acd0>,\n",
       "  'score': 0.033093973994255066},\n",
       " {'m': <src.molecule_pair.MoleculePair at 0x37617abd0>,\n",
       "  'score': 0.0796065405011177},\n",
       " {'m': <src.molecule_pair.MoleculePair at 0x37617ab10>,\n",
       "  'score': 0.021467644721269608},\n",
       " {'m': <src.molecule_pair.MoleculePair at 0x37617aa50>,\n",
       "  'score': 0.065616175532341},\n",
       " {'m': <src.molecule_pair.MoleculePair at 0x37617a950>,\n",
       "  'score': 0.08763960748910904},\n",
       " {'m': <src.molecule_pair.MoleculePair at 0x37617a890>,\n",
       "  'score': 0.023297835141420364},\n",
       " {'m': <src.molecule_pair.MoleculePair at 0x37617b790>,\n",
       "  'score': 0.09879305958747864},\n",
       " {'m': <src.molecule_pair.MoleculePair at 0x37617b710>,\n",
       "  'score': 0.06381388753652573},\n",
       " {'m': <src.molecule_pair.MoleculePair at 0x37617b650>,\n",
       "  'score': 0.15945260226726532},\n",
       " {'m': <src.molecule_pair.MoleculePair at 0x37617b550>,\n",
       "  'score': 0.11807872354984283},\n",
       " {'m': <src.molecule_pair.MoleculePair at 0x37617b490>,\n",
       "  'score': 0.045914337038993835},\n",
       " {'m': <src.molecule_pair.MoleculePair at 0x37617b3d0>,\n",
       "  'score': 0.0553133599460125},\n",
       " {'m': <src.molecule_pair.MoleculePair at 0x37617b2d0>,\n",
       "  'score': 0.318579763174057},\n",
       " {'m': <src.molecule_pair.MoleculePair at 0x37617b210>,\n",
       "  'score': 0.113777294754982},\n",
       " {'m': <src.molecule_pair.MoleculePair at 0x37617b150>,\n",
       "  'score': 0.09360027313232422},\n",
       " {'m': <src.molecule_pair.MoleculePair at 0x37617bc90>,\n",
       "  'score': 0.08180347830057144},\n",
       " {'m': <src.molecule_pair.MoleculePair at 0x37617bfd0>,\n",
       "  'score': 0.12944266200065613},\n",
       " {'m': <src.molecule_pair.MoleculePair at 0x37617bf10>,\n",
       "  'score': 0.10534222424030304},\n",
       " {'m': <src.molecule_pair.MoleculePair at 0x37617be10>,\n",
       "  'score': 0.060057178139686584},\n",
       " {'m': <src.molecule_pair.MoleculePair at 0x37617bd50>,\n",
       "  'score': 0.14332178235054016},\n",
       " {'m': <src.molecule_pair.MoleculePair at 0x37617bc50>,\n",
       "  'score': 0.04250243306159973},\n",
       " {'m': <src.molecule_pair.MoleculePair at 0x37617bb90>,\n",
       "  'score': 0.009021462872624397},\n",
       " {'m': <src.molecule_pair.MoleculePair at 0x37617bad0>,\n",
       "  'score': 0.023611579090356827},\n",
       " {'m': <src.molecule_pair.MoleculePair at 0x37617b990>,\n",
       "  'score': 0.03555987402796745},\n",
       " {'m': <src.molecule_pair.MoleculePair at 0x3761794d0>,\n",
       "  'score': 0.04157260060310364},\n",
       " {'m': <src.molecule_pair.MoleculePair at 0x37617b090>,\n",
       "  'score': 0.05941746383905411},\n",
       " {'m': <src.molecule_pair.MoleculePair at 0x376187fd0>,\n",
       "  'score': 0.11420273035764694},\n",
       " {'m': <src.molecule_pair.MoleculePair at 0x376185ad0>,\n",
       "  'score': 0.023602649569511414},\n",
       " {'m': <src.molecule_pair.MoleculePair at 0x376184f50>,\n",
       "  'score': 0.0992288738489151},\n",
       " {'m': <src.molecule_pair.MoleculePair at 0x3761861d0>,\n",
       "  'score': 0.0915571004152298},\n",
       " {'m': <src.molecule_pair.MoleculePair at 0x376186b10>,\n",
       "  'score': 0.06078566610813141},\n",
       " {'m': <src.molecule_pair.MoleculePair at 0x376184110>,\n",
       "  'score': 0.11058465391397476},\n",
       " {'m': <src.molecule_pair.MoleculePair at 0x376184050>,\n",
       "  'score': 0.027365470305085182},\n",
       " {'m': <src.molecule_pair.MoleculePair at 0x376184a90>,\n",
       "  'score': 0.06931699812412262},\n",
       " {'m': <src.molecule_pair.MoleculePair at 0x3761849d0>,\n",
       "  'score': 0.024585235863924026},\n",
       " {'m': <src.molecule_pair.MoleculePair at 0x376184910>,\n",
       "  'score': 0.03287810459733009},\n",
       " {'m': <src.molecule_pair.MoleculePair at 0x376184810>,\n",
       "  'score': 0.10712257027626038},\n",
       " {'m': <src.molecule_pair.MoleculePair at 0x376184750>,\n",
       "  'score': 0.03087029606103897},\n",
       " {'m': <src.molecule_pair.MoleculePair at 0x376184690>,\n",
       "  'score': 0.04867527633905411},\n",
       " {'m': <src.molecule_pair.MoleculePair at 0x376184590>,\n",
       "  'score': 0.13436995446681976},\n",
       " {'m': <src.molecule_pair.MoleculePair at 0x3761844d0>,\n",
       "  'score': 0.07080093026161194},\n",
       " {'m': <src.molecule_pair.MoleculePair at 0x376184410>,\n",
       "  'score': 0.09419780969619751},\n",
       " {'m': <src.molecule_pair.MoleculePair at 0x376184310>,\n",
       "  'score': 0.4356180429458618},\n",
       " {'m': <src.molecule_pair.MoleculePair at 0x376185390>,\n",
       "  'score': 0.04800061136484146},\n",
       " {'m': <src.molecule_pair.MoleculePair at 0x3761852d0>,\n",
       "  'score': 0.06048552691936493},\n",
       " {'m': <src.molecule_pair.MoleculePair at 0x376185210>,\n",
       "  'score': 0.2681739330291748},\n",
       " {'m': <src.molecule_pair.MoleculePair at 0x376185110>,\n",
       "  'score': 0.08699168264865875},\n",
       " {'m': <src.molecule_pair.MoleculePair at 0x376185050>,\n",
       "  'score': 0.31855353713035583},\n",
       " {'m': <src.molecule_pair.MoleculePair at 0x376184f90>,\n",
       "  'score': 0.19309183955192566},\n",
       " {'m': <src.molecule_pair.MoleculePair at 0x376184e90>,\n",
       "  'score': 0.06689713895320892},\n",
       " {'m': <src.molecule_pair.MoleculePair at 0x376184dd0>,\n",
       "  'score': 0.06970235705375671},\n",
       " {'m': <src.molecule_pair.MoleculePair at 0x376184d10>,\n",
       "  'score': 0.048044353723526},\n",
       " {'m': <src.molecule_pair.MoleculePair at 0x376185d50>,\n",
       "  'score': 0.04528527334332466},\n",
       " {'m': <src.molecule_pair.MoleculePair at 0x376185c90>,\n",
       "  'score': 0.040388427674770355},\n",
       " {'m': <src.molecule_pair.MoleculePair at 0x376185bd0>,\n",
       "  'score': 0.05902324244379997},\n",
       " {'m': <src.molecule_pair.MoleculePair at 0x376185b10>,\n",
       "  'score': 0.11754702776670456},\n",
       " {'m': <src.molecule_pair.MoleculePair at 0x376185a10>,\n",
       "  'score': 0.12888018786907196},\n",
       " {'m': <src.molecule_pair.MoleculePair at 0x376185950>,\n",
       "  'score': 0.053432486951351166},\n",
       " {'m': <src.molecule_pair.MoleculePair at 0x376185850>,\n",
       "  'score': 0.01694558560848236},\n",
       " {'m': <src.molecule_pair.MoleculePair at 0x376185790>,\n",
       "  'score': 0.06515192985534668},\n",
       " {'m': <src.molecule_pair.MoleculePair at 0x3761856d0>,\n",
       "  'score': 0.058154910802841187},\n",
       " {'m': <src.molecule_pair.MoleculePair at 0x376185e10>,\n",
       "  'score': 0.030470989644527435},\n",
       " {'m': <src.molecule_pair.MoleculePair at 0x376186650>,\n",
       "  'score': 0.2036580741405487},\n",
       " {'m': <src.molecule_pair.MoleculePair at 0x376186590>,\n",
       "  'score': 0.2312476634979248},\n",
       " {'m': <src.molecule_pair.MoleculePair at 0x3761864d0>,\n",
       "  'score': 0.2852535843849182},\n",
       " {'m': <src.molecule_pair.MoleculePair at 0x3761863d0>,\n",
       "  'score': 0.09192606806755066},\n",
       " {'m': <src.molecule_pair.MoleculePair at 0x376186310>,\n",
       "  'score': 0.1186828762292862},\n",
       " {'m': <src.molecule_pair.MoleculePair at 0x376186250>,\n",
       "  'score': 0.08318234980106354},\n",
       " {'m': <src.molecule_pair.MoleculePair at 0x376186150>,\n",
       "  'score': 0.15981268882751465},\n",
       " {'m': <src.molecule_pair.MoleculePair at 0x376186090>,\n",
       "  'score': 0.2648490071296692},\n",
       " {'m': <src.molecule_pair.MoleculePair at 0x376185fd0>,\n",
       "  'score': 0.02170412614941597},\n",
       " {'m': <src.molecule_pair.MoleculePair at 0x376185ed0>,\n",
       "  'score': 0.06856285780668259},\n",
       " {'m': <src.molecule_pair.MoleculePair at 0x376186f50>,\n",
       "  'score': 0.11910147964954376},\n",
       " {'m': <src.molecule_pair.MoleculePair at 0x376186e90>,\n",
       "  'score': 0.047676071524620056},\n",
       " {'m': <src.molecule_pair.MoleculePair at 0x376186dd0>,\n",
       "  'score': 0.04423266276717186},\n",
       " {'m': <src.molecule_pair.MoleculePair at 0x376186cd0>,\n",
       "  'score': 0.054706331342458725},\n",
       " {'m': <src.molecule_pair.MoleculePair at 0x376186c10>,\n",
       "  'score': 0.051276370882987976},\n",
       " {'m': <src.molecule_pair.MoleculePair at 0x376186b50>,\n",
       "  'score': 0.01582961715757847},\n",
       " {'m': <src.molecule_pair.MoleculePair at 0x376186a50>,\n",
       "  'score': 0.014302369207143784},\n",
       " {'m': <src.molecule_pair.MoleculePair at 0x376186990>,\n",
       "  'score': 0.04706709086894989},\n",
       " {'m': <src.molecule_pair.MoleculePair at 0x3761868d0>,\n",
       "  'score': 0.06603166460990906},\n",
       " {'m': <src.molecule_pair.MoleculePair at 0x376187910>,\n",
       "  'score': 0.08541273325681686},\n",
       " {'m': <src.molecule_pair.MoleculePair at 0x376187850>,\n",
       "  'score': 0.019476404413580894},\n",
       " {'m': <src.molecule_pair.MoleculePair at 0x376187790>,\n",
       "  'score': 0.02895580604672432},\n",
       " {'m': <src.molecule_pair.MoleculePair at 0x3761876d0>,\n",
       "  'score': 0.03771549463272095},\n",
       " {'m': <src.molecule_pair.MoleculePair at 0x3761875d0>,\n",
       "  'score': 0.029801592230796814},\n",
       " {'m': <src.molecule_pair.MoleculePair at 0x376187510>,\n",
       "  'score': 0.0800577849149704},\n",
       " {'m': <src.molecule_pair.MoleculePair at 0x376187410>,\n",
       "  'score': 0.044946037232875824},\n",
       " {'m': <src.molecule_pair.MoleculePair at 0x376187350>,\n",
       "  'score': 0.1607588827610016},\n",
       " {'m': <src.molecule_pair.MoleculePair at 0x376187290>,\n",
       "  'score': 0.1493767946958542},\n",
       " {'m': <src.molecule_pair.MoleculePair at 0x3761879d0>,\n",
       "  'score': 0.1796160787343979},\n",
       " {'m': <src.molecule_pair.MoleculePair at 0x376187f50>,\n",
       "  'score': 0.09399687498807907},\n",
       " {'m': <src.molecule_pair.MoleculePair at 0x376187e90>,\n",
       "  'score': 0.1122225672006607},\n",
       " {'m': <src.molecule_pair.MoleculePair at 0x376187dd0>,\n",
       "  'score': 0.04369737207889557},\n",
       " {'m': <src.molecule_pair.MoleculePair at 0x376187cd0>,\n",
       "  'score': 0.30018576979637146},\n",
       " {'m': <src.molecule_pair.MoleculePair at 0x376187c10>,\n",
       "  'score': 0.06115678697824478},\n",
       " {'m': <src.molecule_pair.MoleculePair at 0x376187b50>,\n",
       "  'score': 0.02732616662979126},\n",
       " {'m': <src.molecule_pair.MoleculePair at 0x376184c90>,\n",
       "  'score': 0.13023647665977478},\n",
       " {'m': <src.molecule_pair.MoleculePair at 0x376186850>,\n",
       "  'score': 0.11818765103816986},\n",
       " {'m': <src.molecule_pair.MoleculePair at 0x376192510>,\n",
       "  'score': 0.0889483168721199},\n",
       " {'m': <src.molecule_pair.MoleculePair at 0x376193790>,\n",
       "  'score': 0.08528545498847961},\n",
       " {'m': <src.molecule_pair.MoleculePair at 0x3761922d0>,\n",
       "  'score': 0.12065782397985458},\n",
       " {'m': <src.molecule_pair.MoleculePair at 0x376193550>,\n",
       "  'score': 0.1123480349779129},\n",
       " {'m': <src.molecule_pair.MoleculePair at 0x376190250>,\n",
       "  'score': 0.058804623782634735},\n",
       " {'m': <src.molecule_pair.MoleculePair at 0x376190190>,\n",
       "  'score': 0.13566166162490845},\n",
       " {'m': <src.molecule_pair.MoleculePair at 0x3761900d0>,\n",
       "  'score': 0.13374099135398865},\n",
       " {'m': <src.molecule_pair.MoleculePair at 0x376190350>,\n",
       "  'score': 0.1699874997138977},\n",
       " {'m': <src.molecule_pair.MoleculePair at 0x376190b50>,\n",
       "  'score': 0.020891396328806877},\n",
       " {'m': <src.molecule_pair.MoleculePair at 0x376190a90>,\n",
       "  'score': 0.05475199222564697},\n",
       " {'m': <src.molecule_pair.MoleculePair at 0x3761909d0>,\n",
       "  'score': 0.060871146619319916},\n",
       " {'m': <src.molecule_pair.MoleculePair at 0x3761908d0>,\n",
       "  'score': 0.16313239932060242},\n",
       " {'m': <src.molecule_pair.MoleculePair at 0x376190810>,\n",
       "  'score': 0.06147914379835129},\n",
       " {'m': <src.molecule_pair.MoleculePair at 0x376190750>,\n",
       "  'score': 0.13616520166397095},\n",
       " {'m': <src.molecule_pair.MoleculePair at 0x376190650>,\n",
       "  'score': 0.019255876541137695},\n",
       " {'m': <src.molecule_pair.MoleculePair at 0x376190590>,\n",
       "  'score': 0.056643739342689514},\n",
       " {'m': <src.molecule_pair.MoleculePair at 0x3761904d0>,\n",
       "  'score': 0.06734384596347809},\n",
       " {'m': <src.molecule_pair.MoleculePair at 0x376191510>,\n",
       "  'score': 0.061720360070466995},\n",
       " {'m': <src.molecule_pair.MoleculePair at 0x376191450>,\n",
       "  'score': 0.1103648692369461},\n",
       " {'m': <src.molecule_pair.MoleculePair at 0x376191390>,\n",
       "  'score': 0.037474263459444046},\n",
       " {'m': <src.molecule_pair.MoleculePair at 0x3761912d0>,\n",
       "  'score': 0.07803042978048325},\n",
       " {'m': <src.molecule_pair.MoleculePair at 0x3761911d0>,\n",
       "  'score': 0.1345016062259674},\n",
       " {'m': <src.molecule_pair.MoleculePair at 0x376191110>,\n",
       "  'score': 0.09351948648691177},\n",
       " {'m': <src.molecule_pair.MoleculePair at 0x376191010>,\n",
       "  'score': 0.2137635499238968},\n",
       " {'m': <src.molecule_pair.MoleculePair at 0x376190f50>,\n",
       "  'score': 0.07578691840171814},\n",
       " {'m': <src.molecule_pair.MoleculePair at 0x376190e90>,\n",
       "  'score': 0.07209031283855438},\n",
       " {'m': <src.molecule_pair.MoleculePair at 0x3761915d0>,\n",
       "  'score': 0.14970967173576355},\n",
       " {'m': <src.molecule_pair.MoleculePair at 0x376190d50>,\n",
       "  'score': 0.14139442145824432},\n",
       " {'m': <src.molecule_pair.MoleculePair at 0x376191dd0>,\n",
       "  'score': 0.027317151427268982},\n",
       " {'m': <src.molecule_pair.MoleculePair at 0x376191d10>,\n",
       "  'score': 0.008230413310229778},\n",
       " {'m': <src.molecule_pair.MoleculePair at 0x376191c50>,\n",
       "  'score': 0.27508237957954407},\n",
       " {'m': <src.molecule_pair.MoleculePair at 0x376191b50>,\n",
       "  'score': 0.10248611867427826},\n",
       " {'m': <src.molecule_pair.MoleculePair at 0x376191a90>,\n",
       "  'score': 0.07167612016201019},\n",
       " {'m': <src.molecule_pair.MoleculePair at 0x3761919d0>,\n",
       "  'score': 0.08259519934654236},\n",
       " {'m': <src.molecule_pair.MoleculePair at 0x3761918d0>,\n",
       "  'score': 0.05016414076089859},\n",
       " {'m': <src.molecule_pair.MoleculePair at 0x376191810>,\n",
       "  'score': 0.03512706980109215},\n",
       " {'m': <src.molecule_pair.MoleculePair at 0x376191750>,\n",
       "  'score': 0.12227378040552139},\n",
       " {'m': <src.molecule_pair.MoleculePair at 0x376192790>,\n",
       "  'score': 0.11438955366611481},\n",
       " {'m': <src.molecule_pair.MoleculePair at 0x3761926d0>,\n",
       "  'score': 0.0782165378332138},\n",
       " {'m': <src.molecule_pair.MoleculePair at 0x376192610>,\n",
       "  'score': 0.10317026078701019},\n",
       " {'m': <src.molecule_pair.MoleculePair at 0x376192550>,\n",
       "  'score': 0.23197805881500244},\n",
       " {'m': <src.molecule_pair.MoleculePair at 0x376192450>,\n",
       "  'score': 0.051884375512599945},\n",
       " {'m': <src.molecule_pair.MoleculePair at 0x376192390>,\n",
       "  'score': 0.08245447278022766},\n",
       " {'m': <src.molecule_pair.MoleculePair at 0x376192290>,\n",
       "  'score': 0.09656297415494919},\n",
       " {'m': <src.molecule_pair.MoleculePair at 0x3761921d0>,\n",
       "  'score': 0.0636298805475235},\n",
       " {'m': <src.molecule_pair.MoleculePair at 0x376192110>,\n",
       "  'score': 0.014892853796482086},\n",
       " {'m': <src.molecule_pair.MoleculePair at 0x376192850>,\n",
       "  'score': 0.017141319811344147},\n",
       " {'m': <src.molecule_pair.MoleculePair at 0x376193090>,\n",
       "  'score': 0.3556826710700989},\n",
       " {'m': <src.molecule_pair.MoleculePair at 0x376192fd0>,\n",
       "  'score': 0.048287853598594666},\n",
       " {'m': <src.molecule_pair.MoleculePair at 0x376192f10>,\n",
       "  'score': 0.03702249377965927},\n",
       " {'m': <src.molecule_pair.MoleculePair at 0x376192e10>,\n",
       "  'score': 0.25259077548980713},\n",
       " {'m': <src.molecule_pair.MoleculePair at 0x376192d50>,\n",
       "  'score': 0.18183305859565735},\n",
       " {'m': <src.molecule_pair.MoleculePair at 0x376192c90>,\n",
       "  'score': 0.024289999157190323},\n",
       " {'m': <src.molecule_pair.MoleculePair at 0x376192b90>,\n",
       "  'score': 0.08422160148620605},\n",
       " {'m': <src.molecule_pair.MoleculePair at 0x376192ad0>,\n",
       "  'score': 0.072038434445858},\n",
       " {'m': <src.molecule_pair.MoleculePair at 0x376192a10>,\n",
       "  'score': 0.07112723588943481},\n",
       " {'m': <src.molecule_pair.MoleculePair at 0x376192910>,\n",
       "  'score': 0.06678149104118347},\n",
       " {'m': <src.molecule_pair.MoleculePair at 0x376193990>,\n",
       "  'score': 0.10803979635238647},\n",
       " {'m': <src.molecule_pair.MoleculePair at 0x3761938d0>,\n",
       "  'score': 0.0962996855378151},\n",
       " {'m': <src.molecule_pair.MoleculePair at 0x376193810>,\n",
       "  'score': 0.03154793754220009},\n",
       " {'m': <src.molecule_pair.MoleculePair at 0x376193710>,\n",
       "  'score': 0.02411489561200142},\n",
       " {'m': <src.molecule_pair.MoleculePair at 0x376193650>,\n",
       "  'score': 0.08213161677122116},\n",
       " {'m': <src.molecule_pair.MoleculePair at 0x376193590>,\n",
       "  'score': 0.05498751997947693},\n",
       " {'m': <src.molecule_pair.MoleculePair at 0x376193490>,\n",
       "  'score': 0.18786200881004333},\n",
       " {'m': <src.molecule_pair.MoleculePair at 0x3761933d0>,\n",
       "  'score': 0.06608352065086365},\n",
       " {'m': <src.molecule_pair.MoleculePair at 0x376193310>,\n",
       "  'score': 0.12469874322414398},\n",
       " {'m': <src.molecule_pair.MoleculePair at 0x376193fd0>,\n",
       "  'score': 0.10395579040050507},\n",
       " {'m': <src.molecule_pair.MoleculePair at 0x376193f10>,\n",
       "  'score': 0.433698832988739},\n",
       " {'m': <src.molecule_pair.MoleculePair at 0x376193e10>,\n",
       "  'score': 0.10289004445075989},\n",
       " {'m': <src.molecule_pair.MoleculePair at 0x376193d50>,\n",
       "  'score': 0.13088130950927734},\n",
       " {'m': <src.molecule_pair.MoleculePair at 0x376193c90>,\n",
       "  'score': 0.08692795038223267},\n",
       " {'m': <src.molecule_pair.MoleculePair at 0x376190450>,\n",
       "  'score': 0.02862156182527542},\n",
       " {'m': <src.molecule_pair.MoleculePair at 0x376192010>,\n",
       "  'score': 0.07139448076486588},\n",
       " {'m': <src.molecule_pair.MoleculePair at 0x376193bd0>,\n",
       "  'score': 0.34173697233200073},\n",
       " {'m': <src.molecule_pair.MoleculePair at 0x37619b890>,\n",
       "  'score': 0.02651778794825077},\n",
       " {'m': <src.molecule_pair.MoleculePair at 0x376198a50>,\n",
       "  'score': 0.025258956477046013},\n",
       " {'m': <src.molecule_pair.MoleculePair at 0x37619ad10>,\n",
       "  'score': 0.07552967965602875},\n",
       " {'m': <src.molecule_pair.MoleculePair at 0x376198810>,\n",
       "  'score': 0.06111703813076019},\n",
       " {'m': <src.molecule_pair.MoleculePair at 0x376198310>,\n",
       "  'score': 0.02896089293062687},\n",
       " {'m': <src.molecule_pair.MoleculePair at 0x376198250>,\n",
       "  'score': 0.38227343559265137},\n",
       " {'m': <src.molecule_pair.MoleculePair at 0x376198190>,\n",
       "  'score': 0.06703650206327438},\n",
       " {'m': <src.molecule_pair.MoleculePair at 0x376198090>,\n",
       "  'score': 0.022256653755903244},\n",
       " {'m': <src.molecule_pair.MoleculePair at 0x376198cd0>,\n",
       "  'score': 0.38657206296920776},\n",
       " {'m': <src.molecule_pair.MoleculePair at 0x376198c10>,\n",
       "  'score': 0.08112803101539612},\n",
       " {'m': <src.molecule_pair.MoleculePair at 0x376198b50>,\n",
       "  'score': 0.03212253376841545},\n",
       " {'m': <src.molecule_pair.MoleculePair at 0x376198a90>,\n",
       "  'score': 0.06031861901283264},\n",
       " {'m': <src.molecule_pair.MoleculePair at 0x376198990>,\n",
       "  'score': 0.05750027298927307},\n",
       " {'m': <src.molecule_pair.MoleculePair at 0x3761988d0>,\n",
       "  'score': 0.05094777047634125},\n",
       " {'m': <src.molecule_pair.MoleculePair at 0x3761987d0>,\n",
       "  'score': 0.03007626160979271},\n",
       " {'m': <src.molecule_pair.MoleculePair at 0x376198710>,\n",
       "  'score': 0.05112933740019798},\n",
       " {'m': <src.molecule_pair.MoleculePair at 0x376198650>,\n",
       "  'score': 0.05080411583185196},\n",
       " {'m': <src.molecule_pair.MoleculePair at 0x376198d90>,\n",
       "  'score': 0.05410856008529663},\n",
       " {'m': <src.molecule_pair.MoleculePair at 0x3761995d0>,\n",
       "  'score': 0.08846308290958405},\n",
       " {'m': <src.molecule_pair.MoleculePair at 0x376199510>,\n",
       "  'score': 0.17906995117664337},\n",
       " {'m': <src.molecule_pair.MoleculePair at 0x376199450>,\n",
       "  'score': 0.062498778104782104},\n",
       " {'m': <src.molecule_pair.MoleculePair at 0x376199350>,\n",
       "  'score': 0.09680808335542679},\n",
       " {'m': <src.molecule_pair.MoleculePair at 0x376199290>,\n",
       "  'score': 0.06112898141145706},\n",
       " {'m': <src.molecule_pair.MoleculePair at 0x3761991d0>,\n",
       "  'score': 0.07824806123971939},\n",
       " {'m': <src.molecule_pair.MoleculePair at 0x3761990d0>,\n",
       "  'score': 0.04106441140174866},\n",
       " {'m': <src.molecule_pair.MoleculePair at 0x376199010>,\n",
       "  'score': 0.2148783951997757},\n",
       " {'m': <src.molecule_pair.MoleculePair at 0x376198f50>,\n",
       "  'score': 0.0339856818318367},\n",
       " {'m': <src.molecule_pair.MoleculePair at 0x376198e50>,\n",
       "  'score': 0.14009015262126923},\n",
       " {'m': <src.molecule_pair.MoleculePair at 0x376199ed0>,\n",
       "  'score': 0.231560617685318},\n",
       " {'m': <src.molecule_pair.MoleculePair at 0x376199e10>,\n",
       "  'score': 0.2080589234828949},\n",
       " {'m': <src.molecule_pair.MoleculePair at 0x376199d50>,\n",
       "  'score': 0.12479196488857269},\n",
       " {'m': <src.molecule_pair.MoleculePair at 0x376199c50>,\n",
       "  'score': 0.06390184909105301},\n",
       " {'m': <src.molecule_pair.MoleculePair at 0x376199b90>,\n",
       "  'score': 0.15914368629455566},\n",
       " {'m': <src.molecule_pair.MoleculePair at 0x376199ad0>,\n",
       "  'score': 0.03565829247236252},\n",
       " {'m': <src.molecule_pair.MoleculePair at 0x3761999d0>,\n",
       "  'score': 0.05343860387802124},\n",
       " {'m': <src.molecule_pair.MoleculePair at 0x376199910>,\n",
       "  'score': 0.08370044827461243},\n",
       " {'m': <src.molecule_pair.MoleculePair at 0x376199850>,\n",
       "  'score': 0.14977426826953888},\n",
       " {'m': <src.molecule_pair.MoleculePair at 0x37619a610>,\n",
       "  'score': 0.042363300919532776},\n",
       " {'m': <src.molecule_pair.MoleculePair at 0x37619a850>,\n",
       "  'score': 0.34821242094039917},\n",
       " {'m': <src.molecule_pair.MoleculePair at 0x37619a790>,\n",
       "  'score': 0.07381778955459595},\n",
       " {'m': <src.molecule_pair.MoleculePair at 0x37619a6d0>,\n",
       "  'score': 0.042404189705848694},\n",
       " {'m': <src.molecule_pair.MoleculePair at 0x37619a5d0>,\n",
       "  'score': 0.04841821640729904},\n",
       " {'m': <src.molecule_pair.MoleculePair at 0x37619a510>,\n",
       "  'score': 0.016937926411628723},\n",
       " {'m': <src.molecule_pair.MoleculePair at 0x37619a450>,\n",
       "  'score': 0.10861163586378098},\n",
       " {'m': <src.molecule_pair.MoleculePair at 0x37619a350>,\n",
       "  'score': 0.10273464769124985},\n",
       " {'m': <src.molecule_pair.MoleculePair at 0x37619a290>,\n",
       "  'score': 0.11577479541301727},\n",
       " {'m': <src.molecule_pair.MoleculePair at 0x37619a1d0>,\n",
       "  'score': 0.044711507856845856},\n",
       " {'m': <src.molecule_pair.MoleculePair at 0x37619a0d0>,\n",
       "  'score': 0.05146372690796852},\n",
       " {'m': <src.molecule_pair.MoleculePair at 0x37619b150>,\n",
       "  'score': 0.07537733018398285},\n",
       " {'m': <src.molecule_pair.MoleculePair at 0x37619b090>,\n",
       "  'score': 0.3288470208644867},\n",
       " {'m': <src.molecule_pair.MoleculePair at 0x37619afd0>,\n",
       "  'score': 0.0795755535364151},\n",
       " {'m': <src.molecule_pair.MoleculePair at 0x37619aed0>,\n",
       "  'score': 0.10597787797451019},\n",
       " {'m': <src.molecule_pair.MoleculePair at 0x37619ae10>,\n",
       "  'score': 0.13155850768089294},\n",
       " {'m': <src.molecule_pair.MoleculePair at 0x37619ad50>,\n",
       "  'score': 0.2689312696456909},\n",
       " {'m': <src.molecule_pair.MoleculePair at 0x37619ac50>,\n",
       "  'score': 0.0553877130150795},\n",
       " {'m': <src.molecule_pair.MoleculePair at 0x37619ab90>,\n",
       "  'score': 0.2098323255777359},\n",
       " {'m': <src.molecule_pair.MoleculePair at 0x37619aad0>,\n",
       "  'score': 0.08054520189762115},\n",
       " {'m': <src.molecule_pair.MoleculePair at 0x37619bb10>,\n",
       "  'score': 0.03453764691948891},\n",
       " {'m': <src.molecule_pair.MoleculePair at 0x37619ba50>,\n",
       "  'score': 0.1463804394006729},\n",
       " {'m': <src.molecule_pair.MoleculePair at 0x37619b990>,\n",
       "  'score': 0.1393464356660843},\n",
       " {'m': <src.molecule_pair.MoleculePair at 0x37619b8d0>,\n",
       "  'score': 0.036064837127923965},\n",
       " {'m': <src.molecule_pair.MoleculePair at 0x37619b7d0>,\n",
       "  'score': 0.11204031854867935},\n",
       " {'m': <src.molecule_pair.MoleculePair at 0x37619b710>,\n",
       "  'score': 0.08265100419521332},\n",
       " {'m': <src.molecule_pair.MoleculePair at 0x37619b610>,\n",
       "  'score': 0.023868918418884277},\n",
       " {'m': <src.molecule_pair.MoleculePair at 0x37619b550>,\n",
       "  'score': 0.08183720707893372},\n",
       " {'m': <src.molecule_pair.MoleculePair at 0x37619b490>,\n",
       "  'score': 0.11412584781646729},\n",
       " {'m': <src.molecule_pair.MoleculePair at 0x37619bbd0>,\n",
       "  'score': 0.062398333102464676},\n",
       " {'m': <src.molecule_pair.MoleculePair at 0x37619bf50>,\n",
       "  'score': 0.07866457849740982},\n",
       " {'m': <src.molecule_pair.MoleculePair at 0x37619be90>,\n",
       "  'score': 0.048911165446043015},\n",
       " {'m': <src.molecule_pair.MoleculePair at 0x37619bdd0>,\n",
       "  'score': 0.14498992264270782},\n",
       " {'m': <src.molecule_pair.MoleculePair at 0x37619bc90>,\n",
       "  'score': 0.1184021383523941},\n",
       " {'m': <src.molecule_pair.MoleculePair at 0x3761997d0>,\n",
       "  'score': 0.025607410818338394},\n",
       " {'m': <src.molecule_pair.MoleculePair at 0x37619b390>,\n",
       "  'score': 0.04500388354063034},\n",
       " {'m': <src.molecule_pair.MoleculePair at 0x3761a5dd0>,\n",
       "  'score': 0.031891901046037674},\n",
       " {'m': <src.molecule_pair.MoleculePair at 0x3761a4b50>,\n",
       "  'score': 0.044452451169490814},\n",
       " {'m': <src.molecule_pair.MoleculePair at 0x3761a7750>,\n",
       "  'score': 0.04283258691430092},\n",
       " {'m': <src.molecule_pair.MoleculePair at 0x3761a4910>,\n",
       "  'score': 0.11455997824668884},\n",
       " {'m': <src.molecule_pair.MoleculePair at 0x3761a4490>,\n",
       "  'score': 0.01708262972533703},\n",
       " {'m': <src.molecule_pair.MoleculePair at 0x3761a43d0>,\n",
       "  'score': 0.03609984368085861},\n",
       " {'m': <src.molecule_pair.MoleculePair at 0x3761a4310>,\n",
       "  'score': 0.045302219688892365},\n",
       " {'m': <src.molecule_pair.MoleculePair at 0x3761a4250>,\n",
       "  'score': 0.053043633699417114},\n",
       " {'m': <src.molecule_pair.MoleculePair at 0x3761a4150>,\n",
       "  'score': 0.03146091848611832},\n",
       " {'m': <src.molecule_pair.MoleculePair at 0x3761a4090>,\n",
       "  'score': 0.07547753304243088},\n",
       " {'m': <src.molecule_pair.MoleculePair at 0x3761a4dd0>,\n",
       "  'score': 0.04989096522331238},\n",
       " {'m': <src.molecule_pair.MoleculePair at 0x3761a4d10>,\n",
       "  'score': 0.10597721487283707},\n",
       " {'m': <src.molecule_pair.MoleculePair at 0x3761a4c50>,\n",
       "  'score': 0.06821315735578537},\n",
       " {'m': <src.molecule_pair.MoleculePair at 0x3761a4b90>,\n",
       "  'score': 0.05215410515666008},\n",
       " {'m': <src.molecule_pair.MoleculePair at 0x3761a4a90>,\n",
       "  'score': 0.08493110537528992},\n",
       " {'m': <src.molecule_pair.MoleculePair at 0x3761a49d0>,\n",
       "  'score': 0.05258619785308838},\n",
       " {'m': <src.molecule_pair.MoleculePair at 0x3761a48d0>,\n",
       "  'score': 0.03725414350628853},\n",
       " {'m': <src.molecule_pair.MoleculePair at 0x3761a4810>,\n",
       "  'score': 0.07937730848789215},\n",
       " {'m': <src.molecule_pair.MoleculePair at 0x3761a4750>,\n",
       "  'score': 0.03650989383459091},\n",
       " {'m': <src.molecule_pair.MoleculePair at 0x3761a4e90>,\n",
       "  'score': 0.12408380210399628},\n",
       " {'m': <src.molecule_pair.MoleculePair at 0x3761a56d0>,\n",
       "  'score': 0.10882198065519333},\n",
       " {'m': <src.molecule_pair.MoleculePair at 0x3761a5610>,\n",
       "  'score': 0.11867313086986542},\n",
       " {'m': <src.molecule_pair.MoleculePair at 0x3761a5550>,\n",
       "  'score': 0.1457224190235138},\n",
       " {'m': <src.molecule_pair.MoleculePair at 0x3761a5450>,\n",
       "  'score': 0.00994748342782259},\n",
       " {'m': <src.molecule_pair.MoleculePair at 0x3761a5390>,\n",
       "  'score': 0.09564931690692902},\n",
       " {'m': <src.molecule_pair.MoleculePair at 0x3761a52d0>,\n",
       "  'score': 0.10102851688861847},\n",
       " {'m': <src.molecule_pair.MoleculePair at 0x3761a51d0>,\n",
       "  'score': 0.20296147465705872},\n",
       " {'m': <src.molecule_pair.MoleculePair at 0x3761a5110>,\n",
       "  'score': 0.05906070023775101},\n",
       " {'m': <src.molecule_pair.MoleculePair at 0x3761a5050>,\n",
       "  'score': 0.14908915758132935},\n",
       " {'m': <src.molecule_pair.MoleculePair at 0x3761a4f50>,\n",
       "  'score': 0.10558399558067322},\n",
       " {'m': <src.molecule_pair.MoleculePair at 0x3761a5fd0>,\n",
       "  'score': 0.05389784276485443},\n",
       " {'m': <src.molecule_pair.MoleculePair at 0x3761a5f10>,\n",
       "  'score': 0.04786181449890137},\n",
       " {'m': <src.molecule_pair.MoleculePair at 0x3761a5e50>,\n",
       "  'score': 0.07998281717300415},\n",
       " {'m': <src.molecule_pair.MoleculePair at 0x3761a5d50>,\n",
       "  'score': 0.03295208513736725},\n",
       " {'m': <src.molecule_pair.MoleculePair at 0x3761a5c90>,\n",
       "  'score': 0.009586513042449951},\n",
       " {'m': <src.molecule_pair.MoleculePair at 0x3761a5bd0>,\n",
       "  'score': 0.05463702231645584},\n",
       " {'m': <src.molecule_pair.MoleculePair at 0x3761a5ad0>,\n",
       "  'score': 0.3684852123260498},\n",
       " {'m': <src.molecule_pair.MoleculePair at 0x3761a5a10>,\n",
       "  'score': 0.10987631231546402},\n",
       " {'m': <src.molecule_pair.MoleculePair at 0x3761a5950>,\n",
       "  'score': 0.0851580873131752},\n",
       " {'m': <src.molecule_pair.MoleculePair at 0x3761a6990>,\n",
       "  'score': 0.02331700176000595},\n",
       " {'m': <src.molecule_pair.MoleculePair at 0x3761a68d0>,\n",
       "  'score': 0.06596331298351288},\n",
       " {'m': <src.molecule_pair.MoleculePair at 0x3761a6810>,\n",
       "  'score': 0.05627407506108284},\n",
       " {'m': <src.molecule_pair.MoleculePair at 0x3761a6750>,\n",
       "  'score': 0.043706703931093216},\n",
       " {'m': <src.molecule_pair.MoleculePair at 0x3761a6650>,\n",
       "  'score': 0.03157193958759308},\n",
       " {'m': <src.molecule_pair.MoleculePair at 0x3761a6590>,\n",
       "  'score': 0.03836403042078018},\n",
       " {'m': <src.molecule_pair.MoleculePair at 0x3761a6490>,\n",
       "  'score': 0.01658981665968895},\n",
       " {'m': <src.molecule_pair.MoleculePair at 0x3761a63d0>,\n",
       "  'score': 0.06667419523000717},\n",
       " {'m': <src.molecule_pair.MoleculePair at 0x3761a6310>,\n",
       "  'score': 0.04976798966526985},\n",
       " {'m': <src.molecule_pair.MoleculePair at 0x3761a6a50>,\n",
       "  'score': 0.11845169961452484},\n",
       " {'m': <src.molecule_pair.MoleculePair at 0x3761a7290>,\n",
       "  'score': 0.04516005143523216},\n",
       " {'m': <src.molecule_pair.MoleculePair at 0x3761a71d0>,\n",
       "  'score': 0.029236609116196632},\n",
       " {'m': <src.molecule_pair.MoleculePair at 0x3761a7110>,\n",
       "  'score': 0.06252294778823853},\n",
       " {'m': <src.molecule_pair.MoleculePair at 0x3761a7010>,\n",
       "  'score': 0.02336101233959198},\n",
       " {'m': <src.molecule_pair.MoleculePair at 0x3761a6f50>,\n",
       "  'score': 0.05923391506075859},\n",
       " {'m': <src.molecule_pair.MoleculePair at 0x3761a6e90>,\n",
       "  'score': 0.0499187596142292},\n",
       " {'m': <src.molecule_pair.MoleculePair at 0x3761a6d90>,\n",
       "  'score': 0.02890694886445999},\n",
       " {'m': <src.molecule_pair.MoleculePair at 0x3761a6cd0>,\n",
       "  'score': 0.09087496995925903},\n",
       " {'m': <src.molecule_pair.MoleculePair at 0x3761a6c10>,\n",
       "  'score': 0.054354023188352585},\n",
       " {'m': <src.molecule_pair.MoleculePair at 0x3761a6b10>,\n",
       "  'score': 0.06809882074594498},\n",
       " {'m': <src.molecule_pair.MoleculePair at 0x3761a7b90>,\n",
       "  'score': 0.03513125702738762},\n",
       " {'m': <src.molecule_pair.MoleculePair at 0x3761a7ad0>,\n",
       "  'score': 0.05291299894452095},\n",
       " {'m': <src.molecule_pair.MoleculePair at 0x3761a7a10>,\n",
       "  'score': 0.039866093546152115},\n",
       " {'m': <src.molecule_pair.MoleculePair at 0x3761a7910>,\n",
       "  'score': 0.12039398401975632},\n",
       " {'m': <src.molecule_pair.MoleculePair at 0x3761a7850>,\n",
       "  'score': 0.04283270239830017},\n",
       " {'m': <src.molecule_pair.MoleculePair at 0x3761a7790>,\n",
       "  'score': 0.6984435319900513},\n",
       " {'m': <src.molecule_pair.MoleculePair at 0x3761a7690>,\n",
       "  'score': 0.023766713216900826},\n",
       " {'m': <src.molecule_pair.MoleculePair at 0x3761a75d0>,\n",
       "  'score': 0.03777164965867996},\n",
       " {'m': <src.molecule_pair.MoleculePair at 0x3761a7510>,\n",
       "  'score': 0.06643146276473999},\n",
       " {'m': <src.molecule_pair.MoleculePair at 0x3761a7fd0>,\n",
       "  'score': 0.01703856885433197},\n",
       " {'m': <src.molecule_pair.MoleculePair at 0x3761a7f10>,\n",
       "  'score': 0.018925128504633904},\n",
       " {'m': <src.molecule_pair.MoleculePair at 0x3761a7e50>,\n",
       "  'score': 0.028911855071783066},\n",
       " {'m': <src.molecule_pair.MoleculePair at 0x3761a4f90>,\n",
       "  'score': 0.009911575354635715},\n",
       " {'m': <src.molecule_pair.MoleculePair at 0x3761a6b50>,\n",
       "  'score': 0.08349305391311646},\n",
       " {'m': <src.molecule_pair.MoleculePair at 0x3761b7150>,\n",
       "  'score': 0.054340362548828125},\n",
       " {'m': <src.molecule_pair.MoleculePair at 0x3761b7a90>,\n",
       "  'score': 0.06966722756624222},\n",
       " {'m': <src.molecule_pair.MoleculePair at 0x3761b5590>,\n",
       "  'score': 0.05662669241428375},\n",
       " {'m': <src.molecule_pair.MoleculePair at 0x3761b4a10>,\n",
       "  'score': 0.05576656386256218},\n",
       " {'m': <src.molecule_pair.MoleculePair at 0x3761b40d0>,\n",
       "  'score': 0.03776085376739502},\n",
       " {'m': <src.molecule_pair.MoleculePair at 0x3761b4550>,\n",
       "  'score': 0.052224718034267426},\n",
       " {'m': <src.molecule_pair.MoleculePair at 0x3761b4490>,\n",
       "  'score': 0.02795328199863434},\n",
       " {'m': <src.molecule_pair.MoleculePair at 0x3761b43d0>,\n",
       "  'score': 0.03780565783381462},\n",
       " {'m': <src.molecule_pair.MoleculePair at 0x3761b42d0>,\n",
       "  'score': 0.012920251116156578},\n",
       " {'m': <src.molecule_pair.MoleculePair at 0x3761b4210>,\n",
       "  'score': 0.0375850573182106},\n",
       " {'m': <src.molecule_pair.MoleculePair at 0x3761b4150>,\n",
       "  'score': 0.0901375263929367},\n",
       " {'m': <src.molecule_pair.MoleculePair at 0x3761b4050>,\n",
       "  'score': 0.01051488146185875},\n",
       " {'m': <src.molecule_pair.MoleculePair at 0x3761b4e90>,\n",
       "  'score': 0.08378806710243225},\n",
       " {'m': <src.molecule_pair.MoleculePair at 0x3761b4dd0>,\n",
       "  'score': 0.012543471530079842},\n",
       " {'m': <src.molecule_pair.MoleculePair at 0x3761b4d10>,\n",
       "  'score': 0.14789463579654694},\n",
       " {'m': <src.molecule_pair.MoleculePair at 0x3761b4c10>,\n",
       "  'score': 0.027963604778051376},\n",
       " {'m': <src.molecule_pair.MoleculePair at 0x3761b4b50>,\n",
       "  'score': 0.05894209444522858},\n",
       " {'m': <src.molecule_pair.MoleculePair at 0x3761b4a90>,\n",
       "  'score': 0.16075962781906128},\n",
       " {'m': <src.molecule_pair.MoleculePair at 0x3761b4990>,\n",
       "  'score': 0.10894794762134552},\n",
       " {'m': <src.molecule_pair.MoleculePair at 0x3761b48d0>,\n",
       "  'score': 0.0771767795085907},\n",
       " {'m': <src.molecule_pair.MoleculePair at 0x3761b4810>,\n",
       "  'score': 0.0336911678314209},\n",
       " {'m': <src.molecule_pair.MoleculePair at 0x3761b4710>,\n",
       "  'score': 0.0543481819331646},\n",
       " {'m': <src.molecule_pair.MoleculePair at 0x3761b5790>,\n",
       "  'score': 0.13327625393867493},\n",
       " {'m': <src.molecule_pair.MoleculePair at 0x3761b56d0>,\n",
       "  'score': 0.1406390368938446},\n",
       " {'m': <src.molecule_pair.MoleculePair at 0x3761b5610>,\n",
       "  'score': 0.05862028896808624},\n",
       " {'m': <src.molecule_pair.MoleculePair at 0x3761b5510>,\n",
       "  'score': 0.1059839278459549},\n",
       " {'m': <src.molecule_pair.MoleculePair at 0x3761b5450>,\n",
       "  'score': 0.02335200645029545},\n",
       " {'m': <src.molecule_pair.MoleculePair at 0x3761b5390>,\n",
       "  'score': 0.06984134018421173},\n",
       " {'m': <src.molecule_pair.MoleculePair at 0x3761b5290>,\n",
       "  'score': 0.06948796659708023},\n",
       " {'m': <src.molecule_pair.MoleculePair at 0x3761b51d0>,\n",
       "  'score': 0.05931352078914642},\n",
       " {'m': <src.molecule_pair.MoleculePair at 0x3761b5110>,\n",
       "  'score': 0.08872286975383759},\n",
       " {'m': <src.molecule_pair.MoleculePair at 0x3761b6150>,\n",
       "  'score': 0.020501304417848587},\n",
       " {'m': <src.molecule_pair.MoleculePair at 0x3761b6090>,\n",
       "  'score': 0.11483679711818695},\n",
       " {'m': <src.molecule_pair.MoleculePair at 0x3761b5fd0>,\n",
       "  'score': 0.16888520121574402},\n",
       " {'m': <src.molecule_pair.MoleculePair at 0x3761b5f10>,\n",
       "  'score': 0.1923520416021347},\n",
       " {'m': <src.molecule_pair.MoleculePair at 0x3761b5e10>,\n",
       "  'score': 0.07875290513038635},\n",
       " {'m': <src.molecule_pair.MoleculePair at 0x3761b5d50>,\n",
       "  'score': 0.040404029190540314},\n",
       " {'m': <src.molecule_pair.MoleculePair at 0x3761b5c50>,\n",
       "  'score': 0.08057199418544769},\n",
       " {'m': <src.molecule_pair.MoleculePair at 0x3761b5b90>,\n",
       "  'score': 0.0745292454957962},\n",
       " {'m': <src.molecule_pair.MoleculePair at 0x3761b5ad0>,\n",
       "  'score': 0.0489220954477787},\n",
       " {'m': <src.molecule_pair.MoleculePair at 0x3761b6210>,\n",
       "  'score': 0.0733805000782013},\n",
       " {'m': <src.molecule_pair.MoleculePair at 0x3761b6a50>,\n",
       "  'score': 0.07586904615163803},\n",
       " {'m': <src.molecule_pair.MoleculePair at 0x3761b6990>,\n",
       "  'score': 0.05766953527927399},\n",
       " {'m': <src.molecule_pair.MoleculePair at 0x3761b68d0>,\n",
       "  'score': 0.060887400060892105},\n",
       " {'m': <src.molecule_pair.MoleculePair at 0x3761b67d0>,\n",
       "  'score': 0.02024294063448906},\n",
       " {'m': <src.molecule_pair.MoleculePair at 0x3761b6710>,\n",
       "  'score': 0.06269197165966034},\n",
       " {'m': <src.molecule_pair.MoleculePair at 0x3761b6650>,\n",
       "  'score': 0.035376932471990585},\n",
       " {'m': <src.molecule_pair.MoleculePair at 0x3761b6550>,\n",
       "  'score': 0.12047706544399261},\n",
       " {'m': <src.molecule_pair.MoleculePair at 0x3761b6490>,\n",
       "  'score': 0.1111745536327362},\n",
       " {'m': <src.molecule_pair.MoleculePair at 0x3761b63d0>,\n",
       "  'score': 0.0158190056681633},\n",
       " {'m': <src.molecule_pair.MoleculePair at 0x3761b62d0>,\n",
       "  'score': 0.31357190012931824},\n",
       " {'m': <src.molecule_pair.MoleculePair at 0x3761b7350>,\n",
       "  'score': 0.04032152146100998},\n",
       " {'m': <src.molecule_pair.MoleculePair at 0x3761b7290>,\n",
       "  'score': 0.0609256736934185},\n",
       " {'m': <src.molecule_pair.MoleculePair at 0x3761b71d0>,\n",
       "  'score': 0.05704178288578987},\n",
       " {'m': <src.molecule_pair.MoleculePair at 0x3761b70d0>,\n",
       "  'score': 0.1541355550289154},\n",
       " {'m': <src.molecule_pair.MoleculePair at 0x3761b7010>,\n",
       "  'score': 0.11971777677536011},\n",
       " {'m': <src.molecule_pair.MoleculePair at 0x3761b6f50>,\n",
       "  'score': 0.18251174688339233},\n",
       " {'m': <src.molecule_pair.MoleculePair at 0x3761b6e50>,\n",
       "  'score': 0.019463995471596718},\n",
       " {'m': <src.molecule_pair.MoleculePair at 0x3761b6d90>,\n",
       "  'score': 0.07560813426971436},\n",
       " {'m': <src.molecule_pair.MoleculePair at 0x3761b6cd0>,\n",
       "  'score': 0.014850454404950142},\n",
       " {'m': <src.molecule_pair.MoleculePair at 0x3761b7d10>,\n",
       "  'score': 0.14888277649879456},\n",
       " {'m': <src.molecule_pair.MoleculePair at 0x3761b7c50>,\n",
       "  'score': 0.04689943417906761},\n",
       " {'m': <src.molecule_pair.MoleculePair at 0x3761b7b90>,\n",
       "  'score': 0.1308228075504303},\n",
       " {'m': <src.molecule_pair.MoleculePair at 0x3761b7ad0>,\n",
       "  'score': 0.14084133505821228},\n",
       " {'m': <src.molecule_pair.MoleculePair at 0x3761b79d0>,\n",
       "  'score': 0.04799281805753708},\n",
       " {'m': <src.molecule_pair.MoleculePair at 0x3761b7910>,\n",
       "  'score': 0.07818248867988586},\n",
       " {'m': <src.molecule_pair.MoleculePair at 0x3761b7810>,\n",
       "  'score': 0.0728660523891449},\n",
       " {'m': <src.molecule_pair.MoleculePair at 0x3761b7750>,\n",
       "  'score': 0.04464525729417801},\n",
       " {'m': <src.molecule_pair.MoleculePair at 0x3761b7690>,\n",
       "  'score': 0.01789594069123268},\n",
       " {'m': <src.molecule_pair.MoleculePair at 0x3761b7dd0>,\n",
       "  'score': 0.11630891263484955},\n",
       " {'m': <src.molecule_pair.MoleculePair at 0x3761b7f90>,\n",
       "  'score': 0.07516074925661087},\n",
       " {'m': <src.molecule_pair.MoleculePair at 0x3761b4750>,\n",
       "  'score': 0.3231169581413269},\n",
       " {'m': <src.molecule_pair.MoleculePair at 0x3761b6310>,\n",
       "  'score': 0.027424803003668785},\n",
       " {'m': <src.molecule_pair.MoleculePair at 0x3761b7ed0>,\n",
       "  'score': 0.09588366001844406},\n",
       " {'m': <src.molecule_pair.MoleculePair at 0x3761b8d50>,\n",
       "  'score': 0.1355980485677719},\n",
       " {'m': <src.molecule_pair.MoleculePair at 0x3761bb250>,\n",
       "  'score': 0.0904364064335823},\n",
       " {'m': <src.molecule_pair.MoleculePair at 0x3761b9450>,\n",
       "  'score': 0.029971569776535034},\n",
       " {'m': <src.molecule_pair.MoleculePair at 0x3761b81d0>,\n",
       "  'score': 0.06251674145460129},\n",
       " {'m': <src.molecule_pair.MoleculePair at 0x3761b8690>,\n",
       "  'score': 0.10517777502536774},\n",
       " {'m': <src.molecule_pair.MoleculePair at 0x3761b85d0>,\n",
       "  'score': 0.11309364438056946},\n",
       " {'m': <src.molecule_pair.MoleculePair at 0x3761b8510>,\n",
       "  'score': 0.19176703691482544},\n",
       " {'m': <src.molecule_pair.MoleculePair at 0x3761b8450>,\n",
       "  'score': 0.07788971066474915},\n",
       " {'m': <src.molecule_pair.MoleculePair at 0x3761b8350>,\n",
       "  'score': 0.24024663865566254},\n",
       " {'m': <src.molecule_pair.MoleculePair at 0x3761b8290>,\n",
       "  'score': 0.03501954674720764},\n",
       " {'m': <src.molecule_pair.MoleculePair at 0x3761b8190>,\n",
       "  'score': 0.05270341783761978},\n",
       " {'m': <src.molecule_pair.MoleculePair at 0x3761b80d0>,\n",
       "  'score': 0.14295083284378052},\n",
       " {'m': <src.molecule_pair.MoleculePair at 0x3761b8750>,\n",
       "  'score': 0.1708018034696579},\n",
       " {'m': <src.molecule_pair.MoleculePair at 0x3761b8f50>,\n",
       "  'score': 0.140896275639534},\n",
       " {'m': <src.molecule_pair.MoleculePair at 0x3761b8e90>,\n",
       "  'score': 0.018289722502231598},\n",
       " {'m': <src.molecule_pair.MoleculePair at 0x3761b8dd0>,\n",
       "  'score': 0.022678133100271225},\n",
       " {'m': <src.molecule_pair.MoleculePair at 0x3761b8cd0>,\n",
       "  'score': 0.09034763276576996},\n",
       " {'m': <src.molecule_pair.MoleculePair at 0x3761b8c10>,\n",
       "  'score': 0.5565615296363831},\n",
       " {'m': <src.molecule_pair.MoleculePair at 0x3761b8b50>,\n",
       "  'score': 0.05462867021560669},\n",
       " {'m': <src.molecule_pair.MoleculePair at 0x3761b8a50>,\n",
       "  'score': 0.2154948115348816},\n",
       " {'m': <src.molecule_pair.MoleculePair at 0x3761b8990>,\n",
       "  'score': 0.1921740174293518},\n",
       " {'m': <src.molecule_pair.MoleculePair at 0x3761b88d0>,\n",
       "  'score': 0.05370448902249336},\n",
       " {'m': <src.molecule_pair.MoleculePair at 0x3761b9910>,\n",
       "  'score': 0.10155102610588074},\n",
       " {'m': <src.molecule_pair.MoleculePair at 0x3761b9850>,\n",
       "  'score': 0.10327528417110443},\n",
       " {'m': <src.molecule_pair.MoleculePair at 0x3761b9790>,\n",
       "  'score': 0.07669685781002045},\n",
       " {'m': <src.molecule_pair.MoleculePair at 0x3761b96d0>,\n",
       "  'score': 0.009693271480500698},\n",
       " {'m': <src.molecule_pair.MoleculePair at 0x3761b95d0>,\n",
       "  'score': 0.12206080555915833},\n",
       " {'m': <src.molecule_pair.MoleculePair at 0x3761b9510>,\n",
       "  'score': 0.03682379424571991},\n",
       " {'m': <src.molecule_pair.MoleculePair at 0x3761b9410>,\n",
       "  'score': 0.06117776781320572},\n",
       " {'m': <src.molecule_pair.MoleculePair at 0x3761b9350>,\n",
       "  'score': 0.029095249250531197},\n",
       " {'m': <src.molecule_pair.MoleculePair at 0x3761b9290>,\n",
       "  'score': 0.12841390073299408},\n",
       " {'m': <src.molecule_pair.MoleculePair at 0x3761b99d0>,\n",
       "  'score': 0.12489353865385056},\n",
       " {'m': <src.molecule_pair.MoleculePair at 0x3761ba210>,\n",
       "  'score': 0.024361662566661835},\n",
       " {'m': <src.molecule_pair.MoleculePair at 0x3761ba150>,\n",
       "  'score': 0.1189768984913826},\n",
       " {'m': <src.molecule_pair.MoleculePair at 0x3761ba090>,\n",
       "  'score': 0.16667157411575317},\n",
       " {'m': <src.molecule_pair.MoleculePair at 0x3761b9f90>,\n",
       "  'score': 0.051370926201343536},\n",
       " {'m': <src.molecule_pair.MoleculePair at 0x3761b9ed0>,\n",
       "  'score': 0.33935269713401794},\n",
       " {'m': <src.molecule_pair.MoleculePair at 0x3761b9e10>,\n",
       "  'score': 0.016814596951007843},\n",
       " {'m': <src.molecule_pair.MoleculePair at 0x3761b9d10>,\n",
       "  'score': 0.05693434551358223},\n",
       " {'m': <src.molecule_pair.MoleculePair at 0x3761b9c50>,\n",
       "  'score': 0.09201966226100922},\n",
       " {'m': <src.molecule_pair.MoleculePair at 0x3761b9b90>,\n",
       "  'score': 0.01881543919444084},\n",
       " {'m': <src.molecule_pair.MoleculePair at 0x3761b9a90>,\n",
       "  'score': 0.06986221671104431},\n",
       " {'m': <src.molecule_pair.MoleculePair at 0x3761bab10>,\n",
       "  'score': 0.0640234723687172},\n",
       " {'m': <src.molecule_pair.MoleculePair at 0x3761baa50>,\n",
       "  'score': 0.16498056054115295},\n",
       " {'m': <src.molecule_pair.MoleculePair at 0x3761ba990>,\n",
       "  'score': 0.04818980395793915},\n",
       " {'m': <src.molecule_pair.MoleculePair at 0x3761ba890>,\n",
       "  'score': 0.026833966374397278},\n",
       " {'m': <src.molecule_pair.MoleculePair at 0x3761ba7d0>,\n",
       "  'score': 0.10224394500255585},\n",
       " {'m': <src.molecule_pair.MoleculePair at 0x3761ba710>,\n",
       "  'score': 0.029570240527391434},\n",
       " {'m': <src.molecule_pair.MoleculePair at 0x3761ba610>,\n",
       "  'score': 0.1377348005771637},\n",
       " {'m': <src.molecule_pair.MoleculePair at 0x3761ba550>,\n",
       "  'score': 0.184337317943573},\n",
       " {'m': <src.molecule_pair.MoleculePair at 0x3761ba490>,\n",
       "  'score': 0.0853630006313324},\n",
       " {'m': <src.molecule_pair.MoleculePair at 0x3761bb4d0>,\n",
       "  'score': 0.021115515381097794},\n",
       " {'m': <src.molecule_pair.MoleculePair at 0x3761bb410>,\n",
       "  'score': 0.028366979211568832},\n",
       " {'m': <src.molecule_pair.MoleculePair at 0x3761bb350>,\n",
       "  'score': 0.12494661659002304},\n",
       " {'m': <src.molecule_pair.MoleculePair at 0x3761bb290>,\n",
       "  'score': 0.0666022002696991},\n",
       " {'m': <src.molecule_pair.MoleculePair at 0x3761bb190>,\n",
       "  'score': 0.11373147368431091},\n",
       " {'m': <src.molecule_pair.MoleculePair at 0x3761bb0d0>,\n",
       "  'score': 0.05490691959857941},\n",
       " {'m': <src.molecule_pair.MoleculePair at 0x3761bafd0>,\n",
       "  'score': 0.055997565388679504},\n",
       " {'m': <src.molecule_pair.MoleculePair at 0x3761baf10>,\n",
       "  'score': 0.16358670592308044},\n",
       " {'m': <src.molecule_pair.MoleculePair at 0x3761bae50>,\n",
       "  'score': 0.09353519976139069},\n",
       " {'m': <src.molecule_pair.MoleculePair at 0x3761bb590>,\n",
       "  'score': 0.06867325305938721},\n",
       " {'m': <src.molecule_pair.MoleculePair at 0x3761bbdd0>,\n",
       "  'score': 0.22886638343334198},\n",
       " {'m': <src.molecule_pair.MoleculePair at 0x3761bbd10>,\n",
       "  'score': 0.1790575534105301},\n",
       " {'m': <src.molecule_pair.MoleculePair at 0x3761bbc50>,\n",
       "  'score': 0.10200116038322449},\n",
       " {'m': <src.molecule_pair.MoleculePair at 0x3761bbb50>,\n",
       "  'score': 0.10583186149597168},\n",
       " {'m': <src.molecule_pair.MoleculePair at 0x3761bba90>,\n",
       "  'score': 0.017792947590351105},\n",
       " {'m': <src.molecule_pair.MoleculePair at 0x3761bb9d0>,\n",
       "  'score': 0.05724978446960449},\n",
       " {'m': <src.molecule_pair.MoleculePair at 0x3761bb8d0>,\n",
       "  'score': 0.07668844610452652},\n",
       " {'m': <src.molecule_pair.MoleculePair at 0x3761bb810>,\n",
       "  'score': 0.05429821088910103},\n",
       " {'m': <src.molecule_pair.MoleculePair at 0x3761bb750>,\n",
       "  'score': 0.05338529497385025},\n",
       " {'m': <src.molecule_pair.MoleculePair at 0x3761bb650>,\n",
       "  'score': 0.06468380987644196},\n",
       " {'m': <src.molecule_pair.MoleculePair at 0x3761b9190>,\n",
       "  'score': 0.033206757158041},\n",
       " {'m': <src.molecule_pair.MoleculePair at 0x3761bad50>,\n",
       "  'score': 0.06569675356149673},\n",
       " {'m': <src.molecule_pair.MoleculePair at 0x3761c2a10>,\n",
       "  'score': 0.05309727415442467},\n",
       " {'m': <src.molecule_pair.MoleculePair at 0x3761c0510>,\n",
       "  'score': 0.12823554873466492},\n",
       " {'m': <src.molecule_pair.MoleculePair at 0x3761c20d0>,\n",
       "  'score': 0.06899967789649963},\n",
       " {'m': <src.molecule_pair.MoleculePair at 0x3761c1550>,\n",
       "  'score': 0.17887860536575317},\n",
       " {'m': <src.molecule_pair.MoleculePair at 0x3761c3110>,\n",
       "  'score': 0.10043599456548691},\n",
       " {'m': <src.molecule_pair.MoleculePair at 0x3761c0750>,\n",
       "  'score': 0.11513782292604446},\n",
       " {'m': <src.molecule_pair.MoleculePair at 0x3761c0690>,\n",
       "  'score': 0.058657821267843246},\n",
       " {'m': <src.molecule_pair.MoleculePair at 0x3761c05d0>,\n",
       "  'score': 0.08353903144598007},\n",
       " {'m': <src.molecule_pair.MoleculePair at 0x3761c04d0>,\n",
       "  'score': 0.06792236864566803},\n",
       " {'m': <src.molecule_pair.MoleculePair at 0x3761c0410>,\n",
       "  'score': 0.23831956088542938},\n",
       " {'m': <src.molecule_pair.MoleculePair at 0x3761c0350>,\n",
       "  'score': 0.03869476914405823},\n",
       " {'m': <src.molecule_pair.MoleculePair at 0x3761c0250>,\n",
       "  'score': 0.11854690313339233},\n",
       " {'m': <src.molecule_pair.MoleculePair at 0x3761c0190>,\n",
       "  'score': 0.038510747253894806},\n",
       " {'m': <src.molecule_pair.MoleculePair at 0x3761c00d0>,\n",
       "  'score': 0.04518306255340576},\n",
       " {'m': <src.molecule_pair.MoleculePair at 0x3761c10d0>,\n",
       "  'score': 0.0330674834549427},\n",
       " {'m': <src.molecule_pair.MoleculePair at 0x3761c1010>,\n",
       "  'score': 0.052292391657829285},\n",
       " {'m': <src.molecule_pair.MoleculePair at 0x3761c0f50>,\n",
       "  'score': 0.12496693432331085},\n",
       " {'m': <src.molecule_pair.MoleculePair at 0x3761c0e90>,\n",
       "  'score': 0.07106634229421616},\n",
       " {'m': <src.molecule_pair.MoleculePair at 0x3761c0d90>,\n",
       "  'score': 0.06496723741292953},\n",
       " {'m': <src.molecule_pair.MoleculePair at 0x3761c0cd0>,\n",
       "  'score': 0.10691926628351212},\n",
       " {'m': <src.molecule_pair.MoleculePair at 0x3761c0bd0>,\n",
       "  'score': 0.11996888369321823},\n",
       " {'m': <src.molecule_pair.MoleculePair at 0x3761c0b10>,\n",
       "  'score': 0.10888803750276566},\n",
       " {'m': <src.molecule_pair.MoleculePair at 0x3761c0a50>,\n",
       "  'score': 0.10971863567829132},\n",
       " {'m': <src.molecule_pair.MoleculePair at 0x3761c1190>,\n",
       "  'score': 0.25832948088645935},\n",
       " {'m': <src.molecule_pair.MoleculePair at 0x3761c19d0>,\n",
       "  'score': 0.09375922381877899},\n",
       " {'m': <src.molecule_pair.MoleculePair at 0x3761c1910>,\n",
       "  'score': 0.16199688613414764},\n",
       " {'m': <src.molecule_pair.MoleculePair at 0x3761c1850>,\n",
       "  'score': 0.029365282505750656},\n",
       " {'m': <src.molecule_pair.MoleculePair at 0x3761c1750>,\n",
       "  'score': 0.18286389112472534},\n",
       " {'m': <src.molecule_pair.MoleculePair at 0x3761c1690>,\n",
       "  'score': 0.19932708144187927},\n",
       " {'m': <src.molecule_pair.MoleculePair at 0x3761c15d0>,\n",
       "  'score': 0.09178587794303894},\n",
       " {'m': <src.molecule_pair.MoleculePair at 0x3761c14d0>,\n",
       "  'score': 0.11397945880889893},\n",
       " {'m': <src.molecule_pair.MoleculePair at 0x3761c1410>,\n",
       "  'score': 0.0470287948846817},\n",
       " {'m': <src.molecule_pair.MoleculePair at 0x3761c1350>,\n",
       "  'score': 0.03903815522789955},\n",
       " {'m': <src.molecule_pair.MoleculePair at 0x3761c1250>,\n",
       "  'score': 0.8432052135467529},\n",
       " {'m': <src.molecule_pair.MoleculePair at 0x3761c22d0>,\n",
       "  'score': 0.06224790960550308},\n",
       " {'m': <src.molecule_pair.MoleculePair at 0x3761c2210>,\n",
       "  'score': 0.05770280957221985},\n",
       " {'m': <src.molecule_pair.MoleculePair at 0x3761c2150>,\n",
       "  'score': 0.05728648230433464},\n",
       " {'m': <src.molecule_pair.MoleculePair at 0x3761c2050>,\n",
       "  'score': 0.195401132106781},\n",
       " {'m': <src.molecule_pair.MoleculePair at 0x3761c1f90>,\n",
       "  'score': 0.0569022074341774},\n",
       " {'m': <src.molecule_pair.MoleculePair at 0x3761c1ed0>,\n",
       "  'score': 0.06808730959892273},\n",
       " {'m': <src.molecule_pair.MoleculePair at 0x3761c1dd0>,\n",
       "  'score': 0.0624411478638649},\n",
       " {'m': <src.molecule_pair.MoleculePair at 0x3761c1d10>,\n",
       "  'score': 0.04159296303987503},\n",
       " {'m': <src.molecule_pair.MoleculePair at 0x3761c1c50>,\n",
       "  'score': 0.13178479671478271},\n",
       " {'m': <src.molecule_pair.MoleculePair at 0x3761c2c90>,\n",
       "  'score': 0.04454764351248741},\n",
       " {'m': <src.molecule_pair.MoleculePair at 0x3761c2bd0>,\n",
       "  'score': 0.04538741707801819},\n",
       " {'m': <src.molecule_pair.MoleculePair at 0x3761c2b10>,\n",
       "  'score': 0.07487747818231583},\n",
       " {'m': <src.molecule_pair.MoleculePair at 0x3761c2a50>,\n",
       "  'score': 0.01583545282483101},\n",
       " {'m': <src.molecule_pair.MoleculePair at 0x3761c2950>,\n",
       "  'score': 0.01803072914481163},\n",
       " {'m': <src.molecule_pair.MoleculePair at 0x3761c2890>,\n",
       "  'score': 0.06787467747926712},\n",
       " {'m': <src.molecule_pair.MoleculePair at 0x3761c2790>,\n",
       "  'score': 0.06928926706314087},\n",
       " {'m': <src.molecule_pair.MoleculePair at 0x3761c26d0>,\n",
       "  'score': 0.06517393887042999},\n",
       " {'m': <src.molecule_pair.MoleculePair at 0x3761c2610>,\n",
       "  'score': 0.09623962640762329},\n",
       " {'m': <src.molecule_pair.MoleculePair at 0x3761c2d50>,\n",
       "  'score': 0.09797445684671402},\n",
       " {'m': <src.molecule_pair.MoleculePair at 0x3761c3590>,\n",
       "  'score': 0.06447407603263855},\n",
       " {'m': <src.molecule_pair.MoleculePair at 0x3761c34d0>,\n",
       "  'score': 0.0480923168361187},\n",
       " {'m': <src.molecule_pair.MoleculePair at 0x3761c3410>,\n",
       "  'score': 0.04622989147901535},\n",
       " {'m': <src.molecule_pair.MoleculePair at 0x3761c3310>,\n",
       "  'score': 0.07103484869003296},\n",
       " {'m': <src.molecule_pair.MoleculePair at 0x3761c3250>,\n",
       "  'score': 0.03067823313176632},\n",
       " {'m': <src.molecule_pair.MoleculePair at 0x3761c3190>,\n",
       "  'score': 0.022242940962314606},\n",
       " {'m': <src.molecule_pair.MoleculePair at 0x3761c3090>,\n",
       "  'score': 0.040970414876937866},\n",
       " {'m': <src.molecule_pair.MoleculePair at 0x3761c2fd0>,\n",
       "  'score': 0.11031224578619003},\n",
       " {'m': <src.molecule_pair.MoleculePair at 0x3761c2f10>,\n",
       "  'score': 0.03382180631160736},\n",
       " {'m': <src.molecule_pair.MoleculePair at 0x3761c2e10>,\n",
       "  'score': 0.09532716870307922},\n",
       " {'m': <src.molecule_pair.MoleculePair at 0x3761c3e90>,\n",
       "  'score': 0.04702592268586159},\n",
       " {'m': <src.molecule_pair.MoleculePair at 0x3761c3dd0>,\n",
       "  'score': 0.04514428600668907},\n",
       " {'m': <src.molecule_pair.MoleculePair at 0x3761c3d10>,\n",
       "  'score': 0.1661544293165207},\n",
       " {'m': <src.molecule_pair.MoleculePair at 0x3761c3c10>,\n",
       "  'score': 0.04962128400802612},\n",
       " {'m': <src.molecule_pair.MoleculePair at 0x3761c3b50>,\n",
       "  'score': 0.0531335175037384},\n",
       " {'m': <src.molecule_pair.MoleculePair at 0x3761c3a90>,\n",
       "  'score': 0.15426671504974365},\n",
       " {'m': <src.molecule_pair.MoleculePair at 0x3761c3990>,\n",
       "  'score': 0.05363280326128006},\n",
       " {'m': <src.molecule_pair.MoleculePair at 0x3761c38d0>,\n",
       "  'score': 0.29303133487701416},\n",
       " {'m': <src.molecule_pair.MoleculePair at 0x3761c3810>,\n",
       "  'score': 0.13418981432914734},\n",
       " {'m': <src.molecule_pair.MoleculePair at 0x3761c0950>,\n",
       "  'score': 0.01935540698468685},\n",
       " {'m': <src.molecule_pair.MoleculePair at 0x3761c2510>,\n",
       "  'score': 0.14307735860347748},\n",
       " {'m': <src.molecule_pair.MoleculePair at 0x3761cb450>,\n",
       "  'score': 0.10100460052490234},\n",
       " {'m': <src.molecule_pair.MoleculePair at 0x3761ca1d0>,\n",
       "  'score': 0.07964251935482025},\n",
       " {'m': <src.molecule_pair.MoleculePair at 0x3761c8610>,\n",
       "  'score': 0.023046370595693588},\n",
       " {'m': <src.molecule_pair.MoleculePair at 0x3761ca8d0>,\n",
       "  'score': 0.3238876163959503},\n",
       " {'m': <src.molecule_pair.MoleculePair at 0x3761c9650>,\n",
       "  'score': 0.13584089279174805},\n",
       " {'m': <src.molecule_pair.MoleculePair at 0x3761c8850>,\n",
       "  'score': 0.0986424908041954},\n",
       " {'m': <src.molecule_pair.MoleculePair at 0x3761c8790>,\n",
       "  'score': 0.09746426343917847},\n",
       " {'m': <src.molecule_pair.MoleculePair at 0x3761c86d0>,\n",
       "  'score': 0.0314338244497776},\n",
       " {'m': <src.molecule_pair.MoleculePair at 0x3761c85d0>,\n",
       "  'score': 0.11344682425260544},\n",
       " {'m': <src.molecule_pair.MoleculePair at 0x3761c8510>,\n",
       "  'score': 0.11642945557832718},\n",
       " {'m': <src.molecule_pair.MoleculePair at 0x3761c8450>,\n",
       "  'score': 0.047610990703105927},\n",
       " {'m': <src.molecule_pair.MoleculePair at 0x3761c8350>,\n",
       "  'score': 0.013941610231995583},\n",
       " {'m': <src.molecule_pair.MoleculePair at 0x3761c8290>,\n",
       "  'score': 0.08339798450469971},\n",
       " {'m': <src.molecule_pair.MoleculePair at 0x3761c81d0>,\n",
       "  'score': 0.04985319450497627},\n",
       " {'m': <src.molecule_pair.MoleculePair at 0x3761c80d0>,\n",
       "  'score': 0.08034732192754745},\n",
       " {'m': <src.molecule_pair.MoleculePair at 0x3761c9150>,\n",
       "  'score': 0.02060527354478836},\n",
       " {'m': <src.molecule_pair.MoleculePair at 0x3761c9090>,\n",
       "  'score': 0.09597884118556976},\n",
       " {'m': <src.molecule_pair.MoleculePair at 0x3761c8fd0>,\n",
       "  'score': 0.2412816882133484},\n",
       " {'m': <src.molecule_pair.MoleculePair at 0x3761c8ed0>,\n",
       "  'score': 0.13459768891334534},\n",
       " {'m': <src.molecule_pair.MoleculePair at 0x3761c8e10>,\n",
       "  'score': 0.015507552772760391},\n",
       " {'m': <src.molecule_pair.MoleculePair at 0x3761c8d50>,\n",
       "  'score': 0.1333189606666565},\n",
       " {'m': <src.molecule_pair.MoleculePair at 0x3761c8c50>,\n",
       "  'score': 0.04514135792851448},\n",
       " {'m': <src.molecule_pair.MoleculePair at 0x3761c8b90>,\n",
       "  'score': 0.05940573662519455},\n",
       " {'m': <src.molecule_pair.MoleculePair at 0x3761c8ad0>,\n",
       "  'score': 0.2530352473258972},\n",
       " {'m': <src.molecule_pair.MoleculePair at 0x3761c9b10>,\n",
       "  'score': 0.0927407443523407},\n",
       " {'m': <src.molecule_pair.MoleculePair at 0x3761c9a50>,\n",
       "  'score': 0.25190937519073486},\n",
       " {'m': <src.molecule_pair.MoleculePair at 0x3761c9990>,\n",
       "  'score': 0.14124837517738342},\n",
       " {'m': <src.molecule_pair.MoleculePair at 0x3761c98d0>,\n",
       "  'score': 0.06401222944259644},\n",
       " {'m': <src.molecule_pair.MoleculePair at 0x3761c97d0>,\n",
       "  'score': 0.024010542780160904},\n",
       " {'m': <src.molecule_pair.MoleculePair at 0x3761c9710>,\n",
       "  'score': 0.08401383459568024},\n",
       " {'m': <src.molecule_pair.MoleculePair at 0x3761c9610>,\n",
       "  'score': 0.12425477802753448},\n",
       " {'m': <src.molecule_pair.MoleculePair at 0x3761c9550>,\n",
       "  'score': 0.06698402017354965},\n",
       " {'m': <src.molecule_pair.MoleculePair at 0x3761c9490>,\n",
       "  'score': 0.030457062646746635},\n",
       " {'m': <src.molecule_pair.MoleculePair at 0x3761c9bd0>,\n",
       "  'score': 0.11172556132078171},\n",
       " {'m': <src.molecule_pair.MoleculePair at 0x3761ca410>,\n",
       "  'score': 0.06703915446996689},\n",
       " {'m': <src.molecule_pair.MoleculePair at 0x3761ca350>,\n",
       "  'score': 0.15269912779331207},\n",
       " {'m': <src.molecule_pair.MoleculePair at 0x3761ca290>,\n",
       "  'score': 0.022856224328279495},\n",
       " {'m': <src.molecule_pair.MoleculePair at 0x3761ca190>,\n",
       "  'score': 0.04975779354572296},\n",
       " {'m': <src.molecule_pair.MoleculePair at 0x3761ca0d0>,\n",
       "  'score': 0.06841389834880829},\n",
       " {'m': <src.molecule_pair.MoleculePair at 0x3761ca010>,\n",
       "  'score': 0.15688851475715637},\n",
       " {'m': <src.molecule_pair.MoleculePair at 0x3761c9f10>,\n",
       "  'score': 0.04761035367846489},\n",
       " {'m': <src.molecule_pair.MoleculePair at 0x3761c9e50>,\n",
       "  'score': 0.03245736286044121},\n",
       " {'m': <src.molecule_pair.MoleculePair at 0x3761c9d90>,\n",
       "  'score': 0.11230030655860901},\n",
       " {'m': <src.molecule_pair.MoleculePair at 0x3761c9c90>,\n",
       "  'score': 0.07557806372642517},\n",
       " {'m': <src.molecule_pair.MoleculePair at 0x3761cad10>,\n",
       "  'score': 0.05953506380319595},\n",
       " {'m': <src.molecule_pair.MoleculePair at 0x3761cac50>,\n",
       "  'score': 0.08817420899868011},\n",
       " {'m': <src.molecule_pair.MoleculePair at 0x3761cab90>,\n",
       "  'score': 0.031183501705527306},\n",
       " {'m': <src.molecule_pair.MoleculePair at 0x3761caa90>,\n",
       "  'score': 0.03273438662290573},\n",
       " {'m': <src.molecule_pair.MoleculePair at 0x3761ca9d0>,\n",
       "  'score': 0.1051761731505394},\n",
       " {'m': <src.molecule_pair.MoleculePair at 0x3761ca910>,\n",
       "  'score': 0.10443425923585892},\n",
       " {'m': <src.molecule_pair.MoleculePair at 0x3761ca810>,\n",
       "  'score': 0.04910140112042427},\n",
       " {'m': <src.molecule_pair.MoleculePair at 0x3761ca750>,\n",
       "  'score': 0.8310930728912354},\n",
       " {'m': <src.molecule_pair.MoleculePair at 0x3761ca690>,\n",
       "  'score': 0.021269988268613815},\n",
       " {'m': <src.molecule_pair.MoleculePair at 0x3761cb6d0>,\n",
       "  'score': 0.16928429901599884},\n",
       " {'m': <src.molecule_pair.MoleculePair at 0x3761cb610>,\n",
       "  'score': 0.20818382501602173},\n",
       " {'m': <src.molecule_pair.MoleculePair at 0x3761cb550>,\n",
       "  'score': 0.10661403834819794},\n",
       " {'m': <src.molecule_pair.MoleculePair at 0x3761cb490>,\n",
       "  'score': 0.0332304984331131},\n",
       " {'m': <src.molecule_pair.MoleculePair at 0x3761cb390>,\n",
       "  'score': 0.03450069576501846},\n",
       " {'m': <src.molecule_pair.MoleculePair at 0x3761cb2d0>,\n",
       "  'score': 0.019273947924375534},\n",
       " {'m': <src.molecule_pair.MoleculePair at 0x3761cb1d0>,\n",
       "  'score': 0.021357929334044456},\n",
       " {'m': <src.molecule_pair.MoleculePair at 0x3761cb110>,\n",
       "  'score': 0.02505822665989399},\n",
       " {'m': <src.molecule_pair.MoleculePair at 0x3761cb050>,\n",
       "  'score': 0.07316437363624573},\n",
       " {'m': <src.molecule_pair.MoleculePair at 0x3761cb790>,\n",
       "  'score': 0.16760773956775665},\n",
       " {'m': <src.molecule_pair.MoleculePair at 0x3761cbf90>,\n",
       "  'score': 0.07577791810035706},\n",
       " {'m': <src.molecule_pair.MoleculePair at 0x3761cbed0>,\n",
       "  'score': 0.019759289920330048},\n",
       " {'m': <src.molecule_pair.MoleculePair at 0x3761cbe10>,\n",
       "  'score': 0.08316618204116821},\n",
       " {'m': <src.molecule_pair.MoleculePair at 0x3761cbd10>,\n",
       "  'score': 0.04453927278518677},\n",
       " {'m': <src.molecule_pair.MoleculePair at 0x3761cbc50>,\n",
       "  'score': 0.1333848237991333},\n",
       " {'m': <src.molecule_pair.MoleculePair at 0x3761cbb90>,\n",
       "  'score': 0.1132732406258583},\n",
       " {'m': <src.molecule_pair.MoleculePair at 0x3761cba90>,\n",
       "  'score': 0.08237062394618988},\n",
       " {'m': <src.molecule_pair.MoleculePair at 0x3761cb9d0>,\n",
       "  'score': 0.08278119564056396},\n",
       " {'m': <src.molecule_pair.MoleculePair at 0x3761cb910>,\n",
       "  'score': 0.1342044621706009},\n",
       " {'m': <src.molecule_pair.MoleculePair at 0x3761c8a50>,\n",
       "  'score': 0.08818471431732178},\n",
       " {'m': <src.molecule_pair.MoleculePair at 0x3761ca610>,\n",
       "  'score': 0.014212304726243019},\n",
       " {'m': <src.molecule_pair.MoleculePair at 0x3761d0710>,\n",
       "  'score': 0.12684127688407898},\n",
       " {'m': <src.molecule_pair.MoleculePair at 0x3761d3550>,\n",
       "  'score': 0.021115630865097046},\n",
       " {'m': <src.molecule_pair.MoleculePair at 0x3761d04d0>,\n",
       "  'score': 0.1394752413034439},\n",
       " {'m': <src.molecule_pair.MoleculePair at 0x3761d3310>,\n",
       "  'score': 0.21273520588874817},\n",
       " {'m': <src.molecule_pair.MoleculePair at 0x3761d0050>,\n",
       "  'score': 0.06243631988763809},\n",
       " {'m': <src.molecule_pair.MoleculePair at 0x3761d0950>,\n",
       "  'score': 0.12633834779262543},\n",
       " {'m': <src.molecule_pair.MoleculePair at 0x3761d0890>,\n",
       "  'score': 0.30648523569107056},\n",
       " {'m': <src.molecule_pair.MoleculePair at 0x3761d07d0>,\n",
       "  'score': 0.11685368418693542},\n",
       " {'m': <src.molecule_pair.MoleculePair at 0x3761d06d0>,\n",
       "  'score': 0.19504426419734955},\n",
       " {'m': <src.molecule_pair.MoleculePair at 0x3761d0610>,\n",
       "  'score': 0.03827260434627533},\n",
       " {'m': <src.molecule_pair.MoleculePair at 0x3761d0550>,\n",
       "  'score': 0.08570078015327454},\n",
       " {'m': <src.molecule_pair.MoleculePair at 0x3761d0450>,\n",
       "  'score': 0.047864947468042374},\n",
       " {'m': <src.molecule_pair.MoleculePair at 0x3761d0390>,\n",
       "  'score': 0.20456799864768982},\n",
       " {'m': <src.molecule_pair.MoleculePair at 0x3761d02d0>,\n",
       "  'score': 0.012542063370347023},\n",
       " {'m': <src.molecule_pair.MoleculePair at 0x3761d0e10>,\n",
       "  'score': 0.0807848647236824},\n",
       " {'m': <src.molecule_pair.MoleculePair at 0x3761d12d0>,\n",
       "  'score': 0.061568789184093475},\n",
       " {'m': <src.molecule_pair.MoleculePair at 0x3761d1210>,\n",
       "  'score': 0.1517764925956726},\n",
       " {'m': <src.molecule_pair.MoleculePair at 0x3761d1150>,\n",
       "  'score': 0.039127372205257416},\n",
       " {'m': <src.molecule_pair.MoleculePair at 0x3761d1090>,\n",
       "  'score': 0.09506234526634216},\n",
       " {'m': <src.molecule_pair.MoleculePair at 0x3761d0f90>,\n",
       "  'score': 0.1577114462852478},\n",
       " {'m': <src.molecule_pair.MoleculePair at 0x3761d0ed0>,\n",
       "  'score': 0.04760617017745972},\n",
       " {'m': <src.molecule_pair.MoleculePair at 0x3761d0dd0>,\n",
       "  'score': 0.05639136955142021},\n",
       " {'m': <src.molecule_pair.MoleculePair at 0x3761d0d10>,\n",
       "  'score': 0.07426360994577408},\n",
       " {'m': <src.molecule_pair.MoleculePair at 0x3761d0c50>,\n",
       "  'score': 0.07858026027679443},\n",
       " {'m': <src.molecule_pair.MoleculePair at 0x3761d1390>,\n",
       "  'score': 0.10791577398777008},\n",
       " {'m': <src.molecule_pair.MoleculePair at 0x3761d1bd0>,\n",
       "  'score': 0.38368546962738037},\n",
       " {'m': <src.molecule_pair.MoleculePair at 0x3761d1b10>,\n",
       "  'score': 0.1006714403629303},\n",
       " {'m': <src.molecule_pair.MoleculePair at 0x3761d1a50>,\n",
       "  'score': 0.08663464337587357},\n",
       " {'m': <src.molecule_pair.MoleculePair at 0x3761d1950>,\n",
       "  'score': 0.03034016862511635},\n",
       " {'m': <src.molecule_pair.MoleculePair at 0x3761d1890>,\n",
       "  'score': 0.06134304404258728},\n",
       " {'m': <src.molecule_pair.MoleculePair at 0x3761d17d0>,\n",
       "  'score': 0.045422233641147614},\n",
       " {'m': <src.molecule_pair.MoleculePair at 0x3761d16d0>,\n",
       "  'score': 0.05786566063761711},\n",
       " {'m': <src.molecule_pair.MoleculePair at 0x3761d1610>,\n",
       "  'score': 0.06481648981571198},\n",
       " {'m': <src.molecule_pair.MoleculePair at 0x3761d1550>,\n",
       "  'score': 0.031380221247673035},\n",
       " {'m': <src.molecule_pair.MoleculePair at 0x3761d1450>,\n",
       "  'score': 0.040487516671419144},\n",
       " {'m': <src.molecule_pair.MoleculePair at 0x3761d24d0>,\n",
       "  'score': 0.05275029316544533},\n",
       " {'m': <src.molecule_pair.MoleculePair at 0x3761d2410>,\n",
       "  'score': 0.03275872766971588},\n",
       " {'m': <src.molecule_pair.MoleculePair at 0x3761d2350>,\n",
       "  'score': 0.05609850585460663},\n",
       " {'m': <src.molecule_pair.MoleculePair at 0x3761d2250>,\n",
       "  'score': 0.09149827063083649},\n",
       " {'m': <src.molecule_pair.MoleculePair at 0x3761d2190>,\n",
       "  'score': 0.17664849758148193},\n",
       " {'m': <src.molecule_pair.MoleculePair at 0x3761d20d0>,\n",
       "  'score': 0.07530150562524796},\n",
       " {'m': <src.molecule_pair.MoleculePair at 0x3761d1fd0>,\n",
       "  'score': 0.050028927624225616},\n",
       " {'m': <src.molecule_pair.MoleculePair at 0x3761d1f10>,\n",
       "  'score': 0.15895773470401764},\n",
       " {'m': <src.molecule_pair.MoleculePair at 0x3761d1e50>,\n",
       "  'score': 0.047592148184776306},\n",
       " {'m': <src.molecule_pair.MoleculePair at 0x3761d2e90>,\n",
       "  'score': 0.06867599487304688},\n",
       " {'m': <src.molecule_pair.MoleculePair at 0x3761d2dd0>,\n",
       "  'score': 0.06174106150865555},\n",
       " {'m': <src.molecule_pair.MoleculePair at 0x3761d2d10>,\n",
       "  'score': 0.1411459743976593},\n",
       " {'m': <src.molecule_pair.MoleculePair at 0x3761d2c50>,\n",
       "  'score': 0.027423053979873657},\n",
       " {'m': <src.molecule_pair.MoleculePair at 0x3761d2b50>,\n",
       "  'score': 0.051214978098869324},\n",
       " {'m': <src.molecule_pair.MoleculePair at 0x3761d2a90>,\n",
       "  'score': 0.1468837857246399},\n",
       " {'m': <src.molecule_pair.MoleculePair at 0x3761d2990>,\n",
       "  'score': 0.06948694586753845},\n",
       " {'m': <src.molecule_pair.MoleculePair at 0x3761d28d0>,\n",
       "  'score': 0.01049865409731865},\n",
       " {'m': <src.molecule_pair.MoleculePair at 0x3761d2810>,\n",
       "  'score': 0.05995402857661247},\n",
       " {'m': <src.molecule_pair.MoleculePair at 0x3761d2f50>,\n",
       "  'score': 0.08465252071619034},\n",
       " {'m': <src.molecule_pair.MoleculePair at 0x3761d3790>,\n",
       "  'score': 0.02582256682217121},\n",
       " {'m': <src.molecule_pair.MoleculePair at 0x3761d36d0>,\n",
       "  'score': 0.032957036048173904},\n",
       " {'m': <src.molecule_pair.MoleculePair at 0x3761d3610>,\n",
       "  'score': 0.03790423274040222},\n",
       " {'m': <src.molecule_pair.MoleculePair at 0x3761d3510>,\n",
       "  'score': 0.017340756952762604},\n",
       " {'m': <src.molecule_pair.MoleculePair at 0x3761d3450>,\n",
       "  'score': 0.032040324062108994},\n",
       " {'m': <src.molecule_pair.MoleculePair at 0x3761d3390>,\n",
       "  'score': 0.09710780531167984},\n",
       " {'m': <src.molecule_pair.MoleculePair at 0x3761d3290>,\n",
       "  'score': 0.11684565246105194},\n",
       " {'m': <src.molecule_pair.MoleculePair at 0x3761d31d0>,\n",
       "  'score': 0.046752747148275375},\n",
       " ...]"
      ]
     },
     "execution_count": 380,
     "metadata": {},
     "output_type": "execute_result"
    }
   ],
   "source": [
    "[{'m':m,'score':s} for m,s in zip(temp_molecule_pairs,scores_trans)]"
   ]
  },
  {
   "cell_type": "code",
   "execution_count": 381,
   "id": "ea87b742-bbb2-41cc-a4db-ad142a672b51",
   "metadata": {},
   "outputs": [
    {
     "data": {
      "text/plain": [
       "22"
      ]
     },
     "execution_count": 381,
     "metadata": {},
     "output_type": "execute_result"
    }
   ],
   "source": [
    "len(bad_mol_1)"
   ]
  },
  {
   "cell_type": "code",
   "execution_count": 382,
   "id": "1115ee25-d735-4fee-afc3-03af0ae6f576",
   "metadata": {},
   "outputs": [],
   "source": [
    "bad_mol_1_gnps = [b for b in bad_mol_1 if (b['m'].params_0['spectrumid'].startswith('CCMS') and b['m'].params_1['spectrumid'].startswith('CCMS')) ]"
   ]
  },
  {
   "cell_type": "code",
   "execution_count": 383,
   "id": "4cb19d8a-9b26-4f14-9e79-53e9af2f6cd8",
   "metadata": {},
   "outputs": [
    {
     "data": {
      "text/plain": [
       "16"
      ]
     },
     "execution_count": 383,
     "metadata": {},
     "output_type": "execute_result"
    }
   ],
   "source": [
    "len(bad_mol_1_gnps)"
   ]
  },
  {
   "cell_type": "code",
   "execution_count": 384,
   "id": "2ac2d721-50db-404f-85ff-fab10b5aad55",
   "metadata": {},
   "outputs": [
    {
     "data": {
      "text/plain": [
       "1.0"
      ]
     },
     "execution_count": 384,
     "metadata": {},
     "output_type": "execute_result"
    }
   ],
   "source": [
    "bad_mol_1_gnps[10]['m'].similarity"
   ]
  },
  {
   "cell_type": "code",
   "execution_count": 385,
   "id": "9b5d8a40-e435-43e0-9b63-435f3ee32945",
   "metadata": {},
   "outputs": [
    {
     "data": {
      "text/plain": [
       "0.20853690803050995"
      ]
     },
     "execution_count": 385,
     "metadata": {},
     "output_type": "execute_result"
    }
   ],
   "source": [
    "bad_mol_1_gnps[10]['score']"
   ]
  },
  {
   "cell_type": "code",
   "execution_count": 386,
   "id": "1042d599-126f-4803-ac41-383913396868",
   "metadata": {},
   "outputs": [
    {
     "data": {
      "text/plain": [
       "'COCC(COC(C)=O)N(C)C(=O)CC/C=C/CCCCC(Cl)CCCCCCCl'"
      ]
     },
     "execution_count": 386,
     "metadata": {},
     "output_type": "execute_result"
    }
   ],
   "source": [
    "bad_mol_1_gnps[10]['m'].smiles_0"
   ]
  },
  {
   "cell_type": "code",
   "execution_count": 387,
   "id": "d2b90c80-12b7-497e-a536-4d9cd0a7dbeb",
   "metadata": {},
   "outputs": [
    {
     "data": {
      "text/plain": [
       "'COC[C@@H](COC(C)=O)N(C)C(=O)CC/C=C/CCCCC(Cl)CCCCCCCl'"
      ]
     },
     "execution_count": 387,
     "metadata": {},
     "output_type": "execute_result"
    }
   ],
   "source": [
    "bad_mol_1_gnps[10]['m'].smiles_1"
   ]
  },
  {
   "cell_type": "code",
   "execution_count": 388,
   "id": "b8ac807d-5b2d-4f20-9116-89582157f7a0",
   "metadata": {},
   "outputs": [
    {
     "data": {
      "text/plain": [
       "'ClCCCCCCC(Cl)CCCC/C=C/CCC(N(C)[C@@H](COC)COC(C)=O)=O'"
      ]
     },
     "execution_count": 388,
     "metadata": {},
     "output_type": "execute_result"
    }
   ],
   "source": [
    "bad_mol_1_gnps[10]['m'].params_1['smiles']"
   ]
  },
  {
   "cell_type": "code",
   "execution_count": 389,
   "id": "9ef87364-be21-4433-b55b-17f8bb4871dc",
   "metadata": {},
   "outputs": [
    {
     "data": {
      "text/plain": [
       "{'pepmass': (466.04, None),\n",
       " 'charge': [1],\n",
       " 'mslevel': '2',\n",
       " 'source_instrument': 'LC-ESI-Ion Trap',\n",
       " 'filename': 'f.evgenia_glukhov/Cyano cultures/M_BOUILLONNII.mzXML;',\n",
       " 'seq': '*..*',\n",
       " 'ionmode': 'Positive',\n",
       " 'organism': 'GNPS-LIBRARY',\n",
       " 'name': 'Columbamide A M+H',\n",
       " 'pi': 'Gerwick',\n",
       " 'datacollector': 'Jenia',\n",
       " 'smiles': 'ClCCCCCCC(Cl)CCCC/C=C/CCC(N(C)C(COC)COC(C)=O)=O',\n",
       " 'inchi': '',\n",
       " 'inchiaux': '',\n",
       " 'pubmed': '26149623',\n",
       " 'submituser': 'evgenia_glukhov',\n",
       " 'libraryquality': '3',\n",
       " 'spectrumid': 'CCMSLIB00000531496',\n",
       " 'scans': '817'}"
      ]
     },
     "execution_count": 389,
     "metadata": {},
     "output_type": "execute_result"
    }
   ],
   "source": [
    "bad_mol_1_gnps[10]['m'].params_0"
   ]
  },
  {
   "cell_type": "code",
   "execution_count": null,
   "id": "1300c324-debf-4cd2-9e43-e13ebbae7cc1",
   "metadata": {},
   "outputs": [],
   "source": []
  },
  {
   "cell_type": "code",
   "execution_count": 390,
   "id": "13d9ba73-d0d7-412e-82ff-b21f4abdbb3b",
   "metadata": {},
   "outputs": [
    {
     "data": {
      "text/plain": [
       "{'pepmass': (466.248, None),\n",
       " 'charge': [1],\n",
       " 'mslevel': '2',\n",
       " 'source_instrument': 'LC-ESI-qTof',\n",
       " 'filename': 'f.RReher/Golden lab/ColumbamideA-C_reference/ColumbamideA.mgf;',\n",
       " 'seq': '*..*',\n",
       " 'ionmode': 'Positive',\n",
       " 'organism': 'GNPS-LIBRARY',\n",
       " 'name': 'Columbamide A M+H',\n",
       " 'pi': 'Gerwick',\n",
       " 'datacollector': 'Kleigrewe',\n",
       " 'smiles': 'ClCCCCCCC(Cl)CCCC/C=C/CCC(N(C)[C@@H](COC)COC(C)=O)=O',\n",
       " 'inchi': '',\n",
       " 'inchiaux': '',\n",
       " 'pubmed': '',\n",
       " 'submituser': 'RReher',\n",
       " 'libraryquality': '3',\n",
       " 'spectrumid': 'CCMSLIB00005464636',\n",
       " 'scans': '1'}"
      ]
     },
     "execution_count": 390,
     "metadata": {},
     "output_type": "execute_result"
    }
   ],
   "source": [
    "bad_mol_1_gnps[10]['m'].params_1"
   ]
  },
  {
   "cell_type": "code",
   "execution_count": 391,
   "id": "27ea9121-bb5c-4817-a643-0590516f66ff",
   "metadata": {},
   "outputs": [],
   "source": [
    "from rdkit import Chem"
   ]
  },
  {
   "cell_type": "code",
   "execution_count": 392,
   "id": "ad09c096-c310-4fbf-894c-afb0806f8db0",
   "metadata": {},
   "outputs": [
    {
     "data": {
      "text/plain": [
       "'COCC(COC(C)=O)N(C)C(=O)CC/C=C/CCCCC(Cl)CCCCCCCl'"
      ]
     },
     "execution_count": 392,
     "metadata": {},
     "output_type": "execute_result"
    }
   ],
   "source": [
    "Chem.CanonSmiles(bad_mol_1_gnps[10]['m'].smiles_0)"
   ]
  },
  {
   "cell_type": "code",
   "execution_count": 393,
   "id": "3983a9e7-f4f8-4ea4-b1ca-6cb877eab125",
   "metadata": {},
   "outputs": [
    {
     "data": {
      "text/plain": [
       "'COCC(COC(C)=O)N(C)C(=O)CC/C=C/CCCCC(Cl)CCCCCCCl'"
      ]
     },
     "execution_count": 393,
     "metadata": {},
     "output_type": "execute_result"
    }
   ],
   "source": [
    "Chem.CanonSmiles(bad_mol_1_gnps[10]['m'].params_0['smiles'])"
   ]
  },
  {
   "cell_type": "code",
   "execution_count": 394,
   "id": "29268c2e-decc-472e-992c-a5486abbe9a5",
   "metadata": {},
   "outputs": [
    {
     "data": {
      "text/plain": [
       "'COC[C@@H](COC(C)=O)N(C)C(=O)CC/C=C/CCCCC(Cl)CCCCCCCl'"
      ]
     },
     "execution_count": 394,
     "metadata": {},
     "output_type": "execute_result"
    }
   ],
   "source": [
    "Chem.CanonSmiles(bad_mol_1_gnps[10]['m'].smiles_1)"
   ]
  },
  {
   "cell_type": "code",
   "execution_count": 395,
   "id": "3dce575e-9ae5-404a-8226-ede05d87002f",
   "metadata": {},
   "outputs": [
    {
     "data": {
      "text/plain": [
       "'COCC(COC(C)=O)N(C)C(=O)CC/C=C/CCCCC(Cl)CCCCCCCl'"
      ]
     },
     "execution_count": 395,
     "metadata": {},
     "output_type": "execute_result"
    }
   ],
   "source": [
    "bad_mol_1_gnps[10]['m'].smiles_0"
   ]
  },
  {
   "cell_type": "code",
   "execution_count": 396,
   "id": "b59a0a4f-4057-471e-9c45-5482c727bf8c",
   "metadata": {},
   "outputs": [
    {
     "data": {
      "text/plain": [
       "'ClCCCCCCC(Cl)CCCC/C=C/CCC(N(C)C(COC)COC(C)=O)=O'"
      ]
     },
     "execution_count": 396,
     "metadata": {},
     "output_type": "execute_result"
    }
   ],
   "source": [
    "bad_mol_1_gnps[10]['m'].params_0['smiles']"
   ]
  },
  {
   "cell_type": "code",
   "execution_count": 397,
   "id": "c2fad335-adf3-470c-9b92-fbf98930dde5",
   "metadata": {},
   "outputs": [],
   "source": [
    "smiles_0=bad_mol_1_gnps[10]['m'].smiles_0"
   ]
  },
  {
   "cell_type": "code",
   "execution_count": 398,
   "id": "a80a966e-bbff-4ae7-af1c-38b28cd832ee",
   "metadata": {},
   "outputs": [],
   "source": [
    "smiles_1=bad_mol_1_gnps[10]['m'].smiles_1"
   ]
  },
  {
   "cell_type": "code",
   "execution_count": 399,
   "id": "bbc1dc79-c160-44d6-8a14-ead16ec264a0",
   "metadata": {},
   "outputs": [
    {
     "data": {
      "text/plain": [
       "1.0"
      ]
     },
     "execution_count": 399,
     "metadata": {},
     "output_type": "execute_result"
    }
   ],
   "source": [
    "bad_mol_1_gnps[10]['m'].similarity"
   ]
  },
  {
   "cell_type": "code",
   "execution_count": 400,
   "id": "c383df01-9bac-45a2-a952-8360326c532c",
   "metadata": {},
   "outputs": [],
   "source": [
    "from rdkit.Chem import DataStructs\n",
    "mol_0 = Chem.MolFromSmiles(smiles_0)\n",
    "fp_0 = Chem.RDKFingerprint(mol_0) \n",
    "\n",
    "mol_1 = Chem.MolFromSmiles(smiles_1)\n",
    "fp_1 = Chem.RDKFingerprint(mol_1)\n",
    "similarity = DataStructs.TanimotoSimilarity(fp_0, fp_1)"
   ]
  },
  {
   "cell_type": "code",
   "execution_count": 401,
   "id": "0402b743-15a6-478c-a819-ecf0a65e418d",
   "metadata": {},
   "outputs": [
    {
     "data": {
      "text/plain": [
       "'COCC(COC(C)=O)N(C)C(=O)CC/C=C/CCCCC(Cl)CCCCCCCl'"
      ]
     },
     "execution_count": 401,
     "metadata": {},
     "output_type": "execute_result"
    }
   ],
   "source": [
    "smiles_0"
   ]
  },
  {
   "cell_type": "code",
   "execution_count": 402,
   "id": "3b555207-4a79-4e7d-a2eb-6c3da5ffe101",
   "metadata": {},
   "outputs": [
    {
     "data": {
      "text/plain": [
       "'COC[C@@H](COC(C)=O)N(C)C(=O)CC/C=C/CCCCC(Cl)CCCCCCCl'"
      ]
     },
     "execution_count": 402,
     "metadata": {},
     "output_type": "execute_result"
    }
   ],
   "source": [
    "smiles_1"
   ]
  },
  {
   "cell_type": "code",
   "execution_count": 403,
   "id": "e49416dc-cf68-4003-a849-8a636aca19fc",
   "metadata": {},
   "outputs": [
    {
     "data": {
      "image/png": "[encoded data removed]",
      "text/plain": [
       "<rdkit.Chem.rdchem.Mol at 0x4dc4320a0>"
      ]
     },
     "execution_count": 403,
     "metadata": {},
     "output_type": "execute_result"
    }
   ],
   "source": [
    "mol_0"
   ]
  },
  {
   "cell_type": "code",
   "execution_count": 404,
   "id": "4a5217bf-4bc2-45dc-af43-5acad640dfbb",
   "metadata": {},
   "outputs": [
    {
     "data": {
      "image/png": "[encoded data removed]",
      "text/plain": [
       "<rdkit.Chem.rdchem.Mol at 0x4dc432110>"
      ]
     },
     "execution_count": 404,
     "metadata": {},
     "output_type": "execute_result"
    }
   ],
   "source": [
    "mol_1"
   ]
  },
  {
   "cell_type": "code",
   "execution_count": 405,
   "id": "784394f9-466f-4dc4-a894-f92dbea9f6c6",
   "metadata": {},
   "outputs": [
    {
     "data": {
      "text/plain": [
       "1.0"
      ]
     },
     "execution_count": 405,
     "metadata": {},
     "output_type": "execute_result"
    }
   ],
   "source": [
    "similarity"
   ]
  },
  {
   "cell_type": "markdown",
   "id": "35935609-4980-4c6b-be0c-e0a0156ea58d",
   "metadata": {},
   "source": [
    "## Pass the spectrum through the model"
   ]
  },
  {
   "cell_type": "code",
   "execution_count": 406,
   "id": "23ebe2ad-dd6a-48aa-b06e-46a2d6e53697",
   "metadata": {},
   "outputs": [],
   "source": [
    "import pandas as pd\n",
    "df_smiles = pd.DataFrame()\n",
    "df_smiles['indexes']=[[0],[1]]"
   ]
  },
  {
   "cell_type": "code",
   "execution_count": 407,
   "id": "fff9096e-b34e-4378-80ce-66d6179f7015",
   "metadata": {},
   "outputs": [
    {
     "data": {
      "text/plain": [
       "<src.spectrum_ext.SpectrumExt at 0x4cd645cd0>"
      ]
     },
     "execution_count": 407,
     "metadata": {},
     "output_type": "execute_result"
    }
   ],
   "source": [
    "bad_mol_1_gnps[10]['m'].spectrum_object_0"
   ]
  },
  {
   "cell_type": "code",
   "execution_count": 408,
   "id": "3272113a-19f4-4d8c-b614-f374db8f6301",
   "metadata": {},
   "outputs": [],
   "source": [
    "test_pair = MoleculePairsOpt(spectrums_unique=[bad_mol_1_gnps[10]['m'].spectrum_object_0,bad_mol_1_gnps[10]['m'].spectrum_object_1],\n",
    "                             spectrums_original=[bad_mol_1_gnps[10]['m'].spectrum_object_0, bad_mol_1_gnps[10]['m'].spectrum_object_1],\n",
    "                             df_smiles=df_smiles,\n",
    "                             indexes_tani_unique=np.array([[0,1,1]]))"
   ]
  },
  {
   "cell_type": "code",
   "execution_count": 409,
   "id": "7a88d36f-0cc6-47fd-ad8d-96047e7c11c1",
   "metadata": {},
   "outputs": [
    {
     "name": "stdout",
     "output_type": "stream",
     "text": [
      "Preprocessing all the data ...\n"
     ]
    },
    {
     "name": "stderr",
     "output_type": "stream",
     "text": [
      "2it [00:00, 9664.29it/s]\n"
     ]
    },
    {
     "name": "stdout",
     "output_type": "stream",
     "text": [
      "Finished preprocessing \n",
      "loading data\n",
      "Normalizing intensities\n",
      "Creating dictionaries\n"
     ]
    },
    {
     "name": "stderr",
     "output_type": "stream",
     "text": [
      "100%|███████████████████████████████████████████████████████████████████████████████████████████████████████████████████████████████████████████████████████████████████████████████| 1/1 [00:00<00:00, 4215.38it/s]\n"
     ]
    },
    {
     "name": "stdout",
     "output_type": "stream",
     "text": [
      "Preprocessing all the data ...\n"
     ]
    },
    {
     "name": "stderr",
     "output_type": "stream",
     "text": [
      "2it [00:00, 16946.68it/s]"
     ]
    },
    {
     "name": "stdout",
     "output_type": "stream",
     "text": [
      "Finished preprocessing \n",
      "loading data\n",
      "Normalizing intensities\n",
      "Creating dictionaries\n"
     ]
    },
    {
     "name": "stderr",
     "output_type": "stream",
     "text": [
      "\n",
      "/Users/sebas/miniconda3/envs/transformers/lib/python3.11/site-packages/lightning/pytorch/trainer/connectors/data_connector.py:441: The 'predict_dataloader' does not have many workers which may be a bottleneck. Consider increasing the value of the `num_workers` argument` to `num_workers=10` in the `DataLoader` to improve performance.\n"
     ]
    },
    {
     "data": {
      "application/vnd.jupyter.widget-view+json": {
       "model_id": "164defb55441497483e20efea275481f",
       "version_major": 2,
       "version_minor": 0
      },
      "text/plain": [
       "Predicting: |                                                                                                 …"
      ]
     },
     "metadata": {},
     "output_type": "display_data"
    },
    {
     "name": "stderr",
     "output_type": "stream",
     "text": [
      "To copy construct from a tensor, it is recommended to use sourceTensor.clone().detach() or sourceTensor.clone().detach().requires_grad_(True), rather than torch.tensor(sourceTensor).\n",
      "To copy construct from a tensor, it is recommended to use sourceTensor.clone().detach() or sourceTensor.clone().detach().requires_grad_(True), rather than torch.tensor(sourceTensor).\n"
     ]
    }
   ],
   "source": [
    "scores_trans=model.predict_from_molecule_pair(test_pair)"
   ]
  },
  {
   "cell_type": "code",
   "execution_count": 410,
   "id": "35ff07d5-556d-4508-874f-14eeb1f26616",
   "metadata": {},
   "outputs": [
    {
     "data": {
      "text/plain": [
       "array([0.20853683])"
      ]
     },
     "execution_count": 410,
     "metadata": {},
     "output_type": "execute_result"
    }
   ],
   "source": [
    "scores_trans"
   ]
  },
  {
   "cell_type": "code",
   "execution_count": 411,
   "id": "e94c838d-2656-4e6c-af72-e90121e2d1a3",
   "metadata": {},
   "outputs": [
    {
     "data": {
      "text/plain": [
       "'ClCCCCCCC(Cl)CCCC/C=C/CCC(N(C)C(COC)COC(C)=O)=O'"
      ]
     },
     "execution_count": 411,
     "metadata": {},
     "output_type": "execute_result"
    }
   ],
   "source": [
    "test_pair[0].smiles_0"
   ]
  },
  {
   "cell_type": "code",
   "execution_count": 412,
   "id": "e6b134f4-6626-474b-b78f-6a5e7dccce64",
   "metadata": {},
   "outputs": [
    {
     "data": {
      "text/plain": [
       "'ClCCCCCCC(Cl)CCCC/C=C/CCC(N(C)[C@@H](COC)COC(C)=O)=O'"
      ]
     },
     "execution_count": 412,
     "metadata": {},
     "output_type": "execute_result"
    }
   ],
   "source": [
    "test_pair[0].smiles_1"
   ]
  },
  {
   "cell_type": "code",
   "execution_count": 413,
   "id": "fca7b0a6-d2de-4bd3-972f-43a1872133db",
   "metadata": {},
   "outputs": [
    {
     "data": {
      "text/plain": [
       "1.0"
      ]
     },
     "execution_count": 413,
     "metadata": {},
     "output_type": "execute_result"
    }
   ],
   "source": [
    "test_pair[0].similarity"
   ]
  },
  {
   "cell_type": "code",
   "execution_count": null,
   "id": "a0fb6cbb-2d27-412e-8326-a4f2bb25a8f2",
   "metadata": {},
   "outputs": [],
   "source": []
  }
 ],
 "metadata": {
  "kernelspec": {
   "display_name": "Python 3 (ipykernel)",
   "language": "python",
   "name": "python3"
  },
  "language_info": {
   "codemirror_mode": {
    "name": "ipython",
    "version": 3
   },
   "file_extension": ".py",
   "mimetype": "text/x-python",
   "name": "python",
   "nbconvert_exporter": "python",
   "pygments_lexer": "ipython3",
   "version": "3.11.7"
  }
 },
 "nbformat": 4,
 "nbformat_minor": 5
}
