{
 "cells": [
  {
   "cell_type": "code",
   "execution_count": null,
   "id": "8c471a00",
   "metadata": {},
   "outputs": [],
   "source": [
    "%load_ext autoreload\n",
    "%autoreload 2"
   ]
  },
  {
   "cell_type": "code",
   "execution_count": null,
   "id": "e39a3b30",
   "metadata": {},
   "outputs": [],
   "source": [
    "#pip install spectrum_utils"
   ]
  },
  {
   "cell_type": "code",
   "execution_count": null,
   "id": "37b02382",
   "metadata": {},
   "outputs": [],
   "source": [
    "#pip install pyteomics"
   ]
  },
  {
   "cell_type": "code",
   "execution_count": null,
   "id": "bb6b10ea",
   "metadata": {},
   "outputs": [],
   "source": [
    "#!pip install rdkit"
   ]
  },
  {
   "cell_type": "code",
   "execution_count": null,
   "id": "b75f3851",
   "metadata": {},
   "outputs": [],
   "source": [
    "#!pip install seaborn==0.13.0"
   ]
  },
  {
   "cell_type": "code",
   "execution_count": null,
   "id": "31369bde",
   "metadata": {},
   "outputs": [],
   "source": [
    "from rdkit import Chem\n",
    "from rdkit.Chem import AllChem\n",
    "from rdkit.Chem import DataStructs"
   ]
  },
  {
   "cell_type": "code",
   "execution_count": null,
   "id": "09cd9760",
   "metadata": {},
   "outputs": [],
   "source": [
    "import logging\n",
    "from typing import Dict, IO, Iterator, Sequence, Union\n",
    "from pyteomics import mgf\n",
    "import pyteomics\n",
    "from spectrum_utils.spectrum import MsmsSpectrum\n",
    "import matplotlib.pyplot as plt\n",
    "import spectrum_utils.plot as sup\n",
    "import spectrum_utils as su\n",
    "import numpy as np\n",
    "from src.load_data import LoadData\n",
    "from spectrum_utils import plot\n",
    "from src.preprocessor import Preprocessor\n",
    "from src.ml_model import MlModel\n",
    "from src.tanimoto import Tanimoto\n",
    "from sklearn.model_selection import train_test_split\n",
    "from src.plotting import Plotting\n",
    "import pickle\n",
    "from src.cosine_distance import CosineDistance"
   ]
  },
  {
   "cell_type": "code",
   "execution_count": null,
   "id": "c897234a",
   "metadata": {},
   "outputs": [],
   "source": [
    "from tqdm import tqdm"
   ]
  },
  {
   "cell_type": "code",
   "execution_count": null,
   "id": "36b914a0",
   "metadata": {},
   "outputs": [],
   "source": [
    "from src.spectrum_ext import SpectrumExt"
   ]
  },
  {
   "cell_type": "code",
   "execution_count": null,
   "id": "7a822249",
   "metadata": {},
   "outputs": [],
   "source": [
    "from src.train_utils import TrainUtils\n",
    "from sklearn.metrics import r2_score"
   ]
  },
  {
   "cell_type": "code",
   "execution_count": null,
   "id": "f28856af",
   "metadata": {},
   "outputs": [],
   "source": [
    "pp =Preprocessor()"
   ]
  },
  {
   "cell_type": "code",
   "execution_count": null,
   "id": "65e6b659",
   "metadata": {},
   "outputs": [],
   "source": []
  },
  {
   "cell_type": "markdown",
   "id": "1e2fa89a",
   "metadata": {},
   "source": [
    "## Load data"
   ]
  },
  {
   "cell_type": "code",
   "execution_count": null,
   "id": "bc29b3bd",
   "metadata": {},
   "outputs": [],
   "source": [
    "import dill\n",
    "\n",
    "# Load the dataset from the pickle file\n",
    "with open('./dataset_processed.pkl', 'rb') as file:\n",
    "    dataset = dill.load(file)\n",
    "\n",
    "# Now you can access the original variables from the dataset dictionary\n",
    "all_spectrums_train = dataset['all_spectrums_train']\n",
    "all_spectrums_test = dataset['all_spectrums_test']\n",
    "molecule_pairs_train = dataset['molecule_pairs_train']\n",
    "molecule_pairs_test = dataset['molecule_pairs_test']"
   ]
  },
  {
   "cell_type": "markdown",
   "id": "f95c73cd",
   "metadata": {},
   "source": [
    "## Compute similarity metrics"
   ]
  },
  {
   "cell_type": "code",
   "execution_count": null,
   "id": "539fd2fa",
   "metadata": {},
   "outputs": [],
   "source": [
    "from src.deterministic_similarity import DetSimilarity"
   ]
  },
  {
   "cell_type": "code",
   "execution_count": null,
   "id": "e43565ef",
   "metadata": {},
   "outputs": [],
   "source": [
    "import dill"
   ]
  },
  {
   "cell_type": "code",
   "execution_count": null,
   "id": "b3e08360",
   "metadata": {},
   "outputs": [],
   "source": [
    "similarities, similarities_tanimoto = DetSimilarity.compute_all_scores(molecule_pairs_test)"
   ]
  },
  {
   "cell_type": "code",
   "execution_count": null,
   "id": "847998a4",
   "metadata": {},
   "outputs": [],
   "source": [
    "Plotting.plot_similarity_graphs(similarities, similarities_tanimoto)"
   ]
  },
  {
   "cell_type": "code",
   "execution_count": null,
   "id": "48b3afad",
   "metadata": {},
   "outputs": [],
   "source": [
    "Plotting.plot_gnps_libraries_tanimoto(similarities)"
   ]
  },
  {
   "cell_type": "code",
   "execution_count": null,
   "id": "9bf905a8",
   "metadata": {},
   "outputs": [],
   "source": []
  },
  {
   "cell_type": "code",
   "execution_count": null,
   "id": "d4f4e546",
   "metadata": {},
   "outputs": [],
   "source": []
  },
  {
   "cell_type": "code",
   "execution_count": null,
   "id": "8f7fa193",
   "metadata": {},
   "outputs": [],
   "source": []
  }
 ],
 "metadata": {
  "kernelspec": {
   "display_name": "Python 3 (ipykernel)",
   "language": "python",
   "name": "python3"
  },
  "language_info": {
   "codemirror_mode": {
    "name": "ipython",
    "version": 3
   },
   "file_extension": ".py",
   "mimetype": "text/x-python",
   "name": "python",
   "nbconvert_exporter": "python",
   "pygments_lexer": "ipython3",
   "version": "3.11.3"
  }
 },
 "nbformat": 4,
 "nbformat_minor": 5
}
