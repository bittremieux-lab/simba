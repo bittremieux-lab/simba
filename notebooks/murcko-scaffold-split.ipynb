{
 "cells": [
  {
   "cell_type": "code",
   "execution_count": 1,
   "id": "b0a7ee97",
   "metadata": {},
   "outputs": [],
   "source": [
    "%load_ext autoreload\n",
    "%autoreload 2"
   ]
  },
  {
   "cell_type": "code",
   "execution_count": 5,
   "id": "18ed14a1",
   "metadata": {},
   "outputs": [],
   "source": [
    "#!pip install opencv-python"
   ]
  },
  {
   "cell_type": "code",
   "execution_count": 6,
   "id": "ec28c771",
   "metadata": {},
   "outputs": [],
   "source": [
    "import pandas as pd\n",
    "from tqdm.auto import tqdm\n",
    "tqdm.pandas()\n",
    "\n",
    "import cv2\n",
    "import matplotlib.pyplot as plt\n",
    "import numpy as np\n",
    "from sklearn.model_selection import GroupKFold\n",
    "\n",
    "\n",
    "from rdkit import Chem\n",
    "from rdkit.Chem.Scaffolds import MurckoScaffold\n",
    "\n",
    "from collections import defaultdict"
   ]
  },
  {
   "cell_type": "code",
   "execution_count": 8,
   "id": "e645215b",
   "metadata": {},
   "outputs": [],
   "source": [
    "from rdkit import Chem\n",
    "from rdkit.Chem import AllChem\n",
    "from rdkit.Chem import DataStructs\n",
    "import logging\n",
    "from typing import Dict, IO, Iterator, Sequence, Union\n",
    "from pyteomics import mgf\n",
    "import pyteomics\n",
    "from spectrum_utils.spectrum import MsmsSpectrum\n",
    "import matplotlib.pyplot as plt\n",
    "import spectrum_utils.plot as sup\n",
    "import spectrum_utils as su\n",
    "import numpy as np\n",
    "from src.load_data import LoadData\n",
    "from spectrum_utils import plot\n",
    "from src.preprocessor import Preprocessor\n",
    "from src.ml_model import MlModel\n",
    "from src.tanimoto import Tanimoto\n",
    "from sklearn.model_selection import train_test_split\n",
    "from src.plotting import Plotting\n",
    "import pickle\n",
    "from src.cosine_distance import CosineDistance"
   ]
  },
  {
   "cell_type": "code",
   "execution_count": 7,
   "id": "462beb4e",
   "metadata": {},
   "outputs": [],
   "source": [
    "# method 2\n",
    "def get_bm_scaffold(smiles):\n",
    "    try:\n",
    "        scaffold = Chem.MolToSmiles(MurckoScaffold.MakeScaffoldGeneric(mol=Chem.MolFromSmiles(smiles)))\n",
    "    except Exception:\n",
    "        print(\"Raise AtomValenceException, return basic Murcko Scaffold\")\n",
    "        scaffold = smiles\n",
    "    return scaffold\n"
   ]
  },
  {
   "cell_type": "code",
   "execution_count": 10,
   "id": "7d1b8b2b",
   "metadata": {},
   "outputs": [],
   "source": [
    "mgf_path = r\"C:\\Users\\ramir\\Downloads\\ALL_GNPS_NO_PROPOGATED_wb.mgf\""
   ]
  },
  {
   "cell_type": "markdown",
   "id": "e1cb6fa3",
   "metadata": {},
   "source": [
    "## Open data"
   ]
  },
  {
   "cell_type": "code",
   "execution_count": 11,
   "id": "c40f3175",
   "metadata": {},
   "outputs": [
    {
     "name": "stderr",
     "output_type": "stream",
     "text": [
      "100%|██████████| 100/100 [00:08<00:00, 11.47it/s]\n"
     ]
    }
   ],
   "source": [
    "all_spectrums_original = LoadData.get_all_spectrums(mgf_path,100)"
   ]
  },
  {
   "cell_type": "code",
   "execution_count": 13,
   "id": "547befc2",
   "metadata": {},
   "outputs": [],
   "source": [
    "smiles_temp = all_spectrums_original[0].params['smiles']"
   ]
  },
  {
   "cell_type": "code",
   "execution_count": 14,
   "id": "63ea1db4",
   "metadata": {},
   "outputs": [
    {
     "data": {
      "text/plain": [
       "'CC(C)CC1NC(=O)C(C)NC(=O)C(=C)N(C)C(=O)CCC(NC(=O)C(C)C(NC(=O)C(CCCNC(N)=N)NC(=O)C(C)C(NC1=O)C(O)=O)\\\\C=C\\\\C(\\\\C)=C\\\\C(C)C(O)Cc1ccccc1)C(O)=O'"
      ]
     },
     "execution_count": 14,
     "metadata": {},
     "output_type": "execute_result"
    }
   ],
   "source": [
    "smiles_temp"
   ]
  },
  {
   "cell_type": "code",
   "execution_count": 17,
   "id": "8eb6f05b",
   "metadata": {},
   "outputs": [],
   "source": [
    "bms = [get_bm_scaffold(s.params['smiles']) for s in all_spectrums_original]"
   ]
  },
  {
   "cell_type": "code",
   "execution_count": 22,
   "id": "66d88db7",
   "metadata": {},
   "outputs": [],
   "source": [
    "# Count the appearances of unique values\n",
    "unique_values, counts = np.unique(bms, return_counts=True)"
   ]
  },
  {
   "cell_type": "code",
   "execution_count": 27,
   "id": "69905572",
   "metadata": {},
   "outputs": [],
   "source": [
    "\n"
   ]
  },
  {
   "cell_type": "code",
   "execution_count": 29,
   "id": "0f1aa005",
   "metadata": {},
   "outputs": [],
   "source": [
    "train_split=0.6\n",
    "val_split= 0.2\n",
    "test_split=0.2"
   ]
  },
  {
   "cell_type": "code",
   "execution_count": 32,
   "id": "ad6188d9",
   "metadata": {},
   "outputs": [],
   "source": [
    "train_index= int(train_split*(len(unique_values)))\n",
    "val_index= train_index + int(val_split*(len(unique_values)))"
   ]
  },
  {
   "cell_type": "code",
   "execution_count": 33,
   "id": "ea52ad11",
   "metadata": {},
   "outputs": [
    {
     "data": {
      "text/plain": [
       "(41, 54)"
      ]
     },
     "execution_count": 33,
     "metadata": {},
     "output_type": "execute_result"
    }
   ],
   "source": [
    "train_index, val_index"
   ]
  },
  {
   "cell_type": "code",
   "execution_count": 34,
   "id": "7bfc9ee9",
   "metadata": {},
   "outputs": [],
   "source": [
    "train_bms= unique_values[0:train_index]\n",
    "val_bms = unique_values[train_index:val_index]\n",
    "test_bms=unique_values[val_index:]"
   ]
  },
  {
   "cell_type": "code",
   "execution_count": 43,
   "id": "12ea74ac",
   "metadata": {},
   "outputs": [],
   "source": [
    "for s in all_spectrums_original:\n",
    "    s.murcko_scaffold = get_bm_scaffold(s.params['smiles'])"
   ]
  },
  {
   "cell_type": "code",
   "execution_count": 44,
   "id": "6672da73",
   "metadata": {},
   "outputs": [],
   "source": [
    "import random\n",
    "@staticmethod\n",
    "def train_val_test_split_bms(spectrums, val_split=0.2, test_split=0.2):\n",
    "    # get the murcko scaffold\n",
    "    bms = [s.murcko_scaffold for s in spectrums]\n",
    "    \n",
    "    # count the unique elements\n",
    "    unique_values, counts = np.unique(bms, return_counts=True)\n",
    "    \n",
    "    # randomize\n",
    "    random.shuffle(unique_values)\n",
    "    \n",
    "    # get indexes\n",
    "    train_index= int(train_split*(len(unique_values)))\n",
    "    val_index= train_index + int(val_split*(len(unique_values)))\n",
    "    \n",
    "    # get elements\n",
    "    train_bms= unique_values[0:train_index]\n",
    "    val_bms = unique_values[train_index:val_index]\n",
    "    test_bms=unique_values[val_index:]\n",
    "    \n",
    "    # get data\n",
    "    spectrums_train = [s for s in spectrums if s.murcko_scaffold in train_bms]\n",
    "    spectrums_val = [s for s in spectrums if s.murcko_scaffold in val_bms]\n",
    "    spectrums_test = [s for s in spectrums if s.murcko_scaffold in test_bms]\n",
    "    return spectrums_train, spectrums_val, spectrums_test\n",
    "    "
   ]
  },
  {
   "cell_type": "code",
   "execution_count": 46,
   "id": "38cf4c8c",
   "metadata": {},
   "outputs": [],
   "source": [
    "spectrums_train, spectrums_val, spectrums_test = train_val_test_split_bms(all_spectrums_original)"
   ]
  },
  {
   "cell_type": "code",
   "execution_count": 48,
   "id": "f63e09ac",
   "metadata": {},
   "outputs": [],
   "source": [
    "bms_train = [s.murcko_scaffold for s in spectrums_train]\n",
    "bms_val = [s.murcko_scaffold for s in spectrums_val]\n",
    "bms_test = [s.murcko_scaffold for s in spectrums_test]\n"
   ]
  },
  {
   "cell_type": "code",
   "execution_count": 50,
   "id": "e3fed0cd",
   "metadata": {},
   "outputs": [
    {
     "data": {
      "text/plain": [
       "[]"
      ]
     },
     "execution_count": 50,
     "metadata": {},
     "output_type": "execute_result"
    }
   ],
   "source": [
    "[b for b in bms_train if b in bms_val]"
   ]
  },
  {
   "cell_type": "code",
   "execution_count": 51,
   "id": "0cf581eb",
   "metadata": {},
   "outputs": [
    {
     "data": {
      "text/plain": [
       "[]"
      ]
     },
     "execution_count": 51,
     "metadata": {},
     "output_type": "execute_result"
    }
   ],
   "source": [
    "[b for b in bms_train if b in bms_test]"
   ]
  },
  {
   "cell_type": "code",
   "execution_count": 52,
   "id": "94b2cb6e",
   "metadata": {},
   "outputs": [
    {
     "data": {
      "text/plain": [
       "[]"
      ]
     },
     "execution_count": 52,
     "metadata": {},
     "output_type": "execute_result"
    }
   ],
   "source": [
    "[b for b in bms_val if b in bms_test]"
   ]
  },
  {
   "cell_type": "code",
   "execution_count": null,
   "id": "db832d60",
   "metadata": {},
   "outputs": [],
   "source": []
  }
 ],
 "metadata": {
  "kernelspec": {
   "display_name": "Python 3 (ipykernel)",
   "language": "python",
   "name": "python3"
  },
  "language_info": {
   "codemirror_mode": {
    "name": "ipython",
    "version": 3
   },
   "file_extension": ".py",
   "mimetype": "text/x-python",
   "name": "python",
   "nbconvert_exporter": "python",
   "pygments_lexer": "ipython3",
   "version": "3.11.3"
  }
 },
 "nbformat": 4,
 "nbformat_minor": 5
}
