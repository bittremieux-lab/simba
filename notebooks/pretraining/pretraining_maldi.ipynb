{
 "cells": [
  {
   "cell_type": "code",
   "execution_count": 444,
   "id": "2b18abe3-a4e1-4d43-ae08-88c45b7a8c41",
   "metadata": {},
   "outputs": [
    {
     "name": "stdout",
     "output_type": "stream",
     "text": [
      "The autoreload extension is already loaded. To reload it, use:\n",
      "  %reload_ext autoreload\n"
     ]
    }
   ],
   "source": [
    "%load_ext autoreload\n",
    "%autoreload 2"
   ]
  },
  {
   "cell_type": "code",
   "execution_count": 445,
   "id": "fecb7f13-25b0-46ba-bb32-68a906a3a534",
   "metadata": {},
   "outputs": [],
   "source": [
    "#!pip install maldi-nn"
   ]
  },
  {
   "cell_type": "code",
   "execution_count": 446,
   "id": "920dc03a-634c-462d-adc6-7b66f5e58ae7",
   "metadata": {},
   "outputs": [],
   "source": [
    "import os\n",
    "os.chdir('/Users/sebas/projects/metabolomics')\n",
    "os.environ[\"PYTORCH_ENABLE_MPS_FALLBACK\"] = \"1\""
   ]
  },
  {
   "cell_type": "markdown",
   "id": "82bac8e2-0688-4a03-b127-8b9db5fd304c",
   "metadata": {},
   "source": [
    "## Parameters"
   ]
  },
  {
   "cell_type": "code",
   "execution_count": 447,
   "id": "59a4dd25-db27-4a26-8ef3-bd974009e9bf",
   "metadata": {},
   "outputs": [],
   "source": [
    "from src.config import Config\n",
    "import dill\n",
    "from src.pretraining_maldi.load_data_maldi import LoadDataMaldi\n",
    "from src.molecular_pairs_set import MolecularPairsSet\n",
    "from torch.utils.data import DataLoader, WeightedRandomSampler\n",
    "from src.pretraining_maldi.embedder_maldi import EmbedderMaldi\n",
    "from src.losscallback import LossCallback\n",
    "import lightning.pytorch as pl\n",
    "import matplotlib.pyplot as plt"
   ]
  },
  {
   "cell_type": "code",
   "execution_count": 448,
   "id": "79e9afd9-6dad-4717-9423-6b5ad07966de",
   "metadata": {},
   "outputs": [],
   "source": [
    "data_folder= '/Users/sebas/projects/data/'\n",
    "dataset_path= data_folder +'merged_gnps_nist_20240207_gnps_nist_janssen_15_millions.pkl'\n",
    "transformer_path = data_folder + 'best_model_128n_5_layers_20240219_elementwise.ckpt'\n",
    "results_folder='./notebooks/pretraining/results/'"
   ]
  },
  {
   "cell_type": "code",
   "execution_count": 449,
   "id": "5f4edf38-5bd1-41c8-bc6a-8ffdd0096981",
   "metadata": {},
   "outputs": [],
   "source": [
    "THRESHOLD_ANALOG=0.7"
   ]
  },
  {
   "cell_type": "code",
   "execution_count": 450,
   "id": "62ba59f0-30cc-4f43-ad28-4a08d93dd4f2",
   "metadata": {},
   "outputs": [],
   "source": [
    "config=Config()"
   ]
  },
  {
   "cell_type": "code",
   "execution_count": 451,
   "id": "49ce3910-ba65-4c43-907a-e4b5f262ef5a",
   "metadata": {},
   "outputs": [],
   "source": [
    "config.epochs=1000"
   ]
  },
  {
   "cell_type": "code",
   "execution_count": 452,
   "id": "df897b84-0d5c-431f-95e9-948c56c7cb12",
   "metadata": {},
   "outputs": [],
   "source": [
    "config.LR=0.001"
   ]
  },
  {
   "cell_type": "markdown",
   "id": "96dfa5fa-8923-4a7d-9514-73f979015ce3",
   "metadata": {},
   "source": [
    "## Loading data"
   ]
  },
  {
   "cell_type": "code",
   "execution_count": 453,
   "id": "577d2b0f-aa2a-493c-b0f5-2e70af26f3ab",
   "metadata": {},
   "outputs": [
    {
     "name": "stdout",
     "output_type": "stream",
     "text": [
      "loading file\n"
     ]
    }
   ],
   "source": [
    "print(\"loading file\")\n",
    "# Load the dataset from the pickle file\n",
    "with open(dataset_path, \"rb\") as file:\n",
    "    dataset = dill.load(file)\n",
    "\n",
    "molecule_pairs_train = dataset[\"molecule_pairs_train\"]\n",
    "molecule_pairs_val = dataset[\"molecule_pairs_val\"]\n",
    "molecule_pairs_test = dataset[\"molecule_pairs_test\"]\n",
    "uniformed_molecule_pairs_test = dataset[\"uniformed_molecule_pairs_test\"]"
   ]
  },
  {
   "cell_type": "code",
   "execution_count": 454,
   "id": "184d1b18-2147-4ccf-86f4-0702f898e6ac",
   "metadata": {},
   "outputs": [],
   "source": [
    "spectrums_train=molecule_pairs_train.spectrums\n",
    "spectrums_val= molecule_pairs_val.spectrums"
   ]
  },
  {
   "cell_type": "code",
   "execution_count": 455,
   "id": "37e8b251-ded9-4084-8b27-0117b1c11ed1",
   "metadata": {},
   "outputs": [
    {
     "name": "stdout",
     "output_type": "stream",
     "text": [
      "Preprocessing all the data ...\n"
     ]
    },
    {
     "name": "stderr",
     "output_type": "stream",
     "text": [
      "\n",
      "\n",
      "0it [00:00, ?it/s]\u001b[A\u001b[A\n",
      "\n",
      "9132it [00:00, 91316.39it/s]\u001b[A\u001b[A\n",
      "\n",
      "18264it [00:00, 91103.02it/s]\u001b[A\u001b[A\n",
      "\n",
      "27375it [00:00, 90506.96it/s]\u001b[A\u001b[A\n",
      "\n",
      "36427it [00:00, 90038.44it/s]\u001b[A\u001b[A\n",
      "\n",
      "45432it [00:00, 87615.89it/s]\u001b[A\u001b[A\n",
      "\n",
      "54204it [00:00, 86468.41it/s]\u001b[A\u001b[A\n",
      "\n",
      "62858it [00:00, 85492.88it/s]\u001b[A\u001b[A\n",
      "\n",
      "71413it [00:00, 85168.62it/s]\u001b[A\u001b[A\n",
      "\n",
      "79933it [00:00, 85165.19it/s]\u001b[A\u001b[A\n",
      "\n",
      "88452it [00:01, 85075.31it/s]\u001b[A\u001b[A\n",
      "\n",
      "96961it [00:01, 84796.28it/s]\u001b[A\u001b[A\n",
      "\n",
      "105442it [00:01, 84001.66it/s]\u001b[A\u001b[A\n",
      "\n",
      "113844it [00:01, 83745.50it/s]\u001b[A\u001b[A\n",
      "\n",
      "122220it [00:01, 83308.02it/s]\u001b[A\u001b[A\n",
      "\n",
      "130552it [00:01, 82012.56it/s]\u001b[A\u001b[A\n",
      "\n",
      "138757it [00:01, 80459.52it/s]\u001b[A\u001b[A\n",
      "\n",
      "146810it [00:01, 79156.70it/s]\u001b[A\u001b[A\n",
      "\n",
      "154732it [00:01, 78543.40it/s]\u001b[A\u001b[A\n",
      "\n",
      "162590it [00:01, 77885.13it/s]\u001b[A\u001b[A\n",
      "\n",
      "170381it [00:02, 76182.61it/s]\u001b[A\u001b[A\n",
      "\n",
      "178006it [00:02, 75197.53it/s]\u001b[A\u001b[A\n",
      "\n",
      "185530it [00:02, 73815.65it/s]\u001b[A\u001b[A\n",
      "\n",
      "192916it [00:02, 72292.47it/s]\u001b[A\u001b[A\n",
      "\n",
      "200151it [00:02, 70780.46it/s]\u001b[A\u001b[A\n",
      "\n",
      "207235it [00:02, 70319.11it/s]\u001b[A\u001b[A\n",
      "\n",
      "214270it [00:02, 69973.39it/s]\u001b[A\u001b[A\n",
      "\n",
      "221269it [00:02, 68402.18it/s]\u001b[A\u001b[A\n",
      "\n",
      "228114it [00:02, 66011.06it/s]\u001b[A\u001b[A\n",
      "\n",
      "234730it [00:03, 63930.70it/s]\u001b[A\u001b[A\n",
      "\n",
      "241139it [00:03, 62084.49it/s]\u001b[A\u001b[A\n",
      "\n",
      "247361it [00:03, 60172.16it/s]\u001b[A\u001b[A\n",
      "\n",
      "253390it [00:03, 57077.24it/s]\u001b[A\u001b[A\n",
      "\n",
      "263328it [00:03, 74637.00it/s]\u001b[A\u001b[A\n"
     ]
    },
    {
     "name": "stdout",
     "output_type": "stream",
     "text": [
      "Finished preprocessing \n",
      "Starting the loading of the data ...\n",
      "Normalizing intensities\n",
      "Creating dictionaries\n"
     ]
    }
   ],
   "source": [
    "dataset_train = LoadDataMaldi.from_spectra_to_dataset(spectrums_train, training=True)\n"
   ]
  },
  {
   "cell_type": "code",
   "execution_count": 456,
   "id": "27643de3-bbce-418d-a3d0-9691d9d80941",
   "metadata": {},
   "outputs": [
    {
     "name": "stdout",
     "output_type": "stream",
     "text": [
      "Preprocessing all the data ...\n"
     ]
    },
    {
     "name": "stderr",
     "output_type": "stream",
     "text": [
      "\n",
      "\n",
      "0it [00:00, ?it/s]\u001b[A\u001b[A\n",
      "\n",
      "8844it [00:00, 88436.29it/s]\u001b[A\u001b[A\n",
      "\n",
      "17688it [00:00, 85961.23it/s]\u001b[A\u001b[A\n",
      "\n",
      "32605it [00:00, 75256.21it/s]\u001b[A\u001b[A"
     ]
    },
    {
     "name": "stdout",
     "output_type": "stream",
     "text": [
      "Finished preprocessing \n",
      "Starting the loading of the data ...\n",
      "Normalizing intensities\n",
      "Creating dictionaries\n"
     ]
    },
    {
     "name": "stderr",
     "output_type": "stream",
     "text": [
      "\n"
     ]
    }
   ],
   "source": [
    "dataset_val = LoadDataMaldi.from_spectra_to_dataset(spectrums_val)"
   ]
  },
  {
   "cell_type": "code",
   "execution_count": 457,
   "id": "f091c74f-d327-4ba8-b89e-778a88353f50",
   "metadata": {},
   "outputs": [
    {
     "name": "stdout",
     "output_type": "stream",
     "text": [
      "Creating train data loader\n"
     ]
    }
   ],
   "source": [
    "print(\"Creating train data loader\")\n",
    "dataloader_train = DataLoader(\n",
    "    dataset_train, batch_size=config.BATCH_SIZE,  num_workers=10\n",
    "    #dataset_train, batch_size=1,  num_workers=10\n",
    ")\n",
    "# dataloader_test = DataLoader(dataset_test, batch_size=config.BATCH_SIZE, shuffle=False)"
   ]
  },
  {
   "cell_type": "code",
   "execution_count": 458,
   "id": "2cc961a2-9888-4fb9-9ac6-bc995bc763c2",
   "metadata": {},
   "outputs": [
    {
     "name": "stdout",
     "output_type": "stream",
     "text": [
      "Creating val data loader\n"
     ]
    }
   ],
   "source": [
    "def worker_init_fn(\n",
    "    worker_id,\n",
    "):  # ensure the dataloader for validation is the same for every epoch\n",
    "    seed = 42\n",
    "    torch.manual_seed(seed)\n",
    "    # Set the same seed for reproducibility in NumPy and Python's random module\n",
    "    np.random.seed(seed)\n",
    "    random.seed(seed)\n",
    "\n",
    "\n",
    "print(\"Creating val data loader\")\n",
    "dataloader_val = DataLoader(\n",
    "    dataset_val,\n",
    "    batch_size=config.BATCH_SIZE,\n",
    "    worker_init_fn=worker_init_fn,\n",
    "    num_workers=0,\n",
    ")"
   ]
  },
  {
   "cell_type": "code",
   "execution_count": 459,
   "id": "31fd117d-538b-4031-8c38-9ac8914614a2",
   "metadata": {
    "scrolled": true
   },
   "outputs": [],
   "source": [
    "sample = next(iter(dataset_train))"
   ]
  },
  {
   "cell_type": "code",
   "execution_count": 460,
   "id": "4a1be96d-7ca9-4e38-818a-5c0724bcba65",
   "metadata": {},
   "outputs": [
    {
     "data": {
      "text/plain": [
       "{'mz_0': array([100.077835, 105.03234 , 105.32703 , 109.06318 , 115.05264 ,\n",
       "        127.07392 , 127.13806 , 127.163506, 127.22767 , 127.31855 ,\n",
       "        127.50355 , 128.06177 , 135.8138  , 141.06786 , 141.5118  ,\n",
       "        151.05301 , 152.05847 , 157.06145 , 159.04128 , 167.29373 ,\n",
       "        169.06158 , 173.0575  , 175.07358 , 176.03139 , 181.06256 ,\n",
       "        181.28778 , 183.04295 , 185.09465 , 194.60608 , 195.07825 ,\n",
       "        197.05867 , 198.06845 , 199.07408 , 200.05211 , 201.04984 ,\n",
       "        206.90924 , 209.0571  , 210.95087 , 213.08696 , 215.06824 ,\n",
       "        215.14525 , 215.40466 , 215.69473 , 217.08334 , 217.1416  ,\n",
       "        217.19774 , 218.70152 , 219.37096 , 220.743   , 221.84476 ,\n",
       "        223.07387 , 223.27136 , 224.62965 , 225.05264 , 225.27377 ,\n",
       "        225.4276  , 226.05986 , 226.12698 , 226.43398 , 227.06769 ,\n",
       "        227.19067 , 227.25436 , 227.31528 , 227.52637 , 227.74149 ,\n",
       "        228.73442 , 229.04623 , 229.48248 , 230.1568  , 239.10524 ,\n",
       "        240.08098 , 241.02905 , 241.08377 , 241.55846 , 241.5902  ,\n",
       "        241.6065  , 241.64384 , 241.68301 , 241.73077 , 241.74785 ,\n",
       "        241.84169 , 241.88353 , 241.91    , 241.95619 , 241.97488 ,\n",
       "        242.03305 , 242.08836 , 242.15819 , 242.30226 , 242.33731 ,\n",
       "        242.50214 , 242.5378  , 242.59705 , 242.7598  , 242.96007 ,\n",
       "        243.06279 , 243.54752 , 243.60048 , 243.65166 , 243.68997 ],\n",
       "       dtype=float32),\n",
       " 'intensity_0': array([5.44826733e-04, 5.30140998e-04, 1.40571297e-04, 1.50701229e-03,\n",
       "        2.85178947e-04, 2.89206300e-02, 1.70499174e-04, 3.20561870e-04,\n",
       "        1.18232732e-04, 1.59160263e-04, 1.36492745e-04, 2.80957698e-04,\n",
       "        1.73041524e-04, 8.46926530e-04, 1.83717406e-04, 1.80881107e-04,\n",
       "        2.49064469e-04, 1.65480014e-04, 8.92921060e-04, 3.11644573e-04,\n",
       "        1.68822112e-03, 1.75651905e-04, 2.06570327e-03, 1.55392045e-04,\n",
       "        6.26370835e-04, 1.07019798e-04, 1.31005014e-04, 9.38846904e-04,\n",
       "        2.60523084e-04, 5.78315405e-04, 7.92317849e-04, 1.35321898e-04,\n",
       "        1.19918806e-03, 3.21202388e-04, 3.93592403e-04, 4.10008157e-04,\n",
       "        2.93228601e-04, 4.06833453e-04, 8.47827818e-04, 1.18957032e-02,\n",
       "        1.29788255e-04, 1.07030239e-04, 1.11556095e-04, 2.27414239e-02,\n",
       "        4.21276054e-04, 1.39096490e-04, 1.13561829e-04, 2.80394772e-04,\n",
       "        2.60379515e-04, 1.17219512e-04, 6.98945252e-04, 1.19873868e-04,\n",
       "        1.36098766e-04, 7.62056233e-03, 1.27151929e-04, 1.02916558e-04,\n",
       "        6.19147206e-03, 1.22919650e-04, 1.67862338e-04, 1.38262222e-02,\n",
       "        2.02358497e-04, 1.72565677e-04, 1.02806109e-04, 9.31098184e-05,\n",
       "        1.00725185e-04, 1.41649987e-04, 3.13455908e-04, 2.96768412e-04,\n",
       "        2.49113975e-04, 1.81582567e-04, 8.00390495e-04, 4.45753452e-04,\n",
       "        4.27236289e-01, 6.87936321e-04, 4.17781266e-04, 2.54134065e-04,\n",
       "        4.05745232e-04, 4.73802706e-04, 4.41457349e-04, 1.93942440e-04,\n",
       "        3.58953723e-04, 2.44840106e-04, 6.13906828e-04, 5.35395811e-04,\n",
       "        3.42809857e-04, 2.78016989e-04, 7.60364812e-04, 1.20730110e-04,\n",
       "        1.93168176e-04, 1.95463610e-04, 1.21535988e-04, 1.17041680e-04,\n",
       "        1.24766666e-04, 1.54808542e-04, 1.56430280e-04, 9.03139472e-01,\n",
       "        9.38024023e-05, 1.25335273e-03, 8.15557898e-04, 7.90431513e-04],\n",
       "       dtype=float32),\n",
       " 'precursor_mass_0': array([34.1505], dtype=float32),\n",
       " 'precursor_charge_0': array([1], dtype=int32),\n",
       " 'number_peaks': array([100]),\n",
       " 'sampled_mz': array([ 51.0229  ,  59.0491  ,  60.0807  ,  65.0384  ,  68.9791  ,\n",
       "         91.0501  ,  93.0444  ,  95.0485  ,  95.78077 , 100.0178  ,\n",
       "        100.077835, 105.03234 , 105.033   , 105.0696  , 105.32703 ,\n",
       "        107.0488  , 113.0396  , 115.05264 , 124.0417  , 127.31855 ,\n",
       "        127.50355 , 130.9722  , 134.0472  , 135.8138  , 141.5118  ,\n",
       "        143.0336  , 148.0474  , 149.05753 , 151.05301 , 159.04128 ,\n",
       "        165.0702  , 165.0706  , 167.0701  , 169.06158 , 173.0575  ,\n",
       "        175.07358 , 176.03139 , 183.04295 , 191.073   , 195.07825 ,\n",
       "        197.05867 , 198.06845 , 199.07408 , 200.05211 , 210.95087 ,\n",
       "        211.11    , 215.06824 , 215.14525 , 215.40466 , 215.69473 ,\n",
       "        217.08334 , 217.1416  , 217.19774 , 218.70152 , 220.743   ,\n",
       "        223.07387 , 223.27136 , 224.62965 , 225.05264 , 225.27377 ,\n",
       "        225.4276  , 226.05986 , 226.12698 , 226.43398 , 227.06769 ,\n",
       "        227.19067 , 227.25436 , 227.52637 , 229.48248 , 230.1568  ,\n",
       "        239.10524 , 240.08098 , 241.02905 , 241.08377 , 241.55846 ,\n",
       "        241.5902  , 241.6065  , 241.64384 , 241.68301 , 241.74785 ,\n",
       "        241.84169 , 241.91    , 241.95619 , 241.97488 , 242.08836 ,\n",
       "        242.15819 , 242.30226 , 242.50214 , 242.5378  , 242.59705 ,\n",
       "        242.96007 , 243.54752 , 243.60048 , 243.65166 , 243.68997 ,\n",
       "        244.9622  , 267.1818  , 272.11    , 283.1507  , 328.07663 ],\n",
       "       dtype=float32),\n",
       " 'sampled_intensity': array([2.34439783e-03, 4.70522279e-03, 1.83951557e-01, 6.12003088e-01,\n",
       "        3.45455669e-02, 1.61011424e-02, 3.12719936e-03, 1.59437642e-01,\n",
       "        1.37684878e-03, 3.87100875e-02, 4.60746611e-04, 4.48327250e-04,\n",
       "        1.24148810e-02, 1.66629124e-02, 1.18877702e-04, 1.65830757e-02,\n",
       "        2.60851043e-03, 2.41168847e-04, 7.49488478e-04, 1.34597940e-04,\n",
       "        1.15428571e-04, 1.88052235e-03, 1.43452451e-01, 1.46336984e-04,\n",
       "        1.55365313e-04, 9.10033996e-04, 2.47797072e-02, 1.86464824e-02,\n",
       "        1.52966721e-04, 7.55121466e-04, 2.70397607e-02, 3.09497625e-01,\n",
       "        5.33522189e-01, 1.42768724e-03, 1.48544510e-04, 1.74691470e-03,\n",
       "        1.31411245e-04, 1.10787732e-04, 3.84802721e-03, 4.89067170e-04,\n",
       "        6.70043810e-04, 1.14438415e-04, 1.01412402e-03, 2.71633005e-04,\n",
       "        3.44049098e-04, 7.45009035e-02, 1.00599052e-02, 1.09758752e-04,\n",
       "        9.05128545e-05, 9.43402556e-05, 1.92318652e-02, 3.56262841e-04,\n",
       "        1.17630494e-04, 9.60364559e-05, 2.20196584e-04, 5.91080869e-04,\n",
       "        1.01374397e-04, 1.15095390e-04, 6.44452311e-03, 1.07529275e-04,\n",
       "        8.70340155e-05, 5.23597607e-03, 1.03950137e-04, 1.41957062e-04,\n",
       "        1.16924979e-02, 1.71129621e-04, 1.45934566e-04, 7.87406898e-05,\n",
       "        2.50969781e-04, 2.10669590e-04, 1.53559929e-04, 6.76870637e-04,\n",
       "        3.76962766e-04, 3.61303270e-01, 5.81770902e-04, 3.53307376e-04,\n",
       "        2.14914951e-04, 3.43128806e-04, 4.00683348e-04, 1.64012366e-04,\n",
       "        3.03558365e-04, 5.19165944e-04, 4.52771113e-04, 2.89905904e-04,\n",
       "        6.43021893e-04, 1.02098500e-04, 1.63357588e-04, 1.02780010e-04,\n",
       "        9.89792825e-05, 1.05512110e-04, 1.32289249e-04, 7.93263971e-05,\n",
       "        1.05992972e-03, 6.89697335e-04, 6.68448571e-04, 2.16472754e-03,\n",
       "        2.35873647e-03, 1.67617518e-02, 1.50637403e-01, 3.73353891e-04],\n",
       "       dtype=float32),\n",
       " 'flips': array([2, 2, 2, 2, 2, 2, 2, 2, 2, 2, 1, 0, 2, 2, 0, 2, 2, 1, 2, 1, 1, 2,\n",
       "        2, 1, 0, 2, 2, 2, 1, 1, 2, 2, 2, 0, 0, 1, 0, 1, 2, 0, 1, 1, 0, 1,\n",
       "        0, 2, 1, 1, 0, 1, 0, 1, 1, 0, 0, 0, 0, 0, 1, 0, 1, 0, 0, 0, 0, 0,\n",
       "        0, 0, 0, 0, 1, 1, 0, 1, 1, 0, 0, 1, 1, 0, 1, 0, 1, 0, 0, 0, 1, 1,\n",
       "        0, 0, 0, 1, 0, 0, 0, 2, 2, 2, 2, 2], dtype=int32)}"
      ]
     },
     "execution_count": 460,
     "metadata": {},
     "output_type": "execute_result"
    }
   ],
   "source": [
    "sample"
   ]
  },
  {
   "cell_type": "code",
   "execution_count": 461,
   "id": "9d9cf4f9-5d63-483d-ad3a-bbb3f25af36a",
   "metadata": {},
   "outputs": [
    {
     "data": {
      "text/plain": [
       "array([100.077835, 105.03234 , 105.32703 , 109.06318 , 115.05264 ,\n",
       "       127.07392 , 127.13806 , 127.163506, 127.22767 , 127.31855 ,\n",
       "       127.50355 , 128.06177 , 135.8138  , 141.06786 , 141.5118  ,\n",
       "       151.05301 , 152.05847 , 157.06145 , 159.04128 , 167.29373 ,\n",
       "       169.06158 , 173.0575  , 175.07358 , 176.03139 , 181.06256 ,\n",
       "       181.28778 , 183.04295 , 185.09465 , 194.60608 , 195.07825 ,\n",
       "       197.05867 , 198.06845 , 199.07408 , 200.05211 , 201.04984 ,\n",
       "       206.90924 , 209.0571  , 210.95087 , 213.08696 , 215.06824 ,\n",
       "       215.14525 , 215.40466 , 215.69473 , 217.08334 , 217.1416  ,\n",
       "       217.19774 , 218.70152 , 219.37096 , 220.743   , 221.84476 ,\n",
       "       223.07387 , 223.27136 , 224.62965 , 225.05264 , 225.27377 ,\n",
       "       225.4276  , 226.05986 , 226.12698 , 226.43398 , 227.06769 ,\n",
       "       227.19067 , 227.25436 , 227.31528 , 227.52637 , 227.74149 ,\n",
       "       228.73442 , 229.04623 , 229.48248 , 230.1568  , 239.10524 ,\n",
       "       240.08098 , 241.02905 , 241.08377 , 241.55846 , 241.5902  ,\n",
       "       241.6065  , 241.64384 , 241.68301 , 241.73077 , 241.74785 ,\n",
       "       241.84169 , 241.88353 , 241.91    , 241.95619 , 241.97488 ,\n",
       "       242.03305 , 242.08836 , 242.15819 , 242.30226 , 242.33731 ,\n",
       "       242.50214 , 242.5378  , 242.59705 , 242.7598  , 242.96007 ,\n",
       "       243.06279 , 243.54752 , 243.60048 , 243.65166 , 243.68997 ],\n",
       "      dtype=float32)"
      ]
     },
     "execution_count": 461,
     "metadata": {},
     "output_type": "execute_result"
    }
   ],
   "source": [
    "sample['mz_0']"
   ]
  },
  {
   "cell_type": "code",
   "execution_count": 462,
   "id": "a8dbe615-768f-4455-a23e-e56be454880f",
   "metadata": {},
   "outputs": [],
   "source": [
    "target_peak_index=50"
   ]
  },
  {
   "cell_type": "code",
   "execution_count": 463,
   "id": "e26c4664-f922-4569-80ae-890983d2941b",
   "metadata": {},
   "outputs": [
    {
     "data": {
      "text/plain": [
       "223.07387"
      ]
     },
     "execution_count": 463,
     "metadata": {},
     "output_type": "execute_result"
    }
   ],
   "source": [
    "sample['mz_0'][target_peak_index]"
   ]
  },
  {
   "cell_type": "code",
   "execution_count": 464,
   "id": "688277c6-68d3-42c0-ae8b-6656bcbabd96",
   "metadata": {},
   "outputs": [
    {
     "data": {
      "text/plain": [
       "0.00069894525"
      ]
     },
     "execution_count": 464,
     "metadata": {},
     "output_type": "execute_result"
    }
   ],
   "source": [
    "sample['intensity_0'][target_peak_index]"
   ]
  },
  {
   "cell_type": "code",
   "execution_count": 465,
   "id": "a61653e1-5dd4-41a7-9c96-fb27eda84186",
   "metadata": {},
   "outputs": [
    {
     "data": {
      "text/plain": [
       "array([ 51.0229  ,  59.0491  ,  60.0807  ,  65.0384  ,  68.9791  ,\n",
       "        91.0501  ,  93.0444  ,  95.0485  ,  95.78077 , 100.0178  ,\n",
       "       100.077835, 105.03234 , 105.033   , 105.0696  , 105.32703 ,\n",
       "       107.0488  , 113.0396  , 115.05264 , 124.0417  , 127.31855 ,\n",
       "       127.50355 , 130.9722  , 134.0472  , 135.8138  , 141.5118  ,\n",
       "       143.0336  , 148.0474  , 149.05753 , 151.05301 , 159.04128 ,\n",
       "       165.0702  , 165.0706  , 167.0701  , 169.06158 , 173.0575  ,\n",
       "       175.07358 , 176.03139 , 183.04295 , 191.073   , 195.07825 ,\n",
       "       197.05867 , 198.06845 , 199.07408 , 200.05211 , 210.95087 ,\n",
       "       211.11    , 215.06824 , 215.14525 , 215.40466 , 215.69473 ,\n",
       "       217.08334 , 217.1416  , 217.19774 , 218.70152 , 220.743   ,\n",
       "       223.07387 , 223.27136 , 224.62965 , 225.05264 , 225.27377 ,\n",
       "       225.4276  , 226.05986 , 226.12698 , 226.43398 , 227.06769 ,\n",
       "       227.19067 , 227.25436 , 227.52637 , 229.48248 , 230.1568  ,\n",
       "       239.10524 , 240.08098 , 241.02905 , 241.08377 , 241.55846 ,\n",
       "       241.5902  , 241.6065  , 241.64384 , 241.68301 , 241.74785 ,\n",
       "       241.84169 , 241.91    , 241.95619 , 241.97488 , 242.08836 ,\n",
       "       242.15819 , 242.30226 , 242.50214 , 242.5378  , 242.59705 ,\n",
       "       242.96007 , 243.54752 , 243.60048 , 243.65166 , 243.68997 ,\n",
       "       244.9622  , 267.1818  , 272.11    , 283.1507  , 328.07663 ],\n",
       "      dtype=float32)"
      ]
     },
     "execution_count": 465,
     "metadata": {},
     "output_type": "execute_result"
    }
   ],
   "source": [
    "sample['sampled_mz']"
   ]
  },
  {
   "cell_type": "code",
   "execution_count": 466,
   "id": "4573d68a-18aa-4c98-8c6e-e02dac3ada89",
   "metadata": {},
   "outputs": [
    {
     "data": {
      "text/plain": [
       "217.08334"
      ]
     },
     "execution_count": 466,
     "metadata": {},
     "output_type": "execute_result"
    }
   ],
   "source": [
    "sample['sampled_mz'][target_peak_index]"
   ]
  },
  {
   "cell_type": "code",
   "execution_count": 467,
   "id": "9e91b680-8d41-43bd-af17-1cc47eec0db6",
   "metadata": {},
   "outputs": [
    {
     "data": {
      "text/plain": [
       "0.019231865"
      ]
     },
     "execution_count": 467,
     "metadata": {},
     "output_type": "execute_result"
    }
   ],
   "source": [
    "sample['sampled_intensity'][target_peak_index]"
   ]
  },
  {
   "cell_type": "code",
   "execution_count": 468,
   "id": "065f5cfb-4be0-4f35-b617-f64aeac609cb",
   "metadata": {},
   "outputs": [
    {
     "data": {
      "text/plain": [
       "[<matplotlib.lines.Line2D at 0x2e65fd1d0>]"
      ]
     },
     "execution_count": 468,
     "metadata": {},
     "output_type": "execute_result"
    },
    {
     "data": {
      "image/png": "[encoded data removed]",
      "text/plain": [
       "<Figure size 640x480 with 1 Axes>"
      ]
     },
     "metadata": {},
     "output_type": "display_data"
    }
   ],
   "source": [
    "plt.plot(sample['sampled_intensity'], label='sampled')"
   ]
  },
  {
   "cell_type": "code",
   "execution_count": 469,
   "id": "f83700aa-0907-434d-85eb-770399926ece",
   "metadata": {},
   "outputs": [
    {
     "data": {
      "text/plain": [
       "<matplotlib.legend.Legend at 0x2e5184710>"
      ]
     },
     "execution_count": 469,
     "metadata": {},
     "output_type": "execute_result"
    },
    {
     "data": {
      "image/png": "[encoded data removed]",
      "text/plain": [
       "<Figure size 640x480 with 1 Axes>"
      ]
     },
     "metadata": {},
     "output_type": "display_data"
    }
   ],
   "source": [
    "\n",
    "plt.plot(sample['intensity_0'], label = 'original')\n",
    "plt.legend()"
   ]
  },
  {
   "cell_type": "markdown",
   "id": "29e127a0-7447-40ea-8406-d208a37d479c",
   "metadata": {},
   "source": [
    "## Instantiate the training"
   ]
  },
  {
   "cell_type": "code",
   "execution_count": 470,
   "id": "90fa7c09-e1f0-49c6-b7df-aba9808a966c",
   "metadata": {},
   "outputs": [],
   "source": [
    "# loss callback\n",
    "losscallback = LossCallback(file_path=results_folder+f\"loss.png\")"
   ]
  },
  {
   "cell_type": "code",
   "execution_count": 471,
   "id": "bb183d34-89f6-49da-b1ed-132aec2319d6",
   "metadata": {},
   "outputs": [
    {
     "data": {
      "text/plain": [
       "0.001"
      ]
     },
     "execution_count": 471,
     "metadata": {},
     "output_type": "execute_result"
    }
   ],
   "source": [
    "config.LR"
   ]
  },
  {
   "cell_type": "code",
   "execution_count": 472,
   "id": "06d2d4f2-9204-4477-ada1-9075bcceabfb",
   "metadata": {},
   "outputs": [
    {
     "name": "stdout",
     "output_type": "stream",
     "text": [
      "define model\n"
     ]
    }
   ],
   "source": [
    "print(\"define model\")\n",
    "\n",
    "model = EmbedderMaldi(\n",
    "        d_model=int(config.D_MODEL),\n",
    "        n_layers=int(config.N_LAYERS),\n",
    "        weights=None,\n",
    "        lr=config.LR,\n",
    "    )"
   ]
  },
  {
   "cell_type": "code",
   "execution_count": 473,
   "id": "ba7cfd90-6b88-4711-b6ce-9b9f8b975300",
   "metadata": {},
   "outputs": [],
   "source": [
    "# Define the ModelCheckpoint callback\n",
    "checkpoint_callback = pl.callbacks.ModelCheckpoint(\n",
    "    dirpath=results_folder,\n",
    "    filename=\"best_model\",\n",
    "    monitor=\"validation_loss_epoch\",\n",
    "    mode=\"min\",\n",
    "    save_top_k=1,\n",
    ")"
   ]
  },
  {
   "cell_type": "code",
   "execution_count": 474,
   "id": "c0567485-623a-4b0a-a053-546ff9a81319",
   "metadata": {},
   "outputs": [
    {
     "name": "stderr",
     "output_type": "stream",
     "text": [
      "GPU available: True (mps), used: True\n",
      "TPU available: False, using: 0 TPU cores\n",
      "IPU available: False, using: 0 IPUs\n",
      "HPU available: False, using: 0 HPUs\n"
     ]
    }
   ],
   "source": [
    "trainer = pl.Trainer(\n",
    "    max_epochs=100,\n",
    "    callbacks=[checkpoint_callback, losscallback],\n",
    "    enable_progress_bar=True,\n",
    "    # val_check_interval= config.validate_after_ratio,\n",
    ")"
   ]
  },
  {
   "cell_type": "code",
   "execution_count": null,
   "id": "0ae5c0bd-6fcf-4f32-bc65-a8e769d42053",
   "metadata": {},
   "outputs": [
    {
     "name": "stderr",
     "output_type": "stream",
     "text": [
      "\n",
      "  | Name             | Type                             | Params\n",
      "----------------------------------------------------------------------\n",
      "0 | linear           | Linear                           | 16.5 K\n",
      "1 | linear_output    | Linear                           | 12.9 K\n",
      "2 | shared_linear    | SharedLinear                     | 129   \n",
      "3 | relu             | ReLU                             | 0     \n",
      "4 | spectrum_encoder | SpectrumTransformerEncoderCustom | 1.7 M \n",
      "5 | cosine_loss      | CosineEmbeddingLoss              | 0     \n",
      "6 | regression_loss  | MSELoss                          | 0     \n",
      "7 | dropout          | Dropout                          | 0     \n",
      "----------------------------------------------------------------------\n",
      "1.7 M     Trainable params\n",
      "0         Non-trainable params\n",
      "1.7 M     Total params\n",
      "6.846     Total estimated model params size (MB)\n"
     ]
    },
    {
     "data": {
      "application/vnd.jupyter.widget-view+json": {
       "model_id": "",
       "version_major": 2,
       "version_minor": 0
      },
      "text/plain": [
       "Sanity Checking: |                                                                                            …"
      ]
     },
     "metadata": {},
     "output_type": "display_data"
    },
    {
     "name": "stderr",
     "output_type": "stream",
     "text": [
      "/Users/sebas/projects/metabolomics/src/pretraining_maldi/embedder_maldi.py:121: UserWarning: To copy construct from a tensor, it is recommended to use sourceTensor.clone().detach() or sourceTensor.clone().detach().requires_grad_(True), rather than torch.tensor(sourceTensor).\n",
      "  target = torch.tensor(batch[\"flips\"]).to(self.device)\n"
     ]
    },
    {
     "name": "stdout",
     "output_type": "stream",
     "text": [
      "Train loss:\n",
      "[]\n",
      "Validation loss\n",
      "[0.6916192770004272]\n"
     ]
    },
    {
     "data": {
      "application/vnd.jupyter.widget-view+json": {
       "model_id": "f95251988d87403ca76e001058700c62",
       "version_major": 2,
       "version_minor": 0
      },
      "text/plain": [
       "Training: |                                                                                                   …"
      ]
     },
     "metadata": {},
     "output_type": "display_data"
    },
    {
     "data": {
      "application/vnd.jupyter.widget-view+json": {
       "model_id": "",
       "version_major": 2,
       "version_minor": 0
      },
      "text/plain": [
       "Validation: |                                                                                                 …"
      ]
     },
     "metadata": {},
     "output_type": "display_data"
    },
    {
     "name": "stdout",
     "output_type": "stream",
     "text": [
      "Train loss:\n",
      "[]\n",
      "Validation loss\n",
      "[0.6916192770004272, 0.5708261728286743]\n"
     ]
    }
   ],
   "source": [
    "# # trainer = pl.Trainer(max_steps=100,  callbacks=[checkpoint_callback, losscallback], enable_progress_bar=enable_progress_bar)\n",
    "trainer.fit(\n",
    "    model=model,\n",
    "    train_dataloaders=(dataloader_train),\n",
    "    val_dataloaders=dataloader_val,\n",
    ")\n"
   ]
  },
  {
   "cell_type": "code",
   "execution_count": null,
   "id": "89fa5010-a541-4dd6-9305-6a32610550d5",
   "metadata": {},
   "outputs": [],
   "source": [
    "import numpy as np"
   ]
  },
  {
   "cell_type": "code",
   "execution_count": null,
   "id": "56b61b12-d479-4e07-af96-734719179c99",
   "metadata": {},
   "outputs": [],
   "source": [
    "a=np.array([1,2,3,4])"
   ]
  },
  {
   "cell_type": "code",
   "execution_count": null,
   "id": "7104113c-c59b-4628-8d54-e34bd273f273",
   "metadata": {},
   "outputs": [],
   "source": [
    "a[[2,3]]"
   ]
  },
  {
   "cell_type": "code",
   "execution_count": null,
   "id": "822e7795-01fc-41e9-b07a-01259abd66d8",
   "metadata": {},
   "outputs": [],
   "source": [
    "from the following "
   ]
  }
 ],
 "metadata": {
  "kernelspec": {
   "display_name": "Python 3 (ipykernel)",
   "language": "python",
   "name": "python3"
  },
  "language_info": {
   "codemirror_mode": {
    "name": "ipython",
    "version": 3
   },
   "file_extension": ".py",
   "mimetype": "text/x-python",
   "name": "python",
   "nbconvert_exporter": "python",
   "pygments_lexer": "ipython3",
   "version": "3.11.7"
  }
 },
 "nbformat": 4,
 "nbformat_minor": 5
}
