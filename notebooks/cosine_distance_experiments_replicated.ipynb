{
 "cells": [
  {
   "cell_type": "code",
   "execution_count": null,
   "id": "8c471a00",
   "metadata": {},
   "outputs": [],
   "source": [
    "%load_ext autoreload\n",
    "%autoreload 2"
   ]
  },
  {
   "cell_type": "code",
   "execution_count": null,
   "id": "e39a3b30",
   "metadata": {},
   "outputs": [],
   "source": [
    "#pip install spectrum_utils"
   ]
  },
  {
   "cell_type": "code",
   "execution_count": null,
   "id": "37b02382",
   "metadata": {},
   "outputs": [],
   "source": [
    "#pip install pyteomics"
   ]
  },
  {
   "cell_type": "code",
   "execution_count": null,
   "id": "bb6b10ea",
   "metadata": {},
   "outputs": [],
   "source": [
    "#!pip install rdkit"
   ]
  },
  {
   "cell_type": "code",
   "execution_count": null,
   "id": "b75f3851",
   "metadata": {},
   "outputs": [],
   "source": [
    "#!pip install seaborn==0.13.0"
   ]
  },
  {
   "cell_type": "code",
   "execution_count": null,
   "id": "31369bde",
   "metadata": {},
   "outputs": [],
   "source": [
    "from rdkit import Chem\n",
    "from rdkit.Chem import AllChem\n",
    "from rdkit.Chem import DataStructs"
   ]
  },
  {
   "cell_type": "code",
   "execution_count": null,
   "id": "09cd9760",
   "metadata": {},
   "outputs": [],
   "source": [
    "import logging\n",
    "from typing import Dict, IO, Iterator, Sequence, Union\n",
    "from pyteomics import mgf\n",
    "import pyteomics\n",
    "from spectrum_utils.spectrum import MsmsSpectrum\n",
    "import matplotlib.pyplot as plt\n",
    "import spectrum_utils.plot as sup\n",
    "import spectrum_utils as su\n",
    "import numpy as np\n",
    "from src.load_data import LoadData\n",
    "from spectrum_utils import plot\n",
    "from src.preprocessor import Preprocessor\n",
    "from src.ml_model import MlModel\n",
    "from src.tanimoto import Tanimoto\n",
    "from sklearn.model_selection import train_test_split\n",
    "from src.plotting import Plotting\n",
    "import pickle\n",
    "from src.cosine_distance import CosineDistance"
   ]
  },
  {
   "cell_type": "code",
   "execution_count": null,
   "id": "c897234a",
   "metadata": {},
   "outputs": [],
   "source": [
    "from tqdm import tqdm"
   ]
  },
  {
   "cell_type": "code",
   "execution_count": null,
   "id": "36b914a0",
   "metadata": {},
   "outputs": [],
   "source": [
    "from src.spectrum_ext import SpectrumExt"
   ]
  },
  {
   "cell_type": "code",
   "execution_count": null,
   "id": "7a822249",
   "metadata": {},
   "outputs": [],
   "source": [
    "from src.train_utils import TrainUtils\n",
    "from sklearn.metrics import r2_score"
   ]
  },
  {
   "cell_type": "code",
   "execution_count": null,
   "id": "f28856af",
   "metadata": {},
   "outputs": [],
   "source": [
    "pp =Preprocessor()"
   ]
  },
  {
   "cell_type": "code",
   "execution_count": null,
   "id": "65e6b659",
   "metadata": {},
   "outputs": [],
   "source": []
  },
  {
   "cell_type": "markdown",
   "id": "1eabd906",
   "metadata": {},
   "source": [
    "## Parameters"
   ]
  },
  {
   "cell_type": "code",
   "execution_count": null,
   "id": "34ca1064",
   "metadata": {},
   "outputs": [],
   "source": [
    "mgf_path = r\"C:\\Users\\ramir\\Downloads\\ALL_GNPS_NO_PROPOGATED_wb.mgf\""
   ]
  },
  {
   "cell_type": "markdown",
   "id": "1e2fa89a",
   "metadata": {},
   "source": [
    "## Load data + preprocessing"
   ]
  },
  {
   "cell_type": "code",
   "execution_count": null,
   "id": "c0868304",
   "metadata": {},
   "outputs": [],
   "source": [
    "all_spectrums_original = LoadData.get_all_spectrums(mgf_path,100000, compute_classes=False)"
   ]
  },
  {
   "cell_type": "code",
   "execution_count": null,
   "id": "5da3d0c7",
   "metadata": {},
   "outputs": [],
   "source": [
    "len(all_spectrums_original)"
   ]
  },
  {
   "cell_type": "code",
   "execution_count": null,
   "id": "6633b75e",
   "metadata": {},
   "outputs": [],
   "source": [
    "### preprocess \n",
    "all_spectrums = pp.preprocess_all_spectrums(all_spectrums_original)"
   ]
  },
  {
   "cell_type": "code",
   "execution_count": null,
   "id": "9ed57bb6",
   "metadata": {},
   "outputs": [],
   "source": [
    "len(all_spectrums)"
   ]
  },
  {
   "cell_type": "markdown",
   "id": "eac0377c",
   "metadata": {},
   "source": [
    "## Check spectrums"
   ]
  },
  {
   "cell_type": "code",
   "execution_count": null,
   "id": "05160458",
   "metadata": {},
   "outputs": [],
   "source": [
    "Plotting.plot_spectrum(all_spectrums[0])"
   ]
  },
  {
   "cell_type": "markdown",
   "id": "a34cd1e5",
   "metadata": {},
   "source": [
    "## Compute pairs"
   ]
  },
  {
   "cell_type": "code",
   "execution_count": null,
   "id": "2a84a163",
   "metadata": {},
   "outputs": [],
   "source": [
    "molecule_pairs= TrainUtils.compute_all_tanimoto_results(all_spectrums[0:10000], max_combinations=10**5)"
   ]
  },
  {
   "cell_type": "code",
   "execution_count": null,
   "id": "f151a738",
   "metadata": {},
   "outputs": [],
   "source": [
    "len(molecule_pairs)"
   ]
  },
  {
   "cell_type": "markdown",
   "id": "f95c73cd",
   "metadata": {},
   "source": [
    "## Compute similarity metrics"
   ]
  },
  {
   "cell_type": "code",
   "execution_count": null,
   "id": "539fd2fa",
   "metadata": {},
   "outputs": [],
   "source": [
    "from src.deterministic_similarity import DetSimilarity"
   ]
  },
  {
   "cell_type": "code",
   "execution_count": null,
   "id": "b3e08360",
   "metadata": {},
   "outputs": [],
   "source": [
    "similarities, similarities_tanimoto = DetSimilarity.compute_all_scores(molecule_pairs)"
   ]
  },
  {
   "cell_type": "code",
   "execution_count": null,
   "id": "847998a4",
   "metadata": {},
   "outputs": [],
   "source": [
    "Plotting.plot_similarity_graphs(similarities, similarities_tanimoto)"
   ]
  },
  {
   "cell_type": "code",
   "execution_count": null,
   "id": "48b3afad",
   "metadata": {},
   "outputs": [],
   "source": [
    "Plotting.plot_gnps_libraries_tanimoto(similarities)"
   ]
  },
  {
   "cell_type": "code",
   "execution_count": null,
   "id": "9bf905a8",
   "metadata": {},
   "outputs": [],
   "source": []
  },
  {
   "cell_type": "code",
   "execution_count": null,
   "id": "d4f4e546",
   "metadata": {},
   "outputs": [],
   "source": []
  },
  {
   "cell_type": "code",
   "execution_count": null,
   "id": "8f7fa193",
   "metadata": {},
   "outputs": [],
   "source": []
  }
 ],
 "metadata": {
  "kernelspec": {
   "display_name": "Python 3 (ipykernel)",
   "language": "python",
   "name": "python3"
  },
  "language_info": {
   "codemirror_mode": {
    "name": "ipython",
    "version": 3
   },
   "file_extension": ".py",
   "mimetype": "text/x-python",
   "name": "python",
   "nbconvert_exporter": "python",
   "pygments_lexer": "ipython3",
   "version": "3.11.3"
  }
 },
 "nbformat": 4,
 "nbformat_minor": 5
}
