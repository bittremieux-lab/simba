{
 "cells": [
  {
   "cell_type": "code",
   "execution_count": 1,
   "id": "9a0ff5f0-7d36-4b96-b5ee-ef62bf6081c3",
   "metadata": {},
   "outputs": [],
   "source": [
    "%load_ext autoreload\n",
    "%autoreload 2"
   ]
  },
  {
   "cell_type": "code",
   "execution_count": 2,
   "id": "9209989c-22cd-49d8-be6f-e14e726f7fec",
   "metadata": {},
   "outputs": [],
   "source": [
    "## STEPS:\n",
    "#1. Load model\n",
    "#2. load data\n",
    "#3. Run inference on 1 sample\n",
    "#4. Make a wrapper for using scikit learn\n",
    "#5. Run inference on 1 sample using wrapper\n",
    "#6. Run shap values using 1 example"
   ]
  },
  {
   "cell_type": "code",
   "execution_count": 3,
   "id": "4ec84bae-46d6-4743-923d-c71af6b0f018",
   "metadata": {},
   "outputs": [],
   "source": [
    "#!pip install lightning\n",
    "#!pip install git+https://github.com/wfondrie/depthcharge.git\n",
    "#!pip install --force-reinstall lance\n",
    "#!pip install shap"
   ]
  },
  {
   "cell_type": "code",
   "execution_count": null,
   "id": "f4787d2c-1163-4569-a269-67839b5eeb9d",
   "metadata": {},
   "outputs": [],
   "source": []
  },
  {
   "cell_type": "code",
   "execution_count": 4,
   "id": "9b3a2cb7-c8a0-4bc0-8d68-e8499b9aea77",
   "metadata": {},
   "outputs": [],
   "source": [
    "import os\n",
    "os.chdir('/Users/sebas/projects/metabolomics')\n",
    "os.environ[\"PYTORCH_ENABLE_MPS_FALLBACK\"] = \"1\""
   ]
  },
  {
   "cell_type": "code",
   "execution_count": 5,
   "id": "baa0922f-67e5-4f94-9b40-57e3d4953934",
   "metadata": {},
   "outputs": [
    {
     "name": "stdout",
     "output_type": "stream",
     "text": [
      "ALL_GNPS_NO_PROPOGATED_wb.mgf\n",
      "GNPS-NIH-NATURALPRODUCTSLIBRARY.mgf\n",
      "all_spectrums_gnps.pkl\n",
      "all_spectrums_gnps_nist_20240130_gnps_nist_janssen.pkl\n",
      "all_spectrums_janssen.pkl\n",
      "all_spectrums_nist.pkl\n",
      "best_model.ckpt\n",
      "best_model_128n_10_layers_20240209.ckpt\n",
      "drug_plus.mgf\n",
      "\u001b[31mhr_msms_nist_all.MSP\u001b[m\u001b[m*\n",
      "hr_msms_nist_sample.MSP\n",
      "merged_gnps_nist_20240118_gnps_nist_janssen.pkl\n",
      "merged_gnps_nist_20240207_gnps_nist_janssen_15_millions.pkl\n",
      "ms2deepscore_positive_10k_1000_1000_1000_500.hdf5\n",
      "spec2vec_AllPositive_ratio05_filtered_201101_iter_15.model\n",
      "spec2vec_AllPositive_ratio05_filtered_201101_iter_15.model.trainables.syn1neg.npy\n",
      "spec2vec_AllPositive_ratio05_filtered_201101_iter_15.model.wv.vectors.npy\n",
      "to_export_gnps_nist.pkl\n",
      "uniformed_molecule_pairs_test.pkl\n"
     ]
    }
   ],
   "source": [
    "ls ../data/"
   ]
  },
  {
   "cell_type": "code",
   "execution_count": 6,
   "id": "e4320bfe-f89e-4f7c-b4f2-2613ece6bd90",
   "metadata": {},
   "outputs": [],
   "source": [
    "## Params\n",
    "dataset_path = '../data/merged_gnps_nist_20240207_gnps_nist_janssen_15_millions.pkl'\n",
    "best_model_path='../data/best_model_128n_10_layers_20240209.ckpt'"
   ]
  },
  {
   "cell_type": "code",
   "execution_count": 7,
   "id": "d895f857-ed7f-42ed-805d-d57d3edaec37",
   "metadata": {},
   "outputs": [
    {
     "name": "stderr",
     "output_type": "stream",
     "text": [
      "Seed set to 42\n"
     ]
    }
   ],
   "source": [
    "import shap\n",
    "import matplotlib.pyplot as plt\n",
    "from src.transformers.embedder import Embedder\n",
    "from src.config import Config\n",
    "import dill\n",
    "from src.train_utils import TrainUtils\n",
    "from src.transformers.load_data import LoadData\n",
    "from src.molecular_pairs_set import MolecularPairsSet\n",
    "from torch.utils.data import DataLoader\n",
    "import lightning.pytorch as pl\n",
    "from src.transformers.postprocessing import Postprocessing\n",
    "import numpy as np\n",
    "from src.transformers.sklearn_model import SklearnModel\n",
    "import spectrum_utils.plot as sup"
   ]
  },
  {
   "cell_type": "code",
   "execution_count": 8,
   "id": "bd10167d-2521-4987-abe6-ee362b410bca",
   "metadata": {},
   "outputs": [],
   "source": [
    "config=Config()"
   ]
  },
  {
   "cell_type": "code",
   "execution_count": 9,
   "id": "8ad745ef-b1ab-4462-a75f-203ba84cbb5e",
   "metadata": {},
   "outputs": [],
   "source": [
    "# 1. load model\n",
    "best_model = Embedder.load_from_checkpoint(best_model_path, d_model=int(config.D_MODEL), n_layers=int(config.N_LAYERS))"
   ]
  },
  {
   "cell_type": "code",
   "execution_count": 10,
   "id": "d0dab150-b4b2-45e3-ae29-76c6edc3f057",
   "metadata": {},
   "outputs": [
    {
     "data": {
      "text/plain": [
       "Embedder(\n",
       "  (linear): Linear(in_features=260, out_features=32, bias=True)\n",
       "  (relu): ReLU()\n",
       "  (linear_regression): Linear(in_features=32, out_features=1, bias=True)\n",
       "  (spectrum_encoder): SpectrumTransformerEncoderCustom(\n",
       "    (peak_encoder): PeakEncoder(\n",
       "      (mz_encoder): FloatEncoder()\n",
       "      (int_encoder): FloatEncoder()\n",
       "      (combiner): Linear(in_features=256, out_features=128, bias=False)\n",
       "    )\n",
       "    (transformer_encoder): TransformerEncoder(\n",
       "      (layers): ModuleList(\n",
       "        (0-9): 10 x TransformerEncoderLayer(\n",
       "          (self_attn): MultiheadAttention(\n",
       "            (out_proj): NonDynamicallyQuantizableLinear(in_features=128, out_features=128, bias=True)\n",
       "          )\n",
       "          (linear1): Linear(in_features=128, out_features=1024, bias=True)\n",
       "          (dropout): Dropout(p=0.1, inplace=False)\n",
       "          (linear2): Linear(in_features=1024, out_features=128, bias=True)\n",
       "          (norm1): LayerNorm((128,), eps=1e-05, elementwise_affine=True)\n",
       "          (norm2): LayerNorm((128,), eps=1e-05, elementwise_affine=True)\n",
       "          (dropout1): Dropout(p=0.1, inplace=False)\n",
       "          (dropout2): Dropout(p=0.1, inplace=False)\n",
       "        )\n",
       "      )\n",
       "    )\n",
       "  )\n",
       "  (cosine_loss): CosineEmbeddingLoss()\n",
       "  (regression_loss): MSELoss()\n",
       ")"
      ]
     },
     "execution_count": 10,
     "metadata": {},
     "output_type": "execute_result"
    }
   ],
   "source": [
    "best_model"
   ]
  },
  {
   "cell_type": "markdown",
   "id": "7fc1c9cc-ee47-4c05-9b62-c6b36b46850f",
   "metadata": {},
   "source": [
    "## load data"
   ]
  },
  {
   "cell_type": "code",
   "execution_count": 11,
   "id": "da5673c3-7788-4305-bee3-2b7afe78b32c",
   "metadata": {},
   "outputs": [],
   "source": [
    "# load data\n",
    "# Load the dataset from the pickle file\n",
    "with open(dataset_path, 'rb') as file:\n",
    "    dataset = dill.load(file)\n",
    "\n",
    "molecule_pairs_train = dataset['molecule_pairs_train']\n",
    "molecule_pairs_val = dataset['molecule_pairs_val']\n",
    "molecule_pairs_test= dataset['molecule_pairs_test']\n",
    "uniformed_molecule_pairs_test = dataset['uniformed_molecule_pairs_test']"
   ]
  },
  {
   "cell_type": "code",
   "execution_count": 12,
   "id": "e96c0738-52bb-4c26-b987-0924bdf8d947",
   "metadata": {},
   "outputs": [
    {
     "data": {
      "text/plain": [
       "<Axes: xlabel='m/z', ylabel='Intensity'>"
      ]
     },
     "execution_count": 12,
     "metadata": {},
     "output_type": "execute_result"
    },
    {
     "data": {
      "image/png": "[encoded data removed]",
      "text/plain": [
       "<Figure size 640x480 with 1 Axes>"
      ]
     },
     "metadata": {},
     "output_type": "display_data"
    }
   ],
   "source": [
    "#plot one spectrum from molecule_pairs_test\n",
    "\n",
    "sup.mirror(uniformed_molecule_pairs_test[0].spectrum_object_0, uniformed_molecule_pairs_test[0].spectrum_object_1)"
   ]
  },
  {
   "cell_type": "code",
   "execution_count": 13,
   "id": "7474ae24-5b8d-42b9-aeed-b01cdf5fbbb0",
   "metadata": {},
   "outputs": [
    {
     "data": {
      "text/plain": [
       "185165"
      ]
     },
     "execution_count": 13,
     "metadata": {},
     "output_type": "execute_result"
    }
   ],
   "source": [
    "len(uniformed_molecule_pairs_test)"
   ]
  },
  {
   "cell_type": "code",
   "execution_count": 14,
   "id": "94aba5da-dea1-46b7-ba13-739e98ed1799",
   "metadata": {},
   "outputs": [],
   "source": [
    "index = 0"
   ]
  },
  {
   "cell_type": "code",
   "execution_count": 15,
   "id": "103df046-e2ca-4d37-b1b1-0aab56ee5425",
   "metadata": {},
   "outputs": [],
   "source": [
    "one_molecule_pair  = MolecularPairsSet(spectrums=uniformed_molecule_pairs_test.spectrums, \n",
    "                                       indexes_tani = uniformed_molecule_pairs_test.indexes_tani[index:index+1,:])"
   ]
  },
  {
   "cell_type": "code",
   "execution_count": 16,
   "id": "c4f16b30-10ec-4e05-818c-080a6deac437",
   "metadata": {},
   "outputs": [
    {
     "data": {
      "text/plain": [
       "<src.molecular_pairs_set.MolecularPairsSet at 0x2b85b33d0>"
      ]
     },
     "execution_count": 16,
     "metadata": {},
     "output_type": "execute_result"
    }
   ],
   "source": [
    "one_molecule_pair"
   ]
  },
  {
   "cell_type": "markdown",
   "id": "5e24bf31-7242-43ec-b7ea-35f5f11c5a7c",
   "metadata": {},
   "source": [
    "## Make a wrapper"
   ]
  },
  {
   "cell_type": "code",
   "execution_count": 17,
   "id": "1e39ad62-f86f-409f-ba1c-2f93c8c663c2",
   "metadata": {},
   "outputs": [
    {
     "name": "stderr",
     "output_type": "stream",
     "text": [
      "GPU available: True (mps), used: True\n",
      "TPU available: False, using: 0 TPU cores\n",
      "IPU available: False, using: 0 IPUs\n",
      "HPU available: False, using: 0 HPUs\n"
     ]
    }
   ],
   "source": [
    "sklearn_model = SklearnModel(best_model_path, d_model=int(config.D_MODEL), n_layers=int(config.N_LAYERS))"
   ]
  },
  {
   "cell_type": "code",
   "execution_count": 18,
   "id": "c6754c15-ec92-4148-8a94-1efdf18d5222",
   "metadata": {},
   "outputs": [
    {
     "name": "stdout",
     "output_type": "stream",
     "text": [
      "Preprocessing all the data ...\n"
     ]
    },
    {
     "name": "stderr",
     "output_type": "stream",
     "text": [
      "32486it [00:01, 17466.42it/s]\n"
     ]
    },
    {
     "name": "stdout",
     "output_type": "stream",
     "text": [
      "Finished preprocessing \n",
      "Starting the loading of the data ...\n",
      "Normalizing intensities\n",
      "Creating dictionaries\n",
      "Preprocessing all the data ...\n"
     ]
    },
    {
     "name": "stderr",
     "output_type": "stream",
     "text": [
      "32486it [00:00, 67676.64it/s]\n"
     ]
    },
    {
     "name": "stdout",
     "output_type": "stream",
     "text": [
      "Finished preprocessing \n",
      "Starting the loading of the data ...\n",
      "Normalizing intensities\n",
      "Creating dictionaries\n"
     ]
    }
   ],
   "source": [
    "explainer=sklearn_model.get_explainer(uniformed_molecule_pairs_test)"
   ]
  },
  {
   "cell_type": "markdown",
   "id": "bbd5008a-2bbe-4149-b07b-d6264e764d32",
   "metadata": {},
   "source": [
    "## Select one spectrum as unknown"
   ]
  },
  {
   "cell_type": "code",
   "execution_count": 26,
   "id": "07df3066-ac6f-4b64-a059-5544fda75c93",
   "metadata": {},
   "outputs": [],
   "source": [
    "spectrum_hash_target = molecule_pairs_test.spectrums[0].spectrum_hash"
   ]
  },
  {
   "cell_type": "code",
   "execution_count": 27,
   "id": "d52eca0f-e223-41cb-a1d4-1ca005b089ba",
   "metadata": {},
   "outputs": [
    {
     "data": {
      "text/plain": [
       "'fb07ed1d55ba0a804d01'"
      ]
     },
     "execution_count": 27,
     "metadata": {},
     "output_type": "execute_result"
    }
   ],
   "source": [
    "spectrum_hash_target"
   ]
  },
  {
   "cell_type": "code",
   "execution_count": 28,
   "id": "45b49a31-9831-4a8d-b6ec-1348a575043f",
   "metadata": {},
   "outputs": [
    {
     "data": {
      "text/html": [
       "<style>#sk-container-id-2 {\n",
       "  /* Definition of color scheme common for light and dark mode */\n",
       "  --sklearn-color-text: black;\n",
       "  --sklearn-color-line: gray;\n",
       "  /* Definition of color scheme for unfitted estimators */\n",
       "  --sklearn-color-unfitted-level-0: #fff5e6;\n",
       "  --sklearn-color-unfitted-level-1: #f6e4d2;\n",
       "  --sklearn-color-unfitted-level-2: #ffe0b3;\n",
       "  --sklearn-color-unfitted-level-3: chocolate;\n",
       "  /* Definition of color scheme for fitted estimators */\n",
       "  --sklearn-color-fitted-level-0: #f0f8ff;\n",
       "  --sklearn-color-fitted-level-1: #d4ebff;\n",
       "  --sklearn-color-fitted-level-2: #b3dbfd;\n",
       "  --sklearn-color-fitted-level-3: cornflowerblue;\n",
       "\n",
       "  /* Specific color for light theme */\n",
       "  --sklearn-color-text-on-default-background: var(--sg-text-color, var(--theme-code-foreground, var(--jp-content-font-color1, black)));\n",
       "  --sklearn-color-background: var(--sg-background-color, var(--theme-background, var(--jp-layout-color0, white)));\n",
       "  --sklearn-color-border-box: var(--sg-text-color, var(--theme-code-foreground, var(--jp-content-font-color1, black)));\n",
       "  --sklearn-color-icon: #696969;\n",
       "\n",
       "  @media (prefers-color-scheme: dark) {\n",
       "    /* Redefinition of color scheme for dark theme */\n",
       "    --sklearn-color-text-on-default-background: var(--sg-text-color, var(--theme-code-foreground, var(--jp-content-font-color1, white)));\n",
       "    --sklearn-color-background: var(--sg-background-color, var(--theme-background, var(--jp-layout-color0, #111)));\n",
       "    --sklearn-color-border-box: var(--sg-text-color, var(--theme-code-foreground, var(--jp-content-font-color1, white)));\n",
       "    --sklearn-color-icon: #878787;\n",
       "  }\n",
       "}\n",
       "\n",
       "#sk-container-id-2 {\n",
       "  color: var(--sklearn-color-text);\n",
       "}\n",
       "\n",
       "#sk-container-id-2 pre {\n",
       "  padding: 0;\n",
       "}\n",
       "\n",
       "#sk-container-id-2 input.sk-hidden--visually {\n",
       "  border: 0;\n",
       "  clip: rect(1px 1px 1px 1px);\n",
       "  clip: rect(1px, 1px, 1px, 1px);\n",
       "  height: 1px;\n",
       "  margin: -1px;\n",
       "  overflow: hidden;\n",
       "  padding: 0;\n",
       "  position: absolute;\n",
       "  width: 1px;\n",
       "}\n",
       "\n",
       "#sk-container-id-2 div.sk-dashed-wrapped {\n",
       "  border: 1px dashed var(--sklearn-color-line);\n",
       "  margin: 0 0.4em 0.5em 0.4em;\n",
       "  box-sizing: border-box;\n",
       "  padding-bottom: 0.4em;\n",
       "  background-color: var(--sklearn-color-background);\n",
       "}\n",
       "\n",
       "#sk-container-id-2 div.sk-container {\n",
       "  /* jupyter's `normalize.less` sets `[hidden] { display: none; }`\n",
       "     but bootstrap.min.css set `[hidden] { display: none !important; }`\n",
       "     so we also need the `!important` here to be able to override the\n",
       "     default hidden behavior on the sphinx rendered scikit-learn.org.\n",
       "     See: https://github.com/scikit-learn/scikit-learn/issues/21755 */\n",
       "  display: inline-block !important;\n",
       "  position: relative;\n",
       "}\n",
       "\n",
       "#sk-container-id-2 div.sk-text-repr-fallback {\n",
       "  display: none;\n",
       "}\n",
       "\n",
       "div.sk-parallel-item,\n",
       "div.sk-serial,\n",
       "div.sk-item {\n",
       "  /* draw centered vertical line to link estimators */\n",
       "  background-image: linear-gradient(var(--sklearn-color-text-on-default-background), var(--sklearn-color-text-on-default-background));\n",
       "  background-size: 2px 100%;\n",
       "  background-repeat: no-repeat;\n",
       "  background-position: center center;\n",
       "}\n",
       "\n",
       "/* Parallel-specific style estimator block */\n",
       "\n",
       "#sk-container-id-2 div.sk-parallel-item::after {\n",
       "  content: \"\";\n",
       "  width: 100%;\n",
       "  border-bottom: 2px solid var(--sklearn-color-text-on-default-background);\n",
       "  flex-grow: 1;\n",
       "}\n",
       "\n",
       "#sk-container-id-2 div.sk-parallel {\n",
       "  display: flex;\n",
       "  align-items: stretch;\n",
       "  justify-content: center;\n",
       "  background-color: var(--sklearn-color-background);\n",
       "  position: relative;\n",
       "}\n",
       "\n",
       "#sk-container-id-2 div.sk-parallel-item {\n",
       "  display: flex;\n",
       "  flex-direction: column;\n",
       "}\n",
       "\n",
       "#sk-container-id-2 div.sk-parallel-item:first-child::after {\n",
       "  align-self: flex-end;\n",
       "  width: 50%;\n",
       "}\n",
       "\n",
       "#sk-container-id-2 div.sk-parallel-item:last-child::after {\n",
       "  align-self: flex-start;\n",
       "  width: 50%;\n",
       "}\n",
       "\n",
       "#sk-container-id-2 div.sk-parallel-item:only-child::after {\n",
       "  width: 0;\n",
       "}\n",
       "\n",
       "/* Serial-specific style estimator block */\n",
       "\n",
       "#sk-container-id-2 div.sk-serial {\n",
       "  display: flex;\n",
       "  flex-direction: column;\n",
       "  align-items: center;\n",
       "  background-color: var(--sklearn-color-background);\n",
       "  padding-right: 1em;\n",
       "  padding-left: 1em;\n",
       "}\n",
       "\n",
       "\n",
       "/* Toggleable style: style used for estimator/Pipeline/ColumnTransformer box that is\n",
       "clickable and can be expanded/collapsed.\n",
       "- Pipeline and ColumnTransformer use this feature and define the default style\n",
       "- Estimators will overwrite some part of the style using the `sk-estimator` class\n",
       "*/\n",
       "\n",
       "/* Pipeline and ColumnTransformer style (default) */\n",
       "\n",
       "#sk-container-id-2 div.sk-toggleable {\n",
       "  /* Default theme specific background. It is overwritten whether we have a\n",
       "  specific estimator or a Pipeline/ColumnTransformer */\n",
       "  background-color: var(--sklearn-color-background);\n",
       "}\n",
       "\n",
       "/* Toggleable label */\n",
       "#sk-container-id-2 label.sk-toggleable__label {\n",
       "  cursor: pointer;\n",
       "  display: block;\n",
       "  width: 100%;\n",
       "  margin-bottom: 0;\n",
       "  padding: 0.5em;\n",
       "  box-sizing: border-box;\n",
       "  text-align: center;\n",
       "}\n",
       "\n",
       "#sk-container-id-2 label.sk-toggleable__label-arrow:before {\n",
       "  /* Arrow on the left of the label */\n",
       "  content: \"▸\";\n",
       "  float: left;\n",
       "  margin-right: 0.25em;\n",
       "  color: var(--sklearn-color-icon);\n",
       "}\n",
       "\n",
       "#sk-container-id-2 label.sk-toggleable__label-arrow:hover:before {\n",
       "  color: var(--sklearn-color-text);\n",
       "}\n",
       "\n",
       "/* Toggleable content - dropdown */\n",
       "\n",
       "#sk-container-id-2 div.sk-toggleable__content {\n",
       "  max-height: 0;\n",
       "  max-width: 0;\n",
       "  overflow: hidden;\n",
       "  text-align: left;\n",
       "  /* unfitted */\n",
       "  background-color: var(--sklearn-color-unfitted-level-0);\n",
       "}\n",
       "\n",
       "#sk-container-id-2 div.sk-toggleable__content.fitted {\n",
       "  /* fitted */\n",
       "  background-color: var(--sklearn-color-fitted-level-0);\n",
       "}\n",
       "\n",
       "#sk-container-id-2 div.sk-toggleable__content pre {\n",
       "  margin: 0.2em;\n",
       "  border-radius: 0.25em;\n",
       "  color: var(--sklearn-color-text);\n",
       "  /* unfitted */\n",
       "  background-color: var(--sklearn-color-unfitted-level-0);\n",
       "}\n",
       "\n",
       "#sk-container-id-2 div.sk-toggleable__content.fitted pre {\n",
       "  /* unfitted */\n",
       "  background-color: var(--sklearn-color-fitted-level-0);\n",
       "}\n",
       "\n",
       "#sk-container-id-2 input.sk-toggleable__control:checked~div.sk-toggleable__content {\n",
       "  /* Expand drop-down */\n",
       "  max-height: 200px;\n",
       "  max-width: 100%;\n",
       "  overflow: auto;\n",
       "}\n",
       "\n",
       "#sk-container-id-2 input.sk-toggleable__control:checked~label.sk-toggleable__label-arrow:before {\n",
       "  content: \"▾\";\n",
       "}\n",
       "\n",
       "/* Pipeline/ColumnTransformer-specific style */\n",
       "\n",
       "#sk-container-id-2 div.sk-label input.sk-toggleable__control:checked~label.sk-toggleable__label {\n",
       "  color: var(--sklearn-color-text);\n",
       "  background-color: var(--sklearn-color-unfitted-level-2);\n",
       "}\n",
       "\n",
       "#sk-container-id-2 div.sk-label.fitted input.sk-toggleable__control:checked~label.sk-toggleable__label {\n",
       "  background-color: var(--sklearn-color-fitted-level-2);\n",
       "}\n",
       "\n",
       "/* Estimator-specific style */\n",
       "\n",
       "/* Colorize estimator box */\n",
       "#sk-container-id-2 div.sk-estimator input.sk-toggleable__control:checked~label.sk-toggleable__label {\n",
       "  /* unfitted */\n",
       "  background-color: var(--sklearn-color-unfitted-level-2);\n",
       "}\n",
       "\n",
       "#sk-container-id-2 div.sk-estimator.fitted input.sk-toggleable__control:checked~label.sk-toggleable__label {\n",
       "  /* fitted */\n",
       "  background-color: var(--sklearn-color-fitted-level-2);\n",
       "}\n",
       "\n",
       "#sk-container-id-2 div.sk-label label.sk-toggleable__label,\n",
       "#sk-container-id-2 div.sk-label label {\n",
       "  /* The background is the default theme color */\n",
       "  color: var(--sklearn-color-text-on-default-background);\n",
       "}\n",
       "\n",
       "/* On hover, darken the color of the background */\n",
       "#sk-container-id-2 div.sk-label:hover label.sk-toggleable__label {\n",
       "  color: var(--sklearn-color-text);\n",
       "  background-color: var(--sklearn-color-unfitted-level-2);\n",
       "}\n",
       "\n",
       "/* Label box, darken color on hover, fitted */\n",
       "#sk-container-id-2 div.sk-label.fitted:hover label.sk-toggleable__label.fitted {\n",
       "  color: var(--sklearn-color-text);\n",
       "  background-color: var(--sklearn-color-fitted-level-2);\n",
       "}\n",
       "\n",
       "/* Estimator label */\n",
       "\n",
       "#sk-container-id-2 div.sk-label label {\n",
       "  font-family: monospace;\n",
       "  font-weight: bold;\n",
       "  display: inline-block;\n",
       "  line-height: 1.2em;\n",
       "}\n",
       "\n",
       "#sk-container-id-2 div.sk-label-container {\n",
       "  text-align: center;\n",
       "}\n",
       "\n",
       "/* Estimator-specific */\n",
       "#sk-container-id-2 div.sk-estimator {\n",
       "  font-family: monospace;\n",
       "  border: 1px dotted var(--sklearn-color-border-box);\n",
       "  border-radius: 0.25em;\n",
       "  box-sizing: border-box;\n",
       "  margin-bottom: 0.5em;\n",
       "  /* unfitted */\n",
       "  background-color: var(--sklearn-color-unfitted-level-0);\n",
       "}\n",
       "\n",
       "#sk-container-id-2 div.sk-estimator.fitted {\n",
       "  /* fitted */\n",
       "  background-color: var(--sklearn-color-fitted-level-0);\n",
       "}\n",
       "\n",
       "/* on hover */\n",
       "#sk-container-id-2 div.sk-estimator:hover {\n",
       "  /* unfitted */\n",
       "  background-color: var(--sklearn-color-unfitted-level-2);\n",
       "}\n",
       "\n",
       "#sk-container-id-2 div.sk-estimator.fitted:hover {\n",
       "  /* fitted */\n",
       "  background-color: var(--sklearn-color-fitted-level-2);\n",
       "}\n",
       "\n",
       "/* Specification for estimator info (e.g. \"i\" and \"?\") */\n",
       "\n",
       "/* Common style for \"i\" and \"?\" */\n",
       "\n",
       ".sk-estimator-doc-link,\n",
       "a:link.sk-estimator-doc-link,\n",
       "a:visited.sk-estimator-doc-link {\n",
       "  float: right;\n",
       "  font-size: smaller;\n",
       "  line-height: 1em;\n",
       "  font-family: monospace;\n",
       "  background-color: var(--sklearn-color-background);\n",
       "  border-radius: 1em;\n",
       "  height: 1em;\n",
       "  width: 1em;\n",
       "  text-decoration: none !important;\n",
       "  margin-left: 1ex;\n",
       "  /* unfitted */\n",
       "  border: var(--sklearn-color-unfitted-level-1) 1pt solid;\n",
       "  color: var(--sklearn-color-unfitted-level-1);\n",
       "}\n",
       "\n",
       ".sk-estimator-doc-link.fitted,\n",
       "a:link.sk-estimator-doc-link.fitted,\n",
       "a:visited.sk-estimator-doc-link.fitted {\n",
       "  /* fitted */\n",
       "  border: var(--sklearn-color-fitted-level-1) 1pt solid;\n",
       "  color: var(--sklearn-color-fitted-level-1);\n",
       "}\n",
       "\n",
       "/* On hover */\n",
       "div.sk-estimator:hover .sk-estimator-doc-link:hover,\n",
       ".sk-estimator-doc-link:hover,\n",
       "div.sk-label-container:hover .sk-estimator-doc-link:hover,\n",
       ".sk-estimator-doc-link:hover {\n",
       "  /* unfitted */\n",
       "  background-color: var(--sklearn-color-unfitted-level-3);\n",
       "  color: var(--sklearn-color-background);\n",
       "  text-decoration: none;\n",
       "}\n",
       "\n",
       "div.sk-estimator.fitted:hover .sk-estimator-doc-link.fitted:hover,\n",
       ".sk-estimator-doc-link.fitted:hover,\n",
       "div.sk-label-container:hover .sk-estimator-doc-link.fitted:hover,\n",
       ".sk-estimator-doc-link.fitted:hover {\n",
       "  /* fitted */\n",
       "  background-color: var(--sklearn-color-fitted-level-3);\n",
       "  color: var(--sklearn-color-background);\n",
       "  text-decoration: none;\n",
       "}\n",
       "\n",
       "/* Span, style for the box shown on hovering the info icon */\n",
       ".sk-estimator-doc-link span {\n",
       "  display: none;\n",
       "  z-index: 9999;\n",
       "  position: relative;\n",
       "  font-weight: normal;\n",
       "  right: .2ex;\n",
       "  padding: .5ex;\n",
       "  margin: .5ex;\n",
       "  width: min-content;\n",
       "  min-width: 20ex;\n",
       "  max-width: 50ex;\n",
       "  color: var(--sklearn-color-text);\n",
       "  box-shadow: 2pt 2pt 4pt #999;\n",
       "  /* unfitted */\n",
       "  background: var(--sklearn-color-unfitted-level-0);\n",
       "  border: .5pt solid var(--sklearn-color-unfitted-level-3);\n",
       "}\n",
       "\n",
       ".sk-estimator-doc-link.fitted span {\n",
       "  /* fitted */\n",
       "  background: var(--sklearn-color-fitted-level-0);\n",
       "  border: var(--sklearn-color-fitted-level-3);\n",
       "}\n",
       "\n",
       ".sk-estimator-doc-link:hover span {\n",
       "  display: block;\n",
       "}\n",
       "\n",
       "/* \"?\"-specific style due to the `<a>` HTML tag */\n",
       "\n",
       "#sk-container-id-2 a.estimator_doc_link {\n",
       "  float: right;\n",
       "  font-size: 1rem;\n",
       "  line-height: 1em;\n",
       "  font-family: monospace;\n",
       "  background-color: var(--sklearn-color-background);\n",
       "  border-radius: 1rem;\n",
       "  height: 1rem;\n",
       "  width: 1rem;\n",
       "  text-decoration: none;\n",
       "  /* unfitted */\n",
       "  color: var(--sklearn-color-unfitted-level-1);\n",
       "  border: var(--sklearn-color-unfitted-level-1) 1pt solid;\n",
       "}\n",
       "\n",
       "#sk-container-id-2 a.estimator_doc_link.fitted {\n",
       "  /* fitted */\n",
       "  border: var(--sklearn-color-fitted-level-1) 1pt solid;\n",
       "  color: var(--sklearn-color-fitted-level-1);\n",
       "}\n",
       "\n",
       "/* On hover */\n",
       "#sk-container-id-2 a.estimator_doc_link:hover {\n",
       "  /* unfitted */\n",
       "  background-color: var(--sklearn-color-unfitted-level-3);\n",
       "  color: var(--sklearn-color-background);\n",
       "  text-decoration: none;\n",
       "}\n",
       "\n",
       "#sk-container-id-2 a.estimator_doc_link.fitted:hover {\n",
       "  /* fitted */\n",
       "  background-color: var(--sklearn-color-fitted-level-3);\n",
       "}\n",
       "</style><div id=\"sk-container-id-2\" class=\"sk-top-container\"><div class=\"sk-text-repr-fallback\"><pre>SklearnModel(d_model=128,\n",
       "             model_path=&#x27;../data/best_model_128n_10_layers_20240209.ckpt&#x27;,\n",
       "             n_layers=10)</pre><b>In a Jupyter environment, please rerun this cell to show the HTML representation or trust the notebook. <br />On GitHub, the HTML representation is unable to render, please try loading this page with nbviewer.org.</b></div><div class=\"sk-container\" hidden><div class=\"sk-item\"><div class=\"sk-estimator  sk-toggleable\"><input class=\"sk-toggleable__control sk-hidden--visually\" id=\"sk-estimator-id-2\" type=\"checkbox\" checked><label for=\"sk-estimator-id-2\" class=\"sk-toggleable__label  sk-toggleable__label-arrow \">&nbsp;SklearnModel<span class=\"sk-estimator-doc-link \">i<span>Not fitted</span></span></label><div class=\"sk-toggleable__content \"><pre>SklearnModel(d_model=128,\n",
       "             model_path=&#x27;../data/best_model_128n_10_layers_20240209.ckpt&#x27;,\n",
       "             n_layers=10)</pre></div> </div></div></div></div>"
      ],
      "text/plain": [
       "SklearnModel(d_model=128,\n",
       "             model_path='../data/best_model_128n_10_layers_20240209.ckpt',\n",
       "             n_layers=10)"
      ]
     },
     "execution_count": 28,
     "metadata": {},
     "output_type": "execute_result"
    }
   ],
   "source": [
    "sklearn_model"
   ]
  },
  {
   "cell_type": "code",
   "execution_count": 192,
   "id": "71efb87d-26c9-4cf5-9e37-f05f20f9d8ae",
   "metadata": {},
   "outputs": [
    {
     "data": {
      "text/plain": [
       "(array([9.380e+02, 2.930e+03, 6.292e+03, 7.192e+03, 5.623e+03, 3.866e+03,\n",
       "        2.192e+03, 1.441e+03, 6.440e+02, 4.120e+02, 2.770e+02, 9.700e+01,\n",
       "        1.730e+02, 9.100e+01, 8.300e+01, 5.000e+01, 5.600e+01, 1.800e+01,\n",
       "        7.000e+00, 2.900e+01, 2.000e+00, 3.700e+01, 7.000e+00, 0.000e+00,\n",
       "        1.000e+00, 1.300e+01, 0.000e+00, 8.000e+00, 0.000e+00, 7.000e+00]),\n",
       " array([  69.0447    ,  122.81154333,  176.57838667,  230.34523   ,\n",
       "         284.11207333,  337.87891667,  391.64576   ,  445.41260333,\n",
       "         499.17944667,  552.94629   ,  606.71313333,  660.47997667,\n",
       "         714.24682   ,  768.01366333,  821.78050667,  875.54735   ,\n",
       "         929.31419333,  983.08103667, 1036.84788   , 1090.61472333,\n",
       "        1144.38156667, 1198.14841   , 1251.91525333, 1305.68209667,\n",
       "        1359.44894   , 1413.21578333, 1466.98262667, 1520.74947   ,\n",
       "        1574.51631333, 1628.28315667, 1682.05      ]),\n",
       " <BarContainer object of 30 artists>)"
      ]
     },
     "execution_count": 192,
     "metadata": {},
     "output_type": "execute_result"
    },
    {
     "data": {
      "image/png": "[encoded data removed]",
      "text/plain": [
       "<Figure size 640x480 with 1 Axes>"
      ]
     },
     "metadata": {},
     "output_type": "display_data"
    }
   ],
   "source": [
    "plt.hist([s.precursor_mz for s in molecule_pairs_test.spectrums], bins=30)"
   ]
  },
  {
   "cell_type": "code",
   "execution_count": 193,
   "id": "186443b7-59d3-4da6-8739-a2c0078bb55c",
   "metadata": {},
   "outputs": [],
   "source": [
    "from rdkit import Chem\n",
    "target_index=100\n",
    "target_spec=molecule_pairs_test.spectrums[target_index]\n",
    "indexes_tani = np.array([[target_index,i,0] for i,m in enumerate(molecule_pairs_test.spectrums) \\\n",
    "                         if (Chem.CanonSmiles(m.smiles)!= Chem.CanonSmiles(target_spec.smiles)) \\\n",
    "                         and ((m.precursor_mz-target_spec.precursor_mz)<200)and ((m.precursor_mz-target_spec.precursor_mz)>1) \\\n",
    "                        ])\n",
    "target_molecule_pair = MolecularPairsSet(spectrums=molecule_pairs_test.spectrums,\n",
    "                                       indexes_tani =indexes_tani)"
   ]
  },
  {
   "cell_type": "code",
   "execution_count": 194,
   "id": "550ff08f-e74a-4a37-9c90-0bc3dd1244b4",
   "metadata": {},
   "outputs": [
    {
     "data": {
      "text/plain": [
       "array([[  100,   126,     0],\n",
       "       [  100,   127,     0],\n",
       "       [  100,   128,     0],\n",
       "       ...,\n",
       "       [  100, 19357,     0],\n",
       "       [  100, 19358,     0],\n",
       "       [  100, 19359,     0]])"
      ]
     },
     "execution_count": 194,
     "metadata": {},
     "output_type": "execute_result"
    }
   ],
   "source": [
    "indexes_tani"
   ]
  },
  {
   "cell_type": "code",
   "execution_count": 172,
   "id": "2fc42b8b-3b16-4e19-abdd-06a3c2dfa263",
   "metadata": {},
   "outputs": [
    {
     "name": "stdout",
     "output_type": "stream",
     "text": [
      "Preprocessing all the data ...\n"
     ]
    },
    {
     "name": "stderr",
     "output_type": "stream",
     "text": [
      "32486it [00:00, 75550.63it/s]\n"
     ]
    },
    {
     "name": "stdout",
     "output_type": "stream",
     "text": [
      "Finished preprocessing \n",
      "Starting the loading of the data ...\n",
      "Normalizing intensities\n",
      "Creating dictionaries\n",
      "Prediction has been called\n"
     ]
    },
    {
     "data": {
      "application/vnd.jupyter.widget-view+json": {
       "model_id": "a37d410e55a84e67b7ce7cfaa074931a",
       "version_major": 2,
       "version_minor": 0
      },
      "text/plain": [
       "Predicting: |                                                                                                 …"
      ]
     },
     "metadata": {},
     "output_type": "display_data"
    }
   ],
   "source": [
    "predicted_similarities =sklearn_model.predict_from_molecule_pair(target_molecule_pair)"
   ]
  },
  {
   "cell_type": "code",
   "execution_count": 173,
   "id": "b6c58c48-fb95-4d2a-af04-8ec0d4106057",
   "metadata": {},
   "outputs": [
    {
     "data": {
      "text/plain": [
       "(array([9.8700e+02, 1.5137e+04, 1.2920e+03, 1.1640e+03, 4.9200e+02,\n",
       "        5.0000e+00, 3.3000e+01, 7.2000e+01, 2.8000e+01, 2.4000e+01]),\n",
       " array([-0.08581099,  0.00873751,  0.103286  ,  0.1978345 ,  0.292383  ,\n",
       "         0.38693149,  0.48147999,  0.57602849,  0.67057698,  0.76512548,\n",
       "         0.85967398]),\n",
       " <BarContainer object of 10 artists>)"
      ]
     },
     "execution_count": 173,
     "metadata": {},
     "output_type": "execute_result"
    },
    {
     "data": {
      "image/png": "[encoded data removed]",
      "text/plain": [
       "<Figure size 640x480 with 1 Axes>"
      ]
     },
     "metadata": {},
     "output_type": "display_data"
    }
   ],
   "source": [
    "plt.hist(predicted_similarities)"
   ]
  },
  {
   "cell_type": "code",
   "execution_count": 174,
   "id": "c08d49e7-43a3-4fad-baa2-4d0d3b59e569",
   "metadata": {},
   "outputs": [],
   "source": [
    "#invalid\n",
    "#predicted_similarities[predicted_similarities>1]=0"
   ]
  },
  {
   "cell_type": "code",
   "execution_count": 175,
   "id": "750882bc-3125-4b1b-8812-8be264e6fb35",
   "metadata": {},
   "outputs": [
    {
     "data": {
      "text/plain": [
       "array([  126,   127,   128, ..., 19357, 19358, 19359])"
      ]
     },
     "execution_count": 175,
     "metadata": {},
     "output_type": "execute_result"
    }
   ],
   "source": [
    "indexes_tani[:,1]"
   ]
  },
  {
   "cell_type": "code",
   "execution_count": 176,
   "id": "d5eb2e35-83df-46c5-a014-2a1e182872e6",
   "metadata": {},
   "outputs": [
    {
     "data": {
      "text/plain": [
       "array([ 0.85967398,  0.85892677,  0.85226977, ..., -0.0748249 ,\n",
       "       -0.08543327, -0.08581099])"
      ]
     },
     "execution_count": 176,
     "metadata": {},
     "output_type": "execute_result"
    }
   ],
   "source": [
    "np.flip(np.sort(predicted_similarities))"
   ]
  },
  {
   "cell_type": "code",
   "execution_count": 180,
   "id": "8c0f774a-63fd-4733-b9ac-4ded49872c5d",
   "metadata": {},
   "outputs": [],
   "source": [
    "best_indexes=np.flip(np.argsort(predicted_similarities))"
   ]
  },
  {
   "cell_type": "code",
   "execution_count": 178,
   "id": "4579a526-bad5-48b0-8ecf-28eb16fd1a1e",
   "metadata": {},
   "outputs": [
    {
     "data": {
      "text/plain": [
       "{'libraryquality': 1,\n",
       " 'charge': [1],\n",
       " 'pepmass': [101.0597],\n",
       " 'ionmode': 'Positive',\n",
       " 'name': ' 3,3-Dimethylacrylic acid\\n M+H',\n",
       " 'inchi': 'N/A',\n",
       " 'smiles': 'CC(=CC(=O)O)C',\n",
       " 'organism': 'nist',\n",
       " 'spectrumid': 'abcd'}"
      ]
     },
     "execution_count": 178,
     "metadata": {},
     "output_type": "execute_result"
    }
   ],
   "source": [
    "target_spec.params"
   ]
  },
  {
   "cell_type": "code",
   "execution_count": 188,
   "id": "ea2413ef-20c0-4ea9-aede-88630ec7ae85",
   "metadata": {},
   "outputs": [
    {
     "data": {
      "text/plain": [
       "{'pepmass': (102.12, None),\n",
       " 'charge': [1],\n",
       " 'mslevel': '2',\n",
       " 'source_instrument': 'ESI-QQQ',\n",
       " 'filename': 'massbank-gnps.mgf',\n",
       " 'seq': '*..*',\n",
       " 'ionmode': 'Positive',\n",
       " 'organism': 'MASSBANK',\n",
       " 'name': 'Massbank:PS008201 Lithum Acetoacetate|3-Keto-n-butyric Acid Lithium Salt|Acetoacetic acid lithium salt|3-oxobutyric acid M+H',\n",
       " 'pi': 'Massbank',\n",
       " 'datacollector': 'Massbank',\n",
       " 'smiles': 'CC(=O)CC(=O)O',\n",
       " 'inchi': '1S/C4H6O3/c1-3(5)2-4(6)7/h2H2,1H3,(H,6,7)',\n",
       " 'inchiaux': 'N/A',\n",
       " 'pubmed': 'N/A',\n",
       " 'submituser': 'mwang87',\n",
       " 'libraryquality': '3',\n",
       " 'spectrumid': 'CCMSLIB00005755869',\n",
       " 'scans': '30318'}"
      ]
     },
     "execution_count": 188,
     "metadata": {},
     "output_type": "execute_result"
    }
   ],
   "source": [
    "molecule_pairs_test.spectrums[indexes_tani[:,1][best_indexes[4]]].params"
   ]
  },
  {
   "cell_type": "code",
   "execution_count": null,
   "id": "20d0ac2c-2e3d-4530-857c-85f13f00fd14",
   "metadata": {},
   "outputs": [],
   "source": []
  },
  {
   "cell_type": "markdown",
   "id": "3f32302f-ee30-493e-b178-06cea4e10661",
   "metadata": {},
   "source": [
    "## Run the inference on the rest of the dataset and find similar molecules"
   ]
  },
  {
   "cell_type": "markdown",
   "id": "abffe404-911f-40a3-a1ec-c0cba69e3bfa",
   "metadata": {},
   "source": [
    "## Run interpretation on 10 spectrums"
   ]
  },
  {
   "cell_type": "code",
   "execution_count": null,
   "id": "d00c844f-0a38-4421-bf8d-1ff08d8fcae1",
   "metadata": {},
   "outputs": [],
   "source": []
  }
 ],
 "metadata": {
  "kernelspec": {
   "display_name": "Python 3 (ipykernel)",
   "language": "python",
   "name": "python3"
  },
  "language_info": {
   "codemirror_mode": {
    "name": "ipython",
    "version": 3
   },
   "file_extension": ".py",
   "mimetype": "text/x-python",
   "name": "python",
   "nbconvert_exporter": "python",
   "pygments_lexer": "ipython3",
   "version": "3.11.7"
  }
 },
 "nbformat": 4,
 "nbformat_minor": 5
}
