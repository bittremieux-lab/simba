{
 "cells": [
  {
   "cell_type": "code",
   "execution_count": 1,
   "id": "d8e7fe9e-f02f-4659-ae80-127d5273c14c",
   "metadata": {},
   "outputs": [],
   "source": [
    "%load_ext autoreload\n",
    "%autoreload 2"
   ]
  },
  {
   "cell_type": "code",
   "execution_count": 2,
   "id": "e28d38a0-96c2-4287-bf50-d09a34042aaf",
   "metadata": {},
   "outputs": [
    {
     "data": {
      "text/plain": [
       "'/Users/sebas/projects/metabolomics/notebooks/ordinal_classification'"
      ]
     },
     "execution_count": 2,
     "metadata": {},
     "output_type": "execute_result"
    }
   ],
   "source": [
    "pwd"
   ]
  },
  {
   "cell_type": "code",
   "execution_count": 3,
   "id": "cf1f1287-543e-44ca-a947-d6d6669e7001",
   "metadata": {},
   "outputs": [],
   "source": [
    "import os \n",
    "os.chdir('/Users/sebas/projects/metabolomics/')\n",
    "# Set the environment variable\n",
    "os.environ['PYTORCH_ENABLE_MPS_FALLBACK'] = '1'"
   ]
  },
  {
   "cell_type": "code",
   "execution_count": 4,
   "id": "e34a94b0-9e6f-4b43-bfa2-1a814c9a28f5",
   "metadata": {},
   "outputs": [],
   "source": [
    "import dill\n",
    "import torch\n",
    "from torch.utils.data import DataLoader\n",
    "import lightning.pytorch as pl\n",
    "\n",
    "from pytorch_lightning.callbacks import ProgressBar\n",
    "from src.train_utils import TrainUtils\n",
    "import matplotlib.pyplot as plt\n",
    "from src.config import Config\n",
    "import numpy as np\n",
    "from torch.utils.data import DataLoader, WeightedRandomSampler\n",
    "import os\n",
    "from src.parser import Parser\n",
    "import random\n",
    "from src.weight_sampling import WeightSampling\n",
    "from src.losscallback import LossCallback\n",
    "from src.molecular_pairs_set import MolecularPairsSet\n",
    "from src.sanity_checks import SanityChecks\n",
    "from src.transformers.postprocessing import Postprocessing\n",
    "from scipy.stats import spearmanr\n",
    "import seaborn as sns\n",
    "from src.ordinal_classification.load_data_ordinal import LoadDataOrdinal\n",
    "from src.ordinal_classification.embedder_ordinal import EmbedderOrdinal\n",
    "from sklearn.metrics import confusion_matrix\n"
   ]
  },
  {
   "cell_type": "code",
   "execution_count": 5,
   "id": "dd287b9b-3c48-4ba7-98d1-7b3b46aa2d05",
   "metadata": {},
   "outputs": [],
   "source": [
    "## Replicate standard regression training DONE\n"
   ]
  },
  {
   "cell_type": "code",
   "execution_count": 6,
   "id": "33b65005-6834-4f22-8d92-cbd5d63ddf6a",
   "metadata": {},
   "outputs": [],
   "source": [
    "## Discretize the range"
   ]
  },
  {
   "cell_type": "code",
   "execution_count": 7,
   "id": "e7b29be6-08fd-4209-a077-af9eeb81f00c",
   "metadata": {},
   "outputs": [],
   "source": [
    "## Train a classification model"
   ]
  },
  {
   "cell_type": "code",
   "execution_count": 8,
   "id": "bc35a80a-38f4-40a6-83be-ff490be91fc5",
   "metadata": {},
   "outputs": [],
   "source": [
    "## Use gumbel softmax function"
   ]
  },
  {
   "cell_type": "code",
   "execution_count": 9,
   "id": "976f57d4-d3de-47a7-b0cc-7ea91d8a2a74",
   "metadata": {},
   "outputs": [],
   "source": [
    "config = Config()"
   ]
  },
  {
   "cell_type": "code",
   "execution_count": 56,
   "id": "10055e0b-a799-4747-bb8d-12365b548efe",
   "metadata": {},
   "outputs": [],
   "source": [
    "config.USE_GUMBEL=False"
   ]
  },
  {
   "cell_type": "code",
   "execution_count": 57,
   "id": "73df279c-f81e-4bd9-852d-6ece63c8ac68",
   "metadata": {},
   "outputs": [],
   "source": [
    "config.N_CLASSES=6"
   ]
  },
  {
   "cell_type": "code",
   "execution_count": 12,
   "id": "ae9b9d97-b663-40f2-be12-493dbfde5a7c",
   "metadata": {},
   "outputs": [],
   "source": [
    "config.D_MODEL=128"
   ]
  },
  {
   "cell_type": "code",
   "execution_count": 13,
   "id": "5da6f2ad-a260-40af-a6eb-fd804da3ea44",
   "metadata": {},
   "outputs": [],
   "source": [
    "config.bins_uniformise_INFERENCE=config.N_CLASSES-1"
   ]
  },
  {
   "cell_type": "code",
   "execution_count": 14,
   "id": "be9ab62e-2374-4458-bb1f-859b0f552358",
   "metadata": {},
   "outputs": [],
   "source": [
    "config.use_uniform_data_INFERENCE = True"
   ]
  },
  {
   "cell_type": "markdown",
   "id": "a7ff7350-d53a-49fb-80a5-5ab4bed29481",
   "metadata": {},
   "source": [
    "## Replicate standard regression training"
   ]
  },
  {
   "cell_type": "code",
   "execution_count": 15,
   "id": "51784d29-c075-4e71-a4c5-195adfe8260a",
   "metadata": {},
   "outputs": [],
   "source": [
    "data_folder= '/Users/sebas/projects/data/'\n",
    "dataset_path= data_folder +'merged_gnps_nist_20240311_unique_smiles_1_million.pkl'"
   ]
  },
  {
   "cell_type": "code",
   "execution_count": 16,
   "id": "8f5c17c1-6890-43dc-a157-dd9275f8c3d8",
   "metadata": {},
   "outputs": [],
   "source": [
    "config.dataset_path=dataset_path\n",
    "config.CHECKPOINT_DIR = data_folder + 'temp_training/'"
   ]
  },
  {
   "cell_type": "code",
   "execution_count": 17,
   "id": "dac9e724-a623-48c2-9744-644d9e42b6eb",
   "metadata": {},
   "outputs": [],
   "source": [
    "# parameters\n",
    "dataset_path = config.dataset_path\n",
    "epochs = config.epochs\n",
    "bins_uniformise_inference = config.bins_uniformise_INFERENCE\n",
    "enable_progress_bar = config.enable_progress_bar\n",
    "fig_path = config.CHECKPOINT_DIR + f\"scatter_plot_{config.MODEL_CODE}.png\"\n",
    "model_code = config.MODEL_CODE"
   ]
  },
  {
   "cell_type": "code",
   "execution_count": 18,
   "id": "45fd05a4-fb95-4cc9-bfef-b255f5eda9cb",
   "metadata": {},
   "outputs": [
    {
     "name": "stdout",
     "output_type": "stream",
     "text": [
      "loading file\n"
     ]
    }
   ],
   "source": [
    "print(\"loading file\")\n",
    "# Load the dataset from the pickle file\n",
    "with open(dataset_path, \"rb\") as file:\n",
    "    dataset = dill.load(file)\n",
    "\n",
    "molecule_pairs_train = dataset[\"molecule_pairs_train\"]\n",
    "molecule_pairs_val = dataset[\"molecule_pairs_val\"]\n",
    "molecule_pairs_test = dataset[\"molecule_pairs_test\"]\n",
    "uniformed_molecule_pairs_test = dataset[\"uniformed_molecule_pairs_test\"]"
   ]
  },
  {
   "cell_type": "code",
   "execution_count": 19,
   "id": "6bca18c0-f970-43cd-8f77-1edcbb48346a",
   "metadata": {},
   "outputs": [
    {
     "name": "stdout",
     "output_type": "stream",
     "text": [
      "Number of pairs for train: 955957\n",
      "Number of pairs for val: 586692\n",
      "Number of pairs for test: 586781\n",
      "Number of pairs for uniform test: 40940\n"
     ]
    }
   ],
   "source": [
    "\n",
    "print(f\"Number of pairs for train: {len(molecule_pairs_train)}\")\n",
    "print(f\"Number of pairs for val: {len(molecule_pairs_val)}\")\n",
    "print(f\"Number of pairs for test: {len(molecule_pairs_test)}\")\n",
    "print(f\"Number of pairs for uniform test: {len(uniformed_molecule_pairs_test)}\")"
   ]
  },
  {
   "cell_type": "code",
   "execution_count": 20,
   "id": "d92249b2-fa13-4bb2-899e-d55f21502b57",
   "metadata": {},
   "outputs": [],
   "source": [
    "## CALCULATION OF WEIGHTS\n",
    "train_binned_list, _ = TrainUtils.divide_data_into_bins(\n",
    "    molecule_pairs_train,\n",
    "    config.N_CLASSES-1,\n",
    "    bin_sim_1=True, \n",
    ")\n",
    "#train_binned_list, _ = TrainUtils.divide_data_into_bins(\n",
    "#    molecule_pairs_train,\n",
    "#    config.N_CLASSES-1,\n",
    "#    bin_sim_1=False, \n",
    "#)\n"
   ]
  },
  {
   "cell_type": "code",
   "execution_count": 21,
   "id": "c459814c-24fc-4714-8a18-0d536e685453",
   "metadata": {},
   "outputs": [
    {
     "data": {
      "text/plain": [
       "[(299985, 3), (166229, 3), (316846, 3), (115705, 3), (25305, 3), (31887, 3)]"
      ]
     },
     "execution_count": 21,
     "metadata": {},
     "output_type": "execute_result"
    }
   ],
   "source": [
    "[t.indexes_tani.shape for t in train_binned_list]"
   ]
  },
  {
   "cell_type": "code",
   "execution_count": 22,
   "id": "1ac6b5b7-d25a-4533-b4dd-abf05336d41d",
   "metadata": {},
   "outputs": [],
   "source": [
    "weights, range_weights = WeightSampling.compute_weights_categories(train_binned_list)\n",
    "#weights, range_weights = WeightSampling.compute_weights(train_binned_list)"
   ]
  },
  {
   "cell_type": "code",
   "execution_count": 23,
   "id": "9bf55e3e-4f73-4b84-b2a8-1424cc0a3b38",
   "metadata": {},
   "outputs": [
    {
     "data": {
      "text/plain": [
       "array([0.03622318, 0.06537013, 0.03429556, 0.0939148 , 0.42941758,\n",
       "       0.34077874])"
      ]
     },
     "execution_count": 23,
     "metadata": {},
     "output_type": "execute_result"
    }
   ],
   "source": [
    "weights"
   ]
  },
  {
   "cell_type": "code",
   "execution_count": 24,
   "id": "dedcee97-15f3-41a5-9e6b-1809dd38062d",
   "metadata": {},
   "outputs": [
    {
     "data": {
      "text/plain": [
       "array([0. , 0.2, 0.4, 0.6, 0.8, 1. ])"
      ]
     },
     "execution_count": 24,
     "metadata": {},
     "output_type": "execute_result"
    }
   ],
   "source": [
    "range_weights"
   ]
  },
  {
   "cell_type": "code",
   "execution_count": 25,
   "id": "23881892-4143-421d-91f7-e7514dd1c407",
   "metadata": {},
   "outputs": [],
   "source": [
    "weights_tr = WeightSampling.compute_sample_weights_categories(molecule_pairs_train, weights)\n",
    "weights_val = WeightSampling.compute_sample_weights_categories(molecule_pairs_val, weights)\n",
    "#weights_tr = WeightSampling.compute_sample_weights(molecule_pairs_train, weights)\n",
    "#weights_val = WeightSampling.compute_sample_weights(molecule_pairs_val, weights)"
   ]
  },
  {
   "cell_type": "code",
   "execution_count": 26,
   "id": "f48b876e-ff52-49bc-828c-8c4621645fe2",
   "metadata": {},
   "outputs": [
    {
     "name": "stdout",
     "output_type": "stream",
     "text": [
      "Preprocessing all the data ...\n"
     ]
    },
    {
     "name": "stderr",
     "output_type": "stream",
     "text": [
      "261349it [00:07, 37027.25it/s]\n"
     ]
    },
    {
     "name": "stdout",
     "output_type": "stream",
     "text": [
      "Finished preprocessing \n",
      "loading data\n",
      "Normalizing intensities\n",
      "Creating dictionaries\n",
      "Preprocessing all the data ...\n"
     ]
    },
    {
     "name": "stderr",
     "output_type": "stream",
     "text": [
      "31318it [00:00, 46228.01it/s]\n"
     ]
    },
    {
     "name": "stdout",
     "output_type": "stream",
     "text": [
      "Finished preprocessing \n",
      "loading data\n",
      "Normalizing intensities\n",
      "Creating dictionaries\n"
     ]
    }
   ],
   "source": [
    "dataset_train = LoadDataOrdinal.from_molecule_pairs_to_dataset(molecule_pairs_train, training=True)\n",
    "# dataset_test = LoadData.from_molecule_pairs_to_dataset(m_test)\n",
    "dataset_val = LoadDataOrdinal.from_molecule_pairs_to_dataset(molecule_pairs_val)"
   ]
  },
  {
   "cell_type": "code",
   "execution_count": 27,
   "id": "ebafb216-c191-4848-9560-8bad7979f4ab",
   "metadata": {},
   "outputs": [],
   "source": [
    "# delete variables that are not useful for memory savings\n",
    "del molecule_pairs_train\n",
    "del molecule_pairs_val\n",
    "del molecule_pairs_test\n",
    "del uniformed_molecule_pairs_test"
   ]
  },
  {
   "cell_type": "code",
   "execution_count": 28,
   "id": "7c68ebb4-c16e-47dd-8958-d9fd57ee3b62",
   "metadata": {},
   "outputs": [],
   "source": [
    "class CustomWeightedRandomSampler(WeightedRandomSampler):\n",
    "    \"\"\"WeightedRandomSampler except allows for more than 2^24 samples to be sampled\"\"\"\n",
    "\n",
    "    def __init__(self, *args, **kwargs):\n",
    "        super().__init__(*args, **kwargs)\n",
    "\n",
    "    def __iter__(self):\n",
    "        rand_tensor = np.random.choice(\n",
    "            range(0, len(self.weights)),\n",
    "            size=self.num_samples,\n",
    "            p=self.weights.numpy() / torch.sum(self.weights).numpy(),\n",
    "            replace=self.replacement,\n",
    "        )\n",
    "        rand_tensor = torch.from_numpy(rand_tensor)\n",
    "        return iter(rand_tensor.tolist())\n",
    "\n",
    "\n",
    "train_sampler = CustomWeightedRandomSampler(\n",
    "    weights=weights_tr, num_samples=len(dataset_train), replacement=True\n",
    ")\n",
    "val_sampler = CustomWeightedRandomSampler(\n",
    "    weights=weights_val, num_samples=len(dataset_val), replacement=True\n",
    ")"
   ]
  },
  {
   "cell_type": "code",
   "execution_count": 29,
   "id": "d880fcb2-18e8-4e78-b621-2e03decb8b31",
   "metadata": {},
   "outputs": [
    {
     "name": "stdout",
     "output_type": "stream",
     "text": [
      "Creating train data loader\n"
     ]
    }
   ],
   "source": [
    "print(\"Creating train data loader\")\n",
    "dataloader_train = DataLoader(\n",
    "    dataset_train, batch_size=config.BATCH_SIZE, sampler=train_sampler, num_workers=10\n",
    ")"
   ]
  },
  {
   "cell_type": "code",
   "execution_count": 30,
   "id": "d11f89ec-2c40-4084-a7f5-68cf41a12bca",
   "metadata": {},
   "outputs": [
    {
     "name": "stdout",
     "output_type": "stream",
     "text": [
      "Creating val data loader\n"
     ]
    }
   ],
   "source": [
    "def worker_init_fn(\n",
    "    worker_id,\n",
    "):  # ensure the dataloader for validation is the same for every epoch\n",
    "    seed = 42\n",
    "    torch.manual_seed(seed)\n",
    "    # Set the same seed for reproducibility in NumPy and Python's random module\n",
    "    np.random.seed(seed)\n",
    "    random.seed(seed)\n",
    "\n",
    "\n",
    "print(\"Creating val data loader\")\n",
    "dataloader_val = DataLoader(\n",
    "    dataset_val,\n",
    "    batch_size=config.BATCH_SIZE,\n",
    "    sampler=val_sampler,\n",
    "    worker_init_fn=worker_init_fn,\n",
    "    num_workers=0,\n",
    ")\n"
   ]
  },
  {
   "cell_type": "code",
   "execution_count": 63,
   "id": "05c29323-4664-43de-9dca-c1bae2f40d28",
   "metadata": {},
   "outputs": [
    {
     "name": "stdout",
     "output_type": "stream",
     "text": [
      "define model\n"
     ]
    }
   ],
   "source": [
    "# Define the ModelCheckpoint callback\n",
    "checkpoint_callback = pl.callbacks.ModelCheckpoint(\n",
    "    dirpath=config.CHECKPOINT_DIR,\n",
    "    filename=\"best_model\",\n",
    "    monitor=\"validation_loss_epoch\",\n",
    "    mode=\"min\",\n",
    "    save_top_k=1,\n",
    ")\n",
    "\n",
    "checkpoint_n_steps_callback = pl.callbacks.ModelCheckpoint(\n",
    "    dirpath=config.CHECKPOINT_DIR,\n",
    "    filename=\"best_model_n_steps\",\n",
    "    every_n_train_steps=100,\n",
    "    save_last=True,\n",
    "    save_top_k=1,\n",
    ")\n",
    "\n",
    "\n",
    "# checkpoint_callback = SaveBestModelCallback(file_path=config.best_model_path)\n",
    "progress_bar_callback = ProgressBar()\n",
    "\n",
    "# loss callback\n",
    "losscallback = LossCallback(file_path=config.CHECKPOINT_DIR + f\"loss.png\")\n",
    "print(\"define model\")\n"
   ]
  },
  {
   "cell_type": "code",
   "execution_count": 64,
   "id": "f6b6c99e-dc36-40b7-abad-e291ab7ad351",
   "metadata": {},
   "outputs": [
    {
     "data": {
      "text/plain": [
       "False"
      ]
     },
     "execution_count": 64,
     "metadata": {},
     "output_type": "execute_result"
    }
   ],
   "source": [
    "config.USE_GUMBEL"
   ]
  },
  {
   "cell_type": "code",
   "execution_count": 65,
   "id": "89ddc30d-eacd-4672-bbac-336a42cc9799",
   "metadata": {},
   "outputs": [
    {
     "name": "stdout",
     "output_type": "stream",
     "text": [
      "Using cosine library from Pytorch?: True\n"
     ]
    }
   ],
   "source": [
    "model = EmbedderOrdinal(\n",
    "    d_model=int(config.D_MODEL),\n",
    "    n_layers=int(config.N_LAYERS),\n",
    "    n_classes=config.N_CLASSES,\n",
    "    weights=None,\n",
    "    lr=config.LR,\n",
    "    use_cosine_distance=config.use_cosine_distance,\n",
    "    use_gumbel = config.USE_GUMBEL,\n",
    ")"
   ]
  },
  {
   "cell_type": "code",
   "execution_count": 66,
   "id": "cbc82451-ae9a-4005-8269-153002f9ebbc",
   "metadata": {},
   "outputs": [
    {
     "name": "stderr",
     "output_type": "stream",
     "text": [
      "GPU available: True (mps), used: True\n",
      "TPU available: False, using: 0 TPU cores\n",
      "IPU available: False, using: 0 IPUs\n",
      "HPU available: False, using: 0 HPUs\n",
      "\n",
      "   | Name                    | Type                             | Params\n",
      "------------------------------------------------------------------------------\n",
      "0  | linear                  | Linear                           | 16.5 K\n",
      "1  | linear_regression       | Linear                           | 129   \n",
      "2  | fixed_linear_regression | FixedLinearRegression            | 129   \n",
      "3  | relu                    | ReLU                             | 0     \n",
      "4  | spectrum_encoder        | SpectrumTransformerEncoderCustom | 1.7 M \n",
      "5  | regression_loss         | MSELoss                          | 0     \n",
      "6  | dropout                 | Dropout                          | 0     \n",
      "7  | linear_cosine           | Linear                           | 16.5 K\n",
      "8  | cosine_similarity       | CosineSimilarity                 | 0     \n",
      "9  | classifier              | Linear                           | 774   \n",
      "10 | loss_fn                 | CrossEntropyLoss                 | 0     \n",
      "------------------------------------------------------------------------------\n",
      "1.7 M     Trainable params\n",
      "129       Non-trainable params\n",
      "1.7 M     Total params\n",
      "6.864     Total estimated model params size (MB)\n"
     ]
    },
    {
     "data": {
      "application/vnd.jupyter.widget-view+json": {
       "model_id": "",
       "version_major": 2,
       "version_minor": 0
      },
      "text/plain": [
       "Sanity Checking: |                                                                                            …"
      ]
     },
     "metadata": {},
     "output_type": "display_data"
    },
    {
     "name": "stdout",
     "output_type": "stream",
     "text": [
      "Train loss:\n",
      "[]\n",
      "Validation loss\n",
      "[4.304452419281006]\n"
     ]
    },
    {
     "data": {
      "application/vnd.jupyter.widget-view+json": {
       "model_id": "af6e0d984eed4b7fb019bfb68ccbce13",
       "version_major": 2,
       "version_minor": 0
      },
      "text/plain": [
       "Training: |                                                                                                   …"
      ]
     },
     "metadata": {},
     "output_type": "display_data"
    },
    {
     "name": "stderr",
     "output_type": "stream",
     "text": [
      "`Trainer.fit` stopped: `max_steps=100` reached.\n",
      "Exception ignored in: <function _MultiProcessingDataLoaderIter.__del__ at 0x1167d0860>\n",
      "Traceback (most recent call last):\n",
      "  File \"/Users/sebas/miniconda3/envs/transformers/lib/python3.11/site-packages/torch/utils/data/dataloader.py\", line 1479, in __del__\n",
      "    self._shutdown_workers()\n",
      "  File \"/Users/sebas/miniconda3/envs/transformers/lib/python3.11/site-packages/torch/utils/data/dataloader.py\", line 1443, in _shutdown_workers\n",
      "    w.join(timeout=_utils.MP_STATUS_CHECK_INTERVAL)\n",
      "  File \"/Users/sebas/miniconda3/envs/transformers/lib/python3.11/multiprocessing/process.py\", line 149, in join\n",
      "    res = self._popen.wait(timeout)\n",
      "          ^^^^^^^^^^^^^^^^^^^^^^^^^\n",
      "  File \"/Users/sebas/miniconda3/envs/transformers/lib/python3.11/multiprocessing/popen_fork.py\", line 40, in wait\n",
      "    if not wait([self.sentinel], timeout):\n",
      "           ^^^^^^^^^^^^^^^^^^^^^^^^^^^^^^\n",
      "  File \"/Users/sebas/miniconda3/envs/transformers/lib/python3.11/multiprocessing/connection.py\", line 947, in wait\n",
      "    ready = selector.select(timeout)\n",
      "            ^^^^^^^^^^^^^^^^^^^^^^^^\n",
      "  File \"/Users/sebas/miniconda3/envs/transformers/lib/python3.11/selectors.py\", line 415, in select\n",
      "    fd_event_list = self._selector.poll(timeout)\n",
      "                    ^^^^^^^^^^^^^^^^^^^^^^^^^^^^\n",
      "KeyboardInterrupt: \n"
     ]
    },
    {
     "name": "stdout",
     "output_type": "stream",
     "text": [
      "Error in callback <function flush_figures at 0x2e15c28e0> (for post_execute), with arguments args (),kwargs {}:\n"
     ]
    },
    {
     "ename": "KeyboardInterrupt",
     "evalue": "",
     "output_type": "error",
     "traceback": [
      "\u001b[0;31m---------------------------------------------------------------------------\u001b[0m",
      "\u001b[0;31mAttributeError\u001b[0m                            Traceback (most recent call last)",
      "File \u001b[0;32m~/miniconda3/envs/transformers/lib/python3.11/site-packages/PIL/ImageFile.py:536\u001b[0m, in \u001b[0;36m_save\u001b[0;34m(im, fp, tile, bufsize)\u001b[0m\n\u001b[1;32m    535\u001b[0m \u001b[38;5;28;01mtry\u001b[39;00m:\n\u001b[0;32m--> 536\u001b[0m     fh \u001b[38;5;241m=\u001b[39m fp\u001b[38;5;241m.\u001b[39mfileno()\n\u001b[1;32m    537\u001b[0m     fp\u001b[38;5;241m.\u001b[39mflush()\n",
      "\u001b[0;31mAttributeError\u001b[0m: '_idat' object has no attribute 'fileno'",
      "\nDuring handling of the above exception, another exception occurred:\n",
      "\u001b[0;31mKeyboardInterrupt\u001b[0m                         Traceback (most recent call last)",
      "File \u001b[0;32m~/miniconda3/envs/transformers/lib/python3.11/site-packages/matplotlib_inline/backend_inline.py:126\u001b[0m, in \u001b[0;36mflush_figures\u001b[0;34m()\u001b[0m\n\u001b[1;32m    123\u001b[0m \u001b[38;5;28;01mif\u001b[39;00m InlineBackend\u001b[38;5;241m.\u001b[39minstance()\u001b[38;5;241m.\u001b[39mclose_figures:\n\u001b[1;32m    124\u001b[0m     \u001b[38;5;66;03m# ignore the tracking, just draw and close all figures\u001b[39;00m\n\u001b[1;32m    125\u001b[0m     \u001b[38;5;28;01mtry\u001b[39;00m:\n\u001b[0;32m--> 126\u001b[0m         \u001b[38;5;28;01mreturn\u001b[39;00m show(\u001b[38;5;28;01mTrue\u001b[39;00m)\n\u001b[1;32m    127\u001b[0m     \u001b[38;5;28;01mexcept\u001b[39;00m \u001b[38;5;167;01mException\u001b[39;00m \u001b[38;5;28;01mas\u001b[39;00m e:\n\u001b[1;32m    128\u001b[0m         \u001b[38;5;66;03m# safely show traceback if in IPython, else raise\u001b[39;00m\n\u001b[1;32m    129\u001b[0m         ip \u001b[38;5;241m=\u001b[39m get_ipython()\n",
      "File \u001b[0;32m~/miniconda3/envs/transformers/lib/python3.11/site-packages/matplotlib_inline/backend_inline.py:90\u001b[0m, in \u001b[0;36mshow\u001b[0;34m(close, block)\u001b[0m\n\u001b[1;32m     88\u001b[0m \u001b[38;5;28;01mtry\u001b[39;00m:\n\u001b[1;32m     89\u001b[0m     \u001b[38;5;28;01mfor\u001b[39;00m figure_manager \u001b[38;5;129;01min\u001b[39;00m Gcf\u001b[38;5;241m.\u001b[39mget_all_fig_managers():\n\u001b[0;32m---> 90\u001b[0m         display(\n\u001b[1;32m     91\u001b[0m             figure_manager\u001b[38;5;241m.\u001b[39mcanvas\u001b[38;5;241m.\u001b[39mfigure,\n\u001b[1;32m     92\u001b[0m             metadata\u001b[38;5;241m=\u001b[39m_fetch_figure_metadata(figure_manager\u001b[38;5;241m.\u001b[39mcanvas\u001b[38;5;241m.\u001b[39mfigure)\n\u001b[1;32m     93\u001b[0m         )\n\u001b[1;32m     94\u001b[0m \u001b[38;5;28;01mfinally\u001b[39;00m:\n\u001b[1;32m     95\u001b[0m     show\u001b[38;5;241m.\u001b[39m_to_draw \u001b[38;5;241m=\u001b[39m []\n",
      "File \u001b[0;32m~/miniconda3/envs/transformers/lib/python3.11/site-packages/IPython/core/display_functions.py:298\u001b[0m, in \u001b[0;36mdisplay\u001b[0;34m(include, exclude, metadata, transient, display_id, raw, clear, *objs, **kwargs)\u001b[0m\n\u001b[1;32m    296\u001b[0m     publish_display_data(data\u001b[38;5;241m=\u001b[39mobj, metadata\u001b[38;5;241m=\u001b[39mmetadata, \u001b[38;5;241m*\u001b[39m\u001b[38;5;241m*\u001b[39mkwargs)\n\u001b[1;32m    297\u001b[0m \u001b[38;5;28;01melse\u001b[39;00m:\n\u001b[0;32m--> 298\u001b[0m     format_dict, md_dict \u001b[38;5;241m=\u001b[39m \u001b[38;5;28mformat\u001b[39m(obj, include\u001b[38;5;241m=\u001b[39minclude, exclude\u001b[38;5;241m=\u001b[39mexclude)\n\u001b[1;32m    299\u001b[0m     \u001b[38;5;28;01mif\u001b[39;00m \u001b[38;5;129;01mnot\u001b[39;00m format_dict:\n\u001b[1;32m    300\u001b[0m         \u001b[38;5;66;03m# nothing to display (e.g. _ipython_display_ took over)\u001b[39;00m\n\u001b[1;32m    301\u001b[0m         \u001b[38;5;28;01mcontinue\u001b[39;00m\n",
      "File \u001b[0;32m~/miniconda3/envs/transformers/lib/python3.11/site-packages/IPython/core/formatters.py:179\u001b[0m, in \u001b[0;36mDisplayFormatter.format\u001b[0;34m(self, obj, include, exclude)\u001b[0m\n\u001b[1;32m    177\u001b[0m md \u001b[38;5;241m=\u001b[39m \u001b[38;5;28;01mNone\u001b[39;00m\n\u001b[1;32m    178\u001b[0m \u001b[38;5;28;01mtry\u001b[39;00m:\n\u001b[0;32m--> 179\u001b[0m     data \u001b[38;5;241m=\u001b[39m formatter(obj)\n\u001b[1;32m    180\u001b[0m \u001b[38;5;28;01mexcept\u001b[39;00m:\n\u001b[1;32m    181\u001b[0m     \u001b[38;5;66;03m# FIXME: log the exception\u001b[39;00m\n\u001b[1;32m    182\u001b[0m     \u001b[38;5;28;01mraise\u001b[39;00m\n",
      "File \u001b[0;32m~/miniconda3/envs/transformers/lib/python3.11/site-packages/decorator.py:232\u001b[0m, in \u001b[0;36mdecorate.<locals>.fun\u001b[0;34m(*args, **kw)\u001b[0m\n\u001b[1;32m    230\u001b[0m \u001b[38;5;28;01mif\u001b[39;00m \u001b[38;5;129;01mnot\u001b[39;00m kwsyntax:\n\u001b[1;32m    231\u001b[0m     args, kw \u001b[38;5;241m=\u001b[39m fix(args, kw, sig)\n\u001b[0;32m--> 232\u001b[0m \u001b[38;5;28;01mreturn\u001b[39;00m caller(func, \u001b[38;5;241m*\u001b[39m(extras \u001b[38;5;241m+\u001b[39m args), \u001b[38;5;241m*\u001b[39m\u001b[38;5;241m*\u001b[39mkw)\n",
      "File \u001b[0;32m~/miniconda3/envs/transformers/lib/python3.11/site-packages/IPython/core/formatters.py:223\u001b[0m, in \u001b[0;36mcatch_format_error\u001b[0;34m(method, self, *args, **kwargs)\u001b[0m\n\u001b[1;32m    221\u001b[0m \u001b[38;5;250m\u001b[39m\u001b[38;5;124;03m\"\"\"show traceback on failed format call\"\"\"\u001b[39;00m\n\u001b[1;32m    222\u001b[0m \u001b[38;5;28;01mtry\u001b[39;00m:\n\u001b[0;32m--> 223\u001b[0m     r \u001b[38;5;241m=\u001b[39m method(\u001b[38;5;28mself\u001b[39m, \u001b[38;5;241m*\u001b[39margs, \u001b[38;5;241m*\u001b[39m\u001b[38;5;241m*\u001b[39mkwargs)\n\u001b[1;32m    224\u001b[0m \u001b[38;5;28;01mexcept\u001b[39;00m \u001b[38;5;167;01mNotImplementedError\u001b[39;00m:\n\u001b[1;32m    225\u001b[0m     \u001b[38;5;66;03m# don't warn on NotImplementedErrors\u001b[39;00m\n\u001b[1;32m    226\u001b[0m     \u001b[38;5;28;01mreturn\u001b[39;00m \u001b[38;5;28mself\u001b[39m\u001b[38;5;241m.\u001b[39m_check_return(\u001b[38;5;28;01mNone\u001b[39;00m, args[\u001b[38;5;241m0\u001b[39m])\n",
      "File \u001b[0;32m~/miniconda3/envs/transformers/lib/python3.11/site-packages/IPython/core/formatters.py:340\u001b[0m, in \u001b[0;36mBaseFormatter.__call__\u001b[0;34m(self, obj)\u001b[0m\n\u001b[1;32m    338\u001b[0m     \u001b[38;5;28;01mpass\u001b[39;00m\n\u001b[1;32m    339\u001b[0m \u001b[38;5;28;01melse\u001b[39;00m:\n\u001b[0;32m--> 340\u001b[0m     \u001b[38;5;28;01mreturn\u001b[39;00m printer(obj)\n\u001b[1;32m    341\u001b[0m \u001b[38;5;66;03m# Finally look for special method names\u001b[39;00m\n\u001b[1;32m    342\u001b[0m method \u001b[38;5;241m=\u001b[39m get_real_method(obj, \u001b[38;5;28mself\u001b[39m\u001b[38;5;241m.\u001b[39mprint_method)\n",
      "File \u001b[0;32m~/miniconda3/envs/transformers/lib/python3.11/site-packages/IPython/core/pylabtools.py:152\u001b[0m, in \u001b[0;36mprint_figure\u001b[0;34m(fig, fmt, bbox_inches, base64, **kwargs)\u001b[0m\n\u001b[1;32m    149\u001b[0m     \u001b[38;5;28;01mfrom\u001b[39;00m \u001b[38;5;21;01mmatplotlib\u001b[39;00m\u001b[38;5;21;01m.\u001b[39;00m\u001b[38;5;21;01mbackend_bases\u001b[39;00m \u001b[38;5;28;01mimport\u001b[39;00m FigureCanvasBase\n\u001b[1;32m    150\u001b[0m     FigureCanvasBase(fig)\n\u001b[0;32m--> 152\u001b[0m fig\u001b[38;5;241m.\u001b[39mcanvas\u001b[38;5;241m.\u001b[39mprint_figure(bytes_io, \u001b[38;5;241m*\u001b[39m\u001b[38;5;241m*\u001b[39mkw)\n\u001b[1;32m    153\u001b[0m data \u001b[38;5;241m=\u001b[39m bytes_io\u001b[38;5;241m.\u001b[39mgetvalue()\n\u001b[1;32m    154\u001b[0m \u001b[38;5;28;01mif\u001b[39;00m fmt \u001b[38;5;241m==\u001b[39m \u001b[38;5;124m'\u001b[39m\u001b[38;5;124msvg\u001b[39m\u001b[38;5;124m'\u001b[39m:\n",
      "File \u001b[0;32m~/miniconda3/envs/transformers/lib/python3.11/site-packages/matplotlib/backend_bases.py:2193\u001b[0m, in \u001b[0;36mFigureCanvasBase.print_figure\u001b[0;34m(self, filename, dpi, facecolor, edgecolor, orientation, format, bbox_inches, pad_inches, bbox_extra_artists, backend, **kwargs)\u001b[0m\n\u001b[1;32m   2189\u001b[0m \u001b[38;5;28;01mtry\u001b[39;00m:\n\u001b[1;32m   2190\u001b[0m     \u001b[38;5;66;03m# _get_renderer may change the figure dpi (as vector formats\u001b[39;00m\n\u001b[1;32m   2191\u001b[0m     \u001b[38;5;66;03m# force the figure dpi to 72), so we need to set it again here.\u001b[39;00m\n\u001b[1;32m   2192\u001b[0m     \u001b[38;5;28;01mwith\u001b[39;00m cbook\u001b[38;5;241m.\u001b[39m_setattr_cm(\u001b[38;5;28mself\u001b[39m\u001b[38;5;241m.\u001b[39mfigure, dpi\u001b[38;5;241m=\u001b[39mdpi):\n\u001b[0;32m-> 2193\u001b[0m         result \u001b[38;5;241m=\u001b[39m print_method(\n\u001b[1;32m   2194\u001b[0m             filename,\n\u001b[1;32m   2195\u001b[0m             facecolor\u001b[38;5;241m=\u001b[39mfacecolor,\n\u001b[1;32m   2196\u001b[0m             edgecolor\u001b[38;5;241m=\u001b[39medgecolor,\n\u001b[1;32m   2197\u001b[0m             orientation\u001b[38;5;241m=\u001b[39morientation,\n\u001b[1;32m   2198\u001b[0m             bbox_inches_restore\u001b[38;5;241m=\u001b[39m_bbox_inches_restore,\n\u001b[1;32m   2199\u001b[0m             \u001b[38;5;241m*\u001b[39m\u001b[38;5;241m*\u001b[39mkwargs)\n\u001b[1;32m   2200\u001b[0m \u001b[38;5;28;01mfinally\u001b[39;00m:\n\u001b[1;32m   2201\u001b[0m     \u001b[38;5;28;01mif\u001b[39;00m bbox_inches \u001b[38;5;129;01mand\u001b[39;00m restore_bbox:\n",
      "File \u001b[0;32m~/miniconda3/envs/transformers/lib/python3.11/site-packages/matplotlib/backend_bases.py:2043\u001b[0m, in \u001b[0;36mFigureCanvasBase._switch_canvas_and_return_print_method.<locals>.<lambda>\u001b[0;34m(*args, **kwargs)\u001b[0m\n\u001b[1;32m   2039\u001b[0m     optional_kws \u001b[38;5;241m=\u001b[39m {  \u001b[38;5;66;03m# Passed by print_figure for other renderers.\u001b[39;00m\n\u001b[1;32m   2040\u001b[0m         \u001b[38;5;124m\"\u001b[39m\u001b[38;5;124mdpi\u001b[39m\u001b[38;5;124m\"\u001b[39m, \u001b[38;5;124m\"\u001b[39m\u001b[38;5;124mfacecolor\u001b[39m\u001b[38;5;124m\"\u001b[39m, \u001b[38;5;124m\"\u001b[39m\u001b[38;5;124medgecolor\u001b[39m\u001b[38;5;124m\"\u001b[39m, \u001b[38;5;124m\"\u001b[39m\u001b[38;5;124morientation\u001b[39m\u001b[38;5;124m\"\u001b[39m,\n\u001b[1;32m   2041\u001b[0m         \u001b[38;5;124m\"\u001b[39m\u001b[38;5;124mbbox_inches_restore\u001b[39m\u001b[38;5;124m\"\u001b[39m}\n\u001b[1;32m   2042\u001b[0m     skip \u001b[38;5;241m=\u001b[39m optional_kws \u001b[38;5;241m-\u001b[39m {\u001b[38;5;241m*\u001b[39minspect\u001b[38;5;241m.\u001b[39msignature(meth)\u001b[38;5;241m.\u001b[39mparameters}\n\u001b[0;32m-> 2043\u001b[0m     print_method \u001b[38;5;241m=\u001b[39m functools\u001b[38;5;241m.\u001b[39mwraps(meth)(\u001b[38;5;28;01mlambda\u001b[39;00m \u001b[38;5;241m*\u001b[39margs, \u001b[38;5;241m*\u001b[39m\u001b[38;5;241m*\u001b[39mkwargs: meth(\n\u001b[1;32m   2044\u001b[0m         \u001b[38;5;241m*\u001b[39margs, \u001b[38;5;241m*\u001b[39m\u001b[38;5;241m*\u001b[39m{k: v \u001b[38;5;28;01mfor\u001b[39;00m k, v \u001b[38;5;129;01min\u001b[39;00m kwargs\u001b[38;5;241m.\u001b[39mitems() \u001b[38;5;28;01mif\u001b[39;00m k \u001b[38;5;129;01mnot\u001b[39;00m \u001b[38;5;129;01min\u001b[39;00m skip}))\n\u001b[1;32m   2045\u001b[0m \u001b[38;5;28;01melse\u001b[39;00m:  \u001b[38;5;66;03m# Let third-parties do as they see fit.\u001b[39;00m\n\u001b[1;32m   2046\u001b[0m     print_method \u001b[38;5;241m=\u001b[39m meth\n",
      "File \u001b[0;32m~/miniconda3/envs/transformers/lib/python3.11/site-packages/matplotlib/backends/backend_agg.py:497\u001b[0m, in \u001b[0;36mFigureCanvasAgg.print_png\u001b[0;34m(self, filename_or_obj, metadata, pil_kwargs)\u001b[0m\n\u001b[1;32m    450\u001b[0m \u001b[38;5;28;01mdef\u001b[39;00m \u001b[38;5;21mprint_png\u001b[39m(\u001b[38;5;28mself\u001b[39m, filename_or_obj, \u001b[38;5;241m*\u001b[39m, metadata\u001b[38;5;241m=\u001b[39m\u001b[38;5;28;01mNone\u001b[39;00m, pil_kwargs\u001b[38;5;241m=\u001b[39m\u001b[38;5;28;01mNone\u001b[39;00m):\n\u001b[1;32m    451\u001b[0m \u001b[38;5;250m    \u001b[39m\u001b[38;5;124;03m\"\"\"\u001b[39;00m\n\u001b[1;32m    452\u001b[0m \u001b[38;5;124;03m    Write the figure to a PNG file.\u001b[39;00m\n\u001b[1;32m    453\u001b[0m \n\u001b[0;32m   (...)\u001b[0m\n\u001b[1;32m    495\u001b[0m \u001b[38;5;124;03m        *metadata*, including the default 'Software' key.\u001b[39;00m\n\u001b[1;32m    496\u001b[0m \u001b[38;5;124;03m    \"\"\"\u001b[39;00m\n\u001b[0;32m--> 497\u001b[0m     \u001b[38;5;28mself\u001b[39m\u001b[38;5;241m.\u001b[39m_print_pil(filename_or_obj, \u001b[38;5;124m\"\u001b[39m\u001b[38;5;124mpng\u001b[39m\u001b[38;5;124m\"\u001b[39m, pil_kwargs, metadata)\n",
      "File \u001b[0;32m~/miniconda3/envs/transformers/lib/python3.11/site-packages/matplotlib/backends/backend_agg.py:446\u001b[0m, in \u001b[0;36mFigureCanvasAgg._print_pil\u001b[0;34m(self, filename_or_obj, fmt, pil_kwargs, metadata)\u001b[0m\n\u001b[1;32m    441\u001b[0m \u001b[38;5;250m\u001b[39m\u001b[38;5;124;03m\"\"\"\u001b[39;00m\n\u001b[1;32m    442\u001b[0m \u001b[38;5;124;03mDraw the canvas, then save it using `.image.imsave` (to which\u001b[39;00m\n\u001b[1;32m    443\u001b[0m \u001b[38;5;124;03m*pil_kwargs* and *metadata* are forwarded).\u001b[39;00m\n\u001b[1;32m    444\u001b[0m \u001b[38;5;124;03m\"\"\"\u001b[39;00m\n\u001b[1;32m    445\u001b[0m FigureCanvasAgg\u001b[38;5;241m.\u001b[39mdraw(\u001b[38;5;28mself\u001b[39m)\n\u001b[0;32m--> 446\u001b[0m mpl\u001b[38;5;241m.\u001b[39mimage\u001b[38;5;241m.\u001b[39mimsave(\n\u001b[1;32m    447\u001b[0m     filename_or_obj, \u001b[38;5;28mself\u001b[39m\u001b[38;5;241m.\u001b[39mbuffer_rgba(), \u001b[38;5;28mformat\u001b[39m\u001b[38;5;241m=\u001b[39mfmt, origin\u001b[38;5;241m=\u001b[39m\u001b[38;5;124m\"\u001b[39m\u001b[38;5;124mupper\u001b[39m\u001b[38;5;124m\"\u001b[39m,\n\u001b[1;32m    448\u001b[0m     dpi\u001b[38;5;241m=\u001b[39m\u001b[38;5;28mself\u001b[39m\u001b[38;5;241m.\u001b[39mfigure\u001b[38;5;241m.\u001b[39mdpi, metadata\u001b[38;5;241m=\u001b[39mmetadata, pil_kwargs\u001b[38;5;241m=\u001b[39mpil_kwargs)\n",
      "File \u001b[0;32m~/miniconda3/envs/transformers/lib/python3.11/site-packages/matplotlib/image.py:1656\u001b[0m, in \u001b[0;36mimsave\u001b[0;34m(fname, arr, vmin, vmax, cmap, format, origin, dpi, metadata, pil_kwargs)\u001b[0m\n\u001b[1;32m   1654\u001b[0m pil_kwargs\u001b[38;5;241m.\u001b[39msetdefault(\u001b[38;5;124m\"\u001b[39m\u001b[38;5;124mformat\u001b[39m\u001b[38;5;124m\"\u001b[39m, \u001b[38;5;28mformat\u001b[39m)\n\u001b[1;32m   1655\u001b[0m pil_kwargs\u001b[38;5;241m.\u001b[39msetdefault(\u001b[38;5;124m\"\u001b[39m\u001b[38;5;124mdpi\u001b[39m\u001b[38;5;124m\"\u001b[39m, (dpi, dpi))\n\u001b[0;32m-> 1656\u001b[0m image\u001b[38;5;241m.\u001b[39msave(fname, \u001b[38;5;241m*\u001b[39m\u001b[38;5;241m*\u001b[39mpil_kwargs)\n",
      "File \u001b[0;32m~/miniconda3/envs/transformers/lib/python3.11/site-packages/PIL/Image.py:2439\u001b[0m, in \u001b[0;36mImage.save\u001b[0;34m(self, fp, format, **params)\u001b[0m\n\u001b[1;32m   2436\u001b[0m         fp \u001b[38;5;241m=\u001b[39m builtins\u001b[38;5;241m.\u001b[39mopen(filename, \u001b[38;5;124m\"\u001b[39m\u001b[38;5;124mw+b\u001b[39m\u001b[38;5;124m\"\u001b[39m)\n\u001b[1;32m   2438\u001b[0m \u001b[38;5;28;01mtry\u001b[39;00m:\n\u001b[0;32m-> 2439\u001b[0m     save_handler(\u001b[38;5;28mself\u001b[39m, fp, filename)\n\u001b[1;32m   2440\u001b[0m \u001b[38;5;28;01mexcept\u001b[39;00m \u001b[38;5;167;01mException\u001b[39;00m:\n\u001b[1;32m   2441\u001b[0m     \u001b[38;5;28;01mif\u001b[39;00m open_fp:\n",
      "File \u001b[0;32m~/miniconda3/envs/transformers/lib/python3.11/site-packages/PIL/PngImagePlugin.py:1402\u001b[0m, in \u001b[0;36m_save\u001b[0;34m(im, fp, filename, chunk, save_all)\u001b[0m\n\u001b[1;32m   1398\u001b[0m     im \u001b[38;5;241m=\u001b[39m _write_multiple_frames(\n\u001b[1;32m   1399\u001b[0m         im, fp, chunk, rawmode, default_image, append_images\n\u001b[1;32m   1400\u001b[0m     )\n\u001b[1;32m   1401\u001b[0m \u001b[38;5;28;01mif\u001b[39;00m im:\n\u001b[0;32m-> 1402\u001b[0m     ImageFile\u001b[38;5;241m.\u001b[39m_save(im, _idat(fp, chunk), [(\u001b[38;5;124m\"\u001b[39m\u001b[38;5;124mzip\u001b[39m\u001b[38;5;124m\"\u001b[39m, (\u001b[38;5;241m0\u001b[39m, \u001b[38;5;241m0\u001b[39m) \u001b[38;5;241m+\u001b[39m im\u001b[38;5;241m.\u001b[39msize, \u001b[38;5;241m0\u001b[39m, rawmode)])\n\u001b[1;32m   1404\u001b[0m \u001b[38;5;28;01mif\u001b[39;00m info:\n\u001b[1;32m   1405\u001b[0m     \u001b[38;5;28;01mfor\u001b[39;00m info_chunk \u001b[38;5;129;01min\u001b[39;00m info\u001b[38;5;241m.\u001b[39mchunks:\n",
      "File \u001b[0;32m~/miniconda3/envs/transformers/lib/python3.11/site-packages/PIL/ImageFile.py:540\u001b[0m, in \u001b[0;36m_save\u001b[0;34m(im, fp, tile, bufsize)\u001b[0m\n\u001b[1;32m    538\u001b[0m     _encode_tile(im, fp, tile, bufsize, fh)\n\u001b[1;32m    539\u001b[0m \u001b[38;5;28;01mexcept\u001b[39;00m (\u001b[38;5;167;01mAttributeError\u001b[39;00m, io\u001b[38;5;241m.\u001b[39mUnsupportedOperation) \u001b[38;5;28;01mas\u001b[39;00m exc:\n\u001b[0;32m--> 540\u001b[0m     _encode_tile(im, fp, tile, bufsize, \u001b[38;5;28;01mNone\u001b[39;00m, exc)\n\u001b[1;32m    541\u001b[0m \u001b[38;5;28;01mif\u001b[39;00m \u001b[38;5;28mhasattr\u001b[39m(fp, \u001b[38;5;124m\"\u001b[39m\u001b[38;5;124mflush\u001b[39m\u001b[38;5;124m\"\u001b[39m):\n\u001b[1;32m    542\u001b[0m     fp\u001b[38;5;241m.\u001b[39mflush()\n",
      "File \u001b[0;32m~/miniconda3/envs/transformers/lib/python3.11/site-packages/PIL/ImageFile.py:559\u001b[0m, in \u001b[0;36m_encode_tile\u001b[0;34m(im, fp, tile, bufsize, fh, exc)\u001b[0m\n\u001b[1;32m    556\u001b[0m \u001b[38;5;28;01mif\u001b[39;00m exc:\n\u001b[1;32m    557\u001b[0m     \u001b[38;5;66;03m# compress to Python file-compatible object\u001b[39;00m\n\u001b[1;32m    558\u001b[0m     \u001b[38;5;28;01mwhile\u001b[39;00m \u001b[38;5;28;01mTrue\u001b[39;00m:\n\u001b[0;32m--> 559\u001b[0m         errcode, data \u001b[38;5;241m=\u001b[39m encoder\u001b[38;5;241m.\u001b[39mencode(bufsize)[\u001b[38;5;241m1\u001b[39m:]\n\u001b[1;32m    560\u001b[0m         fp\u001b[38;5;241m.\u001b[39mwrite(data)\n\u001b[1;32m    561\u001b[0m         \u001b[38;5;28;01mif\u001b[39;00m errcode:\n",
      "\u001b[0;31mKeyboardInterrupt\u001b[0m: "
     ]
    }
   ],
   "source": [
    "trainer = pl.Trainer(\n",
    "    max_steps=100,\n",
    "    #max_epochs=1,\n",
    "    callbacks=[checkpoint_callback, checkpoint_n_steps_callback, losscallback],\n",
    "    enable_progress_bar=enable_progress_bar,\n",
    "    # val_check_interval= config.validate_after_ratio,\n",
    ")\n",
    "# trainer = pl.Trainer(max_steps=100,  callbacks=[checkpoint_callback, losscallback], enable_progress_bar=enable_progress_bar)\n",
    "trainer.fit(\n",
    "    model=model,\n",
    "    train_dataloaders=(dataloader_train),\n",
    "    val_dataloaders=dataloader_val,\n",
    ")"
   ]
  },
  {
   "cell_type": "markdown",
   "id": "4697fd13-b60f-47e0-b12d-d401f5a7c82a",
   "metadata": {},
   "source": [
    "## Inference"
   ]
  },
  {
   "cell_type": "code",
   "execution_count": 67,
   "id": "630c93ea-c557-4b3d-9466-fbfb649622d6",
   "metadata": {},
   "outputs": [],
   "source": [
    "#best_model_path = model_path = data_folder + 'best_model_exhaustive_sampled_128n_20240618.ckpt'\n",
    "#best_model_path = config.CHECKPOINT_DIR + f\"best_model_n_steps-v9.ckpt\"\n",
    "best_model_path = config.CHECKPOINT_DIR + f\"last.ckpt\""
   ]
  },
  {
   "cell_type": "code",
   "execution_count": 68,
   "id": "ff35bf92-f0fe-425f-989f-efd52f2917fc",
   "metadata": {},
   "outputs": [
    {
     "name": "stdout",
     "output_type": "stream",
     "text": [
      "Number of molecule pairs: 586781\n",
      "Uniformize the data\n"
     ]
    }
   ],
   "source": [
    "molecule_pairs_test = dataset[\"molecule_pairs_test\"]\n",
    "print(f\"Number of molecule pairs: {len(molecule_pairs_test)}\")\n",
    "print(\"Uniformize the data\")\n",
    "uniformed_molecule_pairs_test, _ = TrainUtils.uniformise(\n",
    "    molecule_pairs_test,\n",
    "    number_bins=bins_uniformise_inference,\n",
    "    return_binned_list=True,\n",
    "    bin_sim_1=True,\n",
    "    #bin_sim_1=False,\n",
    ")  # do not treat sim==1 as another bin"
   ]
  },
  {
   "cell_type": "code",
   "execution_count": 69,
   "id": "3ce7a4d3-f77f-477a-8568-d57f58a52d23",
   "metadata": {},
   "outputs": [
    {
     "name": "stdout",
     "output_type": "stream",
     "text": [
      "Preprocessing all the data ...\n"
     ]
    },
    {
     "name": "stderr",
     "output_type": "stream",
     "text": [
      "33719it [00:00, 46413.38it/s]\n"
     ]
    },
    {
     "name": "stdout",
     "output_type": "stream",
     "text": [
      "Finished preprocessing \n",
      "loading data\n",
      "Normalizing intensities\n",
      "Creating dictionaries\n"
     ]
    }
   ],
   "source": [
    "# dataset_train = LoadData.from_molecule_pairs_to_dataset(m_train)\n",
    "dataset_test = LoadDataOrdinal.from_molecule_pairs_to_dataset(uniformed_molecule_pairs_test)\n",
    "dataloader_test = DataLoader(dataset_test, batch_size=config.BATCH_SIZE, shuffle=False)"
   ]
  },
  {
   "cell_type": "code",
   "execution_count": 70,
   "id": "ef21da6a-e798-4221-895c-706c8194ec4e",
   "metadata": {},
   "outputs": [
    {
     "name": "stderr",
     "output_type": "stream",
     "text": [
      "GPU available: True (mps), used: True\n",
      "TPU available: False, using: 0 TPU cores\n",
      "IPU available: False, using: 0 IPUs\n",
      "HPU available: False, using: 0 HPUs\n"
     ]
    },
    {
     "name": "stdout",
     "output_type": "stream",
     "text": [
      "Using cosine library from Pytorch?: True\n"
     ]
    }
   ],
   "source": [
    "# Testinbest_model = Embedder.load_from_checkpoint(checkpoint_callback.best_model_path, d_model=64, n_layers=2)\n",
    "trainer = pl.Trainer(max_epochs=2, enable_progress_bar=enable_progress_bar)\n",
    "best_model = EmbedderOrdinal.load_from_checkpoint(\n",
    "    best_model_path,\n",
    "    d_model=int(config.D_MODEL),\n",
    "    n_layers=int(config.N_LAYERS),\n",
    "    n_classes=config.N_CLASSES,\n",
    "    use_gumbel=config.USE_GUMBEL,\n",
    "    use_element_wise=True,\n",
    "    use_cosine_distance=config.use_cosine_distance,\n",
    "    \n",
    ")"
   ]
  },
  {
   "cell_type": "markdown",
   "id": "418943e0-6698-4c7f-8502-615c7178e9a9",
   "metadata": {},
   "source": [
    "## Postprocessing"
   ]
  },
  {
   "cell_type": "code",
   "execution_count": 71,
   "id": "6e76a267-27e5-40cf-aacd-aa7a810a53c0",
   "metadata": {},
   "outputs": [
    {
     "name": "stderr",
     "output_type": "stream",
     "text": [
      "/Users/sebas/miniconda3/envs/transformers/lib/python3.11/site-packages/lightning/pytorch/trainer/connectors/data_connector.py:441: The 'predict_dataloader' does not have many workers which may be a bottleneck. Consider increasing the value of the `num_workers` argument` to `num_workers=10` in the `DataLoader` to improve performance.\n"
     ]
    },
    {
     "data": {
      "application/vnd.jupyter.widget-view+json": {
       "model_id": "baece15ac8f2413fb1267617171614e2",
       "version_major": 2,
       "version_minor": 0
      },
      "text/plain": [
       "Predicting: |                                                                                                 …"
      ]
     },
     "metadata": {},
     "output_type": "display_data"
    }
   ],
   "source": [
    "pred_test = trainer.predict(\n",
    "    best_model,\n",
    "    dataloader_test,\n",
    ")\n",
    "similarities_test = Postprocessing.get_similarities(dataloader_test)\n"
   ]
  },
  {
   "cell_type": "code",
   "execution_count": null,
   "id": "f3832f11-aa18-493d-81b0-d385ed942380",
   "metadata": {},
   "outputs": [],
   "source": []
  },
  {
   "cell_type": "code",
   "execution_count": 72,
   "id": "ed193cae-6b56-4192-b4f8-75a7959341ec",
   "metadata": {},
   "outputs": [
    {
     "name": "stdout",
     "output_type": "stream",
     "text": [
      "tensor([1., 0., 0., 0., 0., 0.])\n",
      "0.0\n"
     ]
    }
   ],
   "source": [
    "index=10\n",
    "print(pred_test[0][index])\n",
    "print(similarities_test[index])"
   ]
  },
  {
   "cell_type": "code",
   "execution_count": 73,
   "id": "29686961-fd1c-4499-994d-cba9455bf744",
   "metadata": {},
   "outputs": [
    {
     "data": {
      "text/plain": [
       "tensor([1., 0., 0., 0., 0., 0.])"
      ]
     },
     "execution_count": 73,
     "metadata": {},
     "output_type": "execute_result"
    }
   ],
   "source": [
    "pred_test[0][6]"
   ]
  },
  {
   "cell_type": "code",
   "execution_count": 74,
   "id": "a806fe48-48af-4a63-8d02-33dffaf24951",
   "metadata": {},
   "outputs": [
    {
     "data": {
      "text/plain": [
       "tensor([1])"
      ]
     },
     "execution_count": 74,
     "metadata": {},
     "output_type": "execute_result"
    }
   ],
   "source": [
    "np.argwhere(pred_test[0][0]>0.1)[0]"
   ]
  },
  {
   "cell_type": "code",
   "execution_count": 75,
   "id": "93bf3f14-bce8-4f56-aefb-6e863d088c4e",
   "metadata": {},
   "outputs": [
    {
     "data": {
      "text/plain": [
       "1"
      ]
     },
     "execution_count": 75,
     "metadata": {},
     "output_type": "execute_result"
    }
   ],
   "source": [
    "np.argwhere(pred_test[0][0]>0.9)[0].numel()"
   ]
  },
  {
   "cell_type": "code",
   "execution_count": 76,
   "id": "3efbd59f-b16a-4afe-94b2-fe6b5bd538d3",
   "metadata": {},
   "outputs": [],
   "source": [
    "def which_index(p, threshold=0.999):\n",
    "    result= np.argwhere(p>threshold)[0]\n",
    "     #\n",
    "    if result.numel()==0:\n",
    "        #return np.argmax(p)\n",
    "        return np.nan\n",
    "    else:\n",
    "        return result[-1]\n",
    "    #return np.argmax(p)"
   ]
  },
  {
   "cell_type": "code",
   "execution_count": 77,
   "id": "38027803-5bf6-429e-8af7-6b57d0a16ea4",
   "metadata": {},
   "outputs": [],
   "source": [
    "# flat the results\n",
    "flat_pred_test = []\n",
    "for pred in pred_test:\n",
    "    flat_pred_test = flat_pred_test + [which_index(p) for p in pred]\n",
    "flat_pred_test=np.array( flat_pred_test)"
   ]
  },
  {
   "cell_type": "code",
   "execution_count": 78,
   "id": "6d41876a-8d30-4410-ab8f-f6793d94de2b",
   "metadata": {},
   "outputs": [],
   "source": [
    "#list(pred_test)"
   ]
  },
  {
   "cell_type": "code",
   "execution_count": 79,
   "id": "9833ec32-3fa5-4b1c-99db-bb9c1af4b816",
   "metadata": {},
   "outputs": [
    {
     "data": {
      "text/plain": [
       "1"
      ]
     },
     "execution_count": 79,
     "metadata": {},
     "output_type": "execute_result"
    }
   ],
   "source": [
    "flat_pred_test[0]"
   ]
  },
  {
   "cell_type": "markdown",
   "id": "c6d7f960-61ab-4f66-b368-9d2e03183146",
   "metadata": {},
   "source": [
    "## Corr. Analysis"
   ]
  },
  {
   "cell_type": "code",
   "execution_count": 80,
   "id": "2a8f21cf-d6f5-486e-b288-687bfef31255",
   "metadata": {},
   "outputs": [],
   "source": [
    "similarities_test=np.array(similarities_test)\n",
    "flat_pred_test=np.array(flat_pred_test)"
   ]
  },
  {
   "cell_type": "code",
   "execution_count": 81,
   "id": "1844d700-0a97-499a-bb00-505088ab2ac0",
   "metadata": {},
   "outputs": [
    {
     "data": {
      "text/plain": [
       "16002"
      ]
     },
     "execution_count": 81,
     "metadata": {},
     "output_type": "execute_result"
    }
   ],
   "source": [
    "len(similarities_test)"
   ]
  },
  {
   "cell_type": "code",
   "execution_count": 82,
   "id": "29db856e-e838-4e2e-9bf1-b80da6ddd99e",
   "metadata": {},
   "outputs": [],
   "source": [
    "similarities_test_cleaned= similarities_test[~np.isnan(flat_pred_test)]\n",
    "flat_pred_test_cleaned= flat_pred_test[~np.isnan(flat_pred_test)]"
   ]
  },
  {
   "cell_type": "code",
   "execution_count": 83,
   "id": "fbc80724-d43d-4be4-97c3-aa30af919314",
   "metadata": {},
   "outputs": [
    {
     "data": {
      "text/plain": [
       "16002"
      ]
     },
     "execution_count": 83,
     "metadata": {},
     "output_type": "execute_result"
    }
   ],
   "source": [
    "len(similarities_test_cleaned)"
   ]
  },
  {
   "cell_type": "code",
   "execution_count": 84,
   "id": "3adb6895-6dd9-456d-ae94-e2cc661ea771",
   "metadata": {},
   "outputs": [],
   "source": [
    "\n",
    "corr_model, p_value_model= spearmanr(similarities_test_cleaned, flat_pred_test_cleaned)\n"
   ]
  },
  {
   "cell_type": "code",
   "execution_count": 85,
   "id": "df664992-309d-463a-af4c-fcb3d4df88fb",
   "metadata": {},
   "outputs": [
    {
     "data": {
      "text/plain": [
       "-0.007908620025526085"
      ]
     },
     "execution_count": 85,
     "metadata": {},
     "output_type": "execute_result"
    }
   ],
   "source": [
    "corr_model"
   ]
  },
  {
   "cell_type": "code",
   "execution_count": 86,
   "id": "8e2ffb6c-3c55-4e39-a965-036cafc89193",
   "metadata": {},
   "outputs": [
    {
     "data": {
      "image/png": "[encoded data removed]",
      "text/plain": [
       "<Figure size 1000x700 with 2 Axes>"
      ]
     },
     "metadata": {},
     "output_type": "display_data"
    }
   ],
   "source": [
    "# Compute the confusion matrix\n",
    "cm = confusion_matrix(similarities_test_cleaned, flat_pred_test_cleaned)\n",
    "# Normalize the confusion matrix by the number of true instances for each class\n",
    "cm_normalized = cm.astype('float') / cm.sum()\n",
    "# Plot the confusion matrix with percentages\n",
    "plt.figure(figsize=(10, 7))\n",
    "sns.heatmap(cm_normalized, annot=True, fmt='.2%', cmap='Blues')\n",
    "plt.xlabel('Predicted Labels')\n",
    "plt.ylabel('True Labels')\n",
    "plt.title('Confusion Matrix (Normalized to Percentages)')\n",
    "plt.show()"
   ]
  },
  {
   "cell_type": "code",
   "execution_count": 87,
   "id": "8bd400d0-7b6f-4630-95ce-58073a4ae18a",
   "metadata": {},
   "outputs": [
    {
     "data": {
      "text/plain": [
       "<matplotlib.collections.PathCollection at 0x30508ac50>"
      ]
     },
     "execution_count": 87,
     "metadata": {},
     "output_type": "execute_result"
    },
    {
     "data": {
      "image/png": "[encoded data removed]",
      "text/plain": [
       "<Figure size 640x480 with 1 Axes>"
      ]
     },
     "metadata": {},
     "output_type": "display_data"
    }
   ],
   "source": [
    "plt.scatter(similarities_test, flat_pred_test, alpha=0.01)"
   ]
  },
  {
   "cell_type": "markdown",
   "id": "00e12565-7d45-4b78-97b7-a856aa842859",
   "metadata": {},
   "source": [
    "##### "
   ]
  },
  {
   "cell_type": "code",
   "execution_count": null,
   "id": "caeb4537-1c62-40dd-9969-edafff25b341",
   "metadata": {},
   "outputs": [],
   "source": []
  },
  {
   "cell_type": "code",
   "execution_count": null,
   "id": "27092420-b7bb-4895-9a47-0a878cd2ff15",
   "metadata": {},
   "outputs": [],
   "source": []
  }
 ],
 "metadata": {
  "kernelspec": {
   "display_name": "Python 3 (ipykernel)",
   "language": "python",
   "name": "python3"
  },
  "language_info": {
   "codemirror_mode": {
    "name": "ipython",
    "version": 3
   },
   "file_extension": ".py",
   "mimetype": "text/x-python",
   "name": "python",
   "nbconvert_exporter": "python",
   "pygments_lexer": "ipython3",
   "version": "3.11.7"
  }
 },
 "nbformat": 4,
 "nbformat_minor": 5
}
