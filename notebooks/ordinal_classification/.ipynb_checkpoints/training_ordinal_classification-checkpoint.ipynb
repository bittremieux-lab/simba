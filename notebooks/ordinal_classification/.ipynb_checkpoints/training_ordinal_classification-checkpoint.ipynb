{
 "cells": [
  {
   "cell_type": "raw",
   "id": "25c28b7e-5a3c-41d0-a67d-b940d11db49a",
   "metadata": {},
   "source": [
    "%load_ext autoreload\n",
    "%autoreload 2"
   ]
  },
  {
   "cell_type": "code",
   "execution_count": 163,
   "id": "e28d38a0-96c2-4287-bf50-d09a34042aaf",
   "metadata": {},
   "outputs": [
    {
     "data": {
      "text/plain": [
       "'/Users/sebas/projects/metabolomics'"
      ]
     },
     "execution_count": 163,
     "metadata": {},
     "output_type": "execute_result"
    }
   ],
   "source": [
    "pwd"
   ]
  },
  {
   "cell_type": "code",
   "execution_count": 164,
   "id": "cf1f1287-543e-44ca-a947-d6d6669e7001",
   "metadata": {},
   "outputs": [],
   "source": [
    "import os \n",
    "os.chdir('/Users/sebas/projects/metabolomics/')\n",
    "# Set the environment variable\n",
    "os.environ['PYTORCH_ENABLE_MPS_FALLBACK'] = '1'"
   ]
  },
  {
   "cell_type": "code",
   "execution_count": 165,
   "id": "e34a94b0-9e6f-4b43-bfa2-1a814c9a28f5",
   "metadata": {},
   "outputs": [],
   "source": [
    "import dill\n",
    "import torch\n",
    "from torch.utils.data import DataLoader\n",
    "import lightning.pytorch as pl\n",
    "\n",
    "from pytorch_lightning.callbacks import ProgressBar\n",
    "from src.train_utils import TrainUtils\n",
    "import matplotlib.pyplot as plt\n",
    "from src.config import Config\n",
    "import numpy as np\n",
    "from torch.utils.data import DataLoader, WeightedRandomSampler\n",
    "import os\n",
    "from src.parser import Parser\n",
    "import random\n",
    "from src.weight_sampling import WeightSampling\n",
    "from src.losscallback import LossCallback\n",
    "from src.molecular_pairs_set import MolecularPairsSet\n",
    "from src.sanity_checks import SanityChecks\n",
    "from src.transformers.postprocessing import Postprocessing\n",
    "from scipy.stats import spearmanr\n",
    "import seaborn as sns\n",
    "from src.ordinal_classification.load_data_ordinal import LoadDataOrdinal\n",
    "from src.ordinal_classification.embedder_ordinal import EmbedderOrdinal\n",
    "from sklearn.metrics import confusion_matrix\n"
   ]
  },
  {
   "cell_type": "code",
   "execution_count": 166,
   "id": "dd287b9b-3c48-4ba7-98d1-7b3b46aa2d05",
   "metadata": {},
   "outputs": [],
   "source": [
    "## Replicate standard regression training DONE\n"
   ]
  },
  {
   "cell_type": "code",
   "execution_count": 167,
   "id": "33b65005-6834-4f22-8d92-cbd5d63ddf6a",
   "metadata": {},
   "outputs": [],
   "source": [
    "## Discretize the range"
   ]
  },
  {
   "cell_type": "code",
   "execution_count": 168,
   "id": "e7b29be6-08fd-4209-a077-af9eeb81f00c",
   "metadata": {},
   "outputs": [],
   "source": [
    "## Train a classification model"
   ]
  },
  {
   "cell_type": "code",
   "execution_count": 169,
   "id": "bc35a80a-38f4-40a6-83be-ff490be91fc5",
   "metadata": {},
   "outputs": [],
   "source": [
    "## Use gumbel softmax function"
   ]
  },
  {
   "cell_type": "code",
   "execution_count": 170,
   "id": "976f57d4-d3de-47a7-b0cc-7ea91d8a2a74",
   "metadata": {},
   "outputs": [],
   "source": [
    "config = Config()"
   ]
  },
  {
   "cell_type": "code",
   "execution_count": 171,
   "id": "10055e0b-a799-4747-bb8d-12365b548efe",
   "metadata": {},
   "outputs": [],
   "source": [
    "config.USE_GUMBEL=False"
   ]
  },
  {
   "cell_type": "code",
   "execution_count": 172,
   "id": "73df279c-f81e-4bd9-852d-6ece63c8ac68",
   "metadata": {},
   "outputs": [],
   "source": [
    "config.N_CLASSES=6"
   ]
  },
  {
   "cell_type": "code",
   "execution_count": 173,
   "id": "ae9b9d97-b663-40f2-be12-493dbfde5a7c",
   "metadata": {},
   "outputs": [],
   "source": [
    "config.D_MODEL=128"
   ]
  },
  {
   "cell_type": "code",
   "execution_count": 174,
   "id": "5da6f2ad-a260-40af-a6eb-fd804da3ea44",
   "metadata": {},
   "outputs": [],
   "source": [
    "config.bins_uniformise_INFERENCE=config.N_CLASSES-1"
   ]
  },
  {
   "cell_type": "code",
   "execution_count": 175,
   "id": "be9ab62e-2374-4458-bb1f-859b0f552358",
   "metadata": {},
   "outputs": [],
   "source": [
    "config.use_uniform_data_INFERENCE = True"
   ]
  },
  {
   "cell_type": "markdown",
   "id": "a7ff7350-d53a-49fb-80a5-5ab4bed29481",
   "metadata": {},
   "source": [
    "## Replicate standard regression training"
   ]
  },
  {
   "cell_type": "code",
   "execution_count": 176,
   "id": "51784d29-c075-4e71-a4c5-195adfe8260a",
   "metadata": {},
   "outputs": [],
   "source": [
    "data_folder= '/Users/sebas/projects/data/'\n",
    "#dataset_path= data_folder +'merged_gnps_nist_20240311_unique_smiles_1_million.pkl'\n",
    "dataset_path= data_folder +'mces_neurips_nist.pkl'"
   ]
  },
  {
   "cell_type": "code",
   "execution_count": 177,
   "id": "8f5c17c1-6890-43dc-a157-dd9275f8c3d8",
   "metadata": {},
   "outputs": [],
   "source": [
    "config.dataset_path=dataset_path\n",
    "config.CHECKPOINT_DIR = data_folder + 'temp_training/'"
   ]
  },
  {
   "cell_type": "code",
   "execution_count": 178,
   "id": "dac9e724-a623-48c2-9744-644d9e42b6eb",
   "metadata": {},
   "outputs": [],
   "source": [
    "# parameters\n",
    "dataset_path = config.dataset_path\n",
    "epochs = config.epochs\n",
    "bins_uniformise_inference = config.bins_uniformise_INFERENCE\n",
    "enable_progress_bar = config.enable_progress_bar\n",
    "fig_path = config.CHECKPOINT_DIR + f\"scatter_plot_{config.MODEL_CODE}.png\"\n",
    "model_code = config.MODEL_CODE"
   ]
  },
  {
   "cell_type": "code",
   "execution_count": 179,
   "id": "45fd05a4-fb95-4cc9-bfef-b255f5eda9cb",
   "metadata": {},
   "outputs": [
    {
     "name": "stdout",
     "output_type": "stream",
     "text": [
      "loading file\n"
     ]
    }
   ],
   "source": [
    "print(\"loading file\")\n",
    "# Load the dataset from the pickle file\n",
    "with open(dataset_path, \"rb\") as file:\n",
    "    dataset = dill.load(file)\n",
    "\n",
    "molecule_pairs_train = dataset[\"molecule_pairs_train\"]\n",
    "molecule_pairs_val = dataset[\"molecule_pairs_val\"]\n",
    "molecule_pairs_test = dataset[\"molecule_pairs_test\"]\n",
    "uniformed_molecule_pairs_test = dataset[\"uniformed_molecule_pairs_test\"]"
   ]
  },
  {
   "cell_type": "code",
   "execution_count": 180,
   "id": "6bca18c0-f970-43cd-8f77-1edcbb48346a",
   "metadata": {},
   "outputs": [
    {
     "name": "stdout",
     "output_type": "stream",
     "text": [
      "Number of pairs for train: 96266229\n",
      "Number of pairs for val: 7810406\n",
      "Number of pairs for test: 7860684\n",
      "Number of pairs for uniform test: 0\n"
     ]
    }
   ],
   "source": [
    "\n",
    "print(f\"Number of pairs for train: {len(molecule_pairs_train)}\")\n",
    "print(f\"Number of pairs for val: {len(molecule_pairs_val)}\")\n",
    "print(f\"Number of pairs for test: {len(molecule_pairs_test)}\")\n",
    "print(f\"Number of pairs for uniform test: {len(uniformed_molecule_pairs_test)}\")"
   ]
  },
  {
   "cell_type": "code",
   "execution_count": 181,
   "id": "d92249b2-fa13-4bb2-899e-d55f21502b57",
   "metadata": {},
   "outputs": [],
   "source": [
    "## CALCULATION OF WEIGHTS\n",
    "train_binned_list, _ = TrainUtils.divide_data_into_bins_categories(\n",
    "    molecule_pairs_train,\n",
    "    config.N_CLASSES-1,\n",
    "        bin_sim_1=True, \n",
    ")\n",
    "#train_binned_list, _ = TrainUtils.divide_data_into_bins(\n",
    "#    molecule_pairs_train,\n",
    "#    config.N_CLASSES-1,\n",
    "#    bin_sim_1=False, \n",
    "#)\n"
   ]
  },
  {
   "cell_type": "code",
   "execution_count": 239,
   "id": "db0bc690-4e78-40d0-94d9-3179be163b2e",
   "metadata": {},
   "outputs": [
    {
     "data": {
      "text/plain": [
       "(17664, 3)"
      ]
     },
     "execution_count": 239,
     "metadata": {},
     "output_type": "execute_result"
    }
   ],
   "source": [
    "train_binned_list[1].indexes_tani.shape"
   ]
  },
  {
   "cell_type": "code",
   "execution_count": 244,
   "id": "d0aa6d28-9137-4e2b-bea5-cf25ffe8bbde",
   "metadata": {},
   "outputs": [
    {
     "data": {
      "image/png": "[encoded data removed]",
      "text/plain": [
       "<Figure size 640x480 with 1 Axes>"
      ]
     },
     "metadata": {},
     "output_type": "display_data"
    }
   ],
   "source": [
    "import matplotlib.pyplot as plt\n",
    "\n",
    "# Quantities to be plotted\n",
    "#quantities= np.array([3825134783,309747, 196334, 134549, 96169, 113660])/2\n",
    "quantities= np.array([3825134783,309747, 196334, 134549, 96169, 113660])/2\n",
    "labels = ['>5','4','3','2','1','0']\n",
    "\n",
    "# Create a bar plot\n",
    "plt.bar(labels, quantities)\n",
    "\n",
    "# Add titles and labels\n",
    "plt.xlabel('MCES distance')\n",
    "plt.ylabel('Freq')\n",
    "plt.yscale('log')\n",
    "plt.title('Bar Plot of Given Quantities')\n",
    "plt.grid()\n",
    "\n",
    "# Show the plot\n",
    "plt.show()"
   ]
  },
  {
   "cell_type": "code",
   "execution_count": 240,
   "id": "2ee1c9ec-d846-469d-ab9c-c9d92e45645c",
   "metadata": {},
   "outputs": [
    {
     "data": {
      "text/plain": [
       "(array([5.4800e+02, 0.0000e+00, 1.7116e+04, 0.0000e+00, 1.6000e+02,\n",
       "        0.0000e+00, 8.9850e+03, 0.0000e+00, 4.7000e+01, 0.0000e+00,\n",
       "        0.0000e+00, 4.7750e+03, 0.0000e+00, 1.0000e+00, 0.0000e+00,\n",
       "        1.9170e+03, 0.0000e+00, 2.0000e+00, 0.0000e+00, 3.6509e+04]),\n",
       " array([0.1  , 0.145, 0.19 , 0.235, 0.28 , 0.325, 0.37 , 0.415, 0.46 ,\n",
       "        0.505, 0.55 , 0.595, 0.64 , 0.685, 0.73 , 0.775, 0.82 , 0.865,\n",
       "        0.91 , 0.955, 1.   ]),\n",
       " <BarContainer object of 20 artists>)"
      ]
     },
     "execution_count": 240,
     "metadata": {},
     "output_type": "execute_result"
    },
    {
     "data": {
      "image/png": "[encoded data removed]",
      "text/plain": [
       "<Figure size 640x480 with 1 Axes>"
      ]
     },
     "metadata": {},
     "output_type": "display_data"
    }
   ],
   "source": [
    "plt.hist(molecule_pairs_train.indexes_tani[molecule_pairs_train.indexes_tani[:,2]>0][:,2], bins=20)"
   ]
  },
  {
   "cell_type": "code",
   "execution_count": 184,
   "id": "c459814c-24fc-4714-8a18-0d536e685453",
   "metadata": {},
   "outputs": [
    {
     "data": {
      "text/plain": [
       "[(96196169, 3), (17664, 3), (9145, 3), (4822, 3), (1918, 3), (36511, 3)]"
      ]
     },
     "execution_count": 184,
     "metadata": {},
     "output_type": "execute_result"
    }
   ],
   "source": [
    "[t.indexes_tani.shape for t in train_binned_list]"
   ]
  },
  {
   "cell_type": "code",
   "execution_count": 185,
   "id": "1ac6b5b7-d25a-4533-b4dd-abf05336d41d",
   "metadata": {},
   "outputs": [],
   "source": [
    "weights, range_weights = WeightSampling.compute_weights_categories(train_binned_list)\n",
    "#weights, range_weights = WeightSampling.compute_weights(train_binned_list)"
   ]
  },
  {
   "cell_type": "code",
   "execution_count": 186,
   "id": "9bf55e3e-4f73-4b84-b2a8-1424cc0a3b38",
   "metadata": {},
   "outputs": [
    {
     "data": {
      "text/plain": [
       "array([1.12733922e-05, 6.13936333e-02, 1.18584706e-01, 2.24897789e-01,\n",
       "       5.65410395e-01, 2.97022031e-02])"
      ]
     },
     "execution_count": 186,
     "metadata": {},
     "output_type": "execute_result"
    }
   ],
   "source": [
    "weights"
   ]
  },
  {
   "cell_type": "code",
   "execution_count": 187,
   "id": "dedcee97-15f3-41a5-9e6b-1809dd38062d",
   "metadata": {},
   "outputs": [
    {
     "data": {
      "text/plain": [
       "array([0. , 0.2, 0.4, 0.6, 0.8, 1. ])"
      ]
     },
     "execution_count": 187,
     "metadata": {},
     "output_type": "execute_result"
    }
   ],
   "source": [
    "range_weights"
   ]
  },
  {
   "cell_type": "code",
   "execution_count": 188,
   "id": "23881892-4143-421d-91f7-e7514dd1c407",
   "metadata": {},
   "outputs": [],
   "source": [
    "weights_tr = WeightSampling.compute_sample_weights_categories(molecule_pairs_train, weights)\n",
    "weights_val = WeightSampling.compute_sample_weights_categories(molecule_pairs_val, weights)\n",
    "#weights_tr = WeightSampling.compute_sample_weights(molecule_pairs_train, weights)\n",
    "#weights_val = WeightSampling.compute_sample_weights(molecule_pairs_val, weights)"
   ]
  },
  {
   "cell_type": "code",
   "execution_count": 189,
   "id": "d04bdf12-33da-48d2-b962-baff4ecff0f0",
   "metadata": {},
   "outputs": [
    {
     "data": {
      "text/plain": [
       "array([1.43181464e-08, 1.43181464e-08, 1.43181464e-08, ...,\n",
       "       1.43181464e-08, 1.43181464e-08, 1.43181464e-08])"
      ]
     },
     "execution_count": 189,
     "metadata": {},
     "output_type": "execute_result"
    }
   ],
   "source": [
    "weights_val[(molecule_pairs_val.indexes_tani[:,2]<0.1)]"
   ]
  },
  {
   "cell_type": "code",
   "execution_count": 190,
   "id": "0fb92a2d-07f6-40db-8ba8-2c3c9b327f45",
   "metadata": {},
   "outputs": [
    {
     "data": {
      "text/plain": [
       "array([7.79750242e-05, 7.79750242e-05, 7.79750242e-05, ...,\n",
       "       7.79750242e-05, 7.79750242e-05, 7.79750242e-05])"
      ]
     },
     "execution_count": 190,
     "metadata": {},
     "output_type": "execute_result"
    }
   ],
   "source": [
    "weights_val[(molecule_pairs_val.indexes_tani[:,2]<0.21) & (molecule_pairs_val.indexes_tani[:,2]>0.19)]"
   ]
  },
  {
   "cell_type": "code",
   "execution_count": 191,
   "id": "107c387c-98ca-43f2-ac5f-3af0c13266d7",
   "metadata": {},
   "outputs": [
    {
     "data": {
      "image/png": "[encoded data removed]",
      "text/plain": [
       "<Figure size 640x480 with 1 Axes>"
      ]
     },
     "metadata": {},
     "output_type": "display_data"
    }
   ],
   "source": [
    "plt.hist(molecule_pairs_val.indexes_tani[:,2], bins=100)\n",
    "plt.yscale('log')"
   ]
  },
  {
   "cell_type": "code",
   "execution_count": 192,
   "id": "ba9f7f14-c90c-4977-a077-7d17fcb38511",
   "metadata": {},
   "outputs": [
    {
     "data": {
      "image/png": "[encoded data removed]",
      "text/plain": [
       "<Figure size 640x480 with 1 Axes>"
      ]
     },
     "metadata": {},
     "output_type": "display_data"
    }
   ],
   "source": [
    "plt.hist(weights_val)\n",
    "plt.yscale('log')"
   ]
  },
  {
   "cell_type": "code",
   "execution_count": 193,
   "id": "f48b876e-ff52-49bc-828c-8c4621645fe2",
   "metadata": {},
   "outputs": [
    {
     "name": "stdout",
     "output_type": "stream",
     "text": [
      "Preprocessing all the data ...\n"
     ]
    },
    {
     "name": "stderr",
     "output_type": "stream",
     "text": [
      "338695it [00:06, 50887.26it/s]\n"
     ]
    },
    {
     "name": "stdout",
     "output_type": "stream",
     "text": [
      "Finished preprocessing \n",
      "loading data\n",
      "Normalizing intensities\n",
      "Creating dictionaries\n",
      "Preprocessing all the data ...\n"
     ]
    },
    {
     "name": "stderr",
     "output_type": "stream",
     "text": [
      "41054it [00:00, 50873.57it/s]\n"
     ]
    },
    {
     "name": "stdout",
     "output_type": "stream",
     "text": [
      "Finished preprocessing \n",
      "loading data\n",
      "Normalizing intensities\n",
      "Creating dictionaries\n"
     ]
    }
   ],
   "source": [
    "dataset_train = LoadDataOrdinal.from_molecule_pairs_to_dataset(molecule_pairs_train, training=True)\n",
    "# dataset_test = LoadData.from_molecule_pairs_to_dataset(m_test)\n",
    "dataset_val = LoadDataOrdinal.from_molecule_pairs_to_dataset(molecule_pairs_val)"
   ]
  },
  {
   "cell_type": "code",
   "execution_count": 194,
   "id": "d97ac29c-fbd5-4c54-b81a-82a09db31e0c",
   "metadata": {},
   "outputs": [
    {
     "data": {
      "text/plain": [
       "<src.transformers.CustomDatasetUnique.CustomDatasetUnique at 0x2bca40090>"
      ]
     },
     "execution_count": 194,
     "metadata": {},
     "output_type": "execute_result"
    }
   ],
   "source": [
    "dataset_train"
   ]
  },
  {
   "cell_type": "code",
   "execution_count": 195,
   "id": "ebafb216-c191-4848-9560-8bad7979f4ab",
   "metadata": {},
   "outputs": [],
   "source": [
    "# delete variables that are not useful for memory savings\n",
    "#del molecule_pairs_val\n",
    "#del molecule_pairs_test\n",
    "#del uniformed_molecule_pairs_test"
   ]
  },
  {
   "cell_type": "code",
   "execution_count": 196,
   "id": "7c68ebb4-c16e-47dd-8958-d9fd57ee3b62",
   "metadata": {},
   "outputs": [],
   "source": [
    "class CustomWeightedRandomSampler(WeightedRandomSampler):\n",
    "    \"\"\"WeightedRandomSampler except allows for more than 2^24 samples to be sampled\"\"\"\n",
    "\n",
    "    def __init__(self, *args, **kwargs):\n",
    "        super().__init__(*args, **kwargs)\n",
    "\n",
    "    def __iter__(self):\n",
    "        rand_tensor = np.random.choice(\n",
    "            range(0, len(self.weights)),\n",
    "            size=self.num_samples,\n",
    "            p=self.weights.numpy() / torch.sum(self.weights).numpy(),\n",
    "            replace=self.replacement,\n",
    "        )\n",
    "        rand_tensor = torch.from_numpy(rand_tensor)\n",
    "        return iter(rand_tensor.tolist())\n",
    "\n",
    "\n",
    "train_sampler = CustomWeightedRandomSampler(\n",
    "    weights=weights_tr, num_samples=len(dataset_train), replacement=True\n",
    ")\n",
    "val_sampler = CustomWeightedRandomSampler(\n",
    "    weights=weights_val, num_samples=len(dataset_val), replacement=True\n",
    ")"
   ]
  },
  {
   "cell_type": "code",
   "execution_count": 197,
   "id": "b0ad7d21-f809-4d47-9be2-d0a48bcaff8a",
   "metadata": {},
   "outputs": [
    {
     "data": {
      "text/plain": [
       "array([4.56483434e-06, 1.73257073e-09, 8.68960723e-05, ...,\n",
       "       1.73257073e-09, 1.73257073e-09, 4.56483434e-06])"
      ]
     },
     "execution_count": 197,
     "metadata": {},
     "output_type": "execute_result"
    }
   ],
   "source": [
    "weights_tr"
   ]
  },
  {
   "cell_type": "code",
   "execution_count": 198,
   "id": "5d22142b-e811-443a-a939-cf7d5544384c",
   "metadata": {},
   "outputs": [
    {
     "data": {
      "text/plain": [
       "array([[0.0000e+00, 0.0000e+00, 1.0000e+00],\n",
       "       [0.0000e+00, 1.0000e+00, 0.0000e+00],\n",
       "       [0.0000e+00, 1.9000e+01, 8.0000e-01],\n",
       "       ...,\n",
       "       [3.5973e+04, 3.5954e+04, 0.0000e+00],\n",
       "       [3.5973e+04, 3.5965e+04, 0.0000e+00],\n",
       "       [3.5973e+04, 3.5973e+04, 1.0000e+00]])"
      ]
     },
     "execution_count": 198,
     "metadata": {},
     "output_type": "execute_result"
    }
   ],
   "source": [
    "dataset['molecule_pairs_train'].indexes_tani"
   ]
  },
  {
   "cell_type": "code",
   "execution_count": 199,
   "id": "d880fcb2-18e8-4e78-b621-2e03decb8b31",
   "metadata": {},
   "outputs": [
    {
     "name": "stdout",
     "output_type": "stream",
     "text": [
      "Creating train data loader\n"
     ]
    }
   ],
   "source": [
    "print(\"Creating train data loader\")\n",
    "dataloader_train = DataLoader(\n",
    "    dataset_train, batch_size=config.BATCH_SIZE, sampler=train_sampler, num_workers=10\n",
    ")"
   ]
  },
  {
   "cell_type": "code",
   "execution_count": 200,
   "id": "4543ec65-8054-439e-82f6-275de6ed2445",
   "metadata": {},
   "outputs": [
    {
     "data": {
      "text/plain": [
       "<torch.utils.data.dataloader.DataLoader at 0x2bce09f50>"
      ]
     },
     "execution_count": 200,
     "metadata": {},
     "output_type": "execute_result"
    }
   ],
   "source": [
    "dataloader_train"
   ]
  },
  {
   "cell_type": "code",
   "execution_count": 201,
   "id": "d11f89ec-2c40-4084-a7f5-68cf41a12bca",
   "metadata": {},
   "outputs": [
    {
     "name": "stdout",
     "output_type": "stream",
     "text": [
      "Creating val data loader\n"
     ]
    }
   ],
   "source": [
    "def worker_init_fn(\n",
    "    worker_id,\n",
    "):  # ensure the dataloader for validation is the same for every epoch\n",
    "    seed = 42\n",
    "    torch.manual_seed(seed)\n",
    "    # Set the same seed for reproducibility in NumPy and Python's random module\n",
    "    np.random.seed(seed)\n",
    "    random.seed(seed)\n",
    "\n",
    "\n",
    "print(\"Creating val data loader\")\n",
    "dataloader_val = DataLoader(\n",
    "    dataset_val,\n",
    "    batch_size=config.BATCH_SIZE,\n",
    "    sampler=val_sampler,\n",
    "    worker_init_fn=worker_init_fn,\n",
    "    num_workers=0,\n",
    ")\n"
   ]
  },
  {
   "cell_type": "markdown",
   "id": "a8550a45-114a-42e7-b258-78c24a40e507",
   "metadata": {},
   "source": [
    "## Sanity check: training distribution"
   ]
  },
  {
   "cell_type": "code",
   "execution_count": 202,
   "id": "3e7cda5c-4a78-486b-91f3-7494d8b9fc09",
   "metadata": {},
   "outputs": [],
   "source": [
    "similarities_sampled=[]\n",
    "for i,batch in enumerate(dataloader_val):\n",
    "    sim = batch['similarity']\n",
    "    sim = np.array(sim).reshape(-1)\n",
    "    similarities_sampled = similarities_sampled + list(sim)\n",
    "    if i==100:\n",
    "        break"
   ]
  },
  {
   "cell_type": "code",
   "execution_count": 203,
   "id": "4d1e9ab9-f9f7-4ffc-a78a-4e534e5b1c12",
   "metadata": {},
   "outputs": [
    {
     "data": {
      "image/png": "[encoded data removed]",
      "text/plain": [
       "<Figure size 640x480 with 1 Axes>"
      ]
     },
     "metadata": {},
     "output_type": "display_data"
    }
   ],
   "source": [
    "_=plt.hist(similarities_sampled, bins=6)"
   ]
  },
  {
   "cell_type": "code",
   "execution_count": 204,
   "id": "05c29323-4664-43de-9dca-c1bae2f40d28",
   "metadata": {},
   "outputs": [
    {
     "name": "stdout",
     "output_type": "stream",
     "text": [
      "define model\n"
     ]
    }
   ],
   "source": [
    "# Define the ModelCheckpoint callback\n",
    "checkpoint_callback = pl.callbacks.ModelCheckpoint(\n",
    "    dirpath=config.CHECKPOINT_DIR,\n",
    "    filename=\"best_model\",\n",
    "    monitor=\"validation_loss_epoch\",\n",
    "    mode=\"min\",\n",
    "    save_top_k=1,\n",
    ")\n",
    "\n",
    "checkpoint_n_steps_callback = pl.callbacks.ModelCheckpoint(\n",
    "    dirpath=config.CHECKPOINT_DIR,\n",
    "    filename=\"best_model_n_steps\",\n",
    "    every_n_train_steps=1000,\n",
    "    save_last=True,\n",
    "    save_top_k=1,\n",
    ")\n",
    "\n",
    "\n",
    "# checkpoint_callback = SaveBestModelCallback(file_path=config.best_model_path)\n",
    "progress_bar_callback = ProgressBar()\n",
    "\n",
    "# loss callback\n",
    "losscallback = LossCallback(file_path=config.CHECKPOINT_DIR + f\"loss.png\")\n",
    "print(\"define model\")\n"
   ]
  },
  {
   "cell_type": "code",
   "execution_count": 205,
   "id": "f6b6c99e-dc36-40b7-abad-e291ab7ad351",
   "metadata": {},
   "outputs": [
    {
     "data": {
      "text/plain": [
       "False"
      ]
     },
     "execution_count": 205,
     "metadata": {},
     "output_type": "execute_result"
    }
   ],
   "source": [
    "config.USE_GUMBEL"
   ]
  },
  {
   "cell_type": "code",
   "execution_count": 206,
   "id": "89ddc30d-eacd-4672-bbac-336a42cc9799",
   "metadata": {},
   "outputs": [
    {
     "name": "stdout",
     "output_type": "stream",
     "text": [
      "Using cosine library from Pytorch?: True\n"
     ]
    }
   ],
   "source": [
    "model = EmbedderOrdinal(\n",
    "    d_model=int(config.D_MODEL),\n",
    "    n_layers=int(config.N_LAYERS),\n",
    "    n_classes=config.N_CLASSES,\n",
    "    weights=None,\n",
    "    lr=config.LR,\n",
    "    use_cosine_distance=config.use_cosine_distance,\n",
    "    use_gumbel = config.USE_GUMBEL,\n",
    ")"
   ]
  },
  {
   "cell_type": "code",
   "execution_count": 207,
   "id": "cbc82451-ae9a-4005-8269-153002f9ebbc",
   "metadata": {},
   "outputs": [
    {
     "name": "stderr",
     "output_type": "stream",
     "text": [
      "GPU available: True (mps), used: True\n",
      "TPU available: False, using: 0 TPU cores\n",
      "IPU available: False, using: 0 IPUs\n",
      "HPU available: False, using: 0 HPUs\n",
      "/Users/sebas/miniconda3/envs/transformers/lib/python3.11/site-packages/lightning/pytorch/callbacks/model_checkpoint.py:639: Checkpoint directory /Users/sebas/projects/data/temp_training exists and is not empty.\n",
      "\n",
      "   | Name                    | Type                             | Params\n",
      "------------------------------------------------------------------------------\n",
      "0  | linear                  | Linear                           | 16.5 K\n",
      "1  | linear_regression       | Linear                           | 129   \n",
      "2  | fixed_linear_regression | FixedLinearRegression            | 129   \n",
      "3  | relu                    | ReLU                             | 0     \n",
      "4  | spectrum_encoder        | SpectrumTransformerEncoderCustom | 1.7 M \n",
      "5  | regression_loss         | MSELoss                          | 0     \n",
      "6  | dropout                 | Dropout                          | 0     \n",
      "7  | linear_cosine           | Linear                           | 16.5 K\n",
      "8  | cosine_similarity       | CosineSimilarity                 | 0     \n",
      "9  | classifier              | Linear                           | 774   \n",
      "10 | loss_fn                 | CrossEntropyLoss                 | 0     \n",
      "11 | customised_ce           | CustomizedCrossEntropyLoss       | 0     \n",
      "------------------------------------------------------------------------------\n",
      "1.7 M     Trainable params\n",
      "129       Non-trainable params\n",
      "1.7 M     Total params\n",
      "6.864     Total estimated model params size (MB)\n"
     ]
    },
    {
     "data": {
      "application/vnd.jupyter.widget-view+json": {
       "model_id": "",
       "version_major": 2,
       "version_minor": 0
      },
      "text/plain": [
       "Sanity Checking: |                                                                                            …"
      ]
     },
     "metadata": {},
     "output_type": "display_data"
    },
    {
     "name": "stderr",
     "output_type": "stream",
     "text": [
      "/Users/sebas/miniconda3/envs/transformers/lib/python3.11/site-packages/lightning/pytorch/trainer/connectors/data_connector.py:441: The 'val_dataloader' does not have many workers which may be a bottleneck. Consider increasing the value of the `num_workers` argument` to `num_workers=10` in the `DataLoader` to improve performance.\n",
      "/Users/sebas/projects/metabolomics/src/transformers/spectrum_transformer_encoder_custom.py:17: UserWarning: To copy construct from a tensor, it is recommended to use sourceTensor.clone().detach() or sourceTensor.clone().detach().requires_grad_(True), rather than torch.tensor(sourceTensor).\n",
      "  mass_precursor = torch.tensor(kwargs[\"precursor_mass\"].float())\n",
      "/Users/sebas/projects/metabolomics/src/transformers/spectrum_transformer_encoder_custom.py:18: UserWarning: To copy construct from a tensor, it is recommended to use sourceTensor.clone().detach() or sourceTensor.clone().detach().requires_grad_(True), rather than torch.tensor(sourceTensor).\n",
      "  charge_precursor = torch.tensor(kwargs[\"precursor_charge\"].float())\n",
      "/Users/sebas/projects/metabolomics/src/ordinal_classification/embedder_ordinal.py:184: UserWarning: To copy construct from a tensor, it is recommended to use sourceTensor.clone().detach() or sourceTensor.clone().detach().requires_grad_(True), rather than torch.tensor(sourceTensor).\n",
      "  \n"
     ]
    },
    {
     "name": "stdout",
     "output_type": "stream",
     "text": [
      "Train loss:\n",
      "[]\n",
      "Validation loss\n",
      "[3.1621768474578857]\n"
     ]
    },
    {
     "name": "stderr",
     "output_type": "stream",
     "text": [
      "/Users/sebas/miniconda3/envs/transformers/lib/python3.11/site-packages/lightning/pytorch/trainer/connectors/data_connector.py:436: Consider setting `persistent_workers=True` in 'train_dataloader' to speed up the dataloader worker initialization.\n"
     ]
    },
    {
     "data": {
      "application/vnd.jupyter.widget-view+json": {
       "model_id": "0ca75dcddb454a77a6ba683862fc34cc",
       "version_major": 2,
       "version_minor": 0
      },
      "text/plain": [
       "Training: |                                                                                                   …"
      ]
     },
     "metadata": {},
     "output_type": "display_data"
    },
    {
     "name": "stderr",
     "output_type": "stream",
     "text": [
      "`Trainer.fit` stopped: `max_steps=1000` reached.\n"
     ]
    },
    {
     "data": {
      "image/png": "[encoded data removed]",
      "text/plain": [
       "<Figure size 1000x800 with 2 Axes>"
      ]
     },
     "metadata": {},
     "output_type": "display_data"
    }
   ],
   "source": [
    "trainer = pl.Trainer(\n",
    "    max_steps=1000,\n",
    "    #val_check_interval=500, \n",
    "    max_epochs=1,\n",
    "    callbacks=[checkpoint_callback, checkpoint_n_steps_callback, losscallback],\n",
    "    enable_progress_bar=enable_progress_bar,\n",
    "    # val_check_interval= config.validate_after_ratio,\n",
    ")\n",
    "# trainer = pl.Trainer(max_steps=100,  callbacks=[checkpoint_callback, losscallback], enable_progress_bar=enable_progress_bar)\n",
    "trainer.fit(\n",
    "    model=model,\n",
    "    train_dataloaders=(dataloader_train),\n",
    "    val_dataloaders=dataloader_val,\n",
    ")"
   ]
  },
  {
   "cell_type": "markdown",
   "id": "4697fd13-b60f-47e0-b12d-d401f5a7c82a",
   "metadata": {},
   "source": [
    "## Inference"
   ]
  },
  {
   "cell_type": "code",
   "execution_count": 208,
   "id": "630c93ea-c557-4b3d-9466-fbfb649622d6",
   "metadata": {},
   "outputs": [],
   "source": [
    "#best_model_path = model_path = data_folder + 'best_model_exhaustive_sampled_128n_20240618.ckpt'\n",
    "#best_model_path = config.CHECKPOINT_DIR + f\"best_model_n_steps-v9.ckpt\"\n",
    "best_model_path = config.CHECKPOINT_DIR + f\"last.ckpt\""
   ]
  },
  {
   "cell_type": "code",
   "execution_count": 209,
   "id": "26ccb399-d451-4d34-a05a-cc9c66c01b2a",
   "metadata": {},
   "outputs": [
    {
     "data": {
      "text/plain": [
       "(7860684, 3)"
      ]
     },
     "execution_count": 209,
     "metadata": {},
     "output_type": "execute_result"
    }
   ],
   "source": [
    "molecule_pairs_test.indexes_tani.shape"
   ]
  },
  {
   "cell_type": "code",
   "execution_count": 210,
   "id": "ff35bf92-f0fe-425f-989f-efd52f2917fc",
   "metadata": {},
   "outputs": [
    {
     "name": "stdout",
     "output_type": "stream",
     "text": [
      "Number of molecule pairs: 7860684\n",
      "Uniformize the data\n"
     ]
    }
   ],
   "source": [
    "molecule_pairs_test = dataset[\"molecule_pairs_test\"]\n",
    "print(f\"Number of molecule pairs: {len(molecule_pairs_test)}\")\n",
    "print(\"Uniformize the data\")\n",
    "uniformed_molecule_pairs_test, binned_molecule_pairs = TrainUtils.uniformise(\n",
    "    molecule_pairs_test,\n",
    "    number_bins=bins_uniformise_inference,\n",
    "    return_binned_list=True,\n",
    "    bin_sim_1=True,\n",
    "    #bin_sim_1=False,\n",
    "    ordinal_classification=True,\n",
    ")  # do not treat sim==1 as another bin"
   ]
  },
  {
   "cell_type": "code",
   "execution_count": 211,
   "id": "2069b4ca-c224-46ce-b53d-ad5436ea12f5",
   "metadata": {},
   "outputs": [
    {
     "data": {
      "text/plain": [
       "(325, 3)"
      ]
     },
     "execution_count": 211,
     "metadata": {},
     "output_type": "execute_result"
    }
   ],
   "source": [
    "binned_molecule_pairs[4].indexes_tani.shape"
   ]
  },
  {
   "cell_type": "code",
   "execution_count": 212,
   "id": "58bd8f0c-5f43-4ee0-9bd4-3657114170bc",
   "metadata": {},
   "outputs": [
    {
     "data": {
      "text/plain": [
       "array([[3.769e+03, 1.680e+02, 0.000e+00],\n",
       "       [6.200e+02, 3.014e+03, 0.000e+00],\n",
       "       [3.605e+03, 2.320e+02, 0.000e+00],\n",
       "       ...,\n",
       "       [5.460e+02, 5.460e+02, 1.000e+00],\n",
       "       [1.084e+03, 1.084e+03, 1.000e+00],\n",
       "       [3.786e+03, 3.784e+03, 1.000e+00]])"
      ]
     },
     "execution_count": 212,
     "metadata": {},
     "output_type": "execute_result"
    }
   ],
   "source": [
    "uniformed_molecule_pairs_test.indexes_tani"
   ]
  },
  {
   "cell_type": "code",
   "execution_count": 213,
   "id": "3ce7a4d3-f77f-477a-8568-d57f58a52d23",
   "metadata": {},
   "outputs": [
    {
     "name": "stdout",
     "output_type": "stream",
     "text": [
      "Preprocessing all the data ...\n"
     ]
    },
    {
     "name": "stderr",
     "output_type": "stream",
     "text": [
      "43134it [00:00, 49932.63it/s]\n"
     ]
    },
    {
     "name": "stdout",
     "output_type": "stream",
     "text": [
      "Finished preprocessing \n",
      "loading data\n",
      "Normalizing intensities\n",
      "Creating dictionaries\n"
     ]
    }
   ],
   "source": [
    "# dataset_train = LoadData.from_molecule_pairs_to_dataset(m_train)\n",
    "dataset_test = LoadDataOrdinal.from_molecule_pairs_to_dataset(uniformed_molecule_pairs_test)\n",
    "dataloader_test = DataLoader(dataset_test, batch_size=config.BATCH_SIZE, shuffle=False)"
   ]
  },
  {
   "cell_type": "code",
   "execution_count": 214,
   "id": "ef21da6a-e798-4221-895c-706c8194ec4e",
   "metadata": {},
   "outputs": [
    {
     "name": "stderr",
     "output_type": "stream",
     "text": [
      "GPU available: True (mps), used: True\n",
      "TPU available: False, using: 0 TPU cores\n",
      "IPU available: False, using: 0 IPUs\n",
      "HPU available: False, using: 0 HPUs\n"
     ]
    },
    {
     "name": "stdout",
     "output_type": "stream",
     "text": [
      "Using cosine library from Pytorch?: True\n"
     ]
    }
   ],
   "source": [
    "# Testinbest_model = Embedder.load_from_checkpoint(checkpoint_callback.best_model_path, d_model=64, n_layers=2)\n",
    "trainer = pl.Trainer(max_epochs=2, enable_progress_bar=enable_progress_bar)\n",
    "best_model = EmbedderOrdinal.load_from_checkpoint(\n",
    "    best_model_path,\n",
    "    d_model=int(config.D_MODEL),\n",
    "    n_layers=int(config.N_LAYERS),\n",
    "    n_classes=config.N_CLASSES,\n",
    "    use_gumbel=config.USE_GUMBEL,\n",
    "    use_element_wise=True,\n",
    "    use_cosine_distance=config.use_cosine_distance,\n",
    "    \n",
    ")"
   ]
  },
  {
   "cell_type": "markdown",
   "id": "418943e0-6698-4c7f-8502-615c7178e9a9",
   "metadata": {},
   "source": [
    "## Postprocessing"
   ]
  },
  {
   "cell_type": "code",
   "execution_count": 215,
   "id": "6e76a267-27e5-40cf-aacd-aa7a810a53c0",
   "metadata": {},
   "outputs": [
    {
     "name": "stderr",
     "output_type": "stream",
     "text": [
      "/Users/sebas/miniconda3/envs/transformers/lib/python3.11/site-packages/lightning/pytorch/trainer/connectors/data_connector.py:441: The 'predict_dataloader' does not have many workers which may be a bottleneck. Consider increasing the value of the `num_workers` argument` to `num_workers=10` in the `DataLoader` to improve performance.\n"
     ]
    },
    {
     "data": {
      "application/vnd.jupyter.widget-view+json": {
       "model_id": "ad7f618c7eca41ac9d02cdc3d1dcc748",
       "version_major": 2,
       "version_minor": 0
      },
      "text/plain": [
       "Predicting: |                                                                                                 …"
      ]
     },
     "metadata": {},
     "output_type": "display_data"
    }
   ],
   "source": [
    "pred_test = trainer.predict(\n",
    "    best_model,\n",
    "    dataloader_test,\n",
    ")\n",
    "similarities_test = Postprocessing.get_similarities(dataloader_test)\n"
   ]
  },
  {
   "cell_type": "code",
   "execution_count": 216,
   "id": "f3832f11-aa18-493d-81b0-d385ed942380",
   "metadata": {},
   "outputs": [
    {
     "data": {
      "text/plain": [
       "(array([325.,   0., 325.,   0., 325.,   0., 325.,   0., 325., 325.]),\n",
       " array([0. , 0.5, 1. , 1.5, 2. , 2.5, 3. , 3.5, 4. , 4.5, 5. ]),\n",
       " <BarContainer object of 10 artists>)"
      ]
     },
     "execution_count": 216,
     "metadata": {},
     "output_type": "execute_result"
    },
    {
     "data": {
      "image/png": "[encoded data removed]",
      "text/plain": [
       "<Figure size 640x480 with 1 Axes>"
      ]
     },
     "metadata": {},
     "output_type": "display_data"
    }
   ],
   "source": [
    "plt.hist(similarities_test)"
   ]
  },
  {
   "cell_type": "code",
   "execution_count": 217,
   "id": "ed193cae-6b56-4192-b4f8-75a7959341ec",
   "metadata": {},
   "outputs": [
    {
     "name": "stdout",
     "output_type": "stream",
     "text": [
      "tensor([ 0.4037,  0.0528,  0.1390,  0.1061, -0.0361, -0.5394])\n",
      "0.0\n"
     ]
    }
   ],
   "source": [
    "print(pred_test[0][4])\n",
    "print(similarities_test[127])"
   ]
  },
  {
   "cell_type": "code",
   "execution_count": 218,
   "id": "29686961-fd1c-4499-994d-cba9455bf744",
   "metadata": {},
   "outputs": [
    {
     "data": {
      "text/plain": [
       "tensor([-0.4184, -0.0567, -0.0486,  0.0316, -0.1021, -0.2454])"
      ]
     },
     "execution_count": 218,
     "metadata": {},
     "output_type": "execute_result"
    }
   ],
   "source": [
    "pred_test[0][6]"
   ]
  },
  {
   "cell_type": "code",
   "execution_count": 219,
   "id": "a806fe48-48af-4a63-8d02-33dffaf24951",
   "metadata": {},
   "outputs": [
    {
     "data": {
      "text/plain": [
       "tensor([0])"
      ]
     },
     "execution_count": 219,
     "metadata": {},
     "output_type": "execute_result"
    }
   ],
   "source": [
    "np.argwhere(pred_test[0][0]>0.1)[0]"
   ]
  },
  {
   "cell_type": "code",
   "execution_count": 220,
   "id": "93bf3f14-bce8-4f56-aefb-6e863d088c4e",
   "metadata": {},
   "outputs": [
    {
     "data": {
      "text/plain": [
       "1"
      ]
     },
     "execution_count": 220,
     "metadata": {},
     "output_type": "execute_result"
    }
   ],
   "source": [
    "np.argwhere(pred_test[0][0]>0.9)[0].numel()"
   ]
  },
  {
   "cell_type": "code",
   "execution_count": 221,
   "id": "3efbd59f-b16a-4afe-94b2-fe6b5bd538d3",
   "metadata": {},
   "outputs": [],
   "source": [
    "def which_index(p, threshold=0.5):\n",
    "    #result= np.argwhere(p>threshold)[0]\n",
    "     #\n",
    "    #if result.numel()==0:\n",
    "        #return np.argmax(p)\n",
    "    #    return np.nan\n",
    "    #else:\n",
    "    #    return result[-1]\n",
    "    return np.argmax(p)"
   ]
  },
  {
   "cell_type": "code",
   "execution_count": 222,
   "id": "38027803-5bf6-429e-8af7-6b57d0a16ea4",
   "metadata": {},
   "outputs": [],
   "source": [
    "# flat the results\n",
    "flat_pred_test = []\n",
    "for pred in pred_test:\n",
    "    flat_pred_test = flat_pred_test + [which_index(p) for p in pred]\n",
    "flat_pred_test=np.array( flat_pred_test)"
   ]
  },
  {
   "cell_type": "code",
   "execution_count": 223,
   "id": "6d41876a-8d30-4410-ab8f-f6793d94de2b",
   "metadata": {},
   "outputs": [],
   "source": [
    "#list(pred_test)"
   ]
  },
  {
   "cell_type": "code",
   "execution_count": 224,
   "id": "9833ec32-3fa5-4b1c-99db-bb9c1af4b816",
   "metadata": {},
   "outputs": [
    {
     "data": {
      "text/plain": [
       "0"
      ]
     },
     "execution_count": 224,
     "metadata": {},
     "output_type": "execute_result"
    }
   ],
   "source": [
    "flat_pred_test[0]"
   ]
  },
  {
   "cell_type": "markdown",
   "id": "c6d7f960-61ab-4f66-b368-9d2e03183146",
   "metadata": {},
   "source": [
    "## Corr. Analysis"
   ]
  },
  {
   "cell_type": "code",
   "execution_count": 225,
   "id": "6f07528e-190f-4bda-94bf-768efa818da0",
   "metadata": {},
   "outputs": [
    {
     "data": {
      "text/plain": [
       "(array([325.,   0., 325.,   0., 325.,   0., 325.,   0., 325., 325.]),\n",
       " array([0. , 0.5, 1. , 1.5, 2. , 2.5, 3. , 3.5, 4. , 4.5, 5. ]),\n",
       " <BarContainer object of 10 artists>)"
      ]
     },
     "execution_count": 225,
     "metadata": {},
     "output_type": "execute_result"
    },
    {
     "data": {
      "image/png": "[encoded data removed]",
      "text/plain": [
       "<Figure size 640x480 with 1 Axes>"
      ]
     },
     "metadata": {},
     "output_type": "display_data"
    }
   ],
   "source": [
    "plt.hist(similarities_test)"
   ]
  },
  {
   "cell_type": "code",
   "execution_count": 226,
   "id": "f5b86f92-5940-49f6-ac62-7af9c36be0c9",
   "metadata": {},
   "outputs": [
    {
     "data": {
      "text/plain": [
       "array([0, 0, 0, ..., 1, 1, 5])"
      ]
     },
     "execution_count": 226,
     "metadata": {},
     "output_type": "execute_result"
    }
   ],
   "source": [
    "flat_pred_test"
   ]
  },
  {
   "cell_type": "code",
   "execution_count": 227,
   "id": "2a8f21cf-d6f5-486e-b288-687bfef31255",
   "metadata": {},
   "outputs": [],
   "source": [
    "similarities_test=np.array(similarities_test)\n",
    "flat_pred_test=np.array(flat_pred_test)"
   ]
  },
  {
   "cell_type": "code",
   "execution_count": 228,
   "id": "1844d700-0a97-499a-bb00-505088ab2ac0",
   "metadata": {},
   "outputs": [
    {
     "data": {
      "text/plain": [
       "1950"
      ]
     },
     "execution_count": 228,
     "metadata": {},
     "output_type": "execute_result"
    }
   ],
   "source": [
    "len(similarities_test)"
   ]
  },
  {
   "cell_type": "code",
   "execution_count": 229,
   "id": "29db856e-e838-4e2e-9bf1-b80da6ddd99e",
   "metadata": {},
   "outputs": [],
   "source": [
    "similarities_test_cleaned= similarities_test[~np.isnan(flat_pred_test)]\n",
    "flat_pred_test_cleaned= flat_pred_test[~np.isnan(flat_pred_test)]"
   ]
  },
  {
   "cell_type": "code",
   "execution_count": 230,
   "id": "fbc80724-d43d-4be4-97c3-aa30af919314",
   "metadata": {},
   "outputs": [
    {
     "data": {
      "text/plain": [
       "1950"
      ]
     },
     "execution_count": 230,
     "metadata": {},
     "output_type": "execute_result"
    }
   ],
   "source": [
    "len(similarities_test_cleaned)"
   ]
  },
  {
   "cell_type": "code",
   "execution_count": 231,
   "id": "3adb6895-6dd9-456d-ae94-e2cc661ea771",
   "metadata": {},
   "outputs": [],
   "source": [
    "\n",
    "corr_model, p_value_model= spearmanr(similarities_test_cleaned, flat_pred_test_cleaned)\n"
   ]
  },
  {
   "cell_type": "code",
   "execution_count": 232,
   "id": "df664992-309d-463a-af4c-fcb3d4df88fb",
   "metadata": {},
   "outputs": [
    {
     "data": {
      "text/plain": [
       "0.33478199683776466"
      ]
     },
     "execution_count": 232,
     "metadata": {},
     "output_type": "execute_result"
    }
   ],
   "source": [
    "corr_model"
   ]
  },
  {
   "cell_type": "code",
   "execution_count": 233,
   "id": "8e2ffb6c-3c55-4e39-a965-036cafc89193",
   "metadata": {},
   "outputs": [
    {
     "data": {
      "image/png": "[encoded data removed]",
      "text/plain": [
       "<Figure size 1000x700 with 2 Axes>"
      ]
     },
     "metadata": {},
     "output_type": "display_data"
    }
   ],
   "source": [
    "# Compute the confusion matrix\n",
    "cm = confusion_matrix(similarities_test_cleaned, flat_pred_test_cleaned)\n",
    "# Normalize the confusion matrix by the number of true instances for each class\n",
    "cm_normalized = cm.astype('float') / cm.sum()\n",
    "# Plot the confusion matrix with percentages\n",
    "plt.figure(figsize=(10, 7))\n",
    "sns.heatmap(cm_normalized, annot=True, fmt='.2%', cmap='Blues')\n",
    "plt.xlabel('Predicted Labels')\n",
    "plt.ylabel('True Labels')\n",
    "plt.title('Confusion Matrix (Normalized to Percentages)')\n",
    "plt.show()"
   ]
  },
  {
   "cell_type": "code",
   "execution_count": 234,
   "id": "8bd400d0-7b6f-4630-95ce-58073a4ae18a",
   "metadata": {},
   "outputs": [
    {
     "data": {
      "text/plain": [
       "<matplotlib.collections.PathCollection at 0x2bdc50750>"
      ]
     },
     "execution_count": 234,
     "metadata": {},
     "output_type": "execute_result"
    },
    {
     "data": {
      "image/png": "[encoded data removed]",
      "text/plain": [
       "<Figure size 640x480 with 1 Axes>"
      ]
     },
     "metadata": {},
     "output_type": "display_data"
    }
   ],
   "source": [
    "plt.scatter(similarities_test, flat_pred_test, alpha=0.01)"
   ]
  },
  {
   "cell_type": "markdown",
   "id": "00e12565-7d45-4b78-97b7-a856aa842859",
   "metadata": {},
   "source": [
    "##### "
   ]
  },
  {
   "cell_type": "code",
   "execution_count": null,
   "id": "caeb4537-1c62-40dd-9969-edafff25b341",
   "metadata": {},
   "outputs": [],
   "source": []
  },
  {
   "cell_type": "code",
   "execution_count": 235,
   "id": "27092420-b7bb-4895-9a47-0a878cd2ff15",
   "metadata": {},
   "outputs": [
    {
     "name": "stdout",
     "output_type": "stream",
     "text": [
      "[[1.         0.5        0.125      0.046875   0.02050781]\n",
      " [0.25       1.         0.5        0.0625     0.0234375 ]\n",
      " [0.046875   0.25       1.         0.5        0.0625    ]\n",
      " [0.0234375  0.0625     0.25       1.         0.5       ]\n",
      " [0.02050781 0.046875   0.125      0.5        1.        ]]\n"
     ]
    }
   ],
   "source": [
    "import numpy as np\n",
    "\n",
    "def generate_matrix(n):\n",
    "    # Create an nxn matrix filled with zeros\n",
    "    matrix = np.zeros((n, n))\n",
    "    \n",
    "    # Fill the diagonal with 1s\n",
    "    np.fill_diagonal(matrix, 1)\n",
    "    \n",
    "    # For each row\n",
    "    for i in range(n):\n",
    "        remaining_sum = 1  # We need to add up to 1 more since diagonal element is already 1\n",
    "        # Distribute the remaining sum to off-diagonal elements\n",
    "        for j in range(1, n):\n",
    "            if i + j < n:\n",
    "                matrix[i, i + j] = remaining_sum / (2 ** j)\n",
    "                remaining_sum -= matrix[i, i + j]\n",
    "            if i - j >= 0:\n",
    "                matrix[i, i - j] = remaining_sum / (2 ** j)\n",
    "                remaining_sum -= matrix[i, i - j]\n",
    "    \n",
    "    return matrix\n",
    "\n",
    "# Define the size of the matrix\n",
    "n = 5  # Change this value to generate a different size matrix\n",
    "matrix = generate_matrix(n)\n",
    "\n",
    "# Print the matrix\n",
    "print(matrix)"
   ]
  },
  {
   "cell_type": "code",
   "execution_count": 236,
   "id": "fa47c4a0-d8f7-4b07-b304-bc34a1c6318c",
   "metadata": {},
   "outputs": [],
   "source": [
    "a=np.array([[1,2],[3,4]])"
   ]
  },
  {
   "cell_type": "code",
   "execution_count": 237,
   "id": "ee80d7e9-6d08-464b-b0b6-95ab7650e28b",
   "metadata": {},
   "outputs": [
    {
     "data": {
      "text/plain": [
       "array([4, 6])"
      ]
     },
     "execution_count": 237,
     "metadata": {},
     "output_type": "execute_result"
    }
   ],
   "source": [
    "np.sum(a, axis=0)"
   ]
  },
  {
   "cell_type": "code",
   "execution_count": 238,
   "id": "21625c8c-ee36-4c57-98d5-55c12a3348db",
   "metadata": {},
   "outputs": [
    {
     "data": {
      "text/plain": [
       "array([[1, 2],\n",
       "       [3, 4]])"
      ]
     },
     "execution_count": 238,
     "metadata": {},
     "output_type": "execute_result"
    }
   ],
   "source": [
    "a"
   ]
  },
  {
   "cell_type": "code",
   "execution_count": null,
   "id": "f9d09f7e-7597-49f3-ae5f-c4c944ae992c",
   "metadata": {},
   "outputs": [],
   "source": []
  }
 ],
 "metadata": {
  "kernelspec": {
   "display_name": "Python 3 (ipykernel)",
   "language": "python",
   "name": "python3"
  },
  "language_info": {
   "codemirror_mode": {
    "name": "ipython",
    "version": 3
   },
   "file_extension": ".py",
   "mimetype": "text/x-python",
   "name": "python",
   "nbconvert_exporter": "python",
   "pygments_lexer": "ipython3",
   "version": "3.11.7"
  }
 },
 "nbformat": 4,
 "nbformat_minor": 5
}
