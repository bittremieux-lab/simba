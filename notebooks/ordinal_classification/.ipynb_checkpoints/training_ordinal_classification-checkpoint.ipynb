{
 "cells": [
  {
   "cell_type": "code",
   "execution_count": 37,
   "id": "d8e7fe9e-f02f-4659-ae80-127d5273c14c",
   "metadata": {},
   "outputs": [
    {
     "name": "stdout",
     "output_type": "stream",
     "text": [
      "The autoreload extension is already loaded. To reload it, use:\n",
      "  %reload_ext autoreload\n"
     ]
    }
   ],
   "source": [
    "%load_ext autoreload\n",
    "%autoreload 2"
   ]
  },
  {
   "cell_type": "code",
   "execution_count": 38,
   "id": "e28d38a0-96c2-4287-bf50-d09a34042aaf",
   "metadata": {},
   "outputs": [
    {
     "data": {
      "text/plain": [
       "'/Users/sebas/projects/metabolomics'"
      ]
     },
     "execution_count": 38,
     "metadata": {},
     "output_type": "execute_result"
    }
   ],
   "source": [
    "pwd"
   ]
  },
  {
   "cell_type": "code",
   "execution_count": 39,
   "id": "cf1f1287-543e-44ca-a947-d6d6669e7001",
   "metadata": {},
   "outputs": [],
   "source": [
    "import os \n",
    "os.chdir('/Users/sebas/projects/metabolomics/')\n",
    "# Set the environment variable\n",
    "os.environ['PYTORCH_ENABLE_MPS_FALLBACK'] = '1'"
   ]
  },
  {
   "cell_type": "code",
   "execution_count": 40,
   "id": "e34a94b0-9e6f-4b43-bfa2-1a814c9a28f5",
   "metadata": {},
   "outputs": [],
   "source": [
    "import dill\n",
    "import torch\n",
    "from torch.utils.data import DataLoader\n",
    "import lightning.pytorch as pl\n",
    "\n",
    "from pytorch_lightning.callbacks import ProgressBar\n",
    "from src.train_utils import TrainUtils\n",
    "import matplotlib.pyplot as plt\n",
    "from src.config import Config\n",
    "import numpy as np\n",
    "from torch.utils.data import DataLoader, WeightedRandomSampler\n",
    "import os\n",
    "from src.parser import Parser\n",
    "import random\n",
    "from src.weight_sampling import WeightSampling\n",
    "from src.losscallback import LossCallback\n",
    "from src.molecular_pairs_set import MolecularPairsSet\n",
    "from src.sanity_checks import SanityChecks\n",
    "from src.transformers.postprocessing import Postprocessing\n",
    "from scipy.stats import spearmanr\n",
    "import seaborn as sns\n",
    "from src.ordinal_classification.load_data_ordinal import LoadDataOrdinal\n",
    "from src.ordinal_classification.embedder_ordinal import EmbedderOrdinal\n",
    "from sklearn.metrics import confusion_matrix\n"
   ]
  },
  {
   "cell_type": "code",
   "execution_count": 41,
   "id": "dd287b9b-3c48-4ba7-98d1-7b3b46aa2d05",
   "metadata": {},
   "outputs": [],
   "source": [
    "## Replicate standard regression training DONE\n"
   ]
  },
  {
   "cell_type": "code",
   "execution_count": 42,
   "id": "33b65005-6834-4f22-8d92-cbd5d63ddf6a",
   "metadata": {},
   "outputs": [],
   "source": [
    "## Discretize the range"
   ]
  },
  {
   "cell_type": "code",
   "execution_count": 43,
   "id": "e7b29be6-08fd-4209-a077-af9eeb81f00c",
   "metadata": {},
   "outputs": [],
   "source": [
    "## Train a classification model"
   ]
  },
  {
   "cell_type": "code",
   "execution_count": 44,
   "id": "bc35a80a-38f4-40a6-83be-ff490be91fc5",
   "metadata": {},
   "outputs": [],
   "source": [
    "## Use gumbel softmax function"
   ]
  },
  {
   "cell_type": "code",
   "execution_count": 45,
   "id": "976f57d4-d3de-47a7-b0cc-7ea91d8a2a74",
   "metadata": {},
   "outputs": [],
   "source": [
    "config = Config()"
   ]
  },
  {
   "cell_type": "code",
   "execution_count": 46,
   "id": "10055e0b-a799-4747-bb8d-12365b548efe",
   "metadata": {},
   "outputs": [],
   "source": [
    "config.USE_GUMBEL=True"
   ]
  },
  {
   "cell_type": "code",
   "execution_count": 47,
   "id": "73df279c-f81e-4bd9-852d-6ece63c8ac68",
   "metadata": {},
   "outputs": [],
   "source": [
    "config.N_CLASSES=6"
   ]
  },
  {
   "cell_type": "code",
   "execution_count": 48,
   "id": "ae9b9d97-b663-40f2-be12-493dbfde5a7c",
   "metadata": {},
   "outputs": [],
   "source": [
    "config.D_MODEL=128"
   ]
  },
  {
   "cell_type": "code",
   "execution_count": 49,
   "id": "5da6f2ad-a260-40af-a6eb-fd804da3ea44",
   "metadata": {},
   "outputs": [],
   "source": [
    "config.bins_uniformise_INFERENCE=config.N_CLASSES-1"
   ]
  },
  {
   "cell_type": "code",
   "execution_count": 50,
   "id": "be9ab62e-2374-4458-bb1f-859b0f552358",
   "metadata": {},
   "outputs": [],
   "source": [
    "config.use_uniform_data_INFERENCE = True"
   ]
  },
  {
   "cell_type": "markdown",
   "id": "a7ff7350-d53a-49fb-80a5-5ab4bed29481",
   "metadata": {},
   "source": [
    "## Replicate standard regression training"
   ]
  },
  {
   "cell_type": "code",
   "execution_count": 51,
   "id": "51784d29-c075-4e71-a4c5-195adfe8260a",
   "metadata": {},
   "outputs": [],
   "source": [
    "data_folder= '/Users/sebas/projects/data/'\n",
    "dataset_path= data_folder +'merged_gnps_nist_20240311_unique_smiles_1_million.pkl'"
   ]
  },
  {
   "cell_type": "code",
   "execution_count": 52,
   "id": "8f5c17c1-6890-43dc-a157-dd9275f8c3d8",
   "metadata": {},
   "outputs": [],
   "source": [
    "config.dataset_path=dataset_path\n",
    "config.CHECKPOINT_DIR = data_folder + 'temp_training/'"
   ]
  },
  {
   "cell_type": "code",
   "execution_count": 53,
   "id": "dac9e724-a623-48c2-9744-644d9e42b6eb",
   "metadata": {},
   "outputs": [],
   "source": [
    "# parameters\n",
    "dataset_path = config.dataset_path\n",
    "epochs = config.epochs\n",
    "bins_uniformise_inference = config.bins_uniformise_INFERENCE\n",
    "enable_progress_bar = config.enable_progress_bar\n",
    "fig_path = config.CHECKPOINT_DIR + f\"scatter_plot_{config.MODEL_CODE}.png\"\n",
    "model_code = config.MODEL_CODE"
   ]
  },
  {
   "cell_type": "code",
   "execution_count": 54,
   "id": "45fd05a4-fb95-4cc9-bfef-b255f5eda9cb",
   "metadata": {},
   "outputs": [
    {
     "name": "stdout",
     "output_type": "stream",
     "text": [
      "loading file\n"
     ]
    }
   ],
   "source": [
    "print(\"loading file\")\n",
    "# Load the dataset from the pickle file\n",
    "with open(dataset_path, \"rb\") as file:\n",
    "    dataset = dill.load(file)\n",
    "\n",
    "molecule_pairs_train = dataset[\"molecule_pairs_train\"]\n",
    "molecule_pairs_val = dataset[\"molecule_pairs_val\"]\n",
    "molecule_pairs_test = dataset[\"molecule_pairs_test\"]\n",
    "uniformed_molecule_pairs_test = dataset[\"uniformed_molecule_pairs_test\"]"
   ]
  },
  {
   "cell_type": "code",
   "execution_count": 55,
   "id": "6bca18c0-f970-43cd-8f77-1edcbb48346a",
   "metadata": {},
   "outputs": [
    {
     "name": "stdout",
     "output_type": "stream",
     "text": [
      "Number of pairs for train: 955957\n",
      "Number of pairs for val: 586692\n",
      "Number of pairs for test: 586781\n",
      "Number of pairs for uniform test: 40940\n"
     ]
    }
   ],
   "source": [
    "\n",
    "print(f\"Number of pairs for train: {len(molecule_pairs_train)}\")\n",
    "print(f\"Number of pairs for val: {len(molecule_pairs_val)}\")\n",
    "print(f\"Number of pairs for test: {len(molecule_pairs_test)}\")\n",
    "print(f\"Number of pairs for uniform test: {len(uniformed_molecule_pairs_test)}\")"
   ]
  },
  {
   "cell_type": "code",
   "execution_count": 56,
   "id": "d92249b2-fa13-4bb2-899e-d55f21502b57",
   "metadata": {},
   "outputs": [],
   "source": [
    "## CALCULATION OF WEIGHTS\n",
    "train_binned_list, _ = TrainUtils.divide_data_into_bins(\n",
    "    molecule_pairs_train,\n",
    "    config.N_CLASSES-1,\n",
    "    bin_sim_1=True, \n",
    ")\n",
    "#train_binned_list, _ = TrainUtils.divide_data_into_bins(\n",
    "#    molecule_pairs_train,\n",
    "#    config.N_CLASSES-1,\n",
    "#    bin_sim_1=False, \n",
    "#)\n"
   ]
  },
  {
   "cell_type": "code",
   "execution_count": 57,
   "id": "c459814c-24fc-4714-8a18-0d536e685453",
   "metadata": {},
   "outputs": [
    {
     "data": {
      "text/plain": [
       "[(299985, 3), (166229, 3), (316846, 3), (115705, 3), (25305, 3), (31887, 3)]"
      ]
     },
     "execution_count": 57,
     "metadata": {},
     "output_type": "execute_result"
    }
   ],
   "source": [
    "[t.indexes_tani.shape for t in train_binned_list]"
   ]
  },
  {
   "cell_type": "code",
   "execution_count": 58,
   "id": "1ac6b5b7-d25a-4533-b4dd-abf05336d41d",
   "metadata": {},
   "outputs": [],
   "source": [
    "weights, range_weights = WeightSampling.compute_weights_categories(train_binned_list)\n",
    "#weights, range_weights = WeightSampling.compute_weights(train_binned_list)"
   ]
  },
  {
   "cell_type": "code",
   "execution_count": 59,
   "id": "9bf55e3e-4f73-4b84-b2a8-1424cc0a3b38",
   "metadata": {},
   "outputs": [
    {
     "data": {
      "text/plain": [
       "array([0.03622318, 0.06537013, 0.03429556, 0.0939148 , 0.42941758,\n",
       "       0.34077874])"
      ]
     },
     "execution_count": 59,
     "metadata": {},
     "output_type": "execute_result"
    }
   ],
   "source": [
    "weights"
   ]
  },
  {
   "cell_type": "code",
   "execution_count": 60,
   "id": "dedcee97-15f3-41a5-9e6b-1809dd38062d",
   "metadata": {},
   "outputs": [
    {
     "data": {
      "text/plain": [
       "array([0. , 0.2, 0.4, 0.6, 0.8, 1. ])"
      ]
     },
     "execution_count": 60,
     "metadata": {},
     "output_type": "execute_result"
    }
   ],
   "source": [
    "range_weights"
   ]
  },
  {
   "cell_type": "code",
   "execution_count": 61,
   "id": "23881892-4143-421d-91f7-e7514dd1c407",
   "metadata": {},
   "outputs": [],
   "source": [
    "weights_tr = WeightSampling.compute_sample_weights_categories(molecule_pairs_train, weights)\n",
    "weights_val = WeightSampling.compute_sample_weights_categories(molecule_pairs_val, weights)\n",
    "#weights_tr = WeightSampling.compute_sample_weights(molecule_pairs_train, weights)\n",
    "#weights_val = WeightSampling.compute_sample_weights(molecule_pairs_val, weights)"
   ]
  },
  {
   "cell_type": "code",
   "execution_count": 62,
   "id": "f48b876e-ff52-49bc-828c-8c4621645fe2",
   "metadata": {},
   "outputs": [
    {
     "name": "stdout",
     "output_type": "stream",
     "text": [
      "Preprocessing all the data ...\n"
     ]
    },
    {
     "name": "stderr",
     "output_type": "stream",
     "text": [
      "\n",
      "0it [00:00, ?it/s]\u001b[A\n",
      "2887it [00:00, 28869.13it/s]\u001b[A\n",
      "5924it [00:00, 29744.78it/s]\u001b[A\n",
      "8899it [00:00, 15479.91it/s]\u001b[A\n",
      "11550it [00:00, 18270.14it/s]\u001b[A\n",
      "13847it [00:00, 19491.67it/s]\u001b[A\n",
      "18591it [00:00, 27172.95it/s]\u001b[A\n",
      "23029it [00:00, 32023.58it/s]\u001b[A\n",
      "27750it [00:01, 36383.85it/s]\u001b[A\n",
      "32418it [00:01, 39378.16it/s]\u001b[A\n",
      "37442it [00:01, 42565.38it/s]\u001b[A\n",
      "42383it [00:01, 44586.71it/s]\u001b[A\n",
      "47411it [00:01, 46275.09it/s]\u001b[A\n",
      "52641it [00:01, 48068.68it/s]\u001b[A\n",
      "57855it [00:01, 49282.59it/s]\u001b[A\n",
      "63014it [00:01, 49970.43it/s]\u001b[A\n",
      "68045it [00:01, 50020.56it/s]\u001b[A\n",
      "73071it [00:01, 49697.39it/s]\u001b[A\n",
      "78058it [00:02, 49712.67it/s]\u001b[A\n",
      "83042it [00:02, 49373.04it/s]\u001b[A\n",
      "87989it [00:02, 48975.76it/s]\u001b[A\n",
      "92948it [00:02, 49155.96it/s]\u001b[A\n",
      "97929it [00:02, 49348.84it/s]\u001b[A\n",
      "103040it [00:02, 49871.54it/s]\u001b[A\n",
      "108053it [00:02, 49948.26it/s]\u001b[A\n",
      "113050it [00:02, 49951.03it/s]\u001b[A\n",
      "118047it [00:02, 49741.00it/s]\u001b[A\n",
      "123023it [00:02, 49484.70it/s]\u001b[A\n",
      "127973it [00:03, 48953.84it/s]\u001b[A\n",
      "133020it [00:03, 49401.13it/s]\u001b[A\n",
      "138140it [00:03, 49935.06it/s]\u001b[A\n",
      "143352it [00:03, 50584.69it/s]\u001b[A\n",
      "148582it [00:03, 51093.39it/s]\u001b[A\n",
      "153734it [00:03, 51220.33it/s]\u001b[A\n",
      "158860it [00:03, 51229.77it/s]\u001b[A\n",
      "163984it [00:03, 50628.22it/s]\u001b[A\n",
      "169134it [00:03, 50885.80it/s]\u001b[A\n",
      "174225it [00:03, 50390.66it/s]\u001b[A\n",
      "179267it [00:04, 49768.17it/s]\u001b[A\n",
      "184257it [00:04, 49806.19it/s]\u001b[A\n",
      "189240it [00:04, 49764.41it/s]\u001b[A\n",
      "194306it [00:04, 50030.50it/s]\u001b[A\n",
      "199311it [00:04, 49924.52it/s]\u001b[A\n",
      "204387it [00:04, 50171.93it/s]\u001b[A\n",
      "209405it [00:04, 49748.00it/s]\u001b[A\n",
      "214501it [00:04, 50105.96it/s]\u001b[A\n",
      "219667it [00:04, 50567.31it/s]\u001b[A\n",
      "224773it [00:04, 50713.68it/s]\u001b[A\n",
      "229846it [00:05, 50465.90it/s]\u001b[A\n",
      "234894it [00:05, 49983.29it/s]\u001b[A\n",
      "240000it [00:05, 50302.28it/s]\u001b[A\n",
      "245108it [00:05, 50530.94it/s]\u001b[A\n",
      "250169it [00:05, 50553.97it/s]\u001b[A\n",
      "255318it [00:05, 50831.43it/s]\u001b[A\n",
      "261349it [00:05, 46183.40it/s]\u001b[A\n"
     ]
    },
    {
     "name": "stdout",
     "output_type": "stream",
     "text": [
      "Finished preprocessing \n",
      "loading data\n",
      "Normalizing intensities\n",
      "Creating dictionaries\n",
      "Preprocessing all the data ...\n"
     ]
    },
    {
     "name": "stderr",
     "output_type": "stream",
     "text": [
      "\n",
      "0it [00:00, ?it/s]\u001b[A\n",
      "2043it [00:00, 20426.76it/s]\u001b[A\n",
      "6908it [00:00, 37023.86it/s]\u001b[A\n",
      "11860it [00:00, 42726.39it/s]\u001b[A\n",
      "16888it [00:00, 45706.22it/s]\u001b[A\n",
      "22006it [00:00, 47678.22it/s]\u001b[A\n",
      "31318it [00:00, 45847.15it/s]\u001b[A\n"
     ]
    },
    {
     "name": "stdout",
     "output_type": "stream",
     "text": [
      "Finished preprocessing \n",
      "loading data\n",
      "Normalizing intensities\n",
      "Creating dictionaries\n"
     ]
    }
   ],
   "source": [
    "dataset_train = LoadDataOrdinal.from_molecule_pairs_to_dataset(molecule_pairs_train, training=True)\n",
    "# dataset_test = LoadData.from_molecule_pairs_to_dataset(m_test)\n",
    "dataset_val = LoadDataOrdinal.from_molecule_pairs_to_dataset(molecule_pairs_val)"
   ]
  },
  {
   "cell_type": "code",
   "execution_count": 63,
   "id": "ebafb216-c191-4848-9560-8bad7979f4ab",
   "metadata": {},
   "outputs": [],
   "source": [
    "# delete variables that are not useful for memory savings\n",
    "del molecule_pairs_train\n",
    "del molecule_pairs_val\n",
    "del molecule_pairs_test\n",
    "del uniformed_molecule_pairs_test"
   ]
  },
  {
   "cell_type": "code",
   "execution_count": 64,
   "id": "7c68ebb4-c16e-47dd-8958-d9fd57ee3b62",
   "metadata": {},
   "outputs": [],
   "source": [
    "class CustomWeightedRandomSampler(WeightedRandomSampler):\n",
    "    \"\"\"WeightedRandomSampler except allows for more than 2^24 samples to be sampled\"\"\"\n",
    "\n",
    "    def __init__(self, *args, **kwargs):\n",
    "        super().__init__(*args, **kwargs)\n",
    "\n",
    "    def __iter__(self):\n",
    "        rand_tensor = np.random.choice(\n",
    "            range(0, len(self.weights)),\n",
    "            size=self.num_samples,\n",
    "            p=self.weights.numpy() / torch.sum(self.weights).numpy(),\n",
    "            replace=self.replacement,\n",
    "        )\n",
    "        rand_tensor = torch.from_numpy(rand_tensor)\n",
    "        return iter(rand_tensor.tolist())\n",
    "\n",
    "\n",
    "train_sampler = CustomWeightedRandomSampler(\n",
    "    weights=weights_tr, num_samples=len(dataset_train), replacement=True\n",
    ")\n",
    "val_sampler = CustomWeightedRandomSampler(\n",
    "    weights=weights_val, num_samples=len(dataset_val), replacement=True\n",
    ")"
   ]
  },
  {
   "cell_type": "code",
   "execution_count": 65,
   "id": "d880fcb2-18e8-4e78-b621-2e03decb8b31",
   "metadata": {},
   "outputs": [
    {
     "name": "stdout",
     "output_type": "stream",
     "text": [
      "Creating train data loader\n"
     ]
    }
   ],
   "source": [
    "print(\"Creating train data loader\")\n",
    "dataloader_train = DataLoader(\n",
    "    dataset_train, batch_size=config.BATCH_SIZE, sampler=train_sampler, num_workers=10\n",
    ")"
   ]
  },
  {
   "cell_type": "code",
   "execution_count": 66,
   "id": "d11f89ec-2c40-4084-a7f5-68cf41a12bca",
   "metadata": {},
   "outputs": [
    {
     "name": "stdout",
     "output_type": "stream",
     "text": [
      "Creating val data loader\n"
     ]
    }
   ],
   "source": [
    "def worker_init_fn(\n",
    "    worker_id,\n",
    "):  # ensure the dataloader for validation is the same for every epoch\n",
    "    seed = 42\n",
    "    torch.manual_seed(seed)\n",
    "    # Set the same seed for reproducibility in NumPy and Python's random module\n",
    "    np.random.seed(seed)\n",
    "    random.seed(seed)\n",
    "\n",
    "\n",
    "print(\"Creating val data loader\")\n",
    "dataloader_val = DataLoader(\n",
    "    dataset_val,\n",
    "    batch_size=config.BATCH_SIZE,\n",
    "    sampler=val_sampler,\n",
    "    worker_init_fn=worker_init_fn,\n",
    "    num_workers=0,\n",
    ")\n"
   ]
  },
  {
   "cell_type": "code",
   "execution_count": 67,
   "id": "05c29323-4664-43de-9dca-c1bae2f40d28",
   "metadata": {},
   "outputs": [
    {
     "name": "stdout",
     "output_type": "stream",
     "text": [
      "define model\n"
     ]
    }
   ],
   "source": [
    "# Define the ModelCheckpoint callback\n",
    "checkpoint_callback = pl.callbacks.ModelCheckpoint(\n",
    "    dirpath=config.CHECKPOINT_DIR,\n",
    "    filename=\"best_model\",\n",
    "    monitor=\"validation_loss_epoch\",\n",
    "    mode=\"min\",\n",
    "    save_top_k=1,\n",
    ")\n",
    "\n",
    "checkpoint_n_steps_callback = pl.callbacks.ModelCheckpoint(\n",
    "    dirpath=config.CHECKPOINT_DIR,\n",
    "    filename=\"best_model_n_steps\",\n",
    "    every_n_train_steps=1000,\n",
    "    save_last=True,\n",
    "    save_top_k=1,\n",
    ")\n",
    "\n",
    "\n",
    "# checkpoint_callback = SaveBestModelCallback(file_path=config.best_model_path)\n",
    "progress_bar_callback = ProgressBar()\n",
    "\n",
    "# loss callback\n",
    "losscallback = LossCallback(file_path=config.CHECKPOINT_DIR + f\"loss.png\")\n",
    "print(\"define model\")\n"
   ]
  },
  {
   "cell_type": "code",
   "execution_count": 68,
   "id": "f6b6c99e-dc36-40b7-abad-e291ab7ad351",
   "metadata": {},
   "outputs": [
    {
     "data": {
      "text/plain": [
       "True"
      ]
     },
     "execution_count": 68,
     "metadata": {},
     "output_type": "execute_result"
    }
   ],
   "source": [
    "config.USE_GUMBEL"
   ]
  },
  {
   "cell_type": "code",
   "execution_count": 69,
   "id": "89ddc30d-eacd-4672-bbac-336a42cc9799",
   "metadata": {},
   "outputs": [
    {
     "name": "stdout",
     "output_type": "stream",
     "text": [
      "Using cosine library from Pytorch?: True\n"
     ]
    }
   ],
   "source": [
    "model = EmbedderOrdinal(\n",
    "    d_model=int(config.D_MODEL),\n",
    "    n_layers=int(config.N_LAYERS),\n",
    "    n_classes=config.N_CLASSES,\n",
    "    weights=None,\n",
    "    lr=config.LR,\n",
    "    use_cosine_distance=config.use_cosine_distance,\n",
    "    use_gumbel = config.USE_GUMBEL,\n",
    ")"
   ]
  },
  {
   "cell_type": "code",
   "execution_count": 70,
   "id": "cbc82451-ae9a-4005-8269-153002f9ebbc",
   "metadata": {},
   "outputs": [
    {
     "name": "stderr",
     "output_type": "stream",
     "text": [
      "GPU available: True (mps), used: True\n",
      "TPU available: False, using: 0 TPU cores\n",
      "IPU available: False, using: 0 IPUs\n",
      "HPU available: False, using: 0 HPUs\n",
      "/Users/sebas/miniconda3/envs/transformers/lib/python3.11/site-packages/lightning/pytorch/callbacks/model_checkpoint.py:639: Checkpoint directory /Users/sebas/projects/data/temp_training exists and is not empty.\n",
      "\n",
      "   | Name                    | Type                             | Params\n",
      "------------------------------------------------------------------------------\n",
      "0  | linear                  | Linear                           | 16.5 K\n",
      "1  | linear_regression       | Linear                           | 129   \n",
      "2  | fixed_linear_regression | FixedLinearRegression            | 129   \n",
      "3  | relu                    | ReLU                             | 0     \n",
      "4  | spectrum_encoder        | SpectrumTransformerEncoderCustom | 1.7 M \n",
      "5  | regression_loss         | MSELoss                          | 0     \n",
      "6  | dropout                 | Dropout                          | 0     \n",
      "7  | linear_cosine           | Linear                           | 16.5 K\n",
      "8  | cosine_similarity       | CosineSimilarity                 | 0     \n",
      "9  | classifier              | Linear                           | 774   \n",
      "10 | loss_fn                 | CrossEntropyLoss                 | 0     \n",
      "------------------------------------------------------------------------------\n",
      "1.7 M     Trainable params\n",
      "129       Non-trainable params\n",
      "1.7 M     Total params\n",
      "6.864     Total estimated model params size (MB)\n"
     ]
    },
    {
     "data": {
      "application/vnd.jupyter.widget-view+json": {
       "model_id": "",
       "version_major": 2,
       "version_minor": 0
      },
      "text/plain": [
       "Sanity Checking: |                                                                                            …"
      ]
     },
     "metadata": {},
     "output_type": "display_data"
    },
    {
     "name": "stderr",
     "output_type": "stream",
     "text": [
      "/Users/sebas/miniconda3/envs/transformers/lib/python3.11/site-packages/lightning/pytorch/trainer/connectors/data_connector.py:441: The 'val_dataloader' does not have many workers which may be a bottleneck. Consider increasing the value of the `num_workers` argument` to `num_workers=10` in the `DataLoader` to improve performance.\n",
      "/Users/sebas/projects/metabolomics/src/transformers/spectrum_transformer_encoder_custom.py:17: UserWarning: To copy construct from a tensor, it is recommended to use sourceTensor.clone().detach() or sourceTensor.clone().detach().requires_grad_(True), rather than torch.tensor(sourceTensor).\n",
      "  mass_precursor = torch.tensor(kwargs[\"precursor_mass\"].float())\n",
      "/Users/sebas/projects/metabolomics/src/transformers/spectrum_transformer_encoder_custom.py:18: UserWarning: To copy construct from a tensor, it is recommended to use sourceTensor.clone().detach() or sourceTensor.clone().detach().requires_grad_(True), rather than torch.tensor(sourceTensor).\n",
      "  charge_precursor = torch.tensor(kwargs[\"precursor_charge\"].float())\n",
      "/Users/sebas/projects/metabolomics/src/ordinal_classification/embedder_ordinal.py:111: UserWarning: To copy construct from a tensor, it is recommended to use sourceTensor.clone().detach() or sourceTensor.clone().detach().requires_grad_(True), rather than torch.tensor(sourceTensor).\n",
      "  target = torch.tensor(batch[\"similarity\"]).to(self.device)\n"
     ]
    },
    {
     "name": "stdout",
     "output_type": "stream",
     "text": [
      "Train loss:\n",
      "[]\n",
      "Validation loss\n",
      "[4.768124580383301]\n"
     ]
    },
    {
     "name": "stderr",
     "output_type": "stream",
     "text": [
      "/Users/sebas/miniconda3/envs/transformers/lib/python3.11/site-packages/lightning/pytorch/trainer/connectors/data_connector.py:436: Consider setting `persistent_workers=True` in 'train_dataloader' to speed up the dataloader worker initialization.\n"
     ]
    },
    {
     "data": {
      "application/vnd.jupyter.widget-view+json": {
       "model_id": "ea26188d8b6b4c0d8156a01f0bc182b4",
       "version_major": 2,
       "version_minor": 0
      },
      "text/plain": [
       "Training: |                                                                                                   …"
      ]
     },
     "metadata": {},
     "output_type": "display_data"
    },
    {
     "name": "stderr",
     "output_type": "stream",
     "text": [
      "/Users/sebas/miniconda3/envs/transformers/lib/python3.11/site-packages/lightning/pytorch/callbacks/model_checkpoint.py:369: `ModelCheckpoint(monitor='validation_loss_epoch')` could not find the monitored key in the returned metrics: ['train_loss', 'train_loss_step', 'train_loss_epoch', 'epoch', 'step']. HINT: Did you call `log('validation_loss_epoch', value)` in the `LightningModule`?\n",
      "`Trainer.fit` stopped: `max_steps=1000` reached.\n",
      "Exception ignored in: <function _MultiProcessingDataLoaderIter.__del__ at 0x10eb040e0>\n",
      "Traceback (most recent call last):\n",
      "  File \"/Users/sebas/miniconda3/envs/transformers/lib/python3.11/site-packages/torch/utils/data/dataloader.py\", line 1479, in __del__\n",
      "    self._shutdown_workers()\n",
      "  File \"/Users/sebas/miniconda3/envs/transformers/lib/python3.11/site-packages/torch/utils/data/dataloader.py\", line 1443, in _shutdown_workers\n",
      "    w.join(timeout=_utils.MP_STATUS_CHECK_INTERVAL)\n",
      "  File \"/Users/sebas/miniconda3/envs/transformers/lib/python3.11/multiprocessing/process.py\", line 149, in join\n",
      "    res = self._popen.wait(timeout)\n",
      "          ^^^^^^^^^^^^^^^^^^^^^^^^^\n",
      "  File \"/Users/sebas/miniconda3/envs/transformers/lib/python3.11/multiprocessing/popen_fork.py\", line 40, in wait\n",
      "    if not wait([self.sentinel], timeout):\n",
      "           ^^^^^^^^^^^^^^^^^^^^^^^^^^^^^^\n",
      "  File \"/Users/sebas/miniconda3/envs/transformers/lib/python3.11/multiprocessing/connection.py\", line 947, in wait\n",
      "    ready = selector.select(timeout)\n",
      "            ^^^^^^^^^^^^^^^^^^^^^^^^\n",
      "  File \"/Users/sebas/miniconda3/envs/transformers/lib/python3.11/selectors.py\", line 415, in select\n",
      "    fd_event_list = self._selector.poll(timeout)\n",
      "                    ^^^^^^^^^^^^^^^^^^^^^^^^^^^^\n",
      "KeyboardInterrupt: \n"
     ]
    },
    {
     "name": "stdout",
     "output_type": "stream",
     "text": [
      "Error in callback <function flush_figures at 0x2ec2d4220> (for post_execute), with arguments args (),kwargs {}:\n"
     ]
    },
    {
     "name": "stderr",
     "output_type": "stream",
     "text": [
      "\n",
      "KeyboardInterrupt\n",
      "\n"
     ]
    }
   ],
   "source": [
    "trainer = pl.Trainer(\n",
    "    max_steps=1000,\n",
    "    #max_epochs=1,\n",
    "    callbacks=[checkpoint_callback, checkpoint_n_steps_callback, losscallback],\n",
    "    enable_progress_bar=enable_progress_bar,\n",
    "    # val_check_interval= config.validate_after_ratio,\n",
    ")\n",
    "# trainer = pl.Trainer(max_steps=100,  callbacks=[checkpoint_callback, losscallback], enable_progress_bar=enable_progress_bar)\n",
    "trainer.fit(\n",
    "    model=model,\n",
    "    train_dataloaders=(dataloader_train),\n",
    "    val_dataloaders=dataloader_val,\n",
    ")"
   ]
  },
  {
   "cell_type": "markdown",
   "id": "4697fd13-b60f-47e0-b12d-d401f5a7c82a",
   "metadata": {},
   "source": [
    "## Inference"
   ]
  },
  {
   "cell_type": "code",
   "execution_count": 92,
   "id": "630c93ea-c557-4b3d-9466-fbfb649622d6",
   "metadata": {},
   "outputs": [],
   "source": [
    "#best_model_path = model_path = data_folder + 'best_model_exhaustive_sampled_128n_20240618.ckpt'\n",
    "#best_model_path = config.CHECKPOINT_DIR + f\"best_model_n_steps-v9.ckpt\"\n",
    "best_model_path = config.CHECKPOINT_DIR + f\"last-v9.ckpt\""
   ]
  },
  {
   "cell_type": "code",
   "execution_count": 93,
   "id": "ff35bf92-f0fe-425f-989f-efd52f2917fc",
   "metadata": {},
   "outputs": [
    {
     "name": "stdout",
     "output_type": "stream",
     "text": [
      "Number of molecule pairs: 586781\n",
      "Uniformize the data\n"
     ]
    }
   ],
   "source": [
    "molecule_pairs_test = dataset[\"molecule_pairs_test\"]\n",
    "print(f\"Number of molecule pairs: {len(molecule_pairs_test)}\")\n",
    "print(\"Uniformize the data\")\n",
    "uniformed_molecule_pairs_test, _ = TrainUtils.uniformise(\n",
    "    molecule_pairs_test,\n",
    "    number_bins=bins_uniformise_inference,\n",
    "    return_binned_list=True,\n",
    "    bin_sim_1=True,\n",
    "    #bin_sim_1=False,\n",
    ")  # do not treat sim==1 as another bin"
   ]
  },
  {
   "cell_type": "code",
   "execution_count": 94,
   "id": "3ce7a4d3-f77f-477a-8568-d57f58a52d23",
   "metadata": {},
   "outputs": [
    {
     "name": "stdout",
     "output_type": "stream",
     "text": [
      "Preprocessing all the data ...\n"
     ]
    },
    {
     "name": "stderr",
     "output_type": "stream",
     "text": [
      "\n",
      "0it [00:00, ?it/s]\u001b[A\n",
      "2083it [00:00, 20828.13it/s]\u001b[A\n",
      "6982it [00:00, 37391.62it/s]\u001b[A\n",
      "11917it [00:00, 42850.07it/s]\u001b[A\n",
      "16879it [00:00, 45520.45it/s]\u001b[A\n",
      "21955it [00:00, 47409.24it/s]\u001b[A\n",
      "26810it [00:00, 47793.49it/s]\u001b[A\n",
      "33719it [00:00, 45683.52it/s]\u001b[A\n"
     ]
    },
    {
     "name": "stdout",
     "output_type": "stream",
     "text": [
      "Finished preprocessing \n",
      "loading data\n",
      "Normalizing intensities\n",
      "Creating dictionaries\n"
     ]
    }
   ],
   "source": [
    "# dataset_train = LoadData.from_molecule_pairs_to_dataset(m_train)\n",
    "dataset_test = LoadDataOrdinal.from_molecule_pairs_to_dataset(uniformed_molecule_pairs_test)\n",
    "dataloader_test = DataLoader(dataset_test, batch_size=config.BATCH_SIZE, shuffle=False)"
   ]
  },
  {
   "cell_type": "code",
   "execution_count": 95,
   "id": "ef21da6a-e798-4221-895c-706c8194ec4e",
   "metadata": {},
   "outputs": [
    {
     "name": "stderr",
     "output_type": "stream",
     "text": [
      "GPU available: True (mps), used: True\n",
      "TPU available: False, using: 0 TPU cores\n",
      "IPU available: False, using: 0 IPUs\n",
      "HPU available: False, using: 0 HPUs\n"
     ]
    },
    {
     "name": "stdout",
     "output_type": "stream",
     "text": [
      "Using cosine library from Pytorch?: True\n"
     ]
    }
   ],
   "source": [
    "# Testinbest_model = Embedder.load_from_checkpoint(checkpoint_callback.best_model_path, d_model=64, n_layers=2)\n",
    "trainer = pl.Trainer(max_epochs=2, enable_progress_bar=enable_progress_bar)\n",
    "best_model = EmbedderOrdinal.load_from_checkpoint(\n",
    "    best_model_path,\n",
    "    d_model=int(config.D_MODEL),\n",
    "    n_layers=int(config.N_LAYERS),\n",
    "    n_classes=config.N_CLASSES,\n",
    "    use_gumbel=config.USE_GUMBEL,\n",
    "    use_element_wise=True,\n",
    "    use_cosine_distance=config.use_cosine_distance,\n",
    "    \n",
    ")"
   ]
  },
  {
   "cell_type": "markdown",
   "id": "418943e0-6698-4c7f-8502-615c7178e9a9",
   "metadata": {},
   "source": [
    "## Postprocessing"
   ]
  },
  {
   "cell_type": "code",
   "execution_count": 96,
   "id": "6e76a267-27e5-40cf-aacd-aa7a810a53c0",
   "metadata": {},
   "outputs": [
    {
     "name": "stderr",
     "output_type": "stream",
     "text": [
      "/Users/sebas/miniconda3/envs/transformers/lib/python3.11/site-packages/lightning/pytorch/trainer/connectors/data_connector.py:441: The 'predict_dataloader' does not have many workers which may be a bottleneck. Consider increasing the value of the `num_workers` argument` to `num_workers=10` in the `DataLoader` to improve performance.\n"
     ]
    },
    {
     "data": {
      "application/vnd.jupyter.widget-view+json": {
       "model_id": "48f861b911b04afa86ba13aeffdc81f9",
       "version_major": 2,
       "version_minor": 0
      },
      "text/plain": [
       "Predicting: |                                                                                                 …"
      ]
     },
     "metadata": {},
     "output_type": "display_data"
    },
    {
     "name": "stderr",
     "output_type": "stream",
     "text": [
      "/Users/sebas/projects/metabolomics/src/transformers/spectrum_transformer_encoder_custom.py:17: UserWarning: To copy construct from a tensor, it is recommended to use sourceTensor.clone().detach() or sourceTensor.clone().detach().requires_grad_(True), rather than torch.tensor(sourceTensor).\n",
      "  mass_precursor = torch.tensor(kwargs[\"precursor_mass\"].float())\n",
      "/Users/sebas/projects/metabolomics/src/transformers/spectrum_transformer_encoder_custom.py:18: UserWarning: To copy construct from a tensor, it is recommended to use sourceTensor.clone().detach() or sourceTensor.clone().detach().requires_grad_(True), rather than torch.tensor(sourceTensor).\n",
      "  charge_precursor = torch.tensor(kwargs[\"precursor_charge\"].float())\n"
     ]
    }
   ],
   "source": [
    "pred_test = trainer.predict(\n",
    "    best_model,\n",
    "    dataloader_test,\n",
    ")\n",
    "similarities_test = Postprocessing.get_similarities(dataloader_test)\n"
   ]
  },
  {
   "cell_type": "code",
   "execution_count": null,
   "id": "f3832f11-aa18-493d-81b0-d385ed942380",
   "metadata": {},
   "outputs": [],
   "source": []
  },
  {
   "cell_type": "code",
   "execution_count": 97,
   "id": "ed193cae-6b56-4192-b4f8-75a7959341ec",
   "metadata": {},
   "outputs": [
    {
     "name": "stdout",
     "output_type": "stream",
     "text": [
      "tensor([0., 0., 1., 0., 0., 0.])\n",
      "0.0\n"
     ]
    }
   ],
   "source": [
    "print(pred_test[0][4])\n",
    "print(similarities_test[127])"
   ]
  },
  {
   "cell_type": "code",
   "execution_count": 98,
   "id": "29686961-fd1c-4499-994d-cba9455bf744",
   "metadata": {},
   "outputs": [
    {
     "data": {
      "text/plain": [
       "tensor([0., 0., 1., 0., 0., 0.])"
      ]
     },
     "execution_count": 98,
     "metadata": {},
     "output_type": "execute_result"
    }
   ],
   "source": [
    "pred_test[0][6]"
   ]
  },
  {
   "cell_type": "code",
   "execution_count": 99,
   "id": "a806fe48-48af-4a63-8d02-33dffaf24951",
   "metadata": {},
   "outputs": [
    {
     "data": {
      "text/plain": [
       "tensor([0])"
      ]
     },
     "execution_count": 99,
     "metadata": {},
     "output_type": "execute_result"
    }
   ],
   "source": [
    "np.argwhere(pred_test[0][0]>0.1)[0]"
   ]
  },
  {
   "cell_type": "code",
   "execution_count": 100,
   "id": "93bf3f14-bce8-4f56-aefb-6e863d088c4e",
   "metadata": {},
   "outputs": [
    {
     "data": {
      "text/plain": [
       "1"
      ]
     },
     "execution_count": 100,
     "metadata": {},
     "output_type": "execute_result"
    }
   ],
   "source": [
    "np.argwhere(pred_test[0][0]>0.9)[0].numel()"
   ]
  },
  {
   "cell_type": "code",
   "execution_count": 101,
   "id": "3efbd59f-b16a-4afe-94b2-fe6b5bd538d3",
   "metadata": {},
   "outputs": [],
   "source": [
    "def which_index(p, threshold=0.999):\n",
    "    result= np.argwhere(p>threshold)[0]\n",
    "     #\n",
    "    if result.numel()==0:\n",
    "        #return np.argmax(p)\n",
    "        return np.nan\n",
    "    else:\n",
    "        return result[-1]\n",
    "    #return np.argmax(p)"
   ]
  },
  {
   "cell_type": "code",
   "execution_count": 102,
   "id": "38027803-5bf6-429e-8af7-6b57d0a16ea4",
   "metadata": {},
   "outputs": [],
   "source": [
    "# flat the results\n",
    "flat_pred_test = []\n",
    "for pred in pred_test:\n",
    "    flat_pred_test = flat_pred_test + [which_index(p) for p in pred]\n",
    "flat_pred_test=np.array( flat_pred_test)"
   ]
  },
  {
   "cell_type": "code",
   "execution_count": 103,
   "id": "6d41876a-8d30-4410-ab8f-f6793d94de2b",
   "metadata": {},
   "outputs": [],
   "source": [
    "#list(pred_test)"
   ]
  },
  {
   "cell_type": "code",
   "execution_count": 104,
   "id": "9833ec32-3fa5-4b1c-99db-bb9c1af4b816",
   "metadata": {},
   "outputs": [
    {
     "data": {
      "text/plain": [
       "0"
      ]
     },
     "execution_count": 104,
     "metadata": {},
     "output_type": "execute_result"
    }
   ],
   "source": [
    "flat_pred_test[0]"
   ]
  },
  {
   "cell_type": "markdown",
   "id": "c6d7f960-61ab-4f66-b368-9d2e03183146",
   "metadata": {},
   "source": [
    "## Corr. Analysis"
   ]
  },
  {
   "cell_type": "code",
   "execution_count": 105,
   "id": "2a8f21cf-d6f5-486e-b288-687bfef31255",
   "metadata": {},
   "outputs": [],
   "source": [
    "similarities_test=np.array(similarities_test)\n",
    "flat_pred_test=np.array(flat_pred_test)"
   ]
  },
  {
   "cell_type": "code",
   "execution_count": 106,
   "id": "1844d700-0a97-499a-bb00-505088ab2ac0",
   "metadata": {},
   "outputs": [
    {
     "data": {
      "text/plain": [
       "16002"
      ]
     },
     "execution_count": 106,
     "metadata": {},
     "output_type": "execute_result"
    }
   ],
   "source": [
    "len(similarities_test)"
   ]
  },
  {
   "cell_type": "code",
   "execution_count": 107,
   "id": "29db856e-e838-4e2e-9bf1-b80da6ddd99e",
   "metadata": {},
   "outputs": [],
   "source": [
    "similarities_test_cleaned= similarities_test[~np.isnan(flat_pred_test)]\n",
    "flat_pred_test_cleaned= flat_pred_test[~np.isnan(flat_pred_test)]"
   ]
  },
  {
   "cell_type": "code",
   "execution_count": 108,
   "id": "fbc80724-d43d-4be4-97c3-aa30af919314",
   "metadata": {},
   "outputs": [
    {
     "data": {
      "text/plain": [
       "16002"
      ]
     },
     "execution_count": 108,
     "metadata": {},
     "output_type": "execute_result"
    }
   ],
   "source": [
    "len(similarities_test_cleaned)"
   ]
  },
  {
   "cell_type": "code",
   "execution_count": 109,
   "id": "3adb6895-6dd9-456d-ae94-e2cc661ea771",
   "metadata": {},
   "outputs": [],
   "source": [
    "\n",
    "corr_model, p_value_model= spearmanr(similarities_test_cleaned, flat_pred_test_cleaned)\n"
   ]
  },
  {
   "cell_type": "code",
   "execution_count": 110,
   "id": "df664992-309d-463a-af4c-fcb3d4df88fb",
   "metadata": {},
   "outputs": [
    {
     "data": {
      "text/plain": [
       "0.262459625962496"
      ]
     },
     "execution_count": 110,
     "metadata": {},
     "output_type": "execute_result"
    }
   ],
   "source": [
    "corr_model"
   ]
  },
  {
   "cell_type": "code",
   "execution_count": 111,
   "id": "8e2ffb6c-3c55-4e39-a965-036cafc89193",
   "metadata": {},
   "outputs": [
    {
     "data": {
      "image/png": "[encoded data removed]",
      "text/plain": [
       "<Figure size 1000x700 with 2 Axes>"
      ]
     },
     "metadata": {},
     "output_type": "display_data"
    }
   ],
   "source": [
    "# Compute the confusion matrix\n",
    "cm = confusion_matrix(similarities_test_cleaned, flat_pred_test_cleaned)\n",
    "# Normalize the confusion matrix by the number of true instances for each class\n",
    "cm_normalized = cm.astype('float') / cm.sum()\n",
    "# Plot the confusion matrix with percentages\n",
    "plt.figure(figsize=(10, 7))\n",
    "sns.heatmap(cm_normalized, annot=True, fmt='.2%', cmap='Blues')\n",
    "plt.xlabel('Predicted Labels')\n",
    "plt.ylabel('True Labels')\n",
    "plt.title('Confusion Matrix (Normalized to Percentages)')\n",
    "plt.show()"
   ]
  },
  {
   "cell_type": "code",
   "execution_count": 112,
   "id": "8bd400d0-7b6f-4630-95ce-58073a4ae18a",
   "metadata": {},
   "outputs": [
    {
     "data": {
      "text/plain": [
       "<matplotlib.collections.PathCollection at 0x2d44ee910>"
      ]
     },
     "execution_count": 112,
     "metadata": {},
     "output_type": "execute_result"
    },
    {
     "data": {
      "image/png": "[encoded data removed]",
      "text/plain": [
       "<Figure size 640x480 with 1 Axes>"
      ]
     },
     "metadata": {},
     "output_type": "display_data"
    }
   ],
   "source": [
    "plt.scatter(similarities_test, flat_pred_test, alpha=0.01)"
   ]
  },
  {
   "cell_type": "markdown",
   "id": "00e12565-7d45-4b78-97b7-a856aa842859",
   "metadata": {},
   "source": [
    "##### "
   ]
  },
  {
   "cell_type": "code",
   "execution_count": null,
   "id": "caeb4537-1c62-40dd-9969-edafff25b341",
   "metadata": {},
   "outputs": [],
   "source": []
  },
  {
   "cell_type": "code",
   "execution_count": null,
   "id": "27092420-b7bb-4895-9a47-0a878cd2ff15",
   "metadata": {},
   "outputs": [],
   "source": []
  }
 ],
 "metadata": {
  "kernelspec": {
   "display_name": "Python 3 (ipykernel)",
   "language": "python",
   "name": "python3"
  },
  "language_info": {
   "codemirror_mode": {
    "name": "ipython",
    "version": 3
   },
   "file_extension": ".py",
   "mimetype": "text/x-python",
   "name": "python",
   "nbconvert_exporter": "python",
   "pygments_lexer": "ipython3",
   "version": "3.11.7"
  }
 },
 "nbformat": 4,
 "nbformat_minor": 5
}
