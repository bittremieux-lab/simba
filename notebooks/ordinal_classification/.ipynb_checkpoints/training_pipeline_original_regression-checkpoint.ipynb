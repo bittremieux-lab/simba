{
 "cells": [
  {
   "cell_type": "code",
   "execution_count": 1,
   "id": "d8e7fe9e-f02f-4659-ae80-127d5273c14c",
   "metadata": {},
   "outputs": [],
   "source": [
    "%load_ext autoreload\n",
    "%autoreload 2"
   ]
  },
  {
   "cell_type": "code",
   "execution_count": 2,
   "id": "e28d38a0-96c2-4287-bf50-d09a34042aaf",
   "metadata": {},
   "outputs": [
    {
     "data": {
      "text/plain": [
       "'/Users/sebas/projects/metabolomics/notebooks/ordinal_classification'"
      ]
     },
     "execution_count": 2,
     "metadata": {},
     "output_type": "execute_result"
    }
   ],
   "source": [
    "pwd"
   ]
  },
  {
   "cell_type": "code",
   "execution_count": 3,
   "id": "cf1f1287-543e-44ca-a947-d6d6669e7001",
   "metadata": {},
   "outputs": [],
   "source": [
    "import os \n",
    "os.chdir('/Users/sebas/projects/metabolomics/')\n",
    "# Set the environment variable\n",
    "os.environ['PYTORCH_ENABLE_MPS_FALLBACK'] = '1'"
   ]
  },
  {
   "cell_type": "code",
   "execution_count": 27,
   "id": "e34a94b0-9e6f-4b43-bfa2-1a814c9a28f5",
   "metadata": {},
   "outputs": [],
   "source": [
    "import dill\n",
    "import torch\n",
    "from torch.utils.data import DataLoader\n",
    "from src.transformers.load_data_unique import LoadDataUnique\n",
    "import lightning.pytorch as pl\n",
    "from src.transformers.embedder import Embedder\n",
    "from pytorch_lightning.callbacks import ProgressBar\n",
    "from src.train_utils import TrainUtils\n",
    "import matplotlib.pyplot as plt\n",
    "from src.config import Config\n",
    "import numpy as np\n",
    "from torch.utils.data import DataLoader, WeightedRandomSampler\n",
    "import os\n",
    "from src.parser import Parser\n",
    "import random\n",
    "from src.weight_sampling import WeightSampling\n",
    "from src.losscallback import LossCallback\n",
    "from src.molecular_pairs_set import MolecularPairsSet\n",
    "from src.sanity_checks import SanityChecks\n",
    "from src.transformers.postprocessing import Postprocessing\n",
    "from scipy.stats import spearmanr"
   ]
  },
  {
   "cell_type": "code",
   "execution_count": 5,
   "id": "dd287b9b-3c48-4ba7-98d1-7b3b46aa2d05",
   "metadata": {},
   "outputs": [],
   "source": [
    "## Replicate standard regression training\n"
   ]
  },
  {
   "cell_type": "code",
   "execution_count": 6,
   "id": "e7b29be6-08fd-4209-a077-af9eeb81f00c",
   "metadata": {},
   "outputs": [],
   "source": [
    "## Train a classification model\n"
   ]
  },
  {
   "cell_type": "code",
   "execution_count": 7,
   "id": "bc35a80a-38f4-40a6-83be-ff490be91fc5",
   "metadata": {},
   "outputs": [],
   "source": [
    "## Use gumbel softmax function"
   ]
  },
  {
   "cell_type": "markdown",
   "id": "a7ff7350-d53a-49fb-80a5-5ab4bed29481",
   "metadata": {},
   "source": [
    "## Replicate standard regression training"
   ]
  },
  {
   "cell_type": "code",
   "execution_count": 8,
   "id": "976f57d4-d3de-47a7-b0cc-7ea91d8a2a74",
   "metadata": {},
   "outputs": [],
   "source": [
    "config = Config()"
   ]
  },
  {
   "cell_type": "code",
   "execution_count": 20,
   "id": "ae9b9d97-b663-40f2-be12-493dbfde5a7c",
   "metadata": {},
   "outputs": [],
   "source": [
    "config.D_MODEL=128"
   ]
  },
  {
   "cell_type": "code",
   "execution_count": 9,
   "id": "51784d29-c075-4e71-a4c5-195adfe8260a",
   "metadata": {},
   "outputs": [],
   "source": [
    "data_folder= '/Users/sebas/projects/data/'\n",
    "dataset_path= data_folder +'merged_gnps_nist_20240311_unique_smiles_1_million.pkl'"
   ]
  },
  {
   "cell_type": "code",
   "execution_count": 10,
   "id": "8f5c17c1-6890-43dc-a157-dd9275f8c3d8",
   "metadata": {},
   "outputs": [],
   "source": [
    "config.dataset_path=dataset_path\n",
    "config.CHECKPOINT_DIR = data_folder + 'temp_training/'"
   ]
  },
  {
   "cell_type": "code",
   "execution_count": 11,
   "id": "dac9e724-a623-48c2-9744-644d9e42b6eb",
   "metadata": {},
   "outputs": [],
   "source": [
    "# parameters\n",
    "dataset_path = config.dataset_path\n",
    "epochs = config.epochs\n",
    "use_uniform_data = config.use_uniform_data_TRAINING\n",
    "bins_uniformise = config.bins_uniformise_TRAINING\n",
    "enable_progress_bar = config.enable_progress_bar\n",
    "fig_path = config.CHECKPOINT_DIR + f\"scatter_plot_{config.MODEL_CODE}.png\"\n",
    "model_code = config.MODEL_CODE"
   ]
  },
  {
   "cell_type": "code",
   "execution_count": 12,
   "id": "45fd05a4-fb95-4cc9-bfef-b255f5eda9cb",
   "metadata": {},
   "outputs": [
    {
     "name": "stdout",
     "output_type": "stream",
     "text": [
      "loading file\n"
     ]
    }
   ],
   "source": [
    "print(\"loading file\")\n",
    "# Load the dataset from the pickle file\n",
    "with open(dataset_path, \"rb\") as file:\n",
    "    dataset = dill.load(file)\n",
    "\n",
    "molecule_pairs_train = dataset[\"molecule_pairs_train\"]\n",
    "molecule_pairs_val = dataset[\"molecule_pairs_val\"]\n",
    "molecule_pairs_test = dataset[\"molecule_pairs_test\"]\n",
    "uniformed_molecule_pairs_test = dataset[\"uniformed_molecule_pairs_test\"]"
   ]
  },
  {
   "cell_type": "code",
   "execution_count": 13,
   "id": "6bca18c0-f970-43cd-8f77-1edcbb48346a",
   "metadata": {},
   "outputs": [
    {
     "name": "stdout",
     "output_type": "stream",
     "text": [
      "Number of pairs for train: 955957\n",
      "Number of pairs for val: 586692\n",
      "Number of pairs for test: 586781\n",
      "Number of pairs for uniform test: 40940\n"
     ]
    }
   ],
   "source": [
    "\n",
    "print(f\"Number of pairs for train: {len(molecule_pairs_train)}\")\n",
    "print(f\"Number of pairs for val: {len(molecule_pairs_val)}\")\n",
    "print(f\"Number of pairs for test: {len(molecule_pairs_test)}\")\n",
    "print(f\"Number of pairs for uniform test: {len(uniformed_molecule_pairs_test)}\")"
   ]
  },
  {
   "cell_type": "code",
   "execution_count": 14,
   "id": "d92249b2-fa13-4bb2-899e-d55f21502b57",
   "metadata": {},
   "outputs": [],
   "source": [
    "## CALCULATION OF WEIGHTS\n",
    "train_binned_list, _ = TrainUtils.divide_data_into_bins(\n",
    "    molecule_pairs_train,\n",
    "    config.bins_uniformise_TRAINING,\n",
    ")\n",
    "weights, range_weights = WeightSampling.compute_weights(train_binned_list)"
   ]
  },
  {
   "cell_type": "code",
   "execution_count": 15,
   "id": "23881892-4143-421d-91f7-e7514dd1c407",
   "metadata": {},
   "outputs": [],
   "source": [
    "weights_tr = WeightSampling.compute_sample_weights(molecule_pairs_train, weights)\n",
    "weights_val = WeightSampling.compute_sample_weights(molecule_pairs_val, weights)"
   ]
  },
  {
   "cell_type": "code",
   "execution_count": 16,
   "id": "d24178dd-3f70-4d21-a804-45be3d4abb47",
   "metadata": {},
   "outputs": [
    {
     "name": "stdout",
     "output_type": "stream",
     "text": [
      "loading datasets\n"
     ]
    }
   ],
   "source": [
    "print(\"loading datasets\")\n",
    "if use_uniform_data:\n",
    "    print(\"Uniformize the data\")\n",
    "    uniformed_molecule_pairs_train, train_binned_list = TrainUtils.uniformise(\n",
    "        molecule_pairs_train, number_bins=bins_uniformise, return_binned_list=True\n",
    "    )\n",
    "    uniformed_molecule_pairs_val, _ = TrainUtils.uniformise(\n",
    "        molecule_pairs_val, number_bins=bins_uniformise, return_binned_list=True\n",
    "    )\n",
    "    # uniformed_molecule_pairs_test,_ =TrainUtils.uniformise(molecule_pairs_test, number_bins=bins_uniformise, return_binned_list=True)\n",
    "    m_train = uniformed_molecule_pairs_train\n",
    "    # m_test= uniformed_molecule_pairs_test\n",
    "    m_val = uniformed_molecule_pairs_val\n",
    "else:\n",
    "    m_train = molecule_pairs_train\n",
    "    # m_test= molecule_pairs_test\n",
    "    m_val = molecule_pairs_val"
   ]
  },
  {
   "cell_type": "code",
   "execution_count": 17,
   "id": "f48b876e-ff52-49bc-828c-8c4621645fe2",
   "metadata": {},
   "outputs": [
    {
     "name": "stdout",
     "output_type": "stream",
     "text": [
      "Preprocessing all the data ...\n"
     ]
    },
    {
     "name": "stderr",
     "output_type": "stream",
     "text": [
      "261349it [00:06, 37676.49it/s]\n"
     ]
    },
    {
     "name": "stdout",
     "output_type": "stream",
     "text": [
      "Finished preprocessing \n",
      "loading data\n",
      "Normalizing intensities\n",
      "Creating dictionaries\n",
      "Preprocessing all the data ...\n"
     ]
    },
    {
     "name": "stderr",
     "output_type": "stream",
     "text": [
      "31318it [00:00, 47060.62it/s]\n"
     ]
    },
    {
     "name": "stdout",
     "output_type": "stream",
     "text": [
      "Finished preprocessing \n",
      "loading data\n",
      "Normalizing intensities\n",
      "Creating dictionaries\n"
     ]
    }
   ],
   "source": [
    "dataset_train = LoadDataUnique.from_molecule_pairs_to_dataset(m_train, training=True)\n",
    "# dataset_test = LoadData.from_molecule_pairs_to_dataset(m_test)\n",
    "dataset_val = LoadDataUnique.from_molecule_pairs_to_dataset(m_val)"
   ]
  },
  {
   "cell_type": "code",
   "execution_count": 18,
   "id": "ebafb216-c191-4848-9560-8bad7979f4ab",
   "metadata": {},
   "outputs": [],
   "source": [
    "# delete variables that are not useful for memory savings\n",
    "del molecule_pairs_train\n",
    "del molecule_pairs_val\n",
    "del molecule_pairs_test\n",
    "del uniformed_molecule_pairs_test\n",
    "del m_train\n",
    "del m_val"
   ]
  },
  {
   "cell_type": "code",
   "execution_count": 19,
   "id": "7c68ebb4-c16e-47dd-8958-d9fd57ee3b62",
   "metadata": {},
   "outputs": [],
   "source": [
    "class CustomWeightedRandomSampler(WeightedRandomSampler):\n",
    "    \"\"\"WeightedRandomSampler except allows for more than 2^24 samples to be sampled\"\"\"\n",
    "\n",
    "    def __init__(self, *args, **kwargs):\n",
    "        super().__init__(*args, **kwargs)\n",
    "\n",
    "    def __iter__(self):\n",
    "        rand_tensor = np.random.choice(\n",
    "            range(0, len(self.weights)),\n",
    "            size=self.num_samples,\n",
    "            p=self.weights.numpy() / torch.sum(self.weights).numpy(),\n",
    "            replace=self.replacement,\n",
    "        )\n",
    "        rand_tensor = torch.from_numpy(rand_tensor)\n",
    "        return iter(rand_tensor.tolist())\n",
    "\n",
    "\n",
    "train_sampler = CustomWeightedRandomSampler(\n",
    "    weights=weights_tr, num_samples=len(dataset_train), replacement=True\n",
    ")\n",
    "val_sampler = CustomWeightedRandomSampler(\n",
    "    weights=weights_val, num_samples=len(dataset_val), replacement=True\n",
    ")"
   ]
  },
  {
   "cell_type": "code",
   "execution_count": 20,
   "id": "d880fcb2-18e8-4e78-b621-2e03decb8b31",
   "metadata": {},
   "outputs": [
    {
     "name": "stdout",
     "output_type": "stream",
     "text": [
      "Creating train data loader\n"
     ]
    }
   ],
   "source": [
    "print(\"Creating train data loader\")\n",
    "dataloader_train = DataLoader(\n",
    "    dataset_train, batch_size=config.BATCH_SIZE, sampler=train_sampler, num_workers=10\n",
    ")"
   ]
  },
  {
   "cell_type": "code",
   "execution_count": 21,
   "id": "d11f89ec-2c40-4084-a7f5-68cf41a12bca",
   "metadata": {},
   "outputs": [
    {
     "name": "stdout",
     "output_type": "stream",
     "text": [
      "Creating val data loader\n"
     ]
    }
   ],
   "source": [
    "def worker_init_fn(\n",
    "    worker_id,\n",
    "):  # ensure the dataloader for validation is the same for every epoch\n",
    "    seed = 42\n",
    "    torch.manual_seed(seed)\n",
    "    # Set the same seed for reproducibility in NumPy and Python's random module\n",
    "    np.random.seed(seed)\n",
    "    random.seed(seed)\n",
    "\n",
    "\n",
    "print(\"Creating val data loader\")\n",
    "dataloader_val = DataLoader(\n",
    "    dataset_val,\n",
    "    batch_size=config.BATCH_SIZE,\n",
    "    sampler=val_sampler,\n",
    "    worker_init_fn=worker_init_fn,\n",
    "    num_workers=0,\n",
    ")\n"
   ]
  },
  {
   "cell_type": "code",
   "execution_count": 22,
   "id": "05c29323-4664-43de-9dca-c1bae2f40d28",
   "metadata": {},
   "outputs": [
    {
     "name": "stdout",
     "output_type": "stream",
     "text": [
      "define model\n"
     ]
    }
   ],
   "source": [
    "# Define the ModelCheckpoint callback\n",
    "checkpoint_callback = pl.callbacks.ModelCheckpoint(\n",
    "    dirpath=config.CHECKPOINT_DIR,\n",
    "    filename=\"best_model\",\n",
    "    monitor=\"validation_loss_epoch\",\n",
    "    mode=\"min\",\n",
    "    save_top_k=1,\n",
    ")\n",
    "\n",
    "checkpoint_n_steps_callback = pl.callbacks.ModelCheckpoint(\n",
    "    dirpath=config.CHECKPOINT_DIR,\n",
    "    filename=\"best_model_n_steps\",\n",
    "    every_n_train_steps=100000,\n",
    "    save_last=True,\n",
    "    save_top_k=1,\n",
    ")\n",
    "\n",
    "\n",
    "# checkpoint_callback = SaveBestModelCallback(file_path=config.best_model_path)\n",
    "progress_bar_callback = ProgressBar()\n",
    "\n",
    "# loss callback\n",
    "losscallback = LossCallback(file_path=config.CHECKPOINT_DIR + f\"loss.png\")\n",
    "print(\"define model\")\n"
   ]
  },
  {
   "cell_type": "code",
   "execution_count": 23,
   "id": "89ddc30d-eacd-4672-bbac-336a42cc9799",
   "metadata": {},
   "outputs": [
    {
     "name": "stdout",
     "output_type": "stream",
     "text": [
      "Using cosine library from Pytorch?: True\n"
     ]
    }
   ],
   "source": [
    "model = Embedder(\n",
    "    d_model=int(config.D_MODEL),\n",
    "    n_layers=int(config.N_LAYERS),\n",
    "    weights=None,\n",
    "    lr=config.LR,\n",
    "    use_cosine_distance=config.use_cosine_distance,\n",
    ")"
   ]
  },
  {
   "cell_type": "code",
   "execution_count": 25,
   "id": "cbc82451-ae9a-4005-8269-153002f9ebbc",
   "metadata": {},
   "outputs": [
    {
     "name": "stderr",
     "output_type": "stream",
     "text": [
      "GPU available: True (mps), used: True\n",
      "TPU available: False, using: 0 TPU cores\n",
      "IPU available: False, using: 0 IPUs\n",
      "HPU available: False, using: 0 HPUs\n",
      "\n",
      "  | Name                    | Type                             | Params\n",
      "-----------------------------------------------------------------------------\n",
      "0 | linear                  | Linear                           | 262 K \n",
      "1 | linear_regression       | Linear                           | 513   \n",
      "2 | fixed_linear_regression | FixedLinearRegression            | 513   \n",
      "3 | relu                    | ReLU                             | 0     \n",
      "4 | spectrum_encoder        | SpectrumTransformerEncoderCustom | 11.0 M\n",
      "5 | regression_loss         | MSELoss                          | 0     \n",
      "6 | dropout                 | Dropout                          | 0     \n",
      "7 | linear_cosine           | Linear                           | 262 K \n",
      "8 | cosine_similarity       | CosineSimilarity                 | 0     \n",
      "-----------------------------------------------------------------------------\n",
      "11.6 M    Trainable params\n",
      "513       Non-trainable params\n",
      "11.6 M    Total params\n",
      "46.258    Total estimated model params size (MB)\n"
     ]
    },
    {
     "data": {
      "application/vnd.jupyter.widget-view+json": {
       "model_id": "",
       "version_major": 2,
       "version_minor": 0
      },
      "text/plain": [
       "Sanity Checking: |                                                                                            …"
      ]
     },
     "metadata": {},
     "output_type": "display_data"
    },
    {
     "name": "stdout",
     "output_type": "stream",
     "text": [
      "Train loss:\n",
      "[]\n",
      "Validation loss\n",
      "[0.41819602251052856, 0.4386153221130371]\n"
     ]
    },
    {
     "name": "stderr",
     "output_type": "stream",
     "text": [
      "/Users/sebas/miniconda3/envs/transformers/lib/python3.11/site-packages/lightning/pytorch/trainer/connectors/data_connector.py:436: Consider setting `persistent_workers=True` in 'train_dataloader' to speed up the dataloader worker initialization.\n"
     ]
    },
    {
     "data": {
      "application/vnd.jupyter.widget-view+json": {
       "model_id": "459175d4be6445169e4738f9c64aba99",
       "version_major": 2,
       "version_minor": 0
      },
      "text/plain": [
       "Training: |                                                                                                   …"
      ]
     },
     "metadata": {},
     "output_type": "display_data"
    },
    {
     "name": "stderr",
     "output_type": "stream",
     "text": [
      "/Users/sebas/miniconda3/envs/transformers/lib/python3.11/site-packages/lightning/pytorch/trainer/call.py:54: Detected KeyboardInterrupt, attempting graceful shutdown...\n"
     ]
    },
    {
     "data": {
      "image/png": "[encoded data removed]",
      "text/plain": [
       "<Figure size 1000x800 with 2 Axes>"
      ]
     },
     "metadata": {},
     "output_type": "display_data"
    },
    {
     "name": "stderr",
     "output_type": "stream",
     "text": [
      "Traceback (most recent call last):\n",
      "  File \"<frozen runpy>\", line 198, in _run_module_as_main\n",
      "  File \"<frozen runpy>\", line 88, in _run_code\n",
      "  File \"/Users/sebas/miniconda3/envs/transformers/lib/python3.11/site-packages/ipykernel_launcher.py\", line 17, in <module>\n",
      "    app.launch_new_instance()\n",
      "  File \"/Users/sebas/miniconda3/envs/transformers/lib/python3.11/site-packages/traitlets/config/application.py\", line 992, in launch_instance\n",
      "    app.start()\n",
      "  File \"/Users/sebas/miniconda3/envs/transformers/lib/python3.11/site-packages/ipykernel/kernelapp.py\", line 701, in start\n",
      "    self.io_loop.start()\n",
      "  File \"/Users/sebas/miniconda3/envs/transformers/lib/python3.11/site-packages/tornado/platform/asyncio.py\", line 195, in start\n",
      "    self.asyncio_loop.run_forever()\n",
      "  File \"/Users/sebas/miniconda3/envs/transformers/lib/python3.11/asyncio/base_events.py\", line 607, in run_forever\n",
      "    self._run_once()\n",
      "  File \"/Users/sebas/miniconda3/envs/transformers/lib/python3.11/asyncio/base_events.py\", line 1884, in _run_once\n",
      "    event_list = self._selector.select(timeout)\n",
      "                 ^^^^^^^^^^^^^^^^^^^^^^^^^^^^^^\n",
      "  File \"/Users/sebas/miniconda3/envs/transformers/lib/python3.11/selectors.py\", line 566, in select\n",
      "    kev_list = self._selector.control(None, max_ev, timeout)\n",
      "               ^^^^^^^^^^^^^^^^^^^^^^^^^^^^^^^^^^^^^^^^^^^^^\n",
      "  File \"/Users/sebas/miniconda3/envs/transformers/lib/python3.11/site-packages/torch/utils/data/_utils/signal_handling.py\", line 66, in handler\n",
      "    _error_if_any_worker_fails()\n",
      "RuntimeError: DataLoader worker (pid 90509) is killed by signal: Interrupt: 2. \n"
     ]
    }
   ],
   "source": [
    "trainer = pl.Trainer(\n",
    "    max_epochs=epochs,\n",
    "    callbacks=[checkpoint_callback, checkpoint_n_steps_callback, losscallback],\n",
    "    enable_progress_bar=enable_progress_bar,\n",
    "    # val_check_interval= config.validate_after_ratio,\n",
    ")\n",
    "# trainer = pl.Trainer(max_steps=100,  callbacks=[checkpoint_callback, losscallback], enable_progress_bar=enable_progress_bar)\n",
    "trainer.fit(\n",
    "    model=model,\n",
    "    train_dataloaders=(dataloader_train),\n",
    "    val_dataloaders=dataloader_val,\n",
    ")"
   ]
  },
  {
   "cell_type": "markdown",
   "id": "4697fd13-b60f-47e0-b12d-d401f5a7c82a",
   "metadata": {},
   "source": [
    "## Inference"
   ]
  },
  {
   "cell_type": "code",
   "execution_count": 14,
   "id": "ff35bf92-f0fe-425f-989f-efd52f2917fc",
   "metadata": {},
   "outputs": [
    {
     "name": "stdout",
     "output_type": "stream",
     "text": [
      "Number of molecule pairs: 586781\n",
      "Uniformize the data\n"
     ]
    }
   ],
   "source": [
    "molecule_pairs_test = dataset[\"molecule_pairs_test\"]\n",
    "print(f\"Number of molecule pairs: {len(molecule_pairs_test)}\")\n",
    "print(\"Uniformize the data\")\n",
    "uniformed_molecule_pairs_test, _ = TrainUtils.uniformise(\n",
    "    molecule_pairs_test,\n",
    "    number_bins=bins_uniformise,\n",
    "    return_binned_list=True,\n",
    "    bin_sim_1=False,\n",
    ")  # do not treat sim==1 as another bin"
   ]
  },
  {
   "cell_type": "code",
   "execution_count": 15,
   "id": "feef387b-d334-4aee-82d3-8fb0b1aae400",
   "metadata": {},
   "outputs": [],
   "source": [
    "uniformed_molecule_pairs_test, _ = TrainUtils.uniformise(\n",
    "    molecule_pairs_test,\n",
    "    number_bins=bins_uniformise,\n",
    "    return_binned_list=True,\n",
    "    bin_sim_1=False,\n",
    ")  # do not treat sim==1 as another bin\n"
   ]
  },
  {
   "cell_type": "code",
   "execution_count": 17,
   "id": "3ce7a4d3-f77f-477a-8568-d57f58a52d23",
   "metadata": {},
   "outputs": [
    {
     "name": "stdout",
     "output_type": "stream",
     "text": [
      "Preprocessing all the data ...\n"
     ]
    },
    {
     "name": "stderr",
     "output_type": "stream",
     "text": [
      "33719it [00:02, 11334.66it/s]\n"
     ]
    },
    {
     "name": "stdout",
     "output_type": "stream",
     "text": [
      "Finished preprocessing \n",
      "loading data\n",
      "Normalizing intensities\n",
      "Creating dictionaries\n"
     ]
    }
   ],
   "source": [
    "# dataset_train = LoadData.from_molecule_pairs_to_dataset(m_train)\n",
    "dataset_test = LoadDataUnique.from_molecule_pairs_to_dataset(uniformed_molecule_pairs_test)\n",
    "dataloader_test = DataLoader(dataset_test, batch_size=config.BATCH_SIZE, shuffle=False)"
   ]
  },
  {
   "cell_type": "code",
   "execution_count": 18,
   "id": "630c93ea-c557-4b3d-9466-fbfb649622d6",
   "metadata": {},
   "outputs": [],
   "source": [
    "best_model_path = model_path = data_folder + 'best_model_exhaustive_sampled_128n_20240618.ckpt'\n",
    "#best_model_path = self.CHECKPOINT_DIR + f\"best_model.ckpt\""
   ]
  },
  {
   "cell_type": "code",
   "execution_count": 21,
   "id": "ef21da6a-e798-4221-895c-706c8194ec4e",
   "metadata": {},
   "outputs": [
    {
     "name": "stderr",
     "output_type": "stream",
     "text": [
      "GPU available: True (mps), used: True\n",
      "TPU available: False, using: 0 TPU cores\n",
      "IPU available: False, using: 0 IPUs\n",
      "HPU available: False, using: 0 HPUs\n"
     ]
    },
    {
     "name": "stdout",
     "output_type": "stream",
     "text": [
      "Using cosine library from Pytorch?: True\n"
     ]
    }
   ],
   "source": [
    "# Testinbest_model = Embedder.load_from_checkpoint(checkpoint_callback.best_model_path, d_model=64, n_layers=2)\n",
    "trainer = pl.Trainer(max_epochs=2, enable_progress_bar=enable_progress_bar)\n",
    "best_model = Embedder.load_from_checkpoint(\n",
    "    best_model_path,\n",
    "    d_model=int(config.D_MODEL),\n",
    "    n_layers=int(config.N_LAYERS),\n",
    "    use_element_wise=True,\n",
    "    use_cosine_distance=config.use_cosine_distance,\n",
    ")"
   ]
  },
  {
   "cell_type": "code",
   "execution_count": 24,
   "id": "6e76a267-27e5-40cf-aacd-aa7a810a53c0",
   "metadata": {},
   "outputs": [
    {
     "name": "stderr",
     "output_type": "stream",
     "text": [
      "/Users/sebas/miniconda3/envs/transformers/lib/python3.11/site-packages/lightning/pytorch/trainer/connectors/data_connector.py:441: The 'predict_dataloader' does not have many workers which may be a bottleneck. Consider increasing the value of the `num_workers` argument` to `num_workers=10` in the `DataLoader` to improve performance.\n"
     ]
    },
    {
     "data": {
      "application/vnd.jupyter.widget-view+json": {
       "model_id": "dac8f58135444585a6ae69e692eeeb85",
       "version_major": 2,
       "version_minor": 0
      },
      "text/plain": [
       "Predicting: |                                                                                                 …"
      ]
     },
     "metadata": {},
     "output_type": "display_data"
    },
    {
     "name": "stderr",
     "output_type": "stream",
     "text": [
      "/Users/sebas/projects/metabolomics/src/transformers/spectrum_transformer_encoder_custom.py:17: UserWarning: To copy construct from a tensor, it is recommended to use sourceTensor.clone().detach() or sourceTensor.clone().detach().requires_grad_(True), rather than torch.tensor(sourceTensor).\n",
      "  mass_precursor = torch.tensor(kwargs[\"precursor_mass\"].float())\n",
      "/Users/sebas/projects/metabolomics/src/transformers/spectrum_transformer_encoder_custom.py:18: UserWarning: To copy construct from a tensor, it is recommended to use sourceTensor.clone().detach() or sourceTensor.clone().detach().requires_grad_(True), rather than torch.tensor(sourceTensor).\n",
      "  charge_precursor = torch.tensor(kwargs[\"precursor_charge\"].float())\n"
     ]
    }
   ],
   "source": [
    "pred_test = trainer.predict(\n",
    "    best_model,\n",
    "    dataloader_test,\n",
    ")\n",
    "similarities_test = Postprocessing.get_similarities(dataloader_test)\n"
   ]
  },
  {
   "cell_type": "code",
   "execution_count": 25,
   "id": "38027803-5bf6-429e-8af7-6b57d0a16ea4",
   "metadata": {},
   "outputs": [],
   "source": [
    "# flat the results\n",
    "flat_pred_test = []\n",
    "for pred in pred_test:\n",
    "    flat_pred_test = flat_pred_test + [float(p) for p in pred]\n",
    "combinations_test = [(s, p) for s, p in zip(similarities_test, flat_pred_test)]\n",
    "\n",
    "new_combinations_test = []"
   ]
  },
  {
   "cell_type": "code",
   "execution_count": 28,
   "id": "3adb6895-6dd9-456d-ae94-e2cc661ea771",
   "metadata": {},
   "outputs": [],
   "source": [
    "# clip the values\n",
    "x = np.array([c[0] for c in combinations_test])\n",
    "y = np.array([c[1] for c in combinations_test])\n",
    "y = np.clip(y, 0, 1)\n",
    "\n",
    "corr_model, p_value_model= spearmanr(x, y)\n"
   ]
  },
  {
   "cell_type": "code",
   "execution_count": null,
   "id": "d2e978b4-d478-4628-8098-0870ebe8a72a",
   "metadata": {},
   "outputs": [],
   "source": [
    "# plot scatter\n",
    "plt.xlabel(\"tanimoto similarity\")\n",
    "plt.ylabel(\"prediction similarity\")\n",
    "plt.scatter(x, y, label=\"test\", alpha=0.01)\n",
    "# plt.scatter(similarities_test,cosine_similarity_test, label='test')\n",
    "plt.title(f'Spearman Correlation: {corr_model}')\n",
    "plt.legend()\n",
    "plt.grid()"
   ]
  },
  {
   "cell_type": "code",
   "execution_count": null,
   "id": "8bd400d0-7b6f-4630-95ce-58073a4ae18a",
   "metadata": {},
   "outputs": [],
   "source": [
    "print(f\"Number of test samples: {len(y)}\")\n",
    "sns.set_theme(style=\"ticks\")\n",
    "plot = sns.jointplot(x=x, y=y, kind=\"hex\", color=\"#4CB391\", joint_kws=dict(alpha=1))\n",
    "# Set x and y labels\n",
    "plot.set_axis_labels(\"Tanimoto similarity\", \"Model prediction\", fontsize=12)"
   ]
  }
 ],
 "metadata": {
  "kernelspec": {
   "display_name": "Python 3 (ipykernel)",
   "language": "python",
   "name": "python3"
  },
  "language_info": {
   "codemirror_mode": {
    "name": "ipython",
    "version": 3
   },
   "file_extension": ".py",
   "mimetype": "text/x-python",
   "name": "python",
   "nbconvert_exporter": "python",
   "pygments_lexer": "ipython3",
   "version": "3.11.7"
  }
 },
 "nbformat": 4,
 "nbformat_minor": 5
}
