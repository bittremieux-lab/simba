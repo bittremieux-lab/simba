{
 "cells": [
  {
   "cell_type": "code",
   "execution_count": 1,
   "id": "8c471a00",
   "metadata": {},
   "outputs": [],
   "source": [
    "%load_ext autoreload\n",
    "%autoreload 2\n"
   ]
  },
  {
   "cell_type": "code",
   "execution_count": 2,
   "id": "e39a3b30",
   "metadata": {},
   "outputs": [],
   "source": [
    "#pip install spectrum_utils"
   ]
  },
  {
   "cell_type": "code",
   "execution_count": 3,
   "id": "37b02382",
   "metadata": {},
   "outputs": [],
   "source": [
    "#pip install pyteomics"
   ]
  },
  {
   "cell_type": "code",
   "execution_count": 4,
   "id": "bb6b10ea",
   "metadata": {},
   "outputs": [],
   "source": [
    "#!pip install rdkit"
   ]
  },
  {
   "cell_type": "code",
   "execution_count": 5,
   "id": "31369bde",
   "metadata": {},
   "outputs": [],
   "source": [
    "from rdkit import Chem\n",
    "from rdkit.Chem import AllChem\n",
    "from rdkit.Chem import DataStructs"
   ]
  },
  {
   "cell_type": "code",
   "execution_count": 6,
   "id": "09cd9760",
   "metadata": {},
   "outputs": [],
   "source": [
    "import logging\n",
    "from typing import Dict, IO, Iterator, Sequence, Union\n",
    "from pyteomics import mgf\n",
    "import pyteomics\n",
    "from spectrum_utils.spectrum import MsmsSpectrum\n",
    "import matplotlib.pyplot as plt\n",
    "import spectrum_utils.plot as sup\n",
    "import spectrum_utils as su\n",
    "import numpy as np\n",
    "from src.load_data import LoadData\n",
    "from spectrum_utils import plot\n",
    "from src.preprocessor import Preprocessor\n",
    "from src.ml_model import MlModel\n",
    "from src.tanimoto import Tanimoto\n",
    "from sklearn.model_selection import train_test_split\n",
    "from src.plotting import Plotting\n",
    "import pickle\n",
    "from src.cosine_distance import CosineDistance"
   ]
  },
  {
   "cell_type": "code",
   "execution_count": 7,
   "id": "c897234a",
   "metadata": {},
   "outputs": [],
   "source": [
    "from tqdm import tqdm"
   ]
  },
  {
   "cell_type": "code",
   "execution_count": 8,
   "id": "36b914a0",
   "metadata": {},
   "outputs": [],
   "source": [
    "from src.spectrum_ext import SpectrumExt"
   ]
  },
  {
   "cell_type": "code",
   "execution_count": 9,
   "id": "7a822249",
   "metadata": {},
   "outputs": [],
   "source": [
    "from src.train_utils import TrainUtils\n",
    "from sklearn.metrics import r2_score"
   ]
  },
  {
   "cell_type": "code",
   "execution_count": 10,
   "id": "f28856af",
   "metadata": {},
   "outputs": [],
   "source": [
    "pp =Preprocessor()"
   ]
  },
  {
   "cell_type": "code",
   "execution_count": 11,
   "id": "662c3819",
   "metadata": {},
   "outputs": [],
   "source": [
    "## THINGS TO DO:\n",
    "# ADD ADITIONAL VARIABLES TO VECTOR\n",
    "# TRAIN FOR MORE TIME"
   ]
  },
  {
   "cell_type": "code",
   "execution_count": null,
   "id": "65e6b659",
   "metadata": {},
   "outputs": [],
   "source": []
  },
  {
   "cell_type": "markdown",
   "id": "76683a50",
   "metadata": {},
   "source": [
    "## Load data"
   ]
  },
  {
   "cell_type": "code",
   "execution_count": 12,
   "id": "9a2201e1",
   "metadata": {},
   "outputs": [],
   "source": [
    "import pickle\n",
    "\n",
    "# Load the dataset from the pickle file\n",
    "with open('./dataset_processed.pkl', 'rb') as file:\n",
    "    dataset = pickle.load(file)\n",
    "\n",
    "# Now you can access the original variables from the dataset dictionary\n",
    "all_spectrums_train = dataset['all_spectrums_train']\n",
    "all_spectrums_test = dataset['all_spectrums_test']\n",
    "molecule_pairs_train = dataset['molecule_pairs_train']\n",
    "molecule_pairs_test = dataset['molecule_pairs_test']\n"
   ]
  },
  {
   "cell_type": "markdown",
   "id": "a9bfe5ca",
   "metadata": {},
   "source": [
    "## Get vectors"
   ]
  },
  {
   "cell_type": "code",
   "execution_count": null,
   "id": "0d6afbe3",
   "metadata": {},
   "outputs": [],
   "source": [
    "\n",
    "\n"
   ]
  },
  {
   "cell_type": "markdown",
   "id": "0682f675",
   "metadata": {},
   "source": [
    "## Get high pairs and low paris"
   ]
  },
  {
   "cell_type": "code",
   "execution_count": 13,
   "id": "b2b5f816",
   "metadata": {},
   "outputs": [],
   "source": [
    "molecule_pairs_train_high = [m for m in molecule_pairs_train if m.similarity==1]"
   ]
  },
  {
   "cell_type": "code",
   "execution_count": 14,
   "id": "8d59937c",
   "metadata": {},
   "outputs": [
    {
     "data": {
      "text/plain": [
       "5275"
      ]
     },
     "execution_count": 14,
     "metadata": {},
     "output_type": "execute_result"
    }
   ],
   "source": [
    "len(molecule_pairs_train_high)"
   ]
  },
  {
   "cell_type": "code",
   "execution_count": 15,
   "id": "dc507024",
   "metadata": {},
   "outputs": [],
   "source": [
    "molecule_pairs_train_low = [m for m in molecule_pairs_train if m.similarity<0.035]"
   ]
  },
  {
   "cell_type": "code",
   "execution_count": 16,
   "id": "6a2d9761",
   "metadata": {},
   "outputs": [
    {
     "data": {
      "text/plain": [
       "4959"
      ]
     },
     "execution_count": 16,
     "metadata": {},
     "output_type": "execute_result"
    }
   ],
   "source": [
    "len(molecule_pairs_train_low)"
   ]
  },
  {
   "cell_type": "markdown",
   "id": "9f133c9c",
   "metadata": {},
   "source": [
    "## Merge data"
   ]
  },
  {
   "cell_type": "code",
   "execution_count": 17,
   "id": "b0fda39f",
   "metadata": {},
   "outputs": [],
   "source": [
    "molecule_pairs_merged = molecule_pairs_train_high + molecule_pairs_train_low\n"
   ]
  },
  {
   "cell_type": "code",
   "execution_count": 18,
   "id": "158dbfff",
   "metadata": {},
   "outputs": [],
   "source": [
    "# insert spectrum vectors\n",
    "molecule_pairs_merged = TrainUtils.insert_spectrum_vector_into_molecule_pairs(molecule_pairs_merged)"
   ]
  },
  {
   "cell_type": "code",
   "execution_count": 19,
   "id": "649a0c7a",
   "metadata": {},
   "outputs": [],
   "source": [
    "molecule_pairs_merged_train, molecule_pairs_merged_test = train_test_split(molecule_pairs_merged)"
   ]
  },
  {
   "cell_type": "markdown",
   "id": "b5d3faa4",
   "metadata": {},
   "source": [
    "## Show np vectors"
   ]
  },
  {
   "cell_type": "markdown",
   "id": "44687178",
   "metadata": {},
   "source": [
    "## Cosine analysis"
   ]
  },
  {
   "cell_type": "code",
   "execution_count": 20,
   "id": "1ce8e259",
   "metadata": {},
   "outputs": [],
   "source": [
    "similarity_results = np.array([m.similarity for m in molecule_pairs_merged_train])"
   ]
  },
  {
   "cell_type": "code",
   "execution_count": 21,
   "id": "e224c4d3",
   "metadata": {},
   "outputs": [
    {
     "name": "stderr",
     "output_type": "stream",
     "text": [
      "C:\\Users\\ramir\\projects\\metabolomics_experiments\\src\\cosine_distance.py:17: RuntimeWarning: invalid value encountered in scalar divide\n",
      "  return dot_product / (norm_array1 * norm_array2)\n"
     ]
    }
   ],
   "source": [
    "cos_results = np.array([CosineDistance.compute_cosine_distance(m.vector_0, m.vector_1) for m in molecule_pairs_merged_train])\n",
    "cos_results=np.nan_to_num(cos_results, nan=0)"
   ]
  },
  {
   "cell_type": "code",
   "execution_count": 22,
   "id": "f4066b8a",
   "metadata": {},
   "outputs": [
    {
     "data": {
      "text/plain": [
       "<matplotlib.collections.PathCollection at 0x2483a79b0d0>"
      ]
     },
     "execution_count": 22,
     "metadata": {},
     "output_type": "execute_result"
    },
    {
     "data": {
      "image/png": "[encoded data removed]",
      "text/plain": [
       "<Figure size 640x480 with 1 Axes>"
      ]
     },
     "metadata": {},
     "output_type": "display_data"
    }
   ],
   "source": [
    "plt.scatter(similarity_results, cos_results, alpha=0.01)"
   ]
  },
  {
   "cell_type": "code",
   "execution_count": 23,
   "id": "2eae6519",
   "metadata": {},
   "outputs": [
    {
     "data": {
      "text/plain": [
       "0.038819534224568186"
      ]
     },
     "execution_count": 23,
     "metadata": {},
     "output_type": "execute_result"
    }
   ],
   "source": [
    "r2_score(similarity_results, cos_results)"
   ]
  },
  {
   "cell_type": "code",
   "execution_count": 38,
   "id": "bb886cdc",
   "metadata": {},
   "outputs": [
    {
     "data": {
      "image/png": "[encoded data removed]",
      "text/plain": [
       "<Figure size 640x480 with 1 Axes>"
      ]
     },
     "metadata": {},
     "output_type": "display_data"
    }
   ],
   "source": [
    "plt.hist(cos_results[similarity_results==1])\n",
    "plt.ylabel('frequency')\n",
    "plt.xlabel('cosine similarity')\n",
    "plt.grid()"
   ]
  },
  {
   "cell_type": "markdown",
   "id": "1da4bf6a",
   "metadata": {},
   "source": [
    "## Training"
   ]
  },
  {
   "cell_type": "code",
   "execution_count": 25,
   "id": "ccf3916e",
   "metadata": {},
   "outputs": [],
   "source": [
    "model = MlModel(input_dim=molecule_pairs_merged_train[0].vector_0.shape[0])"
   ]
  },
  {
   "cell_type": "code",
   "execution_count": 26,
   "id": "88a947f0",
   "metadata": {},
   "outputs": [
    {
     "name": "stdout",
     "output_type": "stream",
     "text": [
      "Model: \"model_1\"\n",
      "__________________________________________________________________________________________________\n",
      " Layer (type)                Output Shape                 Param #   Connected to                  \n",
      "==================================================================================================\n",
      " input_1 (InputLayer)        [(None, 991)]                0         []                            \n",
      "                                                                                                  \n",
      " input_2 (InputLayer)        [(None, 2)]                  0         []                            \n",
      "                                                                                                  \n",
      " input_3 (InputLayer)        [(None, 991)]                0         []                            \n",
      "                                                                                                  \n",
      " input_4 (InputLayer)        [(None, 2)]                  0         []                            \n",
      "                                                                                                  \n",
      " model (Functional)          (None, 32)                   33856     ['input_1[0][0]',             \n",
      "                                                                     'input_2[0][0]',             \n",
      "                                                                     'input_3[0][0]',             \n",
      "                                                                     'input_4[0][0]']             \n",
      "                                                                                                  \n",
      " cosine_similarity (Dot)     (None, 1)                    0         ['model[0][0]',               \n",
      "                                                                     'model[1][0]']               \n",
      "                                                                                                  \n",
      "==================================================================================================\n",
      "Total params: 33856 (132.25 KB)\n",
      "Trainable params: 33856 (132.25 KB)\n",
      "Non-trainable params: 0 (0.00 Byte)\n",
      "__________________________________________________________________________________________________\n"
     ]
    }
   ],
   "source": [
    "model.compile()"
   ]
  },
  {
   "cell_type": "code",
   "execution_count": 27,
   "id": "bae05b03",
   "metadata": {},
   "outputs": [
    {
     "name": "stdout",
     "output_type": "stream",
     "text": [
      "Epoch 1/100\n",
      "190/192 [============================>.] - ETA: 0s - loss: 0.3074 - mse: 0.3074\n",
      "Epoch 1: val_mse improved from inf to 0.41597, saving model to best_model.h5\n",
      "192/192 [==============================] - 12s 30ms/step - loss: 0.3072 - mse: 0.3072 - val_loss: 0.4160 - val_mse: 0.4160\n",
      "Epoch 2/100\n",
      " 31/192 [===>..........................] - ETA: 0s - loss: 0.2894 - mse: 0.2894"
     ]
    },
    {
     "name": "stderr",
     "output_type": "stream",
     "text": [
      "C:\\Users\\ramir\\anaconda3\\Lib\\site-packages\\keras\\src\\engine\\training.py:3000: UserWarning: You are saving your model as an HDF5 file via `model.save()`. This file format is considered legacy. We recommend using instead the native Keras format, e.g. `model.save('my_model.keras')`.\n",
      "  saving_api.save_model(\n"
     ]
    },
    {
     "name": "stdout",
     "output_type": "stream",
     "text": [
      "180/192 [===========================>..] - ETA: 0s - loss: 0.2756 - mse: 0.2756\n",
      "Epoch 2: val_mse did not improve from 0.41597\n",
      "192/192 [==============================] - 5s 24ms/step - loss: 0.2751 - mse: 0.2751 - val_loss: 0.4327 - val_mse: 0.4327\n",
      "Epoch 3/100\n",
      "187/192 [============================>.] - ETA: 0s - loss: 0.2578 - mse: 0.2578\n",
      "Epoch 3: val_mse did not improve from 0.41597\n",
      "192/192 [==============================] - 3s 17ms/step - loss: 0.2575 - mse: 0.2575 - val_loss: 0.4323 - val_mse: 0.4323\n",
      "Epoch 4/100\n",
      "183/192 [===========================>..] - ETA: 0s - loss: 0.2533 - mse: 0.2533\n",
      "Epoch 4: val_mse did not improve from 0.41597\n",
      "192/192 [==============================] - 3s 15ms/step - loss: 0.2525 - mse: 0.2525 - val_loss: 0.4262 - val_mse: 0.4262\n",
      "Epoch 5/100\n",
      "187/192 [============================>.] - ETA: 0s - loss: 0.2499 - mse: 0.2499\n",
      "Epoch 5: val_mse improved from 0.41597 to 0.41070, saving model to best_model.h5\n",
      "192/192 [==============================] - 3s 15ms/step - loss: 0.2498 - mse: 0.2498 - val_loss: 0.4107 - val_mse: 0.4107\n",
      "Epoch 6/100\n",
      "177/192 [==========================>...] - ETA: 0s - loss: 0.2466 - mse: 0.2466\n",
      "Epoch 6: val_mse improved from 0.41070 to 0.38217, saving model to best_model.h5\n",
      "192/192 [==============================] - 3s 16ms/step - loss: 0.2459 - mse: 0.2459 - val_loss: 0.3822 - val_mse: 0.3822\n",
      "Epoch 7/100\n",
      "179/192 [==========================>...] - ETA: 0s - loss: 0.2385 - mse: 0.2385\n",
      "Epoch 7: val_mse improved from 0.38217 to 0.35758, saving model to best_model.h5\n",
      "192/192 [==============================] - 3s 16ms/step - loss: 0.2384 - mse: 0.2384 - val_loss: 0.3576 - val_mse: 0.3576\n",
      "Epoch 8/100\n",
      "190/192 [============================>.] - ETA: 0s - loss: 0.2341 - mse: 0.2341\n",
      "Epoch 8: val_mse improved from 0.35758 to 0.33080, saving model to best_model.h5\n",
      "192/192 [==============================] - 4s 19ms/step - loss: 0.2343 - mse: 0.2343 - val_loss: 0.3308 - val_mse: 0.3308\n",
      "Epoch 9/100\n",
      "186/192 [============================>.] - ETA: 0s - loss: 0.2295 - mse: 0.2295\n",
      "Epoch 9: val_mse improved from 0.33080 to 0.31421, saving model to best_model.h5\n",
      "192/192 [==============================] - 4s 18ms/step - loss: 0.2295 - mse: 0.2295 - val_loss: 0.3142 - val_mse: 0.3142\n",
      "Epoch 10/100\n",
      "188/192 [============================>.] - ETA: 0s - loss: 0.2259 - mse: 0.2259\n",
      "Epoch 10: val_mse improved from 0.31421 to 0.29152, saving model to best_model.h5\n",
      "192/192 [==============================] - 4s 21ms/step - loss: 0.2262 - mse: 0.2262 - val_loss: 0.2915 - val_mse: 0.2915\n",
      "Epoch 11/100\n",
      "189/192 [============================>.] - ETA: 0s - loss: 0.2228 - mse: 0.2228\n",
      "Epoch 11: val_mse improved from 0.29152 to 0.27629, saving model to best_model.h5\n",
      "192/192 [==============================] - 4s 22ms/step - loss: 0.2228 - mse: 0.2228 - val_loss: 0.2763 - val_mse: 0.2763\n",
      "Epoch 12/100\n",
      "191/192 [============================>.] - ETA: 0s - loss: 0.2192 - mse: 0.2192\n",
      "Epoch 12: val_mse improved from 0.27629 to 0.27546, saving model to best_model.h5\n",
      "192/192 [==============================] - 3s 16ms/step - loss: 0.2190 - mse: 0.2190 - val_loss: 0.2755 - val_mse: 0.2755\n",
      "Epoch 13/100\n",
      "187/192 [============================>.] - ETA: 0s - loss: 0.2163 - mse: 0.2163\n",
      "Epoch 13: val_mse improved from 0.27546 to 0.25807, saving model to best_model.h5\n",
      "192/192 [==============================] - 3s 16ms/step - loss: 0.2163 - mse: 0.2163 - val_loss: 0.2581 - val_mse: 0.2581\n",
      "Epoch 14/100\n",
      "185/192 [===========================>..] - ETA: 0s - loss: 0.2147 - mse: 0.2147\n",
      "Epoch 14: val_mse improved from 0.25807 to 0.24266, saving model to best_model.h5\n",
      "192/192 [==============================] - 3s 15ms/step - loss: 0.2141 - mse: 0.2141 - val_loss: 0.2427 - val_mse: 0.2427\n",
      "Epoch 15/100\n",
      "189/192 [============================>.] - ETA: 0s - loss: 0.2135 - mse: 0.2135\n",
      "Epoch 15: val_mse did not improve from 0.24266\n",
      "192/192 [==============================] - 3s 16ms/step - loss: 0.2138 - mse: 0.2138 - val_loss: 0.2490 - val_mse: 0.2490\n",
      "Epoch 16/100\n",
      "176/192 [==========================>...] - ETA: 0s - loss: 0.2062 - mse: 0.2062\n",
      "Epoch 16: val_mse did not improve from 0.24266\n",
      "192/192 [==============================] - 3s 15ms/step - loss: 0.2083 - mse: 0.2083 - val_loss: 0.2446 - val_mse: 0.2446\n",
      "Epoch 17/100\n",
      "183/192 [===========================>..] - ETA: 0s - loss: 0.2073 - mse: 0.2073\n",
      "Epoch 17: val_mse improved from 0.24266 to 0.24092, saving model to best_model.h5\n",
      "192/192 [==============================] - 3s 16ms/step - loss: 0.2077 - mse: 0.2077 - val_loss: 0.2409 - val_mse: 0.2409\n",
      "Epoch 18/100\n",
      "182/192 [===========================>..] - ETA: 0s - loss: 0.2076 - mse: 0.2076\n",
      "Epoch 18: val_mse did not improve from 0.24092\n",
      "192/192 [==============================] - 3s 17ms/step - loss: 0.2083 - mse: 0.2083 - val_loss: 0.2412 - val_mse: 0.2412\n",
      "Epoch 19/100\n",
      "186/192 [============================>.] - ETA: 0s - loss: 0.2066 - mse: 0.2066\n",
      "Epoch 19: val_mse improved from 0.24092 to 0.23641, saving model to best_model.h5\n",
      "192/192 [==============================] - 3s 15ms/step - loss: 0.2060 - mse: 0.2060 - val_loss: 0.2364 - val_mse: 0.2364\n",
      "Epoch 20/100\n",
      "178/192 [==========================>...] - ETA: 0s - loss: 0.2045 - mse: 0.2045\n",
      "Epoch 20: val_mse did not improve from 0.23641\n",
      "192/192 [==============================] - 3s 15ms/step - loss: 0.2059 - mse: 0.2059 - val_loss: 0.2427 - val_mse: 0.2427\n",
      "Epoch 21/100\n",
      "183/192 [===========================>..] - ETA: 0s - loss: 0.2028 - mse: 0.2028\n",
      "Epoch 21: val_mse improved from 0.23641 to 0.23411, saving model to best_model.h5\n",
      "192/192 [==============================] - 3s 15ms/step - loss: 0.2024 - mse: 0.2024 - val_loss: 0.2341 - val_mse: 0.2341\n",
      "Epoch 22/100\n",
      "192/192 [==============================] - ETA: 0s - loss: 0.2027 - mse: 0.2027\n",
      "Epoch 22: val_mse did not improve from 0.23411\n",
      "192/192 [==============================] - 3s 15ms/step - loss: 0.2027 - mse: 0.2027 - val_loss: 0.2377 - val_mse: 0.2377\n",
      "Epoch 23/100\n",
      "188/192 [============================>.] - ETA: 0s - loss: 0.1986 - mse: 0.1986\n",
      "Epoch 23: val_mse improved from 0.23411 to 0.23261, saving model to best_model.h5\n",
      "192/192 [==============================] - 3s 16ms/step - loss: 0.1983 - mse: 0.1983 - val_loss: 0.2326 - val_mse: 0.2326\n",
      "Epoch 24/100\n",
      "176/192 [==========================>...] - ETA: 0s - loss: 0.2004 - mse: 0.2004\n",
      "Epoch 24: val_mse improved from 0.23261 to 0.23006, saving model to best_model.h5\n",
      "192/192 [==============================] - 3s 15ms/step - loss: 0.2002 - mse: 0.2002 - val_loss: 0.2301 - val_mse: 0.2301\n",
      "Epoch 25/100\n",
      "185/192 [===========================>..] - ETA: 0s - loss: 0.1974 - mse: 0.1974\n",
      "Epoch 25: val_mse improved from 0.23006 to 0.22998, saving model to best_model.h5\n",
      "192/192 [==============================] - 3s 15ms/step - loss: 0.1975 - mse: 0.1975 - val_loss: 0.2300 - val_mse: 0.2300\n",
      "Epoch 26/100\n",
      "181/192 [===========================>..] - ETA: 0s - loss: 0.1980 - mse: 0.1980\n",
      "Epoch 26: val_mse improved from 0.22998 to 0.22939, saving model to best_model.h5\n",
      "192/192 [==============================] - 3s 15ms/step - loss: 0.1974 - mse: 0.1974 - val_loss: 0.2294 - val_mse: 0.2294\n",
      "Epoch 27/100\n",
      "176/192 [==========================>...] - ETA: 0s - loss: 0.1966 - mse: 0.1966\n",
      "Epoch 27: val_mse did not improve from 0.22939\n",
      "192/192 [==============================] - 3s 15ms/step - loss: 0.1970 - mse: 0.1970 - val_loss: 0.2306 - val_mse: 0.2306\n",
      "Epoch 28/100\n",
      "183/192 [===========================>..] - ETA: 0s - loss: 0.1949 - mse: 0.1949\n",
      "Epoch 28: val_mse improved from 0.22939 to 0.22893, saving model to best_model.h5\n",
      "192/192 [==============================] - 3s 15ms/step - loss: 0.1956 - mse: 0.1956 - val_loss: 0.2289 - val_mse: 0.2289\n",
      "Epoch 29/100\n",
      "177/192 [==========================>...] - ETA: 0s - loss: 0.1940 - mse: 0.1940\n",
      "Epoch 29: val_mse improved from 0.22893 to 0.22790, saving model to best_model.h5\n",
      "192/192 [==============================] - 3s 15ms/step - loss: 0.1946 - mse: 0.1946 - val_loss: 0.2279 - val_mse: 0.2279\n",
      "Epoch 30/100\n",
      "184/192 [===========================>..] - ETA: 0s - loss: 0.1914 - mse: 0.1914\n",
      "Epoch 30: val_mse improved from 0.22790 to 0.22787, saving model to best_model.h5\n",
      "192/192 [==============================] - 3s 15ms/step - loss: 0.1912 - mse: 0.1912 - val_loss: 0.2279 - val_mse: 0.2279\n"
     ]
    },
    {
     "name": "stdout",
     "output_type": "stream",
     "text": [
      "Epoch 31/100\n",
      "184/192 [===========================>..] - ETA: 0s - loss: 0.1940 - mse: 0.1940\n",
      "Epoch 31: val_mse did not improve from 0.22787\n",
      "192/192 [==============================] - 3s 15ms/step - loss: 0.1940 - mse: 0.1940 - val_loss: 0.2288 - val_mse: 0.2288\n",
      "Epoch 32/100\n",
      "186/192 [============================>.] - ETA: 0s - loss: 0.1913 - mse: 0.1913\n",
      "Epoch 32: val_mse improved from 0.22787 to 0.22721, saving model to best_model.h5\n",
      "192/192 [==============================] - 3s 15ms/step - loss: 0.1910 - mse: 0.1910 - val_loss: 0.2272 - val_mse: 0.2272\n",
      "Epoch 33/100\n",
      "187/192 [============================>.] - ETA: 0s - loss: 0.1896 - mse: 0.1896\n",
      "Epoch 33: val_mse did not improve from 0.22721\n",
      "192/192 [==============================] - 3s 15ms/step - loss: 0.1891 - mse: 0.1891 - val_loss: 0.2325 - val_mse: 0.2325\n",
      "Epoch 34/100\n",
      "186/192 [============================>.] - ETA: 0s - loss: 0.1893 - mse: 0.1893\n",
      "Epoch 34: val_mse did not improve from 0.22721\n",
      "192/192 [==============================] - 3s 15ms/step - loss: 0.1898 - mse: 0.1898 - val_loss: 0.2325 - val_mse: 0.2325\n",
      "Epoch 35/100\n",
      "179/192 [==========================>...] - ETA: 0s - loss: 0.1878 - mse: 0.1878\n",
      "Epoch 35: val_mse did not improve from 0.22721\n",
      "192/192 [==============================] - 3s 15ms/step - loss: 0.1876 - mse: 0.1876 - val_loss: 0.2342 - val_mse: 0.2342\n",
      "Epoch 36/100\n",
      "192/192 [==============================] - ETA: 0s - loss: 0.1869 - mse: 0.1869\n",
      "Epoch 36: val_mse did not improve from 0.22721\n",
      "192/192 [==============================] - 3s 15ms/step - loss: 0.1869 - mse: 0.1869 - val_loss: 0.2312 - val_mse: 0.2312\n",
      "Epoch 37/100\n",
      "181/192 [===========================>..] - ETA: 0s - loss: 0.1891 - mse: 0.1891\n",
      "Epoch 37: val_mse did not improve from 0.22721\n",
      "192/192 [==============================] - 3s 15ms/step - loss: 0.1891 - mse: 0.1891 - val_loss: 0.2304 - val_mse: 0.2304\n",
      "Epoch 38/100\n",
      "181/192 [===========================>..] - ETA: 0s - loss: 0.1881 - mse: 0.1881\n",
      "Epoch 38: val_mse did not improve from 0.22721\n",
      "192/192 [==============================] - 3s 14ms/step - loss: 0.1878 - mse: 0.1878 - val_loss: 0.2323 - val_mse: 0.2323\n",
      "Epoch 39/100\n",
      "191/192 [============================>.] - ETA: 0s - loss: 0.1888 - mse: 0.1888\n",
      "Epoch 39: val_mse did not improve from 0.22721\n",
      "192/192 [==============================] - 3s 15ms/step - loss: 0.1890 - mse: 0.1890 - val_loss: 0.2329 - val_mse: 0.2329\n",
      "Epoch 40/100\n",
      "184/192 [===========================>..] - ETA: 0s - loss: 0.1860 - mse: 0.1860\n",
      "Epoch 40: val_mse did not improve from 0.22721\n",
      "192/192 [==============================] - 3s 15ms/step - loss: 0.1871 - mse: 0.1871 - val_loss: 0.2313 - val_mse: 0.2313\n",
      "Epoch 41/100\n",
      "188/192 [============================>.] - ETA: 0s - loss: 0.1883 - mse: 0.1883\n",
      "Epoch 41: val_mse did not improve from 0.22721\n",
      "192/192 [==============================] - 3s 15ms/step - loss: 0.1881 - mse: 0.1881 - val_loss: 0.2355 - val_mse: 0.2355\n",
      "Epoch 42/100\n",
      "189/192 [============================>.] - ETA: 0s - loss: 0.1834 - mse: 0.1834\n",
      "Epoch 42: val_mse did not improve from 0.22721\n",
      "192/192 [==============================] - 3s 15ms/step - loss: 0.1830 - mse: 0.1830 - val_loss: 0.2395 - val_mse: 0.2395\n",
      "Epoch 43/100\n",
      "180/192 [===========================>..] - ETA: 0s - loss: 0.1882 - mse: 0.1882\n",
      "Epoch 43: val_mse did not improve from 0.22721\n",
      "192/192 [==============================] - 3s 16ms/step - loss: 0.1879 - mse: 0.1879 - val_loss: 0.2379 - val_mse: 0.2379\n",
      "Epoch 44/100\n",
      "182/192 [===========================>..] - ETA: 0s - loss: 0.1880 - mse: 0.1880\n",
      "Epoch 44: val_mse did not improve from 0.22721\n",
      "192/192 [==============================] - 3s 15ms/step - loss: 0.1882 - mse: 0.1882 - val_loss: 0.2353 - val_mse: 0.2353\n",
      "Epoch 45/100\n",
      "183/192 [===========================>..] - ETA: 0s - loss: 0.1858 - mse: 0.1858\n",
      "Epoch 45: val_mse did not improve from 0.22721\n",
      "192/192 [==============================] - 3s 15ms/step - loss: 0.1863 - mse: 0.1863 - val_loss: 0.2317 - val_mse: 0.2317\n",
      "Epoch 46/100\n",
      "192/192 [==============================] - ETA: 0s - loss: 0.1864 - mse: 0.1864\n",
      "Epoch 46: val_mse did not improve from 0.22721\n",
      "192/192 [==============================] - 3s 16ms/step - loss: 0.1864 - mse: 0.1864 - val_loss: 0.2320 - val_mse: 0.2320\n",
      "Epoch 47/100\n",
      "182/192 [===========================>..] - ETA: 0s - loss: 0.1851 - mse: 0.1851\n",
      "Epoch 47: val_mse did not improve from 0.22721\n",
      "192/192 [==============================] - 3s 15ms/step - loss: 0.1843 - mse: 0.1843 - val_loss: 0.2339 - val_mse: 0.2339\n",
      "Epoch 48/100\n",
      "185/192 [===========================>..] - ETA: 0s - loss: 0.1841 - mse: 0.1841\n",
      "Epoch 48: val_mse did not improve from 0.22721\n",
      "192/192 [==============================] - 3s 15ms/step - loss: 0.1841 - mse: 0.1841 - val_loss: 0.2343 - val_mse: 0.2343\n",
      "Epoch 49/100\n",
      "184/192 [===========================>..] - ETA: 0s - loss: 0.1856 - mse: 0.1856\n",
      "Epoch 49: val_mse did not improve from 0.22721\n",
      "192/192 [==============================] - 3s 15ms/step - loss: 0.1858 - mse: 0.1858 - val_loss: 0.2335 - val_mse: 0.2335\n",
      "Epoch 50/100\n",
      "185/192 [===========================>..] - ETA: 0s - loss: 0.1840 - mse: 0.1840\n",
      "Epoch 50: val_mse did not improve from 0.22721\n",
      "192/192 [==============================] - 3s 15ms/step - loss: 0.1837 - mse: 0.1837 - val_loss: 0.2332 - val_mse: 0.2332\n",
      "Epoch 51/100\n",
      "192/192 [==============================] - ETA: 0s - loss: 0.1843 - mse: 0.1843\n",
      "Epoch 51: val_mse did not improve from 0.22721\n",
      "192/192 [==============================] - 3s 16ms/step - loss: 0.1843 - mse: 0.1843 - val_loss: 0.2350 - val_mse: 0.2350\n",
      "Epoch 52/100\n",
      "191/192 [============================>.] - ETA: 0s - loss: 0.1857 - mse: 0.1857\n",
      "Epoch 52: val_mse did not improve from 0.22721\n",
      "192/192 [==============================] - 3s 16ms/step - loss: 0.1858 - mse: 0.1858 - val_loss: 0.2314 - val_mse: 0.2314\n",
      "Epoch 53/100\n",
      "190/192 [============================>.] - ETA: 0s - loss: 0.1820 - mse: 0.1820\n",
      "Epoch 53: val_mse did not improve from 0.22721\n",
      "192/192 [==============================] - 3s 15ms/step - loss: 0.1821 - mse: 0.1821 - val_loss: 0.2337 - val_mse: 0.2337\n",
      "Epoch 54/100\n",
      "181/192 [===========================>..] - ETA: 0s - loss: 0.1840 - mse: 0.1840\n",
      "Epoch 54: val_mse did not improve from 0.22721\n",
      "192/192 [==============================] - 3s 15ms/step - loss: 0.1841 - mse: 0.1841 - val_loss: 0.2344 - val_mse: 0.2344\n",
      "Epoch 55/100\n",
      "178/192 [==========================>...] - ETA: 0s - loss: 0.1812 - mse: 0.1812\n",
      "Epoch 55: val_mse did not improve from 0.22721\n",
      "192/192 [==============================] - 3s 15ms/step - loss: 0.1813 - mse: 0.1813 - val_loss: 0.2301 - val_mse: 0.2301\n",
      "Epoch 56/100\n",
      "188/192 [============================>.] - ETA: 0s - loss: 0.1823 - mse: 0.1823\n",
      "Epoch 56: val_mse did not improve from 0.22721\n",
      "192/192 [==============================] - 3s 15ms/step - loss: 0.1820 - mse: 0.1820 - val_loss: 0.2343 - val_mse: 0.2343\n",
      "Epoch 57/100\n",
      "184/192 [===========================>..] - ETA: 0s - loss: 0.1854 - mse: 0.1854\n",
      "Epoch 57: val_mse did not improve from 0.22721\n",
      "192/192 [==============================] - 3s 15ms/step - loss: 0.1848 - mse: 0.1848 - val_loss: 0.2350 - val_mse: 0.2350\n",
      "Epoch 58/100\n",
      "190/192 [============================>.] - ETA: 0s - loss: 0.1840 - mse: 0.1840\n",
      "Epoch 58: val_mse did not improve from 0.22721\n",
      "192/192 [==============================] - 3s 15ms/step - loss: 0.1847 - mse: 0.1847 - val_loss: 0.2365 - val_mse: 0.2365\n",
      "Epoch 59/100\n",
      "180/192 [===========================>..] - ETA: 0s - loss: 0.1805 - mse: 0.1805\n",
      "Epoch 59: val_mse did not improve from 0.22721\n",
      "192/192 [==============================] - 3s 16ms/step - loss: 0.1811 - mse: 0.1811 - val_loss: 0.2345 - val_mse: 0.2345\n",
      "Epoch 60/100\n",
      "192/192 [==============================] - ETA: 0s - loss: 0.1824 - mse: 0.1824\n",
      "Epoch 60: val_mse did not improve from 0.22721\n",
      "192/192 [==============================] - 3s 15ms/step - loss: 0.1824 - mse: 0.1824 - val_loss: 0.2324 - val_mse: 0.2324\n",
      "Epoch 61/100\n",
      "182/192 [===========================>..] - ETA: 0s - loss: 0.1804 - mse: 0.1804\n",
      "Epoch 61: val_mse did not improve from 0.22721\n",
      "192/192 [==============================] - 3s 16ms/step - loss: 0.1799 - mse: 0.1799 - val_loss: 0.2380 - val_mse: 0.2380\n",
      "Epoch 62/100\n"
     ]
    },
    {
     "name": "stdout",
     "output_type": "stream",
     "text": [
      "188/192 [============================>.] - ETA: 0s - loss: 0.1800 - mse: 0.1800\n",
      "Epoch 62: val_mse did not improve from 0.22721\n",
      "192/192 [==============================] - 3s 17ms/step - loss: 0.1799 - mse: 0.1799 - val_loss: 0.2362 - val_mse: 0.2362\n",
      "Epoch 63/100\n",
      "184/192 [===========================>..] - ETA: 0s - loss: 0.1820 - mse: 0.1820\n",
      "Epoch 63: val_mse did not improve from 0.22721\n",
      "192/192 [==============================] - 3s 15ms/step - loss: 0.1816 - mse: 0.1816 - val_loss: 0.2370 - val_mse: 0.2370\n",
      "Epoch 64/100\n",
      "185/192 [===========================>..] - ETA: 0s - loss: 0.1812 - mse: 0.1812\n",
      "Epoch 64: val_mse did not improve from 0.22721\n",
      "192/192 [==============================] - 3s 16ms/step - loss: 0.1812 - mse: 0.1812 - val_loss: 0.2355 - val_mse: 0.2355\n",
      "Epoch 65/100\n",
      "184/192 [===========================>..] - ETA: 0s - loss: 0.1851 - mse: 0.1851\n",
      "Epoch 65: val_mse did not improve from 0.22721\n",
      "192/192 [==============================] - 3s 18ms/step - loss: 0.1844 - mse: 0.1844 - val_loss: 0.2367 - val_mse: 0.2367\n",
      "Epoch 66/100\n",
      "181/192 [===========================>..] - ETA: 0s - loss: 0.1804 - mse: 0.1804\n",
      "Epoch 66: val_mse did not improve from 0.22721\n",
      "192/192 [==============================] - 3s 15ms/step - loss: 0.1804 - mse: 0.1804 - val_loss: 0.2367 - val_mse: 0.2367\n",
      "Epoch 67/100\n",
      "187/192 [============================>.] - ETA: 0s - loss: 0.1790 - mse: 0.1790\n",
      "Epoch 67: val_mse did not improve from 0.22721\n",
      "192/192 [==============================] - 3s 16ms/step - loss: 0.1797 - mse: 0.1797 - val_loss: 0.2326 - val_mse: 0.2326\n",
      "Epoch 68/100\n",
      "192/192 [==============================] - ETA: 0s - loss: 0.1769 - mse: 0.1769\n",
      "Epoch 68: val_mse did not improve from 0.22721\n",
      "192/192 [==============================] - 3s 15ms/step - loss: 0.1769 - mse: 0.1769 - val_loss: 0.2356 - val_mse: 0.2356\n",
      "Epoch 69/100\n",
      "186/192 [============================>.] - ETA: 0s - loss: 0.1801 - mse: 0.1801\n",
      "Epoch 69: val_mse did not improve from 0.22721\n",
      "192/192 [==============================] - 3s 15ms/step - loss: 0.1800 - mse: 0.1800 - val_loss: 0.2323 - val_mse: 0.2323\n",
      "Epoch 70/100\n",
      "181/192 [===========================>..] - ETA: 0s - loss: 0.1794 - mse: 0.1794\n",
      "Epoch 70: val_mse did not improve from 0.22721\n",
      "192/192 [==============================] - 3s 17ms/step - loss: 0.1792 - mse: 0.1792 - val_loss: 0.2382 - val_mse: 0.2382\n",
      "Epoch 71/100\n",
      "186/192 [============================>.] - ETA: 0s - loss: 0.1827 - mse: 0.1827\n",
      "Epoch 71: val_mse did not improve from 0.22721\n",
      "192/192 [==============================] - 3s 16ms/step - loss: 0.1825 - mse: 0.1825 - val_loss: 0.2362 - val_mse: 0.2362\n",
      "Epoch 72/100\n",
      "176/192 [==========================>...] - ETA: 0s - loss: 0.1787 - mse: 0.1787\n",
      "Epoch 72: val_mse did not improve from 0.22721\n",
      "192/192 [==============================] - 3s 16ms/step - loss: 0.1789 - mse: 0.1789 - val_loss: 0.2403 - val_mse: 0.2403\n",
      "Epoch 73/100\n",
      "180/192 [===========================>..] - ETA: 0s - loss: 0.1791 - mse: 0.1791\n",
      "Epoch 73: val_mse did not improve from 0.22721\n",
      "192/192 [==============================] - 3s 17ms/step - loss: 0.1789 - mse: 0.1789 - val_loss: 0.2386 - val_mse: 0.2386\n",
      "Epoch 74/100\n",
      "184/192 [===========================>..] - ETA: 0s - loss: 0.1810 - mse: 0.1810\n",
      "Epoch 74: val_mse did not improve from 0.22721\n",
      "192/192 [==============================] - 3s 14ms/step - loss: 0.1798 - mse: 0.1798 - val_loss: 0.2364 - val_mse: 0.2364\n",
      "Epoch 75/100\n",
      "191/192 [============================>.] - ETA: 0s - loss: 0.1774 - mse: 0.1774\n",
      "Epoch 75: val_mse did not improve from 0.22721\n",
      "192/192 [==============================] - 3s 15ms/step - loss: 0.1777 - mse: 0.1777 - val_loss: 0.2390 - val_mse: 0.2390\n",
      "Epoch 76/100\n",
      "182/192 [===========================>..] - ETA: 0s - loss: 0.1806 - mse: 0.1806\n",
      "Epoch 76: val_mse did not improve from 0.22721\n",
      "192/192 [==============================] - 3s 15ms/step - loss: 0.1802 - mse: 0.1802 - val_loss: 0.2413 - val_mse: 0.2413\n",
      "Epoch 77/100\n",
      "179/192 [==========================>...] - ETA: 0s - loss: 0.1756 - mse: 0.1756\n",
      "Epoch 77: val_mse did not improve from 0.22721\n",
      "192/192 [==============================] - 3s 16ms/step - loss: 0.1764 - mse: 0.1764 - val_loss: 0.2441 - val_mse: 0.2441\n",
      "Epoch 78/100\n",
      "187/192 [============================>.] - ETA: 0s - loss: 0.1770 - mse: 0.1770\n",
      "Epoch 78: val_mse did not improve from 0.22721\n",
      "192/192 [==============================] - 3s 17ms/step - loss: 0.1769 - mse: 0.1769 - val_loss: 0.2351 - val_mse: 0.2351\n",
      "Epoch 79/100\n",
      "187/192 [============================>.] - ETA: 0s - loss: 0.1736 - mse: 0.1736\n",
      "Epoch 79: val_mse did not improve from 0.22721\n",
      "192/192 [==============================] - 3s 15ms/step - loss: 0.1741 - mse: 0.1741 - val_loss: 0.2359 - val_mse: 0.2359\n",
      "Epoch 80/100\n",
      "192/192 [==============================] - ETA: 0s - loss: 0.1770 - mse: 0.1770\n",
      "Epoch 80: val_mse did not improve from 0.22721\n",
      "192/192 [==============================] - 3s 17ms/step - loss: 0.1770 - mse: 0.1770 - val_loss: 0.2385 - val_mse: 0.2385\n",
      "Epoch 81/100\n",
      "191/192 [============================>.] - ETA: 0s - loss: 0.1777 - mse: 0.1777\n",
      "Epoch 81: val_mse did not improve from 0.22721\n",
      "192/192 [==============================] - 3s 17ms/step - loss: 0.1775 - mse: 0.1775 - val_loss: 0.2402 - val_mse: 0.2402\n",
      "Epoch 82/100\n",
      "183/192 [===========================>..] - ETA: 0s - loss: 0.1823 - mse: 0.1823\n",
      "Epoch 82: val_mse did not improve from 0.22721\n",
      "192/192 [==============================] - 3s 16ms/step - loss: 0.1820 - mse: 0.1820 - val_loss: 0.2403 - val_mse: 0.2403\n",
      "Epoch 83/100\n",
      "181/192 [===========================>..] - ETA: 0s - loss: 0.1764 - mse: 0.1764\n",
      "Epoch 83: val_mse did not improve from 0.22721\n",
      "192/192 [==============================] - 3s 18ms/step - loss: 0.1761 - mse: 0.1761 - val_loss: 0.2332 - val_mse: 0.2332\n",
      "Epoch 84/100\n",
      "179/192 [==========================>...] - ETA: 0s - loss: 0.1772 - mse: 0.1772\n",
      "Epoch 84: val_mse did not improve from 0.22721\n",
      "192/192 [==============================] - 3s 15ms/step - loss: 0.1769 - mse: 0.1769 - val_loss: 0.2342 - val_mse: 0.2342\n",
      "Epoch 85/100\n",
      "178/192 [==========================>...] - ETA: 0s - loss: 0.1789 - mse: 0.1789\n",
      "Epoch 85: val_mse did not improve from 0.22721\n",
      "192/192 [==============================] - 3s 15ms/step - loss: 0.1786 - mse: 0.1786 - val_loss: 0.2357 - val_mse: 0.2357\n",
      "Epoch 86/100\n",
      "190/192 [============================>.] - ETA: 0s - loss: 0.1801 - mse: 0.1801\n",
      "Epoch 86: val_mse did not improve from 0.22721\n",
      "192/192 [==============================] - 3s 17ms/step - loss: 0.1800 - mse: 0.1800 - val_loss: 0.2351 - val_mse: 0.2351\n",
      "Epoch 87/100\n",
      "190/192 [============================>.] - ETA: 0s - loss: 0.1767 - mse: 0.1767\n",
      "Epoch 87: val_mse did not improve from 0.22721\n",
      "192/192 [==============================] - 3s 17ms/step - loss: 0.1762 - mse: 0.1762 - val_loss: 0.2363 - val_mse: 0.2363\n",
      "Epoch 88/100\n",
      "185/192 [===========================>..] - ETA: 0s - loss: 0.1754 - mse: 0.1754\n",
      "Epoch 88: val_mse did not improve from 0.22721\n",
      "192/192 [==============================] - 4s 22ms/step - loss: 0.1756 - mse: 0.1756 - val_loss: 0.2396 - val_mse: 0.2396\n",
      "Epoch 89/100\n",
      "187/192 [============================>.] - ETA: 0s - loss: 0.1780 - mse: 0.1780\n",
      "Epoch 89: val_mse did not improve from 0.22721\n",
      "192/192 [==============================] - 3s 18ms/step - loss: 0.1783 - mse: 0.1783 - val_loss: 0.2348 - val_mse: 0.2348\n",
      "Epoch 90/100\n",
      "181/192 [===========================>..] - ETA: 0s - loss: 0.1786 - mse: 0.1786\n",
      "Epoch 90: val_mse did not improve from 0.22721\n",
      "192/192 [==============================] - 3s 18ms/step - loss: 0.1786 - mse: 0.1786 - val_loss: 0.2338 - val_mse: 0.2338\n",
      "Epoch 91/100\n",
      "177/192 [==========================>...] - ETA: 0s - loss: 0.1760 - mse: 0.1760\n",
      "Epoch 91: val_mse did not improve from 0.22721\n",
      "192/192 [==============================] - 3s 16ms/step - loss: 0.1768 - mse: 0.1768 - val_loss: 0.2367 - val_mse: 0.2367\n",
      "Epoch 92/100\n",
      "180/192 [===========================>..] - ETA: 0s - loss: 0.1774 - mse: 0.1774\n",
      "Epoch 92: val_mse did not improve from 0.22721\n",
      "192/192 [==============================] - 3s 16ms/step - loss: 0.1764 - mse: 0.1764 - val_loss: 0.2379 - val_mse: 0.2379\n",
      "Epoch 93/100\n"
     ]
    },
    {
     "name": "stdout",
     "output_type": "stream",
     "text": [
      "180/192 [===========================>..] - ETA: 0s - loss: 0.1777 - mse: 0.1777\n",
      "Epoch 93: val_mse did not improve from 0.22721\n",
      "192/192 [==============================] - 3s 18ms/step - loss: 0.1774 - mse: 0.1774 - val_loss: 0.2378 - val_mse: 0.2378\n",
      "Epoch 94/100\n",
      "182/192 [===========================>..] - ETA: 0s - loss: 0.1755 - mse: 0.1755\n",
      "Epoch 94: val_mse did not improve from 0.22721\n",
      "192/192 [==============================] - 3s 15ms/step - loss: 0.1752 - mse: 0.1752 - val_loss: 0.2412 - val_mse: 0.2412\n",
      "Epoch 95/100\n",
      "178/192 [==========================>...] - ETA: 0s - loss: 0.1753 - mse: 0.1753\n",
      "Epoch 95: val_mse did not improve from 0.22721\n",
      "192/192 [==============================] - 3s 15ms/step - loss: 0.1757 - mse: 0.1757 - val_loss: 0.2378 - val_mse: 0.2378\n",
      "Epoch 96/100\n",
      "192/192 [==============================] - ETA: 0s - loss: 0.1733 - mse: 0.1733\n",
      "Epoch 96: val_mse did not improve from 0.22721\n",
      "192/192 [==============================] - 3s 16ms/step - loss: 0.1733 - mse: 0.1733 - val_loss: 0.2381 - val_mse: 0.2381\n",
      "Epoch 97/100\n",
      "180/192 [===========================>..] - ETA: 0s - loss: 0.1770 - mse: 0.1770\n",
      "Epoch 97: val_mse did not improve from 0.22721\n",
      "192/192 [==============================] - 3s 15ms/step - loss: 0.1766 - mse: 0.1766 - val_loss: 0.2407 - val_mse: 0.2407\n",
      "Epoch 98/100\n",
      "189/192 [============================>.] - ETA: 0s - loss: 0.1770 - mse: 0.1770\n",
      "Epoch 98: val_mse did not improve from 0.22721\n",
      "192/192 [==============================] - 3s 15ms/step - loss: 0.1772 - mse: 0.1772 - val_loss: 0.2434 - val_mse: 0.2434\n",
      "Epoch 99/100\n",
      "191/192 [============================>.] - ETA: 0s - loss: 0.1765 - mse: 0.1765\n",
      "Epoch 99: val_mse did not improve from 0.22721\n",
      "192/192 [==============================] - 3s 16ms/step - loss: 0.1766 - mse: 0.1766 - val_loss: 0.2354 - val_mse: 0.2354\n",
      "Epoch 100/100\n",
      "184/192 [===========================>..] - ETA: 0s - loss: 0.1780 - mse: 0.1780\n",
      "Epoch 100: val_mse did not improve from 0.22721\n",
      "192/192 [==============================] - 3s 15ms/step - loss: 0.1778 - mse: 0.1778 - val_loss: 0.2354 - val_mse: 0.2354\n"
     ]
    }
   ],
   "source": [
    "model.fit(molecule_pairs_merged_train, epochs=100)"
   ]
  },
  {
   "cell_type": "code",
   "execution_count": 28,
   "id": "fc84ce62",
   "metadata": {},
   "outputs": [],
   "source": [
    "model.load_best_model()"
   ]
  },
  {
   "cell_type": "markdown",
   "id": "05ec870a",
   "metadata": {},
   "source": [
    "## Performance"
   ]
  },
  {
   "cell_type": "code",
   "execution_count": 29,
   "id": "8473c188",
   "metadata": {},
   "outputs": [
    {
     "name": "stdout",
     "output_type": "stream",
     "text": [
      "240/240 [==============================] - 6s 2ms/step\n"
     ]
    }
   ],
   "source": [
    "prediction_results_train = model.predict(molecule_pairs_merged_train)"
   ]
  },
  {
   "cell_type": "code",
   "execution_count": 30,
   "id": "59dcf412",
   "metadata": {},
   "outputs": [
    {
     "data": {
      "text/plain": [
       "(array([1426.,  665.,  194.,  107.,  100.,   95.,  112.,  129.,  209.,\n",
       "        4638.]),\n",
       " array([0.00910435, 0.10819393, 0.20728353, 0.30637312, 0.40546271,\n",
       "        0.5045523 , 0.60364187, 0.70273149, 0.80182105, 0.90091068,\n",
       "        1.00000024]),\n",
       " <BarContainer object of 10 artists>)"
      ]
     },
     "execution_count": 30,
     "metadata": {},
     "output_type": "execute_result"
    },
    {
     "data": {
      "image/png": "[encoded data removed]",
      "text/plain": [
       "<Figure size 640x480 with 1 Axes>"
      ]
     },
     "metadata": {},
     "output_type": "display_data"
    }
   ],
   "source": [
    "plt.hist(prediction_results_train, bins=10)"
   ]
  },
  {
   "cell_type": "code",
   "execution_count": 31,
   "id": "39ec1714",
   "metadata": {},
   "outputs": [
    {
     "name": "stdout",
     "output_type": "stream",
     "text": [
      "80/80 [==============================] - 4s 2ms/step\n"
     ]
    }
   ],
   "source": [
    "prediction_results_test = model.predict(molecule_pairs_merged_test)"
   ]
  },
  {
   "cell_type": "code",
   "execution_count": 32,
   "id": "09009a6f",
   "metadata": {},
   "outputs": [
    {
     "data": {
      "image/png": "[encoded data removed]",
      "text/plain": [
       "<Figure size 640x480 with 1 Axes>"
      ]
     },
     "metadata": {},
     "output_type": "display_data"
    }
   ],
   "source": [
    "similarity_train =[m.similarity for m in molecule_pairs_merged_train]\n",
    "plt.scatter(similarity_train, prediction_results_train, alpha=0.01)\n",
    "plt.title('Prediction of Taminoto score (TRAIN)')\n",
    "plt.xlabel('true')\n",
    "plt.ylabel('pred')\n",
    "plt.grid()"
   ]
  },
  {
   "cell_type": "code",
   "execution_count": 33,
   "id": "66c13c42",
   "metadata": {},
   "outputs": [
    {
     "data": {
      "text/plain": [
       "0.3636419486014717"
      ]
     },
     "execution_count": 33,
     "metadata": {},
     "output_type": "execute_result"
    }
   ],
   "source": [
    "r2_score(similarity_train, prediction_results_train)"
   ]
  },
  {
   "cell_type": "code",
   "execution_count": 34,
   "id": "30e214ad",
   "metadata": {},
   "outputs": [
    {
     "data": {
      "image/png": "[encoded data removed]",
      "text/plain": [
       "<Figure size 640x480 with 1 Axes>"
      ]
     },
     "metadata": {},
     "output_type": "display_data"
    }
   ],
   "source": [
    "similarity_test= [m.similarity for m in molecule_pairs_merged_test]\n",
    "plt.scatter(similarity_test, prediction_results_test, alpha=0.01)\n",
    "plt.title('Prediction of Taminoto score (test)')\n",
    "plt.xlabel('true')\n",
    "plt.ylabel('pred')\n",
    "plt.grid()"
   ]
  },
  {
   "cell_type": "code",
   "execution_count": 35,
   "id": "df1b6bb0",
   "metadata": {},
   "outputs": [
    {
     "data": {
      "text/plain": [
       "-0.0012273870699959222"
      ]
     },
     "execution_count": 35,
     "metadata": {},
     "output_type": "execute_result"
    }
   ],
   "source": [
    "r2_score(similarity_test, prediction_results_test)"
   ]
  },
  {
   "cell_type": "code",
   "execution_count": null,
   "id": "b574a05d",
   "metadata": {},
   "outputs": [],
   "source": []
  },
  {
   "cell_type": "code",
   "execution_count": null,
   "id": "f1f09cc9",
   "metadata": {},
   "outputs": [],
   "source": []
  }
 ],
 "metadata": {
  "kernelspec": {
   "display_name": "Python 3 (ipykernel)",
   "language": "python",
   "name": "python3"
  },
  "language_info": {
   "codemirror_mode": {
    "name": "ipython",
    "version": 3
   },
   "file_extension": ".py",
   "mimetype": "text/x-python",
   "name": "python",
   "nbconvert_exporter": "python",
   "pygments_lexer": "ipython3",
   "version": "3.11.3"
  }
 },
 "nbformat": 4,
 "nbformat_minor": 5
}
